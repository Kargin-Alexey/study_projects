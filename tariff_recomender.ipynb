{
 "cells": [
  {
   "cell_type": "markdown",
   "metadata": {},
   "source": [
    "# Рекомендация тарифов"
   ]
  },
  {
   "cell_type": "markdown",
   "metadata": {},
   "source": [
    "В вашем распоряжении данные о поведении клиентов, которые уже перешли на эти тарифы (из проекта курса «Статистический анализ данных»). Нужно построить модель для задачи классификации, которая выберет подходящий тариф. Предобработка данных не понадобится — вы её уже сделали.\n",
    "\n",
    "Постройте модель с максимально большим значением *accuracy*. Чтобы сдать проект успешно, нужно довести долю правильных ответов по крайней мере до 0.75. Проверьте *accuracy* на тестовой выборке самостоятельно."
   ]
  },
  {
   "cell_type": "markdown",
   "metadata": {},
   "source": [
    "## Откроем и изучим файлы\n",
    "Импортируем необходимые библиотеки и функции. Откроем датасет."
   ]
  },
  {
   "cell_type": "code",
   "execution_count": 1,
   "metadata": {},
   "outputs": [],
   "source": [
    "import pandas as pd\n",
    "from sklearn.tree import DecisionTreeClassifier\n",
    "from sklearn.ensemble import RandomForestClassifier\n",
    "from sklearn.linear_model import LogisticRegression\n",
    "from sklearn.model_selection import train_test_split\n",
    "from sklearn.metrics import accuracy_score\n",
    "from sklearn.metrics import log_loss"
   ]
  },
  {
   "cell_type": "code",
   "execution_count": 2,
   "metadata": {},
   "outputs": [],
   "source": [
    "df = pd.read_csv('/datasets/users_behavior.csv')"
   ]
  },
  {
   "cell_type": "code",
   "execution_count": 3,
   "metadata": {},
   "outputs": [
    {
     "data": {
      "text/html": [
       "<div>\n",
       "<style scoped>\n",
       "    .dataframe tbody tr th:only-of-type {\n",
       "        vertical-align: middle;\n",
       "    }\n",
       "\n",
       "    .dataframe tbody tr th {\n",
       "        vertical-align: top;\n",
       "    }\n",
       "\n",
       "    .dataframe thead th {\n",
       "        text-align: right;\n",
       "    }\n",
       "</style>\n",
       "<table border=\"1\" class=\"dataframe\">\n",
       "  <thead>\n",
       "    <tr style=\"text-align: right;\">\n",
       "      <th></th>\n",
       "      <th>calls</th>\n",
       "      <th>minutes</th>\n",
       "      <th>messages</th>\n",
       "      <th>mb_used</th>\n",
       "      <th>is_ultra</th>\n",
       "    </tr>\n",
       "  </thead>\n",
       "  <tbody>\n",
       "    <tr>\n",
       "      <td>0</td>\n",
       "      <td>40.0</td>\n",
       "      <td>311.90</td>\n",
       "      <td>83.0</td>\n",
       "      <td>19915.42</td>\n",
       "      <td>0</td>\n",
       "    </tr>\n",
       "    <tr>\n",
       "      <td>1</td>\n",
       "      <td>85.0</td>\n",
       "      <td>516.75</td>\n",
       "      <td>56.0</td>\n",
       "      <td>22696.96</td>\n",
       "      <td>0</td>\n",
       "    </tr>\n",
       "    <tr>\n",
       "      <td>2</td>\n",
       "      <td>77.0</td>\n",
       "      <td>467.66</td>\n",
       "      <td>86.0</td>\n",
       "      <td>21060.45</td>\n",
       "      <td>0</td>\n",
       "    </tr>\n",
       "    <tr>\n",
       "      <td>3</td>\n",
       "      <td>106.0</td>\n",
       "      <td>745.53</td>\n",
       "      <td>81.0</td>\n",
       "      <td>8437.39</td>\n",
       "      <td>1</td>\n",
       "    </tr>\n",
       "    <tr>\n",
       "      <td>4</td>\n",
       "      <td>66.0</td>\n",
       "      <td>418.74</td>\n",
       "      <td>1.0</td>\n",
       "      <td>14502.75</td>\n",
       "      <td>0</td>\n",
       "    </tr>\n",
       "    <tr>\n",
       "      <td>...</td>\n",
       "      <td>...</td>\n",
       "      <td>...</td>\n",
       "      <td>...</td>\n",
       "      <td>...</td>\n",
       "      <td>...</td>\n",
       "    </tr>\n",
       "    <tr>\n",
       "      <td>3209</td>\n",
       "      <td>122.0</td>\n",
       "      <td>910.98</td>\n",
       "      <td>20.0</td>\n",
       "      <td>35124.90</td>\n",
       "      <td>1</td>\n",
       "    </tr>\n",
       "    <tr>\n",
       "      <td>3210</td>\n",
       "      <td>25.0</td>\n",
       "      <td>190.36</td>\n",
       "      <td>0.0</td>\n",
       "      <td>3275.61</td>\n",
       "      <td>0</td>\n",
       "    </tr>\n",
       "    <tr>\n",
       "      <td>3211</td>\n",
       "      <td>97.0</td>\n",
       "      <td>634.44</td>\n",
       "      <td>70.0</td>\n",
       "      <td>13974.06</td>\n",
       "      <td>0</td>\n",
       "    </tr>\n",
       "    <tr>\n",
       "      <td>3212</td>\n",
       "      <td>64.0</td>\n",
       "      <td>462.32</td>\n",
       "      <td>90.0</td>\n",
       "      <td>31239.78</td>\n",
       "      <td>0</td>\n",
       "    </tr>\n",
       "    <tr>\n",
       "      <td>3213</td>\n",
       "      <td>80.0</td>\n",
       "      <td>566.09</td>\n",
       "      <td>6.0</td>\n",
       "      <td>29480.52</td>\n",
       "      <td>1</td>\n",
       "    </tr>\n",
       "  </tbody>\n",
       "</table>\n",
       "<p>3214 rows × 5 columns</p>\n",
       "</div>"
      ],
      "text/plain": [
       "      calls  minutes  messages   mb_used  is_ultra\n",
       "0      40.0   311.90      83.0  19915.42         0\n",
       "1      85.0   516.75      56.0  22696.96         0\n",
       "2      77.0   467.66      86.0  21060.45         0\n",
       "3     106.0   745.53      81.0   8437.39         1\n",
       "4      66.0   418.74       1.0  14502.75         0\n",
       "...     ...      ...       ...       ...       ...\n",
       "3209  122.0   910.98      20.0  35124.90         1\n",
       "3210   25.0   190.36       0.0   3275.61         0\n",
       "3211   97.0   634.44      70.0  13974.06         0\n",
       "3212   64.0   462.32      90.0  31239.78         0\n",
       "3213   80.0   566.09       6.0  29480.52         1\n",
       "\n",
       "[3214 rows x 5 columns]"
      ]
     },
     "execution_count": 3,
     "metadata": {},
     "output_type": "execute_result"
    }
   ],
   "source": [
    "df"
   ]
  },
  {
   "cell_type": "markdown",
   "metadata": {},
   "source": [
    "Данные не трубуют предобработки. Для машинного обучение необходимо только разбить датасет на признаки и целевые значения."
   ]
  },
  {
   "cell_type": "markdown",
   "metadata": {},
   "source": [
    "## Разбейте данные на выборки\n",
    "Разобьём данные на признаки и целевые значения. Также выделим обучающую, валидационную и тестовую выборки в пропорциях 0.6, 0.2, 0.2 соответсвенно."
   ]
  },
  {
   "cell_type": "code",
   "execution_count": 4,
   "metadata": {},
   "outputs": [],
   "source": [
    "features = df.drop(['is_ultra'],axis=1)\n",
    "target = df['is_ultra']\n",
    "\n",
    "features_train, features_valid, target_train, target_valid = train_test_split(\n",
    "    features, target, test_size=0.40, random_state=12345)\n",
    "\n",
    "features_test, features_valid, target_test, target_valid = train_test_split(\n",
    "    features_valid, target_valid, test_size=0.50, random_state=12345)"
   ]
  },
  {
   "cell_type": "markdown",
   "metadata": {},
   "source": [
    "Проверим, как коррелируют признаки. "
   ]
  },
  {
   "cell_type": "code",
   "execution_count": 5,
   "metadata": {},
   "outputs": [
    {
     "data": {
      "text/html": [
       "<div>\n",
       "<style scoped>\n",
       "    .dataframe tbody tr th:only-of-type {\n",
       "        vertical-align: middle;\n",
       "    }\n",
       "\n",
       "    .dataframe tbody tr th {\n",
       "        vertical-align: top;\n",
       "    }\n",
       "\n",
       "    .dataframe thead th {\n",
       "        text-align: right;\n",
       "    }\n",
       "</style>\n",
       "<table border=\"1\" class=\"dataframe\">\n",
       "  <thead>\n",
       "    <tr style=\"text-align: right;\">\n",
       "      <th></th>\n",
       "      <th>calls</th>\n",
       "      <th>minutes</th>\n",
       "      <th>messages</th>\n",
       "      <th>mb_used</th>\n",
       "      <th>is_ultra</th>\n",
       "    </tr>\n",
       "  </thead>\n",
       "  <tbody>\n",
       "    <tr>\n",
       "      <td>calls</td>\n",
       "      <td>1.000000</td>\n",
       "      <td>0.982083</td>\n",
       "      <td>0.177385</td>\n",
       "      <td>0.286442</td>\n",
       "      <td>0.207122</td>\n",
       "    </tr>\n",
       "    <tr>\n",
       "      <td>minutes</td>\n",
       "      <td>0.982083</td>\n",
       "      <td>1.000000</td>\n",
       "      <td>0.173110</td>\n",
       "      <td>0.280967</td>\n",
       "      <td>0.206955</td>\n",
       "    </tr>\n",
       "    <tr>\n",
       "      <td>messages</td>\n",
       "      <td>0.177385</td>\n",
       "      <td>0.173110</td>\n",
       "      <td>1.000000</td>\n",
       "      <td>0.195721</td>\n",
       "      <td>0.203830</td>\n",
       "    </tr>\n",
       "    <tr>\n",
       "      <td>mb_used</td>\n",
       "      <td>0.286442</td>\n",
       "      <td>0.280967</td>\n",
       "      <td>0.195721</td>\n",
       "      <td>1.000000</td>\n",
       "      <td>0.198568</td>\n",
       "    </tr>\n",
       "    <tr>\n",
       "      <td>is_ultra</td>\n",
       "      <td>0.207122</td>\n",
       "      <td>0.206955</td>\n",
       "      <td>0.203830</td>\n",
       "      <td>0.198568</td>\n",
       "      <td>1.000000</td>\n",
       "    </tr>\n",
       "  </tbody>\n",
       "</table>\n",
       "</div>"
      ],
      "text/plain": [
       "             calls   minutes  messages   mb_used  is_ultra\n",
       "calls     1.000000  0.982083  0.177385  0.286442  0.207122\n",
       "minutes   0.982083  1.000000  0.173110  0.280967  0.206955\n",
       "messages  0.177385  0.173110  1.000000  0.195721  0.203830\n",
       "mb_used   0.286442  0.280967  0.195721  1.000000  0.198568\n",
       "is_ultra  0.207122  0.206955  0.203830  0.198568  1.000000"
      ]
     },
     "execution_count": 5,
     "metadata": {},
     "output_type": "execute_result"
    }
   ],
   "source": [
    "df.corr()"
   ]
  },
  {
   "cell_type": "markdown",
   "metadata": {},
   "source": [
    "Сильная корреляция наблюдается только между минутами и звонками, как и должно быть. Все признаки одинаково коррелируют с целевым."
   ]
  },
  {
   "cell_type": "markdown",
   "metadata": {},
   "source": [
    "## Исследуйте модели"
   ]
  },
  {
   "cell_type": "markdown",
   "metadata": {},
   "source": [
    "Посмотри, как решающие деревья, случайный лес и логистическая регрессия справляются с данной задачей классификации.\n",
    "### Решающие деревья\n",
    "Меняя глубину дерева, подберем модель с наилучшими результатами на валидационной выборке. "
   ]
  },
  {
   "cell_type": "code",
   "execution_count": 6,
   "metadata": {},
   "outputs": [],
   "source": [
    "best_tree_model = None\n",
    "best_tree_result = 0\n",
    "best_tree_depth = 0\n",
    "for depth in range(1,10):\n",
    "    model = DecisionTreeClassifier(random_state=12345,max_depth=depth)\n",
    "    model.fit(features_train,target_train) \n",
    "    predictions = model.predict(features_valid)\n",
    "    result = accuracy_score(predictions,target_valid)\n",
    "    if result > best_tree_result:\n",
    "        best_tree_model = model\n",
    "        best_tree_result = result\n",
    "        best_tree_depth = depth"
   ]
  },
  {
   "cell_type": "code",
   "execution_count": 7,
   "metadata": {},
   "outputs": [
    {
     "name": "stdout",
     "output_type": "stream",
     "text": [
      "Процент правильных предсказанных ответов: 79.94% \n",
      "Глубина дерева: 7\n"
     ]
    }
   ],
   "source": [
    "print('Процент правильных предсказанных ответов: {:.2%} \\nГлубина дерева: {}'.format(best_tree_result, best_tree_depth))"
   ]
  },
  {
   "cell_type": "markdown",
   "metadata": {},
   "source": [
    "### Случайный лес\n",
    "Меняя количество деревьев и их глубину, подберем модель с наилучшими результатами на валидационной выборке. "
   ]
  },
  {
   "cell_type": "code",
   "execution_count": 8,
   "metadata": {},
   "outputs": [],
   "source": [
    "best_forest_model = None\n",
    "best_forest_result = 0\n",
    "best_forest_depth = 0\n",
    "best_forest_est = 0\n",
    "for est in range(10,15):\n",
    "    for depth in range(3,11):\n",
    "        model = RandomForestClassifier(random_state=12345, n_estimators=est, max_depth=depth)\n",
    "        model.fit(features_train,target_train)\n",
    "        result = model.score(features_valid, target_valid)\n",
    "        if result > best_forest_result:\n",
    "            best_forest_model = model\n",
    "            best_forest_result = result\n",
    "            best_forest_depth = depth\n",
    "            best_forest_est = est"
   ]
  },
  {
   "cell_type": "code",
   "execution_count": 9,
   "metadata": {},
   "outputs": [
    {
     "name": "stdout",
     "output_type": "stream",
     "text": [
      "Процент правильных предсказанных ответов: 81.49%\n",
      "Глубина деревьев: 9 \n",
      "Количество деревьев: 14\n"
     ]
    }
   ],
   "source": [
    "print('Процент правильных предсказанных ответов: {:.2%}\\nГлубина деревьев: {} \\nКоличество деревьев: {}'.format(\n",
    "    best_forest_result, best_forest_depth,best_forest_est))"
   ]
  },
  {
   "cell_type": "markdown",
   "metadata": {},
   "source": [
    "### Логистическая регрессия\n"
   ]
  },
  {
   "cell_type": "code",
   "execution_count": 10,
   "metadata": {},
   "outputs": [
    {
     "name": "stderr",
     "output_type": "stream",
     "text": [
      "/opt/conda/lib/python3.7/site-packages/sklearn/linear_model/logistic.py:432: FutureWarning: Default solver will be changed to 'lbfgs' in 0.22. Specify a solver to silence this warning.\n",
      "  FutureWarning)\n"
     ]
    }
   ],
   "source": [
    "logistic_model = LogisticRegression(random_state=12345)\n",
    "logistic_model.fit(features_train,target_train)\n",
    "logistic_result = logistic_model.score(features_valid, target_valid)"
   ]
  },
  {
   "cell_type": "code",
   "execution_count": 11,
   "metadata": {},
   "outputs": [
    {
     "name": "stdout",
     "output_type": "stream",
     "text": [
      "Процент правильных предсказанных ответов: 74.03%\n"
     ]
    }
   ],
   "source": [
    "print('Процент правильных предсказанных ответов: {:.2%}'.format(logistic_result))"
   ]
  },
  {
   "cell_type": "markdown",
   "metadata": {},
   "source": [
    "## Проверим модель на тестовой выборке\n",
    "Проверим accuracy на тестовой выборке для Логистической регрессии, случайного леса и решающих деревьев соответсвенноо:"
   ]
  },
  {
   "cell_type": "code",
   "execution_count": 12,
   "metadata": {},
   "outputs": [],
   "source": [
    "log_score = logistic_model.score(features_test, target_test)"
   ]
  },
  {
   "cell_type": "code",
   "execution_count": 13,
   "metadata": {},
   "outputs": [],
   "source": [
    "forest_score = best_forest_model.score(features_test, target_test)"
   ]
  },
  {
   "cell_type": "code",
   "execution_count": 14,
   "metadata": {},
   "outputs": [],
   "source": [
    "predictions = best_tree_model.predict(features_test)\n",
    "tree_score = accuracy_score(predictions,target_test)"
   ]
  },
  {
   "cell_type": "code",
   "execution_count": 15,
   "metadata": {},
   "outputs": [
    {
     "name": "stdout",
     "output_type": "stream",
     "text": [
      "Accuracy на тестовой выборке для различных моделей:\n",
      " Логистическая регрессия    0.758942\n",
      "Случайный лес              0.790047\n",
      "Решающие деревья           0.782271\n",
      "dtype: float64\n"
     ]
    }
   ],
   "source": [
    "print('Accuracy на тестовой выборке для различных моделей:\\n',\n",
    "      pd.Series(data={'Логистическая регрессия':log_score,\n",
    "                      'Случайный лес':forest_score,\n",
    "                      'Решающие деревья':tree_score}))"
   ]
  },
  {
   "cell_type": "markdown",
   "metadata": {},
   "source": [
    "Необходимо добиться acceracy не менее 75%.\n",
    "Лучший результат у случайного леса - 79%, хотя решающие деревья тоже показали хороший результат - 78%. \n",
    "У логистической регрессии результат близок к пороговому 76%."
   ]
  },
  {
   "cell_type": "markdown",
   "metadata": {},
   "source": [
    "\n",
    "<div class=\"alert alert-info\">\n",
    "<h1>Комментарий ревьюера <a class=\"tocSkip\"></a></h1>\n",
    "Круто было бы еще иметь сводную табличку с результатами. Было бы наглядно:)\n",
    "</div>"
   ]
  },
  {
   "cell_type": "markdown",
   "metadata": {},
   "source": [
    "## Проверим модели на адекватность\n",
    "Для поверки адекватности используем функцию log_loss, учитывающую вероятность предсказания класса в каждом случае, а не только правильно предсказанные классы."
   ]
  },
  {
   "cell_type": "code",
   "execution_count": 16,
   "metadata": {},
   "outputs": [
    {
     "name": "stdout",
     "output_type": "stream",
     "text": [
      "log_loss на тестовой выборке для различных моделей:\n",
      " \n",
      " Логистическая регрессия    1.565888\n",
      "Случайный лес              0.636502\n",
      "Решающие деревья           0.569699\n",
      "dtype: float64\n"
     ]
    }
   ],
   "source": [
    "print('log_loss на тестовой выборке для различных моделей:\\n \\n',\n",
    "      pd.Series(data={'Логистическая регрессия':log_loss(target_test,best_tree_model.predict_proba(features_test)),\n",
    "                      'Случайный лес':log_loss(target_test,best_forest_model.predict_proba(features_test)),\n",
    "                      'Решающие деревья':log_loss(target_test,logistic_model.predict_proba(features_test))}))"
   ]
  },
  {
   "cell_type": "markdown",
   "metadata": {},
   "source": [
    "Модель можно считать вменяемой, если log_loss находится в пределах [0.5,1] и чем ближе значение к 1, тем лучше модель. Этому условию соответствуют случайный лес и логистическая регрессия."
   ]
  },
  {
   "cell_type": "markdown",
   "metadata": {},
   "source": [
    "## Вывод\n",
    "Обучив модели решающих деревьев, случайного леса и логистической регрессии, мы определили их оптимальные гиперпараметры для данной задачи.  \n",
    "Точность моделей на тестовой выборке:  \n",
    "\n",
    "- Случайный лес - 79%,\n",
    "- Решающие деревья - 78%. \n",
    "- Логистическая регрессия - 76%.\n",
    "\n",
    "Проверка моделей на адекватность показала, что результаты предсказаний моделей Случайного и Логистической регрессии наиболее адекватны. То есть вероятность предсказать правильный ответ в каждом отдельном случае для правильных ответов выше.  \n",
    "При финальном выборе модели стоит учитывать скорость их работы:\n",
    "- Быстрые модели: Решающие деревья и Логистическая регрессия.\n",
    "- Медленные модели: Случайный лес."
   ]
  }
 ],
 "metadata": {
  "ExecuteTimeLog": [
   {
    "duration": 1438,
    "start_time": "2021-06-09T13:32:07.371Z"
   },
   {
    "duration": 24,
    "start_time": "2021-06-09T13:32:14.654Z"
   },
   {
    "duration": 29,
    "start_time": "2021-06-09T13:32:15.032Z"
   },
   {
    "duration": 13,
    "start_time": "2021-06-09T13:32:24.082Z"
   },
   {
    "duration": 14,
    "start_time": "2021-06-09T13:33:37.026Z"
   },
   {
    "duration": 15,
    "start_time": "2021-06-09T13:34:05.898Z"
   },
   {
    "duration": 61,
    "start_time": "2021-06-09T13:35:38.633Z"
   },
   {
    "duration": 4,
    "start_time": "2021-06-09T13:35:39.100Z"
   },
   {
    "duration": 1704,
    "start_time": "2021-06-09T13:35:41.446Z"
   },
   {
    "duration": 5,
    "start_time": "2021-06-09T13:36:47.369Z"
   },
   {
    "duration": 28,
    "start_time": "2021-06-09T13:36:49.038Z"
   },
   {
    "duration": 4,
    "start_time": "2021-06-09T13:36:50.755Z"
   },
   {
    "duration": 8,
    "start_time": "2021-06-09T13:37:06.109Z"
   },
   {
    "duration": 11,
    "start_time": "2021-06-09T13:37:06.837Z"
   },
   {
    "duration": 7,
    "start_time": "2021-06-09T13:37:07.427Z"
   },
   {
    "duration": 6,
    "start_time": "2021-06-09T13:39:29.142Z"
   },
   {
    "duration": 6,
    "start_time": "2021-06-09T13:39:31.714Z"
   },
   {
    "duration": 9,
    "start_time": "2021-06-09T13:39:32.112Z"
   },
   {
    "duration": 369,
    "start_time": "2021-06-09T13:42:49.151Z"
   },
   {
    "duration": 298,
    "start_time": "2021-06-09T13:43:13.521Z"
   },
   {
    "duration": 254,
    "start_time": "2021-06-09T13:44:29.032Z"
   },
   {
    "duration": 12,
    "start_time": "2021-06-09T13:45:56.145Z"
   },
   {
    "duration": 8,
    "start_time": "2021-06-09T13:46:11.647Z"
   },
   {
    "duration": 6,
    "start_time": "2021-06-09T13:47:03.887Z"
   },
   {
    "duration": 7,
    "start_time": "2021-06-09T13:47:10.821Z"
   },
   {
    "duration": 6,
    "start_time": "2021-06-09T13:47:20.460Z"
   },
   {
    "duration": 9,
    "start_time": "2021-06-09T13:47:24.818Z"
   },
   {
    "duration": 1316,
    "start_time": "2021-06-09T13:48:30.878Z"
   },
   {
    "duration": 22,
    "start_time": "2021-06-09T13:48:32.197Z"
   },
   {
    "duration": 28,
    "start_time": "2021-06-09T13:48:32.222Z"
   },
   {
    "duration": 14,
    "start_time": "2021-06-09T13:48:32.253Z"
   },
   {
    "duration": 25,
    "start_time": "2021-06-09T13:48:32.269Z"
   },
   {
    "duration": 62,
    "start_time": "2021-06-09T13:48:32.296Z"
   },
   {
    "duration": 5,
    "start_time": "2021-06-09T13:48:32.360Z"
   },
   {
    "duration": 1692,
    "start_time": "2021-06-09T13:48:32.386Z"
   },
   {
    "duration": 5,
    "start_time": "2021-06-09T13:48:34.080Z"
   },
   {
    "duration": 38,
    "start_time": "2021-06-09T13:48:34.087Z"
   },
   {
    "duration": 4,
    "start_time": "2021-06-09T13:48:34.128Z"
   },
   {
    "duration": 7,
    "start_time": "2021-06-09T13:48:34.135Z"
   },
   {
    "duration": 39,
    "start_time": "2021-06-09T13:48:34.144Z"
   },
   {
    "duration": 6,
    "start_time": "2021-06-09T13:48:34.186Z"
   },
   {
    "duration": 16,
    "start_time": "2021-06-09T13:48:34.194Z"
   },
   {
    "duration": 26,
    "start_time": "2021-06-09T13:48:34.212Z"
   },
   {
    "duration": 17,
    "start_time": "2021-06-09T13:48:34.240Z"
   },
   {
    "duration": 8,
    "start_time": "2021-06-09T13:48:34.260Z"
   },
   {
    "duration": 18,
    "start_time": "2021-06-09T13:49:59.849Z"
   },
   {
    "duration": 18,
    "start_time": "2021-06-09T13:50:29.173Z"
   },
   {
    "duration": 23,
    "start_time": "2021-06-09T13:50:45.471Z"
   },
   {
    "duration": 18,
    "start_time": "2021-06-09T13:51:09.250Z"
   },
   {
    "duration": 19,
    "start_time": "2021-06-09T13:51:14.214Z"
   },
   {
    "duration": 1408,
    "start_time": "2021-06-09T13:51:32.001Z"
   },
   {
    "duration": 23,
    "start_time": "2021-06-09T13:51:33.412Z"
   },
   {
    "duration": 26,
    "start_time": "2021-06-09T13:51:33.438Z"
   },
   {
    "duration": 23,
    "start_time": "2021-06-09T13:51:33.467Z"
   },
   {
    "duration": 16,
    "start_time": "2021-06-09T13:51:33.493Z"
   },
   {
    "duration": 88,
    "start_time": "2021-06-09T13:51:33.511Z"
   },
   {
    "duration": 5,
    "start_time": "2021-06-09T13:51:33.601Z"
   },
   {
    "duration": 1720,
    "start_time": "2021-06-09T13:51:33.610Z"
   },
   {
    "duration": 5,
    "start_time": "2021-06-09T13:51:35.333Z"
   },
   {
    "duration": 43,
    "start_time": "2021-06-09T13:51:35.340Z"
   },
   {
    "duration": 5,
    "start_time": "2021-06-09T13:51:35.386Z"
   },
   {
    "duration": 16,
    "start_time": "2021-06-09T13:51:35.393Z"
   },
   {
    "duration": 23,
    "start_time": "2021-06-09T13:51:35.412Z"
   },
   {
    "duration": 19,
    "start_time": "2021-06-09T13:51:35.437Z"
   },
   {
    "duration": 19,
    "start_time": "2021-06-09T13:51:35.458Z"
   },
   {
    "duration": 42,
    "start_time": "2021-06-09T13:51:35.479Z"
   }
  ],
  "kernelspec": {
   "display_name": "Python 3",
   "language": "python",
   "name": "python3"
  },
  "language_info": {
   "codemirror_mode": {
    "name": "ipython",
    "version": 3
   },
   "file_extension": ".py",
   "mimetype": "text/x-python",
   "name": "python",
   "nbconvert_exporter": "python",
   "pygments_lexer": "ipython3",
   "version": "3.7.8"
  },
  "toc": {
   "base_numbering": 1,
   "nav_menu": {},
   "number_sections": true,
   "sideBar": true,
   "skip_h1_title": true,
   "title_cell": "Table of Contents",
   "title_sidebar": "Contents",
   "toc_cell": false,
   "toc_position": {},
   "toc_section_display": true,
   "toc_window_display": false
  }
 },
 "nbformat": 4,
 "nbformat_minor": 2
}
