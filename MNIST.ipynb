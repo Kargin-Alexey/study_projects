{
  "nbformat": 4,
  "nbformat_minor": 0,
  "metadata": {
    "colab": {
      "name": "MNIST.ipynb",
      "provenance": [],
      "collapsed_sections": [],
      "authorship_tag": "ABX9TyN9z7JPxpORS9Y+B02qeuuh",
      "include_colab_link": true
    },
    "kernelspec": {
      "name": "python3",
      "display_name": "Python 3"
    },
    "language_info": {
      "name": "python"
    }
  },
  "cells": [
    {
      "cell_type": "markdown",
      "metadata": {
        "id": "view-in-github",
        "colab_type": "text"
      },
      "source": [
        "<a href=\"https://colab.research.google.com/github/Kargin-Alexey/study_projects/blob/main/MNIST.ipynb\" target=\"_parent\"><img src=\"https://colab.research.google.com/assets/colab-badge.svg\" alt=\"Open In Colab\"/></a>"
      ]
    },
    {
      "cell_type": "markdown",
      "source": [
        "# MNIST\n",
        "## Введение\n",
        "MNIST (сокращение от «Modified National Institute of Standards and Technology») — объёмная база данных образцов рукописного написания цифр. База данных является стандартом, предложенным Национальным институтом стандартов и технологий США с целью калибрации и сопоставления методов распознавания изображений с помощью машинного обучения.    \n",
        "\n",
        "База данных была создана после переработки оригинального набора чёрно-белых образцов размером 20x20 пикселей NIST. Создатели базы данных NIST, в свою очередь, использовали набор образцов из Бюро переписи населения США, к которому были добавлены ещё тестовые образцы, написанные студентами американских университетов. Образцы из набора NIST были нормализированы, прошли сглаживание и приведены к серому полутоновому изображению размером 28x28 пикселей.\n",
        "\n",
        "База данных MNIST содержит 60000 изображений для обучения и 10000 изображений для тестирования.\n",
        "\n",
        "Производились многочисленные попытки достичь минимальной ошибки после обучения по базе данных MNIST, которые обсуждались в научной литературе. Рекордные результаты указывались в публикациях, посвящённых использованию свёрточных нейронных сетей, уровень ошибки был доведён до 0,23 %. Сами создатели базы данных предусмотрели несколько методов тестирования. В оригинальной работе указывается, что использование метода опорных векторов позволяет достичь уровня ошибки 0,8 %.\n",
        "\n",
        "__Цель:__ Поэкспериментировать классифицировать озображения с помощью различных алгоритмов МО. Попробовать улучшить качество классификации с помощью обработки изображений."
      ],
      "metadata": {
        "id": "JLKoAIcgOhmr"
      }
    },
    {
      "cell_type": "markdown",
      "source": [
        "## Выгрузка данных\n",
        "Сделаем ипорт библиотек и данных. Данные будут взяты из билиотеки scikit-learn"
      ],
      "metadata": {
        "id": "CP_ZuMD-Quay"
      }
    },
    {
      "cell_type": "code",
      "execution_count": 37,
      "metadata": {
        "id": "9-LMyXagOew9"
      },
      "outputs": [],
      "source": [
        "import pandas as pd\n",
        "import numpy as np\n",
        "import matplotlib\n",
        "import matplotlib.pyplot as plt\n",
        "\n",
        "\n",
        "from sklearn.datasets import fetch_openml\n",
        "from sklearn.linear_model import SGDClassifier\n",
        "from sklearn.ensemble import RandomForestClassifier\n",
        "from sklearn.model_selection import cross_val_score, cross_validate\n",
        "from sklearn.metrics import roc_auc_score, confusion_matrix"
      ]
    },
    {
      "cell_type": "code",
      "source": [
        "mnist = fetch_openml('mnist_784')"
      ],
      "metadata": {
        "id": "YoIvg87fUEnd"
      },
      "execution_count": 38,
      "outputs": []
    },
    {
      "cell_type": "code",
      "source": [
        " X, y = np.array(mnist[\"data\"]), np.array(mnist[\"target\"])"
      ],
      "metadata": {
        "id": "UexH-QTmR-Ie"
      },
      "execution_count": 39,
      "outputs": []
    },
    {
      "cell_type": "code",
      "source": [
        "X.shape"
      ],
      "metadata": {
        "colab": {
          "base_uri": "https://localhost:8080/"
        },
        "id": "-KyAvPGtS4Nh",
        "outputId": "2fa955a3-bb3c-4ce2-ac18-5b001baacab3"
      },
      "execution_count": 40,
      "outputs": [
        {
          "output_type": "execute_result",
          "data": {
            "text/plain": [
              "(70000, 784)"
            ]
          },
          "metadata": {},
          "execution_count": 40
        }
      ]
    },
    {
      "cell_type": "code",
      "source": [
        "y.shape"
      ],
      "metadata": {
        "colab": {
          "base_uri": "https://localhost:8080/"
        },
        "id": "Q_cQlL6uT4pI",
        "outputId": "d3daf7a1-7e24-4577-bdde-2ae942f9f93e"
      },
      "execution_count": 41,
      "outputs": [
        {
          "output_type": "execute_result",
          "data": {
            "text/plain": [
              "(70000,)"
            ]
          },
          "metadata": {},
          "execution_count": 41
        }
      ]
    },
    {
      "cell_type": "markdown",
      "source": [
        "Посмотрим, как выглядят изображения. Сформулруем гипотезы для возможного улучшения будущих моделей."
      ],
      "metadata": {
        "id": "IPJYSaLmUzl8"
      }
    },
    {
      "cell_type": "code",
      "source": [
        "img = X[:4]\n",
        "img = img.reshape(4,28,28)\n",
        "\n",
        "fig, axs = plt.subplots(1, 4, figsize=(15,6))\n",
        "for i in range(4):\n",
        "  axs[i].imshow(img[i], cmap='binary',interpolation='nearest')\n",
        "  axs[i].axis(\"off\")\n",
        "\n",
        "plt.show() "
      ],
      "metadata": {
        "colab": {
          "base_uri": "https://localhost:8080/",
          "height": 213
        },
        "id": "tN6m6f6ZUyvt",
        "outputId": "d58b9401-b359-4095-ad83-fb32f1d58e3b"
      },
      "execution_count": 42,
      "outputs": [
        {
          "output_type": "display_data",
          "data": {
            "text/plain": [
              "<Figure size 1080x432 with 4 Axes>"
            ],
            "image/png": "[encoded data removed]"
          },
          "metadata": {
            "needs_background": "light"
          }
        }
      ]
    },
    {
      "cell_type": "markdown",
      "source": [
        "На изображениях цифры `5, 0, 4, 1`. Сразу можно сказать, что у изображений можно нормализовать значение яркости пикселя, делать более четкие контуры, убирать лишнее пространство. По цифре `5` видно, что алгоритмы могут легко путать некоторые цифры, потому что они написаны от руки и даже человек не всегда сможет всё правильно классифицировать. \n",
        "\n",
        "Разобьём набор на тестовый и тренировочный. MNIST уже разделен на тренировочный и тестовый набор, как сказано выше. Дополнительно перемешаем тестовый набор данных "
      ],
      "metadata": {
        "id": "eX4puyUhXIC0"
      }
    },
    {
      "cell_type": "code",
      "source": [
        "X_train, X_test, y_train, y_test = X[:60000], X[60000:], y[:60000], y[60000:]\n",
        "shuffle_index = np.random.permutation(60000)\n",
        "X_train, y_train = X_train[shuffle_index], y_train[shuffle_index]\n"
      ],
      "metadata": {
        "id": "FmVFF2w-T91Y"
      },
      "execution_count": 43,
      "outputs": []
    },
    {
      "cell_type": "markdown",
      "source": [
        "## Бинарная классификация\n",
        "\n",
        "Попробуем реализовать бинарную классификацию классическими алгоритмами, чтобы получить базовое качество для будущих моделей. \n",
        "\n",
        "Для начала обычим классификатор выявлять `5`. В качестве классификатора SGD, так как он хорошо справляется с большими объёмами данных."
      ],
      "metadata": {
        "id": "TFQ5dn8Y3sE3"
      }
    },
    {
      "cell_type": "code",
      "source": [
        "y_train_5 = (y_train =='5')\n",
        "y_test_5 = (y_test =='5')"
      ],
      "metadata": {
        "id": "Gb9JRyuE7FO4"
      },
      "execution_count": 44,
      "outputs": []
    },
    {
      "cell_type": "code",
      "source": [
        "sgd_clf = SGDClassifier(random_state=42)\n",
        "sgd_clf.fit(X_train, y_train_5)"
      ],
      "metadata": {
        "colab": {
          "base_uri": "https://localhost:8080/"
        },
        "id": "fTZkfsFN2G7_",
        "outputId": "7b334051-c1cb-45fd-d95d-53df216594e3"
      },
      "execution_count": 45,
      "outputs": [
        {
          "output_type": "execute_result",
          "data": {
            "text/plain": [
              "SGDClassifier(random_state=42)"
            ]
          },
          "metadata": {},
          "execution_count": 45
        }
      ]
    },
    {
      "cell_type": "markdown",
      "source": [
        "Протестируем на изображениях, которые мы выводили."
      ],
      "metadata": {
        "id": "ySPMiIJL84hH"
      }
    },
    {
      "cell_type": "code",
      "source": [
        "sgd_clf.predict(img.reshape(4,-1))"
      ],
      "metadata": {
        "colab": {
          "base_uri": "https://localhost:8080/"
        },
        "id": "PqPhfIea7nQ1",
        "outputId": "07efdb2d-b17a-47f8-c467-9e437a1e5d06"
      },
      "execution_count": 46,
      "outputs": [
        {
          "output_type": "execute_result",
          "data": {
            "text/plain": [
              "array([ True, False, False, False])"
            ]
          },
          "metadata": {},
          "execution_count": 46
        }
      ]
    },
    {
      "cell_type": "markdown",
      "source": [
        "На изветсных нам изображзениях классификатор дал верный ответ. Оценим его качество на тренировочной выборке с помощью перекрестной проверки."
      ],
      "metadata": {
        "id": "zKehgVUJ9eHr"
      }
    },
    {
      "cell_type": "code",
      "source": [
        "y_train_5.mean()"
      ],
      "metadata": {
        "colab": {
          "base_uri": "https://localhost:8080/"
        },
        "id": "pEwwU382_Ljf",
        "outputId": "27e515bb-486d-4014-d79a-baa6bbf0f9e0"
      },
      "execution_count": 47,
      "outputs": [
        {
          "output_type": "execute_result",
          "data": {
            "text/plain": [
              "0.09035"
            ]
          },
          "metadata": {},
          "execution_count": 47
        }
      ]
    },
    {
      "cell_type": "code",
      "source": [
        "cross_val_score(sgd_clf, X_train, y_train_5, cv=3, scoring='accuracy')"
      ],
      "metadata": {
        "colab": {
          "base_uri": "https://localhost:8080/"
        },
        "id": "jJXUT5Vl9bH_",
        "outputId": "d67b5f11-bc00-44ac-da98-37c96871bacc"
      },
      "execution_count": 48,
      "outputs": [
        {
          "output_type": "execute_result",
          "data": {
            "text/plain": [
              "array([0.9638 , 0.94975, 0.96095])"
            ]
          },
          "metadata": {},
          "execution_count": 48
        }
      ]
    },
    {
      "cell_type": "markdown",
      "source": [
        "Качество более 93%. Из-за того, что выборка сильно несбалансированна, всего около 9% пятёрок, метрика `accuracy` не подходит для адекватной оценки качества.\n",
        "Лучше себя покажут метрики `'roc_auc','f1','precision','recall'`, помотрим на их разброс в зависимости от  "
      ],
      "metadata": {
        "id": "gwtGkdOd_T8G"
      }
    },
    {
      "cell_type": "code",
      "source": [
        "scoring = ['roc_auc','f1','precision','recall']\n",
        "cross_validate(sgd_clf, X_train, y_train_5, cv=3, scoring=scoring)"
      ],
      "metadata": {
        "colab": {
          "base_uri": "https://localhost:8080/"
        },
        "id": "Vbn8I3v2_OC6",
        "outputId": "c7122ab6-dca6-4767-a994-9fa77a3d54ad"
      },
      "execution_count": 49,
      "outputs": [
        {
          "output_type": "execute_result",
          "data": {
            "text/plain": [
              "{'fit_time': array([7.23324728, 7.10214472, 9.58516979]),\n",
              " 'score_time': array([0.07021141, 0.06527758, 0.06506228]),\n",
              " 'test_f1': array([0.76401565, 0.6203249 , 0.7951744 ]),\n",
              " 'test_precision': array([0.92942109, 0.97738095, 0.7557328 ]),\n",
              " 'test_recall': array([0.64858882, 0.45434422, 0.8389596 ]),\n",
              " 'test_roc_auc': array([0.96976856, 0.95932918, 0.96994846])}"
            ]
          },
          "metadata": {},
          "execution_count": 49
        }
      ]
    },
    {
      "cell_type": "markdown",
      "source": [
        "`roc_auc` достаточно стабильно показывает качество в райне 96-97%, значение метрики `f1` сильно колеблется, в зависимости от набора данных, что не позволяет стабильно адекватно оценивать качество модели.\n",
        "Проверим качество этой модели на тестовой выборке."
      ],
      "metadata": {
        "id": "BdYZZdsMDT-o"
      }
    },
    {
      "cell_type": "code",
      "source": [
        "roc_auc_score(y_test_5, sgd_clf.predict(X_test), average='weighted')"
      ],
      "metadata": {
        "colab": {
          "base_uri": "https://localhost:8080/"
        },
        "id": "Z7ldWAyM_J4S",
        "outputId": "231d6664-1977-40a1-fe34-6eec9a75764f"
      },
      "execution_count": 50,
      "outputs": [
        {
          "output_type": "execute_result",
          "data": {
            "text/plain": [
              "0.8899324203233347"
            ]
          },
          "metadata": {},
          "execution_count": 50
        }
      ]
    },
    {
      "cell_type": "markdown",
      "source": [
        "Базовое `roc_auc` возьмём за 0.87. Проверим, какое качество покажет модель RandomForestClassifier"
      ],
      "metadata": {
        "id": "HGTBuqsyGyQO"
      }
    },
    {
      "cell_type": "code",
      "source": [
        "forest_clf = RandomForestClassifier(random_state=42)\n",
        "forest_clf.fit(X_train, y_train_5)"
      ],
      "metadata": {
        "colab": {
          "base_uri": "https://localhost:8080/"
        },
        "id": "n1Npzl60Gxg7",
        "outputId": "7184e430-8b29-4ec7-c917-e0274b8bb68e"
      },
      "execution_count": 51,
      "outputs": [
        {
          "output_type": "execute_result",
          "data": {
            "text/plain": [
              "RandomForestClassifier(random_state=42)"
            ]
          },
          "metadata": {},
          "execution_count": 51
        }
      ]
    },
    {
      "cell_type": "code",
      "source": [
        "roc_auc_score(y_test_5, forest_clf.predict(X_test), average='weighted')"
      ],
      "metadata": {
        "colab": {
          "base_uri": "https://localhost:8080/"
        },
        "id": "W3X2l1-tH275",
        "outputId": "fb9bbe49-7adb-42dd-b121-a8b0f9b19cea"
      },
      "execution_count": 52,
      "outputs": [
        {
          "output_type": "execute_result",
          "data": {
            "text/plain": [
              "0.9369452469715679"
            ]
          },
          "metadata": {},
          "execution_count": 52
        }
      ]
    },
    {
      "cell_type": "markdown",
      "source": [
        "Качество модели случайного леса значительно отличает от стохастического градиента. Попробуем ещё поднять качество этих алгоритмов, нормализовав данные на максимальное значение."
      ],
      "metadata": {
        "id": "_W4O_oN-JDmh"
      }
    },
    {
      "cell_type": "code",
      "source": [
        "X_train_n = (X_train /  X_train.max()).copy()\n",
        "X_test_n = (X_test /  X_train.max()).copy()"
      ],
      "metadata": {
        "id": "zdtrrNDEH7fo"
      },
      "execution_count": 53,
      "outputs": []
    },
    {
      "cell_type": "code",
      "source": [
        "print(X_train_n.max(), X_test_n.max())"
      ],
      "metadata": {
        "colab": {
          "base_uri": "https://localhost:8080/"
        },
        "id": "hH_4OC_BJfub",
        "outputId": "79fb6bf6-8c90-46d8-f9f3-07a705c3c900"
      },
      "execution_count": 54,
      "outputs": [
        {
          "output_type": "stream",
          "name": "stdout",
          "text": [
            "1.0 1.0\n"
          ]
        }
      ]
    },
    {
      "cell_type": "code",
      "source": [
        "sgd_clf.fit(X_train_n, y_train_5)\n",
        "forest_clf.fit(X_train_n, y_train_5)\n",
        "print('Качество модели SGD',roc_auc_score(y_test_5, sgd_clf.predict(X_test_n), average='weighted'))\n",
        "print('Качество модели RandomForest',roc_auc_score(y_test_5, forest_clf.predict(X_test_n), average='weighted'))"
      ],
      "metadata": {
        "colab": {
          "base_uri": "https://localhost:8080/"
        },
        "id": "fWgvyeOXKKIX",
        "outputId": "11a83750-c236-42fb-e798-ec6ffdcd92e0"
      },
      "execution_count": 55,
      "outputs": [
        {
          "output_type": "stream",
          "name": "stdout",
          "text": [
            "Качество модели SGD 0.9101753054034202\n",
            "Качество модели RandomForest 0.9369452469715679\n"
          ]
        }
      ]
    },
    {
      "cell_type": "markdown",
      "source": [
        "Ожидаемо, для линейной модели качество подросло до 0.89."
      ],
      "metadata": {
        "id": "T1pDpOgGmh9d"
      }
    },
    {
      "cell_type": "markdown",
      "source": [
        "# Многоклассовая классификация\n",
        "\n",
        "Есть 3 тактики построения такой классификации:\n",
        "- Использовать классификаторы, способные разделять больш, чем 2 класса\n",
        "- Использовать бинарные классификаторы со стратегией \"один против всех\"(OvA)\n",
        "- Использовать бинарные классификаторы со стратегией \"каждый против каждого\"(OvO)\n",
        "\n",
        "sklearn автоматически определяет, что мы используем многоклассовую классификацию и использует стратегию OvA для бинарных классификаторов, кроме метода опорных векторов.    \n",
        "Применим те же алгоритм, но в случае многоклассовой классификации.\n"
      ],
      "metadata": {
        "id": "6hGFTB6QRLnO"
      }
    },
    {
      "cell_type": "code",
      "source": [
        "sgd_clf_mult = SGDClassifier(random_state=42)\n",
        "sgd_clf_mult.fit(X_train, y_train.astype('int'))"
      ],
      "metadata": {
        "id": "O9DvBcwBibrg",
        "colab": {
          "base_uri": "https://localhost:8080/"
        },
        "outputId": "c45c25e9-e963-4704-93db-d16b39cb6962"
      },
      "execution_count": 56,
      "outputs": [
        {
          "output_type": "execute_result",
          "data": {
            "text/plain": [
              "SGDClassifier(random_state=42)"
            ]
          },
          "metadata": {},
          "execution_count": 56
        }
      ]
    },
    {
      "cell_type": "code",
      "source": [
        "roc_auc_score(sgd_clf_mult.predict(X_test)"
      ],
      "metadata": {
        "colab": {
          "base_uri": "https://localhost:8080/"
        },
        "id": "RfbNCe2VV47b",
        "outputId": "fb8b3966-c154-4449-e6df-297414a1a948"
      },
      "execution_count": 57,
      "outputs": [
        {
          "output_type": "execute_result",
          "data": {
            "text/plain": [
              "array([7, 2, 1, ..., 4, 5, 6])"
            ]
          },
          "metadata": {},
          "execution_count": 57
        }
      ]
    },
    {
      "cell_type": "markdown",
      "source": [
        "Выведем матрицу ошибок и определим какие цифры путаются чаще"
      ],
      "metadata": {
        "id": "A_77P8nBUJvn"
      }
    },
    {
      "cell_type": "code",
      "source": [
        "conf_m = confusion_matrix(y_test.astype('int'), sgd_clf_mult.predict(X_test))\n",
        "norm_conf_m = conf_m / conf_m.sum(axis=1, keepdims=True)\n",
        "np.fill_diagonal(norm_conf_m, 0)\n",
        "plt.matshow(norm_conf_m, cmap='gray')"
      ],
      "metadata": {
        "id": "kGKb8rx6VTIB",
        "colab": {
          "base_uri": "https://localhost:8080/",
          "height": 292
        },
        "outputId": "15a7af64-3e45-4271-8f0e-3c7c0512dac7"
      },
      "execution_count": 60,
      "outputs": [
        {
          "output_type": "execute_result",
          "data": {
            "text/plain": [
              "<matplotlib.image.AxesImage at 0x7f4588b33290>"
            ]
          },
          "metadata": {},
          "execution_count": 60
        },
        {
          "output_type": "display_data",
          "data": {
            "text/plain": [
              "<Figure size 288x288 with 1 Axes>"
            ],
            "image/png": "[encoded data removed]"
          },
          "metadata": {
            "needs_background": "light"
          }
        }
      ]
    },
    {
      "cell_type": "markdown",
      "source": [
        "Заполнив глывную диагональ 0, мы оставили в матрице только ошибки. Видим, что SGD часто путает классифицирует `4`, как `9`, возможно из-за разных способов написания этой цифры. Также ошибки часто возникают при классификации `3` и `5`. В строке `9` много светлых квадратов, что говорит о большом количестве ложно положительных результатов. При этом сами девятки классифицировались довольно точно.   "
      ],
      "metadata": {
        "id": "RKolcHpbfvz-"
      }
    },
    {
      "cell_type": "markdown",
      "source": [
        "# PyTorch"
      ],
      "metadata": {
        "id": "WlzlMNxpy2cQ"
      }
    },
    {
      "cell_type": "markdown",
      "source": [
        "Создадим трехснолйную полносвязную нейронную сеть. Посмотрим какое качество она сможет показать на данном наборе."
      ],
      "metadata": {
        "id": "9iG8EKDiQHky"
      }
    },
    {
      "cell_type": "code",
      "source": [
        "from torch import nn\n",
        "import torch\n",
        "from torchvision import datasets, transforms\n",
        "\n",
        "# Layer details for the neural network\n",
        "input_size = 784\n",
        "hidden_sizes = [128, 64]\n",
        "output_size = 10\n",
        "\n",
        "# Build a feed-forward network\n",
        "model = nn.Sequential(nn.Linear(input_size, hidden_sizes[0]),\n",
        "                      nn.ReLU(),\n",
        "                      nn.Linear(hidden_sizes[0], hidden_sizes[1]),\n",
        "                      nn.ReLU(),\n",
        "                      nn.Linear(hidden_sizes[1], output_size),\n",
        "                      nn.LogSoftmax(dim=1))\n",
        "model"
      ],
      "metadata": {
        "colab": {
          "base_uri": "https://localhost:8080/"
        },
        "id": "IlMY6qO80B_t",
        "outputId": "fead7542-a652-4909-9ff7-3c7a6890e52a"
      },
      "execution_count": 61,
      "outputs": [
        {
          "output_type": "execute_result",
          "data": {
            "text/plain": [
              "Sequential(\n",
              "  (0): Linear(in_features=784, out_features=128, bias=True)\n",
              "  (1): ReLU()\n",
              "  (2): Linear(in_features=128, out_features=64, bias=True)\n",
              "  (3): ReLU()\n",
              "  (4): Linear(in_features=64, out_features=10, bias=True)\n",
              "  (5): LogSoftmax(dim=1)\n",
              ")"
            ]
          },
          "metadata": {},
          "execution_count": 61
        }
      ]
    },
    {
      "cell_type": "markdown",
      "source": [
        "Для упрощения обучения нейронной, снова загрузим данные. Так как датасет изначально разбит на обучающий и тестовый, то все модели сравниваются в качестве на одих и тех-же данных. При выгрузке данных сформируем батчи по 32 изображения. Самиизображения нормализуем, приведя значения яркости пикселей к диапазону от -1, до 1."
      ],
      "metadata": {
        "id": "mtcR-KwnRTEN"
      }
    },
    {
      "cell_type": "code",
      "source": [
        "transform = transforms.Compose([transforms.ToTensor(),\n",
        "                              transforms.Normalize((0.5,), (0.5,)),\n",
        "                              ])\n",
        "\n",
        "trainset = datasets.MNIST('drive/My Drive/mnist/MNIST_data/', download=True, train=True, transform=transform)\n",
        "valset = datasets.MNIST('drive/My Drive/mnist/MNIST_data/', download=True, train=False, transform=transform)\n",
        "\n",
        "trainloader = torch.utils.data.DataLoader(trainset, batch_size=32, shuffle=True)\n",
        "valloader = torch.utils.data.DataLoader(valset, batch_size=32, shuffle=True)"
      ],
      "metadata": {
        "id": "jkyNTbc05KyM"
      },
      "execution_count": 62,
      "outputs": []
    },
    {
      "cell_type": "markdown",
      "source": [
        "В качестве метрики используем negative log likelihood loss, она хорошо подходт для решения задачь многоклассовой классификации."
      ],
      "metadata": {
        "id": "2Trzw7j0WLI0"
      }
    },
    {
      "cell_type": "code",
      "source": [
        "criterion = nn.NLLLoss()\n",
        "images, labels = next(iter(trainloader))\n",
        "images = images.view(images.shape[0], -1)\n",
        "\n",
        "logps = model(images)\n",
        "loss = criterion(logps, labels)"
      ],
      "metadata": {
        "id": "d7P9oHsD2vh1"
      },
      "execution_count": 63,
      "outputs": []
    },
    {
      "cell_type": "code",
      "source": [
        "print('Before backward pass: \\n', model[0].weight.grad)\n",
        "\n",
        "loss.backward()\n",
        "\n",
        "print('After backward pass: \\n', model[0].weight.grad)"
      ],
      "metadata": {
        "colab": {
          "base_uri": "https://localhost:8080/"
        },
        "id": "Q9h8emlH24sm",
        "outputId": "0920f87e-e6b8-48bc-cdc7-5e7d51bd3a00"
      },
      "execution_count": 64,
      "outputs": [
        {
          "output_type": "stream",
          "name": "stdout",
          "text": [
            "Before backward pass: \n",
            " None\n",
            "After backward pass: \n",
            " tensor([[-0.0011, -0.0011, -0.0011,  ..., -0.0011, -0.0011, -0.0011],\n",
            "        [-0.0053, -0.0053, -0.0053,  ..., -0.0053, -0.0053, -0.0053],\n",
            "        [ 0.0000,  0.0000,  0.0000,  ...,  0.0000,  0.0000,  0.0000],\n",
            "        ...,\n",
            "        [ 0.0000,  0.0000,  0.0000,  ...,  0.0000,  0.0000,  0.0000],\n",
            "        [ 0.0000,  0.0000,  0.0000,  ...,  0.0000,  0.0000,  0.0000],\n",
            "        [ 0.0007,  0.0007,  0.0007,  ...,  0.0007,  0.0007,  0.0007]])\n"
          ]
        }
      ]
    },
    {
      "cell_type": "markdown",
      "source": [
        "Оптимизатором в данной модели используем SGD."
      ],
      "metadata": {
        "id": "QZRkoJwFXKrd"
      }
    },
    {
      "cell_type": "code",
      "source": [
        "from torch import optim\n",
        "\n",
        "# Optimizers require the parameters to optimize and a learning rate\n",
        "optimizer = optim.SGD(model.parameters(), lr=0.01, momentum=0.5)"
      ],
      "metadata": {
        "id": "BxoDeJjA3AMy"
      },
      "execution_count": 65,
      "outputs": []
    },
    {
      "cell_type": "code",
      "source": [
        "print('Initial weights - ', model[0].weight)\n",
        "\n",
        "images, labels = next(iter(trainloader))\n",
        "images.resize_(32, 784)\n",
        "\n",
        "# Clear the gradients, do this because gradients are accumulated\n",
        "optimizer.zero_grad()\n",
        "\n",
        "# Forward pass, then backward pass, then update weights\n",
        "output = model(images)\n",
        "loss = criterion(output, labels)\n",
        "loss.backward()\n",
        "print('Gradient -', model[0].weight.grad)"
      ],
      "metadata": {
        "colab": {
          "base_uri": "https://localhost:8080/"
        },
        "id": "JwuofQQD4p7U",
        "outputId": "90dd35c0-36bd-4903-80fe-d40885d6ba8b"
      },
      "execution_count": 66,
      "outputs": [
        {
          "output_type": "stream",
          "name": "stdout",
          "text": [
            "Initial weights -  Parameter containing:\n",
            "tensor([[ 0.0158, -0.0222,  0.0195,  ...,  0.0345, -0.0211, -0.0293],\n",
            "        [ 0.0121, -0.0016, -0.0283,  ..., -0.0100, -0.0165, -0.0301],\n",
            "        [ 0.0162, -0.0083, -0.0186,  ..., -0.0343, -0.0272, -0.0137],\n",
            "        ...,\n",
            "        [ 0.0165, -0.0356, -0.0350,  ..., -0.0116, -0.0287, -0.0253],\n",
            "        [-0.0169, -0.0289,  0.0139,  ...,  0.0019,  0.0203, -0.0316],\n",
            "        [ 0.0309, -0.0355,  0.0010,  ..., -0.0175, -0.0200,  0.0061]],\n",
            "       requires_grad=True)\n",
            "Gradient - tensor([[ 0.0002,  0.0002,  0.0002,  ...,  0.0002,  0.0002,  0.0002],\n",
            "        [-0.0034, -0.0034, -0.0034,  ..., -0.0034, -0.0034, -0.0034],\n",
            "        [ 0.0003,  0.0003,  0.0003,  ...,  0.0003,  0.0003,  0.0003],\n",
            "        ...,\n",
            "        [-0.0005, -0.0005, -0.0005,  ..., -0.0005, -0.0005, -0.0005],\n",
            "        [ 0.0003,  0.0003,  0.0003,  ...,  0.0003,  0.0003,  0.0003],\n",
            "        [ 0.0019,  0.0019,  0.0019,  ...,  0.0019,  0.0019,  0.0019]])\n"
          ]
        }
      ]
    },
    {
      "cell_type": "code",
      "source": [
        "# Take an update step and few the new weights\n",
        "optimizer.step()\n",
        "print('Updated weights - ', model[0].weight)"
      ],
      "metadata": {
        "colab": {
          "base_uri": "https://localhost:8080/"
        },
        "id": "JO7FMCMn4s6n",
        "outputId": "c56668b2-b48f-4d9b-f02c-868ce5660117"
      },
      "execution_count": 67,
      "outputs": [
        {
          "output_type": "stream",
          "name": "stdout",
          "text": [
            "Updated weights -  Parameter containing:\n",
            "tensor([[ 0.0158, -0.0222,  0.0195,  ...,  0.0345, -0.0211, -0.0293],\n",
            "        [ 0.0121, -0.0016, -0.0283,  ..., -0.0099, -0.0164, -0.0300],\n",
            "        [ 0.0162, -0.0083, -0.0186,  ..., -0.0343, -0.0273, -0.0137],\n",
            "        ...,\n",
            "        [ 0.0165, -0.0356, -0.0350,  ..., -0.0116, -0.0287, -0.0253],\n",
            "        [-0.0169, -0.0289,  0.0139,  ...,  0.0019,  0.0203, -0.0316],\n",
            "        [ 0.0309, -0.0355,  0.0010,  ..., -0.0176, -0.0200,  0.0061]],\n",
            "       requires_grad=True)\n"
          ]
        }
      ]
    },
    {
      "cell_type": "markdown",
      "source": [
        "Запустим обучение - 20 эпох."
      ],
      "metadata": {
        "id": "mg0w55ueX-L0"
      }
    },
    {
      "cell_type": "code",
      "source": [
        "from time import time\n",
        "time0 = time()\n",
        "epochs = 20\n",
        "for e in range(epochs):\n",
        "    running_loss = 0\n",
        "    for images, labels in trainloader:\n",
        "        images = images.view(images.shape[0], -1)\n",
        "        optimizer.zero_grad()\n",
        "        \n",
        "        output = model(images)\n",
        "        loss = criterion(output, labels)\n",
        "        loss.backward()\n",
        "        optimizer.step()\n",
        "        \n",
        "        running_loss += loss.item()\n",
        "    else:\n",
        "        print(f\"Epoch {e} - Training loss: {running_loss/len(trainloader)}\")\n",
        "print(\"\\nTraining Time (in minutes) =\",(time()-time0)/60)"
      ],
      "metadata": {
        "colab": {
          "base_uri": "https://localhost:8080/"
        },
        "id": "uW5RgrcM4wXT",
        "outputId": "7afab013-bf2a-47b7-e388-beacbb16836e"
      },
      "execution_count": 68,
      "outputs": [
        {
          "output_type": "stream",
          "name": "stdout",
          "text": [
            "Epoch 0 - Training loss: 0.5442788770357768\n",
            "Epoch 1 - Training loss: 0.25469048287669815\n",
            "Epoch 2 - Training loss: 0.18773534723122914\n",
            "Epoch 3 - Training loss: 0.14861114405095577\n",
            "Epoch 4 - Training loss: 0.12326566871404648\n",
            "Epoch 5 - Training loss: 0.10549304984137416\n",
            "Epoch 6 - Training loss: 0.09188183048802118\n",
            "Epoch 7 - Training loss: 0.08126626476707557\n",
            "Epoch 8 - Training loss: 0.07197220706834147\n",
            "Epoch 9 - Training loss: 0.06608075941149145\n",
            "Epoch 10 - Training loss: 0.05816989509103199\n",
            "Epoch 11 - Training loss: 0.053897836486405386\n",
            "Epoch 12 - Training loss: 0.050119156069060165\n",
            "Epoch 13 - Training loss: 0.04492121666623279\n",
            "Epoch 14 - Training loss: 0.04167759813455244\n",
            "Epoch 15 - Training loss: 0.0384022954631752\n",
            "Epoch 16 - Training loss: 0.0352665314878958\n",
            "Epoch 17 - Training loss: 0.032685591064129646\n",
            "Epoch 18 - Training loss: 0.02970027137869814\n",
            "Epoch 19 - Training loss: 0.028114386502676645\n",
            "\n",
            "Training Time (in minutes) = 3.769890824953715\n"
          ]
        }
      ]
    },
    {
      "cell_type": "markdown",
      "source": [
        "Выведем в каких соотношениях модель предсказывает класс обекта."
      ],
      "metadata": {
        "id": "9rN72qEJZKEe"
      }
    },
    {
      "cell_type": "code",
      "source": [
        "def view_classify(img, ps):\n",
        "    ''' Фукнция, печатающая изображение и вероятности классов\n",
        "    '''\n",
        "    ps = ps.cpu().data.numpy().squeeze()\n",
        "\n",
        "    fig, (ax1, ax2) = plt.subplots(figsize=(6,9), ncols=2)\n",
        "    ax1.imshow(img.resize_(1, 28, 28).numpy().squeeze())\n",
        "    ax1.axis('off')\n",
        "    ax2.barh(np.arange(10), ps)\n",
        "    ax2.set_aspect(0.1)\n",
        "    ax2.set_yticks(np.arange(10))\n",
        "    ax2.set_yticklabels(np.arange(10))\n",
        "    ax2.set_title('Class Probability')\n",
        "    ax2.set_xlim(0, 1.1)\n",
        "    plt.tight_layout()"
      ],
      "metadata": {
        "id": "ZCECk59j4yzJ"
      },
      "execution_count": 69,
      "outputs": []
    },
    {
      "cell_type": "code",
      "source": [
        "images, labels = next(iter(valloader))\n",
        "\n",
        "img = images[0].view(1, 784)\n",
        "# Turn off gradients to speed up this part\n",
        "with torch.no_grad():\n",
        "    logps = model(img)\n",
        "\n",
        "# Output of the network are log-probabilities, need to take exponential for probabilities\n",
        "ps = torch.exp(logps)\n",
        "probab = list(ps.cpu().numpy()[0])\n",
        "print(\"Predicted Digit =\", probab.index(max(probab)))\n",
        "view_classify(img.view(1, 28, 28), ps)"
      ],
      "metadata": {
        "colab": {
          "base_uri": "https://localhost:8080/",
          "height": 270
        },
        "id": "U1r1bZLW42yy",
        "outputId": "6da78769-f979-485b-ea16-0732c0946e01"
      },
      "execution_count": 70,
      "outputs": [
        {
          "output_type": "stream",
          "name": "stdout",
          "text": [
            "Predicted Digit = 6\n"
          ]
        },
        {
          "output_type": "display_data",
          "data": {
            "text/plain": [
              "<Figure size 432x648 with 2 Axes>"
            ],
            "image/png": "[encoded data removed]"
          },
          "metadata": {
            "needs_background": "light"
          }
        }
      ]
    },
    {
      "cell_type": "markdown",
      "source": [
        "Рассчитаем ошибку модели. Для простоты, используем метрику accuracy."
      ],
      "metadata": {
        "id": "eLHmZ5nnZZEn"
      }
    },
    {
      "cell_type": "code",
      "source": [
        "correct_count, all_count = 0, 0\n",
        "for images,labels in valloader:\n",
        "  for i in range(len(labels)):\n",
        "    img = images[i].view(1, 784)\n",
        "    with torch.no_grad():\n",
        "        logps = model(img)\n",
        "        \n",
        "    ps = torch.exp(logps)\n",
        "    probab = list(ps.cpu().numpy()[0])\n",
        "    pred_label = probab.index(max(probab))\n",
        "    true_label = labels.numpy()[i]\n",
        "    if(true_label == pred_label):\n",
        "      correct_count += 1\n",
        "    all_count += 1\n",
        "\n",
        "print(\"Number Of Images Tested =\", all_count)\n",
        "print(\"\\nModel Accuracy =\", (correct_count/all_count))"
      ],
      "metadata": {
        "colab": {
          "base_uri": "https://localhost:8080/"
        },
        "id": "7ji_Hb5O46xg",
        "outputId": "d62bd692-e55f-4921-b4e9-c5aa1afc6216"
      },
      "execution_count": 71,
      "outputs": [
        {
          "output_type": "stream",
          "name": "stdout",
          "text": [
            "Number Of Images Tested = 10000\n",
            "\n",
            "Model Accuracy = 0.9802\n"
          ]
        }
      ]
    },
    {
      "cell_type": "code",
      "source": [
        ""
      ],
      "metadata": {
        "id": "6HQvjzk96UvV"
      },
      "execution_count": 71,
      "outputs": []
    }
  ]
}