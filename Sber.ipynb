{
  "nbformat": 4,
  "nbformat_minor": 0,
  "metadata": {
    "colab": {
      "name": "Sber.ipynb",
      "provenance": [],
      "collapsed_sections": [],
      "authorship_tag": "ABX9TyOOvWAqmyR1ZwD5pbSjKABQ",
      "include_colab_link": true
    },
    "kernelspec": {
      "name": "python3",
      "display_name": "Python 3"
    },
    "language_info": {
      "name": "python"
    },
    "accelerator": "GPU"
  },
  "cells": [
    {
      "cell_type": "markdown",
      "metadata": {
        "id": "view-in-github",
        "colab_type": "text"
      },
      "source": [
        "<a href=\"https://colab.research.google.com/github/Kargin-Alexey/study_projects/blob/main/Sber.ipynb\" target=\"_parent\"><img src=\"https://colab.research.google.com/assets/colab-badge.svg\" alt=\"Open In Colab\"/></a>"
      ]
    },
    {
      "cell_type": "markdown",
      "source": [
        "# Тестовое задание Сбер, Каргин Алексей"
      ],
      "metadata": {
        "id": "aKfogQl9hq8v"
      }
    },
    {
      "cell_type": "markdown",
      "source": [
        ""
      ],
      "metadata": {
        "id": "aSWkdwTtk4B6"
      }
    },
    {
      "cell_type": "markdown",
      "source": [
        "## Python"
      ],
      "metadata": {
        "id": "E7JAc-yKh0X_"
      }
    },
    {
      "cell_type": "markdown",
      "source": [
        "1. В python2.7 есть ф-ции `range`, и `xrange`, в чем разница?     \n",
        "Ответ: сравнение по нескольким параметрам:\n",
        "\n",
        "\n",
        " Параметр | `range` | `xrange`\n",
        "--- | --- | ---\n",
        "Потребление памяти| Поскольку `range()` возвращает список элементов, требуется больше памяти\t|По сравнению с `range()` требует меньше памяти\n",
        "Что возвращает | Она возвращает список целых чисел |\tВозвращает объект-генератор\n",
        "Скорость\t| Скорость выполнения ниже\t| Скорость выполнения выше\n",
        "Операции\t| Поскольку она возвращает список, можно выполнять все виды операций со списками |\tНельзя выполнять арифметические операции с `xrange()`, можно только вызывать определенные элементы списка"
      ],
      "metadata": {
        "id": "7Yb5d119h-Wn"
      }
    },
    {
      "cell_type": "markdown",
      "source": [
        "2. Написать на python 2 или 3 генератор первых n чисел фибоначи.    \n",
        "Сигнатура: `def fibonacci_generator(n)`    \n",
        "Пример использования:\n",
        "```python\n",
        "# вывести первые 10 чисел фибоначи\n",
        "n = 10\n",
        "for num in fibonacci_generator(n):\n",
        "              print(num)\n",
        "```"
      ],
      "metadata": {
        "id": "R38bw7uGmInw"
      }
    },
    {
      "cell_type": "code",
      "execution_count": null,
      "metadata": {
        "colab": {
          "base_uri": "https://localhost:8080/"
        },
        "id": "wziLaXnDhpuy",
        "outputId": "b66d1543-13d5-4c42-cb14-132f19c3d746"
      },
      "outputs": [
        {
          "output_type": "stream",
          "name": "stdout",
          "text": [
            "0\n",
            "1\n",
            "1\n",
            "2\n",
            "3\n",
            "5\n",
            "8\n",
            "13\n",
            "21\n",
            "34\n"
          ]
        }
      ],
      "source": [
        "import sys\n",
        "\n",
        "\n",
        "def fibonacci_ganerator(n:int) -> list:\n",
        "  '''Функция, возвращаюшая первые n чисел последовательности Фибоначчи\n",
        "    https://ru.wikipedia.org/wiki/Числа_Фибоначчи\n",
        "  '''\n",
        "  if n < 1:\n",
        "    sys.exit(\"Введите целое число больше 0\") \n",
        "\n",
        "  fibonacci = [0, 1]\n",
        "  if n in (1,2):\n",
        "    return fibonacci[:n] \n",
        "\n",
        "  for _ in range(n-2):\n",
        "    fibonacci.append(fibonacci[-1]+fibonacci[-2])\n",
        "    \n",
        "  return fibonacci\n",
        "\n",
        "\n",
        "# вывести первые 10 чисел фибоначи\n",
        "n = 10\n",
        "for num in fibonacci_ganerator(n):\n",
        "           print(num)\n"
      ]
    },
    {
      "cell_type": "markdown",
      "source": [
        "## Написать Sql-запросы"
      ],
      "metadata": {
        "id": "_uKJ5NQNm89r"
      }
    },
    {
      "cell_type": "markdown",
      "source": [
        "\n",
        "1.\tВывести отдел с наибольшим числом сотрудников;\n",
        "2.\tВывести список сотрудников, получающих заработную плату выше, чем у руководителя;\n",
        "\n",
        "__Department__\n",
        "\n",
        "Id | name    \n",
        "--- | ---    \n",
        "1 |\tФинансы\n",
        "2\t| Риски\n",
        "3\t| Розница\n",
        "4\t| Безопасность\n",
        "..|\t..\n",
        "1000| \tДКК\n",
        "\n",
        "__Personal__    \n",
        "id_head – id – руководителя   \n",
        "id_dep – id департамента\n",
        "\n",
        "Id | Id_head |Id_dep| name  |\tsal\n",
        "---|  ---    | ---  | ---   | ---\n",
        "1  |\t1\t     |\t2\t\t|Бегинс\t| 45 000\n",
        "2\t | 1\t\t   |2\t\t  |Поттер\t| 80 000\n",
        "3\t |\t2\t\t   |2\t\t  |Чапаев\t| 100 000\n",
        "4\t |\t4\t\t   |4\t\t  |Шилов\t| 65 000\n",
        "…\t |\t..\t   |..\t\t|..\t\t  | ..\n",
        "10000|\t5\t   |3\t\t  |Наумов\t| 64 500\n"
      ],
      "metadata": {
        "id": "Fc20eAqwy38i"
      }
    },
    {
      "cell_type": "markdown",
      "source": [
        "```SQL\n",
        "SELECT DISTINCT d.name\n",
        "FROM Department as d\n",
        "LEFT JOIN (\n",
        "    SELECT pers.id_dep, COUNT(pers.id) as cnt\n",
        "    FROM Personal as pers\n",
        "    GROUP BY pers.developer_id\n",
        ") as p ON d.id = p.id_dep\n",
        "ORDER BY p.cnt DESC\n",
        "LIMIT 1;\n",
        "```"
      ],
      "metadata": {
        "id": "NumnMRD0gQAt"
      }
    },
    {
      "cell_type": "markdown",
      "source": [
        "```SQL\n",
        "SELECT emp.*\n",
        "FROM Personal AS emp, Personal AS chief\n",
        "WHERE  chief.id = emp.chief_id AND emp.salary > chief.salary\n",
        "```"
      ],
      "metadata": {
        "id": "HYmfhL9Ze_Ya"
      }
    },
    {
      "cell_type": "markdown",
      "source": [
        "## Задачка на определение отрасли компании"
      ],
      "metadata": {
        "id": "m8owl1Ismzru"
      }
    },
    {
      "cell_type": "markdown",
      "source": [
        "### Постановка задачи"
      ],
      "metadata": {
        "id": "1l-nZBRzpRFi"
      }
    },
    {
      "cell_type": "markdown",
      "source": [
        "Необходимо собрать алгоритм, определяющий отрасль компании по её операциям."
      ],
      "metadata": {
        "id": "LcA4rYEMpV4s"
      }
    },
    {
      "cell_type": "markdown",
      "source": [
        "Таблица Pays - платежи между компаниями\n",
        "\n",
        "Столбец  | Значения\n",
        "---| ---\n",
        "hash_inn_kt |\tОбезличенный ИНН отправителя\n",
        "hash_inn_dt |\tОбезличенный ИНН получателя\n",
        "week |\tНеделя\n",
        "count\t| Кол-во платежей в неделю\n",
        "sum\t| Сумма платежей в неделю; (обезличенная)\n",
        "\n",
        "Таблица inn_info_public - Информация по компаниям\n",
        "\n",
        "Столбец  | Значения\n",
        "---| ---\n",
        "hash_inn|\tОбезличенный ИНН\n",
        "okved2|\tОбезличенная отрасль \n",
        "region|\tОбезличенный регион \n",
        "is_public|\tФлаг выборка для обучения \\ контрольная\n",
        "\n",
        "В задаче необходимо для компаний с флагом -1 в поле okved2 файла inn_info_public проставить их отрасль. (Задача много-классовой классификации)\n"
      ],
      "metadata": {
        "id": "DyczUYl1mtob"
      }
    },
    {
      "cell_type": "markdown",
      "source": [
        "### Импорт библиотек и загрузка данных"
      ],
      "metadata": {
        "id": "FgjQANwQrH3v"
      }
    },
    {
      "cell_type": "code",
      "source": [
        "import pandas as pd\n",
        "import numpy as np\n",
        "import matplotlib.pylab as plt\n",
        "import seaborn as sns\n",
        "\n",
        "from IPython.display import clear_output\n",
        "from sklearn.model_selection import train_test_split\n",
        "from sklearn.metrics import roc_auc_score, confusion_matrix\n",
        "from pylab import rcParams\n",
        "rcParams['figure.figsize'] = 10, 6"
      ],
      "metadata": {
        "id": "SJKE_0GOhfK5"
      },
      "execution_count": null,
      "outputs": []
    },
    {
      "cell_type": "code",
      "source": [
        "! pip install catboost\n",
        "! gdown --id 1F_e_ewSrquwJ210TpZtOLyH1LKpTqRTl\n",
        "! unzip /content/sber_test.zip\n",
        "clear_output()"
      ],
      "metadata": {
        "id": "hQOrR9pjhBS0"
      },
      "execution_count": null,
      "outputs": []
    },
    {
      "cell_type": "code",
      "source": [
        "from catboost import CatBoostClassifier, Pool\n"
      ],
      "metadata": {
        "id": "XGb0nPNWvDTx"
      },
      "execution_count": null,
      "outputs": []
    },
    {
      "cell_type": "markdown",
      "source": [
        "Для возможности делиться блокнотом, загрузим данные из папки на [google drive](https://drive.google.com/file/d/1F_e_ewSrquwJ210TpZtOLyH1LKpTqRTl/view?usp=sharing)"
      ],
      "metadata": {
        "id": "OBSbFP_xU4n6"
      }
    },
    {
      "cell_type": "code",
      "source": [
        "inn_types = {'hash_inn':str,\t'okved2':str,'region':str,'is_public':bool}\n",
        "pays_types = {'hash_inn_kt':str,'hash_inn_dt':str,'week':int,'count':int,'sum':float}\n",
        "inn_info_public = pd.read_csv('inn_info_public.csv',dtype=inn_types)\n",
        "pays = pd.read_csv('pays.csv',dtype=pays_types)"
      ],
      "metadata": {
        "id": "lRbCyA3VWKjH"
      },
      "execution_count": null,
      "outputs": []
    },
    {
      "cell_type": "markdown",
      "source": [
        "### Описание и обработка данных"
      ],
      "metadata": {
        "id": "nL_cmeW8cv_A"
      }
    },
    {
      "cell_type": "markdown",
      "source": [
        "#### Описание"
      ],
      "metadata": {
        "id": "68UEn7Ncj9Qq"
      }
    },
    {
      "cell_type": "markdown",
      "source": [
        "Посмотрим на общий вид таблиц"
      ],
      "metadata": {
        "id": "zfCjf75AdDPX"
      }
    },
    {
      "cell_type": "code",
      "source": [
        "inn_info_public.info()\n",
        "inn_info_public.head()"
      ],
      "metadata": {
        "id": "aO8km9CTWZkG",
        "colab": {
          "base_uri": "https://localhost:8080/",
          "height": 397
        },
        "outputId": "bee3344e-16fb-44d2-8539-bc0c569cafc9"
      },
      "execution_count": null,
      "outputs": [
        {
          "output_type": "stream",
          "name": "stdout",
          "text": [
            "<class 'pandas.core.frame.DataFrame'>\n",
            "RangeIndex: 240069 entries, 0 to 240068\n",
            "Data columns (total 4 columns):\n",
            " #   Column     Non-Null Count   Dtype \n",
            "---  ------     --------------   ----- \n",
            " 0   hash_inn   240069 non-null  object\n",
            " 1   okved2     240069 non-null  object\n",
            " 2   region     240069 non-null  object\n",
            " 3   is_public  240069 non-null  bool  \n",
            "dtypes: bool(1), object(3)\n",
            "memory usage: 5.7+ MB\n"
          ]
        },
        {
          "output_type": "execute_result",
          "data": {
            "text/html": [
              "\n",
              "  <div id=\"df-80150f78-94db-48ab-9591-d40d3aa60717\">\n",
              "    <div class=\"colab-df-container\">\n",
              "      <div>\n",
              "<style scoped>\n",
              "    .dataframe tbody tr th:only-of-type {\n",
              "        vertical-align: middle;\n",
              "    }\n",
              "\n",
              "    .dataframe tbody tr th {\n",
              "        vertical-align: top;\n",
              "    }\n",
              "\n",
              "    .dataframe thead th {\n",
              "        text-align: right;\n",
              "    }\n",
              "</style>\n",
              "<table border=\"1\" class=\"dataframe\">\n",
              "  <thead>\n",
              "    <tr style=\"text-align: right;\">\n",
              "      <th></th>\n",
              "      <th>hash_inn</th>\n",
              "      <th>okved2</th>\n",
              "      <th>region</th>\n",
              "      <th>is_public</th>\n",
              "    </tr>\n",
              "  </thead>\n",
              "  <tbody>\n",
              "    <tr>\n",
              "      <th>0</th>\n",
              "      <td>61058</td>\n",
              "      <td>34</td>\n",
              "      <td>86</td>\n",
              "      <td>True</td>\n",
              "    </tr>\n",
              "    <tr>\n",
              "      <th>1</th>\n",
              "      <td>8311</td>\n",
              "      <td>18</td>\n",
              "      <td>86</td>\n",
              "      <td>True</td>\n",
              "    </tr>\n",
              "    <tr>\n",
              "      <th>2</th>\n",
              "      <td>130273</td>\n",
              "      <td>-1</td>\n",
              "      <td>86</td>\n",
              "      <td>False</td>\n",
              "    </tr>\n",
              "    <tr>\n",
              "      <th>3</th>\n",
              "      <td>64081</td>\n",
              "      <td>43</td>\n",
              "      <td>86</td>\n",
              "      <td>True</td>\n",
              "    </tr>\n",
              "    <tr>\n",
              "      <th>4</th>\n",
              "      <td>218005</td>\n",
              "      <td>12</td>\n",
              "      <td>86</td>\n",
              "      <td>True</td>\n",
              "    </tr>\n",
              "  </tbody>\n",
              "</table>\n",
              "</div>\n",
              "      <button class=\"colab-df-convert\" onclick=\"convertToInteractive('df-80150f78-94db-48ab-9591-d40d3aa60717')\"\n",
              "              title=\"Convert this dataframe to an interactive table.\"\n",
              "              style=\"display:none;\">\n",
              "        \n",
              "  <svg xmlns=\"http://www.w3.org/2000/svg\" height=\"24px\"viewBox=\"0 0 24 24\"\n",
              "       width=\"24px\">\n",
              "    <path d=\"M0 0h24v24H0V0z\" fill=\"none\"/>\n",
              "    <path d=\"M18.56 5.44l.94 2.06.94-2.06 2.06-.94-2.06-.94-.94-2.06-.94 2.06-2.06.94zm-11 1L8.5 8.5l.94-2.06 2.06-.94-2.06-.94L8.5 2.5l-.94 2.06-2.06.94zm10 10l.94 2.06.94-2.06 2.06-.94-2.06-.94-.94-2.06-.94 2.06-2.06.94z\"/><path d=\"M17.41 7.96l-1.37-1.37c-.4-.4-.92-.59-1.43-.59-.52 0-1.04.2-1.43.59L10.3 9.45l-7.72 7.72c-.78.78-.78 2.05 0 2.83L4 21.41c.39.39.9.59 1.41.59.51 0 1.02-.2 1.41-.59l7.78-7.78 2.81-2.81c.8-.78.8-2.07 0-2.86zM5.41 20L4 18.59l7.72-7.72 1.47 1.35L5.41 20z\"/>\n",
              "  </svg>\n",
              "      </button>\n",
              "      \n",
              "  <style>\n",
              "    .colab-df-container {\n",
              "      display:flex;\n",
              "      flex-wrap:wrap;\n",
              "      gap: 12px;\n",
              "    }\n",
              "\n",
              "    .colab-df-convert {\n",
              "      background-color: #E8F0FE;\n",
              "      border: none;\n",
              "      border-radius: 50%;\n",
              "      cursor: pointer;\n",
              "      display: none;\n",
              "      fill: #1967D2;\n",
              "      height: 32px;\n",
              "      padding: 0 0 0 0;\n",
              "      width: 32px;\n",
              "    }\n",
              "\n",
              "    .colab-df-convert:hover {\n",
              "      background-color: #E2EBFA;\n",
              "      box-shadow: 0px 1px 2px rgba(60, 64, 67, 0.3), 0px 1px 3px 1px rgba(60, 64, 67, 0.15);\n",
              "      fill: #174EA6;\n",
              "    }\n",
              "\n",
              "    [theme=dark] .colab-df-convert {\n",
              "      background-color: #3B4455;\n",
              "      fill: #D2E3FC;\n",
              "    }\n",
              "\n",
              "    [theme=dark] .colab-df-convert:hover {\n",
              "      background-color: #434B5C;\n",
              "      box-shadow: 0px 1px 3px 1px rgba(0, 0, 0, 0.15);\n",
              "      filter: drop-shadow(0px 1px 2px rgba(0, 0, 0, 0.3));\n",
              "      fill: #FFFFFF;\n",
              "    }\n",
              "  </style>\n",
              "\n",
              "      <script>\n",
              "        const buttonEl =\n",
              "          document.querySelector('#df-80150f78-94db-48ab-9591-d40d3aa60717 button.colab-df-convert');\n",
              "        buttonEl.style.display =\n",
              "          google.colab.kernel.accessAllowed ? 'block' : 'none';\n",
              "\n",
              "        async function convertToInteractive(key) {\n",
              "          const element = document.querySelector('#df-80150f78-94db-48ab-9591-d40d3aa60717');\n",
              "          const dataTable =\n",
              "            await google.colab.kernel.invokeFunction('convertToInteractive',\n",
              "                                                     [key], {});\n",
              "          if (!dataTable) return;\n",
              "\n",
              "          const docLinkHtml = 'Like what you see? Visit the ' +\n",
              "            '<a target=\"_blank\" href=https://colab.research.google.com/notebooks/data_table.ipynb>data table notebook</a>'\n",
              "            + ' to learn more about interactive tables.';\n",
              "          element.innerHTML = '';\n",
              "          dataTable['output_type'] = 'display_data';\n",
              "          await google.colab.output.renderOutput(dataTable, element);\n",
              "          const docLink = document.createElement('div');\n",
              "          docLink.innerHTML = docLinkHtml;\n",
              "          element.appendChild(docLink);\n",
              "        }\n",
              "      </script>\n",
              "    </div>\n",
              "  </div>\n",
              "  "
            ],
            "text/plain": [
              "  hash_inn okved2 region  is_public\n",
              "0    61058     34     86       True\n",
              "1     8311     18     86       True\n",
              "2   130273     -1     86      False\n",
              "3    64081     43     86       True\n",
              "4   218005     12     86       True"
            ]
          },
          "metadata": {},
          "execution_count": 50
        }
      ]
    },
    {
      "cell_type": "code",
      "source": [
        "pays.info()\n",
        "pays.head()"
      ],
      "metadata": {
        "id": "4D65jolzWbkm",
        "colab": {
          "base_uri": "https://localhost:8080/",
          "height": 414
        },
        "outputId": "7e7d1978-8c44-4dac-8787-3b5e7389bacc"
      },
      "execution_count": null,
      "outputs": [
        {
          "output_type": "stream",
          "name": "stdout",
          "text": [
            "<class 'pandas.core.frame.DataFrame'>\n",
            "RangeIndex: 5430150 entries, 0 to 5430149\n",
            "Data columns (total 5 columns):\n",
            " #   Column       Dtype  \n",
            "---  ------       -----  \n",
            " 0   hash_inn_kt  object \n",
            " 1   hash_inn_dt  object \n",
            " 2   week         int64  \n",
            " 3   count        int64  \n",
            " 4   sum          float64\n",
            "dtypes: float64(1), int64(2), object(2)\n",
            "memory usage: 207.1+ MB\n"
          ]
        },
        {
          "output_type": "execute_result",
          "data": {
            "text/html": [
              "\n",
              "  <div id=\"df-828410ca-8ded-439b-a4a3-4c97aed88ccc\">\n",
              "    <div class=\"colab-df-container\">\n",
              "      <div>\n",
              "<style scoped>\n",
              "    .dataframe tbody tr th:only-of-type {\n",
              "        vertical-align: middle;\n",
              "    }\n",
              "\n",
              "    .dataframe tbody tr th {\n",
              "        vertical-align: top;\n",
              "    }\n",
              "\n",
              "    .dataframe thead th {\n",
              "        text-align: right;\n",
              "    }\n",
              "</style>\n",
              "<table border=\"1\" class=\"dataframe\">\n",
              "  <thead>\n",
              "    <tr style=\"text-align: right;\">\n",
              "      <th></th>\n",
              "      <th>hash_inn_kt</th>\n",
              "      <th>hash_inn_dt</th>\n",
              "      <th>week</th>\n",
              "      <th>count</th>\n",
              "      <th>sum</th>\n",
              "    </tr>\n",
              "  </thead>\n",
              "  <tbody>\n",
              "    <tr>\n",
              "      <th>0</th>\n",
              "      <td>0</td>\n",
              "      <td>0</td>\n",
              "      <td>1</td>\n",
              "      <td>4</td>\n",
              "      <td>38399.6</td>\n",
              "    </tr>\n",
              "    <tr>\n",
              "      <th>1</th>\n",
              "      <td>0</td>\n",
              "      <td>0</td>\n",
              "      <td>5</td>\n",
              "      <td>2</td>\n",
              "      <td>399.6</td>\n",
              "    </tr>\n",
              "    <tr>\n",
              "      <th>2</th>\n",
              "      <td>0</td>\n",
              "      <td>0</td>\n",
              "      <td>7</td>\n",
              "      <td>2</td>\n",
              "      <td>79.6</td>\n",
              "    </tr>\n",
              "    <tr>\n",
              "      <th>3</th>\n",
              "      <td>0</td>\n",
              "      <td>0</td>\n",
              "      <td>9</td>\n",
              "      <td>2</td>\n",
              "      <td>239.6</td>\n",
              "    </tr>\n",
              "    <tr>\n",
              "      <th>4</th>\n",
              "      <td>0</td>\n",
              "      <td>0</td>\n",
              "      <td>12</td>\n",
              "      <td>2</td>\n",
              "      <td>79.6</td>\n",
              "    </tr>\n",
              "  </tbody>\n",
              "</table>\n",
              "</div>\n",
              "      <button class=\"colab-df-convert\" onclick=\"convertToInteractive('df-828410ca-8ded-439b-a4a3-4c97aed88ccc')\"\n",
              "              title=\"Convert this dataframe to an interactive table.\"\n",
              "              style=\"display:none;\">\n",
              "        \n",
              "  <svg xmlns=\"http://www.w3.org/2000/svg\" height=\"24px\"viewBox=\"0 0 24 24\"\n",
              "       width=\"24px\">\n",
              "    <path d=\"M0 0h24v24H0V0z\" fill=\"none\"/>\n",
              "    <path d=\"M18.56 5.44l.94 2.06.94-2.06 2.06-.94-2.06-.94-.94-2.06-.94 2.06-2.06.94zm-11 1L8.5 8.5l.94-2.06 2.06-.94-2.06-.94L8.5 2.5l-.94 2.06-2.06.94zm10 10l.94 2.06.94-2.06 2.06-.94-2.06-.94-.94-2.06-.94 2.06-2.06.94z\"/><path d=\"M17.41 7.96l-1.37-1.37c-.4-.4-.92-.59-1.43-.59-.52 0-1.04.2-1.43.59L10.3 9.45l-7.72 7.72c-.78.78-.78 2.05 0 2.83L4 21.41c.39.39.9.59 1.41.59.51 0 1.02-.2 1.41-.59l7.78-7.78 2.81-2.81c.8-.78.8-2.07 0-2.86zM5.41 20L4 18.59l7.72-7.72 1.47 1.35L5.41 20z\"/>\n",
              "  </svg>\n",
              "      </button>\n",
              "      \n",
              "  <style>\n",
              "    .colab-df-container {\n",
              "      display:flex;\n",
              "      flex-wrap:wrap;\n",
              "      gap: 12px;\n",
              "    }\n",
              "\n",
              "    .colab-df-convert {\n",
              "      background-color: #E8F0FE;\n",
              "      border: none;\n",
              "      border-radius: 50%;\n",
              "      cursor: pointer;\n",
              "      display: none;\n",
              "      fill: #1967D2;\n",
              "      height: 32px;\n",
              "      padding: 0 0 0 0;\n",
              "      width: 32px;\n",
              "    }\n",
              "\n",
              "    .colab-df-convert:hover {\n",
              "      background-color: #E2EBFA;\n",
              "      box-shadow: 0px 1px 2px rgba(60, 64, 67, 0.3), 0px 1px 3px 1px rgba(60, 64, 67, 0.15);\n",
              "      fill: #174EA6;\n",
              "    }\n",
              "\n",
              "    [theme=dark] .colab-df-convert {\n",
              "      background-color: #3B4455;\n",
              "      fill: #D2E3FC;\n",
              "    }\n",
              "\n",
              "    [theme=dark] .colab-df-convert:hover {\n",
              "      background-color: #434B5C;\n",
              "      box-shadow: 0px 1px 3px 1px rgba(0, 0, 0, 0.15);\n",
              "      filter: drop-shadow(0px 1px 2px rgba(0, 0, 0, 0.3));\n",
              "      fill: #FFFFFF;\n",
              "    }\n",
              "  </style>\n",
              "\n",
              "      <script>\n",
              "        const buttonEl =\n",
              "          document.querySelector('#df-828410ca-8ded-439b-a4a3-4c97aed88ccc button.colab-df-convert');\n",
              "        buttonEl.style.display =\n",
              "          google.colab.kernel.accessAllowed ? 'block' : 'none';\n",
              "\n",
              "        async function convertToInteractive(key) {\n",
              "          const element = document.querySelector('#df-828410ca-8ded-439b-a4a3-4c97aed88ccc');\n",
              "          const dataTable =\n",
              "            await google.colab.kernel.invokeFunction('convertToInteractive',\n",
              "                                                     [key], {});\n",
              "          if (!dataTable) return;\n",
              "\n",
              "          const docLinkHtml = 'Like what you see? Visit the ' +\n",
              "            '<a target=\"_blank\" href=https://colab.research.google.com/notebooks/data_table.ipynb>data table notebook</a>'\n",
              "            + ' to learn more about interactive tables.';\n",
              "          element.innerHTML = '';\n",
              "          dataTable['output_type'] = 'display_data';\n",
              "          await google.colab.output.renderOutput(dataTable, element);\n",
              "          const docLink = document.createElement('div');\n",
              "          docLink.innerHTML = docLinkHtml;\n",
              "          element.appendChild(docLink);\n",
              "        }\n",
              "      </script>\n",
              "    </div>\n",
              "  </div>\n",
              "  "
            ],
            "text/plain": [
              "  hash_inn_kt hash_inn_dt  week  count      sum\n",
              "0           0           0     1      4  38399.6\n",
              "1           0           0     5      2    399.6\n",
              "2           0           0     7      2     79.6\n",
              "3           0           0     9      2    239.6\n",
              "4           0           0    12      2     79.6"
            ]
          },
          "metadata": {},
          "execution_count": 51
        }
      ]
    },
    {
      "cell_type": "code",
      "source": [
        "print('Количество дубликатов в таблице с inn:',inn_info_public.hash_inn.duplicated().sum())\n",
        "print('Количество уникальных инн в таблице с платежами:',pays['hash_inn_kt'].nunique())\n",
        "\n",
        "inn_info_train = inn_info_public.query('is_public==True').drop('is_public',axis=1).copy()\n",
        "inn_info_private = inn_info_public.query('is_public==False').drop('is_public',axis=1).copy()\n",
        "\n",
        "print(f'Размер тестовой выборки: {inn_info_train.shape[0]}\\\n",
        "      \\nРазмер скрытой выборки: {inn_info_private.shape[0]}')"
      ],
      "metadata": {
        "id": "j3tTpjCudPqa",
        "colab": {
          "base_uri": "https://localhost:8080/"
        },
        "outputId": "6d3be622-2041-4f9e-dfe9-8a2738db09d5"
      },
      "execution_count": null,
      "outputs": [
        {
          "output_type": "stream",
          "name": "stdout",
          "text": [
            "Количество дубликатов в таблице с inn: 0\n",
            "Количество уникальных инн в таблице с платежами: 152160\n",
            "Размер тестовой выборки: 161415      \n",
            "Размер скрытой выборки: 78654\n"
          ]
        }
      ]
    },
    {
      "cell_type": "markdown",
      "source": [
        "В таблице inn_info_public имеется иформация о 240069 компаниях, у 78654 компаний неизвестна отрасль, которую и необходимо определить. Это целевой признак задачи.\n",
        "\n",
        "Также имеются данные о 5430150 операциях между компаниями, сгруппированных по неделям.\n",
        "\n",
        "Сформулируем первоначальные гипотезы и проверим баланс классов в выборке перед обработкой данных."
      ],
      "metadata": {
        "id": "GxxGD17Xf0su"
      }
    },
    {
      "cell_type": "markdown",
      "source": [
        "#### Гипотезы"
      ],
      "metadata": {
        "id": "m9NFmkHVj5dP"
      }
    },
    {
      "cell_type": "markdown",
      "source": [
        "- Распределние компаний по отраслям имеет экспоненциальный вид, т.е. есть отрасли с явным преобладанием по количеству представителей.\n",
        "- Есть отрасли, для которых количество/сумма платежей имеет годовую сезонность (например туризм).\n",
        "- Также есть отрасли, для которых количество/сумма платежей не имеет годовую сезонность. (например розничная торговля продуктами питания)\n",
        "- Количество переводов и их сумма имеет обратно пропорциональную зависимость. Средняя сумма перевода зависит от отрасли.\n",
        "- Компании можно разделить на три  группы: которые в основном делают переводы, которые в основном получают переводы, которые примерно одинаково принимают и получают переводы. Компании из одной отрасли относятся к одной группе."
      ],
      "metadata": {
        "id": "Qj7fnAZddI6-"
      }
    },
    {
      "cell_type": "code",
      "source": [
        "plt.subplot(211)\n",
        "(inn_info_train.okved2.value_counts()*100 / len(inn_info_train)).plot(figsize=(10,7))\n",
        "plt.title('Распределение компаний по отраслям')\n",
        "plt.ylabel('Доля отрасли по количеству\\n пердставителей в процентах')\n",
        "\n",
        "plt.subplot(212)\n",
        "inn_info_train.okved2.value_counts().plot()\n",
        "plt.xlabel('обезличенная отрасль')\n",
        "plt.ylabel('Количество компаний\\n в логарифмированном масштабе')\n",
        "plt.yscale('log')\n",
        "plt.show()"
      ],
      "metadata": {
        "id": "DVfDwN5sXQ94",
        "colab": {
          "base_uri": "https://localhost:8080/",
          "height": 458
        },
        "outputId": "ddd73e84-29ca-4c75-dc2a-a1394a2b04ab"
      },
      "execution_count": null,
      "outputs": [
        {
          "output_type": "display_data",
          "data": {
            "image/png": "[encoded data removed]",
            "text/plain": [
              "<Figure size 720x504 with 2 Axes>"
            ]
          },
          "metadata": {
            "needs_background": "light"
          }
        }
      ]
    },
    {
      "cell_type": "markdown",
      "source": [
        "Гипотеза об экспоненциальном распределение компаний по отраслям подтвердилась. Дейсствительно есть отрасли, компании из которых преобладают на рынке по количеству представителей. \n",
        "\n",
        "Предпологая, что выборки является репрезентативными, определим один из критериев оценки модели - соотношение классов должно быть похожим для `inn_info_private` и для `inn_info_train`.\n",
        "\n",
        "Объединим таблицы и проведем проверки остальных гипотез."
      ],
      "metadata": {
        "id": "YZo_wvAStKVb"
      }
    },
    {
      "cell_type": "code",
      "source": [
        "data = pays.merge(inn_info_public,left_on='hash_inn_kt', right_on='hash_inn').drop('is_public',axis=1)"
      ],
      "metadata": {
        "id": "O2LQ_Oa_wWSx"
      },
      "execution_count": null,
      "outputs": []
    },
    {
      "cell_type": "code",
      "source": [
        "data['sum_log'] = np.log(data['sum']+1)\n",
        "data['count_log'] = np.log(data['count']+1)\n",
        "data['mean_sum'] = data['sum'] / data['count']\n",
        "data['mean_sum_log'] = np.log(data['mean_sum'])"
      ],
      "metadata": {
        "id": "69foTkaT6ad7"
      },
      "execution_count": null,
      "outputs": []
    },
    {
      "cell_type": "code",
      "source": [
        "data.sample(frac=0.1,random_state=12345).plot(x='mean_sum',y='count',kind='scatter')\n"
      ],
      "metadata": {
        "id": "aZ-ve96L6Cox",
        "colab": {
          "base_uri": "https://localhost:8080/",
          "height": 406
        },
        "outputId": "de16eed3-ee50-41f3-8add-f8aa83e1a1a0"
      },
      "execution_count": null,
      "outputs": [
        {
          "output_type": "execute_result",
          "data": {
            "text/plain": [
              "<matplotlib.axes._subplots.AxesSubplot at 0x7f8f0d1a2b50>"
            ]
          },
          "metadata": {},
          "execution_count": 56
        },
        {
          "output_type": "display_data",
          "data": {
            "image/png": "[encoded data removed]",
            "text/plain": [
              "<Figure size 720x432 with 1 Axes>"
            ]
          },
          "metadata": {
            "needs_background": "light"
          }
        }
      ]
    },
    {
      "cell_type": "code",
      "source": [
        "data.sample(frac=0.1,random_state=12345).plot(x='sum_log',y='count_log',kind='scatter')"
      ],
      "metadata": {
        "id": "TG3VwHWb_UGY",
        "colab": {
          "base_uri": "https://localhost:8080/",
          "height": 406
        },
        "outputId": "4e2692d9-1794-4523-dddd-6ed47248c0b7"
      },
      "execution_count": null,
      "outputs": [
        {
          "output_type": "execute_result",
          "data": {
            "text/plain": [
              "<matplotlib.axes._subplots.AxesSubplot at 0x7f8f2045fad0>"
            ]
          },
          "metadata": {},
          "execution_count": 57
        },
        {
          "output_type": "display_data",
          "data": {
            "image/png": "[encoded data removed]",
            "text/plain": [
              "<Figure size 720x432 with 1 Axes>"
            ]
          },
          "metadata": {
            "needs_background": "light"
          }
        }
      ]
    },
    {
      "cell_type": "code",
      "source": [
        "def style_negative(v, props=''):\n",
        "    return props if v < 0 else None\n",
        "\n",
        "data.corr().style.applymap(style_negative, props='color:red')\\\n",
        "              .applymap(lambda v: 'opacity: 20%' if (v < 0.2) and (v > -0.2) else None)"
      ],
      "metadata": {
        "id": "RGc3dbyL_mdz",
        "colab": {
          "base_uri": "https://localhost:8080/",
          "height": 269
        },
        "outputId": "332380d8-a7ef-4587-ac49-e7fcfedd85ab"
      },
      "execution_count": null,
      "outputs": [
        {
          "output_type": "execute_result",
          "data": {
            "text/html": [
              "<style type=\"text/css\">\n",
              "#T_4a522_row0_col1, #T_4a522_row0_col3, #T_4a522_row0_col4, #T_4a522_row1_col0, #T_4a522_row1_col2, #T_4a522_row1_col5, #T_4a522_row1_col6, #T_4a522_row2_col1, #T_4a522_row2_col3, #T_4a522_row2_col4, #T_4a522_row2_col6, #T_4a522_row3_col0, #T_4a522_row3_col2, #T_4a522_row4_col0, #T_4a522_row4_col2, #T_4a522_row4_col5, #T_4a522_row4_col6, #T_4a522_row5_col1, #T_4a522_row5_col4, #T_4a522_row6_col1, #T_4a522_row6_col2, #T_4a522_row6_col4 {\n",
              "  opacity: 20%;\n",
              "}\n",
              "#T_4a522_row0_col2, #T_4a522_row0_col5, #T_4a522_row0_col6, #T_4a522_row2_col0, #T_4a522_row5_col0, #T_4a522_row6_col0 {\n",
              "  color: red;\n",
              "  opacity: 20%;\n",
              "}\n",
              "</style>\n",
              "<table id=\"T_4a522_\" class=\"dataframe\">\n",
              "  <thead>\n",
              "    <tr>\n",
              "      <th class=\"blank level0\" >&nbsp;</th>\n",
              "      <th class=\"col_heading level0 col0\" >week</th>\n",
              "      <th class=\"col_heading level0 col1\" >count</th>\n",
              "      <th class=\"col_heading level0 col2\" >sum</th>\n",
              "      <th class=\"col_heading level0 col3\" >sum_log</th>\n",
              "      <th class=\"col_heading level0 col4\" >count_log</th>\n",
              "      <th class=\"col_heading level0 col5\" >mean_sum</th>\n",
              "      <th class=\"col_heading level0 col6\" >mean_sum_log</th>\n",
              "    </tr>\n",
              "  </thead>\n",
              "  <tbody>\n",
              "    <tr>\n",
              "      <th id=\"T_4a522_level0_row0\" class=\"row_heading level0 row0\" >week</th>\n",
              "      <td id=\"T_4a522_row0_col0\" class=\"data row0 col0\" >1.000000</td>\n",
              "      <td id=\"T_4a522_row0_col1\" class=\"data row0 col1\" >0.004373</td>\n",
              "      <td id=\"T_4a522_row0_col2\" class=\"data row0 col2\" >-0.000930</td>\n",
              "      <td id=\"T_4a522_row0_col3\" class=\"data row0 col3\" >0.002701</td>\n",
              "      <td id=\"T_4a522_row0_col4\" class=\"data row0 col4\" >0.010936</td>\n",
              "      <td id=\"T_4a522_row0_col5\" class=\"data row0 col5\" >-0.001071</td>\n",
              "      <td id=\"T_4a522_row0_col6\" class=\"data row0 col6\" >-0.001128</td>\n",
              "    </tr>\n",
              "    <tr>\n",
              "      <th id=\"T_4a522_level0_row1\" class=\"row_heading level0 row1\" >count</th>\n",
              "      <td id=\"T_4a522_row1_col0\" class=\"data row1 col0\" >0.004373</td>\n",
              "      <td id=\"T_4a522_row1_col1\" class=\"data row1 col1\" >1.000000</td>\n",
              "      <td id=\"T_4a522_row1_col2\" class=\"data row1 col2\" >0.138059</td>\n",
              "      <td id=\"T_4a522_row1_col3\" class=\"data row1 col3\" >0.263986</td>\n",
              "      <td id=\"T_4a522_row1_col4\" class=\"data row1 col4\" >0.636465</td>\n",
              "      <td id=\"T_4a522_row1_col5\" class=\"data row1 col5\" >0.027379</td>\n",
              "      <td id=\"T_4a522_row1_col6\" class=\"data row1 col6\" >0.079975</td>\n",
              "    </tr>\n",
              "    <tr>\n",
              "      <th id=\"T_4a522_level0_row2\" class=\"row_heading level0 row2\" >sum</th>\n",
              "      <td id=\"T_4a522_row2_col0\" class=\"data row2 col0\" >-0.000930</td>\n",
              "      <td id=\"T_4a522_row2_col1\" class=\"data row2 col1\" >0.138059</td>\n",
              "      <td id=\"T_4a522_row2_col2\" class=\"data row2 col2\" >1.000000</td>\n",
              "      <td id=\"T_4a522_row2_col3\" class=\"data row2 col3\" >0.176029</td>\n",
              "      <td id=\"T_4a522_row2_col4\" class=\"data row2 col4\" >0.112100</td>\n",
              "      <td id=\"T_4a522_row2_col5\" class=\"data row2 col5\" >0.656320</td>\n",
              "      <td id=\"T_4a522_row2_col6\" class=\"data row2 col6\" >0.145322</td>\n",
              "    </tr>\n",
              "    <tr>\n",
              "      <th id=\"T_4a522_level0_row3\" class=\"row_heading level0 row3\" >sum_log</th>\n",
              "      <td id=\"T_4a522_row3_col0\" class=\"data row3 col0\" >0.002701</td>\n",
              "      <td id=\"T_4a522_row3_col1\" class=\"data row3 col1\" >0.263986</td>\n",
              "      <td id=\"T_4a522_row3_col2\" class=\"data row3 col2\" >0.176029</td>\n",
              "      <td id=\"T_4a522_row3_col3\" class=\"data row3 col3\" >1.000000</td>\n",
              "      <td id=\"T_4a522_row3_col4\" class=\"data row3 col4\" >0.440018</td>\n",
              "      <td id=\"T_4a522_row3_col5\" class=\"data row3 col5\" >0.220435</td>\n",
              "      <td id=\"T_4a522_row3_col6\" class=\"data row3 col6\" >0.937613</td>\n",
              "    </tr>\n",
              "    <tr>\n",
              "      <th id=\"T_4a522_level0_row4\" class=\"row_heading level0 row4\" >count_log</th>\n",
              "      <td id=\"T_4a522_row4_col0\" class=\"data row4 col0\" >0.010936</td>\n",
              "      <td id=\"T_4a522_row4_col1\" class=\"data row4 col1\" >0.636465</td>\n",
              "      <td id=\"T_4a522_row4_col2\" class=\"data row4 col2\" >0.112100</td>\n",
              "      <td id=\"T_4a522_row4_col3\" class=\"data row4 col3\" >0.440018</td>\n",
              "      <td id=\"T_4a522_row4_col4\" class=\"data row4 col4\" >1.000000</td>\n",
              "      <td id=\"T_4a522_row4_col5\" class=\"data row4 col5\" >0.041874</td>\n",
              "      <td id=\"T_4a522_row4_col6\" class=\"data row4 col6\" >0.131993</td>\n",
              "    </tr>\n",
              "    <tr>\n",
              "      <th id=\"T_4a522_level0_row5\" class=\"row_heading level0 row5\" >mean_sum</th>\n",
              "      <td id=\"T_4a522_row5_col0\" class=\"data row5 col0\" >-0.001071</td>\n",
              "      <td id=\"T_4a522_row5_col1\" class=\"data row5 col1\" >0.027379</td>\n",
              "      <td id=\"T_4a522_row5_col2\" class=\"data row5 col2\" >0.656320</td>\n",
              "      <td id=\"T_4a522_row5_col3\" class=\"data row5 col3\" >0.220435</td>\n",
              "      <td id=\"T_4a522_row5_col4\" class=\"data row5 col4\" >0.041874</td>\n",
              "      <td id=\"T_4a522_row5_col5\" class=\"data row5 col5\" >1.000000</td>\n",
              "      <td id=\"T_4a522_row5_col6\" class=\"data row5 col6\" >0.211061</td>\n",
              "    </tr>\n",
              "    <tr>\n",
              "      <th id=\"T_4a522_level0_row6\" class=\"row_heading level0 row6\" >mean_sum_log</th>\n",
              "      <td id=\"T_4a522_row6_col0\" class=\"data row6 col0\" >-0.001128</td>\n",
              "      <td id=\"T_4a522_row6_col1\" class=\"data row6 col1\" >0.079975</td>\n",
              "      <td id=\"T_4a522_row6_col2\" class=\"data row6 col2\" >0.145322</td>\n",
              "      <td id=\"T_4a522_row6_col3\" class=\"data row6 col3\" >0.937613</td>\n",
              "      <td id=\"T_4a522_row6_col4\" class=\"data row6 col4\" >0.131993</td>\n",
              "      <td id=\"T_4a522_row6_col5\" class=\"data row6 col5\" >0.211061</td>\n",
              "      <td id=\"T_4a522_row6_col6\" class=\"data row6 col6\" >1.000000</td>\n",
              "    </tr>\n",
              "  </tbody>\n",
              "</table>\n"
            ],
            "text/plain": [
              "<pandas.io.formats.style.Styler at 0x7f8f20408e50>"
            ]
          },
          "metadata": {},
          "execution_count": 58
        }
      ]
    },
    {
      "cell_type": "markdown",
      "source": [
        "Визуально между количеством операций и суммой операций не наблюдщается никакой зависимости даже в логарифмированном масштабе, по корреляции Пирсона есть слабая линейная зависимость между числом операций и логарифмированной суммой операций. Также есть зависимость между логарифмированным количеством операций и логарифмированной суммой операций. Это говорит о том, что нельзя эти признаки использовать вместе для ML.\n",
        "\n",
        "Из всех представленных признаков оставим только mean_sum, count."
      ],
      "metadata": {
        "id": "rUaoiJQ3_lcc"
      }
    },
    {
      "cell_type": "code",
      "source": [
        "ratio_inn = data.groupby(['hash_inn_kt'],as_index=False)['count'].sum().merge(\n",
        "    data.groupby(['hash_inn_dt'],as_index=False)['count'].sum(),\n",
        "    left_on='hash_inn_kt', right_on='hash_inn_dt',how='outer',suffixes=('_kt','_dt'))#.drop('hash_inn_dt', axis=1)\n",
        "ratio_inn[['count_kt','count_dt']] = ratio_inn[['count_kt','count_dt']].fillna(1)\n",
        "ratio_inn['ratio'] = ratio_inn['count_kt'] /  ratio_inn['count_dt']"
      ],
      "metadata": {
        "id": "sXuSBHbYFAto"
      },
      "execution_count": null,
      "outputs": []
    },
    {
      "cell_type": "code",
      "source": [
        "ratio_inn.query('ratio < 4')['ratio'].round(1).hist(bins=200)"
      ],
      "metadata": {
        "id": "PI9dQ4uNJsXt",
        "colab": {
          "base_uri": "https://localhost:8080/",
          "height": 391
        },
        "outputId": "8bdfe65b-e8cf-4a75-bd47-e7296a128d05"
      },
      "execution_count": null,
      "outputs": [
        {
          "output_type": "execute_result",
          "data": {
            "text/plain": [
              "<matplotlib.axes._subplots.AxesSubplot at 0x7f8f3465bf90>"
            ]
          },
          "metadata": {},
          "execution_count": 60
        },
        {
          "output_type": "display_data",
          "data": {
            "image/png": "[encoded data removed]",
            "text/plain": [
              "<Figure size 720x432 with 1 Axes>"
            ]
          },
          "metadata": {
            "needs_background": "light"
          }
        }
      ]
    },
    {
      "cell_type": "markdown",
      "source": [
        "Разделим на три группы по отношению отправленные переводы к принятым: меньше 0.6, то 0.6 до 1.5, больше 1.5.\n",
        "\n",
        "Есть компании, которые только принимают платежи, а есть которые только отправляют. Также добавим их в классификацию. То есть получается 5 видов компаний. \n",
        "\n",
        "Создадим таблицу содержащую номер группы для каждого инн. "
      ],
      "metadata": {
        "id": "x4L2mwc0nbsw"
      }
    },
    {
      "cell_type": "code",
      "source": [
        "ratio_inn.loc[ratio_inn.ratio < 0.6,'group'] = '1'\n",
        "ratio_inn.loc[ratio_inn.ratio > 1.5,'group'] = '3'\n",
        "ratio_inn.loc[ratio_inn.hash_inn_kt.isna() ,'group'] = '0'\n",
        "ratio_inn.loc[ratio_inn.hash_inn_dt.isna() ,'group'] = '4'\n",
        "ratio_inn.group = ratio_inn.group.fillna('2')"
      ],
      "metadata": {
        "id": "o-CzSRqAuIW_"
      },
      "execution_count": null,
      "outputs": []
    },
    {
      "cell_type": "code",
      "source": [
        "ratio_inn.hash_inn_kt = ratio_inn.hash_inn_kt.fillna(ratio_inn.hash_inn_dt)"
      ],
      "metadata": {
        "id": "uPkC3N5kyEsz"
      },
      "execution_count": null,
      "outputs": []
    },
    {
      "cell_type": "code",
      "source": [
        "ratio_inn"
      ],
      "metadata": {
        "id": "xxn4StFc2S6l",
        "colab": {
          "base_uri": "https://localhost:8080/",
          "height": 423
        },
        "outputId": "532d1a2d-084f-4f66-bcf1-e5cfdb0057cd"
      },
      "execution_count": null,
      "outputs": [
        {
          "output_type": "execute_result",
          "data": {
            "text/html": [
              "\n",
              "  <div id=\"df-b01b22e5-2d8b-40cd-a90d-3e1c5fb132a0\">\n",
              "    <div class=\"colab-df-container\">\n",
              "      <div>\n",
              "<style scoped>\n",
              "    .dataframe tbody tr th:only-of-type {\n",
              "        vertical-align: middle;\n",
              "    }\n",
              "\n",
              "    .dataframe tbody tr th {\n",
              "        vertical-align: top;\n",
              "    }\n",
              "\n",
              "    .dataframe thead th {\n",
              "        text-align: right;\n",
              "    }\n",
              "</style>\n",
              "<table border=\"1\" class=\"dataframe\">\n",
              "  <thead>\n",
              "    <tr style=\"text-align: right;\">\n",
              "      <th></th>\n",
              "      <th>hash_inn_kt</th>\n",
              "      <th>count_kt</th>\n",
              "      <th>hash_inn_dt</th>\n",
              "      <th>count_dt</th>\n",
              "      <th>ratio</th>\n",
              "      <th>group</th>\n",
              "    </tr>\n",
              "  </thead>\n",
              "  <tbody>\n",
              "    <tr>\n",
              "      <th>0</th>\n",
              "      <td>0</td>\n",
              "      <td>194.0</td>\n",
              "      <td>0</td>\n",
              "      <td>1077.0</td>\n",
              "      <td>0.180130</td>\n",
              "      <td>1</td>\n",
              "    </tr>\n",
              "    <tr>\n",
              "      <th>1</th>\n",
              "      <td>1</td>\n",
              "      <td>14.0</td>\n",
              "      <td>NaN</td>\n",
              "      <td>1.0</td>\n",
              "      <td>14.000000</td>\n",
              "      <td>4</td>\n",
              "    </tr>\n",
              "    <tr>\n",
              "      <th>2</th>\n",
              "      <td>10</td>\n",
              "      <td>4.0</td>\n",
              "      <td>10</td>\n",
              "      <td>72.0</td>\n",
              "      <td>0.055556</td>\n",
              "      <td>1</td>\n",
              "    </tr>\n",
              "    <tr>\n",
              "      <th>3</th>\n",
              "      <td>100001</td>\n",
              "      <td>38.0</td>\n",
              "      <td>100001</td>\n",
              "      <td>26.0</td>\n",
              "      <td>1.461538</td>\n",
              "      <td>2</td>\n",
              "    </tr>\n",
              "    <tr>\n",
              "      <th>4</th>\n",
              "      <td>100002</td>\n",
              "      <td>4.0</td>\n",
              "      <td>NaN</td>\n",
              "      <td>1.0</td>\n",
              "      <td>4.000000</td>\n",
              "      <td>4</td>\n",
              "    </tr>\n",
              "    <tr>\n",
              "      <th>...</th>\n",
              "      <td>...</td>\n",
              "      <td>...</td>\n",
              "      <td>...</td>\n",
              "      <td>...</td>\n",
              "      <td>...</td>\n",
              "      <td>...</td>\n",
              "    </tr>\n",
              "    <tr>\n",
              "      <th>240066</th>\n",
              "      <td>99982</td>\n",
              "      <td>1.0</td>\n",
              "      <td>99982</td>\n",
              "      <td>45.0</td>\n",
              "      <td>0.022222</td>\n",
              "      <td>0</td>\n",
              "    </tr>\n",
              "    <tr>\n",
              "      <th>240067</th>\n",
              "      <td>99986</td>\n",
              "      <td>1.0</td>\n",
              "      <td>99986</td>\n",
              "      <td>2.0</td>\n",
              "      <td>0.500000</td>\n",
              "      <td>0</td>\n",
              "    </tr>\n",
              "    <tr>\n",
              "      <th>240068</th>\n",
              "      <td>99987</td>\n",
              "      <td>1.0</td>\n",
              "      <td>99987</td>\n",
              "      <td>3.0</td>\n",
              "      <td>0.333333</td>\n",
              "      <td>0</td>\n",
              "    </tr>\n",
              "    <tr>\n",
              "      <th>240069</th>\n",
              "      <td>99994</td>\n",
              "      <td>1.0</td>\n",
              "      <td>99994</td>\n",
              "      <td>2.0</td>\n",
              "      <td>0.500000</td>\n",
              "      <td>0</td>\n",
              "    </tr>\n",
              "    <tr>\n",
              "      <th>240070</th>\n",
              "      <td>99997</td>\n",
              "      <td>1.0</td>\n",
              "      <td>99997</td>\n",
              "      <td>5.0</td>\n",
              "      <td>0.200000</td>\n",
              "      <td>0</td>\n",
              "    </tr>\n",
              "  </tbody>\n",
              "</table>\n",
              "<p>240071 rows × 6 columns</p>\n",
              "</div>\n",
              "      <button class=\"colab-df-convert\" onclick=\"convertToInteractive('df-b01b22e5-2d8b-40cd-a90d-3e1c5fb132a0')\"\n",
              "              title=\"Convert this dataframe to an interactive table.\"\n",
              "              style=\"display:none;\">\n",
              "        \n",
              "  <svg xmlns=\"http://www.w3.org/2000/svg\" height=\"24px\"viewBox=\"0 0 24 24\"\n",
              "       width=\"24px\">\n",
              "    <path d=\"M0 0h24v24H0V0z\" fill=\"none\"/>\n",
              "    <path d=\"M18.56 5.44l.94 2.06.94-2.06 2.06-.94-2.06-.94-.94-2.06-.94 2.06-2.06.94zm-11 1L8.5 8.5l.94-2.06 2.06-.94-2.06-.94L8.5 2.5l-.94 2.06-2.06.94zm10 10l.94 2.06.94-2.06 2.06-.94-2.06-.94-.94-2.06-.94 2.06-2.06.94z\"/><path d=\"M17.41 7.96l-1.37-1.37c-.4-.4-.92-.59-1.43-.59-.52 0-1.04.2-1.43.59L10.3 9.45l-7.72 7.72c-.78.78-.78 2.05 0 2.83L4 21.41c.39.39.9.59 1.41.59.51 0 1.02-.2 1.41-.59l7.78-7.78 2.81-2.81c.8-.78.8-2.07 0-2.86zM5.41 20L4 18.59l7.72-7.72 1.47 1.35L5.41 20z\"/>\n",
              "  </svg>\n",
              "      </button>\n",
              "      \n",
              "  <style>\n",
              "    .colab-df-container {\n",
              "      display:flex;\n",
              "      flex-wrap:wrap;\n",
              "      gap: 12px;\n",
              "    }\n",
              "\n",
              "    .colab-df-convert {\n",
              "      background-color: #E8F0FE;\n",
              "      border: none;\n",
              "      border-radius: 50%;\n",
              "      cursor: pointer;\n",
              "      display: none;\n",
              "      fill: #1967D2;\n",
              "      height: 32px;\n",
              "      padding: 0 0 0 0;\n",
              "      width: 32px;\n",
              "    }\n",
              "\n",
              "    .colab-df-convert:hover {\n",
              "      background-color: #E2EBFA;\n",
              "      box-shadow: 0px 1px 2px rgba(60, 64, 67, 0.3), 0px 1px 3px 1px rgba(60, 64, 67, 0.15);\n",
              "      fill: #174EA6;\n",
              "    }\n",
              "\n",
              "    [theme=dark] .colab-df-convert {\n",
              "      background-color: #3B4455;\n",
              "      fill: #D2E3FC;\n",
              "    }\n",
              "\n",
              "    [theme=dark] .colab-df-convert:hover {\n",
              "      background-color: #434B5C;\n",
              "      box-shadow: 0px 1px 3px 1px rgba(0, 0, 0, 0.15);\n",
              "      filter: drop-shadow(0px 1px 2px rgba(0, 0, 0, 0.3));\n",
              "      fill: #FFFFFF;\n",
              "    }\n",
              "  </style>\n",
              "\n",
              "      <script>\n",
              "        const buttonEl =\n",
              "          document.querySelector('#df-b01b22e5-2d8b-40cd-a90d-3e1c5fb132a0 button.colab-df-convert');\n",
              "        buttonEl.style.display =\n",
              "          google.colab.kernel.accessAllowed ? 'block' : 'none';\n",
              "\n",
              "        async function convertToInteractive(key) {\n",
              "          const element = document.querySelector('#df-b01b22e5-2d8b-40cd-a90d-3e1c5fb132a0');\n",
              "          const dataTable =\n",
              "            await google.colab.kernel.invokeFunction('convertToInteractive',\n",
              "                                                     [key], {});\n",
              "          if (!dataTable) return;\n",
              "\n",
              "          const docLinkHtml = 'Like what you see? Visit the ' +\n",
              "            '<a target=\"_blank\" href=https://colab.research.google.com/notebooks/data_table.ipynb>data table notebook</a>'\n",
              "            + ' to learn more about interactive tables.';\n",
              "          element.innerHTML = '';\n",
              "          dataTable['output_type'] = 'display_data';\n",
              "          await google.colab.output.renderOutput(dataTable, element);\n",
              "          const docLink = document.createElement('div');\n",
              "          docLink.innerHTML = docLinkHtml;\n",
              "          element.appendChild(docLink);\n",
              "        }\n",
              "      </script>\n",
              "    </div>\n",
              "  </div>\n",
              "  "
            ],
            "text/plain": [
              "       hash_inn_kt  count_kt hash_inn_dt  count_dt      ratio group\n",
              "0                0     194.0           0    1077.0   0.180130     1\n",
              "1                1      14.0         NaN       1.0  14.000000     4\n",
              "2               10       4.0          10      72.0   0.055556     1\n",
              "3           100001      38.0      100001      26.0   1.461538     2\n",
              "4           100002       4.0         NaN       1.0   4.000000     4\n",
              "...            ...       ...         ...       ...        ...   ...\n",
              "240066       99982       1.0       99982      45.0   0.022222     0\n",
              "240067       99986       1.0       99986       2.0   0.500000     0\n",
              "240068       99987       1.0       99987       3.0   0.333333     0\n",
              "240069       99994       1.0       99994       2.0   0.500000     0\n",
              "240070       99997       1.0       99997       5.0   0.200000     0\n",
              "\n",
              "[240071 rows x 6 columns]"
            ]
          },
          "metadata": {},
          "execution_count": 63
        }
      ]
    },
    {
      "cell_type": "code",
      "source": [
        "grouped_inn = ratio_inn[['hash_inn_kt','group']]"
      ],
      "metadata": {
        "id": "RQUIyu896UCk"
      },
      "execution_count": null,
      "outputs": []
    },
    {
      "cell_type": "code",
      "source": [
        "grouped_inn"
      ],
      "metadata": {
        "id": "B3Z0_Mwm6iLh",
        "colab": {
          "base_uri": "https://localhost:8080/",
          "height": 423
        },
        "outputId": "395057f3-81f5-41ad-ead4-b8632bdb5bfd"
      },
      "execution_count": null,
      "outputs": [
        {
          "output_type": "execute_result",
          "data": {
            "text/html": [
              "\n",
              "  <div id=\"df-6f0d43af-b829-4aaf-82aa-2e6055081474\">\n",
              "    <div class=\"colab-df-container\">\n",
              "      <div>\n",
              "<style scoped>\n",
              "    .dataframe tbody tr th:only-of-type {\n",
              "        vertical-align: middle;\n",
              "    }\n",
              "\n",
              "    .dataframe tbody tr th {\n",
              "        vertical-align: top;\n",
              "    }\n",
              "\n",
              "    .dataframe thead th {\n",
              "        text-align: right;\n",
              "    }\n",
              "</style>\n",
              "<table border=\"1\" class=\"dataframe\">\n",
              "  <thead>\n",
              "    <tr style=\"text-align: right;\">\n",
              "      <th></th>\n",
              "      <th>hash_inn_kt</th>\n",
              "      <th>group</th>\n",
              "    </tr>\n",
              "  </thead>\n",
              "  <tbody>\n",
              "    <tr>\n",
              "      <th>0</th>\n",
              "      <td>0</td>\n",
              "      <td>1</td>\n",
              "    </tr>\n",
              "    <tr>\n",
              "      <th>1</th>\n",
              "      <td>1</td>\n",
              "      <td>4</td>\n",
              "    </tr>\n",
              "    <tr>\n",
              "      <th>2</th>\n",
              "      <td>10</td>\n",
              "      <td>1</td>\n",
              "    </tr>\n",
              "    <tr>\n",
              "      <th>3</th>\n",
              "      <td>100001</td>\n",
              "      <td>2</td>\n",
              "    </tr>\n",
              "    <tr>\n",
              "      <th>4</th>\n",
              "      <td>100002</td>\n",
              "      <td>4</td>\n",
              "    </tr>\n",
              "    <tr>\n",
              "      <th>...</th>\n",
              "      <td>...</td>\n",
              "      <td>...</td>\n",
              "    </tr>\n",
              "    <tr>\n",
              "      <th>240066</th>\n",
              "      <td>99982</td>\n",
              "      <td>0</td>\n",
              "    </tr>\n",
              "    <tr>\n",
              "      <th>240067</th>\n",
              "      <td>99986</td>\n",
              "      <td>0</td>\n",
              "    </tr>\n",
              "    <tr>\n",
              "      <th>240068</th>\n",
              "      <td>99987</td>\n",
              "      <td>0</td>\n",
              "    </tr>\n",
              "    <tr>\n",
              "      <th>240069</th>\n",
              "      <td>99994</td>\n",
              "      <td>0</td>\n",
              "    </tr>\n",
              "    <tr>\n",
              "      <th>240070</th>\n",
              "      <td>99997</td>\n",
              "      <td>0</td>\n",
              "    </tr>\n",
              "  </tbody>\n",
              "</table>\n",
              "<p>240071 rows × 2 columns</p>\n",
              "</div>\n",
              "      <button class=\"colab-df-convert\" onclick=\"convertToInteractive('df-6f0d43af-b829-4aaf-82aa-2e6055081474')\"\n",
              "              title=\"Convert this dataframe to an interactive table.\"\n",
              "              style=\"display:none;\">\n",
              "        \n",
              "  <svg xmlns=\"http://www.w3.org/2000/svg\" height=\"24px\"viewBox=\"0 0 24 24\"\n",
              "       width=\"24px\">\n",
              "    <path d=\"M0 0h24v24H0V0z\" fill=\"none\"/>\n",
              "    <path d=\"M18.56 5.44l.94 2.06.94-2.06 2.06-.94-2.06-.94-.94-2.06-.94 2.06-2.06.94zm-11 1L8.5 8.5l.94-2.06 2.06-.94-2.06-.94L8.5 2.5l-.94 2.06-2.06.94zm10 10l.94 2.06.94-2.06 2.06-.94-2.06-.94-.94-2.06-.94 2.06-2.06.94z\"/><path d=\"M17.41 7.96l-1.37-1.37c-.4-.4-.92-.59-1.43-.59-.52 0-1.04.2-1.43.59L10.3 9.45l-7.72 7.72c-.78.78-.78 2.05 0 2.83L4 21.41c.39.39.9.59 1.41.59.51 0 1.02-.2 1.41-.59l7.78-7.78 2.81-2.81c.8-.78.8-2.07 0-2.86zM5.41 20L4 18.59l7.72-7.72 1.47 1.35L5.41 20z\"/>\n",
              "  </svg>\n",
              "      </button>\n",
              "      \n",
              "  <style>\n",
              "    .colab-df-container {\n",
              "      display:flex;\n",
              "      flex-wrap:wrap;\n",
              "      gap: 12px;\n",
              "    }\n",
              "\n",
              "    .colab-df-convert {\n",
              "      background-color: #E8F0FE;\n",
              "      border: none;\n",
              "      border-radius: 50%;\n",
              "      cursor: pointer;\n",
              "      display: none;\n",
              "      fill: #1967D2;\n",
              "      height: 32px;\n",
              "      padding: 0 0 0 0;\n",
              "      width: 32px;\n",
              "    }\n",
              "\n",
              "    .colab-df-convert:hover {\n",
              "      background-color: #E2EBFA;\n",
              "      box-shadow: 0px 1px 2px rgba(60, 64, 67, 0.3), 0px 1px 3px 1px rgba(60, 64, 67, 0.15);\n",
              "      fill: #174EA6;\n",
              "    }\n",
              "\n",
              "    [theme=dark] .colab-df-convert {\n",
              "      background-color: #3B4455;\n",
              "      fill: #D2E3FC;\n",
              "    }\n",
              "\n",
              "    [theme=dark] .colab-df-convert:hover {\n",
              "      background-color: #434B5C;\n",
              "      box-shadow: 0px 1px 3px 1px rgba(0, 0, 0, 0.15);\n",
              "      filter: drop-shadow(0px 1px 2px rgba(0, 0, 0, 0.3));\n",
              "      fill: #FFFFFF;\n",
              "    }\n",
              "  </style>\n",
              "\n",
              "      <script>\n",
              "        const buttonEl =\n",
              "          document.querySelector('#df-6f0d43af-b829-4aaf-82aa-2e6055081474 button.colab-df-convert');\n",
              "        buttonEl.style.display =\n",
              "          google.colab.kernel.accessAllowed ? 'block' : 'none';\n",
              "\n",
              "        async function convertToInteractive(key) {\n",
              "          const element = document.querySelector('#df-6f0d43af-b829-4aaf-82aa-2e6055081474');\n",
              "          const dataTable =\n",
              "            await google.colab.kernel.invokeFunction('convertToInteractive',\n",
              "                                                     [key], {});\n",
              "          if (!dataTable) return;\n",
              "\n",
              "          const docLinkHtml = 'Like what you see? Visit the ' +\n",
              "            '<a target=\"_blank\" href=https://colab.research.google.com/notebooks/data_table.ipynb>data table notebook</a>'\n",
              "            + ' to learn more about interactive tables.';\n",
              "          element.innerHTML = '';\n",
              "          dataTable['output_type'] = 'display_data';\n",
              "          await google.colab.output.renderOutput(dataTable, element);\n",
              "          const docLink = document.createElement('div');\n",
              "          docLink.innerHTML = docLinkHtml;\n",
              "          element.appendChild(docLink);\n",
              "        }\n",
              "      </script>\n",
              "    </div>\n",
              "  </div>\n",
              "  "
            ],
            "text/plain": [
              "       hash_inn_kt group\n",
              "0                0     1\n",
              "1                1     4\n",
              "2               10     1\n",
              "3           100001     2\n",
              "4           100002     4\n",
              "...            ...   ...\n",
              "240066       99982     0\n",
              "240067       99986     0\n",
              "240068       99987     0\n",
              "240069       99994     0\n",
              "240070       99997     0\n",
              "\n",
              "[240071 rows x 2 columns]"
            ]
          },
          "metadata": {},
          "execution_count": 65
        }
      ]
    },
    {
      "cell_type": "markdown",
      "source": [
        "Проверим гипотезы, выдвинутые по отраслям."
      ],
      "metadata": {
        "id": "vRL8THeqEvlg"
      }
    },
    {
      "cell_type": "code",
      "source": [
        "data.week.unique()"
      ],
      "metadata": {
        "id": "1GYT6ACcN9R8",
        "colab": {
          "base_uri": "https://localhost:8080/"
        },
        "outputId": "dd8a0418-ef30-4eb6-ec3f-47c50832e824"
      },
      "execution_count": null,
      "outputs": [
        {
          "output_type": "execute_result",
          "data": {
            "text/plain": [
              "array([ 1,  5,  7,  9, 12, 15, 16, 20, 21, 22,  3,  8, 11, 13, 14, 17,  6,\n",
              "       10,  4,  2, 18, 19,  0, 23])"
            ]
          },
          "metadata": {},
          "execution_count": 66
        }
      ]
    },
    {
      "cell_type": "markdown",
      "source": [
        "Проверить гипотезы по сезонности не получится, так как данные даны всего за полгода."
      ],
      "metadata": {
        "id": "XzK989AVOGXK"
      }
    },
    {
      "cell_type": "markdown",
      "source": [
        "Рассчитаем среднее количество принятых переводов в неделю, среднее количество отправленных переводов в неделю и аналогично для средневзвешенных переводов для каждого инн."
      ],
      "metadata": {
        "id": "BHmvQOA_PDyl"
      }
    },
    {
      "cell_type": "code",
      "source": [
        "transfers_inn = data.groupby('hash_inn_kt', as_index=False)['sum','count'].sum()\n",
        "transfers_inn['mean_sum_kt'] = transfers_inn['sum'] / transfers_inn['count']\n",
        "\n",
        "transfers_inn = transfers_inn[['hash_inn_kt','mean_sum_kt']].merge(\n",
        "    data.groupby('hash_inn_dt', as_index=False)['sum','count'].sum(),\n",
        "    left_on='hash_inn_kt', right_on='hash_inn_dt', how='outer')\n",
        "\n",
        "transfers_inn['mean_sum_dt'] = transfers_inn['sum'] / transfers_inn['count']\n",
        "\n",
        "transfers_inn['hash_inn_kt'] = transfers_inn['hash_inn_kt'].fillna(transfers_inn['hash_inn_dt'])\n",
        "\n",
        "transfers_inn = transfers_inn[['hash_inn_kt', 'mean_sum_kt', 'mean_sum_dt']].merge(\n",
        "                              data.groupby('hash_inn_kt', as_index=False)['count'].mean(), how='outer')\n",
        "transfers_inn = transfers_inn.merge(\n",
        "                              data.groupby('hash_inn_dt', as_index=False)['count'].mean(),\n",
        "                              left_on='hash_inn_kt', right_on='hash_inn_dt',\n",
        "                              how='outer', suffixes=('_kt','_dt')).drop('hash_inn_dt',axis=1).fillna(0)\n",
        "\n",
        "transfers_inn"
      ],
      "metadata": {
        "id": "UtG7qwsg4ydb",
        "colab": {
          "base_uri": "https://localhost:8080/",
          "height": 513
        },
        "outputId": "ddf20f77-0c05-42ee-be8e-d672946d1da2"
      },
      "execution_count": null,
      "outputs": [
        {
          "output_type": "stream",
          "name": "stderr",
          "text": [
            "/usr/local/lib/python3.7/dist-packages/ipykernel_launcher.py:1: FutureWarning: Indexing with multiple keys (implicitly converted to a tuple of keys) will be deprecated, use a list instead.\n",
            "  \"\"\"Entry point for launching an IPython kernel.\n",
            "/usr/local/lib/python3.7/dist-packages/ipykernel_launcher.py:5: FutureWarning: Indexing with multiple keys (implicitly converted to a tuple of keys) will be deprecated, use a list instead.\n",
            "  \"\"\"\n"
          ]
        },
        {
          "output_type": "execute_result",
          "data": {
            "text/html": [
              "\n",
              "  <div id=\"df-c3ab7c82-f01b-4974-94f0-0fa2cd7bf46d\">\n",
              "    <div class=\"colab-df-container\">\n",
              "      <div>\n",
              "<style scoped>\n",
              "    .dataframe tbody tr th:only-of-type {\n",
              "        vertical-align: middle;\n",
              "    }\n",
              "\n",
              "    .dataframe tbody tr th {\n",
              "        vertical-align: top;\n",
              "    }\n",
              "\n",
              "    .dataframe thead th {\n",
              "        text-align: right;\n",
              "    }\n",
              "</style>\n",
              "<table border=\"1\" class=\"dataframe\">\n",
              "  <thead>\n",
              "    <tr style=\"text-align: right;\">\n",
              "      <th></th>\n",
              "      <th>hash_inn_kt</th>\n",
              "      <th>mean_sum_kt</th>\n",
              "      <th>mean_sum_dt</th>\n",
              "      <th>count_kt</th>\n",
              "      <th>count_dt</th>\n",
              "    </tr>\n",
              "  </thead>\n",
              "  <tbody>\n",
              "    <tr>\n",
              "      <th>0</th>\n",
              "      <td>0</td>\n",
              "      <td>1306.807155</td>\n",
              "      <td>159.727120</td>\n",
              "      <td>2.282353</td>\n",
              "      <td>2.409396</td>\n",
              "    </tr>\n",
              "    <tr>\n",
              "      <th>1</th>\n",
              "      <td>1</td>\n",
              "      <td>9.857143</td>\n",
              "      <td>0.000000</td>\n",
              "      <td>2.000000</td>\n",
              "      <td>0.000000</td>\n",
              "    </tr>\n",
              "    <tr>\n",
              "      <th>2</th>\n",
              "      <td>10</td>\n",
              "      <td>0.400000</td>\n",
              "      <td>2.119667</td>\n",
              "      <td>2.000000</td>\n",
              "      <td>2.400000</td>\n",
              "    </tr>\n",
              "    <tr>\n",
              "      <th>3</th>\n",
              "      <td>100001</td>\n",
              "      <td>395.284211</td>\n",
              "      <td>295.027385</td>\n",
              "      <td>2.111111</td>\n",
              "      <td>1.181818</td>\n",
              "    </tr>\n",
              "    <tr>\n",
              "      <th>4</th>\n",
              "      <td>100002</td>\n",
              "      <td>6.814000</td>\n",
              "      <td>0.000000</td>\n",
              "      <td>2.000000</td>\n",
              "      <td>0.000000</td>\n",
              "    </tr>\n",
              "    <tr>\n",
              "      <th>...</th>\n",
              "      <td>...</td>\n",
              "      <td>...</td>\n",
              "      <td>...</td>\n",
              "      <td>...</td>\n",
              "      <td>...</td>\n",
              "    </tr>\n",
              "    <tr>\n",
              "      <th>240066</th>\n",
              "      <td>99982</td>\n",
              "      <td>0.000000</td>\n",
              "      <td>14.638756</td>\n",
              "      <td>0.000000</td>\n",
              "      <td>1.875000</td>\n",
              "    </tr>\n",
              "    <tr>\n",
              "      <th>240067</th>\n",
              "      <td>99986</td>\n",
              "      <td>0.000000</td>\n",
              "      <td>5.320000</td>\n",
              "      <td>0.000000</td>\n",
              "      <td>2.000000</td>\n",
              "    </tr>\n",
              "    <tr>\n",
              "      <th>240068</th>\n",
              "      <td>99987</td>\n",
              "      <td>0.000000</td>\n",
              "      <td>14.117333</td>\n",
              "      <td>0.000000</td>\n",
              "      <td>1.000000</td>\n",
              "    </tr>\n",
              "    <tr>\n",
              "      <th>240069</th>\n",
              "      <td>99994</td>\n",
              "      <td>0.000000</td>\n",
              "      <td>6.034000</td>\n",
              "      <td>0.000000</td>\n",
              "      <td>2.000000</td>\n",
              "    </tr>\n",
              "    <tr>\n",
              "      <th>240070</th>\n",
              "      <td>99997</td>\n",
              "      <td>0.000000</td>\n",
              "      <td>64.380800</td>\n",
              "      <td>0.000000</td>\n",
              "      <td>1.000000</td>\n",
              "    </tr>\n",
              "  </tbody>\n",
              "</table>\n",
              "<p>240071 rows × 5 columns</p>\n",
              "</div>\n",
              "      <button class=\"colab-df-convert\" onclick=\"convertToInteractive('df-c3ab7c82-f01b-4974-94f0-0fa2cd7bf46d')\"\n",
              "              title=\"Convert this dataframe to an interactive table.\"\n",
              "              style=\"display:none;\">\n",
              "        \n",
              "  <svg xmlns=\"http://www.w3.org/2000/svg\" height=\"24px\"viewBox=\"0 0 24 24\"\n",
              "       width=\"24px\">\n",
              "    <path d=\"M0 0h24v24H0V0z\" fill=\"none\"/>\n",
              "    <path d=\"M18.56 5.44l.94 2.06.94-2.06 2.06-.94-2.06-.94-.94-2.06-.94 2.06-2.06.94zm-11 1L8.5 8.5l.94-2.06 2.06-.94-2.06-.94L8.5 2.5l-.94 2.06-2.06.94zm10 10l.94 2.06.94-2.06 2.06-.94-2.06-.94-.94-2.06-.94 2.06-2.06.94z\"/><path d=\"M17.41 7.96l-1.37-1.37c-.4-.4-.92-.59-1.43-.59-.52 0-1.04.2-1.43.59L10.3 9.45l-7.72 7.72c-.78.78-.78 2.05 0 2.83L4 21.41c.39.39.9.59 1.41.59.51 0 1.02-.2 1.41-.59l7.78-7.78 2.81-2.81c.8-.78.8-2.07 0-2.86zM5.41 20L4 18.59l7.72-7.72 1.47 1.35L5.41 20z\"/>\n",
              "  </svg>\n",
              "      </button>\n",
              "      \n",
              "  <style>\n",
              "    .colab-df-container {\n",
              "      display:flex;\n",
              "      flex-wrap:wrap;\n",
              "      gap: 12px;\n",
              "    }\n",
              "\n",
              "    .colab-df-convert {\n",
              "      background-color: #E8F0FE;\n",
              "      border: none;\n",
              "      border-radius: 50%;\n",
              "      cursor: pointer;\n",
              "      display: none;\n",
              "      fill: #1967D2;\n",
              "      height: 32px;\n",
              "      padding: 0 0 0 0;\n",
              "      width: 32px;\n",
              "    }\n",
              "\n",
              "    .colab-df-convert:hover {\n",
              "      background-color: #E2EBFA;\n",
              "      box-shadow: 0px 1px 2px rgba(60, 64, 67, 0.3), 0px 1px 3px 1px rgba(60, 64, 67, 0.15);\n",
              "      fill: #174EA6;\n",
              "    }\n",
              "\n",
              "    [theme=dark] .colab-df-convert {\n",
              "      background-color: #3B4455;\n",
              "      fill: #D2E3FC;\n",
              "    }\n",
              "\n",
              "    [theme=dark] .colab-df-convert:hover {\n",
              "      background-color: #434B5C;\n",
              "      box-shadow: 0px 1px 3px 1px rgba(0, 0, 0, 0.15);\n",
              "      filter: drop-shadow(0px 1px 2px rgba(0, 0, 0, 0.3));\n",
              "      fill: #FFFFFF;\n",
              "    }\n",
              "  </style>\n",
              "\n",
              "      <script>\n",
              "        const buttonEl =\n",
              "          document.querySelector('#df-c3ab7c82-f01b-4974-94f0-0fa2cd7bf46d button.colab-df-convert');\n",
              "        buttonEl.style.display =\n",
              "          google.colab.kernel.accessAllowed ? 'block' : 'none';\n",
              "\n",
              "        async function convertToInteractive(key) {\n",
              "          const element = document.querySelector('#df-c3ab7c82-f01b-4974-94f0-0fa2cd7bf46d');\n",
              "          const dataTable =\n",
              "            await google.colab.kernel.invokeFunction('convertToInteractive',\n",
              "                                                     [key], {});\n",
              "          if (!dataTable) return;\n",
              "\n",
              "          const docLinkHtml = 'Like what you see? Visit the ' +\n",
              "            '<a target=\"_blank\" href=https://colab.research.google.com/notebooks/data_table.ipynb>data table notebook</a>'\n",
              "            + ' to learn more about interactive tables.';\n",
              "          element.innerHTML = '';\n",
              "          dataTable['output_type'] = 'display_data';\n",
              "          await google.colab.output.renderOutput(dataTable, element);\n",
              "          const docLink = document.createElement('div');\n",
              "          docLink.innerHTML = docLinkHtml;\n",
              "          element.appendChild(docLink);\n",
              "        }\n",
              "      </script>\n",
              "    </div>\n",
              "  </div>\n",
              "  "
            ],
            "text/plain": [
              "       hash_inn_kt  mean_sum_kt  mean_sum_dt  count_kt  count_dt\n",
              "0                0  1306.807155   159.727120  2.282353  2.409396\n",
              "1                1     9.857143     0.000000  2.000000  0.000000\n",
              "2               10     0.400000     2.119667  2.000000  2.400000\n",
              "3           100001   395.284211   295.027385  2.111111  1.181818\n",
              "4           100002     6.814000     0.000000  2.000000  0.000000\n",
              "...            ...          ...          ...       ...       ...\n",
              "240066       99982     0.000000    14.638756  0.000000  1.875000\n",
              "240067       99986     0.000000     5.320000  0.000000  2.000000\n",
              "240068       99987     0.000000    14.117333  0.000000  1.000000\n",
              "240069       99994     0.000000     6.034000  0.000000  2.000000\n",
              "240070       99997     0.000000    64.380800  0.000000  1.000000\n",
              "\n",
              "[240071 rows x 5 columns]"
            ]
          },
          "metadata": {},
          "execution_count": 67
        }
      ]
    },
    {
      "cell_type": "markdown",
      "source": [
        "### Формирование признаков"
      ],
      "metadata": {
        "id": "rTRkRlPmVUQa"
      }
    },
    {
      "cell_type": "markdown",
      "source": [
        "Объединим все созданные таблицы с разными признаками в одну."
      ],
      "metadata": {
        "id": "eG33eHTse9gl"
      }
    },
    {
      "cell_type": "code",
      "source": [
        "df = inn_info_public.merge(\n",
        "    transfers_inn,left_on='hash_inn', right_on='hash_inn_kt').merge(\n",
        "    grouped_inn,left_on='hash_inn', right_on='hash_inn_kt').drop(['hash_inn_kt_x','hash_inn_kt_y','is_public'],axis=1)\n",
        "\n",
        "target = df['okved2']\n",
        "features = df.drop(['hash_inn','okved2'],axis=1)"
      ],
      "metadata": {
        "id": "Cfwez7iLQTvX"
      },
      "execution_count": null,
      "outputs": []
    },
    {
      "cell_type": "code",
      "source": [
        "target_test, target_train = target[target == \"-1\"], target[target != \"-1\"]\n",
        "features_test, features_train = features.loc[target_test.index], features.loc[target_train.index]"
      ],
      "metadata": {
        "id": "k5DZdlIndy8D"
      },
      "execution_count": null,
      "outputs": []
    },
    {
      "cell_type": "markdown",
      "source": [
        "## Сборка модели"
      ],
      "metadata": {
        "id": "ybqYjlHuVdtm"
      }
    },
    {
      "cell_type": "markdown",
      "source": [
        "Так как стоит задача много-классовой классификации и среди признаков присутвует регион, который имеет 91 вариацию, будем исползовать модели основанные на деревьях, в частности модели библиотеки CatBoost."
      ],
      "metadata": {
        "id": "Z70zQOYefN8s"
      }
    },
    {
      "cell_type": "code",
      "source": [
        "X_train, X_valid, y_train, y_valid = train_test_split(\n",
        "    features_train, target_train, test_size=0.25, random_state=12345, stratify=target_train\n",
        ")\n",
        "\n",
        "categ_col = ['region','group']\n",
        "train_pool = Pool(data=X_train, label=y_train,cat_features=categ_col)\n",
        "test_pool = Pool(data=X_valid, label=y_valid,cat_features=categ_col)\n",
        "\n",
        "\n",
        "cat_model = CatBoostClassifier(iterations=10,\n",
        "                           learning_rate=0.5,\n",
        "                           task_type=\"GPU\",\n",
        "                           loss_function='MultiClass', verbose=50)\n",
        "cat_model.fit(train_pool, eval_set=test_pool)"
      ],
      "metadata": {
        "id": "j-WmdQMWVhPz"
      },
      "execution_count": null,
      "outputs": []
    },
    {
      "cell_type": "code",
      "source": [
        "pd.Series(cat_model.predict(X_valid).T[0]).unique()"
      ],
      "metadata": {
        "id": "YJ8WKCd8lfAJ",
        "colab": {
          "base_uri": "https://localhost:8080/"
        },
        "outputId": "d7dc9f4a-e86c-4c04-e15f-7aaa9150c19a"
      },
      "execution_count": null,
      "outputs": [
        {
          "output_type": "execute_result",
          "data": {
            "text/plain": [
              "array(['46', '11', '27', '18', '8', '16', '5', '65', '52', '12', '33',\n",
              "       '39', '6', '44', '64', '78', '7', '34', '48', '68', '15', '57',\n",
              "       '55', '26', '22', '67', '29', '37', '14', '53', '43', '47', '30',\n",
              "       '20', '0', '10', '56', '19', '3', '40', '70', '54', '23', '61',\n",
              "       '69', '9', '72', '36', '66', '1', '17', '50', '74', '62', '32',\n",
              "       '42', '45', '35', '24', '38', '4', '76', '21', '60', '79', '71',\n",
              "       '2', '63', '28', '41', '58', '51', '31', '73', '13', '59', '25',\n",
              "       '49', '77', '75'], dtype=object)"
            ]
          },
          "metadata": {},
          "execution_count": 70
        }
      ]
    },
    {
      "cell_type": "markdown",
      "source": [
        "Модель делает предсказания только для двух классов - самых больших. Сократим количество их представителей до соотносимых с остальными размерами."
      ],
      "metadata": {
        "id": "3AttKZ2zxmEP"
      }
    },
    {
      "cell_type": "code",
      "source": [
        "target_train.value_counts()[target_train.value_counts() > 500].hist(bins=100)"
      ],
      "metadata": {
        "id": "J6SonUNzy4ix",
        "colab": {
          "base_uri": "https://localhost:8080/",
          "height": 391
        },
        "outputId": "03e87932-672e-4fd1-a546-d7834c09bf7f"
      },
      "execution_count": null,
      "outputs": [
        {
          "output_type": "execute_result",
          "data": {
            "text/plain": [
              "<matplotlib.axes._subplots.AxesSubplot at 0x7f8f202af190>"
            ]
          },
          "metadata": {},
          "execution_count": 71
        },
        {
          "output_type": "display_data",
          "data": {
            "image/png": "[encoded data removed]",
            "text/plain": [
              "<Figure size 720x432 with 1 Axes>"
            ]
          },
          "metadata": {
            "needs_background": "light"
          }
        }
      ]
    },
    {
      "cell_type": "markdown",
      "source": [
        "Примерно уравняем количество представителей от каждой отрасли, сохранив для крупных преобладание."
      ],
      "metadata": {
        "id": "5P-LY_W0z1dZ"
      }
    },
    {
      "cell_type": "code",
      "source": [
        "weights = pd.DataFrame(target_train.value_counts())\n",
        "weights.loc[weights['okved2']>=15000,'weight'] = 0.06\n",
        "weights.loc[(weights['okved2']>=5000) & (weights['okved2']<15000),'weight'] = 0.15\n",
        "weights.loc[(weights['okved2']>=3000) & (weights['okved2']<5000),'weight'] = 0.3\n",
        "weights.loc[(weights['okved2']>=2000) & (weights['okved2']<3000),'weight'] = 0.45\n",
        "weights.loc[(weights['okved2']>=600) & (weights['okved2']<2000),'weight'] = 0.6\n",
        "weights.loc[(weights['okved2']>=100) & (weights['okved2']<600),'weight'] = 1.7\n",
        "weights.loc[(weights['okved2']<100),'weight'] = 3\n",
        "\n",
        "weights_dict = weights['weight'].to_dict()"
      ],
      "metadata": {
        "id": "l5gp4xTs2LH2"
      },
      "execution_count": null,
      "outputs": []
    },
    {
      "cell_type": "code",
      "source": [
        "weights.value_counts()"
      ],
      "metadata": {
        "id": "d0R6SfmGSLoO",
        "colab": {
          "base_uri": "https://localhost:8080/"
        },
        "outputId": "d0f36bde-766b-4c5a-af0c-bdac6ccdc288"
      },
      "execution_count": null,
      "outputs": [
        {
          "output_type": "execute_result",
          "data": {
            "text/plain": [
              "okved2  weight\n",
              "50      3.00      1\n",
              "64      3.00      1\n",
              "1544    0.60      1\n",
              "1385    0.60      1\n",
              "1297    0.60      1\n",
              "                 ..\n",
              "388     1.70      1\n",
              "380     1.70      1\n",
              "338     1.70      1\n",
              "280     1.70      1\n",
              "44918   0.06      1\n",
              "Length: 80, dtype: int64"
            ]
          },
          "metadata": {},
          "execution_count": 73
        }
      ]
    },
    {
      "cell_type": "code",
      "source": [
        "downsampled_target = pd.Series()\n",
        "for targ in target_train.unique():\n",
        "  downsampled_target = downsampled_target.append(\n",
        "      target_train[target_train==targ].sample(\n",
        "          frac=weights_dict[targ],\n",
        "          random_state=12345,\n",
        "          replace=True\n",
        "          )\n",
        "      )"
      ],
      "metadata": {
        "id": "EC0kefd_6DcR"
      },
      "execution_count": null,
      "outputs": []
    },
    {
      "cell_type": "markdown",
      "source": [
        "Проверим, как соотносятся классы сейчас."
      ],
      "metadata": {
        "id": "TCuc9hFgZ90p"
      }
    },
    {
      "cell_type": "code",
      "source": [
        "downsampled_target.value_counts()"
      ],
      "metadata": {
        "id": "L3eNLswkSc68",
        "colab": {
          "base_uri": "https://localhost:8080/"
        },
        "outputId": "88efe823-a1de-40b7-f2b5-834ad25dee61"
      },
      "execution_count": null,
      "outputs": [
        {
          "output_type": "execute_result",
          "data": {
            "text/plain": [
              "12    2695\n",
              "34    2048\n",
              "14    1527\n",
              "8     1397\n",
              "46    1336\n",
              "      ... \n",
              "13     204\n",
              "73     192\n",
              "49     177\n",
              "63     170\n",
              "1      150\n",
              "Length: 80, dtype: int64"
            ]
          },
          "metadata": {},
          "execution_count": 75
        }
      ]
    },
    {
      "cell_type": "code",
      "source": [
        "downsampled_target.value_counts().hist()"
      ],
      "metadata": {
        "id": "SclfG4N47SIX",
        "colab": {
          "base_uri": "https://localhost:8080/",
          "height": 391
        },
        "outputId": "9eed25af-858d-4045-cb4f-34c3ba7bdb44"
      },
      "execution_count": null,
      "outputs": [
        {
          "output_type": "execute_result",
          "data": {
            "text/plain": [
              "<matplotlib.axes._subplots.AxesSubplot at 0x7f8f20129510>"
            ]
          },
          "metadata": {},
          "execution_count": 76
        },
        {
          "output_type": "display_data",
          "data": {
            "image/png": "[encoded data removed]",
            "text/plain": [
              "<Figure size 720x432 with 1 Axes>"
            ]
          },
          "metadata": {
            "needs_background": "light"
          }
        }
      ]
    },
    {
      "cell_type": "markdown",
      "source": [
        "Соотношение классов теперь отличается не больше, чем на порядок. Попробуем сейчас обучить модель"
      ],
      "metadata": {
        "id": "Txit-9q6aIjc"
      }
    },
    {
      "cell_type": "code",
      "source": [
        "downsampled_features = features.loc[downsampled_target.index]"
      ],
      "metadata": {
        "id": "8TiT9uUA77su"
      },
      "execution_count": null,
      "outputs": []
    },
    {
      "cell_type": "code",
      "source": [
        "X_train, X_valid, y_train, y_valid = train_test_split(\n",
        "    downsampled_features, downsampled_target, test_size=0.25, random_state=12345, stratify=downsampled_target\n",
        ")\n",
        "\n",
        "categ_col = ['region','group']\n",
        "train_pool = Pool(data=X_train, label=y_train,cat_features=categ_col)\n",
        "test_pool = Pool(data=X_valid, label=y_valid,cat_features=categ_col)\n",
        "\n",
        "\n",
        "cat_model = CatBoostClassifier(iterations=600,\n",
        "                           learning_rate=0.5,\n",
        "                           task_type=\"GPU\",\n",
        "                           loss_function='MultiClass', verbose=100,use_best_model=True)\n",
        "cat_model.fit(train_pool, eval_set=test_pool)"
      ],
      "metadata": {
        "id": "Mu6WjRT_6p9p",
        "colab": {
          "base_uri": "https://localhost:8080/"
        },
        "outputId": "064acef4-7873-4571-feff-6e276c2ca9c3"
      },
      "execution_count": null,
      "outputs": [
        {
          "output_type": "stream",
          "name": "stdout",
          "text": [
            "0:\tlearn: 4.1479278\ttest: 4.1664045\tbest: 4.1664045 (0)\ttotal: 240ms\tremaining: 2m 23s\n",
            "100:\tlearn: 3.1792162\ttest: 3.7539677\tbest: 3.7539677 (100)\ttotal: 17.4s\tremaining: 1m 26s\n",
            "200:\tlearn: 2.6085367\ttest: 3.6681431\tbest: 3.6681431 (200)\ttotal: 35.4s\tremaining: 1m 10s\n",
            "300:\tlearn: 2.2126155\ttest: 3.6412040\tbest: 3.6407815 (299)\ttotal: 53.1s\tremaining: 52.8s\n",
            "400:\tlearn: 1.9396426\ttest: 3.6289434\tbest: 3.6283158 (390)\ttotal: 1m 10s\tremaining: 35.1s\n",
            "500:\tlearn: 1.7298769\ttest: 3.6336997\tbest: 3.6270122 (421)\ttotal: 1m 34s\tremaining: 18.8s\n",
            "599:\tlearn: 1.5625948\ttest: 3.6403154\tbest: 3.6270122 (421)\ttotal: 1m 53s\tremaining: 0us\n",
            "bestTest = 3.627012226\n",
            "bestIteration = 421\n",
            "Shrink model to first 422 iterations.\n"
          ]
        },
        {
          "output_type": "execute_result",
          "data": {
            "text/plain": [
              "<catboost.core.CatBoostClassifier at 0x7f8f33b9af50>"
            ]
          },
          "metadata": {},
          "execution_count": 35
        }
      ]
    },
    {
      "cell_type": "code",
      "source": [
        "pd.Series(cat_model.predict(X_valid).T[0]).nunique()"
      ],
      "metadata": {
        "id": "ifxzG3NO8lna",
        "colab": {
          "base_uri": "https://localhost:8080/"
        },
        "outputId": "c5faea1a-672e-4ec2-83d5-33207e4704d2"
      },
      "execution_count": null,
      "outputs": [
        {
          "output_type": "execute_result",
          "data": {
            "text/plain": [
              "80"
            ]
          },
          "metadata": {},
          "execution_count": 78
        }
      ]
    },
    {
      "cell_type": "markdown",
      "source": [
        "Модель теперь предсказывает все классы, рассчитаем качество."
      ],
      "metadata": {
        "id": "JujPjSp3ab5Y"
      }
    },
    {
      "cell_type": "code",
      "source": [
        "conf_m = confusion_matrix(y_valid, cat_model.predict(X_valid))\n",
        "norm_conf_m = conf_m / conf_m.sum(axis=1, keepdims=True)\n",
        "#np.fill_diagonal(norm_conf_m, 0)\n",
        "plt.matshow(norm_conf_m, cmap='gray')"
      ],
      "metadata": {
        "id": "8NQxz16W_M5I",
        "colab": {
          "base_uri": "https://localhost:8080/",
          "height": 403
        },
        "outputId": "fb527ad6-0292-4c88-f5f3-fc57136b0901"
      },
      "execution_count": null,
      "outputs": [
        {
          "output_type": "execute_result",
          "data": {
            "text/plain": [
              "<matplotlib.image.AxesImage at 0x7f8f20044690>"
            ]
          },
          "metadata": {},
          "execution_count": 79
        },
        {
          "output_type": "display_data",
          "data": {
            "image/png": "[encoded data removed]",
            "text/plain": [
              "<Figure size 432x432 with 1 Axes>"
            ]
          },
          "metadata": {
            "needs_background": "light"
          }
        }
      ]
    },
    {
      "cell_type": "markdown",
      "source": [
        "По матрице рассеяния ошибки видно, что некоторые отрасли плохо классифицируются.  Также для некоторых отраслей заметно, что они часто путаются с другими. Это можно исправиться подборкой оптимальных параметров при уравнивании соотношений классов, а также подбором гиперпараметров для модели. В данной работе мы этого делать не будет, так как это требует значительных временных и вычислительных ресурсов. \n",
        "\n",
        "Оценим вияние признеаков."
      ],
      "metadata": {
        "id": "bq6z9zqVDLsN"
      }
    },
    {
      "cell_type": "code",
      "source": [
        "pd.Series(cat_model.feature_importances_,index=X_train.columns).plot(kind='bar')"
      ],
      "metadata": {
        "colab": {
          "base_uri": "https://localhost:8080/",
          "height": 451
        },
        "id": "xdmDnW8drtzi",
        "outputId": "9cb5c448-130f-4878-9e51-be5bc09a05cb"
      },
      "execution_count": null,
      "outputs": [
        {
          "output_type": "execute_result",
          "data": {
            "text/plain": [
              "<matplotlib.axes._subplots.AxesSubplot at 0x7f8f0d6e6490>"
            ]
          },
          "metadata": {},
          "execution_count": 92
        },
        {
          "output_type": "display_data",
          "data": {
            "image/png": "[encoded data removed]",
            "text/plain": [
              "<Figure size 720x432 with 1 Axes>"
            ]
          },
          "metadata": {
            "needs_background": "light"
          }
        }
      ]
    },
    {
      "cell_type": "markdown",
      "source": [
        "Все признаки, кроме региона, оказали примерно равно влияние на предсказание.\n",
        "\n",
        "Определим отрасль для тестовых данных."
      ],
      "metadata": {
        "id": "caYcSf11sC5Z"
      }
    },
    {
      "cell_type": "code",
      "source": [
        "target_train.value_counts()"
      ],
      "metadata": {
        "id": "bD840uAFRvHW",
        "colab": {
          "base_uri": "https://localhost:8080/"
        },
        "outputId": "e04715b6-2752-4db3-b519-c89e7aa414be"
      },
      "execution_count": null,
      "outputs": [
        {
          "output_type": "execute_result",
          "data": {
            "text/plain": [
              "12    44918\n",
              "34    13654\n",
              "14    10179\n",
              "4      7617\n",
              "52     6986\n",
              "      ...  \n",
              "2        90\n",
              "36       84\n",
              "13       68\n",
              "73       64\n",
              "1        50\n",
              "Name: okved2, Length: 80, dtype: int64"
            ]
          },
          "metadata": {},
          "execution_count": 80
        }
      ]
    },
    {
      "cell_type": "code",
      "source": [
        "pd.Series(cat_model.predict(features_test).T[0]).value_counts()"
      ],
      "metadata": {
        "id": "r2rXWSPV_CbR",
        "colab": {
          "base_uri": "https://localhost:8080/"
        },
        "outputId": "39901416-279a-4679-fbad-145d33b80a3f"
      },
      "execution_count": null,
      "outputs": [
        {
          "output_type": "execute_result",
          "data": {
            "text/plain": [
              "12    9841\n",
              "34    5678\n",
              "14    3116\n",
              "11    3011\n",
              "18    2289\n",
              "      ... \n",
              "13     161\n",
              "63     139\n",
              "77     128\n",
              "72     108\n",
              "1      103\n",
              "Length: 80, dtype: int64"
            ]
          },
          "metadata": {},
          "execution_count": 81
        }
      ]
    },
    {
      "cell_type": "code",
      "source": [
        "roc_auc_score(target_train, cat_model.predict_proba(features_train),multi_class='ovo', average='macro')"
      ],
      "metadata": {
        "id": "Q1GHeg8FD9n_",
        "colab": {
          "base_uri": "https://localhost:8080/"
        },
        "outputId": "6b6d709d-6a40-41fa-8129-7a3b1d6837da"
      },
      "execution_count": null,
      "outputs": [
        {
          "output_type": "execute_result",
          "data": {
            "text/plain": [
              "0.4965531124727996"
            ]
          },
          "metadata": {},
          "execution_count": 82
        }
      ]
    },
    {
      "cell_type": "markdown",
      "source": [
        "Качество модели по метрике `roc_auc` составило ~0.5, для констатной модели её значение было бы менее 0.25 на тестовой выборке, так как именно такую долю имеет самый большой класс. Также соотношения классов оказалось в ожидаемых нами значениях.\n",
        "\n",
        "Сохраним предсказанные значения в базу."
      ],
      "metadata": {
        "id": "clGsM_PyRSyQ"
      }
    },
    {
      "cell_type": "code",
      "source": [
        "features_test_inn = features_test.copy()\n",
        "features_test_inn['hash_inn_kt'] = df.hash_inn\n",
        "features_test_inn['okved2_predict'] = cat_model.predict(features_test).T[0]"
      ],
      "metadata": {
        "id": "qs_8xM6RT68R"
      },
      "execution_count": null,
      "outputs": []
    },
    {
      "cell_type": "code",
      "source": [
        "inn_info_full = inn_info_public.copy()\n",
        "inn_info_full.okved2 = inn_info_full.okved2.replace('-1',np.nan)\n",
        "inn_info_full = inn_info_full.merge(features_test_inn[['hash_inn_kt','okved2_predict']],\n",
        "                                        left_on='hash_inn', right_on='hash_inn_kt',how='outer')\n",
        "inn_info_full.okved2 = inn_info_full.okved2.fillna(inn_info_full['okved2_predict'])\n",
        "inn_info_full = inn_info_full.drop(['hash_inn_kt','okved2_predict'],axis=1)"
      ],
      "metadata": {
        "id": "sGT82-7_V9M6"
      },
      "execution_count": null,
      "outputs": []
    },
    {
      "cell_type": "code",
      "source": [
        "inn_info_full.to_csv('./inn_info_full.csv')"
      ],
      "metadata": {
        "id": "nqmZlxHrWOIT"
      },
      "execution_count": null,
      "outputs": []
    },
    {
      "cell_type": "code",
      "source": [
        "inn_info_full"
      ],
      "metadata": {
        "id": "gqolfAZmY18A",
        "colab": {
          "base_uri": "https://localhost:8080/",
          "height": 423
        },
        "outputId": "c1370754-c05a-4540-d471-05a73d8c87b3"
      },
      "execution_count": null,
      "outputs": [
        {
          "output_type": "execute_result",
          "data": {
            "text/html": [
              "\n",
              "  <div id=\"df-aad6de5c-b31c-4712-bfa0-4bc06e56a805\">\n",
              "    <div class=\"colab-df-container\">\n",
              "      <div>\n",
              "<style scoped>\n",
              "    .dataframe tbody tr th:only-of-type {\n",
              "        vertical-align: middle;\n",
              "    }\n",
              "\n",
              "    .dataframe tbody tr th {\n",
              "        vertical-align: top;\n",
              "    }\n",
              "\n",
              "    .dataframe thead th {\n",
              "        text-align: right;\n",
              "    }\n",
              "</style>\n",
              "<table border=\"1\" class=\"dataframe\">\n",
              "  <thead>\n",
              "    <tr style=\"text-align: right;\">\n",
              "      <th></th>\n",
              "      <th>hash_inn</th>\n",
              "      <th>okved2</th>\n",
              "      <th>region</th>\n",
              "      <th>is_public</th>\n",
              "    </tr>\n",
              "  </thead>\n",
              "  <tbody>\n",
              "    <tr>\n",
              "      <th>0</th>\n",
              "      <td>61058</td>\n",
              "      <td>34</td>\n",
              "      <td>86</td>\n",
              "      <td>True</td>\n",
              "    </tr>\n",
              "    <tr>\n",
              "      <th>1</th>\n",
              "      <td>8311</td>\n",
              "      <td>18</td>\n",
              "      <td>86</td>\n",
              "      <td>True</td>\n",
              "    </tr>\n",
              "    <tr>\n",
              "      <th>2</th>\n",
              "      <td>130273</td>\n",
              "      <td>61</td>\n",
              "      <td>86</td>\n",
              "      <td>False</td>\n",
              "    </tr>\n",
              "    <tr>\n",
              "      <th>3</th>\n",
              "      <td>64081</td>\n",
              "      <td>43</td>\n",
              "      <td>86</td>\n",
              "      <td>True</td>\n",
              "    </tr>\n",
              "    <tr>\n",
              "      <th>4</th>\n",
              "      <td>218005</td>\n",
              "      <td>12</td>\n",
              "      <td>86</td>\n",
              "      <td>True</td>\n",
              "    </tr>\n",
              "    <tr>\n",
              "      <th>...</th>\n",
              "      <td>...</td>\n",
              "      <td>...</td>\n",
              "      <td>...</td>\n",
              "      <td>...</td>\n",
              "    </tr>\n",
              "    <tr>\n",
              "      <th>240064</th>\n",
              "      <td>139170</td>\n",
              "      <td>4</td>\n",
              "      <td>12</td>\n",
              "      <td>True</td>\n",
              "    </tr>\n",
              "    <tr>\n",
              "      <th>240065</th>\n",
              "      <td>13553</td>\n",
              "      <td>12</td>\n",
              "      <td>12</td>\n",
              "      <td>True</td>\n",
              "    </tr>\n",
              "    <tr>\n",
              "      <th>240066</th>\n",
              "      <td>230402</td>\n",
              "      <td>12</td>\n",
              "      <td>12</td>\n",
              "      <td>True</td>\n",
              "    </tr>\n",
              "    <tr>\n",
              "      <th>240067</th>\n",
              "      <td>170104</td>\n",
              "      <td>63</td>\n",
              "      <td>12</td>\n",
              "      <td>True</td>\n",
              "    </tr>\n",
              "    <tr>\n",
              "      <th>240068</th>\n",
              "      <td>162752</td>\n",
              "      <td>12</td>\n",
              "      <td>12</td>\n",
              "      <td>False</td>\n",
              "    </tr>\n",
              "  </tbody>\n",
              "</table>\n",
              "<p>240069 rows × 4 columns</p>\n",
              "</div>\n",
              "      <button class=\"colab-df-convert\" onclick=\"convertToInteractive('df-aad6de5c-b31c-4712-bfa0-4bc06e56a805')\"\n",
              "              title=\"Convert this dataframe to an interactive table.\"\n",
              "              style=\"display:none;\">\n",
              "        \n",
              "  <svg xmlns=\"http://www.w3.org/2000/svg\" height=\"24px\"viewBox=\"0 0 24 24\"\n",
              "       width=\"24px\">\n",
              "    <path d=\"M0 0h24v24H0V0z\" fill=\"none\"/>\n",
              "    <path d=\"M18.56 5.44l.94 2.06.94-2.06 2.06-.94-2.06-.94-.94-2.06-.94 2.06-2.06.94zm-11 1L8.5 8.5l.94-2.06 2.06-.94-2.06-.94L8.5 2.5l-.94 2.06-2.06.94zm10 10l.94 2.06.94-2.06 2.06-.94-2.06-.94-.94-2.06-.94 2.06-2.06.94z\"/><path d=\"M17.41 7.96l-1.37-1.37c-.4-.4-.92-.59-1.43-.59-.52 0-1.04.2-1.43.59L10.3 9.45l-7.72 7.72c-.78.78-.78 2.05 0 2.83L4 21.41c.39.39.9.59 1.41.59.51 0 1.02-.2 1.41-.59l7.78-7.78 2.81-2.81c.8-.78.8-2.07 0-2.86zM5.41 20L4 18.59l7.72-7.72 1.47 1.35L5.41 20z\"/>\n",
              "  </svg>\n",
              "      </button>\n",
              "      \n",
              "  <style>\n",
              "    .colab-df-container {\n",
              "      display:flex;\n",
              "      flex-wrap:wrap;\n",
              "      gap: 12px;\n",
              "    }\n",
              "\n",
              "    .colab-df-convert {\n",
              "      background-color: #E8F0FE;\n",
              "      border: none;\n",
              "      border-radius: 50%;\n",
              "      cursor: pointer;\n",
              "      display: none;\n",
              "      fill: #1967D2;\n",
              "      height: 32px;\n",
              "      padding: 0 0 0 0;\n",
              "      width: 32px;\n",
              "    }\n",
              "\n",
              "    .colab-df-convert:hover {\n",
              "      background-color: #E2EBFA;\n",
              "      box-shadow: 0px 1px 2px rgba(60, 64, 67, 0.3), 0px 1px 3px 1px rgba(60, 64, 67, 0.15);\n",
              "      fill: #174EA6;\n",
              "    }\n",
              "\n",
              "    [theme=dark] .colab-df-convert {\n",
              "      background-color: #3B4455;\n",
              "      fill: #D2E3FC;\n",
              "    }\n",
              "\n",
              "    [theme=dark] .colab-df-convert:hover {\n",
              "      background-color: #434B5C;\n",
              "      box-shadow: 0px 1px 3px 1px rgba(0, 0, 0, 0.15);\n",
              "      filter: drop-shadow(0px 1px 2px rgba(0, 0, 0, 0.3));\n",
              "      fill: #FFFFFF;\n",
              "    }\n",
              "  </style>\n",
              "\n",
              "      <script>\n",
              "        const buttonEl =\n",
              "          document.querySelector('#df-aad6de5c-b31c-4712-bfa0-4bc06e56a805 button.colab-df-convert');\n",
              "        buttonEl.style.display =\n",
              "          google.colab.kernel.accessAllowed ? 'block' : 'none';\n",
              "\n",
              "        async function convertToInteractive(key) {\n",
              "          const element = document.querySelector('#df-aad6de5c-b31c-4712-bfa0-4bc06e56a805');\n",
              "          const dataTable =\n",
              "            await google.colab.kernel.invokeFunction('convertToInteractive',\n",
              "                                                     [key], {});\n",
              "          if (!dataTable) return;\n",
              "\n",
              "          const docLinkHtml = 'Like what you see? Visit the ' +\n",
              "            '<a target=\"_blank\" href=https://colab.research.google.com/notebooks/data_table.ipynb>data table notebook</a>'\n",
              "            + ' to learn more about interactive tables.';\n",
              "          element.innerHTML = '';\n",
              "          dataTable['output_type'] = 'display_data';\n",
              "          await google.colab.output.renderOutput(dataTable, element);\n",
              "          const docLink = document.createElement('div');\n",
              "          docLink.innerHTML = docLinkHtml;\n",
              "          element.appendChild(docLink);\n",
              "        }\n",
              "      </script>\n",
              "    </div>\n",
              "  </div>\n",
              "  "
            ],
            "text/plain": [
              "       hash_inn okved2 region  is_public\n",
              "0         61058     34     86       True\n",
              "1          8311     18     86       True\n",
              "2        130273     61     86      False\n",
              "3         64081     43     86       True\n",
              "4        218005     12     86       True\n",
              "...         ...    ...    ...        ...\n",
              "240064   139170      4     12       True\n",
              "240065    13553     12     12       True\n",
              "240066   230402     12     12       True\n",
              "240067   170104     63     12       True\n",
              "240068   162752     12     12      False\n",
              "\n",
              "[240069 rows x 4 columns]"
            ]
          },
          "metadata": {},
          "execution_count": 86
        }
      ]
    },
    {
      "cell_type": "markdown",
      "source": [
        "### Выводы\n"
      ],
      "metadata": {
        "id": "saPmXasxcGVT"
      }
    },
    {
      "cell_type": "markdown",
      "source": [
        "Мы проврверили ряд гипотез, по которым была разработана модель, предсказывающая  отрасль компании по данным о её банковскиъ операциях.\n",
        "\n",
        "Некоторые выводы из данных:\n",
        "- Основная масса компаний пренадлежит к 2-3 самымобширным отраслям по количеству представителей. Исходя из этого, в будущем можно улучшать текущую модель стыквкой её с другими алгоритмами, но уже выявляющих какую-то конкретную отрасль из крупных.\n",
        "\n",
        "- В данных не найдена зависимость между средней суммой переводов и их количеством.\n",
        "\n",
        "-Все компании можно разделить на 5 групп:только отправляют переводы; явно преобладают отправленные переводы; явно преобладают принятые переводы; принятые и полученные переводы примерно равны; только принимают переводы. "
      ],
      "metadata": {
        "id": "dRiVu4vpcS_M"
      }
    },
    {
      "cell_type": "markdown",
      "source": [
        "После доработки модель может быть использована, как алгоритм, заполняющий пропуски в данных, где неизвестна отрасль компании."
      ],
      "metadata": {
        "id": "gAgkCE32V5Xb"
      }
    }
  ]
}