{
 "cells": [
  {
   "cell_type": "markdown",
   "metadata": {
    "toc": true
   },
   "source": [
    "<h1>Содержание<span class=\"tocSkip\"></span></h1>\n",
    "<div class=\"toc\"><ul class=\"toc-item\"><li><span><a href=\"#Подготовка-данных\" data-toc-modified-id=\"Подготовка-данных-1\"><span class=\"toc-item-num\">1&nbsp;&nbsp;</span>Подготовка данных</a></span></li><li><span><a href=\"#Проверим-распределение-гранул-сырья-в-выборках.\" data-toc-modified-id=\"Проверим-распределение-гранул-сырья-в-выборках.-2\"><span class=\"toc-item-num\">2&nbsp;&nbsp;</span>Проверим распределение гранул сырья в выборках.</a></span></li><li><span><a href=\"#Анализ-данных\" data-toc-modified-id=\"Анализ-данных-3\"><span class=\"toc-item-num\">3&nbsp;&nbsp;</span>Анализ данных</a></span></li><li><span><a href=\"#Модель\" data-toc-modified-id=\"Модель-4\"><span class=\"toc-item-num\">4&nbsp;&nbsp;</span>Модель</a></span><ul class=\"toc-item\"><li><span><a href=\"#Линейная-регрессия\" data-toc-modified-id=\"Линейная-регрессия-4.1\"><span class=\"toc-item-num\">4.1&nbsp;&nbsp;</span>Линейная регрессия</a></span></li><li><span><a href=\"#Решающие-деревья\" data-toc-modified-id=\"Решающие-деревья-4.2\"><span class=\"toc-item-num\">4.2&nbsp;&nbsp;</span>Решающие деревья</a></span></li><li><span><a href=\"#Случайный-лес\" data-toc-modified-id=\"Случайный-лес-4.3\"><span class=\"toc-item-num\">4.3&nbsp;&nbsp;</span>Случайный лес</a></span></li><li><span><a href=\"#Проверка-на-тестовой-выборке\" data-toc-modified-id=\"Проверка-на-тестовой-выборке-4.4\"><span class=\"toc-item-num\">4.4&nbsp;&nbsp;</span>Проверка на тестовой выборке</a></span></li></ul></li><li><span><a href=\"#ВЫВОД\" data-toc-modified-id=\"ВЫВОД-5\"><span class=\"toc-item-num\">5&nbsp;&nbsp;</span>ВЫВОД</a></span></li></ul></div>"
   ]
  },
  {
   "cell_type": "markdown",
   "metadata": {},
   "source": [
    "# Восстановление золота из руды"
   ]
  },
  {
   "cell_type": "markdown",
   "metadata": {},
   "source": [
    "Подготовьте прототип модели машинного обучения для «Цифры». Компания разрабатывает решения для эффективной работы промышленных предприятий.\n",
    "\n",
    "Модель должна предсказать коэффициент восстановления золота из золотосодержащей руды. Используйте данные с параметрами добычи и очистки. \n",
    "\n",
    "Модель поможет оптимизировать производство, чтобы не запускать предприятие с убыточными характеристиками.\n",
    "\n",
    "Вам нужно:\n",
    "\n",
    "1. Подготовить данные;\n",
    "2. Провести исследовательский анализ данных;\n",
    "3. Построить и обучить модель.\n",
    "\n",
    "Чтобы выполнить проект, обращайтесь к библиотекам *pandas*, *matplotlib* и *sklearn.* Вам поможет их документация."
   ]
  },
  {
   "cell_type": "markdown",
   "metadata": {},
   "source": [
    "## Подготовка данных"
   ]
  },
  {
   "cell_type": "code",
   "execution_count": 1,
   "metadata": {},
   "outputs": [],
   "source": [
    "import pandas as pd\n",
    "import numpy as np\n",
    "\n",
    "from sklearn.metrics import mean_absolute_error\n",
    "from sklearn.model_selection import cross_val_score\n",
    "from sklearn.tree import DecisionTreeRegressor\n",
    "from sklearn.ensemble import RandomForestRegressor\n",
    "from sklearn.linear_model import LinearRegression\n",
    "from sklearn.model_selection import train_test_split\n",
    "from sklearn.metrics import make_scorer"
   ]
  },
  {
   "cell_type": "code",
   "execution_count": 2,
   "metadata": {},
   "outputs": [],
   "source": [
    "train = pd.read_csv('/datasets/gold_recovery_train.csv')\n",
    "test = pd.read_csv('/datasets/gold_recovery_test.csv')\n",
    "full = pd.read_csv('/datasets/gold_recovery_full.csv')"
   ]
  },
  {
   "cell_type": "code",
   "execution_count": 3,
   "metadata": {},
   "outputs": [
    {
     "data": {
      "text/html": [
       "<div>\n",
       "<style scoped>\n",
       "    .dataframe tbody tr th:only-of-type {\n",
       "        vertical-align: middle;\n",
       "    }\n",
       "\n",
       "    .dataframe tbody tr th {\n",
       "        vertical-align: top;\n",
       "    }\n",
       "\n",
       "    .dataframe thead th {\n",
       "        text-align: right;\n",
       "    }\n",
       "</style>\n",
       "<table border=\"1\" class=\"dataframe\">\n",
       "  <thead>\n",
       "    <tr style=\"text-align: right;\">\n",
       "      <th></th>\n",
       "      <th>date</th>\n",
       "      <th>final.output.concentrate_ag</th>\n",
       "      <th>final.output.concentrate_pb</th>\n",
       "      <th>final.output.concentrate_sol</th>\n",
       "      <th>final.output.concentrate_au</th>\n",
       "      <th>final.output.recovery</th>\n",
       "      <th>final.output.tail_ag</th>\n",
       "      <th>final.output.tail_pb</th>\n",
       "      <th>final.output.tail_sol</th>\n",
       "      <th>final.output.tail_au</th>\n",
       "      <th>...</th>\n",
       "      <th>secondary_cleaner.state.floatbank4_a_air</th>\n",
       "      <th>secondary_cleaner.state.floatbank4_a_level</th>\n",
       "      <th>secondary_cleaner.state.floatbank4_b_air</th>\n",
       "      <th>secondary_cleaner.state.floatbank4_b_level</th>\n",
       "      <th>secondary_cleaner.state.floatbank5_a_air</th>\n",
       "      <th>secondary_cleaner.state.floatbank5_a_level</th>\n",
       "      <th>secondary_cleaner.state.floatbank5_b_air</th>\n",
       "      <th>secondary_cleaner.state.floatbank5_b_level</th>\n",
       "      <th>secondary_cleaner.state.floatbank6_a_air</th>\n",
       "      <th>secondary_cleaner.state.floatbank6_a_level</th>\n",
       "    </tr>\n",
       "  </thead>\n",
       "  <tbody>\n",
       "    <tr>\n",
       "      <td>0</td>\n",
       "      <td>2016-01-15 00:00:00</td>\n",
       "      <td>6.055403</td>\n",
       "      <td>9.889648</td>\n",
       "      <td>5.507324</td>\n",
       "      <td>42.192020</td>\n",
       "      <td>70.541216</td>\n",
       "      <td>10.411962</td>\n",
       "      <td>0.895447</td>\n",
       "      <td>16.904297</td>\n",
       "      <td>2.143149</td>\n",
       "      <td>...</td>\n",
       "      <td>14.016835</td>\n",
       "      <td>-502.488007</td>\n",
       "      <td>12.099931</td>\n",
       "      <td>-504.715942</td>\n",
       "      <td>9.925633</td>\n",
       "      <td>-498.310211</td>\n",
       "      <td>8.079666</td>\n",
       "      <td>-500.470978</td>\n",
       "      <td>14.151341</td>\n",
       "      <td>-605.841980</td>\n",
       "    </tr>\n",
       "    <tr>\n",
       "      <td>1</td>\n",
       "      <td>2016-01-15 01:00:00</td>\n",
       "      <td>6.029369</td>\n",
       "      <td>9.968944</td>\n",
       "      <td>5.257781</td>\n",
       "      <td>42.701629</td>\n",
       "      <td>69.266198</td>\n",
       "      <td>10.462676</td>\n",
       "      <td>0.927452</td>\n",
       "      <td>16.634514</td>\n",
       "      <td>2.224930</td>\n",
       "      <td>...</td>\n",
       "      <td>13.992281</td>\n",
       "      <td>-505.503262</td>\n",
       "      <td>11.950531</td>\n",
       "      <td>-501.331529</td>\n",
       "      <td>10.039245</td>\n",
       "      <td>-500.169983</td>\n",
       "      <td>7.984757</td>\n",
       "      <td>-500.582168</td>\n",
       "      <td>13.998353</td>\n",
       "      <td>-599.787184</td>\n",
       "    </tr>\n",
       "    <tr>\n",
       "      <td>2</td>\n",
       "      <td>2016-01-15 02:00:00</td>\n",
       "      <td>6.055926</td>\n",
       "      <td>10.213995</td>\n",
       "      <td>5.383759</td>\n",
       "      <td>42.657501</td>\n",
       "      <td>68.116445</td>\n",
       "      <td>10.507046</td>\n",
       "      <td>0.953716</td>\n",
       "      <td>16.208849</td>\n",
       "      <td>2.257889</td>\n",
       "      <td>...</td>\n",
       "      <td>14.015015</td>\n",
       "      <td>-502.520901</td>\n",
       "      <td>11.912783</td>\n",
       "      <td>-501.133383</td>\n",
       "      <td>10.070913</td>\n",
       "      <td>-500.129135</td>\n",
       "      <td>8.013877</td>\n",
       "      <td>-500.517572</td>\n",
       "      <td>14.028663</td>\n",
       "      <td>-601.427363</td>\n",
       "    </tr>\n",
       "    <tr>\n",
       "      <td>3</td>\n",
       "      <td>2016-01-15 03:00:00</td>\n",
       "      <td>6.047977</td>\n",
       "      <td>9.977019</td>\n",
       "      <td>4.858634</td>\n",
       "      <td>42.689819</td>\n",
       "      <td>68.347543</td>\n",
       "      <td>10.422762</td>\n",
       "      <td>0.883763</td>\n",
       "      <td>16.532835</td>\n",
       "      <td>2.146849</td>\n",
       "      <td>...</td>\n",
       "      <td>14.036510</td>\n",
       "      <td>-500.857308</td>\n",
       "      <td>11.999550</td>\n",
       "      <td>-501.193686</td>\n",
       "      <td>9.970366</td>\n",
       "      <td>-499.201640</td>\n",
       "      <td>7.977324</td>\n",
       "      <td>-500.255908</td>\n",
       "      <td>14.005551</td>\n",
       "      <td>-599.996129</td>\n",
       "    </tr>\n",
       "    <tr>\n",
       "      <td>4</td>\n",
       "      <td>2016-01-15 04:00:00</td>\n",
       "      <td>6.148599</td>\n",
       "      <td>10.142511</td>\n",
       "      <td>4.939416</td>\n",
       "      <td>42.774141</td>\n",
       "      <td>66.927016</td>\n",
       "      <td>10.360302</td>\n",
       "      <td>0.792826</td>\n",
       "      <td>16.525686</td>\n",
       "      <td>2.055292</td>\n",
       "      <td>...</td>\n",
       "      <td>14.027298</td>\n",
       "      <td>-499.838632</td>\n",
       "      <td>11.953070</td>\n",
       "      <td>-501.053894</td>\n",
       "      <td>9.925709</td>\n",
       "      <td>-501.686727</td>\n",
       "      <td>7.894242</td>\n",
       "      <td>-500.356035</td>\n",
       "      <td>13.996647</td>\n",
       "      <td>-601.496691</td>\n",
       "    </tr>\n",
       "  </tbody>\n",
       "</table>\n",
       "<p>5 rows × 87 columns</p>\n",
       "</div>"
      ],
      "text/plain": [
       "                  date  final.output.concentrate_ag  \\\n",
       "0  2016-01-15 00:00:00                     6.055403   \n",
       "1  2016-01-15 01:00:00                     6.029369   \n",
       "2  2016-01-15 02:00:00                     6.055926   \n",
       "3  2016-01-15 03:00:00                     6.047977   \n",
       "4  2016-01-15 04:00:00                     6.148599   \n",
       "\n",
       "   final.output.concentrate_pb  final.output.concentrate_sol  \\\n",
       "0                     9.889648                      5.507324   \n",
       "1                     9.968944                      5.257781   \n",
       "2                    10.213995                      5.383759   \n",
       "3                     9.977019                      4.858634   \n",
       "4                    10.142511                      4.939416   \n",
       "\n",
       "   final.output.concentrate_au  final.output.recovery  final.output.tail_ag  \\\n",
       "0                    42.192020              70.541216             10.411962   \n",
       "1                    42.701629              69.266198             10.462676   \n",
       "2                    42.657501              68.116445             10.507046   \n",
       "3                    42.689819              68.347543             10.422762   \n",
       "4                    42.774141              66.927016             10.360302   \n",
       "\n",
       "   final.output.tail_pb  final.output.tail_sol  final.output.tail_au  ...  \\\n",
       "0              0.895447              16.904297              2.143149  ...   \n",
       "1              0.927452              16.634514              2.224930  ...   \n",
       "2              0.953716              16.208849              2.257889  ...   \n",
       "3              0.883763              16.532835              2.146849  ...   \n",
       "4              0.792826              16.525686              2.055292  ...   \n",
       "\n",
       "   secondary_cleaner.state.floatbank4_a_air  \\\n",
       "0                                 14.016835   \n",
       "1                                 13.992281   \n",
       "2                                 14.015015   \n",
       "3                                 14.036510   \n",
       "4                                 14.027298   \n",
       "\n",
       "   secondary_cleaner.state.floatbank4_a_level  \\\n",
       "0                                 -502.488007   \n",
       "1                                 -505.503262   \n",
       "2                                 -502.520901   \n",
       "3                                 -500.857308   \n",
       "4                                 -499.838632   \n",
       "\n",
       "   secondary_cleaner.state.floatbank4_b_air  \\\n",
       "0                                 12.099931   \n",
       "1                                 11.950531   \n",
       "2                                 11.912783   \n",
       "3                                 11.999550   \n",
       "4                                 11.953070   \n",
       "\n",
       "   secondary_cleaner.state.floatbank4_b_level  \\\n",
       "0                                 -504.715942   \n",
       "1                                 -501.331529   \n",
       "2                                 -501.133383   \n",
       "3                                 -501.193686   \n",
       "4                                 -501.053894   \n",
       "\n",
       "   secondary_cleaner.state.floatbank5_a_air  \\\n",
       "0                                  9.925633   \n",
       "1                                 10.039245   \n",
       "2                                 10.070913   \n",
       "3                                  9.970366   \n",
       "4                                  9.925709   \n",
       "\n",
       "   secondary_cleaner.state.floatbank5_a_level  \\\n",
       "0                                 -498.310211   \n",
       "1                                 -500.169983   \n",
       "2                                 -500.129135   \n",
       "3                                 -499.201640   \n",
       "4                                 -501.686727   \n",
       "\n",
       "   secondary_cleaner.state.floatbank5_b_air  \\\n",
       "0                                  8.079666   \n",
       "1                                  7.984757   \n",
       "2                                  8.013877   \n",
       "3                                  7.977324   \n",
       "4                                  7.894242   \n",
       "\n",
       "   secondary_cleaner.state.floatbank5_b_level  \\\n",
       "0                                 -500.470978   \n",
       "1                                 -500.582168   \n",
       "2                                 -500.517572   \n",
       "3                                 -500.255908   \n",
       "4                                 -500.356035   \n",
       "\n",
       "   secondary_cleaner.state.floatbank6_a_air  \\\n",
       "0                                 14.151341   \n",
       "1                                 13.998353   \n",
       "2                                 14.028663   \n",
       "3                                 14.005551   \n",
       "4                                 13.996647   \n",
       "\n",
       "   secondary_cleaner.state.floatbank6_a_level  \n",
       "0                                 -605.841980  \n",
       "1                                 -599.787184  \n",
       "2                                 -601.427363  \n",
       "3                                 -599.996129  \n",
       "4                                 -601.496691  \n",
       "\n",
       "[5 rows x 87 columns]"
      ]
     },
     "execution_count": 3,
     "metadata": {},
     "output_type": "execute_result"
    }
   ],
   "source": [
    "train.head()"
   ]
  },
  {
   "cell_type": "code",
   "execution_count": 4,
   "metadata": {},
   "outputs": [
    {
     "data": {
      "text/html": [
       "<div>\n",
       "<style scoped>\n",
       "    .dataframe tbody tr th:only-of-type {\n",
       "        vertical-align: middle;\n",
       "    }\n",
       "\n",
       "    .dataframe tbody tr th {\n",
       "        vertical-align: top;\n",
       "    }\n",
       "\n",
       "    .dataframe thead th {\n",
       "        text-align: right;\n",
       "    }\n",
       "</style>\n",
       "<table border=\"1\" class=\"dataframe\">\n",
       "  <thead>\n",
       "    <tr style=\"text-align: right;\">\n",
       "      <th></th>\n",
       "      <th>date</th>\n",
       "      <th>primary_cleaner.input.sulfate</th>\n",
       "      <th>primary_cleaner.input.depressant</th>\n",
       "      <th>primary_cleaner.input.feed_size</th>\n",
       "      <th>primary_cleaner.input.xanthate</th>\n",
       "      <th>primary_cleaner.state.floatbank8_a_air</th>\n",
       "      <th>primary_cleaner.state.floatbank8_a_level</th>\n",
       "      <th>primary_cleaner.state.floatbank8_b_air</th>\n",
       "      <th>primary_cleaner.state.floatbank8_b_level</th>\n",
       "      <th>primary_cleaner.state.floatbank8_c_air</th>\n",
       "      <th>...</th>\n",
       "      <th>secondary_cleaner.state.floatbank4_a_air</th>\n",
       "      <th>secondary_cleaner.state.floatbank4_a_level</th>\n",
       "      <th>secondary_cleaner.state.floatbank4_b_air</th>\n",
       "      <th>secondary_cleaner.state.floatbank4_b_level</th>\n",
       "      <th>secondary_cleaner.state.floatbank5_a_air</th>\n",
       "      <th>secondary_cleaner.state.floatbank5_a_level</th>\n",
       "      <th>secondary_cleaner.state.floatbank5_b_air</th>\n",
       "      <th>secondary_cleaner.state.floatbank5_b_level</th>\n",
       "      <th>secondary_cleaner.state.floatbank6_a_air</th>\n",
       "      <th>secondary_cleaner.state.floatbank6_a_level</th>\n",
       "    </tr>\n",
       "  </thead>\n",
       "  <tbody>\n",
       "    <tr>\n",
       "      <td>0</td>\n",
       "      <td>2016-09-01 00:59:59</td>\n",
       "      <td>210.800909</td>\n",
       "      <td>14.993118</td>\n",
       "      <td>8.080000</td>\n",
       "      <td>1.005021</td>\n",
       "      <td>1398.981301</td>\n",
       "      <td>-500.225577</td>\n",
       "      <td>1399.144926</td>\n",
       "      <td>-499.919735</td>\n",
       "      <td>1400.102998</td>\n",
       "      <td>...</td>\n",
       "      <td>12.023554</td>\n",
       "      <td>-497.795834</td>\n",
       "      <td>8.016656</td>\n",
       "      <td>-501.289139</td>\n",
       "      <td>7.946562</td>\n",
       "      <td>-432.317850</td>\n",
       "      <td>4.872511</td>\n",
       "      <td>-500.037437</td>\n",
       "      <td>26.705889</td>\n",
       "      <td>-499.709414</td>\n",
       "    </tr>\n",
       "    <tr>\n",
       "      <td>1</td>\n",
       "      <td>2016-09-01 01:59:59</td>\n",
       "      <td>215.392455</td>\n",
       "      <td>14.987471</td>\n",
       "      <td>8.080000</td>\n",
       "      <td>0.990469</td>\n",
       "      <td>1398.777912</td>\n",
       "      <td>-500.057435</td>\n",
       "      <td>1398.055362</td>\n",
       "      <td>-499.778182</td>\n",
       "      <td>1396.151033</td>\n",
       "      <td>...</td>\n",
       "      <td>12.058140</td>\n",
       "      <td>-498.695773</td>\n",
       "      <td>8.130979</td>\n",
       "      <td>-499.634209</td>\n",
       "      <td>7.958270</td>\n",
       "      <td>-525.839648</td>\n",
       "      <td>4.878850</td>\n",
       "      <td>-500.162375</td>\n",
       "      <td>25.019940</td>\n",
       "      <td>-499.819438</td>\n",
       "    </tr>\n",
       "    <tr>\n",
       "      <td>2</td>\n",
       "      <td>2016-09-01 02:59:59</td>\n",
       "      <td>215.259946</td>\n",
       "      <td>12.884934</td>\n",
       "      <td>7.786667</td>\n",
       "      <td>0.996043</td>\n",
       "      <td>1398.493666</td>\n",
       "      <td>-500.868360</td>\n",
       "      <td>1398.860436</td>\n",
       "      <td>-499.764529</td>\n",
       "      <td>1398.075709</td>\n",
       "      <td>...</td>\n",
       "      <td>11.962366</td>\n",
       "      <td>-498.767484</td>\n",
       "      <td>8.096893</td>\n",
       "      <td>-500.827423</td>\n",
       "      <td>8.071056</td>\n",
       "      <td>-500.801673</td>\n",
       "      <td>4.905125</td>\n",
       "      <td>-499.828510</td>\n",
       "      <td>24.994862</td>\n",
       "      <td>-500.622559</td>\n",
       "    </tr>\n",
       "    <tr>\n",
       "      <td>3</td>\n",
       "      <td>2016-09-01 03:59:59</td>\n",
       "      <td>215.336236</td>\n",
       "      <td>12.006805</td>\n",
       "      <td>7.640000</td>\n",
       "      <td>0.863514</td>\n",
       "      <td>1399.618111</td>\n",
       "      <td>-498.863574</td>\n",
       "      <td>1397.440120</td>\n",
       "      <td>-499.211024</td>\n",
       "      <td>1400.129303</td>\n",
       "      <td>...</td>\n",
       "      <td>12.033091</td>\n",
       "      <td>-498.350935</td>\n",
       "      <td>8.074946</td>\n",
       "      <td>-499.474407</td>\n",
       "      <td>7.897085</td>\n",
       "      <td>-500.868509</td>\n",
       "      <td>4.931400</td>\n",
       "      <td>-499.963623</td>\n",
       "      <td>24.948919</td>\n",
       "      <td>-498.709987</td>\n",
       "    </tr>\n",
       "    <tr>\n",
       "      <td>4</td>\n",
       "      <td>2016-09-01 04:59:59</td>\n",
       "      <td>199.099327</td>\n",
       "      <td>10.682530</td>\n",
       "      <td>7.530000</td>\n",
       "      <td>0.805575</td>\n",
       "      <td>1401.268123</td>\n",
       "      <td>-500.808305</td>\n",
       "      <td>1398.128818</td>\n",
       "      <td>-499.504543</td>\n",
       "      <td>1402.172226</td>\n",
       "      <td>...</td>\n",
       "      <td>12.025367</td>\n",
       "      <td>-500.786497</td>\n",
       "      <td>8.054678</td>\n",
       "      <td>-500.397500</td>\n",
       "      <td>8.107890</td>\n",
       "      <td>-509.526725</td>\n",
       "      <td>4.957674</td>\n",
       "      <td>-500.360026</td>\n",
       "      <td>25.003331</td>\n",
       "      <td>-500.856333</td>\n",
       "    </tr>\n",
       "  </tbody>\n",
       "</table>\n",
       "<p>5 rows × 53 columns</p>\n",
       "</div>"
      ],
      "text/plain": [
       "                  date  primary_cleaner.input.sulfate  \\\n",
       "0  2016-09-01 00:59:59                     210.800909   \n",
       "1  2016-09-01 01:59:59                     215.392455   \n",
       "2  2016-09-01 02:59:59                     215.259946   \n",
       "3  2016-09-01 03:59:59                     215.336236   \n",
       "4  2016-09-01 04:59:59                     199.099327   \n",
       "\n",
       "   primary_cleaner.input.depressant  primary_cleaner.input.feed_size  \\\n",
       "0                         14.993118                         8.080000   \n",
       "1                         14.987471                         8.080000   \n",
       "2                         12.884934                         7.786667   \n",
       "3                         12.006805                         7.640000   \n",
       "4                         10.682530                         7.530000   \n",
       "\n",
       "   primary_cleaner.input.xanthate  primary_cleaner.state.floatbank8_a_air  \\\n",
       "0                        1.005021                             1398.981301   \n",
       "1                        0.990469                             1398.777912   \n",
       "2                        0.996043                             1398.493666   \n",
       "3                        0.863514                             1399.618111   \n",
       "4                        0.805575                             1401.268123   \n",
       "\n",
       "   primary_cleaner.state.floatbank8_a_level  \\\n",
       "0                               -500.225577   \n",
       "1                               -500.057435   \n",
       "2                               -500.868360   \n",
       "3                               -498.863574   \n",
       "4                               -500.808305   \n",
       "\n",
       "   primary_cleaner.state.floatbank8_b_air  \\\n",
       "0                             1399.144926   \n",
       "1                             1398.055362   \n",
       "2                             1398.860436   \n",
       "3                             1397.440120   \n",
       "4                             1398.128818   \n",
       "\n",
       "   primary_cleaner.state.floatbank8_b_level  \\\n",
       "0                               -499.919735   \n",
       "1                               -499.778182   \n",
       "2                               -499.764529   \n",
       "3                               -499.211024   \n",
       "4                               -499.504543   \n",
       "\n",
       "   primary_cleaner.state.floatbank8_c_air  ...  \\\n",
       "0                             1400.102998  ...   \n",
       "1                             1396.151033  ...   \n",
       "2                             1398.075709  ...   \n",
       "3                             1400.129303  ...   \n",
       "4                             1402.172226  ...   \n",
       "\n",
       "   secondary_cleaner.state.floatbank4_a_air  \\\n",
       "0                                 12.023554   \n",
       "1                                 12.058140   \n",
       "2                                 11.962366   \n",
       "3                                 12.033091   \n",
       "4                                 12.025367   \n",
       "\n",
       "   secondary_cleaner.state.floatbank4_a_level  \\\n",
       "0                                 -497.795834   \n",
       "1                                 -498.695773   \n",
       "2                                 -498.767484   \n",
       "3                                 -498.350935   \n",
       "4                                 -500.786497   \n",
       "\n",
       "   secondary_cleaner.state.floatbank4_b_air  \\\n",
       "0                                  8.016656   \n",
       "1                                  8.130979   \n",
       "2                                  8.096893   \n",
       "3                                  8.074946   \n",
       "4                                  8.054678   \n",
       "\n",
       "   secondary_cleaner.state.floatbank4_b_level  \\\n",
       "0                                 -501.289139   \n",
       "1                                 -499.634209   \n",
       "2                                 -500.827423   \n",
       "3                                 -499.474407   \n",
       "4                                 -500.397500   \n",
       "\n",
       "   secondary_cleaner.state.floatbank5_a_air  \\\n",
       "0                                  7.946562   \n",
       "1                                  7.958270   \n",
       "2                                  8.071056   \n",
       "3                                  7.897085   \n",
       "4                                  8.107890   \n",
       "\n",
       "   secondary_cleaner.state.floatbank5_a_level  \\\n",
       "0                                 -432.317850   \n",
       "1                                 -525.839648   \n",
       "2                                 -500.801673   \n",
       "3                                 -500.868509   \n",
       "4                                 -509.526725   \n",
       "\n",
       "   secondary_cleaner.state.floatbank5_b_air  \\\n",
       "0                                  4.872511   \n",
       "1                                  4.878850   \n",
       "2                                  4.905125   \n",
       "3                                  4.931400   \n",
       "4                                  4.957674   \n",
       "\n",
       "   secondary_cleaner.state.floatbank5_b_level  \\\n",
       "0                                 -500.037437   \n",
       "1                                 -500.162375   \n",
       "2                                 -499.828510   \n",
       "3                                 -499.963623   \n",
       "4                                 -500.360026   \n",
       "\n",
       "   secondary_cleaner.state.floatbank6_a_air  \\\n",
       "0                                 26.705889   \n",
       "1                                 25.019940   \n",
       "2                                 24.994862   \n",
       "3                                 24.948919   \n",
       "4                                 25.003331   \n",
       "\n",
       "   secondary_cleaner.state.floatbank6_a_level  \n",
       "0                                 -499.709414  \n",
       "1                                 -499.819438  \n",
       "2                                 -500.622559  \n",
       "3                                 -498.709987  \n",
       "4                                 -500.856333  \n",
       "\n",
       "[5 rows x 53 columns]"
      ]
     },
     "execution_count": 4,
     "metadata": {},
     "output_type": "execute_result"
    }
   ],
   "source": [
    "test.head()"
   ]
  },
  {
   "cell_type": "code",
   "execution_count": 5,
   "metadata": {},
   "outputs": [
    {
     "data": {
      "text/html": [
       "<div>\n",
       "<style scoped>\n",
       "    .dataframe tbody tr th:only-of-type {\n",
       "        vertical-align: middle;\n",
       "    }\n",
       "\n",
       "    .dataframe tbody tr th {\n",
       "        vertical-align: top;\n",
       "    }\n",
       "\n",
       "    .dataframe thead th {\n",
       "        text-align: right;\n",
       "    }\n",
       "</style>\n",
       "<table border=\"1\" class=\"dataframe\">\n",
       "  <thead>\n",
       "    <tr style=\"text-align: right;\">\n",
       "      <th></th>\n",
       "      <th>date</th>\n",
       "      <th>final.output.concentrate_ag</th>\n",
       "      <th>final.output.concentrate_pb</th>\n",
       "      <th>final.output.concentrate_sol</th>\n",
       "      <th>final.output.concentrate_au</th>\n",
       "      <th>final.output.recovery</th>\n",
       "      <th>final.output.tail_ag</th>\n",
       "      <th>final.output.tail_pb</th>\n",
       "      <th>final.output.tail_sol</th>\n",
       "      <th>final.output.tail_au</th>\n",
       "      <th>...</th>\n",
       "      <th>secondary_cleaner.state.floatbank4_a_air</th>\n",
       "      <th>secondary_cleaner.state.floatbank4_a_level</th>\n",
       "      <th>secondary_cleaner.state.floatbank4_b_air</th>\n",
       "      <th>secondary_cleaner.state.floatbank4_b_level</th>\n",
       "      <th>secondary_cleaner.state.floatbank5_a_air</th>\n",
       "      <th>secondary_cleaner.state.floatbank5_a_level</th>\n",
       "      <th>secondary_cleaner.state.floatbank5_b_air</th>\n",
       "      <th>secondary_cleaner.state.floatbank5_b_level</th>\n",
       "      <th>secondary_cleaner.state.floatbank6_a_air</th>\n",
       "      <th>secondary_cleaner.state.floatbank6_a_level</th>\n",
       "    </tr>\n",
       "  </thead>\n",
       "  <tbody>\n",
       "    <tr>\n",
       "      <td>0</td>\n",
       "      <td>2016-01-15 00:00:00</td>\n",
       "      <td>6.055403</td>\n",
       "      <td>9.889648</td>\n",
       "      <td>5.507324</td>\n",
       "      <td>42.192020</td>\n",
       "      <td>70.541216</td>\n",
       "      <td>10.411962</td>\n",
       "      <td>0.895447</td>\n",
       "      <td>16.904297</td>\n",
       "      <td>2.143149</td>\n",
       "      <td>...</td>\n",
       "      <td>14.016835</td>\n",
       "      <td>-502.488007</td>\n",
       "      <td>12.099931</td>\n",
       "      <td>-504.715942</td>\n",
       "      <td>9.925633</td>\n",
       "      <td>-498.310211</td>\n",
       "      <td>8.079666</td>\n",
       "      <td>-500.470978</td>\n",
       "      <td>14.151341</td>\n",
       "      <td>-605.841980</td>\n",
       "    </tr>\n",
       "    <tr>\n",
       "      <td>1</td>\n",
       "      <td>2016-01-15 01:00:00</td>\n",
       "      <td>6.029369</td>\n",
       "      <td>9.968944</td>\n",
       "      <td>5.257781</td>\n",
       "      <td>42.701629</td>\n",
       "      <td>69.266198</td>\n",
       "      <td>10.462676</td>\n",
       "      <td>0.927452</td>\n",
       "      <td>16.634514</td>\n",
       "      <td>2.224930</td>\n",
       "      <td>...</td>\n",
       "      <td>13.992281</td>\n",
       "      <td>-505.503262</td>\n",
       "      <td>11.950531</td>\n",
       "      <td>-501.331529</td>\n",
       "      <td>10.039245</td>\n",
       "      <td>-500.169983</td>\n",
       "      <td>7.984757</td>\n",
       "      <td>-500.582168</td>\n",
       "      <td>13.998353</td>\n",
       "      <td>-599.787184</td>\n",
       "    </tr>\n",
       "    <tr>\n",
       "      <td>2</td>\n",
       "      <td>2016-01-15 02:00:00</td>\n",
       "      <td>6.055926</td>\n",
       "      <td>10.213995</td>\n",
       "      <td>5.383759</td>\n",
       "      <td>42.657501</td>\n",
       "      <td>68.116445</td>\n",
       "      <td>10.507046</td>\n",
       "      <td>0.953716</td>\n",
       "      <td>16.208849</td>\n",
       "      <td>2.257889</td>\n",
       "      <td>...</td>\n",
       "      <td>14.015015</td>\n",
       "      <td>-502.520901</td>\n",
       "      <td>11.912783</td>\n",
       "      <td>-501.133383</td>\n",
       "      <td>10.070913</td>\n",
       "      <td>-500.129135</td>\n",
       "      <td>8.013877</td>\n",
       "      <td>-500.517572</td>\n",
       "      <td>14.028663</td>\n",
       "      <td>-601.427363</td>\n",
       "    </tr>\n",
       "    <tr>\n",
       "      <td>3</td>\n",
       "      <td>2016-01-15 03:00:00</td>\n",
       "      <td>6.047977</td>\n",
       "      <td>9.977019</td>\n",
       "      <td>4.858634</td>\n",
       "      <td>42.689819</td>\n",
       "      <td>68.347543</td>\n",
       "      <td>10.422762</td>\n",
       "      <td>0.883763</td>\n",
       "      <td>16.532835</td>\n",
       "      <td>2.146849</td>\n",
       "      <td>...</td>\n",
       "      <td>14.036510</td>\n",
       "      <td>-500.857308</td>\n",
       "      <td>11.999550</td>\n",
       "      <td>-501.193686</td>\n",
       "      <td>9.970366</td>\n",
       "      <td>-499.201640</td>\n",
       "      <td>7.977324</td>\n",
       "      <td>-500.255908</td>\n",
       "      <td>14.005551</td>\n",
       "      <td>-599.996129</td>\n",
       "    </tr>\n",
       "    <tr>\n",
       "      <td>4</td>\n",
       "      <td>2016-01-15 04:00:00</td>\n",
       "      <td>6.148599</td>\n",
       "      <td>10.142511</td>\n",
       "      <td>4.939416</td>\n",
       "      <td>42.774141</td>\n",
       "      <td>66.927016</td>\n",
       "      <td>10.360302</td>\n",
       "      <td>0.792826</td>\n",
       "      <td>16.525686</td>\n",
       "      <td>2.055292</td>\n",
       "      <td>...</td>\n",
       "      <td>14.027298</td>\n",
       "      <td>-499.838632</td>\n",
       "      <td>11.953070</td>\n",
       "      <td>-501.053894</td>\n",
       "      <td>9.925709</td>\n",
       "      <td>-501.686727</td>\n",
       "      <td>7.894242</td>\n",
       "      <td>-500.356035</td>\n",
       "      <td>13.996647</td>\n",
       "      <td>-601.496691</td>\n",
       "    </tr>\n",
       "  </tbody>\n",
       "</table>\n",
       "<p>5 rows × 87 columns</p>\n",
       "</div>"
      ],
      "text/plain": [
       "                  date  final.output.concentrate_ag  \\\n",
       "0  2016-01-15 00:00:00                     6.055403   \n",
       "1  2016-01-15 01:00:00                     6.029369   \n",
       "2  2016-01-15 02:00:00                     6.055926   \n",
       "3  2016-01-15 03:00:00                     6.047977   \n",
       "4  2016-01-15 04:00:00                     6.148599   \n",
       "\n",
       "   final.output.concentrate_pb  final.output.concentrate_sol  \\\n",
       "0                     9.889648                      5.507324   \n",
       "1                     9.968944                      5.257781   \n",
       "2                    10.213995                      5.383759   \n",
       "3                     9.977019                      4.858634   \n",
       "4                    10.142511                      4.939416   \n",
       "\n",
       "   final.output.concentrate_au  final.output.recovery  final.output.tail_ag  \\\n",
       "0                    42.192020              70.541216             10.411962   \n",
       "1                    42.701629              69.266198             10.462676   \n",
       "2                    42.657501              68.116445             10.507046   \n",
       "3                    42.689819              68.347543             10.422762   \n",
       "4                    42.774141              66.927016             10.360302   \n",
       "\n",
       "   final.output.tail_pb  final.output.tail_sol  final.output.tail_au  ...  \\\n",
       "0              0.895447              16.904297              2.143149  ...   \n",
       "1              0.927452              16.634514              2.224930  ...   \n",
       "2              0.953716              16.208849              2.257889  ...   \n",
       "3              0.883763              16.532835              2.146849  ...   \n",
       "4              0.792826              16.525686              2.055292  ...   \n",
       "\n",
       "   secondary_cleaner.state.floatbank4_a_air  \\\n",
       "0                                 14.016835   \n",
       "1                                 13.992281   \n",
       "2                                 14.015015   \n",
       "3                                 14.036510   \n",
       "4                                 14.027298   \n",
       "\n",
       "   secondary_cleaner.state.floatbank4_a_level  \\\n",
       "0                                 -502.488007   \n",
       "1                                 -505.503262   \n",
       "2                                 -502.520901   \n",
       "3                                 -500.857308   \n",
       "4                                 -499.838632   \n",
       "\n",
       "   secondary_cleaner.state.floatbank4_b_air  \\\n",
       "0                                 12.099931   \n",
       "1                                 11.950531   \n",
       "2                                 11.912783   \n",
       "3                                 11.999550   \n",
       "4                                 11.953070   \n",
       "\n",
       "   secondary_cleaner.state.floatbank4_b_level  \\\n",
       "0                                 -504.715942   \n",
       "1                                 -501.331529   \n",
       "2                                 -501.133383   \n",
       "3                                 -501.193686   \n",
       "4                                 -501.053894   \n",
       "\n",
       "   secondary_cleaner.state.floatbank5_a_air  \\\n",
       "0                                  9.925633   \n",
       "1                                 10.039245   \n",
       "2                                 10.070913   \n",
       "3                                  9.970366   \n",
       "4                                  9.925709   \n",
       "\n",
       "   secondary_cleaner.state.floatbank5_a_level  \\\n",
       "0                                 -498.310211   \n",
       "1                                 -500.169983   \n",
       "2                                 -500.129135   \n",
       "3                                 -499.201640   \n",
       "4                                 -501.686727   \n",
       "\n",
       "   secondary_cleaner.state.floatbank5_b_air  \\\n",
       "0                                  8.079666   \n",
       "1                                  7.984757   \n",
       "2                                  8.013877   \n",
       "3                                  7.977324   \n",
       "4                                  7.894242   \n",
       "\n",
       "   secondary_cleaner.state.floatbank5_b_level  \\\n",
       "0                                 -500.470978   \n",
       "1                                 -500.582168   \n",
       "2                                 -500.517572   \n",
       "3                                 -500.255908   \n",
       "4                                 -500.356035   \n",
       "\n",
       "   secondary_cleaner.state.floatbank6_a_air  \\\n",
       "0                                 14.151341   \n",
       "1                                 13.998353   \n",
       "2                                 14.028663   \n",
       "3                                 14.005551   \n",
       "4                                 13.996647   \n",
       "\n",
       "   secondary_cleaner.state.floatbank6_a_level  \n",
       "0                                 -605.841980  \n",
       "1                                 -599.787184  \n",
       "2                                 -601.427363  \n",
       "3                                 -599.996129  \n",
       "4                                 -601.496691  \n",
       "\n",
       "[5 rows x 87 columns]"
      ]
     },
     "execution_count": 5,
     "metadata": {},
     "output_type": "execute_result"
    }
   ],
   "source": [
    "full.head()"
   ]
  },
  {
   "cell_type": "code",
   "execution_count": 6,
   "metadata": {},
   "outputs": [],
   "source": [
    "train['date']= pd.to_datetime(train['date'], format='%Y-%m-%d %H:%M:%S')\n",
    "test['date']= pd.to_datetime(test['date'], format='%Y-%m-%d %H:%M:%S')\n",
    "full['date']= pd.to_datetime(full['date'], format='%Y-%m-%d %H:%M:%S')"
   ]
  },
  {
   "cell_type": "markdown",
   "metadata": {},
   "source": [
    "Найдём все пропущенные значения."
   ]
  },
  {
   "cell_type": "markdown",
   "metadata": {},
   "source": [
    "Проанализируем признаки недостпные в тестовой выборке.\n",
    "\n",
    "В тестовой выюорке доступны только данные, считываемые датчиками. Недоступны данные, которые можно узнать после обработки всех продуктов сырья на всех этапах. Данные, доступные в тестовой выборке указывают нам на доступные признаки  для предсказания."
   ]
  },
  {
   "cell_type": "code",
   "execution_count": 7,
   "metadata": {},
   "outputs": [
    {
     "data": {
      "text/plain": [
       "final.output.concentrate_sol               385\n",
       "rougher.input.feed_size                    439\n",
       "primary_cleaner.output.concentrate_pb      448\n",
       "rougher.input.floatbank10_xanthate         469\n",
       "rougher.input.feed_rate                    553\n",
       "rougher.state.floatbank10_e_air            620\n",
       "rougher.input.floatbank11_sulfate          678\n",
       "primary_cleaner.output.concentrate_sol     798\n",
       "primary_cleaner.input.xanthate            1151\n",
       "rougher.input.floatbank10_sulfate         1301\n",
       "primary_cleaner.input.depressant          1546\n",
       "primary_cleaner.input.sulfate             1609\n",
       "rougher.calculation.au_pb_ratio           1627\n",
       "final.output.recovery                     1963\n",
       "secondary_cleaner.output.tail_sol         2215\n",
       "rougher.input.floatbank11_xanthate        2257\n",
       "rougher.output.tail_au                    2736\n",
       "rougher.output.tail_sol                   2736\n",
       "rougher.output.tail_ag                    2737\n",
       "rougher.output.recovery                   3119\n",
       "dtype: int64"
      ]
     },
     "execution_count": 7,
     "metadata": {},
     "output_type": "execute_result"
    }
   ],
   "source": [
    "full.isna().sum().sort_values().tail(20)"
   ]
  },
  {
   "cell_type": "code",
   "execution_count": 8,
   "metadata": {},
   "outputs": [
    {
     "data": {
      "text/plain": [
       "primary_cleaner.output.concentrate_pb        358\n",
       "secondary_cleaner.state.floatbank2_a_air     363\n",
       "final.output.concentrate_sol                 370\n",
       "rougher.input.feed_size                      417\n",
       "rougher.input.feed_rate                      513\n",
       "rougher.state.floatbank10_e_air              603\n",
       "rougher.input.floatbank11_sulfate            623\n",
       "primary_cleaner.output.concentrate_sol       636\n",
       "primary_cleaner.input.xanthate               985\n",
       "rougher.input.floatbank10_sulfate           1044\n",
       "rougher.calculation.au_pb_ratio             1242\n",
       "primary_cleaner.input.depressant            1262\n",
       "primary_cleaner.input.sulfate               1307\n",
       "final.output.recovery                       1521\n",
       "rougher.input.floatbank11_xanthate          1904\n",
       "secondary_cleaner.output.tail_sol           1986\n",
       "rougher.output.tail_au                      2249\n",
       "rougher.output.tail_sol                     2249\n",
       "rougher.output.tail_ag                      2250\n",
       "rougher.output.recovery                     2573\n",
       "dtype: int64"
      ]
     },
     "execution_count": 8,
     "metadata": {},
     "output_type": "execute_result"
    }
   ],
   "source": [
    "train.isna().sum().sort_values().tail(20)"
   ]
  },
  {
   "cell_type": "markdown",
   "metadata": {},
   "source": [
    "В столбцах много пропущенных значений. В rougher.output.recovery 3119. Рассчитаем это значение."
   ]
  },
  {
   "cell_type": "code",
   "execution_count": 9,
   "metadata": {},
   "outputs": [],
   "source": [
    "def recovery_in_percent(output_concentrate,input_feed,output_tail):\n",
    "    C = output_concentrate\n",
    "    F = input_feed\n",
    "    T = output_tail\n",
    "    return 100 * C * (F - T) / (F * (C - T))"
   ]
  },
  {
   "cell_type": "code",
   "execution_count": 10,
   "metadata": {},
   "outputs": [],
   "source": [
    "rougher_recovery = recovery_in_percent(\n",
    "    full['rougher.output.concentrate_au'], full['rougher.input.feed_au'], full['rougher.output.tail_au'])"
   ]
  },
  {
   "cell_type": "code",
   "execution_count": 11,
   "metadata": {},
   "outputs": [
    {
     "data": {
      "text/plain": [
       "1.1606241020277064e-14"
      ]
     },
     "execution_count": 11,
     "metadata": {},
     "output_type": "execute_result"
    }
   ],
   "source": [
    "mean_absolute_error(\n",
    "    rougher_recovery[ full['rougher.output.recovery'].dropna().index], full['rougher.output.recovery'].dropna())"
   ]
  },
  {
   "cell_type": "markdown",
   "metadata": {},
   "source": [
    "Функция достаточно точно рассчитывает параметр. Можем рассчитать его для пропущенных значений."
   ]
  },
  {
   "cell_type": "code",
   "execution_count": 12,
   "metadata": {},
   "outputs": [],
   "source": [
    "full['rougher.output.recovery'] = rougher_recovery"
   ]
  },
  {
   "cell_type": "code",
   "execution_count": 13,
   "metadata": {
    "scrolled": true
   },
   "outputs": [
    {
     "data": {
      "text/html": [
       "<div>\n",
       "<style scoped>\n",
       "    .dataframe tbody tr th:only-of-type {\n",
       "        vertical-align: middle;\n",
       "    }\n",
       "\n",
       "    .dataframe tbody tr th {\n",
       "        vertical-align: top;\n",
       "    }\n",
       "\n",
       "    .dataframe thead th {\n",
       "        text-align: right;\n",
       "    }\n",
       "</style>\n",
       "<table border=\"1\" class=\"dataframe\">\n",
       "  <thead>\n",
       "    <tr style=\"text-align: right;\">\n",
       "      <th></th>\n",
       "      <th>rougher.output.concentrate_au</th>\n",
       "      <th>rougher.input.feed_au</th>\n",
       "      <th>rougher.output.tail_au</th>\n",
       "    </tr>\n",
       "  </thead>\n",
       "  <tbody>\n",
       "    <tr>\n",
       "      <td>99</td>\n",
       "      <td>0.000000</td>\n",
       "      <td>0.000000</td>\n",
       "      <td>NaN</td>\n",
       "    </tr>\n",
       "    <tr>\n",
       "      <td>100</td>\n",
       "      <td>0.000000</td>\n",
       "      <td>0.000000</td>\n",
       "      <td>NaN</td>\n",
       "    </tr>\n",
       "    <tr>\n",
       "      <td>101</td>\n",
       "      <td>0.000000</td>\n",
       "      <td>0.000000</td>\n",
       "      <td>NaN</td>\n",
       "    </tr>\n",
       "    <tr>\n",
       "      <td>102</td>\n",
       "      <td>0.000000</td>\n",
       "      <td>0.000000</td>\n",
       "      <td>NaN</td>\n",
       "    </tr>\n",
       "    <tr>\n",
       "      <td>103</td>\n",
       "      <td>0.000000</td>\n",
       "      <td>0.000000</td>\n",
       "      <td>NaN</td>\n",
       "    </tr>\n",
       "    <tr>\n",
       "      <td>...</td>\n",
       "      <td>...</td>\n",
       "      <td>...</td>\n",
       "      <td>...</td>\n",
       "    </tr>\n",
       "    <tr>\n",
       "      <td>22465</td>\n",
       "      <td>0.010000</td>\n",
       "      <td>0.010000</td>\n",
       "      <td>NaN</td>\n",
       "    </tr>\n",
       "    <tr>\n",
       "      <td>22466</td>\n",
       "      <td>0.010000</td>\n",
       "      <td>0.010000</td>\n",
       "      <td>NaN</td>\n",
       "    </tr>\n",
       "    <tr>\n",
       "      <td>22467</td>\n",
       "      <td>0.010000</td>\n",
       "      <td>0.010000</td>\n",
       "      <td>NaN</td>\n",
       "    </tr>\n",
       "    <tr>\n",
       "      <td>22468</td>\n",
       "      <td>1.325702</td>\n",
       "      <td>4.988064</td>\n",
       "      <td>NaN</td>\n",
       "    </tr>\n",
       "    <tr>\n",
       "      <td>22530</td>\n",
       "      <td>17.541169</td>\n",
       "      <td>4.010665</td>\n",
       "      <td>NaN</td>\n",
       "    </tr>\n",
       "  </tbody>\n",
       "</table>\n",
       "<p>2776 rows × 3 columns</p>\n",
       "</div>"
      ],
      "text/plain": [
       "       rougher.output.concentrate_au  rougher.input.feed_au  \\\n",
       "99                          0.000000               0.000000   \n",
       "100                         0.000000               0.000000   \n",
       "101                         0.000000               0.000000   \n",
       "102                         0.000000               0.000000   \n",
       "103                         0.000000               0.000000   \n",
       "...                              ...                    ...   \n",
       "22465                       0.010000               0.010000   \n",
       "22466                       0.010000               0.010000   \n",
       "22467                       0.010000               0.010000   \n",
       "22468                       1.325702               4.988064   \n",
       "22530                      17.541169               4.010665   \n",
       "\n",
       "       rougher.output.tail_au  \n",
       "99                        NaN  \n",
       "100                       NaN  \n",
       "101                       NaN  \n",
       "102                       NaN  \n",
       "103                       NaN  \n",
       "...                       ...  \n",
       "22465                     NaN  \n",
       "22466                     NaN  \n",
       "22467                     NaN  \n",
       "22468                     NaN  \n",
       "22530                     NaN  \n",
       "\n",
       "[2776 rows x 3 columns]"
      ]
     },
     "execution_count": 13,
     "metadata": {},
     "output_type": "execute_result"
    }
   ],
   "source": [
    "full[full['rougher.output.recovery'].isna() == True][\n",
    "    ['rougher.output.concentrate_au','rougher.input.feed_au','rougher.output.tail_au']]"
   ]
  },
  {
   "cell_type": "markdown",
   "metadata": {},
   "source": [
    "Значения NaN для rougher.output.recovery соответвует содержанию золота в руде 0. Можем удалить эти данные."
   ]
  },
  {
   "cell_type": "code",
   "execution_count": 14,
   "metadata": {},
   "outputs": [],
   "source": [
    "full_1 = full[full['rougher.input.feed_au'] > 0.1].copy()"
   ]
  },
  {
   "cell_type": "markdown",
   "metadata": {},
   "source": [
    "Определим признаки и целевые показатели. Признаки определим по тестовой выборке. Целевым показателем является финальная rougher.output.recovery и final.output.recovery"
   ]
  },
  {
   "cell_type": "code",
   "execution_count": 17,
   "metadata": {},
   "outputs": [],
   "source": [
    "fetures_col_for_rougher = ['rougher.input.feed_pb', 'rougher.input.feed_rate',\n",
    "       'rougher.input.feed_size', 'rougher.input.feed_sol',\n",
    "       'rougher.input.feed_au', 'rougher.input.floatbank10_sulfate',\n",
    "       'rougher.input.floatbank10_xanthate',\n",
    "       'rougher.input.floatbank11_sulfate',\n",
    "       'rougher.input.floatbank11_xanthate', 'rougher.state.floatbank10_a_air',\n",
    "       'rougher.state.floatbank10_a_level', 'rougher.state.floatbank10_b_air',\n",
    "       'rougher.state.floatbank10_b_level', 'rougher.state.floatbank10_c_air',\n",
    "       'rougher.state.floatbank10_c_level', 'rougher.state.floatbank10_d_air',\n",
    "       'rougher.state.floatbank10_d_level', 'rougher.state.floatbank10_e_air',\n",
    "       'rougher.state.floatbank10_e_level', 'rougher.state.floatbank10_f_air',\n",
    "       'rougher.state.floatbank10_f_level']\n",
    "\n",
    "target_col_for_rougher = ['rougher.output.recovery']\n",
    "\n",
    "\n",
    "fetures_col_for_final = ['primary_cleaner.input.sulfate',\n",
    "       'primary_cleaner.input.depressant', 'primary_cleaner.input.feed_size',\n",
    "       'primary_cleaner.input.xanthate',\n",
    "       'primary_cleaner.state.floatbank8_a_air',\n",
    "       'primary_cleaner.state.floatbank8_a_level',\n",
    "       'primary_cleaner.state.floatbank8_b_air',\n",
    "       'primary_cleaner.state.floatbank8_b_level',\n",
    "       'primary_cleaner.state.floatbank8_c_air',\n",
    "       'primary_cleaner.state.floatbank8_c_level',\n",
    "       'primary_cleaner.state.floatbank8_d_air',\n",
    "       'primary_cleaner.state.floatbank8_d_level',\n",
    "       'secondary_cleaner.state.floatbank2_a_air',\n",
    "       'secondary_cleaner.state.floatbank2_a_level',\n",
    "       'secondary_cleaner.state.floatbank2_b_air',\n",
    "       'secondary_cleaner.state.floatbank2_b_level',\n",
    "       'secondary_cleaner.state.floatbank3_a_air',\n",
    "       'secondary_cleaner.state.floatbank3_a_level',\n",
    "       'secondary_cleaner.state.floatbank3_b_air',\n",
    "       'secondary_cleaner.state.floatbank3_b_level',\n",
    "       'secondary_cleaner.state.floatbank4_a_air',\n",
    "       'secondary_cleaner.state.floatbank4_a_level',\n",
    "       'secondary_cleaner.state.floatbank4_b_air',\n",
    "       'secondary_cleaner.state.floatbank4_b_level',\n",
    "       'secondary_cleaner.state.floatbank5_a_air',\n",
    "       'secondary_cleaner.state.floatbank5_a_level',\n",
    "       'secondary_cleaner.state.floatbank5_b_air',\n",
    "       'secondary_cleaner.state.floatbank5_b_level',\n",
    "       'secondary_cleaner.state.floatbank6_a_air',\n",
    "       'secondary_cleaner.state.floatbank6_a_level']\n",
    "\n",
    "target_col_for_final =['final.output.recovery']"
   ]
  },
  {
   "cell_type": "markdown",
   "metadata": {},
   "source": [
    "Определим столбцы, в которых нам важно найти пропущенные значения"
   ]
  },
  {
   "cell_type": "code",
   "execution_count": 18,
   "metadata": {
    "scrolled": true
   },
   "outputs": [
    {
     "name": "stdout",
     "output_type": "stream",
     "text": [
      "['rougher.input.floatbank11_sulfate', 'rougher.input.floatbank10_sulfate', 'rougher.input.feed_pb', 'rougher.input.feed_size', 'rougher.input.feed_sol', 'rougher.state.floatbank10_e_air', 'rougher.input.floatbank11_xanthate']\n"
     ]
    }
   ],
   "source": [
    "col = []\n",
    "for i in full_1.isna().sum().sort_values().tail(25).index:\n",
    "    if i in (fetures_col_for_rougher or fetures_col_for_final or target_col_for_rougher):\n",
    "        col.append(i)\n",
    "print(col)"
   ]
  },
  {
   "cell_type": "code",
   "execution_count": 19,
   "metadata": {
    "scrolled": true
   },
   "outputs": [
    {
     "data": {
      "text/plain": [
       "rougher.input.floatbank11_sulfate      78\n",
       "rougher.input.floatbank10_sulfate     102\n",
       "rougher.input.feed_pb                 146\n",
       "rougher.input.feed_size               159\n",
       "rougher.input.feed_sol                261\n",
       "rougher.state.floatbank10_e_air       510\n",
       "rougher.input.floatbank11_xanthate    527\n",
       "dtype: int64"
      ]
     },
     "execution_count": 19,
     "metadata": {},
     "output_type": "execute_result"
    }
   ],
   "source": [
    "full_1[col].isna().sum().sort_values()"
   ]
  },
  {
   "cell_type": "code",
   "execution_count": 20,
   "metadata": {
    "scrolled": true
   },
   "outputs": [],
   "source": [
    "full_1 = full_1.dropna(subset=col).copy()"
   ]
  },
  {
   "cell_type": "markdown",
   "metadata": {},
   "source": [
    "Видимо, в столбце secondary_cleaner.output.tail_sol появились пропущенные значения из-за слишком маленькой концентрации, заменим пропуски на 0. Аналогично с другими хвостами."
   ]
  },
  {
   "cell_type": "code",
   "execution_count": 21,
   "metadata": {},
   "outputs": [],
   "source": [
    "rougher_recovery = recovery_in_percent(\n",
    "    full_1['rougher.output.concentrate_au'], full_1['rougher.input.feed_au'], full_1['rougher.output.tail_au'])"
   ]
  },
  {
   "cell_type": "code",
   "execution_count": 22,
   "metadata": {},
   "outputs": [],
   "source": [
    "full_1['rougher.output.recovery'] = rougher_recovery"
   ]
  },
  {
   "cell_type": "code",
   "execution_count": 23,
   "metadata": {},
   "outputs": [
    {
     "data": {
      "text/html": [
       "<div>\n",
       "<style scoped>\n",
       "    .dataframe tbody tr th:only-of-type {\n",
       "        vertical-align: middle;\n",
       "    }\n",
       "\n",
       "    .dataframe tbody tr th {\n",
       "        vertical-align: top;\n",
       "    }\n",
       "\n",
       "    .dataframe thead th {\n",
       "        text-align: right;\n",
       "    }\n",
       "</style>\n",
       "<table border=\"1\" class=\"dataframe\">\n",
       "  <thead>\n",
       "    <tr style=\"text-align: right;\">\n",
       "      <th></th>\n",
       "      <th>rougher.output.concentrate_sol</th>\n",
       "      <th>primary_cleaner.output.tail_sol</th>\n",
       "    </tr>\n",
       "  </thead>\n",
       "  <tbody>\n",
       "    <tr>\n",
       "      <td>74</td>\n",
       "      <td>25.603770</td>\n",
       "      <td>8.285282</td>\n",
       "    </tr>\n",
       "    <tr>\n",
       "      <td>130</td>\n",
       "      <td>17.771791</td>\n",
       "      <td>NaN</td>\n",
       "    </tr>\n",
       "    <tr>\n",
       "      <td>132</td>\n",
       "      <td>20.178652</td>\n",
       "      <td>NaN</td>\n",
       "    </tr>\n",
       "    <tr>\n",
       "      <td>382</td>\n",
       "      <td>25.239335</td>\n",
       "      <td>NaN</td>\n",
       "    </tr>\n",
       "    <tr>\n",
       "      <td>383</td>\n",
       "      <td>29.406592</td>\n",
       "      <td>NaN</td>\n",
       "    </tr>\n",
       "    <tr>\n",
       "      <td>...</td>\n",
       "      <td>...</td>\n",
       "      <td>...</td>\n",
       "    </tr>\n",
       "    <tr>\n",
       "      <td>22656</td>\n",
       "      <td>31.663047</td>\n",
       "      <td>NaN</td>\n",
       "    </tr>\n",
       "    <tr>\n",
       "      <td>22657</td>\n",
       "      <td>32.026885</td>\n",
       "      <td>NaN</td>\n",
       "    </tr>\n",
       "    <tr>\n",
       "      <td>22658</td>\n",
       "      <td>31.760235</td>\n",
       "      <td>NaN</td>\n",
       "    </tr>\n",
       "    <tr>\n",
       "      <td>22659</td>\n",
       "      <td>32.160767</td>\n",
       "      <td>0.869668</td>\n",
       "    </tr>\n",
       "    <tr>\n",
       "      <td>22660</td>\n",
       "      <td>32.170573</td>\n",
       "      <td>0.367180</td>\n",
       "    </tr>\n",
       "  </tbody>\n",
       "</table>\n",
       "<p>467 rows × 2 columns</p>\n",
       "</div>"
      ],
      "text/plain": [
       "       rougher.output.concentrate_sol  primary_cleaner.output.tail_sol\n",
       "74                          25.603770                         8.285282\n",
       "130                         17.771791                              NaN\n",
       "132                         20.178652                              NaN\n",
       "382                         25.239335                              NaN\n",
       "383                         29.406592                              NaN\n",
       "...                               ...                              ...\n",
       "22656                       31.663047                              NaN\n",
       "22657                       32.026885                              NaN\n",
       "22658                       31.760235                              NaN\n",
       "22659                       32.160767                         0.869668\n",
       "22660                       32.170573                         0.367180\n",
       "\n",
       "[467 rows x 2 columns]"
      ]
     },
     "execution_count": 23,
     "metadata": {},
     "output_type": "execute_result"
    }
   ],
   "source": [
    "full_1[full_1['primary_cleaner.output.concentrate_sol'].isna() == True][['rougher.output.concentrate_sol','primary_cleaner.output.tail_sol']]"
   ]
  },
  {
   "cell_type": "markdown",
   "metadata": {},
   "source": [
    "Приверим дубликаты"
   ]
  },
  {
   "cell_type": "code",
   "execution_count": 24,
   "metadata": {},
   "outputs": [
    {
     "data": {
      "text/plain": [
       "0"
      ]
     },
     "execution_count": 24,
     "metadata": {},
     "output_type": "execute_result"
    }
   ],
   "source": [
    "full_1.duplicated().sum()"
   ]
  },
  {
   "cell_type": "code",
   "execution_count": 25,
   "metadata": {},
   "outputs": [],
   "source": [
    "train.index = train['date']\n",
    "train.drop('date', axis=1, inplace=True)\n",
    "\n",
    "full_1.index = full_1['date']\n",
    "full_1.drop('date', axis=1, inplace=True)\n",
    "\n",
    "test.index = test['date']\n",
    "test.drop('date', axis=1, inplace=True)"
   ]
  },
  {
   "cell_type": "code",
   "execution_count": 26,
   "metadata": {},
   "outputs": [
    {
     "name": "stdout",
     "output_type": "stream",
     "text": [
      "0.7840719743992937\n"
     ]
    },
    {
     "name": "stderr",
     "output_type": "stream",
     "text": [
      "/opt/conda/lib/python3.7/site-packages/ipykernel_launcher.py:1: FutureWarning: \n",
      "Passing list-likes to .loc or [] with any missing label will raise\n",
      "KeyError in the future, you can use .reindex() as an alternative.\n",
      "\n",
      "See the documentation here:\n",
      "https://pandas.pydata.org/pandas-docs/stable/user_guide/indexing.html#deprecate-loc-reindex-listlike\n",
      "  \"\"\"Entry point for launching an IPython kernel.\n"
     ]
    },
    {
     "data": {
      "text/plain": [
       "0.0"
      ]
     },
     "execution_count": 26,
     "metadata": {},
     "output_type": "execute_result"
    }
   ],
   "source": [
    "train_1 = full_1.loc[train.index].copy()\n",
    "\n",
    "print((train_1 == train).mean().mean())\n",
    "\n",
    "train_1.dropna(inplace=True)\n",
    "train_1.isna().sum().mean()"
   ]
  },
  {
   "cell_type": "code",
   "execution_count": 27,
   "metadata": {},
   "outputs": [
    {
     "name": "stdout",
     "output_type": "stream",
     "text": [
      "0.8937086223203026\n"
     ]
    },
    {
     "name": "stderr",
     "output_type": "stream",
     "text": [
      "/opt/conda/lib/python3.7/site-packages/pandas/core/indexing.py:1418: FutureWarning: \n",
      "Passing list-likes to .loc or [] with any missing label will raise\n",
      "KeyError in the future, you can use .reindex() as an alternative.\n",
      "\n",
      "See the documentation here:\n",
      "https://pandas.pydata.org/pandas-docs/stable/user_guide/indexing.html#deprecate-loc-reindex-listlike\n",
      "  return self._getitem_tuple(key)\n"
     ]
    },
    {
     "data": {
      "text/plain": [
       "0.0"
      ]
     },
     "execution_count": 27,
     "metadata": {},
     "output_type": "execute_result"
    }
   ],
   "source": [
    "test_1 = full_1.loc[test.index,test.columns].copy()\n",
    "\n",
    "print((test_1 == test).mean().mean())\n",
    "\n",
    "test_1.dropna(inplace=True)\n",
    "test_1.isna().sum().mean()"
   ]
  },
  {
   "cell_type": "markdown",
   "metadata": {},
   "source": [
    "Данные немного расходятся из-за предобработки."
   ]
  },
  {
   "cell_type": "markdown",
   "metadata": {},
   "source": [
    "## Проверим распределение гранул сырья в выборках."
   ]
  },
  {
   "cell_type": "markdown",
   "metadata": {},
   "source": [
    "Сравним распределение размеров гранул в тестовой "
   ]
  },
  {
   "cell_type": "code",
   "execution_count": 28,
   "metadata": {},
   "outputs": [],
   "source": [
    "import matplotlib.pyplot as plt  "
   ]
  },
  {
   "cell_type": "code",
   "execution_count": 29,
   "metadata": {},
   "outputs": [
    {
     "data": {
      "text/plain": [
       "<matplotlib.legend.Legend at 0x7f1c943df790>"
      ]
     },
     "execution_count": 29,
     "metadata": {},
     "output_type": "execute_result"
    },
    {
     "data": {
      "image/png": "[encoded data removed]",
      "text/plain": [
       "<Figure size 432x288 with 1 Axes>"
      ]
     },
     "metadata": {
      "needs_background": "light"
     },
     "output_type": "display_data"
    }
   ],
   "source": [
    "train_1['rougher.input.feed_size'].hist(bins=100,label='train')\n",
    "test_1['rougher.input.feed_size'].hist(bins=100,label='test')\n",
    "plt.legend()"
   ]
  },
  {
   "cell_type": "code",
   "execution_count": 30,
   "metadata": {},
   "outputs": [
    {
     "data": {
      "text/plain": [
       "<matplotlib.legend.Legend at 0x7f1c89646a10>"
      ]
     },
     "execution_count": 30,
     "metadata": {},
     "output_type": "execute_result"
    },
    {
     "data": {
      "image/png": "[encoded data removed]",
      "text/plain": [
       "<Figure size 432x288 with 1 Axes>"
      ]
     },
     "metadata": {
      "needs_background": "light"
     },
     "output_type": "display_data"
    }
   ],
   "source": [
    "train_1['primary_cleaner.input.feed_size'].hist(bins=100,label='train')\n",
    "test_1['primary_cleaner.input.feed_size'].hist(bins=100,label='test')\n",
    "plt.legend()"
   ]
  },
  {
   "cell_type": "markdown",
   "metadata": {},
   "source": [
    "По гистограммам видно, что распределения в целом совпадают. Но есть несколько аномальных значений, которые мы уберем из выборок."
   ]
  },
  {
   "cell_type": "markdown",
   "metadata": {},
   "source": [
    "<div style=\"background: #cceeaa; padding: 5px; border: 1px solid green; border-radius: 5px;\">\n",
    "<font color='green'> \n",
    "<u>КОММЕНТАРИЙ РЕВЬЮЕРА</u>\n",
    "<font color='green'><br>ОК,"
   ]
  },
  {
   "cell_type": "code",
   "execution_count": 31,
   "metadata": {},
   "outputs": [],
   "source": [
    "train_1 = train_1[\n",
    "    (train_1['rougher.input.feed_size'] < 100) ].copy()\n",
    "test_1 = test_1[test_1['rougher.input.feed_size'] < 100].copy()\n",
    "\n",
    "train_1 = train_1[(train_1['primary_cleaner.input.feed_size'] < 10)].copy()\n",
    "test_1 = test_1[test_1['primary_cleaner.input.feed_size'] < 10].copy()\n",
    "\n",
    "train_1 = train_1[(train_1['primary_cleaner.input.feed_size'] > 5)].copy()\n",
    "test_1 = test_1[test_1['primary_cleaner.input.feed_size'] > 5].copy()"
   ]
  },
  {
   "cell_type": "code",
   "execution_count": 32,
   "metadata": {},
   "outputs": [
    {
     "data": {
      "text/plain": [
       "Text(0.5, 1.0, 'primary_cleaner')"
      ]
     },
     "execution_count": 32,
     "metadata": {},
     "output_type": "execute_result"
    },
    {
     "data": {
      "image/png": "[encoded data removed]",
      "text/plain": [
       "<Figure size 648x576 with 2 Axes>"
      ]
     },
     "metadata": {
      "needs_background": "light"
     },
     "output_type": "display_data"
    }
   ],
   "source": [
    "plt.subplot(221)\n",
    "train_1['rougher.input.feed_size'].hist(bins=100,label='train', figsize=(9,8))\n",
    "test_1['rougher.input.feed_size'].hist(bins=100,label='test')\n",
    "plt.legend()\n",
    "plt.title('rougher')\n",
    "\n",
    "plt.subplot(222)\n",
    "train_1['primary_cleaner.input.feed_size'].hist(bins=100,label='train')\n",
    "test_1['primary_cleaner.input.feed_size'].hist(bins=100,label='test')\n",
    "plt.legend()\n",
    "plt.title('primary_cleaner')"
   ]
  },
  {
   "cell_type": "markdown",
   "metadata": {},
   "source": [
    "Видно, что пик распределения на rougher немного смещен влево, но в целом все значения сосредоточены в таких же границах."
   ]
  },
  {
   "cell_type": "markdown",
   "metadata": {},
   "source": [
    "## Анализ данных\n",
    "Посмотрим, как меняется концентрация сырья в зависимости от этапа. Выделим аномальные значения."
   ]
  },
  {
   "cell_type": "code",
   "execution_count": 33,
   "metadata": {},
   "outputs": [
    {
     "data": {
      "text/plain": [
       "['final.output.concentrate_ag',\n",
       " 'final.output.concentrate_pb',\n",
       " 'final.output.concentrate_sol',\n",
       " 'final.output.concentrate_au',\n",
       " 'primary_cleaner.output.concentrate_ag',\n",
       " 'primary_cleaner.output.concentrate_pb',\n",
       " 'primary_cleaner.output.concentrate_sol',\n",
       " 'primary_cleaner.output.concentrate_au',\n",
       " 'rougher.input.feed_ag',\n",
       " 'rougher.input.feed_pb',\n",
       " 'rougher.input.feed_sol',\n",
       " 'rougher.input.feed_au',\n",
       " 'rougher.output.concentrate_ag',\n",
       " 'rougher.output.concentrate_pb',\n",
       " 'rougher.output.concentrate_sol',\n",
       " 'rougher.output.concentrate_au']"
      ]
     },
     "execution_count": 33,
     "metadata": {},
     "output_type": "execute_result"
    }
   ],
   "source": [
    "concentrate_col = []\n",
    "tail_col = []\n",
    "\n",
    "for i in train_1.columns:\n",
    "    if (('concentrate' in i) or ('feed_' in i)) and ('size' not in i) and ('_rate' not in i) and ('_to_' not in i):\n",
    "        concentrate_col.append(i)\n",
    "    if 'tail_' in i:\n",
    "        tail_col.append(i)\n",
    "\n",
    "concentrate_col"
   ]
  },
  {
   "cell_type": "code",
   "execution_count": 36,
   "metadata": {},
   "outputs": [],
   "source": [
    "import seaborn as sns\n",
    "import matplotlib as mpl"
   ]
  },
  {
   "cell_type": "code",
   "execution_count": 37,
   "metadata": {},
   "outputs": [
    {
     "data": {
      "text/plain": [
       "['final.output.tail_ag',\n",
       " 'final.output.tail_pb',\n",
       " 'final.output.tail_sol',\n",
       " 'final.output.tail_au',\n",
       " 'primary_cleaner.output.tail_ag',\n",
       " 'primary_cleaner.output.tail_pb',\n",
       " 'primary_cleaner.output.tail_sol',\n",
       " 'primary_cleaner.output.tail_au',\n",
       " 'rougher.output.tail_ag',\n",
       " 'rougher.output.tail_pb',\n",
       " 'rougher.output.tail_sol',\n",
       " 'rougher.output.tail_au',\n",
       " 'secondary_cleaner.output.tail_ag',\n",
       " 'secondary_cleaner.output.tail_pb',\n",
       " 'secondary_cleaner.output.tail_sol',\n",
       " 'secondary_cleaner.output.tail_au']"
      ]
     },
     "execution_count": 37,
     "metadata": {},
     "output_type": "execute_result"
    }
   ],
   "source": [
    "tail_col"
   ]
  },
  {
   "cell_type": "code",
   "execution_count": 38,
   "metadata": {},
   "outputs": [
    {
     "data": {
      "text/plain": [
       "Text(0.5, 1.0, 'Распределение концентрации серебра (Ag) в хвостах на разных этапах очистки')"
      ]
     },
     "execution_count": 38,
     "metadata": {},
     "output_type": "execute_result"
    },
    {
     "data": {
      "image/png": "[encoded data removed]",
      "text/plain": [
       "<Figure size 432x288 with 1 Axes>"
      ]
     },
     "metadata": {
      "needs_background": "light"
     },
     "output_type": "display_data"
    }
   ],
   "source": [
    "sns.kdeplot(data=full_1['primary_cleaner.output.tail_ag'], shade=True, label='Первичная очистка')\n",
    "sns.kdeplot(data=full_1['final.output.tail_ag'], shade=True, label='Финальный продукт')\n",
    "sns.kdeplot(data=full_1['rougher.output.tail_ag'], shade=True , label='Флотация')\n",
    "\n",
    "plt.xlabel('процент вещества')\n",
    "plt.title('Распределение концентрации серебра (Ag) в хвостах на разных этапах очистки')"
   ]
  },
  {
   "cell_type": "code",
   "execution_count": 39,
   "metadata": {},
   "outputs": [
    {
     "data": {
      "text/plain": [
       "Text(0.5, 1.0, 'Распределение концентрации свинца (Pb) в хвостах на разных этапах очистки')"
      ]
     },
     "execution_count": 39,
     "metadata": {},
     "output_type": "execute_result"
    },
    {
     "data": {
      "image/png": "[encoded data removed]",
      "text/plain": [
       "<Figure size 432x288 with 1 Axes>"
      ]
     },
     "metadata": {
      "needs_background": "light"
     },
     "output_type": "display_data"
    }
   ],
   "source": [
    "sns.kdeplot(data=full_1['primary_cleaner.output.tail_pb'], shade=True, label='Первичная очистка')\n",
    "sns.kdeplot(data=full_1['final.output.tail_pb'], shade=True, label='Финальный продукт')\n",
    "sns.kdeplot(data=full_1['rougher.output.tail_pb'], shade=True , label='Флотация')\n",
    "\n",
    "plt.xlabel('процент вещества')\n",
    "plt.title('Распределение концентрации свинца (Pb) в хвостах на разных этапах очистки')"
   ]
  },
  {
   "cell_type": "code",
   "execution_count": 40,
   "metadata": {},
   "outputs": [
    {
     "data": {
      "text/plain": [
       "Text(0.5, 1.0, 'Распределение концентрации sol в хвостах на разных этапах очистки')"
      ]
     },
     "execution_count": 40,
     "metadata": {},
     "output_type": "execute_result"
    },
    {
     "data": {
      "image/png": "[encoded data removed]",
      "text/plain": [
       "<Figure size 432x288 with 1 Axes>"
      ]
     },
     "metadata": {
      "needs_background": "light"
     },
     "output_type": "display_data"
    }
   ],
   "source": [
    "sns.kdeplot(data=full_1['primary_cleaner.output.tail_sol'], shade=True, label='Первичная очистка')\n",
    "sns.kdeplot(data=full_1['final.output.tail_sol'], shade=True, label='Финальный продукт')\n",
    "sns.kdeplot(data=full_1['rougher.output.tail_sol'], shade=True , label='Флотация')\n",
    "\n",
    "plt.xlabel('процент вещества')\n",
    "plt.title('Распределение концентрации sol в хвостах на разных этапах очистки')"
   ]
  },
  {
   "cell_type": "code",
   "execution_count": 41,
   "metadata": {},
   "outputs": [
    {
     "data": {
      "text/plain": [
       "Text(0.5, 1.0, 'Распределение концентрации Золота (Au) в хвостах на разных этапах очистки')"
      ]
     },
     "execution_count": 41,
     "metadata": {},
     "output_type": "execute_result"
    },
    {
     "data": {
      "image/png": "[encoded data removed]",
      "text/plain": [
       "<Figure size 720x360 with 1 Axes>"
      ]
     },
     "metadata": {
      "needs_background": "light"
     },
     "output_type": "display_data"
    }
   ],
   "source": [
    "mpl.rc(\"figure\", figsize=(10, 5))\n",
    "sns.kdeplot(data=full_1['primary_cleaner.output.tail_au'], shade=True, label='Первичная очистка')\n",
    "sns.kdeplot(data=full_1['final.output.tail_au'], shade=True, label='Финальный продукт')\n",
    "sns.kdeplot(data=full_1['rougher.output.tail_au'], shade=True , label='Флотация')\n",
    "\n",
    "plt.xlabel('процент вещества')\n",
    "plt.title('Распределение концентрации Золота (Au) в хвостах на разных этапах очистки')"
   ]
  },
  {
   "cell_type": "code",
   "execution_count": 42,
   "metadata": {},
   "outputs": [
    {
     "data": {
      "text/plain": [
       "Text(0.5, 1.0, 'Распределение концентрации серебра (Ag) на разных этапах очистки')"
      ]
     },
     "execution_count": 42,
     "metadata": {},
     "output_type": "execute_result"
    },
    {
     "data": {
      "image/png": "[encoded data removed]",
      "text/plain": [
       "<Figure size 720x360 with 1 Axes>"
      ]
     },
     "metadata": {
      "needs_background": "light"
     },
     "output_type": "display_data"
    }
   ],
   "source": [
    "sns.kdeplot(data=full_1['primary_cleaner.output.concentrate_ag'], shade=True, label='Первичная очистка')\n",
    "sns.kdeplot(data=full_1['final.output.concentrate_ag'], shade=True, label='Финальный продукт')\n",
    "sns.kdeplot(data=full_1['rougher.output.concentrate_ag'], shade=True , label='Флотация')\n",
    "\n",
    "plt.xlabel('процент вещества')\n",
    "plt.title('Распределение концентрации серебра (Ag) на разных этапах очистки')"
   ]
  },
  {
   "cell_type": "code",
   "execution_count": 43,
   "metadata": {},
   "outputs": [
    {
     "data": {
      "text/plain": [
       "Text(0.5, 1.0, 'Распределение концентрации свинца (Pb) на разных этапах очистки')"
      ]
     },
     "execution_count": 43,
     "metadata": {},
     "output_type": "execute_result"
    },
    {
     "data": {
      "image/png": "[encoded data removed]",
      "text/plain": [
       "<Figure size 720x360 with 1 Axes>"
      ]
     },
     "metadata": {
      "needs_background": "light"
     },
     "output_type": "display_data"
    }
   ],
   "source": [
    "sns.kdeplot(data=full_1['primary_cleaner.output.concentrate_pb'], shade=True, label='Первичная очистка')\n",
    "sns.kdeplot(data=full_1['final.output.concentrate_pb'], shade=True, label='Финальный продукт')\n",
    "sns.kdeplot(data=full_1['rougher.output.concentrate_pb'], shade=True , label='Флотация')\n",
    "\n",
    "plt.xlabel('процент вещества')\n",
    "plt.title('Распределение концентрации свинца (Pb) на разных этапах очистки')"
   ]
  },
  {
   "cell_type": "code",
   "execution_count": 74,
   "metadata": {
    "scrolled": true
   },
   "outputs": [
    {
     "data": {
      "text/plain": [
       "Text(0.5, 1.0, 'Распределение концентрации sol на разных этапах очистки')"
      ]
     },
     "execution_count": 74,
     "metadata": {},
     "output_type": "execute_result"
    },
    {
     "data": {
      "image/png": "[encoded data removed]",
      "text/plain": [
       "<Figure size 720x360 with 1 Axes>"
      ]
     },
     "metadata": {
      "needs_background": "light"
     },
     "output_type": "display_data"
    }
   ],
   "source": [
    "sns.kdeplot(data=full_1['primary_cleaner.output.concentrate_sol'], shade=True, label='Первичная очистка')\n",
    "sns.kdeplot(data=full_1['final.output.concentrate_sol'], shade=True, label='Финальный продукт')\n",
    "sns.kdeplot(data=full_1['rougher.output.concentrate_sol'], shade=True , label='Флотация')\n",
    "\n",
    "plt.xlabel('процент вещества')\n",
    "plt.title('Распределение концентрации sol на разных этапах очистки')"
   ]
  },
  {
   "cell_type": "code",
   "execution_count": 45,
   "metadata": {
    "scrolled": true
   },
   "outputs": [
    {
     "data": {
      "text/plain": [
       "Text(0.5, 1.0, 'Распределение концентрации золота (Au) на разных этапах очистки')"
      ]
     },
     "execution_count": 45,
     "metadata": {},
     "output_type": "execute_result"
    },
    {
     "data": {
      "image/png": "[encoded data removed]",
      "text/plain": [
       "<Figure size 720x360 with 1 Axes>"
      ]
     },
     "metadata": {
      "needs_background": "light"
     },
     "output_type": "display_data"
    }
   ],
   "source": [
    "sns.kdeplot(data=full_1['primary_cleaner.output.concentrate_pb'], shade=True, label='Первичная очистка')\n",
    "sns.kdeplot(data=full_1['final.output.concentrate_pb'], shade=True, label='Финальный продукт')\n",
    "sns.kdeplot(data=full_1['rougher.output.concentrate_pb'], shade=True , label='Флотация')\n",
    "\n",
    "plt.xlabel('процент вещества')\n",
    "plt.title('Распределение концентрации золота (Au) на разных этапах очистки')"
   ]
  },
  {
   "cell_type": "markdown",
   "metadata": {},
   "source": [
    "Из графиков видно, что после первой обработки появляется много сырья с нулевым содержанием вещества, но в ближе к концу процесса такого сырья меньше, что странно, так как сырьё с нулевым процентным содержанием вещества на выходе и должно дать нулевое содержание. Отбросим эти аномальные значения."
   ]
  },
  {
   "cell_type": "code",
   "execution_count": 47,
   "metadata": {},
   "outputs": [],
   "source": [
    "rougher_out = ['rougher.output.concentrate_ag',\n",
    " 'rougher.output.concentrate_pb',\n",
    " 'rougher.output.concentrate_sol',\n",
    " 'rougher.output.concentrate_au']\n",
    "\n",
    "primary_out = ['primary_cleaner.output.concentrate_ag',\n",
    " 'primary_cleaner.output.concentrate_pb',\n",
    " 'primary_cleaner.output.concentrate_sol',\n",
    " 'primary_cleaner.output.concentrate_au']\n",
    "\n",
    "for i in rougher_out:\n",
    "    full_1 = full_1[full_1[i] > 5].copy()\n",
    "    train_1 = train_1[train_1[i] > 5].copy()\n",
    "    \n",
    "for j in primary_out:\n",
    "    full_1 = full_1[full_1[j] > 3].copy()\n",
    "    train_1 = train_1[train_1[i] > 3].copy()"
   ]
  },
  {
   "cell_type": "markdown",
   "metadata": {},
   "source": [
    "## Модель"
   ]
  },
  {
   "cell_type": "markdown",
   "metadata": {},
   "source": [
    "Напишем функцию для вычисления итогового sMAPE"
   ]
  },
  {
   "cell_type": "code",
   "execution_count": 48,
   "metadata": {},
   "outputs": [],
   "source": [
    "def sMAPE(target,predict):\n",
    "    N = target.shape[0]\n",
    "    result = (2 * np.abs(target.iloc[:,0] - predict[0]) /( np.abs(predict[0]) + np.abs(target.iloc[:,0]))).sum() / N\n",
    "    return result"
   ]
  },
  {
   "cell_type": "code",
   "execution_count": 49,
   "metadata": {},
   "outputs": [],
   "source": [
    "def final_sMAPE(target_rougher, predict_rougher, target_final, predict_final):\n",
    "    result = 0.25 * sMAPE(target_rougher, predict_rougher) + 0.75 * sMAPE(target_final,predict_final)\n",
    "    return result"
   ]
  },
  {
   "cell_type": "markdown",
   "metadata": {},
   "source": [
    "Создадим свою функцию для кроссвалидации."
   ]
  },
  {
   "cell_type": "code",
   "execution_count": 50,
   "metadata": {},
   "outputs": [],
   "source": [
    "scorer = make_scorer(sMAPE)"
   ]
  },
  {
   "cell_type": "markdown",
   "metadata": {},
   "source": [
    "Обучим разные модели и подберем лучшую. Проверку модели будем осуществлять с помощью кроссвалидации, поэтому разбивать выборку на тренировочную и вали дационную не нужно. Достаточно только выделить выборку для обучения."
   ]
  },
  {
   "cell_type": "code",
   "execution_count": 51,
   "metadata": {},
   "outputs": [],
   "source": [
    "features_rougher = train_1[fetures_col_for_rougher]\n",
    "target_rougher = train_1[target_col_for_rougher]\n",
    "\n",
    "features_final = train_1[fetures_col_for_final]\n",
    "target_final = train_1[target_col_for_final]"
   ]
  },
  {
   "cell_type": "code",
   "execution_count": 52,
   "metadata": {},
   "outputs": [],
   "source": [
    "features_rougher_train, features_rougher_valid, target_rougher_train, target_rougher_valid = train_test_split(\n",
    "    features_rougher, target_rougher, test_size=0.25, random_state=12)\n",
    "\n",
    "features_final_train = features_final.loc[features_rougher_train.index]\n",
    "target_final_train = target_final.loc[features_rougher_train.index]"
   ]
  },
  {
   "cell_type": "code",
   "execution_count": 53,
   "metadata": {},
   "outputs": [
    {
     "data": {
      "text/plain": [
       "((10485, 21), (10485, 30))"
      ]
     },
     "execution_count": 53,
     "metadata": {},
     "output_type": "execute_result"
    }
   ],
   "source": [
    "features_rougher.shape, features_final.shape"
   ]
  },
  {
   "cell_type": "markdown",
   "metadata": {},
   "source": [
    "### Линейная регрессия"
   ]
  },
  {
   "cell_type": "code",
   "execution_count": 54,
   "metadata": {},
   "outputs": [],
   "source": [
    "lin_model_rougher = LinearRegression().fit(features_rougher_train, target_rougher_train)\n",
    "\n",
    "lin_pred_rougher = pd.DataFrame(lin_model_rougher.predict(features_rougher_train)[:,0],index=features_rougher_train.index)"
   ]
  },
  {
   "cell_type": "code",
   "execution_count": 55,
   "metadata": {},
   "outputs": [
    {
     "name": "stdout",
     "output_type": "stream",
     "text": [
      "Среднее для кросс валидации на процессе флотации: 9.8 %\n",
      "Среднее для кросс валидации на финальных характеристиках: 11.4 %\n"
     ]
    }
   ],
   "source": [
    "lin_model_final = LinearRegression().fit(\n",
    "    features_final_train.join(lin_pred_rougher,how='right'), target_final_train)\n",
    "\n",
    "print('Среднее для кросс валидации на процессе флотации:', cross_val_score(\n",
    "    lin_model_rougher,\n",
    "    features_rougher_train,\n",
    "    target_rougher_train,\n",
    "    scoring=scorer,\n",
    "    cv=3).mean().round(3)* 100,'%')\n",
    "\n",
    "print('Среднее для кросс валидации на финальных характеристиках:', cross_val_score(\n",
    "    lin_model_final,\n",
    "    features_final_train.join(lin_pred_rougher,how='right'),\n",
    "    target_final_train,\n",
    "    scoring=scorer,\n",
    "    cv=3).mean().round(3) * 100,'%')"
   ]
  },
  {
   "cell_type": "markdown",
   "metadata": {},
   "source": [
    "На флотации модель показывает sMAPE 9.8% а для финальных характеристик эта метрика равна 11.4%, оценим качество других моделей."
   ]
  },
  {
   "cell_type": "markdown",
   "metadata": {},
   "source": [
    "### Решающие деревья\n",
    "Сначала посмотрим, как модель справляется с предсказанием, а потом подберем гиперпараметры."
   ]
  },
  {
   "cell_type": "code",
   "execution_count": 56,
   "metadata": {},
   "outputs": [],
   "source": [
    "tree_model_rougher = DecisionTreeRegressor(random_state=12345).fit(\n",
    "    features_rougher_train, target_rougher_train)\n",
    "\n",
    "tree_pred_rougher = pd.DataFrame(\n",
    "    tree_model_rougher.predict(features_rougher_train),index=features_rougher_train.index)"
   ]
  },
  {
   "cell_type": "code",
   "execution_count": 57,
   "metadata": {},
   "outputs": [],
   "source": [
    "tree_model_final = DecisionTreeRegressor(random_state=12344).fit(\n",
    "    features_final_train.join(tree_pred_rougher,how='right'), target_final_train)"
   ]
  },
  {
   "cell_type": "code",
   "execution_count": 58,
   "metadata": {},
   "outputs": [
    {
     "name": "stdout",
     "output_type": "stream",
     "text": [
      "Среднее для кросс валидации на процессе флотации: 8.1 %\n"
     ]
    }
   ],
   "source": [
    "print('Среднее для кросс валидации на процессе флотации:',cross_val_score(\n",
    "    tree_model_rougher,\n",
    "    features_rougher_train,\n",
    "    target_rougher_train,\n",
    "    scoring=scorer,\n",
    "    cv=3).mean().round(3)* 100,'%')"
   ]
  },
  {
   "cell_type": "code",
   "execution_count": 59,
   "metadata": {},
   "outputs": [
    {
     "name": "stdout",
     "output_type": "stream",
     "text": [
      "Среднее для кросс валидации на финальных характеристиках: 23.404 %\n"
     ]
    }
   ],
   "source": [
    "print('Среднее для кросс валидации на финальных характеристиках:',(cross_val_score(\n",
    "    tree_model_final,\n",
    "    features_final_train.join(tree_pred_rougher,how='right'),\n",
    "    target_final_train,\n",
    "    scoring=scorer,\n",
    "    cv=3).mean()* 100).round(3),'%')"
   ]
  },
  {
   "cell_type": "markdown",
   "metadata": {},
   "source": [
    "Для финальных данных решающие деревья предсказывают sMAPE равным 20%, что больше, чем у Линейной регрессии. Посмотрим, как поменяется результат при настройке гиперпараметров."
   ]
  },
  {
   "cell_type": "code",
   "execution_count": 60,
   "metadata": {},
   "outputs": [],
   "source": [
    "depth_r = 0\n",
    "depth_f = 0\n",
    "tree_model_rougher = None\n",
    "tree_model_final = None\n",
    "score_r = 100\n",
    "score_f = 100\n",
    "\n",
    "for dep in range(6,19):\n",
    "    model_rougher = DecisionTreeRegressor(max_depth=dep,random_state=12345)  \n",
    "    model_final = DecisionTreeRegressor(max_depth=dep,random_state=12345)\n",
    "    \n",
    "    model_rougher.fit(features_rougher_train, target_rougher_train)\n",
    "    predict = pd.DataFrame(model_rougher.predict(features_rougher_train),index=features_rougher_train.index) \n",
    "    \n",
    "    model_final.fit(features_final_train.join(predict, how='right'), target_final_train)\n",
    "    \n",
    "    r2_rougher = cross_val_score(\n",
    "        model_rougher, features_rougher_train, target_rougher_train,scoring=scorer, cv=3).mean().round(4)\n",
    "    r2_final = cross_val_score(\n",
    "        model_final, features_final_train.join(predict, how='right'), target_final_train, scoring=scorer, cv=3).mean().round(4)\n",
    "    \n",
    "    if r2_rougher < score_r:\n",
    "        score_r = r2_rougher\n",
    "        tree_model_rougher = model_rougher\n",
    "        depth_r = dep\n",
    "        \n",
    "    if r2_final < score_f:\n",
    "        score_f = r2_final\n",
    "        tree_model_final = model_final\n",
    "        depth_f = dep"
   ]
  },
  {
   "cell_type": "code",
   "execution_count": 61,
   "metadata": {},
   "outputs": [
    {
     "name": "stdout",
     "output_type": "stream",
     "text": [
      "Значение  для флотации: 8.04% \n",
      "Глубина дерева: 13\n",
      "Значение для финальных данных: 11.38% \n",
      "Глубина дерева: 11\n"
     ]
    }
   ],
   "source": [
    "print('Значение  для флотации: {:.2%} \\nГлубина дерева: {}'.format(\n",
    "    score_r,depth_r))\n",
    "print('Значение для финальных данных: {:.2%} \\nГлубина дерева: {}'.format(\n",
    "    score_f,depth_f))"
   ]
  },
  {
   "cell_type": "markdown",
   "metadata": {},
   "source": [
    "Настройка гиперпараметров не сильно улучшила результат. Максимальное качество для финального предсказания 20.17%"
   ]
  },
  {
   "cell_type": "markdown",
   "metadata": {},
   "source": [
    "### Случайный лес\n",
    "Сначала посмотрим, как модель справляется с предсказанием, а потом подберем гиперпараметры."
   ]
  },
  {
   "cell_type": "code",
   "execution_count": 62,
   "metadata": {},
   "outputs": [],
   "source": [
    "import warnings\n",
    "warnings.filterwarnings('ignore')"
   ]
  },
  {
   "cell_type": "code",
   "execution_count": 63,
   "metadata": {},
   "outputs": [],
   "source": [
    "forest_model_rougher = RandomForestRegressor(random_state=12345).fit(\n",
    "    features_rougher_train, target_rougher_train)\n",
    "\n",
    "forest_pred_rougher = pd.DataFrame(\n",
    "    forest_model_rougher.predict(features_rougher_train),index=features_rougher_train.index)"
   ]
  },
  {
   "cell_type": "code",
   "execution_count": 64,
   "metadata": {},
   "outputs": [
    {
     "name": "stdout",
     "output_type": "stream",
     "text": [
      "Среднее для кросс валидации на процессе флотации: 0.116\n",
      "Среднее для кросс валидации на финальных характеристиках: 0.185\n"
     ]
    }
   ],
   "source": [
    "forest_model_final =  RandomForestRegressor(random_state=12344).fit(\n",
    "    features_final_train.join(forest_pred_rougher,how='right'), target_final_train)\n",
    "\n",
    "print('Среднее для кросс валидации на процессе флотации:',cross_val_score(\n",
    "    forest_model_rougher, features_rougher_train, target_rougher_train,scoring=scorer, cv=3).mean().round(3))\n",
    "\n",
    "print('Среднее для кросс валидации на финальных характеристиках:',cross_val_score(\n",
    "    forest_model_final, features_final_train.join(forest_pred_rougher,how='right'), target_final_train,scoring=scorer, cv=3).mean().round(3))"
   ]
  },
  {
   "cell_type": "markdown",
   "metadata": {},
   "source": [
    "Без настройки параметров модель выдаёт результат схожий с остальными. Подберем гиперпараметры."
   ]
  },
  {
   "cell_type": "code",
   "execution_count": 65,
   "metadata": {},
   "outputs": [],
   "source": [
    "forest_depth_r = 0\n",
    "forest_depth_f = 0\n",
    "forest_model_rougher = None\n",
    "forest_model_final = None\n",
    "score_f = 100\n",
    "score_r = 100\n",
    "\n",
    "for dep in range(15, 19):\n",
    "    model_rougher = RandomForestRegressor(n_estimators=20, max_depth=dep, random_state=12345)\n",
    "    model_final = RandomForestRegressor(n_estimators=20, max_depth=dep, random_state=12345)\n",
    "    \n",
    "    model_rougher.fit(features_rougher_train, target_rougher_train)\n",
    "    predict = pd.DataFrame(model_rougher.predict(features_rougher_train),index=features_rougher_train.index) \n",
    "    \n",
    "    model_final.fit(features_final_train.join(predict, how='right'), target_final_train)\n",
    "    \n",
    "    r2_rougher = cross_val_score(\n",
    "        model_rougher, features_rougher_train, target_rougher_train,scoring=scorer, cv=3).mean().round(4)\n",
    "    r2_final = cross_val_score(\n",
    "        model_final, features_final_train.join(predict, how='right'), target_final_train, scoring=scorer, cv=3).mean().round(4)\n",
    "    \n",
    "    if r2_rougher < score_r:\n",
    "        score_r = r2_rougher\n",
    "        forest_model_rougher = model_rougher\n",
    "        forest_depth_r = dep\n",
    "        \n",
    "    if r2_final < score_f:\n",
    "        score_f = r2_final\n",
    "        forest_model_final = model_final\n",
    "        forest_depth_f = dep"
   ]
  },
  {
   "cell_type": "code",
   "execution_count": 66,
   "metadata": {},
   "outputs": [
    {
     "name": "stdout",
     "output_type": "stream",
     "text": [
      "Значение для флотации: 10.18% \n",
      "Глубина деревьев: 15\n",
      "Значение для финальных данных: 18.07% \n",
      "Глубина деревьев: 18\n"
     ]
    }
   ],
   "source": [
    "print('Значение для флотации: {:.2%} \\nГлубина деревьев: {}'.format(\n",
    "    score_r,forest_depth_r))\n",
    "print('Значение для финальных данных: {:.2%} \\nГлубина деревьев: {}'.format(\n",
    "    score_f,forest_depth_f))"
   ]
  },
  {
   "cell_type": "code",
   "execution_count": 67,
   "metadata": {},
   "outputs": [],
   "source": [
    "forest_N_r = 20\n",
    "forest_N_f = 20\n",
    "forest_model_rougher = None\n",
    "forest_model_final = None\n",
    "\n",
    "for N in range(10, 25, 5):\n",
    "    model_rougher = RandomForestRegressor(n_estimators=N, max_depth=forest_depth_r, random_state=12345)\n",
    "    model_final = RandomForestRegressor(n_estimators=N, max_depth=forest_depth_f, random_state=12345)\n",
    "    \n",
    "    model_rougher.fit(features_rougher_train, target_rougher_train)\n",
    "    predict = pd.DataFrame(model_rougher.predict(features_rougher_train),index=features_rougher_train.index) \n",
    "    \n",
    "    model_final.fit(features_final_train.join(predict, how='right'), target_final_train)\n",
    "    \n",
    "    r2_rougher = cross_val_score(\n",
    "        model_rougher, features_rougher_train, target_rougher_train,scoring=scorer, cv=3).mean().round(4)\n",
    "    r2_final = cross_val_score(\n",
    "        model_final, features_final_train.join(predict, how='right'), target_final_train, scoring=scorer, cv=3).mean().round(4)\n",
    "    \n",
    "    if r2_rougher > score_r:\n",
    "        score_r = r2_rougher\n",
    "        forest_model_rougher = model_rougher\n",
    "        forest_N_r = N\n",
    "        \n",
    "    if r2_final > score_f:\n",
    "        score_f = r2_final\n",
    "        forest_model_final = model_final\n",
    "        forest_N_f = N"
   ]
  },
  {
   "cell_type": "code",
   "execution_count": 68,
   "metadata": {},
   "outputs": [
    {
     "name": "stdout",
     "output_type": "stream",
     "text": [
      "Значение метрики качества для флотации: 10.18% \n",
      "Количество деревьев: 20\n",
      "Значение метрики качества для финальных данных: 18.71% \n",
      "Количество деревьев: 20\n"
     ]
    }
   ],
   "source": [
    "print('Значение метрики качества для флотации: {:.2%} \\nКоличество деревьев: {}'.format(\n",
    "    score_r,forest_N_r))\n",
    "print('Значение метрики качества для финальных данных: {:.2%} \\nКоличество деревьев: {}'.format(\n",
    "    score_f,forest_N_f))"
   ]
  },
  {
   "cell_type": "markdown",
   "metadata": {},
   "source": [
    "Наилуший результат показала модель решающих деревьев.   \n",
    "Прверим её качество на тестовой выборке."
   ]
  },
  {
   "cell_type": "markdown",
   "metadata": {},
   "source": [
    "### Проверка на тестовой выборке"
   ]
  },
  {
   "cell_type": "code",
   "execution_count": 69,
   "metadata": {},
   "outputs": [],
   "source": [
    "target_test_rourgher = full_1.loc[test_1.index, target_col_for_rougher]\n",
    "target_test_final = full_1.loc[test_1.index, target_col_for_final]"
   ]
  },
  {
   "cell_type": "code",
   "execution_count": 70,
   "metadata": {},
   "outputs": [],
   "source": [
    "predict_test_rougher = pd.DataFrame(\n",
    "    tree_model_rougher.predict(test_1[fetures_col_for_rougher]),\n",
    "    index=test_1.index)\n",
    "\n",
    "predict_test_final = pd.DataFrame(\n",
    "    tree_model_final.predict(test_1[fetures_col_for_final].join(predict_test_rougher, how='right')),\n",
    "    index=test_1.index)"
   ]
  },
  {
   "cell_type": "code",
   "execution_count": 71,
   "metadata": {},
   "outputs": [
    {
     "name": "stdout",
     "output_type": "stream",
     "text": [
      "Итоговая sMAPE для тестовой выборки 10.17%\n"
     ]
    }
   ],
   "source": [
    "print('Итоговая sMAPE для тестовой выборки {:.2%}'.format(\n",
    "    final_sMAPE(target_test_rourgher, predict_test_rougher, target_test_final, predict_test_final)))"
   ]
  },
  {
   "cell_type": "markdown",
   "metadata": {},
   "source": [
    "Проверим качество случайной модели."
   ]
  },
  {
   "cell_type": "code",
   "execution_count": 72,
   "metadata": {},
   "outputs": [],
   "source": [
    "target_rougher = full_1.loc[test_1.index,target_col_for_rougher]\n",
    "target_final = full_1.loc[test_1.index,target_col_for_final]\n",
    "\n",
    "predict_rougher_mean = np.array([train_1[target_col_for_rougher].mean()] * len(test_1))\n",
    "predict_final_mean =np.array([train_1[target_col_for_final].mean()] * len(test_1))"
   ]
  },
  {
   "cell_type": "code",
   "execution_count": 73,
   "metadata": {},
   "outputs": [
    {
     "name": "stdout",
     "output_type": "stream",
     "text": [
      "sMAPE на флотации для констатной модели 4.84%\n",
      "sMAPE на финальном продукте для констатной модели 8.25%\n",
      "Итоговая sMAPE для случайной модели 7.39%\n"
     ]
    }
   ],
   "source": [
    "print('sMAPE на флотации для констатной модели {:.2%}'.format(\n",
    "    sMAPE(target_rougher, predict_rougher_mean)))\n",
    "print('sMAPE на финальном продукте для констатной модели {:.2%}'.format(\n",
    "    sMAPE(target_final, predict_final_mean)))\n",
    "\n",
    "print('Итоговая sMAPE для случайной модели {:.2%}'.format(\n",
    "    final_sMAPE(target_rougher, predict_rougher_mean, target_final, predict_final_mean)))"
   ]
  },
  {
   "cell_type": "markdown",
   "metadata": {},
   "source": [
    "## ВЫВОД\n",
    "\n",
    "Все модели даже на тренировочной выборке показывали качество по метрике sMAPE не выше 21%. Для работы выбрали модель решающего дерева.\n",
    "\n",
    "Итоговое sMAPE для тестовой выборки равен 10.17%. Модель предсказывает хуже, чем  константная (7.39%). Необходимо дополнительное исследование с применением альтурнативных моделей."
   ]
  },
  {
   "cell_type": "code",
   "execution_count": null,
   "metadata": {},
   "outputs": [],
   "source": []
  }
 ],
 "metadata": {
  "ExecuteTimeLog": [
   {
    "duration": 1143,
    "start_time": "2021-07-03T02:51:08.673Z"
   },
   {
    "duration": 792,
    "start_time": "2021-07-03T02:51:09.818Z"
   },
   {
    "duration": 23,
    "start_time": "2021-07-03T02:51:10.612Z"
   },
   {
    "duration": 19,
    "start_time": "2021-07-03T02:51:10.637Z"
   },
   {
    "duration": 18,
    "start_time": "2021-07-03T02:51:10.658Z"
   },
   {
    "duration": 17,
    "start_time": "2021-07-03T02:51:10.677Z"
   },
   {
    "duration": 9,
    "start_time": "2021-07-03T02:51:10.696Z"
   },
   {
    "duration": 8,
    "start_time": "2021-07-03T02:51:10.707Z"
   },
   {
    "duration": 2,
    "start_time": "2021-07-03T02:51:10.717Z"
   },
   {
    "duration": 16,
    "start_time": "2021-07-03T02:51:10.720Z"
   },
   {
    "duration": 6,
    "start_time": "2021-07-03T02:51:10.737Z"
   },
   {
    "duration": 3,
    "start_time": "2021-07-03T02:51:10.744Z"
   },
   {
    "duration": 17,
    "start_time": "2021-07-03T02:51:10.749Z"
   },
   {
    "duration": 37,
    "start_time": "2021-07-03T02:51:10.767Z"
   },
   {
    "duration": 3,
    "start_time": "2021-07-03T02:51:10.806Z"
   },
   {
    "duration": 7,
    "start_time": "2021-07-03T02:51:10.811Z"
   },
   {
    "duration": 5,
    "start_time": "2021-07-03T02:51:10.819Z"
   },
   {
    "duration": 20,
    "start_time": "2021-07-03T02:51:10.826Z"
   },
   {
    "duration": 6,
    "start_time": "2021-07-03T02:51:10.848Z"
   },
   {
    "duration": 20,
    "start_time": "2021-07-03T02:51:10.855Z"
   },
   {
    "duration": 16,
    "start_time": "2021-07-03T02:51:10.877Z"
   },
   {
    "duration": 12,
    "start_time": "2021-07-03T02:51:10.895Z"
   },
   {
    "duration": 14,
    "start_time": "2021-07-03T02:51:10.911Z"
   },
   {
    "duration": 71,
    "start_time": "2021-07-03T02:51:10.928Z"
   },
   {
    "duration": 15,
    "start_time": "2021-07-03T02:51:11.001Z"
   },
   {
    "duration": 57,
    "start_time": "2021-07-03T02:51:11.017Z"
   },
   {
    "duration": 34,
    "start_time": "2021-07-03T02:51:11.090Z"
   },
   {
    "duration": 81,
    "start_time": "2021-07-03T02:51:11.126Z"
   },
   {
    "duration": 491,
    "start_time": "2021-07-03T02:51:11.209Z"
   },
   {
    "duration": 484,
    "start_time": "2021-07-03T02:51:11.702Z"
   },
   {
    "duration": 24,
    "start_time": "2021-07-03T02:51:12.192Z"
   },
   {
    "duration": 1037,
    "start_time": "2021-07-03T02:51:12.218Z"
   },
   {
    "duration": 6,
    "start_time": "2021-07-03T02:51:13.257Z"
   },
   {
    "duration": 2812,
    "start_time": "2021-07-03T02:51:13.264Z"
   },
   {
    "duration": 3007,
    "start_time": "2021-07-03T02:51:16.079Z"
   },
   {
    "duration": 214,
    "start_time": "2021-07-03T02:51:19.092Z"
   },
   {
    "duration": 474,
    "start_time": "2021-07-03T02:51:19.308Z"
   },
   {
    "duration": 9,
    "start_time": "2021-07-03T02:51:19.783Z"
   },
   {
    "duration": 99,
    "start_time": "2021-07-03T02:51:19.794Z"
   },
   {
    "duration": 3,
    "start_time": "2021-07-03T02:51:19.895Z"
   },
   {
    "duration": 9,
    "start_time": "2021-07-03T02:51:19.899Z"
   },
   {
    "duration": 8,
    "start_time": "2021-07-03T02:51:19.909Z"
   },
   {
    "duration": 11,
    "start_time": "2021-07-03T02:51:19.918Z"
   },
   {
    "duration": 10,
    "start_time": "2021-07-03T02:51:19.931Z"
   },
   {
    "duration": 3,
    "start_time": "2021-07-03T02:51:19.943Z"
   },
   {
    "duration": 51,
    "start_time": "2021-07-03T02:51:19.948Z"
   },
   {
    "duration": 1008,
    "start_time": "2021-07-03T02:51:20.092Z"
   },
   {
    "duration": 359,
    "start_time": "2021-07-03T02:51:21.103Z"
   },
   {
    "duration": 321,
    "start_time": "2021-07-03T02:51:21.464Z"
   },
   {
    "duration": 337,
    "start_time": "2021-07-03T02:51:21.787Z"
   },
   {
    "duration": 615,
    "start_time": "2021-07-03T02:51:22.126Z"
   },
   {
    "duration": 13009,
    "start_time": "2021-07-03T02:51:22.742Z"
   },
   {
    "duration": 3,
    "start_time": "2021-07-03T02:51:35.752Z"
   },
   {
    "duration": 10,
    "start_time": "2021-07-03T02:51:35.757Z"
   },
   {
    "duration": 1031,
    "start_time": "2021-07-03T02:51:35.768Z"
   },
   {
    "duration": 7435,
    "start_time": "2021-07-03T02:51:36.800Z"
   },
   {
    "duration": 58671,
    "start_time": "2021-07-03T02:51:44.236Z"
   },
   {
    "duration": 3,
    "start_time": "2021-07-03T02:52:42.909Z"
   },
   {
    "duration": 34190,
    "start_time": "2021-07-03T02:52:42.913Z"
   },
   {
    "duration": 3,
    "start_time": "2021-07-03T02:53:17.104Z"
   },
   {
    "duration": 9,
    "start_time": "2021-07-03T02:53:17.109Z"
   },
   {
    "duration": 12,
    "start_time": "2021-07-03T02:53:17.119Z"
   },
   {
    "duration": 5,
    "start_time": "2021-07-03T02:53:17.133Z"
   },
   {
    "duration": 696,
    "start_time": "2021-07-03T02:53:17.140Z"
   },
   {
    "duration": 1008,
    "start_time": "2021-07-03T02:53:17.837Z"
   },
   {
    "duration": 371,
    "start_time": "2021-07-03T02:53:18.476Z"
   },
   {
    "duration": 324,
    "start_time": "2021-07-03T02:53:18.524Z"
   },
   {
    "duration": 304,
    "start_time": "2021-07-03T02:53:18.545Z"
   },
   {
    "duration": 291,
    "start_time": "2021-07-03T02:53:18.559Z"
   },
   {
    "duration": 622,
    "start_time": "2021-07-03T02:53:50.995Z"
   },
   {
    "duration": 10,
    "start_time": "2021-07-03T02:53:52.396Z"
   },
   {
    "duration": 584,
    "start_time": "2021-07-03T02:57:24.280Z"
   },
   {
    "duration": 4,
    "start_time": "2021-07-03T02:58:25.041Z"
   },
   {
    "duration": 796,
    "start_time": "2021-07-03T03:01:58.886Z"
   },
   {
    "duration": 897,
    "start_time": "2021-07-03T03:02:12.615Z"
   },
   {
    "duration": 791,
    "start_time": "2021-07-03T03:02:21.715Z"
   },
   {
    "duration": 814,
    "start_time": "2021-07-03T03:02:30.146Z"
   },
   {
    "duration": 328,
    "start_time": "2021-07-03T03:02:52.429Z"
   },
   {
    "duration": 285,
    "start_time": "2021-07-03T03:03:17.018Z"
   },
   {
    "duration": 255,
    "start_time": "2021-07-03T03:03:24.250Z"
   },
   {
    "duration": 215,
    "start_time": "2021-07-03T03:03:28.620Z"
   },
   {
    "duration": 216,
    "start_time": "2021-07-03T03:03:41.024Z"
   },
   {
    "duration": 314,
    "start_time": "2021-07-03T03:04:10.096Z"
   },
   {
    "duration": 311,
    "start_time": "2021-07-03T03:04:16.952Z"
   },
   {
    "duration": 449,
    "start_time": "2021-07-03T03:04:23.556Z"
   },
   {
    "duration": 309,
    "start_time": "2021-07-03T03:04:27.398Z"
   },
   {
    "duration": 220,
    "start_time": "2021-07-03T03:04:33.975Z"
   },
   {
    "duration": 220,
    "start_time": "2021-07-03T03:04:38.604Z"
   },
   {
    "duration": 217,
    "start_time": "2021-07-03T03:04:44.978Z"
   },
   {
    "duration": 220,
    "start_time": "2021-07-03T03:04:57.502Z"
   },
   {
    "duration": 213,
    "start_time": "2021-07-03T03:05:20.411Z"
   },
   {
    "duration": 223,
    "start_time": "2021-07-03T03:05:46.109Z"
   },
   {
    "duration": 218,
    "start_time": "2021-07-03T03:05:47.013Z"
   },
   {
    "duration": 227,
    "start_time": "2021-07-03T03:06:49.155Z"
   },
   {
    "duration": 979,
    "start_time": "2021-07-03T03:07:08.649Z"
   },
   {
    "duration": 765,
    "start_time": "2021-07-03T03:07:09.630Z"
   },
   {
    "duration": 22,
    "start_time": "2021-07-03T03:07:10.397Z"
   },
   {
    "duration": 16,
    "start_time": "2021-07-03T03:07:10.421Z"
   },
   {
    "duration": 18,
    "start_time": "2021-07-03T03:07:10.439Z"
   },
   {
    "duration": 12,
    "start_time": "2021-07-03T03:07:10.458Z"
   },
   {
    "duration": 26,
    "start_time": "2021-07-03T03:07:10.471Z"
   },
   {
    "duration": 8,
    "start_time": "2021-07-03T03:07:10.499Z"
   },
   {
    "duration": 3,
    "start_time": "2021-07-03T03:07:10.509Z"
   },
   {
    "duration": 13,
    "start_time": "2021-07-03T03:07:10.513Z"
   },
   {
    "duration": 7,
    "start_time": "2021-07-03T03:07:10.527Z"
   },
   {
    "duration": 7,
    "start_time": "2021-07-03T03:07:10.536Z"
   },
   {
    "duration": 15,
    "start_time": "2021-07-03T03:07:10.545Z"
   },
   {
    "duration": 32,
    "start_time": "2021-07-03T03:07:10.562Z"
   },
   {
    "duration": 4,
    "start_time": "2021-07-03T03:07:10.595Z"
   },
   {
    "duration": 8,
    "start_time": "2021-07-03T03:07:10.601Z"
   },
   {
    "duration": 11,
    "start_time": "2021-07-03T03:07:10.611Z"
   },
   {
    "duration": 17,
    "start_time": "2021-07-03T03:07:10.624Z"
   },
   {
    "duration": 11,
    "start_time": "2021-07-03T03:07:10.643Z"
   },
   {
    "duration": 19,
    "start_time": "2021-07-03T03:07:10.656Z"
   },
   {
    "duration": 4,
    "start_time": "2021-07-03T03:07:10.677Z"
   },
   {
    "duration": 10,
    "start_time": "2021-07-03T03:07:10.683Z"
   },
   {
    "duration": 13,
    "start_time": "2021-07-03T03:07:10.696Z"
   },
   {
    "duration": 72,
    "start_time": "2021-07-03T03:07:10.711Z"
   },
   {
    "duration": 19,
    "start_time": "2021-07-03T03:07:10.784Z"
   },
   {
    "duration": 71,
    "start_time": "2021-07-03T03:07:10.804Z"
   },
   {
    "duration": 28,
    "start_time": "2021-07-03T03:07:10.876Z"
   },
   {
    "duration": 61,
    "start_time": "2021-07-03T03:07:10.905Z"
   },
   {
    "duration": 526,
    "start_time": "2021-07-03T03:07:10.968Z"
   },
   {
    "duration": 505,
    "start_time": "2021-07-03T03:07:11.496Z"
   },
   {
    "duration": 22,
    "start_time": "2021-07-03T03:07:12.002Z"
   },
   {
    "duration": 1024,
    "start_time": "2021-07-03T03:07:12.026Z"
   },
   {
    "duration": 5,
    "start_time": "2021-07-03T03:07:13.052Z"
   },
   {
    "duration": 2824,
    "start_time": "2021-07-03T03:07:13.058Z"
   },
   {
    "duration": 2911,
    "start_time": "2021-07-03T03:07:15.884Z"
   },
   {
    "duration": 207,
    "start_time": "2021-07-03T03:07:18.797Z"
   },
   {
    "duration": 3,
    "start_time": "2021-07-03T03:07:19.006Z"
   },
   {
    "duration": 216,
    "start_time": "2021-07-03T03:07:19.010Z"
   },
   {
    "duration": 203,
    "start_time": "2021-07-03T03:07:19.228Z"
   },
   {
    "duration": 212,
    "start_time": "2021-07-03T03:07:19.433Z"
   },
   {
    "duration": 230,
    "start_time": "2021-07-03T03:07:19.647Z"
   },
   {
    "duration": 214,
    "start_time": "2021-07-03T03:07:19.879Z"
   },
   {
    "duration": 246,
    "start_time": "2021-07-03T03:07:20.095Z"
   },
   {
    "duration": 224,
    "start_time": "2021-07-03T03:07:20.343Z"
   },
   {
    "duration": 240,
    "start_time": "2021-07-03T03:07:20.568Z"
   },
   {
    "duration": 5,
    "start_time": "2021-07-03T03:07:20.810Z"
   },
   {
    "duration": 107,
    "start_time": "2021-07-03T03:07:20.816Z"
   },
   {
    "duration": 4,
    "start_time": "2021-07-03T03:07:20.925Z"
   },
   {
    "duration": 10,
    "start_time": "2021-07-03T03:07:20.931Z"
   },
   {
    "duration": 7,
    "start_time": "2021-07-03T03:07:20.942Z"
   },
   {
    "duration": 11,
    "start_time": "2021-07-03T03:07:20.951Z"
   },
   {
    "duration": 16,
    "start_time": "2021-07-03T03:07:20.963Z"
   },
   {
    "duration": 12,
    "start_time": "2021-07-03T03:07:20.980Z"
   },
   {
    "duration": 97,
    "start_time": "2021-07-03T03:07:20.994Z"
   },
   {
    "duration": 1102,
    "start_time": "2021-07-03T03:07:21.094Z"
   },
   {
    "duration": 304,
    "start_time": "2021-07-03T03:07:22.198Z"
   },
   {
    "duration": 322,
    "start_time": "2021-07-03T03:07:22.504Z"
   },
   {
    "duration": 342,
    "start_time": "2021-07-03T03:07:22.827Z"
   },
   {
    "duration": 618,
    "start_time": "2021-07-03T03:07:23.170Z"
   },
   {
    "duration": 13226,
    "start_time": "2021-07-03T03:07:23.792Z"
   },
   {
    "duration": 4,
    "start_time": "2021-07-03T03:07:37.020Z"
   },
   {
    "duration": 8,
    "start_time": "2021-07-03T03:07:37.025Z"
   },
   {
    "duration": 1025,
    "start_time": "2021-07-03T03:07:37.035Z"
   },
   {
    "duration": 7636,
    "start_time": "2021-07-03T03:07:38.062Z"
   },
   {
    "duration": 59524,
    "start_time": "2021-07-03T03:07:45.700Z"
   },
   {
    "duration": 3,
    "start_time": "2021-07-03T03:08:45.226Z"
   },
   {
    "duration": 34006,
    "start_time": "2021-07-03T03:08:45.230Z"
   },
   {
    "duration": 4,
    "start_time": "2021-07-03T03:09:19.240Z"
   },
   {
    "duration": 10,
    "start_time": "2021-07-03T03:09:19.245Z"
   },
   {
    "duration": 13,
    "start_time": "2021-07-03T03:09:19.257Z"
   },
   {
    "duration": 6,
    "start_time": "2021-07-03T03:09:19.271Z"
   },
   {
    "duration": 679,
    "start_time": "2021-07-03T03:09:19.279Z"
   },
   {
    "duration": 32,
    "start_time": "2021-07-03T03:09:19.959Z"
   },
   {
    "duration": 218,
    "start_time": "2021-07-03T03:09:53.724Z"
   }
  ],
  "kernelspec": {
   "display_name": "Python 3",
   "language": "python",
   "name": "python3"
  },
  "language_info": {
   "codemirror_mode": {
    "name": "ipython",
    "version": 3
   },
   "file_extension": ".py",
   "mimetype": "text/x-python",
   "name": "python",
   "nbconvert_exporter": "python",
   "pygments_lexer": "ipython3",
   "version": "3.7.6"
  },
  "toc": {
   "base_numbering": 1,
   "nav_menu": {},
   "number_sections": true,
   "sideBar": true,
   "skip_h1_title": true,
   "title_cell": "Содержание",
   "title_sidebar": "Contents",
   "toc_cell": true,
   "toc_position": {},
   "toc_section_display": true,
   "toc_window_display": false
  }
 },
 "nbformat": 4,
 "nbformat_minor": 2
}
