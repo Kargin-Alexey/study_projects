{
 "cells": [
  {
   "cell_type": "markdown",
   "metadata": {},
   "source": [
    "# <b> Проект телеком </b>\n",
    "Оператор связи «Ниединогоразрыва.ком» хочет научиться прогнозировать отток клиентов. Если выяснится, что пользователь планирует уйти, ему будут предложены промокоды и специальные условия. Команда оператора собрала персональные данные о некоторых клиентах, информацию об их тарифах и договорах.\n",
    "\n",
    "### Описание услуг\n",
    "\n",
    "Оператор предоставляет два основных типа услуг: \n",
    "\n",
    "1. Стационарную телефонную связь. Возможно подключение телефонного аппарата к нескольким линиям одновременно.\n",
    "2. Интернет. Подключение может быть двух типов: через телефонную линию (DSL*,* от англ. *digital subscriber line*, «цифровая абонентская линия») или оптоволоконный кабель (*Fiber optic*).  \n",
    "\n",
    "Также доступны такие услуги:\n",
    "\n",
    "- Интернет-безопасность: антивирус (*DeviceProtection*) и блокировка небезопасных сайтов (*OnlineSecurity*);\n",
    "- Выделенная линия технической поддержки (*TechSupport*);\n",
    "- Облачное хранилище файлов для резервного копирования данных (*OnlineBackup*);\n",
    "- Стриминговое телевидение (*StreamingTV*) и каталог фильмов (*StreamingMovies*).\n",
    "\n",
    "За услуги клиенты могут платить каждый месяц или заключить договор на 1–2 года. Доступны различные способы расчёта и возможность получения электронного чека.\n",
    "\n",
    "### Описание данных\n",
    "\n",
    "Данные состоят из файлов, полученных из разных источников:\n",
    "\n",
    "- `contract.csv` — информация о договоре;\n",
    "- `personal.csv` — персональные данные клиента;\n",
    "- `internet.csv` — информация об интернет-услугах;\n",
    "- `phone.csv` — информация об услугах телефонии.\n",
    "\n",
    "Во всех файлах столбец `customerID` содержит код клиента.\n",
    "\n",
    "Информация о договорах актуальна на 1 февраля 2020."
   ]
  },
  {
   "cell_type": "markdown",
   "metadata": {},
   "source": [
    "## Загрузка и просмотр данных"
   ]
  },
  {
   "cell_type": "code",
   "execution_count": 39,
   "metadata": {},
   "outputs": [],
   "source": [
    "import matplotlib.pyplot as plt\n",
    "import pandas as pd\n",
    "import numpy as np\n",
    "\n",
    "from catboost import CatBoostClassifier\n",
    "from sklearn.linear_model import LogisticRegressionCV\n",
    "from sklearn.ensemble import RandomForestClassifier\n",
    "from sklearn.model_selection import train_test_split\n",
    "from sklearn.metrics import roc_auc_score"
   ]
  },
  {
   "cell_type": "code",
   "execution_count": 40,
   "metadata": {},
   "outputs": [],
   "source": [
    "try:\n",
    "    phone = pd.read_csv('phone.csv')\n",
    "    contract = pd.read_csv('contract.csv',parse_dates=['BeginDate','EndDate'])\n",
    "    internet = pd.read_csv('internet.csv')\n",
    "    personal = pd.read_csv('personal.csv')\n",
    "\n",
    "except:\n",
    "    contract = pd.read_csv('/datasets/final_provider/contract.csv',parse_dates=['BeginDate','EndDate'])\n",
    "    internet = pd.read_csv('/datasets/final_provider/internet.csv')\n",
    "    personal = pd.read_csv('/datasets/final_provider/personal.csv')\n",
    "    phone = pd.read_csv('/datasets/final_provider/phone.csv')"
   ]
  },
  {
   "cell_type": "code",
   "execution_count": 41,
   "metadata": {},
   "outputs": [
    {
     "name": "stdout",
     "output_type": "stream",
     "text": [
      "Общая информация о данных\n",
      "<class 'pandas.core.frame.DataFrame'>\n",
      "RangeIndex: 7043 entries, 0 to 7042\n",
      "Data columns (total 5 columns):\n",
      "customerID       7043 non-null object\n",
      "gender           7043 non-null object\n",
      "SeniorCitizen    7043 non-null int64\n",
      "Partner          7043 non-null object\n",
      "Dependents       7043 non-null object\n",
      "dtypes: int64(1), object(4)\n",
      "\n",
      "Первые три строки \n",
      "    customerID  gender  SeniorCitizen Partner Dependents\n",
      "0  7590-VHVEG  Female              0     Yes         No\n",
      "1  5575-GNVDE    Male              0      No         No\n",
      "2  3668-QPYBK    Male              0      No         No\n",
      "\n",
      "Уникальные значения \n",
      " customerID       7043\n",
      "gender              2\n",
      "SeniorCitizen       2\n",
      "Partner             2\n",
      "Dependents          2\n",
      "dtype: int64\n"
     ]
    }
   ],
   "source": [
    "print('Общая информация о данных')\n",
    "personal.info(memory_usage=False)\n",
    "print('\\n\\nПервые три строки \\n',personal.head(3))\n",
    "print('\\nУникальные значения \\n',personal.nunique())"
   ]
  },
  {
   "cell_type": "markdown",
   "metadata": {},
   "source": [
    "Предварительно можно сказать, что имеются данные на 7043 абанентов. В этом датасете все переменные бинарные, но в столбцах `['Partner','Dependents']` значение `Yes` и `No`, можно было изначально записывать, как `1` и `0`. Также переведем столбец `gender` в `isMale` со значениями `1` и `0`."
   ]
  },
  {
   "cell_type": "code",
   "execution_count": 42,
   "metadata": {},
   "outputs": [
    {
     "name": "stdout",
     "output_type": "stream",
     "text": [
      "Общая информация о данных\n",
      "<class 'pandas.core.frame.DataFrame'>\n",
      "RangeIndex: 7043 entries, 0 to 7042\n",
      "Data columns (total 8 columns):\n",
      "customerID          7043 non-null object\n",
      "BeginDate           7043 non-null datetime64[ns]\n",
      "EndDate             7043 non-null object\n",
      "Type                7043 non-null object\n",
      "PaperlessBilling    7043 non-null object\n",
      "PaymentMethod       7043 non-null object\n",
      "MonthlyCharges      7043 non-null float64\n",
      "TotalCharges        7043 non-null object\n",
      "dtypes: datetime64[ns](1), float64(1), object(6)"
     ]
    }
   ],
   "source": [
    "print('Общая информация о данных')\n",
    "contract.info(memory_usage=False)"
   ]
  },
  {
   "cell_type": "code",
   "execution_count": 43,
   "metadata": {},
   "outputs": [
    {
     "name": "stdout",
     "output_type": "stream",
     "text": [
      "\n",
      "\n",
      "Первые три строки \n",
      "    customerID  BeginDate              EndDate            Type  \\\n",
      "0  7590-VHVEG 2020-01-01                   No  Month-to-month   \n",
      "1  5575-GNVDE 2017-04-01                   No        One year   \n",
      "2  3668-QPYBK 2019-10-01  2019-12-01 00:00:00  Month-to-month   \n",
      "3  7795-CFOCW 2016-05-01                   No        One year   \n",
      "4  9237-HQITU 2019-09-01  2019-11-01 00:00:00  Month-to-month   \n",
      "5  9305-CDSKC 2019-03-01  2019-11-01 00:00:00  Month-to-month   \n",
      "6  1452-KIOVK 2018-04-01                   No  Month-to-month   \n",
      "7  6713-OKOMC 2019-04-01                   No  Month-to-month   \n",
      "8  7892-POOKP 2017-07-01  2019-11-01 00:00:00  Month-to-month   \n",
      "9  6388-TABGU 2014-12-01                   No        One year   \n",
      "\n",
      "  PaperlessBilling              PaymentMethod  MonthlyCharges TotalCharges  \n",
      "0              Yes           Electronic check           29.85        29.85  \n",
      "1               No               Mailed check           56.95       1889.5  \n",
      "2              Yes               Mailed check           53.85       108.15  \n",
      "3               No  Bank transfer (automatic)           42.30      1840.75  \n",
      "4              Yes           Electronic check           70.70       151.65  \n",
      "5              Yes           Electronic check           99.65        820.5  \n",
      "6              Yes    Credit card (automatic)           89.10       1949.4  \n",
      "7               No               Mailed check           29.75        301.9  \n",
      "8              Yes           Electronic check          104.80      3046.05  \n",
      "9               No  Bank transfer (automatic)           56.15      3487.95  \n",
      "\n",
      "Уникальные значения \n",
      " customerID          7043\n",
      "BeginDate             77\n",
      "EndDate                5\n",
      "Type                   3\n",
      "PaperlessBilling       2\n",
      "PaymentMethod          4\n",
      "MonthlyCharges      1585\n",
      "TotalCharges        6531\n",
      "dtype: int64\n"
     ]
    }
   ],
   "source": [
    "print('\\n\\nПервые три строки \\n',contract.head(10))\n",
    "print('\\nУникальные значения \\n',contract.nunique())"
   ]
  },
  {
   "cell_type": "markdown",
   "metadata": {},
   "source": [
    "Инофрмация о контрактах иммется на всех абонентов.     \n",
    "В стобце `EndDate` либо стоит дата прерывания контракта, либо `No`. Мы имее всего 4 даты прерывания контракта. Этот момент необходимо рассмотреть отдельно.    \n",
    "По данным можно сказать, что у пользователей есть только 4 способа оплаты и 3 варианта продления контракта, о чем говорят столбцы `PaymentMethod` и `Type`. Это подтверждает предоставленную информацию."
   ]
  },
  {
   "cell_type": "code",
   "execution_count": 44,
   "metadata": {},
   "outputs": [
    {
     "name": "stdout",
     "output_type": "stream",
     "text": [
      "Общая информация о данных\n",
      "<class 'pandas.core.frame.DataFrame'>\n",
      "RangeIndex: 5517 entries, 0 to 5516\n",
      "Data columns (total 8 columns):\n",
      "customerID          5517 non-null object\n",
      "InternetService     5517 non-null object\n",
      "OnlineSecurity      5517 non-null object\n",
      "OnlineBackup        5517 non-null object\n",
      "DeviceProtection    5517 non-null object\n",
      "TechSupport         5517 non-null object\n",
      "StreamingTV         5517 non-null object\n",
      "StreamingMovies     5517 non-null object\n",
      "dtypes: object(8)"
     ]
    }
   ],
   "source": [
    "print('Общая информация о данных')\n",
    "internet.info(memory_usage=False)"
   ]
  },
  {
   "cell_type": "code",
   "execution_count": 45,
   "metadata": {},
   "outputs": [
    {
     "name": "stdout",
     "output_type": "stream",
     "text": [
      "\n",
      "\n",
      "Первые три строки \n",
      "    customerID InternetService OnlineSecurity OnlineBackup DeviceProtection  \\\n",
      "0  7590-VHVEG             DSL             No          Yes               No   \n",
      "1  5575-GNVDE             DSL            Yes           No              Yes   \n",
      "2  3668-QPYBK             DSL            Yes          Yes               No   \n",
      "\n",
      "  TechSupport StreamingTV StreamingMovies  \n",
      "0          No          No              No  \n",
      "1          No          No              No  \n",
      "2          No          No              No  \n",
      "\n",
      "Уникальные значения \n",
      " customerID          5517\n",
      "InternetService        2\n",
      "OnlineSecurity         2\n",
      "OnlineBackup           2\n",
      "DeviceProtection       2\n",
      "TechSupport            2\n",
      "StreamingTV            2\n",
      "StreamingMovies        2\n",
      "dtype: int64\n"
     ]
    }
   ],
   "source": [
    "\n",
    "print('\\n\\nПервые три строки \\n',internet.head(3))\n",
    "print('\\nУникальные значения \\n',internet.nunique())"
   ]
  },
  {
   "cell_type": "markdown",
   "metadata": {},
   "source": [
    "Информация по интернет услугам содержится на 5517 абонентов. Скорее всего у остальных данные услуги вообще не подключены. Все параметры пользователей в данном датасете являются бинарным и опять можно наблюдать `Yes` и `No` вместо `1` и `0`."
   ]
  },
  {
   "cell_type": "code",
   "execution_count": 46,
   "metadata": {},
   "outputs": [
    {
     "name": "stdout",
     "output_type": "stream",
     "text": [
      "Общая информация о данных\n",
      "<class 'pandas.core.frame.DataFrame'>\n",
      "RangeIndex: 6361 entries, 0 to 6360\n",
      "Data columns (total 2 columns):\n",
      "customerID       6361 non-null object\n",
      "MultipleLines    6361 non-null object\n",
      "dtypes: object(2)\n",
      "\n",
      "Первые три строки \n",
      "    customerID MultipleLines\n",
      "0  5575-GNVDE            No\n",
      "1  3668-QPYBK            No\n",
      "2  9237-HQITU            No\n",
      "\n",
      "Уникальные значения \n",
      " customerID       6361\n",
      "MultipleLines       2\n",
      "dtype: int64\n"
     ]
    }
   ],
   "source": [
    "print('Общая информация о данных')\n",
    "phone.info(memory_usage=False)\n",
    "print('\\n\\nПервые три строки \\n',phone.head(3))\n",
    "print('\\nУникальные значения \\n',phone.nunique())"
   ]
  },
  {
   "cell_type": "markdown",
   "metadata": {},
   "source": [
    "Видно, что не все абоненты пользуются телефонией. Ситуация с бинарными переменными аналогична другим датасетам.\n",
    "\n",
    "Во всех датасетах присутствует одинаковая проблема - бинарные величины обозначаются через  `Yes` и `No`. Не все абоненты имеют телефоний, также не все имеют подписку на интернет услуги. Всего имеются данные на 7043 абонентов."
   ]
  },
  {
   "cell_type": "markdown",
   "metadata": {},
   "source": [
    "## Предобработка\n",
    "Переведем все бинарные величин в формате `Yes`-> 1 и `No`-> 0"
   ]
  },
  {
   "cell_type": "code",
   "execution_count": 47,
   "metadata": {},
   "outputs": [
    {
     "name": "stdout",
     "output_type": "stream",
     "text": [
      "MultipleLines    0.467065\n",
      "dtype: float64\n"
     ]
    }
   ],
   "source": [
    "YN_to_binary = {'Yes':1,'No':0, 1:1, 0:0}\n",
    "phone['MultipleLines'] = phone['MultipleLines'].map(YN_to_binary)\n",
    "contract['PaperlessBilling'] = contract['PaperlessBilling'].map(YN_to_binary)\n",
    "print(phone.mean(numeric_only=True))"
   ]
  },
  {
   "cell_type": "markdown",
   "metadata": {},
   "source": [
    "Метод хорошо переводит значения из словаря в нужные нам, не применяя перевод дважды. Применим этот подход во всех таблицах."
   ]
  },
  {
   "cell_type": "code",
   "execution_count": 48,
   "metadata": {},
   "outputs": [
    {
     "data": {
      "text/plain": [
       "OnlineSecurity      0.365960\n",
       "OnlineBackup        0.440276\n",
       "DeviceProtection    0.439007\n",
       "TechSupport         0.370491\n",
       "StreamingTV         0.490665\n",
       "StreamingMovies     0.495197\n",
       "dtype: float64"
      ]
     },
     "execution_count": 48,
     "metadata": {},
     "output_type": "execute_result"
    }
   ],
   "source": [
    "for col in list(internet.columns)[2:]:\n",
    "    internet[col] = internet[col].map(YN_to_binary)\n",
    "internet.mean(numeric_only=True)"
   ]
  },
  {
   "cell_type": "code",
   "execution_count": 49,
   "metadata": {},
   "outputs": [
    {
     "data": {
      "text/plain": [
       "SeniorCitizen    0.162147\n",
       "Partner          0.483033\n",
       "Dependents       0.299588\n",
       "isMale           0.504756\n",
       "dtype: float64"
      ]
     },
     "execution_count": 49,
     "metadata": {},
     "output_type": "execute_result"
    }
   ],
   "source": [
    "for col in list(personal.columns)[2:]:\n",
    "    personal[col] = personal[col].map(YN_to_binary)\n",
    "\n",
    "try:\n",
    "    personal['isMale'] = personal['gender'].map({'Male':1,'Female':0, 1:1, 0:0})\n",
    "    personal = personal.drop('gender', axis=1)\n",
    "except:\n",
    "    print('gender уже удален')\n",
    "personal.mean(numeric_only=True)"
   ]
  },
  {
   "cell_type": "markdown",
   "metadata": {},
   "source": [
    "Все `Yes` и `No`были переведены к удобному для анализа формату. Также был сформирован признак `isMale`, для удобного анализа. \n",
    "Уже сейчас можно сказать, что в данных абоненты разных полов представлены в равной степени. Также среди всех абанентов есть 16% пожилых. Не известено, как именно формируется данный признак. Также не совсем понятно значение признаков `Partner` и `Dependents`.\n"
   ]
  },
  {
   "cell_type": "code",
   "execution_count": 50,
   "metadata": {},
   "outputs": [],
   "source": [
    "internet['sum'] = internet.sum(axis=1)"
   ]
  },
  {
   "cell_type": "code",
   "execution_count": 51,
   "metadata": {},
   "outputs": [
    {
     "data": {
      "text/html": [
       "<div>\n",
       "<style scoped>\n",
       "    .dataframe tbody tr th:only-of-type {\n",
       "        vertical-align: middle;\n",
       "    }\n",
       "\n",
       "    .dataframe tbody tr th {\n",
       "        vertical-align: top;\n",
       "    }\n",
       "\n",
       "    .dataframe thead th {\n",
       "        text-align: right;\n",
       "    }\n",
       "</style>\n",
       "<table border=\"1\" class=\"dataframe\">\n",
       "  <thead>\n",
       "    <tr style=\"text-align: right;\">\n",
       "      <th></th>\n",
       "      <th>count</th>\n",
       "      <th>mean</th>\n",
       "      <th>std</th>\n",
       "      <th>min</th>\n",
       "      <th>25%</th>\n",
       "      <th>50%</th>\n",
       "      <th>75%</th>\n",
       "      <th>max</th>\n",
       "    </tr>\n",
       "    <tr>\n",
       "      <th>InternetService</th>\n",
       "      <th></th>\n",
       "      <th></th>\n",
       "      <th></th>\n",
       "      <th></th>\n",
       "      <th></th>\n",
       "      <th></th>\n",
       "      <th></th>\n",
       "      <th></th>\n",
       "    </tr>\n",
       "  </thead>\n",
       "  <tbody>\n",
       "    <tr>\n",
       "      <td>DSL</td>\n",
       "      <td>2421.0</td>\n",
       "      <td>2.662949</td>\n",
       "      <td>1.731450</td>\n",
       "      <td>0.0</td>\n",
       "      <td>1.0</td>\n",
       "      <td>3.0</td>\n",
       "      <td>4.0</td>\n",
       "      <td>6.0</td>\n",
       "    </tr>\n",
       "    <tr>\n",
       "      <td>Fiber optic</td>\n",
       "      <td>3096.0</td>\n",
       "      <td>2.553618</td>\n",
       "      <td>1.674584</td>\n",
       "      <td>0.0</td>\n",
       "      <td>1.0</td>\n",
       "      <td>3.0</td>\n",
       "      <td>4.0</td>\n",
       "      <td>6.0</td>\n",
       "    </tr>\n",
       "  </tbody>\n",
       "</table>\n",
       "</div>"
      ],
      "text/plain": [
       "                  count      mean       std  min  25%  50%  75%  max\n",
       "InternetService                                                     \n",
       "DSL              2421.0  2.662949  1.731450  0.0  1.0  3.0  4.0  6.0\n",
       "Fiber optic      3096.0  2.553618  1.674584  0.0  1.0  3.0  4.0  6.0"
      ]
     },
     "execution_count": 51,
     "metadata": {},
     "output_type": "execute_result"
    }
   ],
   "source": [
    "internet.groupby('InternetService')['sum'].describe()"
   ]
  },
  {
   "cell_type": "markdown",
   "metadata": {},
   "source": [
    "Распределение суммарных дополнительных услуг совпадает для абонентов с `DSL` и с `Fiber optic`. Посмотрим, как абоненты используют дополнительные интернет услуги."
   ]
  },
  {
   "cell_type": "code",
   "execution_count": 52,
   "metadata": {},
   "outputs": [
    {
     "data": {
      "text/plain": [
       "Text(0, 0.5, 'Процент, среди использующих интернет')"
      ]
     },
     "execution_count": 52,
     "metadata": {},
     "output_type": "execute_result"
    },
    {
     "data": {
      "image/png": "[encoded data removed]",
      "text/plain": [
       "<Figure size 432x288 with 1 Axes>"
      ]
     },
     "metadata": {
      "needs_background": "light"
     },
     "output_type": "display_data"
    }
   ],
   "source": [
    "internet['sum'].hist()\n",
    "plt.title('Распределение дополнительных интернет услуг')\n",
    "plt.xlabel('Количестов услуг')\n",
    "plt.ylabel('Процент, среди использующих интернет')"
   ]
  },
  {
   "cell_type": "markdown",
   "metadata": {},
   "source": [
    "Из рапределения видно, что около 700 человек из 5517 не использует дополнительных услуг. В районе 300 человек используют все дополнительные услуги.\n",
    "\n"
   ]
  },
  {
   "cell_type": "code",
   "execution_count": 53,
   "metadata": {},
   "outputs": [
    {
     "data": {
      "image/png": "[encoded data removed]",
      "text/plain": [
       "<Figure size 360x360 with 1 Axes>"
      ]
     },
     "metadata": {},
     "output_type": "display_data"
    },
    {
     "data": {
      "text/plain": [
       "Type            PaymentMethod            \n",
       "Two year        Electronic check              2.4%\n",
       "One year        Mailed check                  4.8%\n",
       "                Electronic check              4.9%\n",
       "Two year        Mailed check                  5.4%\n",
       "One year        Bank transfer (automatic)     5.6%\n",
       "                Credit card (automatic)       5.7%\n",
       "Month-to-month  Credit card (automatic)       7.7%\n",
       "Two year        Bank transfer (automatic)     8.0%\n",
       "                Credit card (automatic)       8.2%\n",
       "Month-to-month  Bank transfer (automatic)     8.4%\n",
       "                Mailed check                 12.7%\n",
       "                Electronic check             26.3%\n",
       "Name: PaymentMethod, dtype: object"
      ]
     },
     "execution_count": 53,
     "metadata": {},
     "output_type": "execute_result"
    }
   ],
   "source": [
    "plt.figure(figsize=(5,5))\n",
    "payment_type = (contract.copy().groupby(['Type','PaymentMethod'])['PaymentMethod'].count()/ 7043).sort_values()\n",
    "plt.pie(payment_type, autopct='%1.1f%%')\n",
    "plt.show()\n",
    "payment_type.map(lambda x: '{:.1%}'.format(x))"
   ]
  },
  {
   "cell_type": "markdown",
   "metadata": {},
   "source": [
    "Из приведенного выше процентного распределения способов оплаты можно судить, что наиболее поппулярный формат - ежемесячное получение электронного чека. Более 26% всех абонентов пользуются им. 12.7% используют формат - ежемесячная плата с уведомление по почте. Далее примерно на одном уровне идут: ежемесячная автоматическая плата банковским переводом(8.4%), договор на два года с автоматической оплатой банковским переводом(8%), договор на два года с автоматической оплатой банковской картой(8.2%), ежемесячная автоматическая плата банковской картой(7.7%)."
   ]
  },
  {
   "cell_type": "markdown",
   "metadata": {},
   "source": [
    "## План работ"
   ]
  },
  {
   "cell_type": "markdown",
   "metadata": {},
   "source": [
    "\n",
    "1. Формирование признаков\n",
    "    - Количество месяцев с заключения договора\n",
    "    - Целевой признак - расторжение абанетом контракта\n",
    "    - Определение оптимальных признаков для обучения модели и формирование из них обучающего датасета\n",
    "2. Обучение модели\n",
    "    - Подбор лучшей модели машинного обучения с метрикой ROC-AUC\n",
    "3. Создание функций формирующих датасет для запрашиваемых данных. "
   ]
  },
  {
   "cell_type": "markdown",
   "metadata": {},
   "source": [
    "## Вопросы\n",
    "- В каком формате предоставляются данные на проде об абонентах.\n",
    "- Что обозначают признаки `Partner` и `Dependents`в датасете `personal`."
   ]
  },
  {
   "cell_type": "markdown",
   "metadata": {},
   "source": [
    "## Формирование признаков"
   ]
  },
  {
   "cell_type": "markdown",
   "metadata": {},
   "source": [
    "Сформируем целевой признак."
   ]
  },
  {
   "cell_type": "code",
   "execution_count": 54,
   "metadata": {},
   "outputs": [],
   "source": [
    "contract['leave'] = contract['EndDate'].copy()\n",
    "contract['leave'] = contract['leave'].replace('No', 0)\n",
    "contract.loc[contract['leave']!=0, 'leave'] = 1"
   ]
  },
  {
   "cell_type": "code",
   "execution_count": 55,
   "metadata": {},
   "outputs": [
    {
     "data": {
      "text/html": [
       "<div>\n",
       "<style scoped>\n",
       "    .dataframe tbody tr th:only-of-type {\n",
       "        vertical-align: middle;\n",
       "    }\n",
       "\n",
       "    .dataframe tbody tr th {\n",
       "        vertical-align: top;\n",
       "    }\n",
       "\n",
       "    .dataframe thead th {\n",
       "        text-align: right;\n",
       "    }\n",
       "</style>\n",
       "<table border=\"1\" class=\"dataframe\">\n",
       "  <thead>\n",
       "    <tr style=\"text-align: right;\">\n",
       "      <th></th>\n",
       "      <th>customerID</th>\n",
       "      <th>BeginDate</th>\n",
       "      <th>EndDate</th>\n",
       "      <th>Type</th>\n",
       "      <th>PaperlessBilling</th>\n",
       "      <th>PaymentMethod</th>\n",
       "      <th>MonthlyCharges</th>\n",
       "      <th>TotalCharges</th>\n",
       "      <th>leave</th>\n",
       "    </tr>\n",
       "  </thead>\n",
       "  <tbody>\n",
       "    <tr>\n",
       "      <td>0</td>\n",
       "      <td>7590-VHVEG</td>\n",
       "      <td>2020-01-01</td>\n",
       "      <td>No</td>\n",
       "      <td>Month-to-month</td>\n",
       "      <td>1</td>\n",
       "      <td>Electronic check</td>\n",
       "      <td>29.85</td>\n",
       "      <td>29.85</td>\n",
       "      <td>0</td>\n",
       "    </tr>\n",
       "    <tr>\n",
       "      <td>1</td>\n",
       "      <td>5575-GNVDE</td>\n",
       "      <td>2017-04-01</td>\n",
       "      <td>No</td>\n",
       "      <td>One year</td>\n",
       "      <td>0</td>\n",
       "      <td>Mailed check</td>\n",
       "      <td>56.95</td>\n",
       "      <td>1889.5</td>\n",
       "      <td>0</td>\n",
       "    </tr>\n",
       "    <tr>\n",
       "      <td>2</td>\n",
       "      <td>3668-QPYBK</td>\n",
       "      <td>2019-10-01</td>\n",
       "      <td>2019-12-01 00:00:00</td>\n",
       "      <td>Month-to-month</td>\n",
       "      <td>1</td>\n",
       "      <td>Mailed check</td>\n",
       "      <td>53.85</td>\n",
       "      <td>108.15</td>\n",
       "      <td>1</td>\n",
       "    </tr>\n",
       "    <tr>\n",
       "      <td>3</td>\n",
       "      <td>7795-CFOCW</td>\n",
       "      <td>2016-05-01</td>\n",
       "      <td>No</td>\n",
       "      <td>One year</td>\n",
       "      <td>0</td>\n",
       "      <td>Bank transfer (automatic)</td>\n",
       "      <td>42.30</td>\n",
       "      <td>1840.75</td>\n",
       "      <td>0</td>\n",
       "    </tr>\n",
       "    <tr>\n",
       "      <td>4</td>\n",
       "      <td>9237-HQITU</td>\n",
       "      <td>2019-09-01</td>\n",
       "      <td>2019-11-01 00:00:00</td>\n",
       "      <td>Month-to-month</td>\n",
       "      <td>1</td>\n",
       "      <td>Electronic check</td>\n",
       "      <td>70.70</td>\n",
       "      <td>151.65</td>\n",
       "      <td>1</td>\n",
       "    </tr>\n",
       "  </tbody>\n",
       "</table>\n",
       "</div>"
      ],
      "text/plain": [
       "   customerID  BeginDate              EndDate            Type  \\\n",
       "0  7590-VHVEG 2020-01-01                   No  Month-to-month   \n",
       "1  5575-GNVDE 2017-04-01                   No        One year   \n",
       "2  3668-QPYBK 2019-10-01  2019-12-01 00:00:00  Month-to-month   \n",
       "3  7795-CFOCW 2016-05-01                   No        One year   \n",
       "4  9237-HQITU 2019-09-01  2019-11-01 00:00:00  Month-to-month   \n",
       "\n",
       "   PaperlessBilling              PaymentMethod  MonthlyCharges TotalCharges  \\\n",
       "0                 1           Electronic check           29.85        29.85   \n",
       "1                 0               Mailed check           56.95       1889.5   \n",
       "2                 1               Mailed check           53.85       108.15   \n",
       "3                 0  Bank transfer (automatic)           42.30      1840.75   \n",
       "4                 1           Electronic check           70.70       151.65   \n",
       "\n",
       "   leave  \n",
       "0      0  \n",
       "1      0  \n",
       "2      1  \n",
       "3      0  \n",
       "4      1  "
      ]
     },
     "execution_count": 55,
     "metadata": {},
     "output_type": "execute_result"
    }
   ],
   "source": [
    "contract.head()"
   ]
  },
  {
   "cell_type": "markdown",
   "metadata": {},
   "source": [
    "Сформируем признак - время действия договора. Эту информацию можно извлечь из столбцов `['BeginDate','EndDate']` таблицы `contract`. Заменим значение `'No'` в столбце `'EndDate'` на дату выгрузки базы. Привидем эти столбцы к формату даты."
   ]
  },
  {
   "cell_type": "code",
   "execution_count": 56,
   "metadata": {},
   "outputs": [],
   "source": [
    "contract['EndDate'] = contract['EndDate'].replace('No',pd.to_datetime('02-01-2020'))\n",
    "contract['EndDate'] = pd.to_datetime(contract['EndDate'])"
   ]
  },
  {
   "cell_type": "code",
   "execution_count": 57,
   "metadata": {},
   "outputs": [
    {
     "data": {
      "text/html": [
       "<div>\n",
       "<style scoped>\n",
       "    .dataframe tbody tr th:only-of-type {\n",
       "        vertical-align: middle;\n",
       "    }\n",
       "\n",
       "    .dataframe tbody tr th {\n",
       "        vertical-align: top;\n",
       "    }\n",
       "\n",
       "    .dataframe thead th {\n",
       "        text-align: right;\n",
       "    }\n",
       "</style>\n",
       "<table border=\"1\" class=\"dataframe\">\n",
       "  <thead>\n",
       "    <tr style=\"text-align: right;\">\n",
       "      <th></th>\n",
       "      <th>customerID</th>\n",
       "      <th>BeginDate</th>\n",
       "      <th>EndDate</th>\n",
       "      <th>Type</th>\n",
       "      <th>PaperlessBilling</th>\n",
       "      <th>PaymentMethod</th>\n",
       "      <th>MonthlyCharges</th>\n",
       "      <th>TotalCharges</th>\n",
       "      <th>leave</th>\n",
       "    </tr>\n",
       "  </thead>\n",
       "  <tbody>\n",
       "    <tr>\n",
       "      <td>0</td>\n",
       "      <td>7590-VHVEG</td>\n",
       "      <td>2020-01-01</td>\n",
       "      <td>2020-02-01</td>\n",
       "      <td>Month-to-month</td>\n",
       "      <td>1</td>\n",
       "      <td>Electronic check</td>\n",
       "      <td>29.85</td>\n",
       "      <td>29.85</td>\n",
       "      <td>0</td>\n",
       "    </tr>\n",
       "    <tr>\n",
       "      <td>1</td>\n",
       "      <td>5575-GNVDE</td>\n",
       "      <td>2017-04-01</td>\n",
       "      <td>2020-02-01</td>\n",
       "      <td>One year</td>\n",
       "      <td>0</td>\n",
       "      <td>Mailed check</td>\n",
       "      <td>56.95</td>\n",
       "      <td>1889.5</td>\n",
       "      <td>0</td>\n",
       "    </tr>\n",
       "    <tr>\n",
       "      <td>2</td>\n",
       "      <td>3668-QPYBK</td>\n",
       "      <td>2019-10-01</td>\n",
       "      <td>2019-12-01</td>\n",
       "      <td>Month-to-month</td>\n",
       "      <td>1</td>\n",
       "      <td>Mailed check</td>\n",
       "      <td>53.85</td>\n",
       "      <td>108.15</td>\n",
       "      <td>1</td>\n",
       "    </tr>\n",
       "    <tr>\n",
       "      <td>3</td>\n",
       "      <td>7795-CFOCW</td>\n",
       "      <td>2016-05-01</td>\n",
       "      <td>2020-02-01</td>\n",
       "      <td>One year</td>\n",
       "      <td>0</td>\n",
       "      <td>Bank transfer (automatic)</td>\n",
       "      <td>42.30</td>\n",
       "      <td>1840.75</td>\n",
       "      <td>0</td>\n",
       "    </tr>\n",
       "    <tr>\n",
       "      <td>4</td>\n",
       "      <td>9237-HQITU</td>\n",
       "      <td>2019-09-01</td>\n",
       "      <td>2019-11-01</td>\n",
       "      <td>Month-to-month</td>\n",
       "      <td>1</td>\n",
       "      <td>Electronic check</td>\n",
       "      <td>70.70</td>\n",
       "      <td>151.65</td>\n",
       "      <td>1</td>\n",
       "    </tr>\n",
       "  </tbody>\n",
       "</table>\n",
       "</div>"
      ],
      "text/plain": [
       "   customerID  BeginDate    EndDate            Type  PaperlessBilling  \\\n",
       "0  7590-VHVEG 2020-01-01 2020-02-01  Month-to-month                 1   \n",
       "1  5575-GNVDE 2017-04-01 2020-02-01        One year                 0   \n",
       "2  3668-QPYBK 2019-10-01 2019-12-01  Month-to-month                 1   \n",
       "3  7795-CFOCW 2016-05-01 2020-02-01        One year                 0   \n",
       "4  9237-HQITU 2019-09-01 2019-11-01  Month-to-month                 1   \n",
       "\n",
       "               PaymentMethod  MonthlyCharges TotalCharges  leave  \n",
       "0           Electronic check           29.85        29.85      0  \n",
       "1               Mailed check           56.95       1889.5      0  \n",
       "2               Mailed check           53.85       108.15      1  \n",
       "3  Bank transfer (automatic)           42.30      1840.75      0  \n",
       "4           Electronic check           70.70       151.65      1  "
      ]
     },
     "execution_count": 57,
     "metadata": {},
     "output_type": "execute_result"
    }
   ],
   "source": [
    "contract.head()"
   ]
  },
  {
   "cell_type": "markdown",
   "metadata": {},
   "source": [
    "Создадим функцию, вычисляющую количество месяцев, на которые был заключен договор."
   ]
  },
  {
   "cell_type": "code",
   "execution_count": 58,
   "metadata": {},
   "outputs": [],
   "source": [
    "def days_from_timedelta(timedelta):\n",
    "    return round(int(str(timedelta).split(' ')[0]), 0)\n",
    "\n",
    "def months_from_timedelta(timedelta):\n",
    "    return round(int(str(timedelta).split(' ')[0]) / 30.5, 0)"
   ]
  },
  {
   "cell_type": "markdown",
   "metadata": {},
   "source": [
    "Создадим признак `'timedelta_months'`"
   ]
  },
  {
   "cell_type": "code",
   "execution_count": 59,
   "metadata": {},
   "outputs": [],
   "source": [
    "#contract['timedelta_days'] = (contract['EndDate'] - contract['BeginDate']).apply(days_from_timedelta)\n",
    "contract['timedelta_months'] = (contract['EndDate'] - contract['BeginDate']).apply(months_from_timedelta)"
   ]
  },
  {
   "cell_type": "markdown",
   "metadata": {},
   "source": [
    "Приведем все столбцы к нужному типу"
   ]
  },
  {
   "cell_type": "code",
   "execution_count": 60,
   "metadata": {},
   "outputs": [],
   "source": [
    "contract = contract[contract['TotalCharges']!=' '].copy()"
   ]
  },
  {
   "cell_type": "code",
   "execution_count": 61,
   "metadata": {},
   "outputs": [],
   "source": [
    "contract['TotalCharges'] = contract['TotalCharges'].astype('float')\n",
    "contract['leave'] = contract['leave'].astype('int')"
   ]
  },
  {
   "cell_type": "code",
   "execution_count": 62,
   "metadata": {},
   "outputs": [
    {
     "name": "stdout",
     "output_type": "stream",
     "text": [
      "<class 'pandas.core.frame.DataFrame'>\n",
      "Int64Index: 7032 entries, 0 to 7042\n",
      "Data columns (total 10 columns):\n",
      "customerID          7032 non-null object\n",
      "BeginDate           7032 non-null datetime64[ns]\n",
      "EndDate             7032 non-null datetime64[ns]\n",
      "Type                7032 non-null object\n",
      "PaperlessBilling    7032 non-null int64\n",
      "PaymentMethod       7032 non-null object\n",
      "MonthlyCharges      7032 non-null float64\n",
      "TotalCharges        7032 non-null float64\n",
      "leave               7032 non-null int64\n",
      "timedelta_months    7032 non-null float64\n",
      "dtypes: datetime64[ns](2), float64(3), int64(2), object(3)\n",
      "memory usage: 604.3+ KB\n"
     ]
    }
   ],
   "source": [
    "contract.info()"
   ]
  },
  {
   "cell_type": "markdown",
   "metadata": {},
   "source": [
    "Для построения модели, получим приведем дамми признаки для переменных типа `object`"
   ]
  },
  {
   "cell_type": "code",
   "execution_count": 63,
   "metadata": {},
   "outputs": [],
   "source": [
    "data = pd.get_dummies(contract,columns=['Type','PaymentMethod'],drop_first=True).drop(['BeginDate','EndDate'], axis=1)"
   ]
  },
  {
   "cell_type": "code",
   "execution_count": 64,
   "metadata": {},
   "outputs": [
    {
     "data": {
      "text/html": [
       "<div>\n",
       "<style scoped>\n",
       "    .dataframe tbody tr th:only-of-type {\n",
       "        vertical-align: middle;\n",
       "    }\n",
       "\n",
       "    .dataframe tbody tr th {\n",
       "        vertical-align: top;\n",
       "    }\n",
       "\n",
       "    .dataframe thead th {\n",
       "        text-align: right;\n",
       "    }\n",
       "</style>\n",
       "<table border=\"1\" class=\"dataframe\">\n",
       "  <thead>\n",
       "    <tr style=\"text-align: right;\">\n",
       "      <th></th>\n",
       "      <th>customerID</th>\n",
       "      <th>PaperlessBilling</th>\n",
       "      <th>MonthlyCharges</th>\n",
       "      <th>TotalCharges</th>\n",
       "      <th>leave</th>\n",
       "      <th>timedelta_months</th>\n",
       "      <th>Type_One year</th>\n",
       "      <th>Type_Two year</th>\n",
       "      <th>PaymentMethod_Credit card (automatic)</th>\n",
       "      <th>PaymentMethod_Electronic check</th>\n",
       "      <th>PaymentMethod_Mailed check</th>\n",
       "    </tr>\n",
       "  </thead>\n",
       "  <tbody>\n",
       "    <tr>\n",
       "      <td>0</td>\n",
       "      <td>7590-VHVEG</td>\n",
       "      <td>1</td>\n",
       "      <td>29.85</td>\n",
       "      <td>29.85</td>\n",
       "      <td>0</td>\n",
       "      <td>1.0</td>\n",
       "      <td>0</td>\n",
       "      <td>0</td>\n",
       "      <td>0</td>\n",
       "      <td>1</td>\n",
       "      <td>0</td>\n",
       "    </tr>\n",
       "    <tr>\n",
       "      <td>1</td>\n",
       "      <td>5575-GNVDE</td>\n",
       "      <td>0</td>\n",
       "      <td>56.95</td>\n",
       "      <td>1889.50</td>\n",
       "      <td>0</td>\n",
       "      <td>34.0</td>\n",
       "      <td>1</td>\n",
       "      <td>0</td>\n",
       "      <td>0</td>\n",
       "      <td>0</td>\n",
       "      <td>1</td>\n",
       "    </tr>\n",
       "    <tr>\n",
       "      <td>2</td>\n",
       "      <td>3668-QPYBK</td>\n",
       "      <td>1</td>\n",
       "      <td>53.85</td>\n",
       "      <td>108.15</td>\n",
       "      <td>1</td>\n",
       "      <td>2.0</td>\n",
       "      <td>0</td>\n",
       "      <td>0</td>\n",
       "      <td>0</td>\n",
       "      <td>0</td>\n",
       "      <td>1</td>\n",
       "    </tr>\n",
       "    <tr>\n",
       "      <td>3</td>\n",
       "      <td>7795-CFOCW</td>\n",
       "      <td>0</td>\n",
       "      <td>42.30</td>\n",
       "      <td>1840.75</td>\n",
       "      <td>0</td>\n",
       "      <td>45.0</td>\n",
       "      <td>1</td>\n",
       "      <td>0</td>\n",
       "      <td>0</td>\n",
       "      <td>0</td>\n",
       "      <td>0</td>\n",
       "    </tr>\n",
       "    <tr>\n",
       "      <td>4</td>\n",
       "      <td>9237-HQITU</td>\n",
       "      <td>1</td>\n",
       "      <td>70.70</td>\n",
       "      <td>151.65</td>\n",
       "      <td>1</td>\n",
       "      <td>2.0</td>\n",
       "      <td>0</td>\n",
       "      <td>0</td>\n",
       "      <td>0</td>\n",
       "      <td>1</td>\n",
       "      <td>0</td>\n",
       "    </tr>\n",
       "  </tbody>\n",
       "</table>\n",
       "</div>"
      ],
      "text/plain": [
       "   customerID  PaperlessBilling  MonthlyCharges  TotalCharges  leave  \\\n",
       "0  7590-VHVEG                 1           29.85         29.85      0   \n",
       "1  5575-GNVDE                 0           56.95       1889.50      0   \n",
       "2  3668-QPYBK                 1           53.85        108.15      1   \n",
       "3  7795-CFOCW                 0           42.30       1840.75      0   \n",
       "4  9237-HQITU                 1           70.70        151.65      1   \n",
       "\n",
       "   timedelta_months  Type_One year  Type_Two year  \\\n",
       "0               1.0              0              0   \n",
       "1              34.0              1              0   \n",
       "2               2.0              0              0   \n",
       "3              45.0              1              0   \n",
       "4               2.0              0              0   \n",
       "\n",
       "   PaymentMethod_Credit card (automatic)  PaymentMethod_Electronic check  \\\n",
       "0                                      0                               1   \n",
       "1                                      0                               0   \n",
       "2                                      0                               0   \n",
       "3                                      0                               0   \n",
       "4                                      0                               1   \n",
       "\n",
       "   PaymentMethod_Mailed check  \n",
       "0                           0  \n",
       "1                           1  \n",
       "2                           1  \n",
       "3                           0  \n",
       "4                           0  "
      ]
     },
     "execution_count": 64,
     "metadata": {},
     "output_type": "execute_result"
    }
   ],
   "source": [
    "data.head()"
   ]
  },
  {
   "cell_type": "code",
   "execution_count": 65,
   "metadata": {},
   "outputs": [],
   "source": [
    "internet = pd.get_dummies(internet,columns=['InternetService'],drop_first=True)"
   ]
  },
  {
   "cell_type": "markdown",
   "metadata": {},
   "source": [
    "Объединим все таблицы и посмотрим, как коррелируют все призанки с целевым"
   ]
  },
  {
   "cell_type": "code",
   "execution_count": 78,
   "metadata": {},
   "outputs": [],
   "source": [
    "def style_negative(v):\n",
    "    return 'color:red' if v < 0 else 'color:black'\n",
    "\n",
    "def style_main(v):\n",
    "    return f'opacity: {np.abs(v*3)*100}%'"
   ]
  },
  {
   "cell_type": "code",
   "execution_count": 80,
   "metadata": {},
   "outputs": [
    {
     "data": {
      "text/html": [
       "<style  type=\"text/css\" >\n",
       "    #T_6c106dfe_6c03_11ec_bd54_02420a398bcarow0_col0 {\n",
       "            color: red;\n",
       "            opacity:  106.21480768597813%;\n",
       "        }    #T_6c106dfe_6c03_11ec_bd54_02420a398bcarow0_col1 {\n",
       "            color: red;\n",
       "            opacity:  90.46570188719352%;\n",
       "        }    #T_6c106dfe_6c03_11ec_bd54_02420a398bcarow0_col2 {\n",
       "            color: red;\n",
       "            opacity:  59.84522507027121%;\n",
       "        }    #T_6c106dfe_6c03_11ec_bd54_02420a398bcarow0_col3 {\n",
       "            color: red;\n",
       "            opacity:  53.46750698698216%;\n",
       "        }    #T_6c106dfe_6c03_11ec_bd54_02420a398bcarow0_col4 {\n",
       "            color: red;\n",
       "            opacity:  51.38097706005503%;\n",
       "        }    #T_6c106dfe_6c03_11ec_bd54_02420a398bcarow0_col5 {\n",
       "            color: red;\n",
       "            opacity:  49.414772503233614%;\n",
       "        }    #T_6c106dfe_6c03_11ec_bd54_02420a398bcarow0_col6 {\n",
       "            color: red;\n",
       "            opacity:  48.938531816466%;\n",
       "        }    #T_6c106dfe_6c03_11ec_bd54_02420a398bcarow0_col7 {\n",
       "            color: red;\n",
       "            opacity:  44.99457768601841%;\n",
       "        }    #T_6c106dfe_6c03_11ec_bd54_02420a398bcarow0_col8 {\n",
       "            color: red;\n",
       "            opacity:  40.40605117022719%;\n",
       "        }    #T_6c106dfe_6c03_11ec_bd54_02420a398bcarow0_col9 {\n",
       "            color: red;\n",
       "            opacity:  27.23185374774626%;\n",
       "        }    #T_6c106dfe_6c03_11ec_bd54_02420a398bcarow0_col10 {\n",
       "            color: red;\n",
       "            opacity:  26.364575861911433%;\n",
       "        }    #T_6c106dfe_6c03_11ec_bd54_02420a398bcarow0_col11 {\n",
       "            color: red;\n",
       "            opacity:  24.692090629525048%;\n",
       "        }    #T_6c106dfe_6c03_11ec_bd54_02420a398bcarow0_col12 {\n",
       "            color: red;\n",
       "            opacity:  19.85775505268699%;\n",
       "        }    #T_6c106dfe_6c03_11ec_bd54_02420a398bcarow0_col13 {\n",
       "            color: red;\n",
       "            opacity:  2.5633929674841656%;\n",
       "        }    #T_6c106dfe_6c03_11ec_bd54_02420a398bcarow0_col14 {\n",
       "            color: black;\n",
       "            opacity:  12.00982196175709%;\n",
       "        }    #T_6c106dfe_6c03_11ec_bd54_02420a398bcarow0_col15 {\n",
       "            color: black;\n",
       "            opacity:  18.257981004438903%;\n",
       "        }    #T_6c106dfe_6c03_11ec_bd54_02420a398bcarow0_col16 {\n",
       "            color: black;\n",
       "            opacity:  18.976194082558212%;\n",
       "        }    #T_6c106dfe_6c03_11ec_bd54_02420a398bcarow0_col17 {\n",
       "            color: black;\n",
       "            opacity:  45.16231602470271%;\n",
       "        }    #T_6c106dfe_6c03_11ec_bd54_02420a398bcarow0_col18 {\n",
       "            color: black;\n",
       "            opacity:  57.436296324020006%;\n",
       "        }    #T_6c106dfe_6c03_11ec_bd54_02420a398bcarow0_col19 {\n",
       "            color: black;\n",
       "            opacity:  57.85746554102575%;\n",
       "        }    #T_6c106dfe_6c03_11ec_bd54_02420a398bcarow0_col20 {\n",
       "            color: black;\n",
       "            opacity:  90.43639137257418%;\n",
       "        }    #T_6c106dfe_6c03_11ec_bd54_02420a398bcarow0_col21 {\n",
       "            color: black;\n",
       "            opacity:  92.23877720945461%;\n",
       "        }    #T_6c106dfe_6c03_11ec_bd54_02420a398bcarow0_col22 {\n",
       "            color: black;\n",
       "            opacity:  300.0%;\n",
       "        }</style><table id=\"T_6c106dfe_6c03_11ec_bd54_02420a398bca\" ><thead>    <tr>        <th class=\"blank level0\" ></th>        <th class=\"col_heading level0 col0\" >timedelta_months</th>        <th class=\"col_heading level0 col1\" >Type_Two year</th>        <th class=\"col_heading level0 col2\" >TotalCharges</th>        <th class=\"col_heading level0 col3\" >Type_One year</th>        <th class=\"col_heading level0 col4\" >OnlineSecurity</th>        <th class=\"col_heading level0 col5\" >TechSupport</th>        <th class=\"col_heading level0 col6\" >Dependents</th>        <th class=\"col_heading level0 col7\" >Partner</th>        <th class=\"col_heading level0 col8\" >PaymentMethod_Credit card (automatic)</th>        <th class=\"col_heading level0 col9\" >PaymentMethod_Mailed check</th>        <th class=\"col_heading level0 col10\" >sum</th>        <th class=\"col_heading level0 col11\" >OnlineBackup</th>        <th class=\"col_heading level0 col12\" >DeviceProtection</th>        <th class=\"col_heading level0 col13\" >isMale</th>        <th class=\"col_heading level0 col14\" >MultipleLines</th>        <th class=\"col_heading level0 col15\" >StreamingMovies</th>        <th class=\"col_heading level0 col16\" >StreamingTV</th>        <th class=\"col_heading level0 col17\" >SeniorCitizen</th>        <th class=\"col_heading level0 col18\" >PaperlessBilling</th>        <th class=\"col_heading level0 col19\" >MonthlyCharges</th>        <th class=\"col_heading level0 col20\" >PaymentMethod_Electronic check</th>        <th class=\"col_heading level0 col21\" >InternetService_Fiber optic</th>        <th class=\"col_heading level0 col22\" >leave</th>    </tr></thead><tbody>\n",
       "                <tr>\n",
       "                        <th id=\"T_6c106dfe_6c03_11ec_bd54_02420a398bcalevel0_row0\" class=\"row_heading level0 row0\" >leave</th>\n",
       "                        <td id=\"T_6c106dfe_6c03_11ec_bd54_02420a398bcarow0_col0\" class=\"data row0 col0\" >-0.354049</td>\n",
       "                        <td id=\"T_6c106dfe_6c03_11ec_bd54_02420a398bcarow0_col1\" class=\"data row0 col1\" >-0.301552</td>\n",
       "                        <td id=\"T_6c106dfe_6c03_11ec_bd54_02420a398bcarow0_col2\" class=\"data row0 col2\" >-0.199484</td>\n",
       "                        <td id=\"T_6c106dfe_6c03_11ec_bd54_02420a398bcarow0_col3\" class=\"data row0 col3\" >-0.178225</td>\n",
       "                        <td id=\"T_6c106dfe_6c03_11ec_bd54_02420a398bcarow0_col4\" class=\"data row0 col4\" >-0.17127</td>\n",
       "                        <td id=\"T_6c106dfe_6c03_11ec_bd54_02420a398bcarow0_col5\" class=\"data row0 col5\" >-0.164716</td>\n",
       "                        <td id=\"T_6c106dfe_6c03_11ec_bd54_02420a398bcarow0_col6\" class=\"data row0 col6\" >-0.163128</td>\n",
       "                        <td id=\"T_6c106dfe_6c03_11ec_bd54_02420a398bcarow0_col7\" class=\"data row0 col7\" >-0.149982</td>\n",
       "                        <td id=\"T_6c106dfe_6c03_11ec_bd54_02420a398bcarow0_col8\" class=\"data row0 col8\" >-0.134687</td>\n",
       "                        <td id=\"T_6c106dfe_6c03_11ec_bd54_02420a398bcarow0_col9\" class=\"data row0 col9\" >-0.0907728</td>\n",
       "                        <td id=\"T_6c106dfe_6c03_11ec_bd54_02420a398bcarow0_col10\" class=\"data row0 col10\" >-0.0878819</td>\n",
       "                        <td id=\"T_6c106dfe_6c03_11ec_bd54_02420a398bcarow0_col11\" class=\"data row0 col11\" >-0.082307</td>\n",
       "                        <td id=\"T_6c106dfe_6c03_11ec_bd54_02420a398bcarow0_col12\" class=\"data row0 col12\" >-0.0661925</td>\n",
       "                        <td id=\"T_6c106dfe_6c03_11ec_bd54_02420a398bcarow0_col13\" class=\"data row0 col13\" >-0.00854464</td>\n",
       "                        <td id=\"T_6c106dfe_6c03_11ec_bd54_02420a398bcarow0_col14\" class=\"data row0 col14\" >0.0400327</td>\n",
       "                        <td id=\"T_6c106dfe_6c03_11ec_bd54_02420a398bcarow0_col15\" class=\"data row0 col15\" >0.0608599</td>\n",
       "                        <td id=\"T_6c106dfe_6c03_11ec_bd54_02420a398bcarow0_col16\" class=\"data row0 col16\" >0.063254</td>\n",
       "                        <td id=\"T_6c106dfe_6c03_11ec_bd54_02420a398bcarow0_col17\" class=\"data row0 col17\" >0.150541</td>\n",
       "                        <td id=\"T_6c106dfe_6c03_11ec_bd54_02420a398bcarow0_col18\" class=\"data row0 col18\" >0.191454</td>\n",
       "                        <td id=\"T_6c106dfe_6c03_11ec_bd54_02420a398bcarow0_col19\" class=\"data row0 col19\" >0.192858</td>\n",
       "                        <td id=\"T_6c106dfe_6c03_11ec_bd54_02420a398bcarow0_col20\" class=\"data row0 col20\" >0.301455</td>\n",
       "                        <td id=\"T_6c106dfe_6c03_11ec_bd54_02420a398bcarow0_col21\" class=\"data row0 col21\" >0.307463</td>\n",
       "                        <td id=\"T_6c106dfe_6c03_11ec_bd54_02420a398bcarow0_col22\" class=\"data row0 col22\" >1</td>\n",
       "            </tr>\n",
       "    </tbody></table>"
      ],
      "text/plain": [
       "<pandas.io.formats.style.Styler at 0x7fb02f4fa7d0>"
      ]
     },
     "execution_count": 80,
     "metadata": {},
     "output_type": "execute_result"
    }
   ],
   "source": [
    "data.merge(internet,how='left')\\\n",
    "    .merge(phone,how='left')\\\n",
    "    .merge(personal,how='left').fillna(0).corr()[['leave']].sort_values(by='leave').T.style.applymap(style_negative).applymap(style_main)"
   ]
  },
  {
   "cell_type": "markdown",
   "metadata": {},
   "source": [
    "Корреляции для признака `'timedelta_months'`"
   ]
  },
  {
   "cell_type": "code",
   "execution_count": 81,
   "metadata": {},
   "outputs": [
    {
     "data": {
      "text/plain": [
       "Partner             0.381912\n",
       "sum                 0.495318\n",
       "Type_Two year       0.563801\n",
       "TotalCharges        0.825880\n",
       "timedelta_months    1.000000\n",
       "Name: timedelta_months, dtype: float64"
      ]
     },
     "execution_count": 81,
     "metadata": {},
     "output_type": "execute_result"
    }
   ],
   "source": [
    "data.merge(internet,how='left').merge(phone,how='left').merge(personal,how='left').fillna(0).corr(\n",
    ")['timedelta_months'].sort_values().tail()"
   ]
  },
  {
   "cell_type": "markdown",
   "metadata": {},
   "source": [
    "Сильнее всего c целевым коррелирует признак `'timedelta_months'`, а также он мультиколлинеарен с `'TotalCharges'`. Из них нужно будет оставить тольк один. Посмотрим соотношение ушедших абонентов ко всем, в зависимости от времени"
   ]
  },
  {
   "cell_type": "code",
   "execution_count": 82,
   "metadata": {},
   "outputs": [
    {
     "data": {
      "image/png": "[encoded data removed]",
      "text/plain": [
       "<Figure size 720x360 with 1 Axes>"
      ]
     },
     "metadata": {
      "needs_background": "light"
     },
     "output_type": "display_data"
    }
   ],
   "source": [
    "(data.groupby('timedelta_months')['leave'].sum() / data.groupby('timedelta_months')['leave'].count()).plot(figsize=(10,5))\n",
    "plt.xlabel('Количество месяцев, использования услуг')\n",
    "#plt.ylabel('Соотношение всех абонентов и абонентов, разорвавших договор')\n",
    "plt.ylabel('Соотношение всех абонентов и\\n абонентов, разорвавших договор')\n",
    "plt.show()"
   ]
  },
  {
   "cell_type": "code",
   "execution_count": 83,
   "metadata": {},
   "outputs": [
    {
     "data": {
      "text/plain": [
       "timedelta_months\n",
       "1.0    0.619902\n",
       "2.0    0.516807\n",
       "3.0    0.470000\n",
       "4.0    0.471591\n",
       "5.0    0.481203\n",
       "Name: leave, dtype: float64"
      ]
     },
     "execution_count": 83,
     "metadata": {},
     "output_type": "execute_result"
    }
   ],
   "source": [
    "(data.groupby('timedelta_months')['leave'].sum() / data.groupby('timedelta_months')['leave'].count()).head()"
   ]
  },
  {
   "cell_type": "markdown",
   "metadata": {},
   "source": [
    "Из графика видно, чем дольше абонент пользуется услугами, тем вероятнее, что он останется. Вероятность ухода абонента в первый месяц для нашей выборки составила 62%. Со временем вероятность медленно снижается почти до  0 "
   ]
  },
  {
   "cell_type": "markdown",
   "metadata": {},
   "source": [
    "\n",
    "Создадим признаки для обучения модели. Из всех оставим только те, которые по модулю коррелируют более чем на 15%"
   ]
  },
  {
   "cell_type": "code",
   "execution_count": 84,
   "metadata": {},
   "outputs": [],
   "source": [
    "features = data.merge(internet,how='left').merge(personal,how='left').fillna(0)\\\n",
    "    .drop(['customerID','leave'],\n",
    "        axis=1)\n",
    "target = data['leave'].fillna(0)"
   ]
  },
  {
   "cell_type": "markdown",
   "metadata": {},
   "source": [
    "## Обучение модели"
   ]
  },
  {
   "cell_type": "markdown",
   "metadata": {},
   "source": [
    "Разобьём выборку на тренировочную и тестовую"
   ]
  },
  {
   "cell_type": "code",
   "execution_count": 85,
   "metadata": {},
   "outputs": [],
   "source": [
    "features_train, features_test, target_train, target_test = train_test_split(\n",
    "    features, target, test_size=0.25, random_state=12345\n",
    ")"
   ]
  },
  {
   "cell_type": "markdown",
   "metadata": {},
   "source": [
    "Градиентный бустинг"
   ]
  },
  {
   "cell_type": "code",
   "execution_count": 86,
   "metadata": {},
   "outputs": [
    {
     "name": "stdout",
     "output_type": "stream",
     "text": [
      "0:\ttest: 0.8153099\tbest: 0.8153099 (0)\ttotal: 52.1ms\tremaining: 26s\n",
      "200:\ttest: 0.8536811\tbest: 0.8536811 (200)\ttotal: 5s\tremaining: 7.45s\n",
      "400:\ttest: 0.8553327\tbest: 0.8554225 (395)\ttotal: 10s\tremaining: 2.47s\n",
      "499:\ttest: 0.8552628\tbest: 0.8554691 (424)\ttotal: 12.5s\tremaining: 0us\n",
      "\n",
      "bestTest = 0.8554690683\n",
      "bestIteration = 424\n",
      "\n",
      "Shrink model to first 425 iterations.\n"
     ]
    },
    {
     "data": {
      "text/plain": [
       "<catboost.core.CatBoostClassifier at 0x7fb0aa065b90>"
      ]
     },
     "execution_count": 86,
     "metadata": {},
     "output_type": "execute_result"
    }
   ],
   "source": [
    "cat_model = CatBoostClassifier(verbose=200, eval_metric='AUC',iterations=500,learning_rate=0.01, random_state=1234)\n",
    "cat_model.fit(features_train,target_train,eval_set=(features_test, target_test))"
   ]
  },
  {
   "cell_type": "code",
   "execution_count": 87,
   "metadata": {},
   "outputs": [
    {
     "name": "stdout",
     "output_type": "stream",
     "text": [
      "roc_auc_score на тестовой выборке 0.855\n",
      "roc_auc_score на тренировочной выборке 0.874\n"
     ]
    }
   ],
   "source": [
    "print('roc_auc_score на тестовой выборке', roc_auc_score(target_test, cat_model.predict_proba(features_test)[:, 1]).round(3))\n",
    "print('roc_auc_score на тренировочной выборке', roc_auc_score(target_train, cat_model.predict_proba(features_train)[:, 1]).round(3))"
   ]
  },
  {
   "cell_type": "markdown",
   "metadata": {},
   "source": [
    "Качество модели по метрике AUC-ROC составила 0.855 на тестовой выборке и 0.868 на тренировочной выборке. Значимости признаков, которые вывела модель"
   ]
  },
  {
   "cell_type": "code",
   "execution_count": 88,
   "metadata": {
    "scrolled": false
   },
   "outputs": [
    {
     "data": {
      "image/png": "[encoded data removed]",
      "text/plain": [
       "<Figure size 432x288 with 1 Axes>"
      ]
     },
     "metadata": {
      "needs_background": "light"
     },
     "output_type": "display_data"
    }
   ],
   "source": [
    "plt.bar(features.columns,cat_model.feature_importances_)\n",
    "plt.xticks(rotation=90)\n",
    "plt.show()"
   ]
  },
  {
   "cell_type": "markdown",
   "metadata": {},
   "source": [
    "Оставим только значимые метрики"
   ]
  },
  {
   "cell_type": "code",
   "execution_count": 89,
   "metadata": {},
   "outputs": [
    {
     "name": "stdout",
     "output_type": "stream",
     "text": [
      "0:\ttest: 0.8274672\tbest: 0.8274672 (0)\ttotal: 9.03ms\tremaining: 9.02s\n",
      "200:\ttest: 0.8545352\tbest: 0.8545751 (195)\ttotal: 4.89s\tremaining: 19.4s\n",
      "400:\ttest: 0.8549410\tbest: 0.8552321 (315)\ttotal: 9.6s\tremaining: 14.3s\n",
      "600:\ttest: 0.8542092\tbest: 0.8552321 (315)\ttotal: 14.4s\tremaining: 9.56s\n",
      "800:\ttest: 0.8535522\tbest: 0.8552321 (315)\ttotal: 19.2s\tremaining: 4.76s\n",
      "999:\ttest: 0.8522732\tbest: 0.8552321 (315)\ttotal: 23.8s\tremaining: 0us\n",
      "\n",
      "bestTest = 0.8552320601\n",
      "bestIteration = 315\n",
      "\n",
      "Shrink model to first 316 iterations.\n"
     ]
    },
    {
     "data": {
      "image/png": "[encoded data removed]",
      "text/plain": [
       "<Figure size 432x288 with 1 Axes>"
      ]
     },
     "metadata": {
      "needs_background": "light"
     },
     "output_type": "display_data"
    }
   ],
   "source": [
    "features = data.merge(internet,how='left').merge(personal,how='left').fillna(0)\\\n",
    "    .drop(['customerID','leave','PaymentMethod_Credit card (automatic)','OnlineBackup',\n",
    "           'PaymentMethod_Mailed check','DeviceProtection','Partner','TotalCharges'],\n",
    "        axis=1)\n",
    "target = data['leave'].fillna(0)\n",
    "\n",
    "features_train, features_test, target_train, target_test = train_test_split(\n",
    "    features, target, test_size=0.25, random_state=12345\n",
    ")\n",
    "\n",
    "cat_model = CatBoostClassifier(verbose=200, eval_metric='AUC',iterations=1000,learning_rate=0.01, random_state=1234)\n",
    "cat_model.fit(features_train,target_train,eval_set=(features_test, target_test))\n",
    "\n",
    "plt.bar(features.columns,cat_model.feature_importances_)\n",
    "plt.xticks(rotation=90)\n",
    "plt.show()"
   ]
  },
  {
   "cell_type": "markdown",
   "metadata": {},
   "source": [
    "Попробуем другие модели"
   ]
  },
  {
   "cell_type": "markdown",
   "metadata": {},
   "source": [
    "Модель Логистической регрессии "
   ]
  },
  {
   "cell_type": "code",
   "execution_count": 90,
   "metadata": {},
   "outputs": [
    {
     "data": {
      "text/plain": [
       "LogisticRegressionCV(Cs=10, class_weight=None, cv=5, dual=False,\n",
       "                     fit_intercept=True, intercept_scaling=1.0, l1_ratios=None,\n",
       "                     max_iter=1000, multi_class='warn', n_jobs=None,\n",
       "                     penalty='l2', random_state=12345, refit=True, scoring=None,\n",
       "                     solver='lbfgs', tol=0.0001, verbose=0)"
      ]
     },
     "execution_count": 90,
     "metadata": {},
     "output_type": "execute_result"
    }
   ],
   "source": [
    "log_model = LogisticRegressionCV(cv=5, random_state=12345, max_iter=1000)\n",
    "log_model.fit(features_train,target_train)"
   ]
  },
  {
   "cell_type": "code",
   "execution_count": 91,
   "metadata": {},
   "outputs": [
    {
     "name": "stdout",
     "output_type": "stream",
     "text": [
      "roc_auc_score на тестовой выборке 0.849\n",
      "roc_auc_score на тренировочной выборке 0.837\n"
     ]
    }
   ],
   "source": [
    "print('roc_auc_score на тестовой выборке', roc_auc_score(target_test, log_model.predict_proba(features_test)[:, 1]).round(3))\n",
    "print('roc_auc_score на тренировочной выборке', roc_auc_score(target_train, log_model.predict_proba(features_train)[:, 1]).round(3))"
   ]
  },
  {
   "cell_type": "markdown",
   "metadata": {},
   "source": [
    "Качество модели по метрике AUC-ROC составила 0.85 на тестовой выборке и 0.838 на тренировочной выборке\n",
    "\n",
    "Модель случайного леса"
   ]
  },
  {
   "cell_type": "code",
   "execution_count": 92,
   "metadata": {},
   "outputs": [
    {
     "data": {
      "text/plain": [
       "RandomForestClassifier(bootstrap=True, class_weight=None, criterion='gini',\n",
       "                       max_depth=6, max_features='auto', max_leaf_nodes=None,\n",
       "                       min_impurity_decrease=0.0, min_impurity_split=None,\n",
       "                       min_samples_leaf=1, min_samples_split=2,\n",
       "                       min_weight_fraction_leaf=0.0, n_estimators=100,\n",
       "                       n_jobs=None, oob_score=False, random_state=12345,\n",
       "                       verbose=0, warm_start=False)"
      ]
     },
     "execution_count": 92,
     "metadata": {},
     "output_type": "execute_result"
    }
   ],
   "source": [
    "forest_model = RandomForestClassifier(n_estimators=100,max_depth=6, random_state=12345)\n",
    "forest_model.fit(features_train,target_train)\n"
   ]
  },
  {
   "cell_type": "code",
   "execution_count": 93,
   "metadata": {},
   "outputs": [
    {
     "name": "stdout",
     "output_type": "stream",
     "text": [
      "roc_auc_score на тестовой выборке 0.851\n",
      "roc_auc_score на тренировочной выборке 0.868\n"
     ]
    }
   ],
   "source": [
    "print('roc_auc_score на тестовой выборке', roc_auc_score(target_test, forest_model.predict_proba(features_test)[:, 1]).round(3))\n",
    "print('roc_auc_score на тренировочной выборке', roc_auc_score(target_train, forest_model.predict_proba(features_train)[:, 1]).round(3))"
   ]
  },
  {
   "cell_type": "markdown",
   "metadata": {},
   "source": [
    "Качество модели по метрике AUC-ROC составила 0.853 на тестовой выборке и 0.869 на тренировочной выборке"
   ]
  },
  {
   "cell_type": "code",
   "execution_count": 94,
   "metadata": {
    "scrolled": true
   },
   "outputs": [
    {
     "data": {
      "image/png": "[encoded data removed]",
      "text/plain": [
       "<Figure size 432x288 with 1 Axes>"
      ]
     },
     "metadata": {
      "needs_background": "light"
     },
     "output_type": "display_data"
    }
   ],
   "source": [
    "plt.bar(features.columns,forest_model.feature_importances_)\n",
    "plt.xticks(rotation=90)\n",
    "plt.show()"
   ]
  },
  {
   "cell_type": "markdown",
   "metadata": {},
   "source": [
    "Лучше всего себя показала модель градиентного бустинга с качеством около 0.856 по метрике AUC-ROC. Остальные модели показали меньшее качество при небоьшом примуществе в скорости работы"
   ]
  },
  {
   "cell_type": "markdown",
   "metadata": {},
   "source": [
    "## Создание .py файлов для прода.\n",
    "Так как неизвестно, как именно будут отправляться файлы и в каком виде необходимо реализовать модель. Предположим, что есть возможность отправлять файлы в виде json. Реализацию сделаем на FastAPI."
   ]
  },
  {
   "cell_type": "markdown",
   "metadata": {},
   "source": [
    "```python\n",
    "import os\n",
    "import pandas as pd\n",
    "import pickle\n",
    "from fastapi import FastAPI, HTTPException\n",
    "from pydantic import BaseModel\n",
    "from preprocessing import preprocessing\n",
    "\n",
    "app = FastAPI()\n",
    "\n",
    "class StockIn(BaseModel):\n",
    "    '''Модель, задающая тип входных '''\n",
    "    phone : dict\n",
    "    contract  : dict\n",
    "    internet  : dict\n",
    "    personal  : dict\n",
    "\n",
    "\n",
    "class StockOut(BaseModel):\n",
    "    '''Модель, задающая тип выходных данных'''\n",
    "    predict: array\n",
    "\n",
    "\n",
    "@app.post(\"/predict\", response_model=StockOut, status_code=200)\n",
    "def get_prediction(personal_data: StockIn):\n",
    "    '''получение предсказания вероятности ухода абонента'''\n",
    "    \n",
    "    phone = pd.DataFrame(personal_data.phone)\n",
    "    contract = pd.DataFrame(personal_data.contract)\n",
    "    internet = pd.DataFrame(personal_data.internet)\n",
    "    personal = pd.DataFrame(personal_data.personal)\n",
    "\n",
    "    request = {}\n",
    "    model = pickle.load(open(os.getcwd() +'/model.pkl','rb'))\n",
    "\n",
    "    features = preprocessing(phone=phone, contract=contract, internet=internet, personal=personal)\n",
    "    predict = model.predict_proba(features)\n",
    "\n",
    "    return {'predict': predict}\n",
    "\n",
    "```"
   ]
  },
  {
   "cell_type": "markdown",
   "metadata": {},
   "source": [
    "Опустим описание функции `preprocessing` из `preprocessing.py`. Так как она должна содердать шаги по обработке данных и объединению таблиц, которые мы выполняли здесь ранее."
   ]
  },
  {
   "cell_type": "markdown",
   "metadata": {},
   "source": [
    "## ВЫВОДЫ\n",
    "\n",
    "Проанализировав данные о 7043 абонентов, удалось построить модель градиентного бустинга CatBoost для задачи классификации, выявляющую возможный уход абонента с точностью по метрике AUC-ROC 0.855."
   ]
  },
  {
   "cell_type": "markdown",
   "metadata": {},
   "source": [
    "В результате анализа было выявлено, что абоненты в основном уходят на первых месяцах и чем дольше они пользуются услугами, тем менее вероятно, что они уйдут. Возможно стоит проработать программу удержания клиентов в первый год. Далее вероятность ухода устанавливается на уровне менее 30% постепенно снижаясь. "
   ]
  },
  {
   "cell_type": "markdown",
   "metadata": {},
   "source": [
    "На удивление, количество подключенных интернет услуг не оказало значимого воздействия на сохраняемость желание абонентов продолжать сотрудничества. Также не оказало влияние автоматическая оплата. Наоборот, абоненты, ежемесячно оплачивающие приходящие счета, остаются с большей вероятностью "
   ]
  },
  {
   "cell_type": "markdown",
   "metadata": {},
   "source": [
    "# Отчет\n",
    "В плане было 3 пункта\n",
    "1. Формирование признаков    \n",
    "    В этом пункте были сформированы:\n",
    "    - Количество месяцев с заключения договора\n",
    "    - Целевой признак - расторжение абанетом контракта\n",
    "    - Дамми признаки от строковых параметров (`['Type','InternetService','PaymentMethod']`)    \n",
    "\n",
    "    Определение оптимальных признаков для обучения модели было перенесено в следующий пункт, так как было проведено на основе зависимостей найденных моделью градиентного бустинга CatBoost    \n",
    "\n",
    "\n",
    "2. Обучение модели\n",
    "Было обучено три вида моделей:\n",
    "    - CatBoostClassifier (ROC-AUC=0.86)\n",
    "    - LogisticRegressionCV (ROC-AUC=0.85)\n",
    "    - RandomForestClassifier (ROC-AUC=0.85)\n",
    "\n",
    "    Лучшей моделью машинного обучения с наибольшой метрикой ROC-AUC=0.86 была выбрана CatBoostClassifier. В качестве признак для обучения были выбраны:    \n",
    "```python\n",
    "        ['PaperlessBilling', 'MonthlyCharges', 'timedelta_months',\n",
    "       'Type_One year', 'Type_Two year', 'PaymentMethod_Electronic check',\n",
    "       'OnlineSecurity', 'TechSupport', 'StreamingTV', 'StreamingMovies',\n",
    "       'sum', 'InternetService_Fiber optic', 'SeniorCitizen', 'Dependents',\n",
    "       'isMale']\n",
    "```\n",
    "3. Создание функций формирующих датасет для запрашиваемых данных. \n",
    "    В этом пункте было решено создать интеграцию модели в виде API с помощью фреймворка FastAPI. Описание сторонних файлов для обеспечения корректной работы было опущено, так как подготовка данных была полностью проведена выше в этом файле."
   ]
  },
  {
   "cell_type": "markdown",
   "metadata": {},
   "source": []
  }
 ],
 "metadata": {
  "ExecuteTimeLog": [
   {
    "duration": 1233,
    "start_time": "2021-09-28T10:14:58.994Z"
   },
   {
    "duration": 98,
    "start_time": "2021-09-28T10:15:02.682Z"
   },
   {
    "duration": 17,
    "start_time": "2021-09-28T10:15:42.895Z"
   },
   {
    "duration": 9,
    "start_time": "2021-09-28T10:15:44.261Z"
   },
   {
    "duration": 40,
    "start_time": "2021-09-28T10:15:44.434Z"
   },
   {
    "duration": 7,
    "start_time": "2021-09-28T10:15:44.951Z"
   },
   {
    "duration": 12,
    "start_time": "2021-09-28T10:15:45.152Z"
   },
   {
    "duration": 10,
    "start_time": "2021-09-28T10:15:45.578Z"
   },
   {
    "duration": 9,
    "start_time": "2021-09-28T10:16:40.966Z"
   },
   {
    "duration": 17,
    "start_time": "2021-09-28T10:16:41.651Z"
   },
   {
    "duration": 14,
    "start_time": "2021-09-28T10:16:41.873Z"
   },
   {
    "duration": 10,
    "start_time": "2021-09-28T10:16:42.229Z"
   },
   {
    "duration": 24,
    "start_time": "2021-09-28T10:16:42.422Z"
   },
   {
    "duration": 196,
    "start_time": "2021-09-28T10:16:42.794Z"
   },
   {
    "duration": 104,
    "start_time": "2021-09-28T10:16:43.358Z"
   },
   {
    "duration": 10,
    "start_time": "2021-09-28T10:21:40.376Z"
   },
   {
    "duration": 10,
    "start_time": "2021-09-28T10:21:41.522Z"
   },
   {
    "duration": 12,
    "start_time": "2021-09-28T10:21:42.395Z"
   },
   {
    "duration": 11,
    "start_time": "2021-09-28T10:21:43.087Z"
   },
   {
    "duration": 3,
    "start_time": "2021-09-28T10:21:43.935Z"
   },
   {
    "duration": 102,
    "start_time": "2021-09-28T10:21:44.332Z"
   },
   {
    "duration": 7,
    "start_time": "2021-09-28T10:21:44.730Z"
   },
   {
    "duration": 6,
    "start_time": "2021-09-28T10:21:44.904Z"
   },
   {
    "duration": 9,
    "start_time": "2021-09-28T10:21:45.098Z"
   },
   {
    "duration": 16,
    "start_time": "2021-09-28T10:21:45.420Z"
   },
   {
    "duration": 16,
    "start_time": "2021-09-28T10:21:45.598Z"
   },
   {
    "duration": 10,
    "start_time": "2021-09-28T10:21:45.786Z"
   },
   {
    "duration": 40,
    "start_time": "2021-09-28T10:21:46.089Z"
   },
   {
    "duration": 201,
    "start_time": "2021-09-28T10:21:46.429Z"
   },
   {
    "duration": 7,
    "start_time": "2021-09-28T10:21:46.632Z"
   },
   {
    "duration": 22,
    "start_time": "2021-09-28T10:21:47.557Z"
   },
   {
    "duration": 257,
    "start_time": "2021-09-28T10:31:19.303Z"
   },
   {
    "duration": 6,
    "start_time": "2021-09-28T10:35:43.832Z"
   },
   {
    "duration": 27739,
    "start_time": "2021-09-28T10:35:47.821Z"
   },
   {
    "duration": 18,
    "start_time": "2021-09-28T10:36:15.562Z"
   },
   {
    "duration": 12449,
    "start_time": "2021-09-28T10:36:34.537Z"
   },
   {
    "duration": 106,
    "start_time": "2021-09-28T10:36:47.077Z"
   },
   {
    "duration": 391,
    "start_time": "2021-09-28T10:36:47.186Z"
   },
   {
    "duration": 78,
    "start_time": "2021-09-28T10:36:47.579Z"
   },
   {
    "duration": 1473,
    "start_time": "2021-09-28T18:10:33.624Z"
   },
   {
    "duration": 103,
    "start_time": "2021-09-28T18:10:38.743Z"
   },
   {
    "duration": 25,
    "start_time": "2021-09-28T18:10:39.653Z"
   },
   {
    "duration": 10,
    "start_time": "2021-09-28T18:10:40.094Z"
   },
   {
    "duration": 60,
    "start_time": "2021-09-28T18:10:40.285Z"
   },
   {
    "duration": 9,
    "start_time": "2021-09-28T18:10:40.718Z"
   },
   {
    "duration": 17,
    "start_time": "2021-09-28T18:10:40.885Z"
   },
   {
    "duration": 14,
    "start_time": "2021-09-28T18:10:41.378Z"
   },
   {
    "duration": 13,
    "start_time": "2021-09-28T18:10:42.391Z"
   },
   {
    "duration": 24,
    "start_time": "2021-09-28T18:10:43.176Z"
   },
   {
    "duration": 22,
    "start_time": "2021-09-28T18:10:43.214Z"
   },
   {
    "duration": 12,
    "start_time": "2021-09-28T18:10:43.349Z"
   },
   {
    "duration": 28,
    "start_time": "2021-09-28T18:10:43.393Z"
   },
   {
    "duration": 319,
    "start_time": "2021-09-28T18:10:43.469Z"
   },
   {
    "duration": 173,
    "start_time": "2021-09-28T18:10:43.791Z"
   },
   {
    "duration": 14,
    "start_time": "2021-09-28T18:10:44.098Z"
   },
   {
    "duration": 18,
    "start_time": "2021-09-28T18:10:44.288Z"
   },
   {
    "duration": 13,
    "start_time": "2021-09-28T18:10:44.911Z"
   },
   {
    "duration": 16,
    "start_time": "2021-09-28T18:10:45.149Z"
   },
   {
    "duration": 4,
    "start_time": "2021-09-28T18:10:45.722Z"
   },
   {
    "duration": 146,
    "start_time": "2021-09-28T18:10:46.092Z"
   },
   {
    "duration": 9,
    "start_time": "2021-09-28T18:10:46.643Z"
   },
   {
    "duration": 6,
    "start_time": "2021-09-28T18:10:47.251Z"
   },
   {
    "duration": 12,
    "start_time": "2021-09-28T18:10:47.441Z"
   },
   {
    "duration": 16,
    "start_time": "2021-09-28T18:10:47.896Z"
   },
   {
    "duration": 15,
    "start_time": "2021-09-28T18:10:48.812Z"
   },
   {
    "duration": 9,
    "start_time": "2021-09-28T18:10:49.172Z"
   },
   {
    "duration": 54,
    "start_time": "2021-09-28T18:10:49.825Z"
   },
   {
    "duration": 309,
    "start_time": "2021-09-28T18:10:51.914Z"
   },
   {
    "duration": 12,
    "start_time": "2021-09-28T18:10:53.258Z"
   },
   {
    "duration": 33,
    "start_time": "2021-09-28T18:10:57.635Z"
   },
   {
    "duration": 4,
    "start_time": "2021-09-28T18:11:13.430Z"
   },
   {
    "duration": 210,
    "start_time": "2021-09-28T18:11:14.342Z"
   },
   {
    "duration": 20,
    "start_time": "2021-09-28T18:11:15.617Z"
   },
   {
    "duration": 5,
    "start_time": "2021-09-28T18:11:17.978Z"
   },
   {
    "duration": 10,
    "start_time": "2021-09-28T18:11:18.839Z"
   },
   {
    "duration": 14,
    "start_time": "2021-09-28T18:11:19.928Z"
   },
   {
    "duration": 15,
    "start_time": "2021-09-28T18:11:21.123Z"
   },
   {
    "duration": 631,
    "start_time": "2021-09-28T18:11:21.942Z"
   },
   {
    "duration": 56,
    "start_time": "2021-09-28T18:11:24.207Z"
   },
   {
    "duration": 441,
    "start_time": "2021-09-28T18:11:27.859Z"
   },
   {
    "duration": 12,
    "start_time": "2021-09-28T18:11:38.359Z"
   },
   {
    "duration": 30,
    "start_time": "2021-09-28T18:11:50.747Z"
   },
   {
    "duration": 9,
    "start_time": "2021-09-28T18:11:53.111Z"
   },
   {
    "duration": 32723,
    "start_time": "2021-09-28T18:11:54.442Z"
   },
   {
    "duration": 49704,
    "start_time": "2021-09-28T18:12:48.134Z"
   },
   {
    "duration": 63828,
    "start_time": "2021-09-28T18:13:48.504Z"
   },
   {
    "duration": 46,
    "start_time": "2021-09-28T18:14:52.335Z"
   },
   {
    "duration": 152959,
    "start_time": "2021-09-28T18:18:48.653Z"
   },
   {
    "duration": 52725,
    "start_time": "2021-09-28T18:21:53.233Z"
   },
   {
    "duration": 24,
    "start_time": "2021-09-28T18:24:54.183Z"
   },
   {
    "duration": 12186,
    "start_time": "2021-09-28T18:30:29.104Z"
   },
   {
    "duration": 297,
    "start_time": "2021-09-28T18:30:41.293Z"
   },
   {
    "duration": 1204,
    "start_time": "2021-09-29T05:37:52.625Z"
   },
   {
    "duration": 104,
    "start_time": "2021-09-29T05:37:54.698Z"
   },
   {
    "duration": 16,
    "start_time": "2021-09-29T05:37:55.504Z"
   },
   {
    "duration": 7,
    "start_time": "2021-09-29T05:37:56.009Z"
   },
   {
    "duration": 42,
    "start_time": "2021-09-29T05:37:56.236Z"
   },
   {
    "duration": 7,
    "start_time": "2021-09-29T05:37:56.996Z"
   },
   {
    "duration": 11,
    "start_time": "2021-09-29T05:37:57.179Z"
   },
   {
    "duration": 10,
    "start_time": "2021-09-29T05:37:57.538Z"
   },
   {
    "duration": 9,
    "start_time": "2021-09-29T05:37:58.284Z"
   },
   {
    "duration": 16,
    "start_time": "2021-09-29T05:37:59.029Z"
   },
   {
    "duration": 14,
    "start_time": "2021-09-29T05:37:59.066Z"
   },
   {
    "duration": 10,
    "start_time": "2021-09-29T05:37:59.180Z"
   },
   {
    "duration": 18,
    "start_time": "2021-09-29T05:37:59.225Z"
   },
   {
    "duration": 190,
    "start_time": "2021-09-29T05:37:59.984Z"
   },
   {
    "duration": 100,
    "start_time": "2021-09-29T05:38:00.613Z"
   },
   {
    "duration": 11,
    "start_time": "2021-09-29T05:38:02.613Z"
   },
   {
    "duration": 12,
    "start_time": "2021-09-29T05:38:02.809Z"
   },
   {
    "duration": 10,
    "start_time": "2021-09-29T05:38:03.424Z"
   },
   {
    "duration": 13,
    "start_time": "2021-09-29T05:38:03.650Z"
   },
   {
    "duration": 3,
    "start_time": "2021-09-29T05:38:04.261Z"
   },
   {
    "duration": 91,
    "start_time": "2021-09-29T05:38:04.693Z"
   },
   {
    "duration": 8,
    "start_time": "2021-09-29T05:38:05.595Z"
   },
   {
    "duration": 5,
    "start_time": "2021-09-29T05:38:10.447Z"
   },
   {
    "duration": 9,
    "start_time": "2021-09-29T05:38:10.843Z"
   },
   {
    "duration": 11,
    "start_time": "2021-09-29T05:38:17.272Z"
   },
   {
    "duration": 11,
    "start_time": "2021-09-29T05:38:19.872Z"
   },
   {
    "duration": 8,
    "start_time": "2021-09-29T05:38:20.529Z"
   },
   {
    "duration": 41,
    "start_time": "2021-09-29T05:38:22.337Z"
   },
   {
    "duration": 395,
    "start_time": "2021-09-29T05:38:54.991Z"
   },
   {
    "duration": 51,
    "start_time": "2021-09-29T05:39:00.819Z"
   },
   {
    "duration": 40,
    "start_time": "2021-09-29T05:40:28.684Z"
   },
   {
    "duration": 39,
    "start_time": "2021-09-29T05:42:04.625Z"
   },
   {
    "duration": 40,
    "start_time": "2021-09-29T05:42:15.551Z"
   },
   {
    "duration": 38,
    "start_time": "2021-09-29T05:45:37.107Z"
   },
   {
    "duration": 36,
    "start_time": "2021-09-29T05:45:53.616Z"
   },
   {
    "duration": 35,
    "start_time": "2021-09-29T05:48:25.969Z"
   },
   {
    "duration": 6,
    "start_time": "2021-09-29T05:52:39.085Z"
   },
   {
    "duration": 7,
    "start_time": "2021-09-29T05:52:45.711Z"
   },
   {
    "duration": 4,
    "start_time": "2021-09-29T05:57:26.254Z"
   },
   {
    "duration": 255,
    "start_time": "2021-09-29T05:58:03.600Z"
   },
   {
    "duration": 4,
    "start_time": "2021-09-29T06:02:05.364Z"
   },
   {
    "duration": 179,
    "start_time": "2021-09-29T06:02:12.391Z"
   },
   {
    "duration": 11,
    "start_time": "2021-09-29T06:02:14.269Z"
   },
   {
    "duration": 4,
    "start_time": "2021-09-29T06:02:17.717Z"
   },
   {
    "duration": 8,
    "start_time": "2021-09-29T06:02:18.770Z"
   },
   {
    "duration": 11,
    "start_time": "2021-09-29T06:02:25.221Z"
   },
   {
    "duration": 12,
    "start_time": "2021-09-29T06:02:27.586Z"
   },
   {
    "duration": 342,
    "start_time": "2021-09-29T06:02:28.321Z"
   },
   {
    "duration": 43,
    "start_time": "2021-09-29T06:02:29.627Z"
   },
   {
    "duration": 41,
    "start_time": "2021-09-29T06:02:40.172Z"
   },
   {
    "duration": 1178,
    "start_time": "2021-09-29T06:02:57.678Z"
   },
   {
    "duration": 113,
    "start_time": "2021-09-29T06:02:58.858Z"
   },
   {
    "duration": 17,
    "start_time": "2021-09-29T06:02:58.973Z"
   },
   {
    "duration": 7,
    "start_time": "2021-09-29T06:02:58.992Z"
   },
   {
    "duration": 54,
    "start_time": "2021-09-29T06:02:59.001Z"
   },
   {
    "duration": 6,
    "start_time": "2021-09-29T06:02:59.057Z"
   },
   {
    "duration": 23,
    "start_time": "2021-09-29T06:02:59.065Z"
   },
   {
    "duration": 11,
    "start_time": "2021-09-29T06:02:59.091Z"
   },
   {
    "duration": 15,
    "start_time": "2021-09-29T06:02:59.104Z"
   },
   {
    "duration": 41,
    "start_time": "2021-09-29T06:02:59.120Z"
   },
   {
    "duration": 15,
    "start_time": "2021-09-29T06:02:59.162Z"
   },
   {
    "duration": 8,
    "start_time": "2021-09-29T06:02:59.179Z"
   },
   {
    "duration": 19,
    "start_time": "2021-09-29T06:02:59.189Z"
   },
   {
    "duration": 224,
    "start_time": "2021-09-29T06:02:59.209Z"
   },
   {
    "duration": 105,
    "start_time": "2021-09-29T06:02:59.435Z"
   },
   {
    "duration": 15,
    "start_time": "2021-09-29T06:02:59.542Z"
   },
   {
    "duration": 11,
    "start_time": "2021-09-29T06:02:59.559Z"
   },
   {
    "duration": 9,
    "start_time": "2021-09-29T06:02:59.572Z"
   },
   {
    "duration": 15,
    "start_time": "2021-09-29T06:02:59.583Z"
   },
   {
    "duration": 4,
    "start_time": "2021-09-29T06:02:59.601Z"
   },
   {
    "duration": 274,
    "start_time": "2021-09-29T06:02:59.607Z"
   },
   {
    "duration": 7,
    "start_time": "2021-09-29T06:02:59.883Z"
   },
   {
    "duration": 6,
    "start_time": "2021-09-29T06:02:59.893Z"
   },
   {
    "duration": 12,
    "start_time": "2021-09-29T06:02:59.900Z"
   },
   {
    "duration": 10,
    "start_time": "2021-09-29T06:02:59.914Z"
   },
   {
    "duration": 29,
    "start_time": "2021-09-29T06:02:59.925Z"
   },
   {
    "duration": 9,
    "start_time": "2021-09-29T06:02:59.956Z"
   },
   {
    "duration": 40,
    "start_time": "2021-09-29T06:02:59.966Z"
   },
   {
    "duration": 7031,
    "start_time": "2021-09-29T06:03:00.008Z"
   },
   {
    "duration": 90,
    "start_time": "2021-09-29T06:03:06.951Z"
   },
   {
    "duration": 85,
    "start_time": "2021-09-29T06:03:06.957Z"
   },
   {
    "duration": 81,
    "start_time": "2021-09-29T06:03:06.962Z"
   },
   {
    "duration": 77,
    "start_time": "2021-09-29T06:03:06.967Z"
   },
   {
    "duration": 73,
    "start_time": "2021-09-29T06:03:06.972Z"
   },
   {
    "duration": 68,
    "start_time": "2021-09-29T06:03:06.978Z"
   },
   {
    "duration": 62,
    "start_time": "2021-09-29T06:03:06.985Z"
   },
   {
    "duration": 59,
    "start_time": "2021-09-29T06:03:06.990Z"
   },
   {
    "duration": 54,
    "start_time": "2021-09-29T06:03:06.996Z"
   },
   {
    "duration": 48,
    "start_time": "2021-09-29T06:03:07.003Z"
   },
   {
    "duration": 45,
    "start_time": "2021-09-29T06:03:07.007Z"
   },
   {
    "duration": 1534,
    "start_time": "2021-09-29T16:46:14.276Z"
   },
   {
    "duration": 101,
    "start_time": "2021-09-29T16:46:15.813Z"
   },
   {
    "duration": 24,
    "start_time": "2021-09-29T16:46:16.312Z"
   },
   {
    "duration": 11,
    "start_time": "2021-09-29T16:46:17.273Z"
   },
   {
    "duration": 64,
    "start_time": "2021-09-29T16:46:17.771Z"
   },
   {
    "duration": 11,
    "start_time": "2021-09-29T16:46:18.737Z"
   },
   {
    "duration": 19,
    "start_time": "2021-09-29T16:46:19.371Z"
   },
   {
    "duration": 16,
    "start_time": "2021-09-29T16:46:20.451Z"
   },
   {
    "duration": 14,
    "start_time": "2021-09-29T16:46:22.274Z"
   },
   {
    "duration": 24,
    "start_time": "2021-09-29T16:46:23.624Z"
   },
   {
    "duration": 23,
    "start_time": "2021-09-29T16:46:24.067Z"
   },
   {
    "duration": 13,
    "start_time": "2021-09-29T16:46:25.789Z"
   },
   {
    "duration": 32,
    "start_time": "2021-09-29T16:46:26.347Z"
   },
   {
    "duration": 312,
    "start_time": "2021-09-29T16:46:27.392Z"
   },
   {
    "duration": 161,
    "start_time": "2021-09-29T16:46:28.603Z"
   },
   {
    "duration": 13,
    "start_time": "2021-09-29T16:46:32.868Z"
   },
   {
    "duration": 21,
    "start_time": "2021-09-29T16:46:33.197Z"
   },
   {
    "duration": 12,
    "start_time": "2021-09-29T16:46:34.769Z"
   },
   {
    "duration": 16,
    "start_time": "2021-09-29T16:46:35.130Z"
   },
   {
    "duration": 5,
    "start_time": "2021-09-29T16:46:36.730Z"
   },
   {
    "duration": 346,
    "start_time": "2021-09-29T16:46:37.656Z"
   },
   {
    "duration": 9,
    "start_time": "2021-09-29T16:46:39.715Z"
   },
   {
    "duration": 7,
    "start_time": "2021-09-29T16:46:40.781Z"
   },
   {
    "duration": 12,
    "start_time": "2021-09-29T16:46:42.765Z"
   },
   {
    "duration": 16,
    "start_time": "2021-09-29T16:46:44.403Z"
   },
   {
    "duration": 16,
    "start_time": "2021-09-29T16:46:45.509Z"
   },
   {
    "duration": 10,
    "start_time": "2021-09-29T16:46:46.068Z"
   },
   {
    "duration": 57,
    "start_time": "2021-09-29T16:46:47.499Z"
   },
   {
    "duration": 9220,
    "start_time": "2021-09-29T16:46:49.807Z"
   },
   {
    "duration": -948,
    "start_time": "2021-09-29T16:46:59.978Z"
   },
   {
    "duration": 57,
    "start_time": "2021-09-29T16:48:19.148Z"
   },
   {
    "duration": 9,
    "start_time": "2021-09-29T16:48:49.143Z"
   },
   {
    "duration": 9,
    "start_time": "2021-09-29T16:49:03.853Z"
   },
   {
    "duration": 11,
    "start_time": "2021-09-29T16:49:09.477Z"
   },
   {
    "duration": 10,
    "start_time": "2021-09-29T16:49:36.451Z"
   },
   {
    "duration": 13,
    "start_time": "2021-09-29T16:50:49.667Z"
   },
   {
    "duration": 337,
    "start_time": "2021-09-29T16:50:50.178Z"
   },
   {
    "duration": 5,
    "start_time": "2021-09-29T16:51:20.260Z"
   },
   {
    "duration": 106,
    "start_time": "2021-09-29T16:51:20.777Z"
   },
   {
    "duration": 23,
    "start_time": "2021-09-29T16:51:21.314Z"
   },
   {
    "duration": 10,
    "start_time": "2021-09-29T16:51:21.788Z"
   },
   {
    "duration": 60,
    "start_time": "2021-09-29T16:51:21.993Z"
   },
   {
    "duration": 9,
    "start_time": "2021-09-29T16:51:22.615Z"
   },
   {
    "duration": 17,
    "start_time": "2021-09-29T16:51:23.066Z"
   },
   {
    "duration": 16,
    "start_time": "2021-09-29T16:51:24.196Z"
   },
   {
    "duration": 12,
    "start_time": "2021-09-29T16:51:26.069Z"
   },
   {
    "duration": 21,
    "start_time": "2021-09-29T16:51:27.232Z"
   },
   {
    "duration": 23,
    "start_time": "2021-09-29T16:51:27.762Z"
   },
   {
    "duration": 13,
    "start_time": "2021-09-29T16:51:29.666Z"
   },
   {
    "duration": 27,
    "start_time": "2021-09-29T16:51:30.265Z"
   },
   {
    "duration": 344,
    "start_time": "2021-09-29T16:51:48.951Z"
   },
   {
    "duration": 162,
    "start_time": "2021-09-29T16:51:50.088Z"
   },
   {
    "duration": 6,
    "start_time": "2021-09-29T16:52:26.778Z"
   },
   {
    "duration": 35,
    "start_time": "2021-09-29T17:00:21.015Z"
   },
   {
    "duration": 329,
    "start_time": "2021-09-29T17:00:30.394Z"
   },
   {
    "duration": 364,
    "start_time": "2021-09-29T17:00:31.057Z"
   },
   {
    "duration": 426,
    "start_time": "2021-09-29T17:00:45.060Z"
   },
   {
    "duration": 395,
    "start_time": "2021-09-29T17:01:01.202Z"
   },
   {
    "duration": 395,
    "start_time": "2021-09-29T17:01:16.172Z"
   },
   {
    "duration": 5,
    "start_time": "2021-09-29T17:01:36.894Z"
   },
   {
    "duration": 687,
    "start_time": "2021-09-29T17:01:37.464Z"
   },
   {
    "duration": 8,
    "start_time": "2021-09-29T17:01:38.312Z"
   },
   {
    "duration": 9178,
    "start_time": "2021-09-29T17:01:40.596Z"
   },
   {
    "duration": -973,
    "start_time": "2021-09-29T17:01:50.750Z"
   },
   {
    "duration": -980,
    "start_time": "2021-09-29T17:01:50.758Z"
   },
   {
    "duration": 1543,
    "start_time": "2021-09-29T17:01:57.451Z"
   },
   {
    "duration": 105,
    "start_time": "2021-09-29T17:01:58.996Z"
   },
   {
    "duration": 23,
    "start_time": "2021-09-29T17:01:59.104Z"
   },
   {
    "duration": 9,
    "start_time": "2021-09-29T17:01:59.130Z"
   },
   {
    "duration": 76,
    "start_time": "2021-09-29T17:01:59.141Z"
   },
   {
    "duration": 15,
    "start_time": "2021-09-29T17:01:59.219Z"
   },
   {
    "duration": 36,
    "start_time": "2021-09-29T17:01:59.236Z"
   },
   {
    "duration": 14,
    "start_time": "2021-09-29T17:01:59.276Z"
   },
   {
    "duration": 17,
    "start_time": "2021-09-29T17:01:59.293Z"
   },
   {
    "duration": 54,
    "start_time": "2021-09-29T17:01:59.312Z"
   },
   {
    "duration": 21,
    "start_time": "2021-09-29T17:01:59.368Z"
   },
   {
    "duration": 12,
    "start_time": "2021-09-29T17:01:59.392Z"
   },
   {
    "duration": 56,
    "start_time": "2021-09-29T17:01:59.407Z"
   },
   {
    "duration": 347,
    "start_time": "2021-09-29T17:01:59.466Z"
   },
   {
    "duration": 169,
    "start_time": "2021-09-29T17:01:59.816Z"
   },
   {
    "duration": 14,
    "start_time": "2021-09-29T17:01:59.988Z"
   },
   {
    "duration": 29,
    "start_time": "2021-09-29T17:02:00.005Z"
   },
   {
    "duration": 36,
    "start_time": "2021-09-29T17:02:00.037Z"
   },
   {
    "duration": 24,
    "start_time": "2021-09-29T17:02:00.076Z"
   },
   {
    "duration": 12,
    "start_time": "2021-09-29T17:02:00.103Z"
   },
   {
    "duration": 387,
    "start_time": "2021-09-29T17:02:00.118Z"
   },
   {
    "duration": 9,
    "start_time": "2021-09-29T17:02:00.508Z"
   },
   {
    "duration": 29,
    "start_time": "2021-09-29T17:02:00.521Z"
   },
   {
    "duration": 35,
    "start_time": "2021-09-29T17:02:00.553Z"
   },
   {
    "duration": 37,
    "start_time": "2021-09-29T17:02:00.591Z"
   },
   {
    "duration": 23,
    "start_time": "2021-09-29T17:02:00.630Z"
   },
   {
    "duration": 29,
    "start_time": "2021-09-29T17:02:00.655Z"
   },
   {
    "duration": 75,
    "start_time": "2021-09-29T17:02:00.686Z"
   },
   {
    "duration": 54,
    "start_time": "2021-09-29T17:02:00.764Z"
   },
   {
    "duration": 10,
    "start_time": "2021-09-29T17:02:00.820Z"
   },
   {
    "duration": 356,
    "start_time": "2021-09-29T17:02:00.832Z"
   },
   {
    "duration": 520,
    "start_time": "2021-09-29T17:02:01.191Z"
   },
   {
    "duration": -962,
    "start_time": "2021-09-29T17:02:02.675Z"
   },
   {
    "duration": -975,
    "start_time": "2021-09-29T17:02:02.689Z"
   },
   {
    "duration": -990,
    "start_time": "2021-09-29T17:02:02.706Z"
   },
   {
    "duration": -1007,
    "start_time": "2021-09-29T17:02:02.724Z"
   },
   {
    "duration": -1023,
    "start_time": "2021-09-29T17:02:02.741Z"
   },
   {
    "duration": -1040,
    "start_time": "2021-09-29T17:02:02.760Z"
   },
   {
    "duration": -1065,
    "start_time": "2021-09-29T17:02:02.786Z"
   },
   {
    "duration": -1080,
    "start_time": "2021-09-29T17:02:02.802Z"
   },
   {
    "duration": -1085,
    "start_time": "2021-09-29T17:02:02.808Z"
   },
   {
    "duration": 12,
    "start_time": "2021-09-29T17:02:23.216Z"
   },
   {
    "duration": 32,
    "start_time": "2021-09-29T17:02:35.165Z"
   },
   {
    "duration": 8,
    "start_time": "2021-09-29T17:02:37.552Z"
   },
   {
    "duration": 31309,
    "start_time": "2021-09-29T17:03:23.918Z"
   },
   {
    "duration": 18,
    "start_time": "2021-09-29T17:03:55.230Z"
   },
   {
    "duration": 13320,
    "start_time": "2021-09-29T17:03:55.251Z"
   },
   {
    "duration": 106,
    "start_time": "2021-09-29T17:04:08.662Z"
   },
   {
    "duration": 611,
    "start_time": "2021-09-29T17:04:08.771Z"
   },
   {
    "duration": 150,
    "start_time": "2021-09-29T17:04:09.385Z"
   },
   {
    "duration": 45,
    "start_time": "2021-09-29T17:11:04.643Z"
   },
   {
    "duration": 25,
    "start_time": "2021-09-29T17:11:15.931Z"
   },
   {
    "duration": 7,
    "start_time": "2021-09-29T17:11:34.445Z"
   },
   {
    "duration": 10,
    "start_time": "2021-09-29T17:12:24.373Z"
   },
   {
    "duration": 656,
    "start_time": "2021-09-29T17:13:01.235Z"
   },
   {
    "duration": 541,
    "start_time": "2021-09-29T17:13:19.589Z"
   },
   {
    "duration": 234,
    "start_time": "2021-09-29T17:13:30.742Z"
   },
   {
    "duration": 7,
    "start_time": "2021-09-29T17:13:45.078Z"
   },
   {
    "duration": 5,
    "start_time": "2021-09-29T17:14:33.940Z"
   },
   {
    "duration": 7,
    "start_time": "2021-09-29T17:14:41.007Z"
   },
   {
    "duration": 3,
    "start_time": "2021-09-29T17:15:39.123Z"
   },
   {
    "duration": 400,
    "start_time": "2021-09-29T17:15:40.158Z"
   },
   {
    "duration": 30,
    "start_time": "2021-09-29T17:15:56.425Z"
   },
   {
    "duration": 9,
    "start_time": "2021-09-29T17:16:05.811Z"
   },
   {
    "duration": 382,
    "start_time": "2021-09-29T17:16:32.318Z"
   },
   {
    "duration": 7,
    "start_time": "2021-09-29T17:17:06.167Z"
   },
   {
    "duration": 6,
    "start_time": "2021-09-29T17:17:10.024Z"
   },
   {
    "duration": 8,
    "start_time": "2021-09-29T17:17:19.874Z"
   },
   {
    "duration": 11,
    "start_time": "2021-09-29T17:17:30.506Z"
   },
   {
    "duration": 393,
    "start_time": "2021-09-29T17:17:34.663Z"
   },
   {
    "duration": 407,
    "start_time": "2021-09-29T17:17:48.915Z"
   },
   {
    "duration": 5,
    "start_time": "2021-09-29T17:18:13.500Z"
   },
   {
    "duration": 14,
    "start_time": "2021-09-29T17:18:14.177Z"
   },
   {
    "duration": 1912,
    "start_time": "2021-09-29T17:18:14.669Z"
   },
   {
    "duration": 6,
    "start_time": "2021-09-29T17:19:49.342Z"
   },
   {
    "duration": 341,
    "start_time": "2021-09-29T17:20:11.592Z"
   },
   {
    "duration": 351,
    "start_time": "2021-09-29T17:20:23.346Z"
   },
   {
    "duration": 348,
    "start_time": "2021-09-29T17:25:15.713Z"
   },
   {
    "duration": 6,
    "start_time": "2021-09-29T17:25:25.116Z"
   },
   {
    "duration": 355,
    "start_time": "2021-09-29T17:26:50.598Z"
   },
   {
    "duration": 34,
    "start_time": "2021-09-29T17:29:07.216Z"
   },
   {
    "duration": 8,
    "start_time": "2021-09-29T17:29:08.438Z"
   },
   {
    "duration": 31466,
    "start_time": "2021-09-29T17:29:08.858Z"
   },
   {
    "duration": 17,
    "start_time": "2021-09-29T17:29:40.327Z"
   },
   {
    "duration": 34168,
    "start_time": "2021-09-29T17:30:45.386Z"
   },
   {
    "duration": 34036,
    "start_time": "2021-09-29T17:31:32.246Z"
   },
   {
    "duration": 22,
    "start_time": "2021-09-29T17:32:06.285Z"
   },
   {
    "duration": 361,
    "start_time": "2021-09-29T17:32:50.563Z"
   },
   {
    "duration": 12861,
    "start_time": "2021-09-29T17:32:54.303Z"
   },
   {
    "duration": 195,
    "start_time": "2021-09-29T17:33:07.166Z"
   },
   {
    "duration": 508,
    "start_time": "2021-09-29T17:33:07.366Z"
   },
   {
    "duration": 130,
    "start_time": "2021-09-29T17:33:07.876Z"
   },
   {
    "duration": 365,
    "start_time": "2021-09-29T17:33:08.008Z"
   },
   {
    "duration": 31,
    "start_time": "2021-09-29T17:36:42.196Z"
   },
   {
    "duration": 10,
    "start_time": "2021-09-29T17:36:45.003Z"
   },
   {
    "duration": 9718,
    "start_time": "2021-09-29T17:36:46.816Z"
   },
   {
    "duration": 1496,
    "start_time": "2021-09-29T17:37:28.201Z"
   },
   {
    "duration": 105,
    "start_time": "2021-09-29T17:37:29.699Z"
   },
   {
    "duration": 23,
    "start_time": "2021-09-29T17:37:29.807Z"
   },
   {
    "duration": 8,
    "start_time": "2021-09-29T17:37:29.833Z"
   },
   {
    "duration": 73,
    "start_time": "2021-09-29T17:37:29.844Z"
   },
   {
    "duration": 9,
    "start_time": "2021-09-29T17:37:29.920Z"
   },
   {
    "duration": 41,
    "start_time": "2021-09-29T17:37:29.931Z"
   },
   {
    "duration": 16,
    "start_time": "2021-09-29T17:37:29.976Z"
   },
   {
    "duration": 13,
    "start_time": "2021-09-29T17:37:29.996Z"
   },
   {
    "duration": 67,
    "start_time": "2021-09-29T17:37:30.012Z"
   },
   {
    "duration": 20,
    "start_time": "2021-09-29T17:37:30.081Z"
   },
   {
    "duration": 14,
    "start_time": "2021-09-29T17:37:30.103Z"
   },
   {
    "duration": 57,
    "start_time": "2021-09-29T17:37:30.120Z"
   },
   {
    "duration": 344,
    "start_time": "2021-09-29T17:37:30.179Z"
   },
   {
    "duration": 167,
    "start_time": "2021-09-29T17:37:30.525Z"
   },
   {
    "duration": 14,
    "start_time": "2021-09-29T17:37:30.694Z"
   },
   {
    "duration": 35,
    "start_time": "2021-09-29T17:37:30.711Z"
   },
   {
    "duration": 17,
    "start_time": "2021-09-29T17:37:30.762Z"
   },
   {
    "duration": 28,
    "start_time": "2021-09-29T17:37:30.782Z"
   },
   {
    "duration": 13,
    "start_time": "2021-09-29T17:37:30.813Z"
   },
   {
    "duration": 176,
    "start_time": "2021-09-29T17:37:30.829Z"
   },
   {
    "duration": 9,
    "start_time": "2021-09-29T17:37:31.007Z"
   },
   {
    "duration": 12,
    "start_time": "2021-09-29T17:37:31.021Z"
   },
   {
    "duration": 31,
    "start_time": "2021-09-29T17:37:31.036Z"
   },
   {
    "duration": 31,
    "start_time": "2021-09-29T17:37:31.070Z"
   },
   {
    "duration": 22,
    "start_time": "2021-09-29T17:37:31.103Z"
   },
   {
    "duration": 34,
    "start_time": "2021-09-29T17:37:31.128Z"
   },
   {
    "duration": 78,
    "start_time": "2021-09-29T17:37:31.164Z"
   },
   {
    "duration": 58,
    "start_time": "2021-09-29T17:37:31.245Z"
   },
   {
    "duration": 12,
    "start_time": "2021-09-29T17:37:31.306Z"
   },
   {
    "duration": 355,
    "start_time": "2021-09-29T17:37:31.320Z"
   },
   {
    "duration": 14,
    "start_time": "2021-09-29T17:37:31.678Z"
   },
   {
    "duration": 50,
    "start_time": "2021-09-29T17:37:31.694Z"
   },
   {
    "duration": 20,
    "start_time": "2021-09-29T17:37:31.747Z"
   },
   {
    "duration": 11220,
    "start_time": "2021-09-29T17:37:31.769Z"
   },
   {
    "duration": -1038,
    "start_time": "2021-09-29T17:37:44.030Z"
   },
   {
    "duration": -1050,
    "start_time": "2021-09-29T17:37:44.043Z"
   },
   {
    "duration": -1058,
    "start_time": "2021-09-29T17:37:44.052Z"
   },
   {
    "duration": -1066,
    "start_time": "2021-09-29T17:37:44.062Z"
   },
   {
    "duration": -1073,
    "start_time": "2021-09-29T17:37:44.070Z"
   },
   {
    "duration": -1080,
    "start_time": "2021-09-29T17:37:44.078Z"
   },
   {
    "duration": -1086,
    "start_time": "2021-09-29T17:37:44.086Z"
   },
   {
    "duration": -1092,
    "start_time": "2021-09-29T17:37:44.093Z"
   },
   {
    "duration": 32,
    "start_time": "2021-09-29T17:38:03.909Z"
   },
   {
    "duration": 9,
    "start_time": "2021-09-29T17:38:08.023Z"
   },
   {
    "duration": 9657,
    "start_time": "2021-09-29T17:38:10.634Z"
   },
   {
    "duration": 10008,
    "start_time": "2021-09-29T17:38:25.574Z"
   },
   {
    "duration": 96,
    "start_time": "2021-09-29T17:39:27.658Z"
   },
   {
    "duration": 9,
    "start_time": "2021-09-29T17:39:29.217Z"
   },
   {
    "duration": 125,
    "start_time": "2021-09-29T17:39:30.063Z"
   },
   {
    "duration": 2188,
    "start_time": "2021-09-29T17:39:39.513Z"
   },
   {
    "duration": 17,
    "start_time": "2021-09-29T17:39:46.478Z"
   },
   {
    "duration": 400,
    "start_time": "2021-09-29T17:39:47.624Z"
   },
   {
    "duration": 17696,
    "start_time": "2021-09-29T17:40:03.366Z"
   },
   {
    "duration": 407,
    "start_time": "2021-09-29T17:40:28.378Z"
   },
   {
    "duration": 6,
    "start_time": "2021-09-29T17:40:55.377Z"
   },
   {
    "duration": 447,
    "start_time": "2021-09-29T17:42:26.960Z"
   },
   {
    "duration": 37,
    "start_time": "2021-09-29T17:44:30.326Z"
   },
   {
    "duration": 36,
    "start_time": "2021-09-29T17:44:52.703Z"
   },
   {
    "duration": 8,
    "start_time": "2021-09-29T17:44:54.729Z"
   },
   {
    "duration": 33121,
    "start_time": "2021-09-29T17:45:57.782Z"
   },
   {
    "duration": 31736,
    "start_time": "2021-09-29T17:47:09.219Z"
   },
   {
    "duration": 32140,
    "start_time": "2021-09-29T17:48:22.291Z"
   },
   {
    "duration": 32965,
    "start_time": "2021-09-29T17:49:52.571Z"
   },
   {
    "duration": 33961,
    "start_time": "2021-09-29T17:50:36.040Z"
   },
   {
    "duration": 33571,
    "start_time": "2021-09-29T17:52:31.900Z"
   },
   {
    "duration": 45151,
    "start_time": "2021-09-29T17:53:17.738Z"
   },
   {
    "duration": 26776,
    "start_time": "2021-09-29T17:54:02.891Z"
   },
   {
    "duration": 198,
    "start_time": "2021-09-29T17:54:29.670Z"
   },
   {
    "duration": 574,
    "start_time": "2021-09-29T17:54:29.872Z"
   },
   {
    "duration": 33120,
    "start_time": "2021-09-29T17:54:30.449Z"
   },
   {
    "duration": 134,
    "start_time": "2021-09-29T17:55:03.571Z"
   },
   {
    "duration": 596,
    "start_time": "2021-09-29T17:55:03.708Z"
   },
   {
    "duration": 394,
    "start_time": "2021-09-29T17:58:18.799Z"
   },
   {
    "duration": 34115,
    "start_time": "2021-09-29T17:59:02.684Z"
   },
   {
    "duration": 35117,
    "start_time": "2021-09-29T17:59:48.132Z"
   },
   {
    "duration": 15,
    "start_time": "2021-09-29T18:00:23.252Z"
   },
   {
    "duration": 150,
    "start_time": "2021-10-01T06:26:26.952Z"
   },
   {
    "duration": 145,
    "start_time": "2022-01-02T19:19:45.149Z"
   },
   {
    "duration": 110,
    "start_time": "2022-01-02T19:19:55.931Z"
   },
   {
    "duration": 99,
    "start_time": "2022-01-02T19:20:04.310Z"
   },
   {
    "duration": 1214,
    "start_time": "2022-01-02T19:20:57.971Z"
   },
   {
    "duration": 1109,
    "start_time": "2022-01-02T19:21:03.287Z"
   },
   {
    "duration": 1059,
    "start_time": "2022-01-02T19:21:19.160Z"
   },
   {
    "duration": 1221,
    "start_time": "2022-01-02T19:21:23.503Z"
   },
   {
    "duration": 159,
    "start_time": "2022-01-02T19:21:59.235Z"
   },
   {
    "duration": 94,
    "start_time": "2022-01-02T19:22:07.586Z"
   },
   {
    "duration": 223,
    "start_time": "2022-01-02T19:22:24.416Z"
   },
   {
    "duration": 92,
    "start_time": "2022-01-02T19:24:03.890Z"
   },
   {
    "duration": 91,
    "start_time": "2022-01-02T19:24:27.891Z"
   },
   {
    "duration": 104,
    "start_time": "2022-01-02T19:24:51.748Z"
   },
   {
    "duration": 3,
    "start_time": "2022-01-02T19:29:53.592Z"
   },
   {
    "duration": 71,
    "start_time": "2022-01-02T19:30:48.936Z"
   },
   {
    "duration": 78,
    "start_time": "2022-01-02T19:30:52.817Z"
   },
   {
    "duration": 80,
    "start_time": "2022-01-02T19:31:00.972Z"
   },
   {
    "duration": 67,
    "start_time": "2022-01-02T19:31:09.538Z"
   },
   {
    "duration": 71,
    "start_time": "2022-01-02T19:31:17.090Z"
   },
   {
    "duration": 69,
    "start_time": "2022-01-02T19:31:25.358Z"
   },
   {
    "duration": 240,
    "start_time": "2022-01-02T19:31:31.944Z"
   },
   {
    "duration": 244,
    "start_time": "2022-01-02T19:31:48.689Z"
   },
   {
    "duration": 1128,
    "start_time": "2022-01-02T19:32:12.267Z"
   },
   {
    "duration": 254,
    "start_time": "2022-01-02T19:32:13.397Z"
   },
   {
    "duration": 16,
    "start_time": "2022-01-02T19:32:13.653Z"
   },
   {
    "duration": 6,
    "start_time": "2022-01-02T19:32:13.671Z"
   },
   {
    "duration": 38,
    "start_time": "2022-01-02T19:32:13.679Z"
   },
   {
    "duration": 6,
    "start_time": "2022-01-02T19:32:13.719Z"
   },
   {
    "duration": 19,
    "start_time": "2022-01-02T19:32:13.727Z"
   },
   {
    "duration": 9,
    "start_time": "2022-01-02T19:32:13.761Z"
   },
   {
    "duration": 10,
    "start_time": "2022-01-02T19:32:13.772Z"
   },
   {
    "duration": 16,
    "start_time": "2022-01-02T19:32:13.784Z"
   },
   {
    "duration": 14,
    "start_time": "2022-01-02T19:32:13.802Z"
   },
   {
    "duration": 10,
    "start_time": "2022-01-02T19:32:13.817Z"
   },
   {
    "duration": 49,
    "start_time": "2022-01-02T19:32:13.828Z"
   },
   {
    "duration": 203,
    "start_time": "2022-01-02T19:32:13.879Z"
   },
   {
    "duration": 102,
    "start_time": "2022-01-02T19:32:14.083Z"
   },
   {
    "duration": 10,
    "start_time": "2022-01-02T19:32:14.186Z"
   },
   {
    "duration": 11,
    "start_time": "2022-01-02T19:32:14.198Z"
   },
   {
    "duration": 12,
    "start_time": "2022-01-02T19:32:14.210Z"
   },
   {
    "duration": 37,
    "start_time": "2022-01-02T19:32:14.223Z"
   },
   {
    "duration": 3,
    "start_time": "2022-01-02T19:32:14.262Z"
   },
   {
    "duration": 102,
    "start_time": "2022-01-02T19:32:14.267Z"
   },
   {
    "duration": 6,
    "start_time": "2022-01-02T19:32:14.371Z"
   },
   {
    "duration": 4,
    "start_time": "2022-01-02T19:32:14.381Z"
   },
   {
    "duration": 8,
    "start_time": "2022-01-02T19:32:14.387Z"
   },
   {
    "duration": 10,
    "start_time": "2022-01-02T19:32:14.397Z"
   },
   {
    "duration": 9,
    "start_time": "2022-01-02T19:32:14.409Z"
   },
   {
    "duration": 9,
    "start_time": "2022-01-02T19:32:14.419Z"
   },
   {
    "duration": 33,
    "start_time": "2022-01-02T19:32:14.429Z"
   },
   {
    "duration": 385,
    "start_time": "2022-01-02T19:32:14.464Z"
   },
   {
    "duration": -5825,
    "start_time": "2022-01-02T19:32:20.676Z"
   },
   {
    "duration": -5829,
    "start_time": "2022-01-02T19:32:20.681Z"
   },
   {
    "duration": -5843,
    "start_time": "2022-01-02T19:32:20.696Z"
   },
   {
    "duration": -5849,
    "start_time": "2022-01-02T19:32:20.703Z"
   },
   {
    "duration": -5856,
    "start_time": "2022-01-02T19:32:20.711Z"
   },
   {
    "duration": -5860,
    "start_time": "2022-01-02T19:32:20.716Z"
   },
   {
    "duration": -5863,
    "start_time": "2022-01-02T19:32:20.720Z"
   },
   {
    "duration": -5864,
    "start_time": "2022-01-02T19:32:20.723Z"
   },
   {
    "duration": -5866,
    "start_time": "2022-01-02T19:32:20.726Z"
   },
   {
    "duration": -5870,
    "start_time": "2022-01-02T19:32:20.730Z"
   },
   {
    "duration": -5872,
    "start_time": "2022-01-02T19:32:20.733Z"
   },
   {
    "duration": -5874,
    "start_time": "2022-01-02T19:32:20.736Z"
   },
   {
    "duration": -5876,
    "start_time": "2022-01-02T19:32:20.739Z"
   },
   {
    "duration": -5878,
    "start_time": "2022-01-02T19:32:20.743Z"
   },
   {
    "duration": 163,
    "start_time": "2022-01-02T19:33:25.238Z"
   },
   {
    "duration": 245,
    "start_time": "2022-01-02T19:33:34.896Z"
   },
   {
    "duration": 802,
    "start_time": "2022-01-02T19:33:51.612Z"
   },
   {
    "duration": 269,
    "start_time": "2022-01-02T19:34:05.414Z"
   },
   {
    "duration": 1137,
    "start_time": "2022-01-02T19:34:15.929Z"
   },
   {
    "duration": 841,
    "start_time": "2022-01-02T19:34:26.455Z"
   },
   {
    "duration": 842,
    "start_time": "2022-01-02T19:34:32.080Z"
   },
   {
    "duration": 43,
    "start_time": "2022-01-02T19:34:37.209Z"
   },
   {
    "duration": 1235,
    "start_time": "2022-01-02T19:34:57.097Z"
   },
   {
    "duration": 3,
    "start_time": "2022-01-02T19:35:29.633Z"
   },
   {
    "duration": 220,
    "start_time": "2022-01-02T19:35:31.669Z"
   },
   {
    "duration": 14,
    "start_time": "2022-01-02T19:35:31.891Z"
   },
   {
    "duration": 7,
    "start_time": "2022-01-02T19:35:32.182Z"
   },
   {
    "duration": 39,
    "start_time": "2022-01-02T19:35:32.474Z"
   },
   {
    "duration": 7,
    "start_time": "2022-01-02T19:35:32.803Z"
   },
   {
    "duration": 12,
    "start_time": "2022-01-02T19:35:32.982Z"
   },
   {
    "duration": 11,
    "start_time": "2022-01-02T19:35:33.330Z"
   },
   {
    "duration": 9,
    "start_time": "2022-01-02T19:35:33.817Z"
   },
   {
    "duration": 15,
    "start_time": "2022-01-02T19:35:34.177Z"
   },
   {
    "duration": 14,
    "start_time": "2022-01-02T19:35:34.359Z"
   },
   {
    "duration": 9,
    "start_time": "2022-01-02T19:35:34.725Z"
   },
   {
    "duration": 18,
    "start_time": "2022-01-02T19:35:34.919Z"
   },
   {
    "duration": 186,
    "start_time": "2022-01-02T19:35:35.250Z"
   },
   {
    "duration": 94,
    "start_time": "2022-01-02T19:35:35.819Z"
   },
   {
    "duration": 10,
    "start_time": "2022-01-02T19:35:37.853Z"
   },
   {
    "duration": 17,
    "start_time": "2022-01-02T19:35:38.099Z"
   },
   {
    "duration": 11,
    "start_time": "2022-01-02T19:35:38.956Z"
   },
   {
    "duration": 12,
    "start_time": "2022-01-02T19:35:39.236Z"
   },
   {
    "duration": 5,
    "start_time": "2022-01-02T19:35:39.960Z"
   },
   {
    "duration": 99,
    "start_time": "2022-01-02T19:35:40.610Z"
   },
   {
    "duration": 8,
    "start_time": "2022-01-02T19:35:42.783Z"
   },
   {
    "duration": 5,
    "start_time": "2022-01-02T19:35:43.071Z"
   },
   {
    "duration": 9,
    "start_time": "2022-01-02T19:35:43.242Z"
   },
   {
    "duration": 11,
    "start_time": "2022-01-02T19:35:44.125Z"
   },
   {
    "duration": 10,
    "start_time": "2022-01-02T19:35:44.382Z"
   },
   {
    "duration": 7,
    "start_time": "2022-01-02T19:35:44.597Z"
   },
   {
    "duration": 4,
    "start_time": "2022-01-02T19:35:45.286Z"
   },
   {
    "duration": 96,
    "start_time": "2022-01-02T19:35:45.752Z"
   },
   {
    "duration": 3,
    "start_time": "2022-01-02T19:36:15.103Z"
   },
   {
    "duration": 57,
    "start_time": "2022-01-02T19:36:16.966Z"
   },
   {
    "duration": 3,
    "start_time": "2022-01-02T19:36:26.235Z"
   },
   {
    "duration": 55,
    "start_time": "2022-01-02T19:36:26.971Z"
   },
   {
    "duration": 3,
    "start_time": "2022-01-02T19:36:35.445Z"
   },
   {
    "duration": 55,
    "start_time": "2022-01-02T19:36:36.762Z"
   },
   {
    "duration": 3,
    "start_time": "2022-01-02T19:36:46.772Z"
   },
   {
    "duration": 56,
    "start_time": "2022-01-02T19:36:47.357Z"
   },
   {
    "duration": 5,
    "start_time": "2022-01-02T19:37:04.007Z"
   },
   {
    "duration": 54,
    "start_time": "2022-01-02T19:37:04.455Z"
   },
   {
    "duration": 3,
    "start_time": "2022-01-02T19:37:18.290Z"
   },
   {
    "duration": 52,
    "start_time": "2022-01-02T19:37:18.805Z"
   },
   {
    "duration": 58,
    "start_time": "2022-01-02T19:37:29.482Z"
   },
   {
    "duration": 37,
    "start_time": "2022-01-02T19:37:45.929Z"
   },
   {
    "duration": 203,
    "start_time": "2022-01-02T19:37:47.088Z"
   },
   {
    "duration": 9,
    "start_time": "2022-01-02T19:37:47.645Z"
   },
   {
    "duration": 22,
    "start_time": "2022-01-02T19:37:49.330Z"
   },
   {
    "duration": 7,
    "start_time": "2022-01-02T19:37:50.465Z"
   },
   {
    "duration": 14251,
    "start_time": "2022-01-02T19:37:51.453Z"
   },
   {
    "duration": 13,
    "start_time": "2022-01-02T19:38:05.705Z"
   },
   {
    "duration": 244,
    "start_time": "2022-01-02T19:38:05.721Z"
   },
   {
    "duration": 26099,
    "start_time": "2022-01-02T19:38:05.967Z"
   },
   {
    "duration": 20393,
    "start_time": "2022-01-02T19:38:32.068Z"
   },
   {
    "duration": 197,
    "start_time": "2022-01-02T19:38:52.463Z"
   },
   {
    "duration": 434,
    "start_time": "2022-01-02T19:38:52.663Z"
   },
   {
    "duration": 85,
    "start_time": "2022-01-02T19:38:53.100Z"
   },
   {
    "duration": 214,
    "start_time": "2022-01-02T19:38:53.187Z"
   }
  ],
  "interpreter": {
   "hash": "054c0128ae785496ec715fe55dc407401ac17e534a17f921fadf0b2704e9e719"
  },
  "kernelspec": {
   "display_name": "Python 3",
   "language": "python",
   "name": "python3"
  },
  "language_info": {
   "codemirror_mode": {
    "name": "ipython",
    "version": 3
   },
   "file_extension": ".py",
   "mimetype": "text/x-python",
   "name": "python",
   "nbconvert_exporter": "python",
   "pygments_lexer": "ipython3",
   "version": "3.7.8"
  },
  "toc": {
   "base_numbering": 1,
   "nav_menu": {},
   "number_sections": true,
   "sideBar": true,
   "skip_h1_title": true,
   "title_cell": "Table of Contents",
   "title_sidebar": "Contents",
   "toc_cell": false,
   "toc_position": {},
   "toc_section_display": true,
   "toc_window_display": false
  }
 },
 "nbformat": 4,
 "nbformat_minor": 2
}
