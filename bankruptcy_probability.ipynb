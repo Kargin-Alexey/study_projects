{
  "nbformat": 4,
  "nbformat_minor": 0,
  "metadata": {
    "colab": {
      "name": "bankruptcy_probability.ipynb",
      "provenance": [],
      "collapsed_sections": [],
      "authorship_tag": "ABX9TyPkLxTTYokxxuS7ZxzYU+ls",
      "include_colab_link": true
    },
    "kernelspec": {
      "name": "python3",
      "display_name": "Python 3"
    },
    "language_info": {
      "name": "python"
    }
  },
  "cells": [
    {
      "cell_type": "markdown",
      "metadata": {
        "id": "view-in-github",
        "colab_type": "text"
      },
      "source": [
        "<a href=\"https://colab.research.google.com/github/Kargin-Alexey/study_projects/blob/main/bankruptcy_probability.ipynb\" target=\"_parent\"><img src=\"https://colab.research.google.com/assets/colab-badge.svg\" alt=\"Open In Colab\"/></a>"
      ]
    },
    {
      "cell_type": "markdown",
      "metadata": {
        "id": "hOqMdJK0NbRb"
      },
      "source": [
        "https://drive.google.com/file/d/153R-0DSRQdTDXCK--EbVQcehjyzzskpR/view?usp=sharing    \n",
        "ссылка на использованные данные "
      ]
    },
    {
      "cell_type": "markdown",
      "metadata": {
        "id": "ycUJ9aLCUVpB"
      },
      "source": [
        "# Описание\n",
        "Необходимо построить предиктивную модель, которая на основании открытых данных о судах и бухгалтерской отчетности позволит спрогнозировать вероятность банкротства компании. \n",
        "Необходимо сделать:\n",
        "1.\tСобрать из предложенных файлов датасет.\n",
        "2.\tПровести EDA, отобрать фичи и сгенерировать новые.\n",
        "3.\tОбучить модель.\n",
        "4.\tСобрать исполняемый код, который можно будет запустить на проде: на вход будет получать файлы аналогичного формата (по одному), возвращать должен прогнозное значение."
      ]
    },
    {
      "cell_type": "markdown",
      "metadata": {
        "id": "O9M5fj_-Z50v"
      },
      "source": [
        "# Выгрузка файлов и формирование датасета"
      ]
    },
    {
      "cell_type": "code",
      "metadata": {
        "id": "Yuzy4aDFt1TE"
      },
      "source": [
        "!pip3 install catboost"
      ],
      "execution_count": null,
      "outputs": []
    },
    {
      "cell_type": "code",
      "metadata": {
        "id": "MowvyQDAPQKk"
      },
      "source": [
        "import pandas as pd\n",
        "import numpy as np\n",
        "import matplotlib.pyplot as plt\n",
        "import seaborn as sb\n",
        "import pickle\n",
        "import os\n",
        "from tqdm import tqdm\n",
        "\n",
        "from sklearn.metrics import precision_score , f1_score, recall_score,accuracy_score\n",
        "from sklearn.model_selection import train_test_split\n",
        "from sklearn.linear_model import LogisticRegression\n",
        "from catboost import CatBoostClassifier\n",
        "from sklearn.preprocessing  import StandardScaler"
      ],
      "execution_count": null,
      "outputs": []
    },
    {
      "cell_type": "markdown",
      "metadata": {
        "id": "QSEMc47UaDwR"
      },
      "source": [
        "Загрузка файлов из облака"
      ]
    },
    {
      "cell_type": "code",
      "metadata": {
        "colab": {
          "base_uri": "https://localhost:8080/"
        },
        "id": "PvLEdoQsL-4I",
        "outputId": "06630b62-cc78-4a45-c58b-98535962310b"
      },
      "source": [
        "! gdown --id 153R-0DSRQdTDXCK--EbVQcehjyzzskpR"
      ],
      "execution_count": null,
      "outputs": [
        {
          "output_type": "stream",
          "text": [
            "Downloading...\n",
            "From: https://drive.google.com/uc?id=153R-0DSRQdTDXCK--EbVQcehjyzzskpR\n",
            "To: /content/Sample_Task.zip\n",
            "\r0.00B [00:00, ?B/s]\r8.38MB [00:00, 132MB/s]\n"
          ],
          "name": "stdout"
        }
      ]
    },
    {
      "cell_type": "markdown",
      "metadata": {
        "id": "W2kUVnVBaTmw"
      },
      "source": [
        "Распаковка зип файла и чтение датасетов"
      ]
    },
    {
      "cell_type": "code",
      "metadata": {
        "colab": {
          "base_uri": "https://localhost:8080/"
        },
        "id": "1syygBPXNjvq",
        "outputId": "bd5173f1-5cca-4dac-dca6-a308c262a32d"
      },
      "source": [
        "! unzip /content/Sample_Task.zip"
      ],
      "execution_count": null,
      "outputs": [
        {
          "output_type": "stream",
          "text": [
            "Archive:  /content/Sample_Task.zip\n",
            "replace court_cases_sample.zip? [y]es, [n]o, [A]ll, [N]one, [r]ename: n\n",
            "replace df_accounts_sample.csv? [y]es, [n]o, [A]ll, [N]one, [r]ename: n\n",
            "replace df_bankruptcies_sample.csv? [y]es, [n]o, [A]ll, [N]one, [r]ename: n\n",
            "replace Описание задачи.docx? [y]es, [n]o, [A]ll, [N]one, [r]ename: n\n"
          ],
          "name": "stdout"
        }
      ]
    },
    {
      "cell_type": "code",
      "metadata": {
        "id": "jcKDGL7ONpYr"
      },
      "source": [
        "accounts_sample = pd.read_csv('/content/df_accounts_sample.csv',index_col=0)\n",
        "bankruptcies_sample = pd.read_csv('/content/df_bankruptcies_sample.csv',index_col=0)"
      ],
      "execution_count": null,
      "outputs": []
    },
    {
      "cell_type": "code",
      "metadata": {
        "id": "FSQSx_6JRsit",
        "colab": {
          "base_uri": "https://localhost:8080/"
        },
        "outputId": "2f2e6539-9672-4fff-c67b-a5a84d6260f5"
      },
      "source": [
        "! unzip /content/court_cases_sample.zip"
      ],
      "execution_count": null,
      "outputs": [
        {
          "output_type": "stream",
          "text": [
            "Archive:  /content/court_cases_sample.zip\n",
            "replace success/7736609147_b.pkl? [y]es, [n]o, [A]ll, [N]one, [r]ename: "
          ],
          "name": "stdout"
        }
      ]
    },
    {
      "cell_type": "code",
      "metadata": {
        "id": "qmOcSOGDOQVJ",
        "colab": {
          "base_uri": "https://localhost:8080/",
          "height": 195
        },
        "outputId": "a750ba15-f4d8-4f7e-b1ed-9aef14e4a8cc"
      },
      "source": [
        "accounts_sample.head()"
      ],
      "execution_count": null,
      "outputs": [
        {
          "output_type": "execute_result",
          "data": {
            "text/html": [
              "<div>\n",
              "<style scoped>\n",
              "    .dataframe tbody tr th:only-of-type {\n",
              "        vertical-align: middle;\n",
              "    }\n",
              "\n",
              "    .dataframe tbody tr th {\n",
              "        vertical-align: top;\n",
              "    }\n",
              "\n",
              "    .dataframe thead th {\n",
              "        text-align: right;\n",
              "    }\n",
              "</style>\n",
              "<table border=\"1\" class=\"dataframe\">\n",
              "  <thead>\n",
              "    <tr style=\"text-align: right;\">\n",
              "      <th></th>\n",
              "      <th>inn</th>\n",
              "      <th>year</th>\n",
              "      <th>long_term_liabilities_fiscal_year</th>\n",
              "      <th>short_term_liabilities_fiscal_year</th>\n",
              "      <th>balance_assets_fiscal_year</th>\n",
              "      <th>okei</th>\n",
              "    </tr>\n",
              "  </thead>\n",
              "  <tbody>\n",
              "    <tr>\n",
              "      <th>0</th>\n",
              "      <td>2465002653</td>\n",
              "      <td>2012</td>\n",
              "      <td>0.0</td>\n",
              "      <td>113756</td>\n",
              "      <td>122240</td>\n",
              "      <td>384</td>\n",
              "    </tr>\n",
              "    <tr>\n",
              "      <th>1</th>\n",
              "      <td>3505003270</td>\n",
              "      <td>2012</td>\n",
              "      <td>21461.0</td>\n",
              "      <td>20211</td>\n",
              "      <td>81132</td>\n",
              "      <td>384</td>\n",
              "    </tr>\n",
              "    <tr>\n",
              "      <th>2</th>\n",
              "      <td>3517003250</td>\n",
              "      <td>2012</td>\n",
              "      <td>0.0</td>\n",
              "      <td>0</td>\n",
              "      <td>48063</td>\n",
              "      <td>384</td>\n",
              "    </tr>\n",
              "    <tr>\n",
              "      <th>3</th>\n",
              "      <td>5501078737</td>\n",
              "      <td>2012</td>\n",
              "      <td>0.0</td>\n",
              "      <td>288763</td>\n",
              "      <td>419522</td>\n",
              "      <td>384</td>\n",
              "    </tr>\n",
              "    <tr>\n",
              "      <th>4</th>\n",
              "      <td>6140019517</td>\n",
              "      <td>2012</td>\n",
              "      <td>0.0</td>\n",
              "      <td>0</td>\n",
              "      <td>11089</td>\n",
              "      <td>384</td>\n",
              "    </tr>\n",
              "  </tbody>\n",
              "</table>\n",
              "</div>"
            ],
            "text/plain": [
              "          inn  year  ...  balance_assets_fiscal_year  okei\n",
              "0  2465002653  2012  ...                      122240   384\n",
              "1  3505003270  2012  ...                       81132   384\n",
              "2  3517003250  2012  ...                       48063   384\n",
              "3  5501078737  2012  ...                      419522   384\n",
              "4  6140019517  2012  ...                       11089   384\n",
              "\n",
              "[5 rows x 6 columns]"
            ]
          },
          "metadata": {
            "tags": []
          },
          "execution_count": 7
        }
      ]
    },
    {
      "cell_type": "markdown",
      "metadata": {
        "id": "w7J2RJ8-dBef"
      },
      "source": [
        "Значения признаков по столбцам в ***accounts_sample***:    \n",
        "***inn***- инн компании    \n",
        "***year*** - год, в котором собраны данные     \n",
        "***long_term_liabilities_fiscal_year***- долгосрочные обязатесльва компании в рассматриваемом году    \n",
        "***short_term_liabilities_fiscal_year*** - краткосрочные обязатесльва компании в рассматриваемом году    \n",
        "***balance_assets_fiscal_year*** - сумма активов компании    \n",
        "***okei*** - отвечает за единицу измерения `{383:'рубль', 384:'тысяча рублей', 385:'миллион рублей'}`"
      ]
    },
    {
      "cell_type": "code",
      "metadata": {
        "id": "uBYfbvjtbTqI",
        "colab": {
          "base_uri": "https://localhost:8080/",
          "height": 195
        },
        "outputId": "3fb44c5b-199c-410b-a1ab-74f1d8ed4301"
      },
      "source": [
        "bankruptcies_sample.head()"
      ],
      "execution_count": null,
      "outputs": [
        {
          "output_type": "execute_result",
          "data": {
            "text/html": [
              "<div>\n",
              "<style scoped>\n",
              "    .dataframe tbody tr th:only-of-type {\n",
              "        vertical-align: middle;\n",
              "    }\n",
              "\n",
              "    .dataframe tbody tr th {\n",
              "        vertical-align: top;\n",
              "    }\n",
              "\n",
              "    .dataframe thead th {\n",
              "        text-align: right;\n",
              "    }\n",
              "</style>\n",
              "<table border=\"1\" class=\"dataframe\">\n",
              "  <thead>\n",
              "    <tr style=\"text-align: right;\">\n",
              "      <th></th>\n",
              "      <th>bankrupt_id</th>\n",
              "      <th>bancrupt_year</th>\n",
              "      <th>inn</th>\n",
              "    </tr>\n",
              "  </thead>\n",
              "  <tbody>\n",
              "    <tr>\n",
              "      <th>0</th>\n",
              "      <td>79546</td>\n",
              "      <td>2015</td>\n",
              "      <td>5620006322</td>\n",
              "    </tr>\n",
              "    <tr>\n",
              "      <th>1</th>\n",
              "      <td>76594</td>\n",
              "      <td>2015</td>\n",
              "      <td>2111008200</td>\n",
              "    </tr>\n",
              "    <tr>\n",
              "      <th>2</th>\n",
              "      <td>94301</td>\n",
              "      <td>2016</td>\n",
              "      <td>5414100369</td>\n",
              "    </tr>\n",
              "    <tr>\n",
              "      <th>3</th>\n",
              "      <td>93799</td>\n",
              "      <td>2019</td>\n",
              "      <td>2347009476</td>\n",
              "    </tr>\n",
              "    <tr>\n",
              "      <th>4</th>\n",
              "      <td>199671</td>\n",
              "      <td>2018</td>\n",
              "      <td>7224008489</td>\n",
              "    </tr>\n",
              "  </tbody>\n",
              "</table>\n",
              "</div>"
            ],
            "text/plain": [
              "   bankrupt_id  bancrupt_year         inn\n",
              "0        79546           2015  5620006322\n",
              "1        76594           2015  2111008200\n",
              "2        94301           2016  5414100369\n",
              "3        93799           2019  2347009476\n",
              "4       199671           2018  7224008489"
            ]
          },
          "metadata": {
            "tags": []
          },
          "execution_count": 8
        }
      ]
    },
    {
      "cell_type": "markdown",
      "metadata": {
        "id": "eQsZGetfevnw"
      },
      "source": [
        "Значения признаков по столбцам в ***bankruptcies_sample***:    \n",
        "***inn*** - инн компании, оформляющей банкротство   \n",
        "***bancrupt_year*** - год, в котором было оформлено банкротство     \n",
        "***bankrupt_id*** - id банкротства    \n"
      ]
    },
    {
      "cell_type": "code",
      "metadata": {
        "id": "_ethKf6XJn5t",
        "colab": {
          "base_uri": "https://localhost:8080/"
        },
        "outputId": "84c4a536-51f8-4937-d48f-5d30ee291e62"
      },
      "source": [
        "os.listdir('/content')"
      ],
      "execution_count": null,
      "outputs": [
        {
          "output_type": "execute_result",
          "data": {
            "text/plain": [
              "['.config',\n",
              " 'court_cases_sample.zip',\n",
              " 'Описание задачи.docx',\n",
              " 'success',\n",
              " 'catboost_info',\n",
              " 'Sample_Task.zip',\n",
              " 'bankruptcies_model.sav',\n",
              " '__MACOSX',\n",
              " 'court_cases.pkl',\n",
              " 'df_accounts_sample.csv',\n",
              " 'df_bankruptcies_sample.csv',\n",
              " 'sample_data']"
            ]
          },
          "metadata": {
            "tags": []
          },
          "execution_count": 9
        }
      ]
    },
    {
      "cell_type": "markdown",
      "metadata": {
        "id": "2hylMuUuVsIm"
      },
      "source": [
        ""
      ]
    },
    {
      "cell_type": "code",
      "metadata": {
        "id": "QGKwyC77VPKZ",
        "colab": {
          "base_uri": "https://localhost:8080/"
        },
        "outputId": "98bf6a96-ab2c-4c05-a55a-c8b6754e18ff"
      },
      "source": [
        "court_cases = pd.DataFrame(None)\n",
        "date_list=[]\n",
        "for pkl_file in tqdm(os.listdir('/content/success')):\n",
        "  try:\n",
        "    for case in pd.read_pickle(open('success/'+pkl_file,'rb'))['cases_list']:\n",
        "      court_cases = court_cases.append(case['case_sides'])\n",
        "      date_list.append([case['caseDate']]*len(case['case_sides']))\n",
        "  except:\n",
        "    print('success/'+pkl_file)"
      ],
      "execution_count": null,
      "outputs": [
        {
          "output_type": "stream",
          "text": [
            " 12%|█▏        | 24/194 [00:06<00:35,  4.74it/s]"
          ],
          "name": "stderr"
        },
        {
          "output_type": "stream",
          "text": [
            "success/.DS_Store\n"
          ],
          "name": "stdout"
        },
        {
          "output_type": "stream",
          "text": [
            "100%|██████████| 194/194 [01:19<00:00,  2.45it/s]\n"
          ],
          "name": "stderr"
        }
      ]
    },
    {
      "cell_type": "code",
      "metadata": {
        "id": "2-GCrhAlKOkh"
      },
      "source": [
        "all_date_list=[]\n",
        "for date_duplicate in date_list:\n",
        "  for date in date_duplicate:\n",
        "    all_date_list.append(date)"
      ],
      "execution_count": null,
      "outputs": []
    },
    {
      "cell_type": "code",
      "metadata": {
        "id": "HtAk6_QHsiHJ"
      },
      "source": [
        "court_cases['date'] = pd.to_datetime(all_date_list).year"
      ],
      "execution_count": null,
      "outputs": []
    },
    {
      "cell_type": "code",
      "metadata": {
        "id": "63t3Ji-IRAxG",
        "colab": {
          "base_uri": "https://localhost:8080/"
        },
        "outputId": "793c7177-68d6-4314-daad-f5831191f24f"
      },
      "source": [
        "court_cases['type'].unique()"
      ],
      "execution_count": null,
      "outputs": [
        {
          "output_type": "execute_result",
          "data": {
            "text/plain": [
              "array([0, 1, 3, 2])"
            ]
          },
          "metadata": {
            "tags": []
          },
          "execution_count": 13
        }
      ]
    },
    {
      "cell_type": "markdown",
      "metadata": {
        "id": "Uu0u5QA7yR2e"
      },
      "source": [
        "***court_cases*** - таблица с информацией о судебных делах, в которых принимал участие компания.   \n",
        "Значения признаков по столбцам в ***court_cases***:    \n",
        "***type*** - в качествте кого компания принимала участие в суде, значения `{0:'истец', 1:'ответчик', 2:'свидетель'}`    \n",
        "***INN*** - инн компании    \n",
        "Остальные столбцы не представляют для нас интерес."
      ]
    },
    {
      "cell_type": "markdown",
      "metadata": {
        "id": "X-xDuqvs381q"
      },
      "source": [
        "Сформируем признак ***assets_liabilities_ratio*** - отношение всех обязательств к активам компании в таблице ***accounts_sample***.     \n",
        "Из таблице ***bankruptcies_sample*** определим есть ли компании, несколько раз оформлявшие банкротство.         \n",
        "Из таблицы ***court_cases*** определим сколько раз компании участвовали в судебных заседаниях в роли ответчика\n"
      ]
    },
    {
      "cell_type": "code",
      "metadata": {
        "id": "hukn-zJXif10"
      },
      "source": [
        "court_cases.columns = court_cases.columns.str.lower()"
      ],
      "execution_count": null,
      "outputs": []
    },
    {
      "cell_type": "code",
      "metadata": {
        "id": "oGNqHpY4Z0PX",
        "colab": {
          "base_uri": "https://localhost:8080/",
          "height": 304
        },
        "outputId": "f66113e2-8115-431c-cc13-da1600fad3bb"
      },
      "source": [
        "court_cases_pivot = court_cases.query('type==1').pivot_table(index = 'inn',\n",
        "                        columns='date',\n",
        "                        values='type',\n",
        "                        aggfunc='count').fillna(0)\n",
        "court_cases_pivot.describe()"
      ],
      "execution_count": null,
      "outputs": [
        {
          "output_type": "execute_result",
          "data": {
            "text/html": [
              "<div>\n",
              "<style scoped>\n",
              "    .dataframe tbody tr th:only-of-type {\n",
              "        vertical-align: middle;\n",
              "    }\n",
              "\n",
              "    .dataframe tbody tr th {\n",
              "        vertical-align: top;\n",
              "    }\n",
              "\n",
              "    .dataframe thead th {\n",
              "        text-align: right;\n",
              "    }\n",
              "</style>\n",
              "<table border=\"1\" class=\"dataframe\">\n",
              "  <thead>\n",
              "    <tr style=\"text-align: right;\">\n",
              "      <th>date</th>\n",
              "      <th>1991</th>\n",
              "      <th>1992</th>\n",
              "      <th>1993</th>\n",
              "      <th>1995</th>\n",
              "      <th>1997</th>\n",
              "      <th>1998</th>\n",
              "      <th>1999</th>\n",
              "      <th>2000</th>\n",
              "      <th>2001</th>\n",
              "      <th>2002</th>\n",
              "      <th>2003</th>\n",
              "      <th>2004</th>\n",
              "      <th>2005</th>\n",
              "      <th>2006</th>\n",
              "      <th>2007</th>\n",
              "      <th>2008</th>\n",
              "      <th>2009</th>\n",
              "      <th>2010</th>\n",
              "      <th>2011</th>\n",
              "      <th>2012</th>\n",
              "      <th>2013</th>\n",
              "      <th>2014</th>\n",
              "      <th>2015</th>\n",
              "      <th>2016</th>\n",
              "      <th>2017</th>\n",
              "      <th>2018</th>\n",
              "      <th>2019</th>\n",
              "      <th>2020</th>\n",
              "      <th>2021</th>\n",
              "    </tr>\n",
              "  </thead>\n",
              "  <tbody>\n",
              "    <tr>\n",
              "      <th>count</th>\n",
              "      <td>2256.000000</td>\n",
              "      <td>2256.000000</td>\n",
              "      <td>2256.000000</td>\n",
              "      <td>2256.000000</td>\n",
              "      <td>2256.000000</td>\n",
              "      <td>2256.000000</td>\n",
              "      <td>2256.000000</td>\n",
              "      <td>2256.000000</td>\n",
              "      <td>2256.000000</td>\n",
              "      <td>2256.000000</td>\n",
              "      <td>2256.000000</td>\n",
              "      <td>2256.000000</td>\n",
              "      <td>2256.000000</td>\n",
              "      <td>2256.000000</td>\n",
              "      <td>2256.00000</td>\n",
              "      <td>2256.000000</td>\n",
              "      <td>2256.000000</td>\n",
              "      <td>2256.000000</td>\n",
              "      <td>2256.000000</td>\n",
              "      <td>2256.000000</td>\n",
              "      <td>2256.000000</td>\n",
              "      <td>2256.000000</td>\n",
              "      <td>2256.000000</td>\n",
              "      <td>2256.000000</td>\n",
              "      <td>2256.000000</td>\n",
              "      <td>2256.000000</td>\n",
              "      <td>2256.000000</td>\n",
              "      <td>2256.00000</td>\n",
              "      <td>2256.000000</td>\n",
              "    </tr>\n",
              "    <tr>\n",
              "      <th>mean</th>\n",
              "      <td>0.000443</td>\n",
              "      <td>0.000887</td>\n",
              "      <td>0.000887</td>\n",
              "      <td>0.000443</td>\n",
              "      <td>0.000443</td>\n",
              "      <td>0.003103</td>\n",
              "      <td>0.003546</td>\n",
              "      <td>0.001773</td>\n",
              "      <td>0.008422</td>\n",
              "      <td>0.008422</td>\n",
              "      <td>0.003989</td>\n",
              "      <td>0.007979</td>\n",
              "      <td>0.028812</td>\n",
              "      <td>0.062500</td>\n",
              "      <td>0.08422</td>\n",
              "      <td>0.136082</td>\n",
              "      <td>0.205674</td>\n",
              "      <td>0.262855</td>\n",
              "      <td>0.256206</td>\n",
              "      <td>0.431294</td>\n",
              "      <td>0.413121</td>\n",
              "      <td>0.441046</td>\n",
              "      <td>0.470301</td>\n",
              "      <td>0.415780</td>\n",
              "      <td>0.363475</td>\n",
              "      <td>0.367021</td>\n",
              "      <td>0.309397</td>\n",
              "      <td>0.20789</td>\n",
              "      <td>0.074468</td>\n",
              "    </tr>\n",
              "    <tr>\n",
              "      <th>std</th>\n",
              "      <td>0.021054</td>\n",
              "      <td>0.029768</td>\n",
              "      <td>0.042108</td>\n",
              "      <td>0.021054</td>\n",
              "      <td>0.021054</td>\n",
              "      <td>0.081500</td>\n",
              "      <td>0.098709</td>\n",
              "      <td>0.051552</td>\n",
              "      <td>0.225670</td>\n",
              "      <td>0.319950</td>\n",
              "      <td>0.105217</td>\n",
              "      <td>0.165622</td>\n",
              "      <td>0.516309</td>\n",
              "      <td>0.905805</td>\n",
              "      <td>1.00729</td>\n",
              "      <td>1.514047</td>\n",
              "      <td>2.022552</td>\n",
              "      <td>1.899834</td>\n",
              "      <td>1.534801</td>\n",
              "      <td>4.028686</td>\n",
              "      <td>2.746412</td>\n",
              "      <td>2.575697</td>\n",
              "      <td>3.025392</td>\n",
              "      <td>2.282683</td>\n",
              "      <td>2.181961</td>\n",
              "      <td>2.807505</td>\n",
              "      <td>2.448226</td>\n",
              "      <td>1.78134</td>\n",
              "      <td>0.778164</td>\n",
              "    </tr>\n",
              "    <tr>\n",
              "      <th>min</th>\n",
              "      <td>0.000000</td>\n",
              "      <td>0.000000</td>\n",
              "      <td>0.000000</td>\n",
              "      <td>0.000000</td>\n",
              "      <td>0.000000</td>\n",
              "      <td>0.000000</td>\n",
              "      <td>0.000000</td>\n",
              "      <td>0.000000</td>\n",
              "      <td>0.000000</td>\n",
              "      <td>0.000000</td>\n",
              "      <td>0.000000</td>\n",
              "      <td>0.000000</td>\n",
              "      <td>0.000000</td>\n",
              "      <td>0.000000</td>\n",
              "      <td>0.00000</td>\n",
              "      <td>0.000000</td>\n",
              "      <td>0.000000</td>\n",
              "      <td>0.000000</td>\n",
              "      <td>0.000000</td>\n",
              "      <td>0.000000</td>\n",
              "      <td>0.000000</td>\n",
              "      <td>0.000000</td>\n",
              "      <td>0.000000</td>\n",
              "      <td>0.000000</td>\n",
              "      <td>0.000000</td>\n",
              "      <td>0.000000</td>\n",
              "      <td>0.000000</td>\n",
              "      <td>0.00000</td>\n",
              "      <td>0.000000</td>\n",
              "    </tr>\n",
              "    <tr>\n",
              "      <th>25%</th>\n",
              "      <td>0.000000</td>\n",
              "      <td>0.000000</td>\n",
              "      <td>0.000000</td>\n",
              "      <td>0.000000</td>\n",
              "      <td>0.000000</td>\n",
              "      <td>0.000000</td>\n",
              "      <td>0.000000</td>\n",
              "      <td>0.000000</td>\n",
              "      <td>0.000000</td>\n",
              "      <td>0.000000</td>\n",
              "      <td>0.000000</td>\n",
              "      <td>0.000000</td>\n",
              "      <td>0.000000</td>\n",
              "      <td>0.000000</td>\n",
              "      <td>0.00000</td>\n",
              "      <td>0.000000</td>\n",
              "      <td>0.000000</td>\n",
              "      <td>0.000000</td>\n",
              "      <td>0.000000</td>\n",
              "      <td>0.000000</td>\n",
              "      <td>0.000000</td>\n",
              "      <td>0.000000</td>\n",
              "      <td>0.000000</td>\n",
              "      <td>0.000000</td>\n",
              "      <td>0.000000</td>\n",
              "      <td>0.000000</td>\n",
              "      <td>0.000000</td>\n",
              "      <td>0.00000</td>\n",
              "      <td>0.000000</td>\n",
              "    </tr>\n",
              "    <tr>\n",
              "      <th>50%</th>\n",
              "      <td>0.000000</td>\n",
              "      <td>0.000000</td>\n",
              "      <td>0.000000</td>\n",
              "      <td>0.000000</td>\n",
              "      <td>0.000000</td>\n",
              "      <td>0.000000</td>\n",
              "      <td>0.000000</td>\n",
              "      <td>0.000000</td>\n",
              "      <td>0.000000</td>\n",
              "      <td>0.000000</td>\n",
              "      <td>0.000000</td>\n",
              "      <td>0.000000</td>\n",
              "      <td>0.000000</td>\n",
              "      <td>0.000000</td>\n",
              "      <td>0.00000</td>\n",
              "      <td>0.000000</td>\n",
              "      <td>0.000000</td>\n",
              "      <td>0.000000</td>\n",
              "      <td>0.000000</td>\n",
              "      <td>0.000000</td>\n",
              "      <td>0.000000</td>\n",
              "      <td>0.000000</td>\n",
              "      <td>0.000000</td>\n",
              "      <td>0.000000</td>\n",
              "      <td>0.000000</td>\n",
              "      <td>0.000000</td>\n",
              "      <td>0.000000</td>\n",
              "      <td>0.00000</td>\n",
              "      <td>0.000000</td>\n",
              "    </tr>\n",
              "    <tr>\n",
              "      <th>75%</th>\n",
              "      <td>0.000000</td>\n",
              "      <td>0.000000</td>\n",
              "      <td>0.000000</td>\n",
              "      <td>0.000000</td>\n",
              "      <td>0.000000</td>\n",
              "      <td>0.000000</td>\n",
              "      <td>0.000000</td>\n",
              "      <td>0.000000</td>\n",
              "      <td>0.000000</td>\n",
              "      <td>0.000000</td>\n",
              "      <td>0.000000</td>\n",
              "      <td>0.000000</td>\n",
              "      <td>0.000000</td>\n",
              "      <td>0.000000</td>\n",
              "      <td>0.00000</td>\n",
              "      <td>0.000000</td>\n",
              "      <td>0.000000</td>\n",
              "      <td>0.000000</td>\n",
              "      <td>0.000000</td>\n",
              "      <td>0.000000</td>\n",
              "      <td>0.000000</td>\n",
              "      <td>0.000000</td>\n",
              "      <td>0.000000</td>\n",
              "      <td>0.000000</td>\n",
              "      <td>0.000000</td>\n",
              "      <td>0.000000</td>\n",
              "      <td>0.000000</td>\n",
              "      <td>0.00000</td>\n",
              "      <td>0.000000</td>\n",
              "    </tr>\n",
              "    <tr>\n",
              "      <th>max</th>\n",
              "      <td>1.000000</td>\n",
              "      <td>1.000000</td>\n",
              "      <td>2.000000</td>\n",
              "      <td>1.000000</td>\n",
              "      <td>1.000000</td>\n",
              "      <td>3.000000</td>\n",
              "      <td>4.000000</td>\n",
              "      <td>2.000000</td>\n",
              "      <td>10.000000</td>\n",
              "      <td>15.000000</td>\n",
              "      <td>4.000000</td>\n",
              "      <td>6.000000</td>\n",
              "      <td>18.000000</td>\n",
              "      <td>39.000000</td>\n",
              "      <td>38.00000</td>\n",
              "      <td>59.000000</td>\n",
              "      <td>72.000000</td>\n",
              "      <td>58.000000</td>\n",
              "      <td>43.000000</td>\n",
              "      <td>139.000000</td>\n",
              "      <td>106.000000</td>\n",
              "      <td>76.000000</td>\n",
              "      <td>117.000000</td>\n",
              "      <td>81.000000</td>\n",
              "      <td>53.000000</td>\n",
              "      <td>94.000000</td>\n",
              "      <td>64.000000</td>\n",
              "      <td>49.00000</td>\n",
              "      <td>28.000000</td>\n",
              "    </tr>\n",
              "  </tbody>\n",
              "</table>\n",
              "</div>"
            ],
            "text/plain": [
              "date          1991         1992  ...        2020         2021\n",
              "count  2256.000000  2256.000000  ...  2256.00000  2256.000000\n",
              "mean      0.000443     0.000887  ...     0.20789     0.074468\n",
              "std       0.021054     0.029768  ...     1.78134     0.778164\n",
              "min       0.000000     0.000000  ...     0.00000     0.000000\n",
              "25%       0.000000     0.000000  ...     0.00000     0.000000\n",
              "50%       0.000000     0.000000  ...     0.00000     0.000000\n",
              "75%       0.000000     0.000000  ...     0.00000     0.000000\n",
              "max       1.000000     1.000000  ...    49.00000    28.000000\n",
              "\n",
              "[8 rows x 29 columns]"
            ]
          },
          "metadata": {
            "tags": []
          },
          "execution_count": 15
        }
      ]
    },
    {
      "cell_type": "code",
      "metadata": {
        "id": "_r-DiaRR52sh"
      },
      "source": [
        "accounts_sample['assets_liabilities_ratio'] = (accounts_sample[['long_term_liabilities_fiscal_year',\n",
        "                                                               'short_term_liabilities_fiscal_year']].sum(axis=1) / accounts_sample['balance_assets_fiscal_year'])\n",
        "\n",
        "accounts_sample['assets_liabilities_ratio'].replace(np.inf,10**3,inplace=True)"
      ],
      "execution_count": null,
      "outputs": []
    },
    {
      "cell_type": "code",
      "metadata": {
        "id": "pTk4uqvS8j-t",
        "colab": {
          "base_uri": "https://localhost:8080/"
        },
        "outputId": "b6d1848c-694d-4f4e-8d5c-51ae9aea2ed9"
      },
      "source": [
        "accounts_sample['assets_liabilities_ratio'].describe()"
      ],
      "execution_count": null,
      "outputs": [
        {
          "output_type": "execute_result",
          "data": {
            "text/plain": [
              "count      1028.000000\n",
              "mean        274.922346\n",
              "std        5753.179629\n",
              "min           0.000000\n",
              "25%           0.323001\n",
              "50%           0.792224\n",
              "75%           1.156356\n",
              "max      130481.363636\n",
              "Name: assets_liabilities_ratio, dtype: float64"
            ]
          },
          "metadata": {
            "tags": []
          },
          "execution_count": 17
        }
      ]
    },
    {
      "cell_type": "code",
      "metadata": {
        "id": "sFEV53C0W6G7",
        "colab": {
          "base_uri": "https://localhost:8080/",
          "height": 225
        },
        "outputId": "b9aae4b3-a0ad-44b4-d9c8-422c634705c5"
      },
      "source": [
        "assets_liabilities_ratio = accounts_sample.pivot_table(index='inn',\n",
        "                            columns='year',\n",
        "                            values='assets_liabilities_ratio',\n",
        "                            aggfunc='mean')\n",
        "assets_liabilities_ratio.head()"
      ],
      "execution_count": null,
      "outputs": [
        {
          "output_type": "execute_result",
          "data": {
            "text/html": [
              "<div>\n",
              "<style scoped>\n",
              "    .dataframe tbody tr th:only-of-type {\n",
              "        vertical-align: middle;\n",
              "    }\n",
              "\n",
              "    .dataframe tbody tr th {\n",
              "        vertical-align: top;\n",
              "    }\n",
              "\n",
              "    .dataframe thead th {\n",
              "        text-align: right;\n",
              "    }\n",
              "</style>\n",
              "<table border=\"1\" class=\"dataframe\">\n",
              "  <thead>\n",
              "    <tr style=\"text-align: right;\">\n",
              "      <th>year</th>\n",
              "      <th>2012</th>\n",
              "      <th>2013</th>\n",
              "      <th>2014</th>\n",
              "      <th>2015</th>\n",
              "      <th>2016</th>\n",
              "      <th>2017</th>\n",
              "      <th>2018</th>\n",
              "      <th>2019</th>\n",
              "      <th>2020</th>\n",
              "    </tr>\n",
              "    <tr>\n",
              "      <th>inn</th>\n",
              "      <th></th>\n",
              "      <th></th>\n",
              "      <th></th>\n",
              "      <th></th>\n",
              "      <th></th>\n",
              "      <th></th>\n",
              "      <th></th>\n",
              "      <th></th>\n",
              "      <th></th>\n",
              "    </tr>\n",
              "  </thead>\n",
              "  <tbody>\n",
              "    <tr>\n",
              "      <th>1001003743</th>\n",
              "      <td>0.24551</td>\n",
              "      <td>0.245510</td>\n",
              "      <td>0.047021</td>\n",
              "      <td>0.042968</td>\n",
              "      <td>0.181837</td>\n",
              "      <td>0.883768</td>\n",
              "      <td>0.969523</td>\n",
              "      <td>1.101781</td>\n",
              "      <td>NaN</td>\n",
              "    </tr>\n",
              "    <tr>\n",
              "      <th>1020010136</th>\n",
              "      <td>NaN</td>\n",
              "      <td>NaN</td>\n",
              "      <td>NaN</td>\n",
              "      <td>1.130107</td>\n",
              "      <td>1.292272</td>\n",
              "      <td>2.488320</td>\n",
              "      <td>3.790321</td>\n",
              "      <td>NaN</td>\n",
              "      <td>NaN</td>\n",
              "    </tr>\n",
              "    <tr>\n",
              "      <th>1203000142</th>\n",
              "      <td>NaN</td>\n",
              "      <td>NaN</td>\n",
              "      <td>NaN</td>\n",
              "      <td>NaN</td>\n",
              "      <td>NaN</td>\n",
              "      <td>0.847180</td>\n",
              "      <td>0.842024</td>\n",
              "      <td>0.856571</td>\n",
              "      <td>0.830883</td>\n",
              "    </tr>\n",
              "    <tr>\n",
              "      <th>1302000640</th>\n",
              "      <td>0.00000</td>\n",
              "      <td>0.998804</td>\n",
              "      <td>0.998804</td>\n",
              "      <td>NaN</td>\n",
              "      <td>NaN</td>\n",
              "      <td>NaN</td>\n",
              "      <td>NaN</td>\n",
              "      <td>NaN</td>\n",
              "      <td>NaN</td>\n",
              "    </tr>\n",
              "    <tr>\n",
              "      <th>1411004211</th>\n",
              "      <td>0.00000</td>\n",
              "      <td>0.742093</td>\n",
              "      <td>0.704154</td>\n",
              "      <td>0.684849</td>\n",
              "      <td>0.693911</td>\n",
              "      <td>NaN</td>\n",
              "      <td>NaN</td>\n",
              "      <td>NaN</td>\n",
              "      <td>NaN</td>\n",
              "    </tr>\n",
              "  </tbody>\n",
              "</table>\n",
              "</div>"
            ],
            "text/plain": [
              "year           2012      2013      2014  ...      2018      2019      2020\n",
              "inn                                      ...                              \n",
              "1001003743  0.24551  0.245510  0.047021  ...  0.969523  1.101781       NaN\n",
              "1020010136      NaN       NaN       NaN  ...  3.790321       NaN       NaN\n",
              "1203000142      NaN       NaN       NaN  ...  0.842024  0.856571  0.830883\n",
              "1302000640  0.00000  0.998804  0.998804  ...       NaN       NaN       NaN\n",
              "1411004211  0.00000  0.742093  0.704154  ...       NaN       NaN       NaN\n",
              "\n",
              "[5 rows x 9 columns]"
            ]
          },
          "metadata": {
            "tags": []
          },
          "execution_count": 18
        }
      ]
    },
    {
      "cell_type": "markdown",
      "metadata": {
        "id": "K5Xk6Iemnkq0"
      },
      "source": [
        "Создадим признаки ***last_ratio*** и ***mean_ratio*** показывающие задолжности за последний год и задолжности в среднем."
      ]
    },
    {
      "cell_type": "code",
      "metadata": {
        "id": "pEOmTf6Tj_Zl",
        "colab": {
          "base_uri": "https://localhost:8080/",
          "height": 225
        },
        "outputId": "c6f7362c-2adc-4277-f226-ef593a20bd45"
      },
      "source": [
        "assets_liabilities_ratio['last_ratio'] = assets_liabilities_ratio.apply( lambda row:np.array(row.dropna())[-1], axis=1)\n",
        "assets_liabilities_ratio['mean_ratio'] = assets_liabilities_ratio.drop('last_ratio',axis=1).mean(axis=1)\n",
        "assets_liabilities_ratio.head()"
      ],
      "execution_count": null,
      "outputs": [
        {
          "output_type": "execute_result",
          "data": {
            "text/html": [
              "<div>\n",
              "<style scoped>\n",
              "    .dataframe tbody tr th:only-of-type {\n",
              "        vertical-align: middle;\n",
              "    }\n",
              "\n",
              "    .dataframe tbody tr th {\n",
              "        vertical-align: top;\n",
              "    }\n",
              "\n",
              "    .dataframe thead th {\n",
              "        text-align: right;\n",
              "    }\n",
              "</style>\n",
              "<table border=\"1\" class=\"dataframe\">\n",
              "  <thead>\n",
              "    <tr style=\"text-align: right;\">\n",
              "      <th>year</th>\n",
              "      <th>2012</th>\n",
              "      <th>2013</th>\n",
              "      <th>2014</th>\n",
              "      <th>2015</th>\n",
              "      <th>2016</th>\n",
              "      <th>2017</th>\n",
              "      <th>2018</th>\n",
              "      <th>2019</th>\n",
              "      <th>2020</th>\n",
              "      <th>last_ratio</th>\n",
              "      <th>mean_ratio</th>\n",
              "    </tr>\n",
              "    <tr>\n",
              "      <th>inn</th>\n",
              "      <th></th>\n",
              "      <th></th>\n",
              "      <th></th>\n",
              "      <th></th>\n",
              "      <th></th>\n",
              "      <th></th>\n",
              "      <th></th>\n",
              "      <th></th>\n",
              "      <th></th>\n",
              "      <th></th>\n",
              "      <th></th>\n",
              "    </tr>\n",
              "  </thead>\n",
              "  <tbody>\n",
              "    <tr>\n",
              "      <th>1001003743</th>\n",
              "      <td>0.24551</td>\n",
              "      <td>0.245510</td>\n",
              "      <td>0.047021</td>\n",
              "      <td>0.042968</td>\n",
              "      <td>0.181837</td>\n",
              "      <td>0.883768</td>\n",
              "      <td>0.969523</td>\n",
              "      <td>1.101781</td>\n",
              "      <td>NaN</td>\n",
              "      <td>1.101781</td>\n",
              "      <td>0.464740</td>\n",
              "    </tr>\n",
              "    <tr>\n",
              "      <th>1020010136</th>\n",
              "      <td>NaN</td>\n",
              "      <td>NaN</td>\n",
              "      <td>NaN</td>\n",
              "      <td>1.130107</td>\n",
              "      <td>1.292272</td>\n",
              "      <td>2.488320</td>\n",
              "      <td>3.790321</td>\n",
              "      <td>NaN</td>\n",
              "      <td>NaN</td>\n",
              "      <td>3.790321</td>\n",
              "      <td>2.175255</td>\n",
              "    </tr>\n",
              "    <tr>\n",
              "      <th>1203000142</th>\n",
              "      <td>NaN</td>\n",
              "      <td>NaN</td>\n",
              "      <td>NaN</td>\n",
              "      <td>NaN</td>\n",
              "      <td>NaN</td>\n",
              "      <td>0.847180</td>\n",
              "      <td>0.842024</td>\n",
              "      <td>0.856571</td>\n",
              "      <td>0.830883</td>\n",
              "      <td>0.830883</td>\n",
              "      <td>0.844165</td>\n",
              "    </tr>\n",
              "    <tr>\n",
              "      <th>1302000640</th>\n",
              "      <td>0.00000</td>\n",
              "      <td>0.998804</td>\n",
              "      <td>0.998804</td>\n",
              "      <td>NaN</td>\n",
              "      <td>NaN</td>\n",
              "      <td>NaN</td>\n",
              "      <td>NaN</td>\n",
              "      <td>NaN</td>\n",
              "      <td>NaN</td>\n",
              "      <td>0.998804</td>\n",
              "      <td>0.665869</td>\n",
              "    </tr>\n",
              "    <tr>\n",
              "      <th>1411004211</th>\n",
              "      <td>0.00000</td>\n",
              "      <td>0.742093</td>\n",
              "      <td>0.704154</td>\n",
              "      <td>0.684849</td>\n",
              "      <td>0.693911</td>\n",
              "      <td>NaN</td>\n",
              "      <td>NaN</td>\n",
              "      <td>NaN</td>\n",
              "      <td>NaN</td>\n",
              "      <td>0.693911</td>\n",
              "      <td>0.565001</td>\n",
              "    </tr>\n",
              "  </tbody>\n",
              "</table>\n",
              "</div>"
            ],
            "text/plain": [
              "year           2012      2013      2014  ...      2020  last_ratio  mean_ratio\n",
              "inn                                      ...                                  \n",
              "1001003743  0.24551  0.245510  0.047021  ...       NaN    1.101781    0.464740\n",
              "1020010136      NaN       NaN       NaN  ...       NaN    3.790321    2.175255\n",
              "1203000142      NaN       NaN       NaN  ...  0.830883    0.830883    0.844165\n",
              "1302000640  0.00000  0.998804  0.998804  ...       NaN    0.998804    0.665869\n",
              "1411004211  0.00000  0.742093  0.704154  ...       NaN    0.693911    0.565001\n",
              "\n",
              "[5 rows x 11 columns]"
            ]
          },
          "metadata": {
            "tags": []
          },
          "execution_count": 19
        }
      ]
    },
    {
      "cell_type": "code",
      "metadata": {
        "id": "uDqKUasl9U1q",
        "colab": {
          "base_uri": "https://localhost:8080/"
        },
        "outputId": "a3fadb54-7758-4f9c-8a12-ff70b4381c07"
      },
      "source": [
        "bankruptcies_sample.inn.nunique() == bankruptcies_sample.inn.shape[0]"
      ],
      "execution_count": null,
      "outputs": [
        {
          "output_type": "execute_result",
          "data": {
            "text/plain": [
              "True"
            ]
          },
          "metadata": {
            "tags": []
          },
          "execution_count": 20
        }
      ]
    },
    {
      "cell_type": "markdown",
      "metadata": {
        "id": "Aui7R7WZBbjY"
      },
      "source": [
        "В данных о судах присутвуют 4 тип участия в процессе. Сказать о нём что-то не представляется возможным.    \n",
        "Из данных видно, что более 75% крмпании никогда не были в суде в качестве ответчика, более 50% никогда не подавали на кого-либо в суд.\n",
        "\n",
        "Из известных данных, ни одна компания не оформляла банкротство больше 1 раза.\n"
      ]
    },
    {
      "cell_type": "markdown",
      "metadata": {
        "id": "rD9SY592eh5v"
      },
      "source": [
        "## Исследовательский анализ данных\n",
        "Составим один датасет.\n",
        "Предварительно установим везде в индекс инн."
      ]
    },
    {
      "cell_type": "code",
      "metadata": {
        "id": "RNBvAhuV08_Y",
        "colab": {
          "base_uri": "https://localhost:8080/"
        },
        "outputId": "b1b45dd4-54a7-494f-dadc-6e5d4b2779f3"
      },
      "source": [
        "normal_index=[]\n",
        "invalid_index=[]\n",
        "for inn in court_cases_pivot.index:\n",
        "  inn_join = ''.join(inn.split(' '))\n",
        "  try:\n",
        "    normal_index.append(int(inn_join[:10]))\n",
        "  except:\n",
        "    invalid_index.append(inn)\n",
        "    print(inn_join)"
      ],
      "execution_count": null,
      "outputs": [
        {
          "output_type": "stream",
          "text": [
            "\n",
            "*\n"
          ],
          "name": "stdout"
        }
      ]
    },
    {
      "cell_type": "code",
      "metadata": {
        "id": "42DSmYD-1AlW"
      },
      "source": [
        "court_cases_pivot.drop(invalid_index,inplace=True)"
      ],
      "execution_count": null,
      "outputs": []
    },
    {
      "cell_type": "code",
      "metadata": {
        "id": "NUUuJQWgfi0s"
      },
      "source": [
        "bankruptcies_sample.set_index('inn', inplace=True)\n",
        "court_cases_pivot.index = normal_index"
      ],
      "execution_count": null,
      "outputs": []
    },
    {
      "cell_type": "code",
      "metadata": {
        "id": "QixRbWs2AQjS",
        "colab": {
          "base_uri": "https://localhost:8080/"
        },
        "outputId": "b02010f1-1aac-4f19-b28e-b6991c5e6f0d"
      },
      "source": [
        "data = assets_liabilities_ratio[['last_ratio','mean_ratio']].join(bankruptcies_sample)\n",
        "data.bancrupt_year.unique()"
      ],
      "execution_count": null,
      "outputs": [
        {
          "output_type": "execute_result",
          "data": {
            "text/plain": [
              "array([  nan, 2018., 2020., 2015., 2017., 2013., 2019., 2021., 2014.,\n",
              "       2012., 2011., 2016.])"
            ]
          },
          "metadata": {
            "tags": []
          },
          "execution_count": 24
        }
      ]
    },
    {
      "cell_type": "markdown",
      "metadata": {
        "id": "2b7H_0pNAn5Q"
      },
      "source": [
        "Так как самое раннене банкротсво в представленных данных - 2011 год, то оставим данные о судах с 2009 года."
      ]
    },
    {
      "cell_type": "code",
      "metadata": {
        "id": "E25H_CepAeOw"
      },
      "source": [
        "data = data.join(court_cases_pivot.loc[:,'2009':])\n",
        "data.columns = data.columns.astype('str')"
      ],
      "execution_count": null,
      "outputs": []
    },
    {
      "cell_type": "code",
      "metadata": {
        "id": "ZpVAoy_OfdA7",
        "colab": {
          "base_uri": "https://localhost:8080/",
          "height": 195
        },
        "outputId": "bd1b202d-5279-4f78-ff7b-2ba643cd899e"
      },
      "source": [
        "data.head()"
      ],
      "execution_count": null,
      "outputs": [
        {
          "output_type": "execute_result",
          "data": {
            "text/html": [
              "<div>\n",
              "<style scoped>\n",
              "    .dataframe tbody tr th:only-of-type {\n",
              "        vertical-align: middle;\n",
              "    }\n",
              "\n",
              "    .dataframe tbody tr th {\n",
              "        vertical-align: top;\n",
              "    }\n",
              "\n",
              "    .dataframe thead th {\n",
              "        text-align: right;\n",
              "    }\n",
              "</style>\n",
              "<table border=\"1\" class=\"dataframe\">\n",
              "  <thead>\n",
              "    <tr style=\"text-align: right;\">\n",
              "      <th></th>\n",
              "      <th>last_ratio</th>\n",
              "      <th>mean_ratio</th>\n",
              "      <th>bankrupt_id</th>\n",
              "      <th>bancrupt_year</th>\n",
              "      <th>2009</th>\n",
              "      <th>2010</th>\n",
              "      <th>2011</th>\n",
              "      <th>2012</th>\n",
              "      <th>2013</th>\n",
              "      <th>2014</th>\n",
              "      <th>2015</th>\n",
              "      <th>2016</th>\n",
              "      <th>2017</th>\n",
              "      <th>2018</th>\n",
              "      <th>2019</th>\n",
              "      <th>2020</th>\n",
              "      <th>2021</th>\n",
              "    </tr>\n",
              "  </thead>\n",
              "  <tbody>\n",
              "    <tr>\n",
              "      <th>1001003743</th>\n",
              "      <td>1.101781</td>\n",
              "      <td>0.464740</td>\n",
              "      <td>NaN</td>\n",
              "      <td>NaN</td>\n",
              "      <td>NaN</td>\n",
              "      <td>NaN</td>\n",
              "      <td>NaN</td>\n",
              "      <td>NaN</td>\n",
              "      <td>NaN</td>\n",
              "      <td>NaN</td>\n",
              "      <td>NaN</td>\n",
              "      <td>NaN</td>\n",
              "      <td>NaN</td>\n",
              "      <td>NaN</td>\n",
              "      <td>NaN</td>\n",
              "      <td>NaN</td>\n",
              "      <td>NaN</td>\n",
              "    </tr>\n",
              "    <tr>\n",
              "      <th>1020010136</th>\n",
              "      <td>3.790321</td>\n",
              "      <td>2.175255</td>\n",
              "      <td>176347.0</td>\n",
              "      <td>2018.0</td>\n",
              "      <td>0.0</td>\n",
              "      <td>0.0</td>\n",
              "      <td>0.0</td>\n",
              "      <td>0.0</td>\n",
              "      <td>0.0</td>\n",
              "      <td>0.0</td>\n",
              "      <td>0.0</td>\n",
              "      <td>18.0</td>\n",
              "      <td>20.0</td>\n",
              "      <td>28.0</td>\n",
              "      <td>1.0</td>\n",
              "      <td>1.0</td>\n",
              "      <td>0.0</td>\n",
              "    </tr>\n",
              "    <tr>\n",
              "      <th>1203000142</th>\n",
              "      <td>0.830883</td>\n",
              "      <td>0.844165</td>\n",
              "      <td>380484.0</td>\n",
              "      <td>2020.0</td>\n",
              "      <td>4.0</td>\n",
              "      <td>11.0</td>\n",
              "      <td>15.0</td>\n",
              "      <td>17.0</td>\n",
              "      <td>1.0</td>\n",
              "      <td>1.0</td>\n",
              "      <td>5.0</td>\n",
              "      <td>17.0</td>\n",
              "      <td>16.0</td>\n",
              "      <td>22.0</td>\n",
              "      <td>49.0</td>\n",
              "      <td>20.0</td>\n",
              "      <td>2.0</td>\n",
              "    </tr>\n",
              "    <tr>\n",
              "      <th>1302000640</th>\n",
              "      <td>0.998804</td>\n",
              "      <td>0.665869</td>\n",
              "      <td>76122.0</td>\n",
              "      <td>2015.0</td>\n",
              "      <td>0.0</td>\n",
              "      <td>0.0</td>\n",
              "      <td>0.0</td>\n",
              "      <td>0.0</td>\n",
              "      <td>0.0</td>\n",
              "      <td>3.0</td>\n",
              "      <td>0.0</td>\n",
              "      <td>0.0</td>\n",
              "      <td>3.0</td>\n",
              "      <td>0.0</td>\n",
              "      <td>0.0</td>\n",
              "      <td>0.0</td>\n",
              "      <td>0.0</td>\n",
              "    </tr>\n",
              "    <tr>\n",
              "      <th>1411004211</th>\n",
              "      <td>0.693911</td>\n",
              "      <td>0.565001</td>\n",
              "      <td>154559.0</td>\n",
              "      <td>2017.0</td>\n",
              "      <td>1.0</td>\n",
              "      <td>0.0</td>\n",
              "      <td>0.0</td>\n",
              "      <td>0.0</td>\n",
              "      <td>1.0</td>\n",
              "      <td>4.0</td>\n",
              "      <td>4.0</td>\n",
              "      <td>1.0</td>\n",
              "      <td>2.0</td>\n",
              "      <td>2.0</td>\n",
              "      <td>0.0</td>\n",
              "      <td>0.0</td>\n",
              "      <td>0.0</td>\n",
              "    </tr>\n",
              "  </tbody>\n",
              "</table>\n",
              "</div>"
            ],
            "text/plain": [
              "            last_ratio  mean_ratio  bankrupt_id  ...  2019  2020  2021\n",
              "1001003743    1.101781    0.464740          NaN  ...   NaN   NaN   NaN\n",
              "1020010136    3.790321    2.175255     176347.0  ...   1.0   1.0   0.0\n",
              "1203000142    0.830883    0.844165     380484.0  ...  49.0  20.0   2.0\n",
              "1302000640    0.998804    0.665869      76122.0  ...   0.0   0.0   0.0\n",
              "1411004211    0.693911    0.565001     154559.0  ...   0.0   0.0   0.0\n",
              "\n",
              "[5 rows x 17 columns]"
            ]
          },
          "metadata": {
            "tags": []
          },
          "execution_count": 26
        }
      ]
    },
    {
      "cell_type": "markdown",
      "metadata": {
        "id": "rvtu0_txFxp4"
      },
      "source": [
        "оставим в признаках только сумму по судебным делам за последние 3 года, если было банкротсво то  за последние 3 года до банкротства. Данные по годам удалим"
      ]
    },
    {
      "cell_type": "code",
      "metadata": {
        "id": "bxjeLuH0JmbA"
      },
      "source": [
        "def courts(row):\n",
        "  try:\n",
        "    year = row['bancrupt_year']\n",
        "    sum = row[str(int(year-2)) : str(int(year+1))].sum()\n",
        "    return sum\n",
        "\n",
        "  except:\n",
        "    return 0 \n",
        "\n",
        "data['courts'] = data.apply(courts,axis=1)"
      ],
      "execution_count": null,
      "outputs": []
    },
    {
      "cell_type": "code",
      "metadata": {
        "id": "1tPQleMNR3jH",
        "colab": {
          "base_uri": "https://localhost:8080/",
          "height": 195
        },
        "outputId": "52b5836e-256f-4848-b061-4597b24fc876"
      },
      "source": [
        "data.head()"
      ],
      "execution_count": null,
      "outputs": [
        {
          "output_type": "execute_result",
          "data": {
            "text/html": [
              "<div>\n",
              "<style scoped>\n",
              "    .dataframe tbody tr th:only-of-type {\n",
              "        vertical-align: middle;\n",
              "    }\n",
              "\n",
              "    .dataframe tbody tr th {\n",
              "        vertical-align: top;\n",
              "    }\n",
              "\n",
              "    .dataframe thead th {\n",
              "        text-align: right;\n",
              "    }\n",
              "</style>\n",
              "<table border=\"1\" class=\"dataframe\">\n",
              "  <thead>\n",
              "    <tr style=\"text-align: right;\">\n",
              "      <th></th>\n",
              "      <th>last_ratio</th>\n",
              "      <th>mean_ratio</th>\n",
              "      <th>bancrupt_year</th>\n",
              "      <th>courts</th>\n",
              "      <th>bankrupt</th>\n",
              "    </tr>\n",
              "  </thead>\n",
              "  <tbody>\n",
              "    <tr>\n",
              "      <th>1001003743</th>\n",
              "      <td>1.101781</td>\n",
              "      <td>0.464740</td>\n",
              "      <td>NaN</td>\n",
              "      <td>0</td>\n",
              "      <td>0.0</td>\n",
              "    </tr>\n",
              "    <tr>\n",
              "      <th>1020010136</th>\n",
              "      <td>3.790321</td>\n",
              "      <td>2.175255</td>\n",
              "      <td>2018.0</td>\n",
              "      <td>0</td>\n",
              "      <td>1.0</td>\n",
              "    </tr>\n",
              "    <tr>\n",
              "      <th>1203000142</th>\n",
              "      <td>0.830883</td>\n",
              "      <td>0.844165</td>\n",
              "      <td>2020.0</td>\n",
              "      <td>0</td>\n",
              "      <td>1.0</td>\n",
              "    </tr>\n",
              "    <tr>\n",
              "      <th>1302000640</th>\n",
              "      <td>0.998804</td>\n",
              "      <td>0.665869</td>\n",
              "      <td>2015.0</td>\n",
              "      <td>0</td>\n",
              "      <td>1.0</td>\n",
              "    </tr>\n",
              "    <tr>\n",
              "      <th>1411004211</th>\n",
              "      <td>0.693911</td>\n",
              "      <td>0.565001</td>\n",
              "      <td>2017.0</td>\n",
              "      <td>0</td>\n",
              "      <td>1.0</td>\n",
              "    </tr>\n",
              "  </tbody>\n",
              "</table>\n",
              "</div>"
            ],
            "text/plain": [
              "            last_ratio  mean_ratio  bancrupt_year  courts  bankrupt\n",
              "1001003743    1.101781    0.464740            NaN       0       0.0\n",
              "1020010136    3.790321    2.175255         2018.0       0       1.0\n",
              "1203000142    0.830883    0.844165         2020.0       0       1.0\n",
              "1302000640    0.998804    0.665869         2015.0       0       1.0\n",
              "1411004211    0.693911    0.565001         2017.0       0       1.0"
            ]
          },
          "metadata": {
            "tags": []
          },
          "execution_count": 57
        }
      ]
    },
    {
      "cell_type": "code",
      "metadata": {
        "id": "lSfAlzblShM5",
        "colab": {
          "base_uri": "https://localhost:8080/"
        },
        "outputId": "961aaabf-8b56-4219-f2b7-89da002c543b"
      },
      "source": [
        "data.columns"
      ],
      "execution_count": null,
      "outputs": [
        {
          "output_type": "execute_result",
          "data": {
            "text/plain": [
              "Index(['last_ratio', 'mean_ratio', 'bancrupt_year', 'courts', 'bankrupt'], dtype='object')"
            ]
          },
          "metadata": {
            "tags": []
          },
          "execution_count": 58
        }
      ]
    },
    {
      "cell_type": "code",
      "metadata": {
        "id": "uM9_x_ZpSYXs"
      },
      "source": [
        "data=data[['last_ratio', 'mean_ratio', 'bancrupt_year','courts']]"
      ],
      "execution_count": null,
      "outputs": []
    },
    {
      "cell_type": "markdown",
      "metadata": {
        "id": "WH7aI8somwFM"
      },
      "source": [
        "Создадим столбец ***bankrupt***, отражающий было ли банкротство компании"
      ]
    },
    {
      "cell_type": "code",
      "metadata": {
        "id": "xHMvTlD2oA-G"
      },
      "source": [
        "data.loc[data['bancrupt_year']>0,'bankrupt'] = 1\n",
        "data['bankrupt'].fillna(0,inplace=True)"
      ],
      "execution_count": null,
      "outputs": []
    },
    {
      "cell_type": "code",
      "metadata": {
        "id": "16w-fvsNojFv",
        "colab": {
          "base_uri": "https://localhost:8080/",
          "height": 195
        },
        "outputId": "9892f742-5aad-462d-c0e6-ae66ea1cf671"
      },
      "source": [
        "data.head()"
      ],
      "execution_count": null,
      "outputs": [
        {
          "output_type": "execute_result",
          "data": {
            "text/html": [
              "<div>\n",
              "<style scoped>\n",
              "    .dataframe tbody tr th:only-of-type {\n",
              "        vertical-align: middle;\n",
              "    }\n",
              "\n",
              "    .dataframe tbody tr th {\n",
              "        vertical-align: top;\n",
              "    }\n",
              "\n",
              "    .dataframe thead th {\n",
              "        text-align: right;\n",
              "    }\n",
              "</style>\n",
              "<table border=\"1\" class=\"dataframe\">\n",
              "  <thead>\n",
              "    <tr style=\"text-align: right;\">\n",
              "      <th></th>\n",
              "      <th>last_ratio</th>\n",
              "      <th>mean_ratio</th>\n",
              "      <th>bancrupt_year</th>\n",
              "      <th>courts</th>\n",
              "      <th>bankrupt</th>\n",
              "    </tr>\n",
              "  </thead>\n",
              "  <tbody>\n",
              "    <tr>\n",
              "      <th>1001003743</th>\n",
              "      <td>1.101781</td>\n",
              "      <td>0.464740</td>\n",
              "      <td>NaN</td>\n",
              "      <td>0</td>\n",
              "      <td>0.0</td>\n",
              "    </tr>\n",
              "    <tr>\n",
              "      <th>1020010136</th>\n",
              "      <td>3.790321</td>\n",
              "      <td>2.175255</td>\n",
              "      <td>2018.0</td>\n",
              "      <td>0</td>\n",
              "      <td>1.0</td>\n",
              "    </tr>\n",
              "    <tr>\n",
              "      <th>1203000142</th>\n",
              "      <td>0.830883</td>\n",
              "      <td>0.844165</td>\n",
              "      <td>2020.0</td>\n",
              "      <td>0</td>\n",
              "      <td>1.0</td>\n",
              "    </tr>\n",
              "    <tr>\n",
              "      <th>1302000640</th>\n",
              "      <td>0.998804</td>\n",
              "      <td>0.665869</td>\n",
              "      <td>2015.0</td>\n",
              "      <td>0</td>\n",
              "      <td>1.0</td>\n",
              "    </tr>\n",
              "    <tr>\n",
              "      <th>1411004211</th>\n",
              "      <td>0.693911</td>\n",
              "      <td>0.565001</td>\n",
              "      <td>2017.0</td>\n",
              "      <td>0</td>\n",
              "      <td>1.0</td>\n",
              "    </tr>\n",
              "  </tbody>\n",
              "</table>\n",
              "</div>"
            ],
            "text/plain": [
              "            last_ratio  mean_ratio  bancrupt_year  courts  bankrupt\n",
              "1001003743    1.101781    0.464740            NaN       0       0.0\n",
              "1020010136    3.790321    2.175255         2018.0       0       1.0\n",
              "1203000142    0.830883    0.844165         2020.0       0       1.0\n",
              "1302000640    0.998804    0.665869         2015.0       0       1.0\n",
              "1411004211    0.693911    0.565001         2017.0       0       1.0"
            ]
          },
          "metadata": {
            "tags": []
          },
          "execution_count": 61
        }
      ]
    },
    {
      "cell_type": "markdown",
      "metadata": {
        "id": "ovMzjZnXwIN6"
      },
      "source": [
        "Изучим данные"
      ]
    },
    {
      "cell_type": "code",
      "metadata": {
        "id": "CY4w2a0Rv1c6",
        "colab": {
          "base_uri": "https://localhost:8080/",
          "height": 284
        },
        "outputId": "23e731ef-2e27-427f-dd11-b2edc5389c80"
      },
      "source": [
        "data.describe()"
      ],
      "execution_count": null,
      "outputs": [
        {
          "output_type": "execute_result",
          "data": {
            "text/html": [
              "<div>\n",
              "<style scoped>\n",
              "    .dataframe tbody tr th:only-of-type {\n",
              "        vertical-align: middle;\n",
              "    }\n",
              "\n",
              "    .dataframe tbody tr th {\n",
              "        vertical-align: top;\n",
              "    }\n",
              "\n",
              "    .dataframe thead th {\n",
              "        text-align: right;\n",
              "    }\n",
              "</style>\n",
              "<table border=\"1\" class=\"dataframe\">\n",
              "  <thead>\n",
              "    <tr style=\"text-align: right;\">\n",
              "      <th></th>\n",
              "      <th>last_ratio</th>\n",
              "      <th>mean_ratio</th>\n",
              "      <th>bancrupt_year</th>\n",
              "      <th>courts</th>\n",
              "      <th>bankrupt</th>\n",
              "    </tr>\n",
              "  </thead>\n",
              "  <tbody>\n",
              "    <tr>\n",
              "      <th>count</th>\n",
              "      <td>167.000000</td>\n",
              "      <td>167.000000</td>\n",
              "      <td>107.000000</td>\n",
              "      <td>167.0</td>\n",
              "      <td>167.000000</td>\n",
              "    </tr>\n",
              "    <tr>\n",
              "      <th>mean</th>\n",
              "      <td>87.590106</td>\n",
              "      <td>111.596607</td>\n",
              "      <td>2016.738318</td>\n",
              "      <td>0.0</td>\n",
              "      <td>0.640719</td>\n",
              "    </tr>\n",
              "    <tr>\n",
              "      <th>std</th>\n",
              "      <td>267.768084</td>\n",
              "      <td>1131.423764</td>\n",
              "      <td>3.022983</td>\n",
              "      <td>0.0</td>\n",
              "      <td>0.481233</td>\n",
              "    </tr>\n",
              "    <tr>\n",
              "      <th>min</th>\n",
              "      <td>0.000000</td>\n",
              "      <td>0.000000</td>\n",
              "      <td>2011.000000</td>\n",
              "      <td>0.0</td>\n",
              "      <td>0.000000</td>\n",
              "    </tr>\n",
              "    <tr>\n",
              "      <th>25%</th>\n",
              "      <td>0.322056</td>\n",
              "      <td>0.435010</td>\n",
              "      <td>2014.000000</td>\n",
              "      <td>0.0</td>\n",
              "      <td>0.000000</td>\n",
              "    </tr>\n",
              "    <tr>\n",
              "      <th>50%</th>\n",
              "      <td>0.992447</td>\n",
              "      <td>0.849274</td>\n",
              "      <td>2017.000000</td>\n",
              "      <td>0.0</td>\n",
              "      <td>1.000000</td>\n",
              "    </tr>\n",
              "    <tr>\n",
              "      <th>75%</th>\n",
              "      <td>2.875153</td>\n",
              "      <td>2.214072</td>\n",
              "      <td>2019.000000</td>\n",
              "      <td>0.0</td>\n",
              "      <td>1.000000</td>\n",
              "    </tr>\n",
              "    <tr>\n",
              "      <th>max</th>\n",
              "      <td>1000.000000</td>\n",
              "      <td>14609.646442</td>\n",
              "      <td>2021.000000</td>\n",
              "      <td>0.0</td>\n",
              "      <td>1.000000</td>\n",
              "    </tr>\n",
              "  </tbody>\n",
              "</table>\n",
              "</div>"
            ],
            "text/plain": [
              "        last_ratio    mean_ratio  bancrupt_year  courts    bankrupt\n",
              "count   167.000000    167.000000     107.000000   167.0  167.000000\n",
              "mean     87.590106    111.596607    2016.738318     0.0    0.640719\n",
              "std     267.768084   1131.423764       3.022983     0.0    0.481233\n",
              "min       0.000000      0.000000    2011.000000     0.0    0.000000\n",
              "25%       0.322056      0.435010    2014.000000     0.0    0.000000\n",
              "50%       0.992447      0.849274    2017.000000     0.0    1.000000\n",
              "75%       2.875153      2.214072    2019.000000     0.0    1.000000\n",
              "max    1000.000000  14609.646442    2021.000000     0.0    1.000000"
            ]
          },
          "metadata": {
            "tags": []
          },
          "execution_count": 62
        }
      ]
    },
    {
      "cell_type": "markdown",
      "metadata": {
        "id": "e3eHdEbkpVpx"
      },
      "source": [
        "В представленных данных более половины компаний обанкротилась (64%), из них как минимум половина за последние 4 года. Также для половины компаний справедливо утверждение, что за последний год они имели обязательств больше или примерно столько же, сколько автивов. Половина компаний имела 3 и более судебных исков.    \n",
        "\n",
        "Посмотрим, как коррелируют величины\n"
      ]
    },
    {
      "cell_type": "code",
      "metadata": {
        "id": "glvTX_lKolp_",
        "colab": {
          "base_uri": "https://localhost:8080/",
          "height": 342
        },
        "outputId": "e133811a-880d-4f32-cca7-673cbc6c2149"
      },
      "source": [
        "plt.figure(figsize=(10,5))\n",
        "sb.heatmap(data.corr(), annot=True)"
      ],
      "execution_count": null,
      "outputs": [
        {
          "output_type": "execute_result",
          "data": {
            "text/plain": [
              "<matplotlib.axes._subplots.AxesSubplot at 0x7f18c65cca10>"
            ]
          },
          "metadata": {
            "tags": []
          },
          "execution_count": 63
        },
        {
          "output_type": "display_data",
          "data": {
            "image/png": "[encoded data removed]",
            "text/plain": [
              "<Figure size 720x360 with 2 Axes>"
            ]
          },
          "metadata": {
            "tags": [],
            "needs_background": "light"
          }
        }
      ]
    },
    {
      "cell_type": "markdown",
      "metadata": {
        "id": "slbymu4nsroG"
      },
      "source": [
        "Из корреляций видно, что количество судебных исков за последние 3 года сильно коррелирует с фактом банкротства. Также банкротство на 24% коррелирует с соотношением обязательств к активам.    \n",
        "Помотрим их рапределения относительно друг друга."
      ]
    },
    {
      "cell_type": "markdown",
      "metadata": {
        "id": "FFFllVjuyje_"
      },
      "source": [
        "Распредеение количества судебных исков на компанию в 2018 относительно факта банкротсва"
      ]
    },
    {
      "cell_type": "code",
      "metadata": {
        "id": "6W1AEUUVqr75",
        "colab": {
          "base_uri": "https://localhost:8080/",
          "height": 491
        },
        "outputId": "c9e551ca-de95-405a-9a36-e3b163765960"
      },
      "source": [
        "sb.jointplot(data=data, x='courts', y=\"bankrupt\", kind=\"reg\")"
      ],
      "execution_count": null,
      "outputs": [
        {
          "output_type": "stream",
          "text": [
            "/usr/local/lib/python3.7/dist-packages/seaborn/distributions.py:306: UserWarning: Dataset has 0 variance; skipping density estimate.\n",
            "  warnings.warn(msg, UserWarning)\n"
          ],
          "name": "stderr"
        },
        {
          "output_type": "execute_result",
          "data": {
            "text/plain": [
              "<seaborn.axisgrid.JointGrid at 0x7f18bc456750>"
            ]
          },
          "metadata": {
            "tags": []
          },
          "execution_count": 64
        },
        {
          "output_type": "display_data",
          "data": {
            "image/png": "[encoded data removed]",
            "text/plain": [
              "<Figure size 432x432 with 3 Axes>"
            ]
          },
          "metadata": {
            "tags": [],
            "needs_background": "light"
          }
        }
      ]
    },
    {
      "cell_type": "markdown",
      "metadata": {
        "id": "oVpqFUTey6ZJ"
      },
      "source": [
        "Распредеение соотношения обязательств к долгам компании относительно факта банкротсва"
      ]
    },
    {
      "cell_type": "code",
      "metadata": {
        "id": "Lx9YDLWA6VqX",
        "colab": {
          "base_uri": "https://localhost:8080/",
          "height": 458
        },
        "outputId": "18a35809-9943-4d06-9d9c-abca4612feeb"
      },
      "source": [
        "sb.jointplot(data=data, x=\"last_ratio\", y=\"bankrupt\", kind=\"reg\")"
      ],
      "execution_count": null,
      "outputs": [
        {
          "output_type": "execute_result",
          "data": {
            "text/plain": [
              "<seaborn.axisgrid.JointGrid at 0x7f18bb16e290>"
            ]
          },
          "metadata": {
            "tags": []
          },
          "execution_count": 65
        },
        {
          "output_type": "display_data",
          "data": {
            "image/png": "[encoded data removed]",
            "text/plain": [
              "<Figure size 432x432 with 3 Axes>"
            ]
          },
          "metadata": {
            "tags": [],
            "needs_background": "light"
          }
        }
      ]
    },
    {
      "cell_type": "markdown",
      "metadata": {
        "id": "huzfQzou4be5"
      },
      "source": [
        "Из рапределений видно: если обязательства сильно превышают активы, то вероятнее всего, что такая компания - банкрот.    \n",
        "Аналогичное утверждение справедливо для судебных исков. Чем больше исков, тем ненадежнее компания."
      ]
    },
    {
      "cell_type": "code",
      "metadata": {
        "id": "veMa8Ut9Udb1",
        "colab": {
          "base_uri": "https://localhost:8080/",
          "height": 298
        },
        "outputId": "94f86ca3-2c72-414f-ef65-fde17cdebb10"
      },
      "source": [
        "sb.kdeplot(data.bancrupt_year)"
      ],
      "execution_count": null,
      "outputs": [
        {
          "output_type": "execute_result",
          "data": {
            "text/plain": [
              "<matplotlib.axes._subplots.AxesSubplot at 0x7f18ba50add0>"
            ]
          },
          "metadata": {
            "tags": []
          },
          "execution_count": 66
        },
        {
          "output_type": "display_data",
          "data": {
            "image/png": "[encoded data removed]",
            "text/plain": [
              "<Figure size 432x288 with 1 Axes>"
            ]
          },
          "metadata": {
            "tags": [],
            "needs_background": "light"
          }
        }
      ]
    },
    {
      "cell_type": "markdown",
      "metadata": {
        "id": "ac8p4QAsUtW3"
      },
      "source": [
        "В 2020 видно всплеск банкротств, что скорее всего вызвано пандемией ковида"
      ]
    },
    {
      "cell_type": "markdown",
      "metadata": {
        "id": "t9ejjsbRWpzp"
      },
      "source": [
        "## Обучение модели\n",
        "Обучеим модели, решающие задачу классификации.\n",
        "Метриками качества будут f1 и accuracy. Дополнительно вычислим полноту для классов, чтобы определить сколько процентов компаний-банкротов мы теоретически можем выявлять."
      ]
    },
    {
      "cell_type": "code",
      "metadata": {
        "id": "MB8bxURrbMz6"
      },
      "source": [
        "features = data.drop(['bancrupt_year','bankrupt'],axis=1)\n",
        "target = data['bankrupt']"
      ],
      "execution_count": null,
      "outputs": []
    },
    {
      "cell_type": "markdown",
      "metadata": {
        "id": "kP8QOk75rW1w"
      },
      "source": [
        "Разлбьём данные на тренировочную и валидационную выборки в соотношениях 70 на 30."
      ]
    },
    {
      "cell_type": "code",
      "metadata": {
        "id": "eXhjOa3Zbirt"
      },
      "source": [
        "features_train, features_valid, target_train, target_valid = train_test_split(\n",
        "    features, target, test_size=0.3, random_state=12345\n",
        ")"
      ],
      "execution_count": null,
      "outputs": []
    },
    {
      "cell_type": "code",
      "metadata": {
        "id": "TvvKnOpQWn2M",
        "colab": {
          "base_uri": "https://localhost:8080/"
        },
        "outputId": "0ac56de5-e047-4900-909a-fae73dbe3148"
      },
      "source": [
        "log_model = LogisticRegression()\n",
        "log_model.fit(features_train, target_train)"
      ],
      "execution_count": null,
      "outputs": [
        {
          "output_type": "execute_result",
          "data": {
            "text/plain": [
              "LogisticRegression(C=1.0, class_weight=None, dual=False, fit_intercept=True,\n",
              "                   intercept_scaling=1, l1_ratio=None, max_iter=100,\n",
              "                   multi_class='auto', n_jobs=None, penalty='l2',\n",
              "                   random_state=None, solver='lbfgs', tol=0.0001, verbose=0,\n",
              "                   warm_start=False)"
            ]
          },
          "metadata": {
            "tags": []
          },
          "execution_count": 69
        }
      ]
    },
    {
      "cell_type": "markdown",
      "metadata": {
        "id": "bIj6ObTGiZWs"
      },
      "source": [
        "Метрики"
      ]
    },
    {
      "cell_type": "code",
      "metadata": {
        "id": "V0EoZobztbxs"
      },
      "source": [
        "def negative_recall(target,predict):\n",
        "  plus = target + predict\n",
        "  minus = predict - target \n",
        "  TN = (plus == 0).sum()\n",
        "  FP = (minus == 1).sum()\n",
        "  return FP / (FP + TN)"
      ],
      "execution_count": null,
      "outputs": []
    },
    {
      "cell_type": "code",
      "metadata": {
        "id": "s0xygbuldGGn",
        "colab": {
          "base_uri": "https://localhost:8080/"
        },
        "outputId": "313a9754-0dc9-4b16-ba88-1e248341ada1"
      },
      "source": [
        "print('f1=',f1_score(target_valid, log_model.predict(features_valid)))\n",
        "print('accuracy=', accuracy_score(target_valid, log_model.predict(features_valid)))\n",
        "print('negative_recall=', negative_recall(target_valid, log_model.predict(features_valid)))\n",
        "print('recall=',recall_score(target_valid, log_model.predict(features_valid)))"
      ],
      "execution_count": null,
      "outputs": [
        {
          "output_type": "stream",
          "text": [
            "f1= 0.8\n",
            "accuracy= 0.6666666666666666\n",
            "negative_recall= 1.0\n",
            "recall= 1.0\n"
          ],
          "name": "stdout"
        }
      ]
    },
    {
      "cell_type": "markdown",
      "metadata": {
        "id": "8oC5eLi2tjs8"
      },
      "source": [
        "Посмотрим, как изменится модель при нормализации количества судебных исков."
      ]
    },
    {
      "cell_type": "code",
      "metadata": {
        "id": "sRhY13eTjQ_N"
      },
      "source": [
        "features_norm = features.copy()\n",
        "features_norm =  np.log(features_norm+1) #добавим единицу так как в выборке есть нули"
      ],
      "execution_count": null,
      "outputs": []
    },
    {
      "cell_type": "code",
      "metadata": {
        "id": "OuP_pGHztrZf"
      },
      "source": [
        "features_train_norm, features_valid_norm, target_train_norm, target_valid_norm = train_test_split(\n",
        "    features_norm, target, test_size=0.3, random_state=12345\n",
        ")"
      ],
      "execution_count": null,
      "outputs": []
    },
    {
      "cell_type": "code",
      "metadata": {
        "id": "OgTVH-t_uk46",
        "colab": {
          "base_uri": "https://localhost:8080/"
        },
        "outputId": "c688ef88-48ba-4d0b-fb66-a4c19b19817b"
      },
      "source": [
        "log_model_norm = LogisticRegression()\n",
        "log_model_norm.fit(features_train_norm, target_train_norm)"
      ],
      "execution_count": null,
      "outputs": [
        {
          "output_type": "execute_result",
          "data": {
            "text/plain": [
              "LogisticRegression(C=1.0, class_weight=None, dual=False, fit_intercept=True,\n",
              "                   intercept_scaling=1, l1_ratio=None, max_iter=100,\n",
              "                   multi_class='auto', n_jobs=None, penalty='l2',\n",
              "                   random_state=None, solver='lbfgs', tol=0.0001, verbose=0,\n",
              "                   warm_start=False)"
            ]
          },
          "metadata": {
            "tags": []
          },
          "execution_count": 74
        }
      ]
    },
    {
      "cell_type": "code",
      "metadata": {
        "id": "AJQefaRdupHu",
        "colab": {
          "base_uri": "https://localhost:8080/"
        },
        "outputId": "6b29c83a-43fe-403e-ab10-04367948f469"
      },
      "source": [
        "print('f1=',f1_score(target_valid_norm, log_model_norm.predict(features_valid_norm)))\n",
        "print('accuracy=', accuracy_score(target_valid_norm, log_model_norm.predict(features_valid_norm)))\n",
        "print('negative_recall=', negative_recall(target_valid_norm, log_model_norm.predict(features_valid_norm)))\n",
        "print('recall=',recall_score(target_valid_norm, log_model_norm.predict(features_valid_norm)))"
      ],
      "execution_count": null,
      "outputs": [
        {
          "output_type": "stream",
          "text": [
            "f1= 0.8378378378378379\n",
            "accuracy= 0.7647058823529411\n",
            "negative_recall= 0.5294117647058824\n",
            "recall= 0.9117647058823529\n"
          ],
          "name": "stdout"
        }
      ]
    },
    {
      "cell_type": "markdown",
      "metadata": {
        "id": "DehzVGwJvXAc"
      },
      "source": [
        "Модель с нормализацией не показала преимуществ.    \n",
        "Модели не прогнозируют клиентам ложное банкротство, но пропускает почти 18% банкротов.        \n",
        "Вычислим процент вычесленных обанкротившихся компаний и процент упущенных клиентов. Рассмотрим разные вероятности банкротства. "
      ]
    },
    {
      "cell_type": "code",
      "metadata": {
        "id": "abbfI40Zxugx",
        "colab": {
          "base_uri": "https://localhost:8080/"
        },
        "outputId": "f1f29e39-e99a-4ea4-87c1-b94d69e57333"
      },
      "source": [
        "target.mean()"
      ],
      "execution_count": null,
      "outputs": [
        {
          "output_type": "execute_result",
          "data": {
            "text/plain": [
              "0.6407185628742516"
            ]
          },
          "metadata": {
            "tags": []
          },
          "execution_count": 76
        }
      ]
    },
    {
      "cell_type": "code",
      "metadata": {
        "id": "UU-93-ShRf4x",
        "colab": {
          "base_uri": "https://localhost:8080/"
        },
        "outputId": "05d039d1-03d8-4291-c9df-67fccfee3148"
      },
      "source": [
        "probas=np.array([[0.1,0.9],\n",
        "                 [0.3,0.7],\n",
        "                 [0.4,0.6],\n",
        "                 [0.5,0.5],\n",
        "                 [0.6,0.4],\n",
        "                 [0.7,0.3],\n",
        "                 [0.9,0.1]])\n",
        "recall=0.823529\n",
        "recall_neg=0\n",
        "\n",
        "print(probas[:,1]  * recall / (probas[:,1]  * recall  + probas[:,0]  * (1-recall) ) )\n",
        "print(probas[:,0]  * recall_neg / (probas[:,0]  * recall_neg  + probas[:,1]  * (1-recall_neg) ) )"
      ],
      "execution_count": null,
      "outputs": [
        {
          "output_type": "stream",
          "text": [
            "[0.97674412 0.91588763 0.87499969 0.823529   0.75675624 0.66666604\n",
            " 0.34146278]\n",
            "[0. 0. 0. 0. 0. 0. 0.]\n"
          ],
          "name": "stdout"
        }
      ]
    },
    {
      "cell_type": "markdown",
      "metadata": {
        "id": "XoJmGJ864zNk"
      },
      "source": [
        " в нашей выборке 64% компаний - банкротов. При вероятностях банкротства свыше 40% моделью будет выявляться более 75.7% от всех банкротов, при вероятности банкротсв от 70% будет выявляться до 91% всех банкротов. Во всех случаях ни один не банкрот не был ложно отмечен."
      ]
    },
    {
      "cell_type": "markdown",
      "metadata": {
        "id": "ShytEMpKQtok"
      },
      "source": [
        "Проверим какое качество показывает модель градиентного бустинга CatBoost"
      ]
    },
    {
      "cell_type": "code",
      "metadata": {
        "id": "vZpa8T2x2OdU",
        "colab": {
          "base_uri": "https://localhost:8080/"
        },
        "outputId": "72c50ae1-b3ac-4ba6-f426-7eadf4b9dc4e"
      },
      "source": [
        "cat_model = CatBoostClassifier(verbose=500)\n",
        "cat_model.fit(features_train, target_train)\n",
        "\n",
        "print('f1=',f1_score(target_valid, cat_model.predict(features_valid)))\n",
        "print('accuracy=', accuracy_score(target_valid, cat_model.predict(features_valid)))\n",
        "print('negative_recall=', negative_recall(target_valid, cat_model.predict(features_valid)))\n",
        "print('recall=',recall_score(target_valid, cat_model.predict(features_valid)))"
      ],
      "execution_count": null,
      "outputs": [
        {
          "output_type": "stream",
          "text": [
            "Learning rate set to 0.004106\n",
            "0:\tlearn: 0.6919757\ttotal: 581us\tremaining: 581ms\n",
            "500:\tlearn: 0.4478202\ttotal: 313ms\tremaining: 311ms\n",
            "999:\tlearn: 0.3679573\ttotal: 616ms\tremaining: 0us\n",
            "f1= 0.735294117647059\n",
            "accuracy= 0.6470588235294118\n",
            "negative_recall= 0.5294117647058824\n",
            "recall= 0.7352941176470589\n"
          ],
          "name": "stdout"
        }
      ]
    },
    {
      "cell_type": "code",
      "metadata": {
        "id": "YNQHMMVB7ATO",
        "colab": {
          "base_uri": "https://localhost:8080/"
        },
        "outputId": "b576f6e1-32c6-4f32-9564-fc8f742dc4b8"
      },
      "source": [
        "cat_model_norm = CatBoostClassifier(verbose=200)\n",
        "cat_model_norm.fit(features_train_norm, target_train_norm)\n",
        "\n",
        "print('f1=',f1_score(target_valid_norm, cat_model_norm.predict(features_valid_norm)))\n",
        "print('accuracy=', accuracy_score(target_valid_norm, cat_model_norm.predict(features_valid_norm)))\n",
        "print('negative_recall=', negative_recall(target_valid_norm, cat_model_norm.predict(features_valid_norm)))\n",
        "print('recall=',recall_score(target_valid_norm, cat_model_norm.predict(features_valid_norm)))"
      ],
      "execution_count": null,
      "outputs": [
        {
          "output_type": "stream",
          "text": [
            "Learning rate set to 0.004106\n",
            "0:\tlearn: 0.6919757\ttotal: 583us\tremaining: 583ms\n",
            "200:\tlearn: 0.5331103\ttotal: 133ms\tremaining: 531ms\n",
            "400:\tlearn: 0.4701124\ttotal: 256ms\tremaining: 382ms\n",
            "600:\tlearn: 0.4300489\ttotal: 373ms\tremaining: 247ms\n",
            "800:\tlearn: 0.3979530\ttotal: 502ms\tremaining: 125ms\n",
            "999:\tlearn: 0.3679573\ttotal: 651ms\tremaining: 0us\n",
            "f1= 0.735294117647059\n",
            "accuracy= 0.6470588235294118\n",
            "negative_recall= 0.5294117647058824\n",
            "recall= 0.7352941176470589\n"
          ],
          "name": "stdout"
        }
      ]
    },
    {
      "cell_type": "markdown",
      "metadata": {
        "id": "jSs_ubCVDV_r"
      },
      "source": [
        "Модель градиентного CatBoost не выдает качества лучше, чем Логистическая регрессия. Так как данных не много оценки качества могут быть неточными. \n",
        "На данном этапе оптимальнее использовать логистическую регрессию.\n",
        "\n",
        "## Выводы\n",
        "Для создания модели, предсказывающей вероятность банкротство компании были предоставлены данные по активам и обязательствам 167 компании в разные годы, из них 64% обанкротились, более половины за последние 4 года. Также были предоставлены данные о 2256 исках на компании начиная с 1991 года.     \n",
        "\n",
        "Было выявлено, что количество судебных исков на компанию за последние 3 года сильно коррелирует с фактом банкротства (на 46%). Также банкротство на 24% коррелирует с соотношением обязательств к активам за последний финансовый год.    \n",
        "\n",
        "В результате была построена модель, учитывающая соотношение активов к обязательствам за последний финансовый год и среднее за всё время существования компании.    \n",
        "Качество модели по метрике f1 составило 90.32%. Точность модели (accuracy) 88.23%. При этом модель не прогнозируют клиентам ложное банкротство. \n",
        "В зависимости от общего процента банкроства, количество пропущенных компаний банкротов может варьироваться:\n",
        "- Менее 10% при вероятности банкротсв 70%\n",
        "- Около 34% при вероятности банкротств 30%"
      ]
    }
  ]
}