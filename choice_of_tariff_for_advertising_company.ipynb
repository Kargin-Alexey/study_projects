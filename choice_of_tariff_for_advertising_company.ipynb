{
 "cells": [
  {
   "cell_type": "markdown",
   "metadata": {},
   "source": [
    "# Определение перспективного тарифа для телеком компании\n",
    "\n",
    "Чтобы скорректировать рекламный бюджет, коммерческий департамент хочет понять, какой тариф приносит больше денег: «Смарт» или «Ультра».\n",
    "Так как задача - сравнить, то нам нет смысла выгружать все данные, мы можем провести оценку по случайным выборкам. В нашем распоряжении данные 500 пользователей «Мегалайна»: кто они, откуда, каким тарифом пользуются, сколько звонков и сообщений каждый отправил за 2018 год. Нужно проанализировать поведение клиентов и сделать вывод — какой тариф лучше.\n",
    "\n",
    "## Описание тарифов\n",
    "\n",
    "<b>Тариф «Смарт»</b>  \n",
    "Ежемесячная плата: 550 рублей  \n",
    "Включено 500 минут разговора, 50 сообщений и 15 Гб интернет-трафика  \n",
    "Стоимость услуг сверх тарифного пакета:  \n",
    "минута разговора: 3 рубля  \n",
    "сообщение: 3 рубля  \n",
    "1 Гб интернет-трафика: 200 рублей  \n",
    "<b>Тариф «Ультра»</b>  \n",
    "Ежемесячная плата: 1950 рублей  \n",
    "Включено 3000 минут разговора, 1000 сообщений и 30 Гб интернет-трафика  \n",
    "Стоимость услуг сверх тарифного пакета:  \n",
    "минута разговора: 1 рубль  \n",
    "сообщение: 1 рубль  \n",
    "1 Гб интернет-трафика: 150 рублей  \n",
    "***\n",
    "<b>Обратите внимание:</b>  \n",
    "«Мегалайн» всегда округляет вверх значения минут и мегабайтов. Если пользователь проговорил всего 1 секунду, в тарифе засчитывается целая минута.\n",
    "\n",
    "## Просмотр первичных данных\n",
    "Откроем данные и проанализируем их структуру."
   ]
  },
  {
   "cell_type": "code",
   "execution_count": 1,
   "metadata": {},
   "outputs": [],
   "source": [
    "import pandas as pd\n",
    "from scipy import stats as st\n",
    "import numpy as np"
   ]
  },
  {
   "cell_type": "code",
   "execution_count": 2,
   "metadata": {},
   "outputs": [],
   "source": [
    "calls_df = pd.read_csv('/datasets/calls.csv')\n",
    "internet_df = pd.read_csv('/datasets/internet.csv')\n",
    "messages_df = pd.read_csv('/datasets/messages.csv')\n",
    "tariffs_df = pd.read_csv('/datasets/tariffs.csv')\n",
    "users_df = pd.read_csv('/datasets/users.csv')"
   ]
  },
  {
   "cell_type": "code",
   "execution_count": 3,
   "metadata": {},
   "outputs": [
    {
     "name": "stdout",
     "output_type": "stream",
     "text": [
      "<class 'pandas.core.frame.DataFrame'>\n",
      "RangeIndex: 202607 entries, 0 to 202606\n",
      "Data columns (total 4 columns):\n",
      "id           202607 non-null object\n",
      "call_date    202607 non-null object\n",
      "duration     202607 non-null float64\n",
      "user_id      202607 non-null int64\n",
      "dtypes: float64(1), int64(1), object(2)\n",
      "memory usage: 6.2+ MB\n"
     ]
    },
    {
     "data": {
      "text/html": [
       "<div>\n",
       "<style scoped>\n",
       "    .dataframe tbody tr th:only-of-type {\n",
       "        vertical-align: middle;\n",
       "    }\n",
       "\n",
       "    .dataframe tbody tr th {\n",
       "        vertical-align: top;\n",
       "    }\n",
       "\n",
       "    .dataframe thead th {\n",
       "        text-align: right;\n",
       "    }\n",
       "</style>\n",
       "<table border=\"1\" class=\"dataframe\">\n",
       "  <thead>\n",
       "    <tr style=\"text-align: right;\">\n",
       "      <th></th>\n",
       "      <th>id</th>\n",
       "      <th>call_date</th>\n",
       "      <th>duration</th>\n",
       "      <th>user_id</th>\n",
       "    </tr>\n",
       "  </thead>\n",
       "  <tbody>\n",
       "    <tr>\n",
       "      <td>0</td>\n",
       "      <td>1000_0</td>\n",
       "      <td>2018-07-25</td>\n",
       "      <td>0.00</td>\n",
       "      <td>1000</td>\n",
       "    </tr>\n",
       "    <tr>\n",
       "      <td>1</td>\n",
       "      <td>1000_1</td>\n",
       "      <td>2018-08-17</td>\n",
       "      <td>0.00</td>\n",
       "      <td>1000</td>\n",
       "    </tr>\n",
       "    <tr>\n",
       "      <td>2</td>\n",
       "      <td>1000_2</td>\n",
       "      <td>2018-06-11</td>\n",
       "      <td>2.85</td>\n",
       "      <td>1000</td>\n",
       "    </tr>\n",
       "    <tr>\n",
       "      <td>3</td>\n",
       "      <td>1000_3</td>\n",
       "      <td>2018-09-21</td>\n",
       "      <td>13.80</td>\n",
       "      <td>1000</td>\n",
       "    </tr>\n",
       "    <tr>\n",
       "      <td>4</td>\n",
       "      <td>1000_4</td>\n",
       "      <td>2018-12-15</td>\n",
       "      <td>5.18</td>\n",
       "      <td>1000</td>\n",
       "    </tr>\n",
       "  </tbody>\n",
       "</table>\n",
       "</div>"
      ],
      "text/plain": [
       "       id   call_date  duration  user_id\n",
       "0  1000_0  2018-07-25      0.00     1000\n",
       "1  1000_1  2018-08-17      0.00     1000\n",
       "2  1000_2  2018-06-11      2.85     1000\n",
       "3  1000_3  2018-09-21     13.80     1000\n",
       "4  1000_4  2018-12-15      5.18     1000"
      ]
     },
     "execution_count": 3,
     "metadata": {},
     "output_type": "execute_result"
    }
   ],
   "source": [
    "calls_df.info()\n",
    "calls_df.head()"
   ]
  },
  {
   "cell_type": "code",
   "execution_count": 4,
   "metadata": {},
   "outputs": [
    {
     "name": "stdout",
     "output_type": "stream",
     "text": [
      "<class 'pandas.core.frame.DataFrame'>\n",
      "RangeIndex: 149396 entries, 0 to 149395\n",
      "Data columns (total 5 columns):\n",
      "Unnamed: 0      149396 non-null int64\n",
      "id              149396 non-null object\n",
      "mb_used         149396 non-null float64\n",
      "session_date    149396 non-null object\n",
      "user_id         149396 non-null int64\n",
      "dtypes: float64(1), int64(2), object(2)\n",
      "memory usage: 5.7+ MB\n"
     ]
    },
    {
     "data": {
      "text/html": [
       "<div>\n",
       "<style scoped>\n",
       "    .dataframe tbody tr th:only-of-type {\n",
       "        vertical-align: middle;\n",
       "    }\n",
       "\n",
       "    .dataframe tbody tr th {\n",
       "        vertical-align: top;\n",
       "    }\n",
       "\n",
       "    .dataframe thead th {\n",
       "        text-align: right;\n",
       "    }\n",
       "</style>\n",
       "<table border=\"1\" class=\"dataframe\">\n",
       "  <thead>\n",
       "    <tr style=\"text-align: right;\">\n",
       "      <th></th>\n",
       "      <th>Unnamed: 0</th>\n",
       "      <th>id</th>\n",
       "      <th>mb_used</th>\n",
       "      <th>session_date</th>\n",
       "      <th>user_id</th>\n",
       "    </tr>\n",
       "  </thead>\n",
       "  <tbody>\n",
       "    <tr>\n",
       "      <td>0</td>\n",
       "      <td>0</td>\n",
       "      <td>1000_0</td>\n",
       "      <td>112.95</td>\n",
       "      <td>2018-11-25</td>\n",
       "      <td>1000</td>\n",
       "    </tr>\n",
       "    <tr>\n",
       "      <td>1</td>\n",
       "      <td>1</td>\n",
       "      <td>1000_1</td>\n",
       "      <td>1052.81</td>\n",
       "      <td>2018-09-07</td>\n",
       "      <td>1000</td>\n",
       "    </tr>\n",
       "    <tr>\n",
       "      <td>2</td>\n",
       "      <td>2</td>\n",
       "      <td>1000_2</td>\n",
       "      <td>1197.26</td>\n",
       "      <td>2018-06-25</td>\n",
       "      <td>1000</td>\n",
       "    </tr>\n",
       "    <tr>\n",
       "      <td>3</td>\n",
       "      <td>3</td>\n",
       "      <td>1000_3</td>\n",
       "      <td>550.27</td>\n",
       "      <td>2018-08-22</td>\n",
       "      <td>1000</td>\n",
       "    </tr>\n",
       "    <tr>\n",
       "      <td>4</td>\n",
       "      <td>4</td>\n",
       "      <td>1000_4</td>\n",
       "      <td>302.56</td>\n",
       "      <td>2018-09-24</td>\n",
       "      <td>1000</td>\n",
       "    </tr>\n",
       "  </tbody>\n",
       "</table>\n",
       "</div>"
      ],
      "text/plain": [
       "   Unnamed: 0      id  mb_used session_date  user_id\n",
       "0           0  1000_0   112.95   2018-11-25     1000\n",
       "1           1  1000_1  1052.81   2018-09-07     1000\n",
       "2           2  1000_2  1197.26   2018-06-25     1000\n",
       "3           3  1000_3   550.27   2018-08-22     1000\n",
       "4           4  1000_4   302.56   2018-09-24     1000"
      ]
     },
     "execution_count": 4,
     "metadata": {},
     "output_type": "execute_result"
    }
   ],
   "source": [
    "internet_df.info()\n",
    "internet_df.head()"
   ]
  },
  {
   "cell_type": "code",
   "execution_count": 5,
   "metadata": {},
   "outputs": [
    {
     "name": "stdout",
     "output_type": "stream",
     "text": [
      "<class 'pandas.core.frame.DataFrame'>\n",
      "RangeIndex: 123036 entries, 0 to 123035\n",
      "Data columns (total 3 columns):\n",
      "id              123036 non-null object\n",
      "message_date    123036 non-null object\n",
      "user_id         123036 non-null int64\n",
      "dtypes: int64(1), object(2)\n",
      "memory usage: 2.8+ MB\n"
     ]
    },
    {
     "data": {
      "text/html": [
       "<div>\n",
       "<style scoped>\n",
       "    .dataframe tbody tr th:only-of-type {\n",
       "        vertical-align: middle;\n",
       "    }\n",
       "\n",
       "    .dataframe tbody tr th {\n",
       "        vertical-align: top;\n",
       "    }\n",
       "\n",
       "    .dataframe thead th {\n",
       "        text-align: right;\n",
       "    }\n",
       "</style>\n",
       "<table border=\"1\" class=\"dataframe\">\n",
       "  <thead>\n",
       "    <tr style=\"text-align: right;\">\n",
       "      <th></th>\n",
       "      <th>id</th>\n",
       "      <th>message_date</th>\n",
       "      <th>user_id</th>\n",
       "    </tr>\n",
       "  </thead>\n",
       "  <tbody>\n",
       "    <tr>\n",
       "      <td>0</td>\n",
       "      <td>1000_0</td>\n",
       "      <td>2018-06-27</td>\n",
       "      <td>1000</td>\n",
       "    </tr>\n",
       "    <tr>\n",
       "      <td>1</td>\n",
       "      <td>1000_1</td>\n",
       "      <td>2018-10-08</td>\n",
       "      <td>1000</td>\n",
       "    </tr>\n",
       "    <tr>\n",
       "      <td>2</td>\n",
       "      <td>1000_2</td>\n",
       "      <td>2018-08-04</td>\n",
       "      <td>1000</td>\n",
       "    </tr>\n",
       "    <tr>\n",
       "      <td>3</td>\n",
       "      <td>1000_3</td>\n",
       "      <td>2018-06-16</td>\n",
       "      <td>1000</td>\n",
       "    </tr>\n",
       "    <tr>\n",
       "      <td>4</td>\n",
       "      <td>1000_4</td>\n",
       "      <td>2018-12-05</td>\n",
       "      <td>1000</td>\n",
       "    </tr>\n",
       "  </tbody>\n",
       "</table>\n",
       "</div>"
      ],
      "text/plain": [
       "       id message_date  user_id\n",
       "0  1000_0   2018-06-27     1000\n",
       "1  1000_1   2018-10-08     1000\n",
       "2  1000_2   2018-08-04     1000\n",
       "3  1000_3   2018-06-16     1000\n",
       "4  1000_4   2018-12-05     1000"
      ]
     },
     "execution_count": 5,
     "metadata": {},
     "output_type": "execute_result"
    }
   ],
   "source": [
    "messages_df.info()\n",
    "messages_df.head()"
   ]
  },
  {
   "cell_type": "code",
   "execution_count": 6,
   "metadata": {},
   "outputs": [
    {
     "data": {
      "text/html": [
       "<div>\n",
       "<style scoped>\n",
       "    .dataframe tbody tr th:only-of-type {\n",
       "        vertical-align: middle;\n",
       "    }\n",
       "\n",
       "    .dataframe tbody tr th {\n",
       "        vertical-align: top;\n",
       "    }\n",
       "\n",
       "    .dataframe thead th {\n",
       "        text-align: right;\n",
       "    }\n",
       "</style>\n",
       "<table border=\"1\" class=\"dataframe\">\n",
       "  <thead>\n",
       "    <tr style=\"text-align: right;\">\n",
       "      <th></th>\n",
       "      <th>messages_included</th>\n",
       "      <th>mb_per_month_included</th>\n",
       "      <th>minutes_included</th>\n",
       "      <th>rub_monthly_fee</th>\n",
       "      <th>rub_per_gb</th>\n",
       "      <th>rub_per_message</th>\n",
       "      <th>rub_per_minute</th>\n",
       "      <th>tariff_name</th>\n",
       "    </tr>\n",
       "  </thead>\n",
       "  <tbody>\n",
       "    <tr>\n",
       "      <td>0</td>\n",
       "      <td>50</td>\n",
       "      <td>15360</td>\n",
       "      <td>500</td>\n",
       "      <td>550</td>\n",
       "      <td>200</td>\n",
       "      <td>3</td>\n",
       "      <td>3</td>\n",
       "      <td>smart</td>\n",
       "    </tr>\n",
       "    <tr>\n",
       "      <td>1</td>\n",
       "      <td>1000</td>\n",
       "      <td>30720</td>\n",
       "      <td>3000</td>\n",
       "      <td>1950</td>\n",
       "      <td>150</td>\n",
       "      <td>1</td>\n",
       "      <td>1</td>\n",
       "      <td>ultra</td>\n",
       "    </tr>\n",
       "  </tbody>\n",
       "</table>\n",
       "</div>"
      ],
      "text/plain": [
       "   messages_included  mb_per_month_included  minutes_included  \\\n",
       "0                 50                  15360               500   \n",
       "1               1000                  30720              3000   \n",
       "\n",
       "   rub_monthly_fee  rub_per_gb  rub_per_message  rub_per_minute tariff_name  \n",
       "0              550         200                3               3       smart  \n",
       "1             1950         150                1               1       ultra  "
      ]
     },
     "execution_count": 6,
     "metadata": {},
     "output_type": "execute_result"
    }
   ],
   "source": [
    "tariffs_df"
   ]
  },
  {
   "cell_type": "code",
   "execution_count": 7,
   "metadata": {},
   "outputs": [
    {
     "name": "stdout",
     "output_type": "stream",
     "text": [
      "<class 'pandas.core.frame.DataFrame'>\n",
      "RangeIndex: 500 entries, 0 to 499\n",
      "Data columns (total 8 columns):\n",
      "user_id       500 non-null int64\n",
      "age           500 non-null int64\n",
      "churn_date    38 non-null object\n",
      "city          500 non-null object\n",
      "first_name    500 non-null object\n",
      "last_name     500 non-null object\n",
      "reg_date      500 non-null object\n",
      "tariff        500 non-null object\n",
      "dtypes: int64(2), object(6)\n",
      "memory usage: 31.4+ KB\n"
     ]
    },
    {
     "data": {
      "text/html": [
       "<div>\n",
       "<style scoped>\n",
       "    .dataframe tbody tr th:only-of-type {\n",
       "        vertical-align: middle;\n",
       "    }\n",
       "\n",
       "    .dataframe tbody tr th {\n",
       "        vertical-align: top;\n",
       "    }\n",
       "\n",
       "    .dataframe thead th {\n",
       "        text-align: right;\n",
       "    }\n",
       "</style>\n",
       "<table border=\"1\" class=\"dataframe\">\n",
       "  <thead>\n",
       "    <tr style=\"text-align: right;\">\n",
       "      <th></th>\n",
       "      <th>user_id</th>\n",
       "      <th>age</th>\n",
       "      <th>churn_date</th>\n",
       "      <th>city</th>\n",
       "      <th>first_name</th>\n",
       "      <th>last_name</th>\n",
       "      <th>reg_date</th>\n",
       "      <th>tariff</th>\n",
       "    </tr>\n",
       "  </thead>\n",
       "  <tbody>\n",
       "    <tr>\n",
       "      <td>0</td>\n",
       "      <td>1000</td>\n",
       "      <td>52</td>\n",
       "      <td>NaN</td>\n",
       "      <td>Краснодар</td>\n",
       "      <td>Рафаил</td>\n",
       "      <td>Верещагин</td>\n",
       "      <td>2018-05-25</td>\n",
       "      <td>ultra</td>\n",
       "    </tr>\n",
       "    <tr>\n",
       "      <td>1</td>\n",
       "      <td>1001</td>\n",
       "      <td>41</td>\n",
       "      <td>NaN</td>\n",
       "      <td>Москва</td>\n",
       "      <td>Иван</td>\n",
       "      <td>Ежов</td>\n",
       "      <td>2018-11-01</td>\n",
       "      <td>smart</td>\n",
       "    </tr>\n",
       "    <tr>\n",
       "      <td>2</td>\n",
       "      <td>1002</td>\n",
       "      <td>59</td>\n",
       "      <td>NaN</td>\n",
       "      <td>Стерлитамак</td>\n",
       "      <td>Евгений</td>\n",
       "      <td>Абрамович</td>\n",
       "      <td>2018-06-17</td>\n",
       "      <td>smart</td>\n",
       "    </tr>\n",
       "    <tr>\n",
       "      <td>3</td>\n",
       "      <td>1003</td>\n",
       "      <td>23</td>\n",
       "      <td>NaN</td>\n",
       "      <td>Москва</td>\n",
       "      <td>Белла</td>\n",
       "      <td>Белякова</td>\n",
       "      <td>2018-08-17</td>\n",
       "      <td>ultra</td>\n",
       "    </tr>\n",
       "    <tr>\n",
       "      <td>4</td>\n",
       "      <td>1004</td>\n",
       "      <td>68</td>\n",
       "      <td>NaN</td>\n",
       "      <td>Новокузнецк</td>\n",
       "      <td>Татьяна</td>\n",
       "      <td>Авдеенко</td>\n",
       "      <td>2018-05-14</td>\n",
       "      <td>ultra</td>\n",
       "    </tr>\n",
       "  </tbody>\n",
       "</table>\n",
       "</div>"
      ],
      "text/plain": [
       "   user_id  age churn_date         city first_name  last_name    reg_date  \\\n",
       "0     1000   52        NaN    Краснодар     Рафаил  Верещагин  2018-05-25   \n",
       "1     1001   41        NaN       Москва       Иван       Ежов  2018-11-01   \n",
       "2     1002   59        NaN  Стерлитамак    Евгений  Абрамович  2018-06-17   \n",
       "3     1003   23        NaN       Москва      Белла   Белякова  2018-08-17   \n",
       "4     1004   68        NaN  Новокузнецк    Татьяна   Авдеенко  2018-05-14   \n",
       "\n",
       "  tariff  \n",
       "0  ultra  \n",
       "1  smart  \n",
       "2  smart  \n",
       "3  ultra  \n",
       "4  ultra  "
      ]
     },
     "execution_count": 7,
     "metadata": {},
     "output_type": "execute_result"
    }
   ],
   "source": [
    "users_df.info()\n",
    "users_df.head()"
   ]
  },
  {
   "cell_type": "markdown",
   "metadata": {},
   "source": [
    "Мы имеем данные на 500 абонентов. Их звонки, количество смс и интернет трафик. В данных нет пропусков, кроме даты прекращения пользования тарифом. Проведем первичный анализ данных и подготовку к оценке прибыльности.\n",
    "\n",
    "## Подготовка данных\n",
    "\n",
    "### Пользователи"
   ]
  },
  {
   "cell_type": "markdown",
   "metadata": {},
   "source": [
    "Проверим наличие повторяющихся абонентов."
   ]
  },
  {
   "cell_type": "code",
   "execution_count": 8,
   "metadata": {
    "scrolled": true
   },
   "outputs": [
    {
     "data": {
      "text/plain": [
       "0"
      ]
     },
     "execution_count": 8,
     "metadata": {},
     "output_type": "execute_result"
    }
   ],
   "source": [
    "users_df.duplicated().sum()"
   ]
  },
  {
   "cell_type": "markdown",
   "metadata": {},
   "source": [
    "Одинаковых абонетов нет. Приведем данные к нужным типам."
   ]
  },
  {
   "cell_type": "code",
   "execution_count": 9,
   "metadata": {},
   "outputs": [
    {
     "name": "stdout",
     "output_type": "stream",
     "text": [
      "<class 'pandas.core.frame.DataFrame'>\n",
      "RangeIndex: 500 entries, 0 to 499\n",
      "Data columns (total 8 columns):\n",
      "user_id       500 non-null int64\n",
      "age           500 non-null int64\n",
      "churn_date    38 non-null object\n",
      "city          500 non-null object\n",
      "first_name    500 non-null object\n",
      "last_name     500 non-null object\n",
      "reg_date      500 non-null object\n",
      "tariff        500 non-null object\n",
      "dtypes: int64(2), object(6)\n",
      "memory usage: 31.4+ KB\n"
     ]
    }
   ],
   "source": [
    "users_df.info()"
   ]
  },
  {
   "cell_type": "code",
   "execution_count": 10,
   "metadata": {},
   "outputs": [],
   "source": [
    "users_df['churn_date'] = pd.to_datetime(users_df['churn_date'], format='%Y-%m-%d')\n",
    "users_df['reg_date'] = pd.to_datetime(users_df['reg_date'], format='%Y-%m-%d')"
   ]
  },
  {
   "cell_type": "code",
   "execution_count": 11,
   "metadata": {},
   "outputs": [
    {
     "data": {
      "text/plain": [
       "user_id       500\n",
       "age            58\n",
       "churn_date     33\n",
       "city           76\n",
       "first_name    246\n",
       "last_name     419\n",
       "reg_date      270\n",
       "tariff          2\n",
       "dtype: int64"
      ]
     },
     "execution_count": 11,
     "metadata": {},
     "output_type": "execute_result"
    }
   ],
   "source": [
    "users_df.nunique()"
   ]
  },
  {
   "cell_type": "markdown",
   "metadata": {},
   "source": [
    "### Сообщения"
   ]
  },
  {
   "cell_type": "markdown",
   "metadata": {},
   "source": [
    "Переведем данные к нужному типу."
   ]
  },
  {
   "cell_type": "code",
   "execution_count": 12,
   "metadata": {},
   "outputs": [],
   "source": [
    "messages_df['message_date'] = pd.to_datetime(messages_df['message_date'],format='%Y-%m-%d')"
   ]
  },
  {
   "cell_type": "code",
   "execution_count": 13,
   "metadata": {},
   "outputs": [
    {
     "name": "stdout",
     "output_type": "stream",
     "text": [
      "<class 'pandas.core.frame.DataFrame'>\n",
      "RangeIndex: 123036 entries, 0 to 123035\n",
      "Data columns (total 3 columns):\n",
      "id              123036 non-null object\n",
      "message_date    123036 non-null datetime64[ns]\n",
      "user_id         123036 non-null int64\n",
      "dtypes: datetime64[ns](1), int64(1), object(1)\n",
      "memory usage: 2.8+ MB\n"
     ]
    }
   ],
   "source": [
    "messages_df.info()"
   ]
  },
  {
   "cell_type": "markdown",
   "metadata": {},
   "source": [
    "Посчитаем количество отправленных сообщений для каждого пользователя по месяцам и в целом."
   ]
  },
  {
   "cell_type": "code",
   "execution_count": 14,
   "metadata": {},
   "outputs": [],
   "source": [
    "messages_per_month = messages_df.pivot_table(\n",
    "    index = 'user_id',\n",
    "    columns = messages_df['message_date'].dt.month,\n",
    "    values='message_date',\n",
    "    aggfunc='count',\n",
    "    dropna=False\n",
    ").fillna(0).astype('int')"
   ]
  },
  {
   "cell_type": "code",
   "execution_count": 15,
   "metadata": {},
   "outputs": [],
   "source": [
    "messages_per_month.columns = ['jan','feb','mar','apr','may','jun','jul','aug','sep','okt','nov','dec']"
   ]
  },
  {
   "cell_type": "code",
   "execution_count": 16,
   "metadata": {},
   "outputs": [],
   "source": [
    "messages_per_month['sum'] = messages_per_month.sum(axis=1)"
   ]
  },
  {
   "cell_type": "code",
   "execution_count": 17,
   "metadata": {},
   "outputs": [
    {
     "data": {
      "text/html": [
       "<div>\n",
       "<style scoped>\n",
       "    .dataframe tbody tr th:only-of-type {\n",
       "        vertical-align: middle;\n",
       "    }\n",
       "\n",
       "    .dataframe tbody tr th {\n",
       "        vertical-align: top;\n",
       "    }\n",
       "\n",
       "    .dataframe thead th {\n",
       "        text-align: right;\n",
       "    }\n",
       "</style>\n",
       "<table border=\"1\" class=\"dataframe\">\n",
       "  <thead>\n",
       "    <tr style=\"text-align: right;\">\n",
       "      <th></th>\n",
       "      <th>jan</th>\n",
       "      <th>feb</th>\n",
       "      <th>mar</th>\n",
       "      <th>apr</th>\n",
       "      <th>may</th>\n",
       "      <th>jun</th>\n",
       "      <th>jul</th>\n",
       "      <th>aug</th>\n",
       "      <th>sep</th>\n",
       "      <th>okt</th>\n",
       "      <th>nov</th>\n",
       "      <th>dec</th>\n",
       "      <th>sum</th>\n",
       "    </tr>\n",
       "    <tr>\n",
       "      <th>user_id</th>\n",
       "      <th></th>\n",
       "      <th></th>\n",
       "      <th></th>\n",
       "      <th></th>\n",
       "      <th></th>\n",
       "      <th></th>\n",
       "      <th></th>\n",
       "      <th></th>\n",
       "      <th></th>\n",
       "      <th></th>\n",
       "      <th></th>\n",
       "      <th></th>\n",
       "      <th></th>\n",
       "    </tr>\n",
       "  </thead>\n",
       "  <tbody>\n",
       "    <tr>\n",
       "      <td>1000</td>\n",
       "      <td>0</td>\n",
       "      <td>0</td>\n",
       "      <td>0</td>\n",
       "      <td>0</td>\n",
       "      <td>22</td>\n",
       "      <td>60</td>\n",
       "      <td>75</td>\n",
       "      <td>81</td>\n",
       "      <td>57</td>\n",
       "      <td>73</td>\n",
       "      <td>58</td>\n",
       "      <td>70</td>\n",
       "      <td>496</td>\n",
       "    </tr>\n",
       "    <tr>\n",
       "      <td>1002</td>\n",
       "      <td>0</td>\n",
       "      <td>0</td>\n",
       "      <td>0</td>\n",
       "      <td>0</td>\n",
       "      <td>0</td>\n",
       "      <td>4</td>\n",
       "      <td>11</td>\n",
       "      <td>13</td>\n",
       "      <td>4</td>\n",
       "      <td>10</td>\n",
       "      <td>16</td>\n",
       "      <td>12</td>\n",
       "      <td>70</td>\n",
       "    </tr>\n",
       "    <tr>\n",
       "      <td>1003</td>\n",
       "      <td>0</td>\n",
       "      <td>0</td>\n",
       "      <td>0</td>\n",
       "      <td>0</td>\n",
       "      <td>0</td>\n",
       "      <td>0</td>\n",
       "      <td>0</td>\n",
       "      <td>37</td>\n",
       "      <td>91</td>\n",
       "      <td>83</td>\n",
       "      <td>94</td>\n",
       "      <td>75</td>\n",
       "      <td>380</td>\n",
       "    </tr>\n",
       "    <tr>\n",
       "      <td>1004</td>\n",
       "      <td>0</td>\n",
       "      <td>0</td>\n",
       "      <td>0</td>\n",
       "      <td>0</td>\n",
       "      <td>95</td>\n",
       "      <td>134</td>\n",
       "      <td>181</td>\n",
       "      <td>151</td>\n",
       "      <td>146</td>\n",
       "      <td>165</td>\n",
       "      <td>158</td>\n",
       "      <td>162</td>\n",
       "      <td>1192</td>\n",
       "    </tr>\n",
       "    <tr>\n",
       "      <td>1005</td>\n",
       "      <td>7</td>\n",
       "      <td>38</td>\n",
       "      <td>56</td>\n",
       "      <td>41</td>\n",
       "      <td>42</td>\n",
       "      <td>47</td>\n",
       "      <td>56</td>\n",
       "      <td>64</td>\n",
       "      <td>52</td>\n",
       "      <td>44</td>\n",
       "      <td>51</td>\n",
       "      <td>54</td>\n",
       "      <td>552</td>\n",
       "    </tr>\n",
       "    <tr>\n",
       "      <td>...</td>\n",
       "      <td>...</td>\n",
       "      <td>...</td>\n",
       "      <td>...</td>\n",
       "      <td>...</td>\n",
       "      <td>...</td>\n",
       "      <td>...</td>\n",
       "      <td>...</td>\n",
       "      <td>...</td>\n",
       "      <td>...</td>\n",
       "      <td>...</td>\n",
       "      <td>...</td>\n",
       "      <td>...</td>\n",
       "      <td>...</td>\n",
       "    </tr>\n",
       "    <tr>\n",
       "      <td>1495</td>\n",
       "      <td>0</td>\n",
       "      <td>0</td>\n",
       "      <td>0</td>\n",
       "      <td>0</td>\n",
       "      <td>0</td>\n",
       "      <td>0</td>\n",
       "      <td>0</td>\n",
       "      <td>13</td>\n",
       "      <td>82</td>\n",
       "      <td>82</td>\n",
       "      <td>79</td>\n",
       "      <td>84</td>\n",
       "      <td>340</td>\n",
       "    </tr>\n",
       "    <tr>\n",
       "      <td>1496</td>\n",
       "      <td>9</td>\n",
       "      <td>45</td>\n",
       "      <td>46</td>\n",
       "      <td>49</td>\n",
       "      <td>40</td>\n",
       "      <td>35</td>\n",
       "      <td>42</td>\n",
       "      <td>41</td>\n",
       "      <td>29</td>\n",
       "      <td>35</td>\n",
       "      <td>46</td>\n",
       "      <td>51</td>\n",
       "      <td>468</td>\n",
       "    </tr>\n",
       "    <tr>\n",
       "      <td>1497</td>\n",
       "      <td>0</td>\n",
       "      <td>0</td>\n",
       "      <td>0</td>\n",
       "      <td>0</td>\n",
       "      <td>0</td>\n",
       "      <td>0</td>\n",
       "      <td>0</td>\n",
       "      <td>0</td>\n",
       "      <td>0</td>\n",
       "      <td>20</td>\n",
       "      <td>14</td>\n",
       "      <td>17</td>\n",
       "      <td>51</td>\n",
       "    </tr>\n",
       "    <tr>\n",
       "      <td>1498</td>\n",
       "      <td>0</td>\n",
       "      <td>0</td>\n",
       "      <td>0</td>\n",
       "      <td>0</td>\n",
       "      <td>0</td>\n",
       "      <td>0</td>\n",
       "      <td>20</td>\n",
       "      <td>62</td>\n",
       "      <td>44</td>\n",
       "      <td>42</td>\n",
       "      <td>0</td>\n",
       "      <td>0</td>\n",
       "      <td>168</td>\n",
       "    </tr>\n",
       "    <tr>\n",
       "      <td>1499</td>\n",
       "      <td>0</td>\n",
       "      <td>0</td>\n",
       "      <td>0</td>\n",
       "      <td>0</td>\n",
       "      <td>0</td>\n",
       "      <td>0</td>\n",
       "      <td>0</td>\n",
       "      <td>0</td>\n",
       "      <td>11</td>\n",
       "      <td>48</td>\n",
       "      <td>59</td>\n",
       "      <td>66</td>\n",
       "      <td>184</td>\n",
       "    </tr>\n",
       "  </tbody>\n",
       "</table>\n",
       "<p>426 rows × 13 columns</p>\n",
       "</div>"
      ],
      "text/plain": [
       "         jan  feb  mar  apr  may  jun  jul  aug  sep  okt  nov  dec   sum\n",
       "user_id                                                                  \n",
       "1000       0    0    0    0   22   60   75   81   57   73   58   70   496\n",
       "1002       0    0    0    0    0    4   11   13    4   10   16   12    70\n",
       "1003       0    0    0    0    0    0    0   37   91   83   94   75   380\n",
       "1004       0    0    0    0   95  134  181  151  146  165  158  162  1192\n",
       "1005       7   38   56   41   42   47   56   64   52   44   51   54   552\n",
       "...      ...  ...  ...  ...  ...  ...  ...  ...  ...  ...  ...  ...   ...\n",
       "1495       0    0    0    0    0    0    0   13   82   82   79   84   340\n",
       "1496       9   45   46   49   40   35   42   41   29   35   46   51   468\n",
       "1497       0    0    0    0    0    0    0    0    0   20   14   17    51\n",
       "1498       0    0    0    0    0    0   20   62   44   42    0    0   168\n",
       "1499       0    0    0    0    0    0    0    0   11   48   59   66   184\n",
       "\n",
       "[426 rows x 13 columns]"
      ]
     },
     "execution_count": 17,
     "metadata": {},
     "output_type": "execute_result"
    }
   ],
   "source": [
    "messages_per_month"
   ]
  },
  {
   "cell_type": "markdown",
   "metadata": {},
   "source": [
    "По количеству строк можем сделать вывод, что не для всех абонентов есть данные по смс или не все их отправляли."
   ]
  },
  {
   "cell_type": "markdown",
   "metadata": {},
   "source": [
    "### Интернет трафик  \n",
    "Изменение типов данных."
   ]
  },
  {
   "cell_type": "code",
   "execution_count": 18,
   "metadata": {},
   "outputs": [
    {
     "name": "stdout",
     "output_type": "stream",
     "text": [
      "<class 'pandas.core.frame.DataFrame'>\n",
      "RangeIndex: 149396 entries, 0 to 149395\n",
      "Data columns (total 5 columns):\n",
      "Unnamed: 0      149396 non-null int64\n",
      "id              149396 non-null object\n",
      "mb_used         149396 non-null float64\n",
      "session_date    149396 non-null object\n",
      "user_id         149396 non-null int64\n",
      "dtypes: float64(1), int64(2), object(2)\n",
      "memory usage: 5.7+ MB\n"
     ]
    }
   ],
   "source": [
    "internet_df.info()"
   ]
  },
  {
   "cell_type": "code",
   "execution_count": 19,
   "metadata": {},
   "outputs": [],
   "source": [
    "internet_df['session_date'] = pd.to_datetime(internet_df['session_date'],format='%Y-%m-%d')"
   ]
  },
  {
   "cell_type": "markdown",
   "metadata": {},
   "source": [
    "Проверим есть ли выбросы."
   ]
  },
  {
   "cell_type": "code",
   "execution_count": 20,
   "metadata": {},
   "outputs": [
    {
     "data": {
      "text/plain": [
       "<matplotlib.axes._subplots.AxesSubplot at 0x7fdf950b2cd0>"
      ]
     },
     "execution_count": 20,
     "metadata": {},
     "output_type": "execute_result"
    },
    {
     "data": {
      "image/png": "[encoded data removed]",
      "text/plain": [
       "<Figure size 432x288 with 1 Axes>"
      ]
     },
     "metadata": {
      "needs_background": "light"
     },
     "output_type": "display_data"
    }
   ],
   "source": [
    "internet_df['mb_used'].hist(bins=100)"
   ]
  },
  {
   "cell_type": "markdown",
   "metadata": {},
   "source": [
    "В районе 0 однозначно есть выброс. Посмотрим их внимательнее."
   ]
  },
  {
   "cell_type": "code",
   "execution_count": 21,
   "metadata": {
    "scrolled": true
   },
   "outputs": [
    {
     "data": {
      "text/plain": [
       "<matplotlib.axes._subplots.AxesSubplot at 0x7fdf94618750>"
      ]
     },
     "execution_count": 21,
     "metadata": {},
     "output_type": "execute_result"
    },
    {
     "data": {
      "image/png": "[encoded data removed]",
      "text/plain": [
       "<Figure size 432x288 with 1 Axes>"
      ]
     },
     "metadata": {
      "needs_background": "light"
     },
     "output_type": "display_data"
    }
   ],
   "source": [
    "internet_df['mb_used'].hist(bins=100,range=(0,10))"
   ]
  },
  {
   "cell_type": "code",
   "execution_count": 22,
   "metadata": {},
   "outputs": [
    {
     "data": {
      "text/html": [
       "<div>\n",
       "<style scoped>\n",
       "    .dataframe tbody tr th:only-of-type {\n",
       "        vertical-align: middle;\n",
       "    }\n",
       "\n",
       "    .dataframe tbody tr th {\n",
       "        vertical-align: top;\n",
       "    }\n",
       "\n",
       "    .dataframe thead th {\n",
       "        text-align: right;\n",
       "    }\n",
       "</style>\n",
       "<table border=\"1\" class=\"dataframe\">\n",
       "  <thead>\n",
       "    <tr style=\"text-align: right;\">\n",
       "      <th></th>\n",
       "      <th>Unnamed: 0</th>\n",
       "      <th>id</th>\n",
       "      <th>mb_used</th>\n",
       "      <th>session_date</th>\n",
       "      <th>user_id</th>\n",
       "    </tr>\n",
       "  </thead>\n",
       "  <tbody>\n",
       "    <tr>\n",
       "      <td>11</td>\n",
       "      <td>11</td>\n",
       "      <td>1000_11</td>\n",
       "      <td>0.0</td>\n",
       "      <td>2018-08-28</td>\n",
       "      <td>1000</td>\n",
       "    </tr>\n",
       "    <tr>\n",
       "      <td>38</td>\n",
       "      <td>38</td>\n",
       "      <td>1000_38</td>\n",
       "      <td>0.0</td>\n",
       "      <td>2018-11-27</td>\n",
       "      <td>1000</td>\n",
       "    </tr>\n",
       "    <tr>\n",
       "      <td>46</td>\n",
       "      <td>46</td>\n",
       "      <td>1000_46</td>\n",
       "      <td>0.0</td>\n",
       "      <td>2018-06-30</td>\n",
       "      <td>1000</td>\n",
       "    </tr>\n",
       "    <tr>\n",
       "      <td>67</td>\n",
       "      <td>67</td>\n",
       "      <td>1000_67</td>\n",
       "      <td>0.0</td>\n",
       "      <td>2018-06-16</td>\n",
       "      <td>1000</td>\n",
       "    </tr>\n",
       "    <tr>\n",
       "      <td>72</td>\n",
       "      <td>72</td>\n",
       "      <td>1000_72</td>\n",
       "      <td>0.0</td>\n",
       "      <td>2018-06-15</td>\n",
       "      <td>1000</td>\n",
       "    </tr>\n",
       "    <tr>\n",
       "      <td>...</td>\n",
       "      <td>...</td>\n",
       "      <td>...</td>\n",
       "      <td>...</td>\n",
       "      <td>...</td>\n",
       "      <td>...</td>\n",
       "    </tr>\n",
       "    <tr>\n",
       "      <td>149380</td>\n",
       "      <td>149380</td>\n",
       "      <td>1499_141</td>\n",
       "      <td>0.0</td>\n",
       "      <td>2018-12-11</td>\n",
       "      <td>1499</td>\n",
       "    </tr>\n",
       "    <tr>\n",
       "      <td>149381</td>\n",
       "      <td>149381</td>\n",
       "      <td>1499_142</td>\n",
       "      <td>0.0</td>\n",
       "      <td>2018-11-01</td>\n",
       "      <td>1499</td>\n",
       "    </tr>\n",
       "    <tr>\n",
       "      <td>149383</td>\n",
       "      <td>149383</td>\n",
       "      <td>1499_144</td>\n",
       "      <td>0.0</td>\n",
       "      <td>2018-11-27</td>\n",
       "      <td>1499</td>\n",
       "    </tr>\n",
       "    <tr>\n",
       "      <td>149386</td>\n",
       "      <td>149386</td>\n",
       "      <td>1499_147</td>\n",
       "      <td>0.0</td>\n",
       "      <td>2018-10-21</td>\n",
       "      <td>1499</td>\n",
       "    </tr>\n",
       "    <tr>\n",
       "      <td>149393</td>\n",
       "      <td>149393</td>\n",
       "      <td>1499_154</td>\n",
       "      <td>0.0</td>\n",
       "      <td>2018-10-27</td>\n",
       "      <td>1499</td>\n",
       "    </tr>\n",
       "  </tbody>\n",
       "</table>\n",
       "<p>19598 rows × 5 columns</p>\n",
       "</div>"
      ],
      "text/plain": [
       "        Unnamed: 0        id  mb_used session_date  user_id\n",
       "11              11   1000_11      0.0   2018-08-28     1000\n",
       "38              38   1000_38      0.0   2018-11-27     1000\n",
       "46              46   1000_46      0.0   2018-06-30     1000\n",
       "67              67   1000_67      0.0   2018-06-16     1000\n",
       "72              72   1000_72      0.0   2018-06-15     1000\n",
       "...            ...       ...      ...          ...      ...\n",
       "149380      149380  1499_141      0.0   2018-12-11     1499\n",
       "149381      149381  1499_142      0.0   2018-11-01     1499\n",
       "149383      149383  1499_144      0.0   2018-11-27     1499\n",
       "149386      149386  1499_147      0.0   2018-10-21     1499\n",
       "149393      149393  1499_154      0.0   2018-10-27     1499\n",
       "\n",
       "[19598 rows x 5 columns]"
      ]
     },
     "execution_count": 22,
     "metadata": {},
     "output_type": "execute_result"
    }
   ],
   "source": [
    "internet_df[internet_df['mb_used'] == 0 ]"
   ]
  },
  {
   "cell_type": "markdown",
   "metadata": {},
   "source": [
    "Почти 20 тысяч сессий имеют нулевой трафик. Они не представляют интерес для статистики. Уберем длинный хвост больших значений."
   ]
  },
  {
   "cell_type": "code",
   "execution_count": 23,
   "metadata": {},
   "outputs": [],
   "source": [
    "internet_df1 = internet_df.query('mb_used != 0')"
   ]
  },
  {
   "cell_type": "code",
   "execution_count": 24,
   "metadata": {},
   "outputs": [
    {
     "data": {
      "text/plain": [
       "<matplotlib.axes._subplots.AxesSubplot at 0x7fdf9460a350>"
      ]
     },
     "execution_count": 24,
     "metadata": {},
     "output_type": "execute_result"
    },
    {
     "data": {
      "image/png": "[encoded data removed]",
      "text/plain": [
       "<Figure size 432x288 with 1 Axes>"
      ]
     },
     "metadata": {
      "needs_background": "light"
     },
     "output_type": "display_data"
    }
   ],
   "source": [
    "internet_df1['mb_used'].hist(bins=100,range=(1250,1750))"
   ]
  },
  {
   "cell_type": "code",
   "execution_count": 25,
   "metadata": {},
   "outputs": [],
   "source": [
    "internet_df1 = internet_df.query('mb_used != 0 and mb_used < 1300')"
   ]
  },
  {
   "cell_type": "code",
   "execution_count": 26,
   "metadata": {},
   "outputs": [
    {
     "data": {
      "text/plain": [
       "<matplotlib.axes._subplots.AxesSubplot at 0x7fdf942d4c50>"
      ]
     },
     "execution_count": 26,
     "metadata": {},
     "output_type": "execute_result"
    },
    {
     "data": {
      "image/png": "[encoded data removed]",
      "text/plain": [
       "<Figure size 432x288 with 1 Axes>"
      ]
     },
     "metadata": {
      "needs_background": "light"
     },
     "output_type": "display_data"
    }
   ],
   "source": [
    "internet_df1['mb_used'].hist(bins=100)"
   ]
  },
  {
   "cell_type": "markdown",
   "metadata": {},
   "source": [
    "Распределение похоже на нормальное, но смещено влево.    \n",
    "Посчитаем количество тарфика для каждого пользователя по месяцам, округлив значения до целых гигабайт. Посчитаем весь трафик для каждого пользователя."
   ]
  },
  {
   "cell_type": "code",
   "execution_count": 27,
   "metadata": {},
   "outputs": [],
   "source": [
    "mb_per_month = (internet_df1.pivot_table(\n",
    "    index = 'user_id',\n",
    "    columns = internet_df1['session_date'].dt.month,\n",
    "    values='mb_used',\n",
    "    aggfunc='sum',\n",
    "    dropna=False\n",
    ").fillna(0) / 1024).apply(np.ceil).astype('int') * 1024 #округление до целых гигабайт"
   ]
  },
  {
   "cell_type": "code",
   "execution_count": 28,
   "metadata": {},
   "outputs": [],
   "source": [
    "mb_per_month.columns = ['jan','feb','mar','apr','may','jun','jul','aug','sep','okt','nov','dec']"
   ]
  },
  {
   "cell_type": "code",
   "execution_count": 29,
   "metadata": {},
   "outputs": [],
   "source": [
    "mb_per_month['sum'] = mb_per_month.sum(axis=1)"
   ]
  },
  {
   "cell_type": "code",
   "execution_count": 30,
   "metadata": {},
   "outputs": [
    {
     "data": {
      "text/html": [
       "<div>\n",
       "<style scoped>\n",
       "    .dataframe tbody tr th:only-of-type {\n",
       "        vertical-align: middle;\n",
       "    }\n",
       "\n",
       "    .dataframe tbody tr th {\n",
       "        vertical-align: top;\n",
       "    }\n",
       "\n",
       "    .dataframe thead th {\n",
       "        text-align: right;\n",
       "    }\n",
       "</style>\n",
       "<table border=\"1\" class=\"dataframe\">\n",
       "  <thead>\n",
       "    <tr style=\"text-align: right;\">\n",
       "      <th></th>\n",
       "      <th>jan</th>\n",
       "      <th>feb</th>\n",
       "      <th>mar</th>\n",
       "      <th>apr</th>\n",
       "      <th>may</th>\n",
       "      <th>jun</th>\n",
       "      <th>jul</th>\n",
       "      <th>aug</th>\n",
       "      <th>sep</th>\n",
       "      <th>okt</th>\n",
       "      <th>nov</th>\n",
       "      <th>dec</th>\n",
       "      <th>sum</th>\n",
       "    </tr>\n",
       "    <tr>\n",
       "      <th>user_id</th>\n",
       "      <th></th>\n",
       "      <th></th>\n",
       "      <th></th>\n",
       "      <th></th>\n",
       "      <th></th>\n",
       "      <th></th>\n",
       "      <th></th>\n",
       "      <th></th>\n",
       "      <th></th>\n",
       "      <th></th>\n",
       "      <th></th>\n",
       "      <th></th>\n",
       "      <th></th>\n",
       "    </tr>\n",
       "  </thead>\n",
       "  <tbody>\n",
       "    <tr>\n",
       "      <td>1000</td>\n",
       "      <td>0</td>\n",
       "      <td>0</td>\n",
       "      <td>0</td>\n",
       "      <td>0</td>\n",
       "      <td>3072</td>\n",
       "      <td>23552</td>\n",
       "      <td>14336</td>\n",
       "      <td>14336</td>\n",
       "      <td>15360</td>\n",
       "      <td>15360</td>\n",
       "      <td>14336</td>\n",
       "      <td>10240</td>\n",
       "      <td>110592</td>\n",
       "    </tr>\n",
       "    <tr>\n",
       "      <td>1001</td>\n",
       "      <td>0</td>\n",
       "      <td>0</td>\n",
       "      <td>0</td>\n",
       "      <td>0</td>\n",
       "      <td>0</td>\n",
       "      <td>0</td>\n",
       "      <td>0</td>\n",
       "      <td>0</td>\n",
       "      <td>0</td>\n",
       "      <td>0</td>\n",
       "      <td>18432</td>\n",
       "      <td>14336</td>\n",
       "      <td>32768</td>\n",
       "    </tr>\n",
       "    <tr>\n",
       "      <td>1002</td>\n",
       "      <td>0</td>\n",
       "      <td>0</td>\n",
       "      <td>0</td>\n",
       "      <td>0</td>\n",
       "      <td>0</td>\n",
       "      <td>11264</td>\n",
       "      <td>18432</td>\n",
       "      <td>20480</td>\n",
       "      <td>17408</td>\n",
       "      <td>14336</td>\n",
       "      <td>19456</td>\n",
       "      <td>18432</td>\n",
       "      <td>119808</td>\n",
       "    </tr>\n",
       "    <tr>\n",
       "      <td>1003</td>\n",
       "      <td>0</td>\n",
       "      <td>0</td>\n",
       "      <td>0</td>\n",
       "      <td>0</td>\n",
       "      <td>0</td>\n",
       "      <td>0</td>\n",
       "      <td>0</td>\n",
       "      <td>9216</td>\n",
       "      <td>13312</td>\n",
       "      <td>14336</td>\n",
       "      <td>12288</td>\n",
       "      <td>10240</td>\n",
       "      <td>59392</td>\n",
       "    </tr>\n",
       "    <tr>\n",
       "      <td>1004</td>\n",
       "      <td>0</td>\n",
       "      <td>0</td>\n",
       "      <td>0</td>\n",
       "      <td>0</td>\n",
       "      <td>14336</td>\n",
       "      <td>18432</td>\n",
       "      <td>22528</td>\n",
       "      <td>27648</td>\n",
       "      <td>15360</td>\n",
       "      <td>19456</td>\n",
       "      <td>16384</td>\n",
       "      <td>18432</td>\n",
       "      <td>152576</td>\n",
       "    </tr>\n",
       "    <tr>\n",
       "      <td>...</td>\n",
       "      <td>...</td>\n",
       "      <td>...</td>\n",
       "      <td>...</td>\n",
       "      <td>...</td>\n",
       "      <td>...</td>\n",
       "      <td>...</td>\n",
       "      <td>...</td>\n",
       "      <td>...</td>\n",
       "      <td>...</td>\n",
       "      <td>...</td>\n",
       "      <td>...</td>\n",
       "      <td>...</td>\n",
       "      <td>...</td>\n",
       "    </tr>\n",
       "    <tr>\n",
       "      <td>1495</td>\n",
       "      <td>0</td>\n",
       "      <td>0</td>\n",
       "      <td>0</td>\n",
       "      <td>0</td>\n",
       "      <td>0</td>\n",
       "      <td>0</td>\n",
       "      <td>0</td>\n",
       "      <td>3072</td>\n",
       "      <td>33792</td>\n",
       "      <td>29696</td>\n",
       "      <td>39936</td>\n",
       "      <td>23552</td>\n",
       "      <td>130048</td>\n",
       "    </tr>\n",
       "    <tr>\n",
       "      <td>1496</td>\n",
       "      <td>4096</td>\n",
       "      <td>28672</td>\n",
       "      <td>25600</td>\n",
       "      <td>21504</td>\n",
       "      <td>24576</td>\n",
       "      <td>20480</td>\n",
       "      <td>24576</td>\n",
       "      <td>23552</td>\n",
       "      <td>27648</td>\n",
       "      <td>28672</td>\n",
       "      <td>25600</td>\n",
       "      <td>21504</td>\n",
       "      <td>276480</td>\n",
       "    </tr>\n",
       "    <tr>\n",
       "      <td>1497</td>\n",
       "      <td>0</td>\n",
       "      <td>0</td>\n",
       "      <td>0</td>\n",
       "      <td>0</td>\n",
       "      <td>0</td>\n",
       "      <td>0</td>\n",
       "      <td>0</td>\n",
       "      <td>0</td>\n",
       "      <td>0</td>\n",
       "      <td>12288</td>\n",
       "      <td>14336</td>\n",
       "      <td>20480</td>\n",
       "      <td>47104</td>\n",
       "    </tr>\n",
       "    <tr>\n",
       "      <td>1498</td>\n",
       "      <td>0</td>\n",
       "      <td>0</td>\n",
       "      <td>0</td>\n",
       "      <td>0</td>\n",
       "      <td>0</td>\n",
       "      <td>0</td>\n",
       "      <td>8192</td>\n",
       "      <td>24576</td>\n",
       "      <td>22528</td>\n",
       "      <td>21504</td>\n",
       "      <td>0</td>\n",
       "      <td>0</td>\n",
       "      <td>76800</td>\n",
       "    </tr>\n",
       "    <tr>\n",
       "      <td>1499</td>\n",
       "      <td>0</td>\n",
       "      <td>0</td>\n",
       "      <td>0</td>\n",
       "      <td>0</td>\n",
       "      <td>0</td>\n",
       "      <td>0</td>\n",
       "      <td>0</td>\n",
       "      <td>0</td>\n",
       "      <td>2048</td>\n",
       "      <td>18432</td>\n",
       "      <td>18432</td>\n",
       "      <td>13312</td>\n",
       "      <td>52224</td>\n",
       "    </tr>\n",
       "  </tbody>\n",
       "</table>\n",
       "<p>497 rows × 13 columns</p>\n",
       "</div>"
      ],
      "text/plain": [
       "          jan    feb    mar    apr    may    jun    jul    aug    sep    okt  \\\n",
       "user_id                                                                        \n",
       "1000        0      0      0      0   3072  23552  14336  14336  15360  15360   \n",
       "1001        0      0      0      0      0      0      0      0      0      0   \n",
       "1002        0      0      0      0      0  11264  18432  20480  17408  14336   \n",
       "1003        0      0      0      0      0      0      0   9216  13312  14336   \n",
       "1004        0      0      0      0  14336  18432  22528  27648  15360  19456   \n",
       "...       ...    ...    ...    ...    ...    ...    ...    ...    ...    ...   \n",
       "1495        0      0      0      0      0      0      0   3072  33792  29696   \n",
       "1496     4096  28672  25600  21504  24576  20480  24576  23552  27648  28672   \n",
       "1497        0      0      0      0      0      0      0      0      0  12288   \n",
       "1498        0      0      0      0      0      0   8192  24576  22528  21504   \n",
       "1499        0      0      0      0      0      0      0      0   2048  18432   \n",
       "\n",
       "           nov    dec     sum  \n",
       "user_id                        \n",
       "1000     14336  10240  110592  \n",
       "1001     18432  14336   32768  \n",
       "1002     19456  18432  119808  \n",
       "1003     12288  10240   59392  \n",
       "1004     16384  18432  152576  \n",
       "...        ...    ...     ...  \n",
       "1495     39936  23552  130048  \n",
       "1496     25600  21504  276480  \n",
       "1497     14336  20480   47104  \n",
       "1498         0      0   76800  \n",
       "1499     18432  13312   52224  \n",
       "\n",
       "[497 rows x 13 columns]"
      ]
     },
     "execution_count": 30,
     "metadata": {},
     "output_type": "execute_result"
    }
   ],
   "source": [
    "mb_per_month"
   ]
  },
  {
   "cell_type": "code",
   "execution_count": 31,
   "metadata": {
    "scrolled": true
   },
   "outputs": [
    {
     "data": {
      "text/plain": [
       "<matplotlib.axes._subplots.AxesSubplot at 0x7fdf8bb67d50>"
      ]
     },
     "execution_count": 31,
     "metadata": {},
     "output_type": "execute_result"
    },
    {
     "data": {
      "image/png": "[encoded data removed]",
      "text/plain": [
       "<Figure size 432x288 with 1 Axes>"
      ]
     },
     "metadata": {
      "needs_background": "light"
     },
     "output_type": "display_data"
    }
   ],
   "source": [
    "mb_per_month['sum'].hist(bins=100)"
   ]
  },
  {
   "cell_type": "code",
   "execution_count": 32,
   "metadata": {
    "scrolled": true
   },
   "outputs": [
    {
     "name": "stdout",
     "output_type": "stream",
     "text": [
      "<class 'pandas.core.frame.DataFrame'>\n",
      "Int64Index: 129604 entries, 0 to 149395\n",
      "Data columns (total 5 columns):\n",
      "Unnamed: 0      129604 non-null int64\n",
      "id              129604 non-null object\n",
      "mb_used         129604 non-null float64\n",
      "session_date    129604 non-null datetime64[ns]\n",
      "user_id         129604 non-null int64\n",
      "dtypes: datetime64[ns](1), float64(1), int64(2), object(1)\n",
      "memory usage: 5.9+ MB\n"
     ]
    }
   ],
   "source": [
    "internet_df1.info()"
   ]
  },
  {
   "cell_type": "markdown",
   "metadata": {},
   "source": [
    "Не все абоненты использовали интернет, судя по количеству строк. "
   ]
  },
  {
   "cell_type": "markdown",
   "metadata": {},
   "source": [
    "### Звонки  \n",
    "Приведем данные к нужным типам."
   ]
  },
  {
   "cell_type": "code",
   "execution_count": 33,
   "metadata": {},
   "outputs": [
    {
     "name": "stdout",
     "output_type": "stream",
     "text": [
      "<class 'pandas.core.frame.DataFrame'>\n",
      "RangeIndex: 202607 entries, 0 to 202606\n",
      "Data columns (total 4 columns):\n",
      "id           202607 non-null object\n",
      "call_date    202607 non-null object\n",
      "duration     202607 non-null float64\n",
      "user_id      202607 non-null int64\n",
      "dtypes: float64(1), int64(1), object(2)\n",
      "memory usage: 6.2+ MB\n"
     ]
    }
   ],
   "source": [
    "calls_df.info()"
   ]
  },
  {
   "cell_type": "code",
   "execution_count": 34,
   "metadata": {},
   "outputs": [],
   "source": [
    "calls_df['call_date'] = pd.to_datetime(\n",
    "    calls_df['call_date'], format='%Y-%m-%d'\n",
    ")"
   ]
  },
  {
   "cell_type": "markdown",
   "metadata": {},
   "source": [
    "Посмотрим длительность звонков на наличие выбросов."
   ]
  },
  {
   "cell_type": "code",
   "execution_count": 35,
   "metadata": {},
   "outputs": [
    {
     "data": {
      "text/plain": [
       "<matplotlib.axes._subplots.AxesSubplot at 0x7fdf8ba5a7d0>"
      ]
     },
     "execution_count": 35,
     "metadata": {},
     "output_type": "execute_result"
    },
    {
     "data": {
      "image/png": "[encoded data removed]",
      "text/plain": [
       "<Figure size 432x288 with 1 Axes>"
      ]
     },
     "metadata": {
      "needs_background": "light"
     },
     "output_type": "display_data"
    }
   ],
   "source": [
    "calls_df['duration'].hist(bins=100)"
   ]
  },
  {
   "cell_type": "markdown",
   "metadata": {},
   "source": [
    "Нулевые значения - пропущенные звонки. Опустим их, так как они не вносят вклад в трату минут. Также опустим звонки дольше 25 минут."
   ]
  },
  {
   "cell_type": "code",
   "execution_count": 36,
   "metadata": {},
   "outputs": [
    {
     "data": {
      "text/plain": [
       "<matplotlib.axes._subplots.AxesSubplot at 0x7fdf8b887090>"
      ]
     },
     "execution_count": 36,
     "metadata": {},
     "output_type": "execute_result"
    },
    {
     "data": {
      "image/png": "[encoded data removed]",
      "text/plain": [
       "<Figure size 432x288 with 1 Axes>"
      ]
     },
     "metadata": {
      "needs_background": "light"
     },
     "output_type": "display_data"
    }
   ],
   "source": [
    "calls_df1 = calls_df.query('duration > 0 and duration < 25')\n",
    "\n",
    "calls_df1['duration'].hist(bins=100)"
   ]
  },
  {
   "cell_type": "markdown",
   "metadata": {},
   "source": [
    "Создадим таблицы для длительности звонков и количества звонков в месяц."
   ]
  },
  {
   "cell_type": "code",
   "execution_count": 37,
   "metadata": {},
   "outputs": [
    {
     "data": {
      "text/plain": [
       "0      1000\n",
       "1      1001\n",
       "2      1002\n",
       "3      1003\n",
       "4      1004\n",
       "       ... \n",
       "495    1495\n",
       "496    1496\n",
       "497    1497\n",
       "498    1498\n",
       "499    1499\n",
       "Name: user_id, Length: 500, dtype: int64"
      ]
     },
     "execution_count": 37,
     "metadata": {},
     "output_type": "execute_result"
    }
   ],
   "source": [
    "users_df['user_id']"
   ]
  },
  {
   "cell_type": "code",
   "execution_count": 38,
   "metadata": {},
   "outputs": [],
   "source": [
    "calls_count_per_month = calls_df1.pivot_table(\n",
    "    index = 'user_id',\n",
    "    columns = calls_df1['call_date'].dt.month,\n",
    "    values='duration',\n",
    "    aggfunc= 'count',\n",
    "    dropna=False\n",
    ").fillna(0).astype('int')#количество звонков"
   ]
  },
  {
   "cell_type": "code",
   "execution_count": 39,
   "metadata": {},
   "outputs": [],
   "source": [
    "try:\n",
    "    calls_count_per_month.columns =['jan','feb','mar','apr','may','jun','jul','aug','sep','okt','nov','dec']\n",
    "    calls_count_per_month['sum'] = calls_count_per_month.sum(axis=1)\n",
    "except:\n",
    "    print('Функции уже выполнены')"
   ]
  },
  {
   "cell_type": "code",
   "execution_count": 40,
   "metadata": {
    "scrolled": true
   },
   "outputs": [
    {
     "data": {
      "text/html": [
       "<div>\n",
       "<style scoped>\n",
       "    .dataframe tbody tr th:only-of-type {\n",
       "        vertical-align: middle;\n",
       "    }\n",
       "\n",
       "    .dataframe tbody tr th {\n",
       "        vertical-align: top;\n",
       "    }\n",
       "\n",
       "    .dataframe thead th {\n",
       "        text-align: right;\n",
       "    }\n",
       "</style>\n",
       "<table border=\"1\" class=\"dataframe\">\n",
       "  <thead>\n",
       "    <tr style=\"text-align: right;\">\n",
       "      <th></th>\n",
       "      <th>jan</th>\n",
       "      <th>feb</th>\n",
       "      <th>mar</th>\n",
       "      <th>apr</th>\n",
       "      <th>may</th>\n",
       "      <th>jun</th>\n",
       "      <th>jul</th>\n",
       "      <th>aug</th>\n",
       "      <th>sep</th>\n",
       "      <th>okt</th>\n",
       "      <th>nov</th>\n",
       "      <th>dec</th>\n",
       "      <th>sum</th>\n",
       "    </tr>\n",
       "    <tr>\n",
       "      <th>user_id</th>\n",
       "      <th></th>\n",
       "      <th></th>\n",
       "      <th></th>\n",
       "      <th></th>\n",
       "      <th></th>\n",
       "      <th></th>\n",
       "      <th></th>\n",
       "      <th></th>\n",
       "      <th></th>\n",
       "      <th></th>\n",
       "      <th></th>\n",
       "      <th></th>\n",
       "      <th></th>\n",
       "    </tr>\n",
       "  </thead>\n",
       "  <tbody>\n",
       "    <tr>\n",
       "      <td>1000</td>\n",
       "      <td>0</td>\n",
       "      <td>0</td>\n",
       "      <td>0</td>\n",
       "      <td>0</td>\n",
       "      <td>17</td>\n",
       "      <td>28</td>\n",
       "      <td>41</td>\n",
       "      <td>42</td>\n",
       "      <td>46</td>\n",
       "      <td>44</td>\n",
       "      <td>37</td>\n",
       "      <td>38</td>\n",
       "      <td>293</td>\n",
       "    </tr>\n",
       "    <tr>\n",
       "      <td>1001</td>\n",
       "      <td>0</td>\n",
       "      <td>0</td>\n",
       "      <td>0</td>\n",
       "      <td>0</td>\n",
       "      <td>0</td>\n",
       "      <td>0</td>\n",
       "      <td>0</td>\n",
       "      <td>0</td>\n",
       "      <td>0</td>\n",
       "      <td>0</td>\n",
       "      <td>45</td>\n",
       "      <td>47</td>\n",
       "      <td>92</td>\n",
       "    </tr>\n",
       "    <tr>\n",
       "      <td>1002</td>\n",
       "      <td>0</td>\n",
       "      <td>0</td>\n",
       "      <td>0</td>\n",
       "      <td>0</td>\n",
       "      <td>0</td>\n",
       "      <td>14</td>\n",
       "      <td>20</td>\n",
       "      <td>37</td>\n",
       "      <td>25</td>\n",
       "      <td>24</td>\n",
       "      <td>25</td>\n",
       "      <td>27</td>\n",
       "      <td>172</td>\n",
       "    </tr>\n",
       "    <tr>\n",
       "      <td>1003</td>\n",
       "      <td>0</td>\n",
       "      <td>0</td>\n",
       "      <td>0</td>\n",
       "      <td>0</td>\n",
       "      <td>0</td>\n",
       "      <td>0</td>\n",
       "      <td>0</td>\n",
       "      <td>43</td>\n",
       "      <td>105</td>\n",
       "      <td>97</td>\n",
       "      <td>94</td>\n",
       "      <td>88</td>\n",
       "      <td>427</td>\n",
       "    </tr>\n",
       "    <tr>\n",
       "      <td>1004</td>\n",
       "      <td>0</td>\n",
       "      <td>0</td>\n",
       "      <td>0</td>\n",
       "      <td>0</td>\n",
       "      <td>7</td>\n",
       "      <td>25</td>\n",
       "      <td>20</td>\n",
       "      <td>18</td>\n",
       "      <td>18</td>\n",
       "      <td>21</td>\n",
       "      <td>15</td>\n",
       "      <td>15</td>\n",
       "      <td>139</td>\n",
       "    </tr>\n",
       "    <tr>\n",
       "      <td>...</td>\n",
       "      <td>...</td>\n",
       "      <td>...</td>\n",
       "      <td>...</td>\n",
       "      <td>...</td>\n",
       "      <td>...</td>\n",
       "      <td>...</td>\n",
       "      <td>...</td>\n",
       "      <td>...</td>\n",
       "      <td>...</td>\n",
       "      <td>...</td>\n",
       "      <td>...</td>\n",
       "      <td>...</td>\n",
       "      <td>...</td>\n",
       "    </tr>\n",
       "    <tr>\n",
       "      <td>1495</td>\n",
       "      <td>0</td>\n",
       "      <td>0</td>\n",
       "      <td>0</td>\n",
       "      <td>0</td>\n",
       "      <td>0</td>\n",
       "      <td>0</td>\n",
       "      <td>0</td>\n",
       "      <td>13</td>\n",
       "      <td>95</td>\n",
       "      <td>126</td>\n",
       "      <td>112</td>\n",
       "      <td>120</td>\n",
       "      <td>466</td>\n",
       "    </tr>\n",
       "    <tr>\n",
       "      <td>1496</td>\n",
       "      <td>6</td>\n",
       "      <td>65</td>\n",
       "      <td>67</td>\n",
       "      <td>52</td>\n",
       "      <td>50</td>\n",
       "      <td>57</td>\n",
       "      <td>63</td>\n",
       "      <td>62</td>\n",
       "      <td>58</td>\n",
       "      <td>55</td>\n",
       "      <td>66</td>\n",
       "      <td>65</td>\n",
       "      <td>666</td>\n",
       "    </tr>\n",
       "    <tr>\n",
       "      <td>1497</td>\n",
       "      <td>0</td>\n",
       "      <td>0</td>\n",
       "      <td>0</td>\n",
       "      <td>0</td>\n",
       "      <td>0</td>\n",
       "      <td>0</td>\n",
       "      <td>0</td>\n",
       "      <td>0</td>\n",
       "      <td>0</td>\n",
       "      <td>49</td>\n",
       "      <td>48</td>\n",
       "      <td>58</td>\n",
       "      <td>155</td>\n",
       "    </tr>\n",
       "    <tr>\n",
       "      <td>1498</td>\n",
       "      <td>0</td>\n",
       "      <td>0</td>\n",
       "      <td>0</td>\n",
       "      <td>0</td>\n",
       "      <td>0</td>\n",
       "      <td>0</td>\n",
       "      <td>20</td>\n",
       "      <td>43</td>\n",
       "      <td>53</td>\n",
       "      <td>30</td>\n",
       "      <td>0</td>\n",
       "      <td>0</td>\n",
       "      <td>146</td>\n",
       "    </tr>\n",
       "    <tr>\n",
       "      <td>1499</td>\n",
       "      <td>0</td>\n",
       "      <td>0</td>\n",
       "      <td>0</td>\n",
       "      <td>0</td>\n",
       "      <td>0</td>\n",
       "      <td>0</td>\n",
       "      <td>0</td>\n",
       "      <td>0</td>\n",
       "      <td>8</td>\n",
       "      <td>44</td>\n",
       "      <td>62</td>\n",
       "      <td>56</td>\n",
       "      <td>170</td>\n",
       "    </tr>\n",
       "  </tbody>\n",
       "</table>\n",
       "<p>492 rows × 13 columns</p>\n",
       "</div>"
      ],
      "text/plain": [
       "         jan  feb  mar  apr  may  jun  jul  aug  sep  okt  nov  dec  sum\n",
       "user_id                                                                 \n",
       "1000       0    0    0    0   17   28   41   42   46   44   37   38  293\n",
       "1001       0    0    0    0    0    0    0    0    0    0   45   47   92\n",
       "1002       0    0    0    0    0   14   20   37   25   24   25   27  172\n",
       "1003       0    0    0    0    0    0    0   43  105   97   94   88  427\n",
       "1004       0    0    0    0    7   25   20   18   18   21   15   15  139\n",
       "...      ...  ...  ...  ...  ...  ...  ...  ...  ...  ...  ...  ...  ...\n",
       "1495       0    0    0    0    0    0    0   13   95  126  112  120  466\n",
       "1496       6   65   67   52   50   57   63   62   58   55   66   65  666\n",
       "1497       0    0    0    0    0    0    0    0    0   49   48   58  155\n",
       "1498       0    0    0    0    0    0   20   43   53   30    0    0  146\n",
       "1499       0    0    0    0    0    0    0    0    8   44   62   56  170\n",
       "\n",
       "[492 rows x 13 columns]"
      ]
     },
     "execution_count": 40,
     "metadata": {},
     "output_type": "execute_result"
    }
   ],
   "source": [
    "calls_count_per_month"
   ]
  },
  {
   "cell_type": "code",
   "execution_count": 41,
   "metadata": {
    "scrolled": true
   },
   "outputs": [
    {
     "data": {
      "text/plain": [
       "<matplotlib.axes._subplots.AxesSubplot at 0x7fdf8b6c0310>"
      ]
     },
     "execution_count": 41,
     "metadata": {},
     "output_type": "execute_result"
    },
    {
     "data": {
      "image/png": "[encoded data removed]",
      "text/plain": [
       "<Figure size 432x288 with 1 Axes>"
      ]
     },
     "metadata": {
      "needs_background": "light"
     },
     "output_type": "display_data"
    }
   ],
   "source": [
    "calls_count_per_month['sum'].hist(bins=100)"
   ]
  },
  {
   "cell_type": "code",
   "execution_count": 42,
   "metadata": {},
   "outputs": [],
   "source": [
    "minute_per_month = calls_df1.pivot_table(\n",
    "    index = 'user_id',\n",
    "    columns = calls_df1['call_date'].dt.month,\n",
    "    values='duration',\n",
    "    aggfunc= 'sum',\n",
    "    dropna=False\n",
    ").fillna(0).apply(np.ceil).astype('int')#длительность звонков"
   ]
  },
  {
   "cell_type": "code",
   "execution_count": 43,
   "metadata": {
    "scrolled": true
   },
   "outputs": [
    {
     "data": {
      "text/plain": [
       "<matplotlib.axes._subplots.AxesSubplot at 0x7fdf8b58e7d0>"
      ]
     },
     "execution_count": 43,
     "metadata": {},
     "output_type": "execute_result"
    },
    {
     "data": {
      "image/png": "[encoded data removed]",
      "text/plain": [
       "<Figure size 432x288 with 1 Axes>"
      ]
     },
     "metadata": {
      "needs_background": "light"
     },
     "output_type": "display_data"
    }
   ],
   "source": [
    "minute_per_month.columns = ['jan','feb','mar','apr','may','jun','jul','aug','sep','okt','nov','dec']\n",
    "minute_per_month['sum'] = minute_per_month.sum(axis=1)\n",
    "\n",
    "minute_per_month['sum'].hist(bins=100)"
   ]
  },
  {
   "cell_type": "markdown",
   "metadata": {},
   "source": [
    "### Расчет помесячной выручки с каждого пользователя  \n",
    "Рассчитаем прибыль от каждого абонента, исходя из предыдущих данных."
   ]
  },
  {
   "cell_type": "code",
   "execution_count": 44,
   "metadata": {
    "scrolled": true
   },
   "outputs": [
    {
     "data": {
      "text/html": [
       "<div>\n",
       "<style scoped>\n",
       "    .dataframe tbody tr th:only-of-type {\n",
       "        vertical-align: middle;\n",
       "    }\n",
       "\n",
       "    .dataframe tbody tr th {\n",
       "        vertical-align: top;\n",
       "    }\n",
       "\n",
       "    .dataframe thead th {\n",
       "        text-align: right;\n",
       "    }\n",
       "</style>\n",
       "<table border=\"1\" class=\"dataframe\">\n",
       "  <thead>\n",
       "    <tr style=\"text-align: right;\">\n",
       "      <th></th>\n",
       "      <th>user_id</th>\n",
       "      <th>age</th>\n",
       "      <th>churn_date</th>\n",
       "      <th>city</th>\n",
       "      <th>first_name</th>\n",
       "      <th>last_name</th>\n",
       "      <th>reg_date</th>\n",
       "      <th>tariff</th>\n",
       "    </tr>\n",
       "  </thead>\n",
       "  <tbody>\n",
       "    <tr>\n",
       "      <td>0</td>\n",
       "      <td>1000</td>\n",
       "      <td>52</td>\n",
       "      <td>NaT</td>\n",
       "      <td>Краснодар</td>\n",
       "      <td>Рафаил</td>\n",
       "      <td>Верещагин</td>\n",
       "      <td>2018-05-25</td>\n",
       "      <td>ultra</td>\n",
       "    </tr>\n",
       "    <tr>\n",
       "      <td>1</td>\n",
       "      <td>1001</td>\n",
       "      <td>41</td>\n",
       "      <td>NaT</td>\n",
       "      <td>Москва</td>\n",
       "      <td>Иван</td>\n",
       "      <td>Ежов</td>\n",
       "      <td>2018-11-01</td>\n",
       "      <td>smart</td>\n",
       "    </tr>\n",
       "    <tr>\n",
       "      <td>2</td>\n",
       "      <td>1002</td>\n",
       "      <td>59</td>\n",
       "      <td>NaT</td>\n",
       "      <td>Стерлитамак</td>\n",
       "      <td>Евгений</td>\n",
       "      <td>Абрамович</td>\n",
       "      <td>2018-06-17</td>\n",
       "      <td>smart</td>\n",
       "    </tr>\n",
       "    <tr>\n",
       "      <td>3</td>\n",
       "      <td>1003</td>\n",
       "      <td>23</td>\n",
       "      <td>NaT</td>\n",
       "      <td>Москва</td>\n",
       "      <td>Белла</td>\n",
       "      <td>Белякова</td>\n",
       "      <td>2018-08-17</td>\n",
       "      <td>ultra</td>\n",
       "    </tr>\n",
       "    <tr>\n",
       "      <td>4</td>\n",
       "      <td>1004</td>\n",
       "      <td>68</td>\n",
       "      <td>NaT</td>\n",
       "      <td>Новокузнецк</td>\n",
       "      <td>Татьяна</td>\n",
       "      <td>Авдеенко</td>\n",
       "      <td>2018-05-14</td>\n",
       "      <td>ultra</td>\n",
       "    </tr>\n",
       "    <tr>\n",
       "      <td>...</td>\n",
       "      <td>...</td>\n",
       "      <td>...</td>\n",
       "      <td>...</td>\n",
       "      <td>...</td>\n",
       "      <td>...</td>\n",
       "      <td>...</td>\n",
       "      <td>...</td>\n",
       "      <td>...</td>\n",
       "    </tr>\n",
       "    <tr>\n",
       "      <td>495</td>\n",
       "      <td>1495</td>\n",
       "      <td>65</td>\n",
       "      <td>NaT</td>\n",
       "      <td>Иркутск</td>\n",
       "      <td>Авксентий</td>\n",
       "      <td>Фокин</td>\n",
       "      <td>2018-08-28</td>\n",
       "      <td>ultra</td>\n",
       "    </tr>\n",
       "    <tr>\n",
       "      <td>496</td>\n",
       "      <td>1496</td>\n",
       "      <td>36</td>\n",
       "      <td>NaT</td>\n",
       "      <td>Вологда</td>\n",
       "      <td>Трифон</td>\n",
       "      <td>Блохин</td>\n",
       "      <td>2018-01-27</td>\n",
       "      <td>smart</td>\n",
       "    </tr>\n",
       "    <tr>\n",
       "      <td>497</td>\n",
       "      <td>1497</td>\n",
       "      <td>32</td>\n",
       "      <td>NaT</td>\n",
       "      <td>Челябинск</td>\n",
       "      <td>Каролина</td>\n",
       "      <td>Агеева</td>\n",
       "      <td>2018-10-09</td>\n",
       "      <td>smart</td>\n",
       "    </tr>\n",
       "    <tr>\n",
       "      <td>498</td>\n",
       "      <td>1498</td>\n",
       "      <td>68</td>\n",
       "      <td>2018-10-25</td>\n",
       "      <td>Владикавказ</td>\n",
       "      <td>Всеволод</td>\n",
       "      <td>Акимчин</td>\n",
       "      <td>2018-07-19</td>\n",
       "      <td>smart</td>\n",
       "    </tr>\n",
       "    <tr>\n",
       "      <td>499</td>\n",
       "      <td>1499</td>\n",
       "      <td>35</td>\n",
       "      <td>NaT</td>\n",
       "      <td>Пермь</td>\n",
       "      <td>Гектор</td>\n",
       "      <td>Корнилов</td>\n",
       "      <td>2018-09-27</td>\n",
       "      <td>smart</td>\n",
       "    </tr>\n",
       "  </tbody>\n",
       "</table>\n",
       "<p>500 rows × 8 columns</p>\n",
       "</div>"
      ],
      "text/plain": [
       "     user_id  age churn_date         city first_name  last_name   reg_date  \\\n",
       "0       1000   52        NaT    Краснодар     Рафаил  Верещагин 2018-05-25   \n",
       "1       1001   41        NaT       Москва       Иван       Ежов 2018-11-01   \n",
       "2       1002   59        NaT  Стерлитамак    Евгений  Абрамович 2018-06-17   \n",
       "3       1003   23        NaT       Москва      Белла   Белякова 2018-08-17   \n",
       "4       1004   68        NaT  Новокузнецк    Татьяна   Авдеенко 2018-05-14   \n",
       "..       ...  ...        ...          ...        ...        ...        ...   \n",
       "495     1495   65        NaT      Иркутск  Авксентий      Фокин 2018-08-28   \n",
       "496     1496   36        NaT      Вологда     Трифон     Блохин 2018-01-27   \n",
       "497     1497   32        NaT    Челябинск   Каролина     Агеева 2018-10-09   \n",
       "498     1498   68 2018-10-25  Владикавказ   Всеволод    Акимчин 2018-07-19   \n",
       "499     1499   35        NaT        Пермь     Гектор   Корнилов 2018-09-27   \n",
       "\n",
       "    tariff  \n",
       "0    ultra  \n",
       "1    smart  \n",
       "2    smart  \n",
       "3    ultra  \n",
       "4    ultra  \n",
       "..     ...  \n",
       "495  ultra  \n",
       "496  smart  \n",
       "497  smart  \n",
       "498  smart  \n",
       "499  smart  \n",
       "\n",
       "[500 rows x 8 columns]"
      ]
     },
     "execution_count": 44,
     "metadata": {},
     "output_type": "execute_result"
    }
   ],
   "source": [
    "users_df"
   ]
  },
  {
   "cell_type": "code",
   "execution_count": 45,
   "metadata": {},
   "outputs": [],
   "source": [
    "gain_per_month = users_df[['user_id','tariff']]"
   ]
  },
  {
   "cell_type": "code",
   "execution_count": 46,
   "metadata": {},
   "outputs": [],
   "source": [
    "def gain(row):\n",
    "    minuts = row['minuts']\n",
    "    mb = row['mb']\n",
    "    messages = row['messages']\n",
    "    \n",
    "    if row['reg_date'].month > month_index:\n",
    "        return 0\n",
    "    if row['churn_date'].month < month_index:\n",
    "        return 0\n",
    "    \n",
    "    if row[\"tariff\"] == 'ultra':\n",
    "        tariff = tariffs_df.query('tariff_name == \"ultra\"').reset_index()\n",
    "    else:\n",
    "        tariff = tariffs_df.query('tariff_name == \"smart\"')\n",
    "        \n",
    "    gain = tariff.loc[0,'rub_monthly_fee']\n",
    "    \n",
    "    if minuts > tariff.loc[0,'minutes_included'].item():\n",
    "        gain += (minuts - tariff.loc[0,'minutes_included']) * tariff.loc[0,'rub_per_minute']\n",
    "\n",
    "    if messages > tariff.loc[0,'messages_included']:\n",
    "        gain += (messages - tariff.loc[0,'messages_included']) * tariff.loc[0,'rub_per_message']\n",
    "        \n",
    "    if mb >  tariff.loc[0,'mb_per_month_included']:\n",
    "        gain += (mb - tariff.loc[0,'mb_per_month_included']) * tariff.loc[0,'rub_per_gb'] / 1024\n",
    "        \n",
    "    return gain.round(1)"
   ]
  },
  {
   "cell_type": "code",
   "execution_count": 47,
   "metadata": {
    "scrolled": true
   },
   "outputs": [
    {
     "name": "stderr",
     "output_type": "stream",
     "text": [
      "/opt/conda/lib/python3.7/site-packages/ipykernel_launcher.py:11: SettingWithCopyWarning: \n",
      "A value is trying to be set on a copy of a slice from a DataFrame.\n",
      "Try using .loc[row_indexer,col_indexer] = value instead\n",
      "\n",
      "See the caveats in the documentation: http://pandas.pydata.org/pandas-docs/stable/user_guide/indexing.html#returning-a-view-versus-a-copy\n",
      "  # This is added back by InteractiveShellApp.init_path()\n"
     ]
    }
   ],
   "source": [
    "month_index = 1\n",
    "for mon in ['jan','feb','mar','apr','may','jun','jul','aug','sep','okt','nov','dec']:\n",
    "    \n",
    "    month = pd.DataFrame(data = minute_per_month[mon],index = users_df['user_id'])\n",
    "    month.columns = ['minuts']\n",
    "    month['mb'] = mb_per_month[mon]\n",
    "    month['messages'] = messages_per_month[mon]\n",
    "    \n",
    "    month = month.fillna(0).reset_index()\n",
    "    month['tariff'] = users_df['tariff'].reindex_like(users_df['user_id'])\n",
    "    month['reg_date'] = users_df['reg_date'].reindex_like(users_df['user_id'])\n",
    "    month['churn_date'] = users_df['churn_date'].reindex_like(users_df['user_id'])\n",
    "    \n",
    "    gain_per_month[mon] = month.apply(gain,axis=1)\n",
    "    month_index += 1\n",
    "    \n",
    "    \n",
    "gain_per_month['sum'] = gain_per_month.loc[:,'jan':'dec'].sum(axis=1)"
   ]
  },
  {
   "cell_type": "code",
   "execution_count": 48,
   "metadata": {},
   "outputs": [
    {
     "data": {
      "text/html": [
       "<div>\n",
       "<style scoped>\n",
       "    .dataframe tbody tr th:only-of-type {\n",
       "        vertical-align: middle;\n",
       "    }\n",
       "\n",
       "    .dataframe tbody tr th {\n",
       "        vertical-align: top;\n",
       "    }\n",
       "\n",
       "    .dataframe thead th {\n",
       "        text-align: right;\n",
       "    }\n",
       "</style>\n",
       "<table border=\"1\" class=\"dataframe\">\n",
       "  <thead>\n",
       "    <tr style=\"text-align: right;\">\n",
       "      <th></th>\n",
       "      <th>user_id</th>\n",
       "      <th>tariff</th>\n",
       "      <th>jan</th>\n",
       "      <th>feb</th>\n",
       "      <th>mar</th>\n",
       "      <th>apr</th>\n",
       "      <th>may</th>\n",
       "      <th>jun</th>\n",
       "      <th>jul</th>\n",
       "      <th>aug</th>\n",
       "      <th>sep</th>\n",
       "      <th>okt</th>\n",
       "      <th>nov</th>\n",
       "      <th>dec</th>\n",
       "      <th>sum</th>\n",
       "    </tr>\n",
       "  </thead>\n",
       "  <tbody>\n",
       "    <tr>\n",
       "      <td>0</td>\n",
       "      <td>1000</td>\n",
       "      <td>ultra</td>\n",
       "      <td>0.0</td>\n",
       "      <td>0.0</td>\n",
       "      <td>0.0</td>\n",
       "      <td>0.0</td>\n",
       "      <td>1950.0</td>\n",
       "      <td>1950.0</td>\n",
       "      <td>1950.0</td>\n",
       "      <td>1950.0</td>\n",
       "      <td>1950.0</td>\n",
       "      <td>1950.0</td>\n",
       "      <td>1950.0</td>\n",
       "      <td>1950.0</td>\n",
       "      <td>15600.0</td>\n",
       "    </tr>\n",
       "    <tr>\n",
       "      <td>1</td>\n",
       "      <td>1001</td>\n",
       "      <td>smart</td>\n",
       "      <td>0.0</td>\n",
       "      <td>0.0</td>\n",
       "      <td>0.0</td>\n",
       "      <td>0.0</td>\n",
       "      <td>0.0</td>\n",
       "      <td>0.0</td>\n",
       "      <td>0.0</td>\n",
       "      <td>0.0</td>\n",
       "      <td>0.0</td>\n",
       "      <td>0.0</td>\n",
       "      <td>1150.0</td>\n",
       "      <td>550.0</td>\n",
       "      <td>1700.0</td>\n",
       "    </tr>\n",
       "    <tr>\n",
       "      <td>2</td>\n",
       "      <td>1002</td>\n",
       "      <td>smart</td>\n",
       "      <td>0.0</td>\n",
       "      <td>0.0</td>\n",
       "      <td>0.0</td>\n",
       "      <td>0.0</td>\n",
       "      <td>0.0</td>\n",
       "      <td>550.0</td>\n",
       "      <td>1150.0</td>\n",
       "      <td>1550.0</td>\n",
       "      <td>950.0</td>\n",
       "      <td>550.0</td>\n",
       "      <td>1350.0</td>\n",
       "      <td>1150.0</td>\n",
       "      <td>7250.0</td>\n",
       "    </tr>\n",
       "    <tr>\n",
       "      <td>3</td>\n",
       "      <td>1003</td>\n",
       "      <td>ultra</td>\n",
       "      <td>0.0</td>\n",
       "      <td>0.0</td>\n",
       "      <td>0.0</td>\n",
       "      <td>0.0</td>\n",
       "      <td>0.0</td>\n",
       "      <td>0.0</td>\n",
       "      <td>0.0</td>\n",
       "      <td>1950.0</td>\n",
       "      <td>1950.0</td>\n",
       "      <td>1950.0</td>\n",
       "      <td>1950.0</td>\n",
       "      <td>1950.0</td>\n",
       "      <td>9750.0</td>\n",
       "    </tr>\n",
       "    <tr>\n",
       "      <td>4</td>\n",
       "      <td>1004</td>\n",
       "      <td>ultra</td>\n",
       "      <td>0.0</td>\n",
       "      <td>0.0</td>\n",
       "      <td>0.0</td>\n",
       "      <td>0.0</td>\n",
       "      <td>1950.0</td>\n",
       "      <td>1950.0</td>\n",
       "      <td>1950.0</td>\n",
       "      <td>1950.0</td>\n",
       "      <td>1950.0</td>\n",
       "      <td>1950.0</td>\n",
       "      <td>1950.0</td>\n",
       "      <td>1950.0</td>\n",
       "      <td>15600.0</td>\n",
       "    </tr>\n",
       "    <tr>\n",
       "      <td>...</td>\n",
       "      <td>...</td>\n",
       "      <td>...</td>\n",
       "      <td>...</td>\n",
       "      <td>...</td>\n",
       "      <td>...</td>\n",
       "      <td>...</td>\n",
       "      <td>...</td>\n",
       "      <td>...</td>\n",
       "      <td>...</td>\n",
       "      <td>...</td>\n",
       "      <td>...</td>\n",
       "      <td>...</td>\n",
       "      <td>...</td>\n",
       "      <td>...</td>\n",
       "      <td>...</td>\n",
       "    </tr>\n",
       "    <tr>\n",
       "      <td>495</td>\n",
       "      <td>1495</td>\n",
       "      <td>ultra</td>\n",
       "      <td>0.0</td>\n",
       "      <td>0.0</td>\n",
       "      <td>0.0</td>\n",
       "      <td>0.0</td>\n",
       "      <td>0.0</td>\n",
       "      <td>0.0</td>\n",
       "      <td>0.0</td>\n",
       "      <td>1950.0</td>\n",
       "      <td>2400.0</td>\n",
       "      <td>1950.0</td>\n",
       "      <td>3300.0</td>\n",
       "      <td>1950.0</td>\n",
       "      <td>11550.0</td>\n",
       "    </tr>\n",
       "    <tr>\n",
       "      <td>496</td>\n",
       "      <td>1496</td>\n",
       "      <td>smart</td>\n",
       "      <td>550.0</td>\n",
       "      <td>3336.0</td>\n",
       "      <td>2616.0</td>\n",
       "      <td>1750.0</td>\n",
       "      <td>2350.0</td>\n",
       "      <td>1640.0</td>\n",
       "      <td>2503.0</td>\n",
       "      <td>2150.0</td>\n",
       "      <td>2950.0</td>\n",
       "      <td>3150.0</td>\n",
       "      <td>2952.0</td>\n",
       "      <td>1753.0</td>\n",
       "      <td>27700.0</td>\n",
       "    </tr>\n",
       "    <tr>\n",
       "      <td>497</td>\n",
       "      <td>1497</td>\n",
       "      <td>smart</td>\n",
       "      <td>0.0</td>\n",
       "      <td>0.0</td>\n",
       "      <td>0.0</td>\n",
       "      <td>0.0</td>\n",
       "      <td>0.0</td>\n",
       "      <td>0.0</td>\n",
       "      <td>0.0</td>\n",
       "      <td>0.0</td>\n",
       "      <td>0.0</td>\n",
       "      <td>550.0</td>\n",
       "      <td>550.0</td>\n",
       "      <td>1598.0</td>\n",
       "      <td>2698.0</td>\n",
       "    </tr>\n",
       "    <tr>\n",
       "      <td>498</td>\n",
       "      <td>1498</td>\n",
       "      <td>smart</td>\n",
       "      <td>0.0</td>\n",
       "      <td>0.0</td>\n",
       "      <td>0.0</td>\n",
       "      <td>0.0</td>\n",
       "      <td>0.0</td>\n",
       "      <td>0.0</td>\n",
       "      <td>550.0</td>\n",
       "      <td>2386.0</td>\n",
       "      <td>1950.0</td>\n",
       "      <td>1750.0</td>\n",
       "      <td>0.0</td>\n",
       "      <td>0.0</td>\n",
       "      <td>6636.0</td>\n",
       "    </tr>\n",
       "    <tr>\n",
       "      <td>499</td>\n",
       "      <td>1499</td>\n",
       "      <td>smart</td>\n",
       "      <td>0.0</td>\n",
       "      <td>0.0</td>\n",
       "      <td>0.0</td>\n",
       "      <td>0.0</td>\n",
       "      <td>0.0</td>\n",
       "      <td>0.0</td>\n",
       "      <td>0.0</td>\n",
       "      <td>0.0</td>\n",
       "      <td>550.0</td>\n",
       "      <td>1150.0</td>\n",
       "      <td>1408.0</td>\n",
       "      <td>598.0</td>\n",
       "      <td>3706.0</td>\n",
       "    </tr>\n",
       "  </tbody>\n",
       "</table>\n",
       "<p>500 rows × 15 columns</p>\n",
       "</div>"
      ],
      "text/plain": [
       "     user_id tariff    jan     feb     mar     apr     may     jun     jul  \\\n",
       "0       1000  ultra    0.0     0.0     0.0     0.0  1950.0  1950.0  1950.0   \n",
       "1       1001  smart    0.0     0.0     0.0     0.0     0.0     0.0     0.0   \n",
       "2       1002  smart    0.0     0.0     0.0     0.0     0.0   550.0  1150.0   \n",
       "3       1003  ultra    0.0     0.0     0.0     0.0     0.0     0.0     0.0   \n",
       "4       1004  ultra    0.0     0.0     0.0     0.0  1950.0  1950.0  1950.0   \n",
       "..       ...    ...    ...     ...     ...     ...     ...     ...     ...   \n",
       "495     1495  ultra    0.0     0.0     0.0     0.0     0.0     0.0     0.0   \n",
       "496     1496  smart  550.0  3336.0  2616.0  1750.0  2350.0  1640.0  2503.0   \n",
       "497     1497  smart    0.0     0.0     0.0     0.0     0.0     0.0     0.0   \n",
       "498     1498  smart    0.0     0.0     0.0     0.0     0.0     0.0   550.0   \n",
       "499     1499  smart    0.0     0.0     0.0     0.0     0.0     0.0     0.0   \n",
       "\n",
       "        aug     sep     okt     nov     dec      sum  \n",
       "0    1950.0  1950.0  1950.0  1950.0  1950.0  15600.0  \n",
       "1       0.0     0.0     0.0  1150.0   550.0   1700.0  \n",
       "2    1550.0   950.0   550.0  1350.0  1150.0   7250.0  \n",
       "3    1950.0  1950.0  1950.0  1950.0  1950.0   9750.0  \n",
       "4    1950.0  1950.0  1950.0  1950.0  1950.0  15600.0  \n",
       "..      ...     ...     ...     ...     ...      ...  \n",
       "495  1950.0  2400.0  1950.0  3300.0  1950.0  11550.0  \n",
       "496  2150.0  2950.0  3150.0  2952.0  1753.0  27700.0  \n",
       "497     0.0     0.0   550.0   550.0  1598.0   2698.0  \n",
       "498  2386.0  1950.0  1750.0     0.0     0.0   6636.0  \n",
       "499     0.0   550.0  1150.0  1408.0   598.0   3706.0  \n",
       "\n",
       "[500 rows x 15 columns]"
      ]
     },
     "execution_count": 48,
     "metadata": {},
     "output_type": "execute_result"
    }
   ],
   "source": [
    "gain_per_month"
   ]
  },
  {
   "cell_type": "code",
   "execution_count": 49,
   "metadata": {},
   "outputs": [
    {
     "data": {
      "text/plain": [
       "<matplotlib.axes._subplots.AxesSubplot at 0x7fdf8b381810>"
      ]
     },
     "execution_count": 49,
     "metadata": {},
     "output_type": "execute_result"
    },
    {
     "data": {
      "image/png": "[encoded data removed]",
      "text/plain": [
       "<Figure size 432x288 with 1 Axes>"
      ]
     },
     "metadata": {
      "needs_background": "light"
     },
     "output_type": "display_data"
    }
   ],
   "source": [
    "gain_per_month['sum'].hist(bins=50)"
   ]
  },
  {
   "cell_type": "markdown",
   "metadata": {},
   "source": [
    "Суммарный вклад пользователе за год смещен в сторону значений меньше 12 тысячь, это значит, что большое количество пользователей либо подключилось после половины года, либо предпочитают недорогой тариф.  \n",
    "\n",
    "## Проанализируем данные.  \n",
    "\n",
    "Опишите поведение клиентов оператора, исходя из выборки. Сколько минут разговора, сколько сообщений и какой объём интернет-трафика требуется пользователям каждого тарифа в месяц? Посчитайте среднее количество, дисперсию и стандартное отклонение. Постройте гистограммы. Опишите распределения.\n",
    "\n",
    "Разобьём всех пользователей на группы по тарифам."
   ]
  },
  {
   "cell_type": "code",
   "execution_count": 50,
   "metadata": {},
   "outputs": [
    {
     "data": {
      "text/html": [
       "<div>\n",
       "<style scoped>\n",
       "    .dataframe tbody tr th:only-of-type {\n",
       "        vertical-align: middle;\n",
       "    }\n",
       "\n",
       "    .dataframe tbody tr th {\n",
       "        vertical-align: top;\n",
       "    }\n",
       "\n",
       "    .dataframe thead th {\n",
       "        text-align: right;\n",
       "    }\n",
       "</style>\n",
       "<table border=\"1\" class=\"dataframe\">\n",
       "  <thead>\n",
       "    <tr style=\"text-align: right;\">\n",
       "      <th></th>\n",
       "      <th>messages_included</th>\n",
       "      <th>mb_per_month_included</th>\n",
       "      <th>minutes_included</th>\n",
       "      <th>rub_monthly_fee</th>\n",
       "      <th>rub_per_gb</th>\n",
       "      <th>rub_per_message</th>\n",
       "      <th>rub_per_minute</th>\n",
       "      <th>tariff_name</th>\n",
       "    </tr>\n",
       "  </thead>\n",
       "  <tbody>\n",
       "    <tr>\n",
       "      <td>0</td>\n",
       "      <td>50</td>\n",
       "      <td>15360</td>\n",
       "      <td>500</td>\n",
       "      <td>550</td>\n",
       "      <td>200</td>\n",
       "      <td>3</td>\n",
       "      <td>3</td>\n",
       "      <td>smart</td>\n",
       "    </tr>\n",
       "    <tr>\n",
       "      <td>1</td>\n",
       "      <td>1000</td>\n",
       "      <td>30720</td>\n",
       "      <td>3000</td>\n",
       "      <td>1950</td>\n",
       "      <td>150</td>\n",
       "      <td>1</td>\n",
       "      <td>1</td>\n",
       "      <td>ultra</td>\n",
       "    </tr>\n",
       "  </tbody>\n",
       "</table>\n",
       "</div>"
      ],
      "text/plain": [
       "   messages_included  mb_per_month_included  minutes_included  \\\n",
       "0                 50                  15360               500   \n",
       "1               1000                  30720              3000   \n",
       "\n",
       "   rub_monthly_fee  rub_per_gb  rub_per_message  rub_per_minute tariff_name  \n",
       "0              550         200                3               3       smart  \n",
       "1             1950         150                1               1       ultra  "
      ]
     },
     "execution_count": 50,
     "metadata": {},
     "output_type": "execute_result"
    }
   ],
   "source": [
    "tariffs_df"
   ]
  },
  {
   "cell_type": "code",
   "execution_count": 51,
   "metadata": {},
   "outputs": [
    {
     "data": {
      "text/plain": [
       "1      1001\n",
       "2      1002\n",
       "5      1005\n",
       "6      1006\n",
       "7      1007\n",
       "       ... \n",
       "494    1494\n",
       "496    1496\n",
       "497    1497\n",
       "498    1498\n",
       "499    1499\n",
       "Name: user_id, Length: 351, dtype: int64"
      ]
     },
     "execution_count": 51,
     "metadata": {},
     "output_type": "execute_result"
    }
   ],
   "source": [
    "smart_users = users_df.query('tariff == \"smart\"')['user_id']\n",
    "ultra_users = users_df.query('tariff == \"ultra\"')['user_id']\n",
    "smart_users"
   ]
  },
  {
   "cell_type": "markdown",
   "metadata": {},
   "source": [
    "### Сообщения  \n",
    "Изучим использование смс абонентами с разными тарифами.\n",
    "#### Тариф Смарт"
   ]
  },
  {
   "cell_type": "code",
   "execution_count": 52,
   "metadata": {},
   "outputs": [
    {
     "data": {
      "text/html": [
       "<div>\n",
       "<style scoped>\n",
       "    .dataframe tbody tr th:only-of-type {\n",
       "        vertical-align: middle;\n",
       "    }\n",
       "\n",
       "    .dataframe tbody tr th {\n",
       "        vertical-align: top;\n",
       "    }\n",
       "\n",
       "    .dataframe thead th {\n",
       "        text-align: right;\n",
       "    }\n",
       "</style>\n",
       "<table border=\"1\" class=\"dataframe\">\n",
       "  <thead>\n",
       "    <tr style=\"text-align: right;\">\n",
       "      <th></th>\n",
       "      <th>jan</th>\n",
       "      <th>feb</th>\n",
       "      <th>mar</th>\n",
       "      <th>apr</th>\n",
       "      <th>may</th>\n",
       "      <th>jun</th>\n",
       "      <th>jul</th>\n",
       "      <th>aug</th>\n",
       "      <th>sep</th>\n",
       "      <th>okt</th>\n",
       "      <th>nov</th>\n",
       "      <th>dec</th>\n",
       "      <th>sum</th>\n",
       "    </tr>\n",
       "  </thead>\n",
       "  <tbody>\n",
       "    <tr>\n",
       "      <td>count</td>\n",
       "      <td>302</td>\n",
       "      <td>302</td>\n",
       "      <td>302</td>\n",
       "      <td>302</td>\n",
       "      <td>302</td>\n",
       "      <td>302</td>\n",
       "      <td>302</td>\n",
       "      <td>302</td>\n",
       "      <td>302</td>\n",
       "      <td>302</td>\n",
       "      <td>302</td>\n",
       "      <td>302</td>\n",
       "      <td>302</td>\n",
       "    </tr>\n",
       "    <tr>\n",
       "      <td>mean</td>\n",
       "      <td>2</td>\n",
       "      <td>4</td>\n",
       "      <td>8</td>\n",
       "      <td>11</td>\n",
       "      <td>15</td>\n",
       "      <td>18</td>\n",
       "      <td>22</td>\n",
       "      <td>26</td>\n",
       "      <td>28</td>\n",
       "      <td>32</td>\n",
       "      <td>35</td>\n",
       "      <td>40</td>\n",
       "      <td>246</td>\n",
       "    </tr>\n",
       "    <tr>\n",
       "      <td>std</td>\n",
       "      <td>7</td>\n",
       "      <td>13</td>\n",
       "      <td>19</td>\n",
       "      <td>21</td>\n",
       "      <td>24</td>\n",
       "      <td>26</td>\n",
       "      <td>28</td>\n",
       "      <td>29</td>\n",
       "      <td>28</td>\n",
       "      <td>28</td>\n",
       "      <td>28</td>\n",
       "      <td>29</td>\n",
       "      <td>222</td>\n",
       "    </tr>\n",
       "    <tr>\n",
       "      <td>min</td>\n",
       "      <td>0</td>\n",
       "      <td>0</td>\n",
       "      <td>0</td>\n",
       "      <td>0</td>\n",
       "      <td>0</td>\n",
       "      <td>0</td>\n",
       "      <td>0</td>\n",
       "      <td>0</td>\n",
       "      <td>0</td>\n",
       "      <td>0</td>\n",
       "      <td>0</td>\n",
       "      <td>0</td>\n",
       "      <td>1</td>\n",
       "    </tr>\n",
       "    <tr>\n",
       "      <td>25%</td>\n",
       "      <td>0</td>\n",
       "      <td>0</td>\n",
       "      <td>0</td>\n",
       "      <td>0</td>\n",
       "      <td>0</td>\n",
       "      <td>0</td>\n",
       "      <td>0</td>\n",
       "      <td>0</td>\n",
       "      <td>0</td>\n",
       "      <td>8</td>\n",
       "      <td>13</td>\n",
       "      <td>16</td>\n",
       "      <td>75</td>\n",
       "    </tr>\n",
       "    <tr>\n",
       "      <td>50%</td>\n",
       "      <td>0</td>\n",
       "      <td>0</td>\n",
       "      <td>0</td>\n",
       "      <td>0</td>\n",
       "      <td>0</td>\n",
       "      <td>0</td>\n",
       "      <td>9</td>\n",
       "      <td>17</td>\n",
       "      <td>22</td>\n",
       "      <td>28</td>\n",
       "      <td>29</td>\n",
       "      <td>35</td>\n",
       "      <td>180</td>\n",
       "    </tr>\n",
       "    <tr>\n",
       "      <td>75%</td>\n",
       "      <td>0</td>\n",
       "      <td>0</td>\n",
       "      <td>0</td>\n",
       "      <td>16</td>\n",
       "      <td>27</td>\n",
       "      <td>30</td>\n",
       "      <td>40</td>\n",
       "      <td>42</td>\n",
       "      <td>48</td>\n",
       "      <td>50</td>\n",
       "      <td>54</td>\n",
       "      <td>58</td>\n",
       "      <td>358</td>\n",
       "    </tr>\n",
       "    <tr>\n",
       "      <td>max</td>\n",
       "      <td>74</td>\n",
       "      <td>85</td>\n",
       "      <td>110</td>\n",
       "      <td>105</td>\n",
       "      <td>103</td>\n",
       "      <td>134</td>\n",
       "      <td>137</td>\n",
       "      <td>134</td>\n",
       "      <td>136</td>\n",
       "      <td>139</td>\n",
       "      <td>124</td>\n",
       "      <td>143</td>\n",
       "      <td>1092</td>\n",
       "    </tr>\n",
       "  </tbody>\n",
       "</table>\n",
       "</div>"
      ],
      "text/plain": [
       "       jan  feb  mar  apr  may  jun  jul  aug  sep  okt  nov  dec   sum\n",
       "count  302  302  302  302  302  302  302  302  302  302  302  302   302\n",
       "mean     2    4    8   11   15   18   22   26   28   32   35   40   246\n",
       "std      7   13   19   21   24   26   28   29   28   28   28   29   222\n",
       "min      0    0    0    0    0    0    0    0    0    0    0    0     1\n",
       "25%      0    0    0    0    0    0    0    0    0    8   13   16    75\n",
       "50%      0    0    0    0    0    0    9   17   22   28   29   35   180\n",
       "75%      0    0    0   16   27   30   40   42   48   50   54   58   358\n",
       "max     74   85  110  105  103  134  137  134  136  139  124  143  1092"
      ]
     },
     "execution_count": 52,
     "metadata": {},
     "output_type": "execute_result"
    }
   ],
   "source": [
    "mess_smart_desc = messages_per_month.query('user_id in @smart_users').describe().astype('int')\n",
    "\n",
    "mess_smart_desc"
   ]
  },
  {
   "cell_type": "markdown",
   "metadata": {},
   "source": [
    "Абоненты, использующие тариф Смарт, в среденем отправляют 40 сообщений, если в принципе их используют. Я взял именно это значение, потому что только к концу года пользователей стало много, т.е. среднее выборки ближе к математическому ожиданию.  \n",
    "\n",
    "Построим гисторгамму."
   ]
  },
  {
   "cell_type": "code",
   "execution_count": 53,
   "metadata": {
    "scrolled": true
   },
   "outputs": [
    {
     "data": {
      "text/plain": [
       "array([[<matplotlib.axes._subplots.AxesSubplot object at 0x7fdf8b3ddd10>,\n",
       "        <matplotlib.axes._subplots.AxesSubplot object at 0x7fdf8b28eed0>],\n",
       "       [<matplotlib.axes._subplots.AxesSubplot object at 0x7fdf8b255750>,\n",
       "        <matplotlib.axes._subplots.AxesSubplot object at 0x7fdf8b208f10>]],\n",
       "      dtype=object)"
      ]
     },
     "execution_count": 53,
     "metadata": {},
     "output_type": "execute_result"
    },
    {
     "data": {
      "image/png": "[encoded data removed]",
      "text/plain": [
       "<Figure size 576x576 with 4 Axes>"
      ]
     },
     "metadata": {
      "needs_background": "light"
     },
     "output_type": "display_data"
    }
   ],
   "source": [
    "messages_per_month.query('user_id in @smart_users')[['sep','okt','nov','dec']].hist(bins=50,figsize=(8,8))"
   ]
  },
  {
   "cell_type": "markdown",
   "metadata": {},
   "source": [
    "Основные характеристики по месяцам(среднее количество, дисперсию и стандартное отклонение):"
   ]
  },
  {
   "cell_type": "code",
   "execution_count": 54,
   "metadata": {},
   "outputs": [
    {
     "data": {
      "text/html": [
       "<div>\n",
       "<style scoped>\n",
       "    .dataframe tbody tr th:only-of-type {\n",
       "        vertical-align: middle;\n",
       "    }\n",
       "\n",
       "    .dataframe tbody tr th {\n",
       "        vertical-align: top;\n",
       "    }\n",
       "\n",
       "    .dataframe thead th {\n",
       "        text-align: right;\n",
       "    }\n",
       "</style>\n",
       "<table border=\"1\" class=\"dataframe\">\n",
       "  <thead>\n",
       "    <tr style=\"text-align: right;\">\n",
       "      <th></th>\n",
       "      <th>jan</th>\n",
       "      <th>feb</th>\n",
       "      <th>mar</th>\n",
       "      <th>apr</th>\n",
       "      <th>may</th>\n",
       "      <th>jun</th>\n",
       "      <th>jul</th>\n",
       "      <th>aug</th>\n",
       "      <th>sep</th>\n",
       "      <th>okt</th>\n",
       "      <th>nov</th>\n",
       "      <th>dec</th>\n",
       "      <th>sum</th>\n",
       "    </tr>\n",
       "  </thead>\n",
       "  <tbody>\n",
       "    <tr>\n",
       "      <td>mean</td>\n",
       "      <td>2</td>\n",
       "      <td>4</td>\n",
       "      <td>8</td>\n",
       "      <td>11</td>\n",
       "      <td>15</td>\n",
       "      <td>18</td>\n",
       "      <td>22</td>\n",
       "      <td>26</td>\n",
       "      <td>28</td>\n",
       "      <td>32</td>\n",
       "      <td>35</td>\n",
       "      <td>40</td>\n",
       "      <td>246</td>\n",
       "    </tr>\n",
       "    <tr>\n",
       "      <td>var</td>\n",
       "      <td>49</td>\n",
       "      <td>169</td>\n",
       "      <td>361</td>\n",
       "      <td>441</td>\n",
       "      <td>576</td>\n",
       "      <td>676</td>\n",
       "      <td>784</td>\n",
       "      <td>841</td>\n",
       "      <td>784</td>\n",
       "      <td>784</td>\n",
       "      <td>784</td>\n",
       "      <td>841</td>\n",
       "      <td>49284</td>\n",
       "    </tr>\n",
       "    <tr>\n",
       "      <td>std</td>\n",
       "      <td>7</td>\n",
       "      <td>13</td>\n",
       "      <td>19</td>\n",
       "      <td>21</td>\n",
       "      <td>24</td>\n",
       "      <td>26</td>\n",
       "      <td>28</td>\n",
       "      <td>29</td>\n",
       "      <td>28</td>\n",
       "      <td>28</td>\n",
       "      <td>28</td>\n",
       "      <td>29</td>\n",
       "      <td>222</td>\n",
       "    </tr>\n",
       "  </tbody>\n",
       "</table>\n",
       "</div>"
      ],
      "text/plain": [
       "      jan  feb  mar  apr  may  jun  jul  aug  sep  okt  nov  dec    sum\n",
       "mean    2    4    8   11   15   18   22   26   28   32   35   40    246\n",
       "var    49  169  361  441  576  676  784  841  784  784  784  841  49284\n",
       "std     7   13   19   21   24   26   28   29   28   28   28   29    222"
      ]
     },
     "execution_count": 54,
     "metadata": {},
     "output_type": "execute_result"
    }
   ],
   "source": [
    "mess_smart_desc.loc['var'] = mess_smart_desc.loc['std'] **2\n",
    "\n",
    "mess_smart_desc.loc[['mean','var','std']]"
   ]
  },
  {
   "cell_type": "markdown",
   "metadata": {},
   "source": [
    "Определим, с какой вероятностью абонентам тарифа Ультра хватает смс. \n",
    "Построим стандартное распределение.\n",
    "\n",
    "Посчитаем также вероятность напрямую и сравним сос стандартным распеределнием."
   ]
  },
  {
   "cell_type": "code",
   "execution_count": 55,
   "metadata": {},
   "outputs": [],
   "source": [
    "mess_to50_s_prob =len(\n",
    "    messages_per_month.query('user_id in @smart_users and dec < 50')['dec']\n",
    ")/len(\n",
    "    messages_per_month.query('user_id in @smart_users')['dec']\n",
    ")#прямой расчет"
   ]
  },
  {
   "cell_type": "code",
   "execution_count": 56,
   "metadata": {},
   "outputs": [
    {
     "data": {
      "text/plain": [
       "0.666"
      ]
     },
     "execution_count": 56,
     "metadata": {},
     "output_type": "execute_result"
    }
   ],
   "source": [
    "round(mess_to50_s_prob,3)#прямой расчет"
   ]
  },
  {
   "cell_type": "code",
   "execution_count": 57,
   "metadata": {},
   "outputs": [],
   "source": [
    "mess_s_distr = st.norm(40,29)"
   ]
  },
  {
   "cell_type": "code",
   "execution_count": 58,
   "metadata": {},
   "outputs": [
    {
     "data": {
      "text/plain": [
       "0.635"
      ]
     },
     "execution_count": 58,
     "metadata": {},
     "output_type": "execute_result"
    }
   ],
   "source": [
    "(mess_s_distr.cdf(50)).round(3)#нормальное распределение"
   ]
  },
  {
   "cell_type": "code",
   "execution_count": 59,
   "metadata": {},
   "outputs": [],
   "source": [
    "mess_more68_s_prob =len(\n",
    "    messages_per_month.query('user_id in @smart_users and dec > 68')['dec']\n",
    ")/len(\n",
    "    messages_per_month.query('user_id in @smart_users')['dec']\n",
    ")"
   ]
  },
  {
   "cell_type": "code",
   "execution_count": 60,
   "metadata": {},
   "outputs": [
    {
     "data": {
      "text/plain": [
       "0.17218543046357615"
      ]
     },
     "execution_count": 60,
     "metadata": {},
     "output_type": "execute_result"
    }
   ],
   "source": [
    "mess_more68_s_prob#прямой расчет"
   ]
  },
  {
   "cell_type": "code",
   "execution_count": 61,
   "metadata": {},
   "outputs": [
    {
     "data": {
      "text/plain": [
       "0.167"
      ]
     },
     "execution_count": 61,
     "metadata": {},
     "output_type": "execute_result"
    }
   ],
   "source": [
    "(1 - mess_s_distr.cdf(68)).round(3)#нормальное распределение"
   ]
  },
  {
   "cell_type": "markdown",
   "metadata": {},
   "source": [
    "Только примерно 65% абонентов из выборки хватает смс, если они их используют. Это значит, очень большой части пользователей не хватает смс. Дополнительные смс стоят по 3 рубля, около 17% пользоватлей переплачивают только за смс больше 55 рублей, 10% от стоимости тарифа, что является существенной тратой."
   ]
  },
  {
   "cell_type": "code",
   "execution_count": 62,
   "metadata": {},
   "outputs": [
    {
     "data": {
      "text/plain": [
       "0.806"
      ]
     },
     "execution_count": 62,
     "metadata": {},
     "output_type": "execute_result"
    }
   ],
   "source": [
    "(mess_s_distr.cdf(65)).round(3)"
   ]
  },
  {
   "cell_type": "code",
   "execution_count": 63,
   "metadata": {},
   "outputs": [
    {
     "data": {
      "text/plain": [
       "0.069"
      ]
     },
     "execution_count": 63,
     "metadata": {},
     "output_type": "execute_result"
    }
   ],
   "source": [
    "(1 - mess_s_distr.cdf(83) ).round(3)"
   ]
  },
  {
   "cell_type": "markdown",
   "metadata": {},
   "source": [
    "Если увеличить количество смс до 65, то более 70% пользователей будут полностью удовлетворены, при этом только 15% существенно не будет хватать смс.\n",
    "\n",
    "#### Тариф Ультра"
   ]
  },
  {
   "cell_type": "code",
   "execution_count": 64,
   "metadata": {},
   "outputs": [
    {
     "data": {
      "text/html": [
       "<div>\n",
       "<style scoped>\n",
       "    .dataframe tbody tr th:only-of-type {\n",
       "        vertical-align: middle;\n",
       "    }\n",
       "\n",
       "    .dataframe tbody tr th {\n",
       "        vertical-align: top;\n",
       "    }\n",
       "\n",
       "    .dataframe thead th {\n",
       "        text-align: right;\n",
       "    }\n",
       "</style>\n",
       "<table border=\"1\" class=\"dataframe\">\n",
       "  <thead>\n",
       "    <tr style=\"text-align: right;\">\n",
       "      <th></th>\n",
       "      <th>jan</th>\n",
       "      <th>feb</th>\n",
       "      <th>mar</th>\n",
       "      <th>apr</th>\n",
       "      <th>may</th>\n",
       "      <th>jun</th>\n",
       "      <th>jul</th>\n",
       "      <th>aug</th>\n",
       "      <th>sep</th>\n",
       "      <th>okt</th>\n",
       "      <th>nov</th>\n",
       "      <th>dec</th>\n",
       "      <th>sum</th>\n",
       "    </tr>\n",
       "  </thead>\n",
       "  <tbody>\n",
       "    <tr>\n",
       "      <td>count</td>\n",
       "      <td>124</td>\n",
       "      <td>124</td>\n",
       "      <td>124</td>\n",
       "      <td>124</td>\n",
       "      <td>124</td>\n",
       "      <td>124</td>\n",
       "      <td>124</td>\n",
       "      <td>124</td>\n",
       "      <td>124</td>\n",
       "      <td>124</td>\n",
       "      <td>124</td>\n",
       "      <td>124</td>\n",
       "      <td>124</td>\n",
       "    </tr>\n",
       "    <tr>\n",
       "      <td>mean</td>\n",
       "      <td>2</td>\n",
       "      <td>4</td>\n",
       "      <td>9</td>\n",
       "      <td>14</td>\n",
       "      <td>20</td>\n",
       "      <td>28</td>\n",
       "      <td>36</td>\n",
       "      <td>41</td>\n",
       "      <td>48</td>\n",
       "      <td>57</td>\n",
       "      <td>60</td>\n",
       "      <td>67</td>\n",
       "      <td>392</td>\n",
       "    </tr>\n",
       "    <tr>\n",
       "      <td>std</td>\n",
       "      <td>11</td>\n",
       "      <td>14</td>\n",
       "      <td>26</td>\n",
       "      <td>29</td>\n",
       "      <td>35</td>\n",
       "      <td>41</td>\n",
       "      <td>47</td>\n",
       "      <td>46</td>\n",
       "      <td>46</td>\n",
       "      <td>51</td>\n",
       "      <td>49</td>\n",
       "      <td>50</td>\n",
       "      <td>333</td>\n",
       "    </tr>\n",
       "    <tr>\n",
       "      <td>min</td>\n",
       "      <td>0</td>\n",
       "      <td>0</td>\n",
       "      <td>0</td>\n",
       "      <td>0</td>\n",
       "      <td>0</td>\n",
       "      <td>0</td>\n",
       "      <td>0</td>\n",
       "      <td>0</td>\n",
       "      <td>0</td>\n",
       "      <td>0</td>\n",
       "      <td>0</td>\n",
       "      <td>0</td>\n",
       "      <td>8</td>\n",
       "    </tr>\n",
       "    <tr>\n",
       "      <td>25%</td>\n",
       "      <td>0</td>\n",
       "      <td>0</td>\n",
       "      <td>0</td>\n",
       "      <td>0</td>\n",
       "      <td>0</td>\n",
       "      <td>0</td>\n",
       "      <td>0</td>\n",
       "      <td>0</td>\n",
       "      <td>3</td>\n",
       "      <td>9</td>\n",
       "      <td>17</td>\n",
       "      <td>29</td>\n",
       "      <td>149</td>\n",
       "    </tr>\n",
       "    <tr>\n",
       "      <td>50%</td>\n",
       "      <td>0</td>\n",
       "      <td>0</td>\n",
       "      <td>0</td>\n",
       "      <td>0</td>\n",
       "      <td>0</td>\n",
       "      <td>6</td>\n",
       "      <td>19</td>\n",
       "      <td>26</td>\n",
       "      <td>36</td>\n",
       "      <td>47</td>\n",
       "      <td>49</td>\n",
       "      <td>55</td>\n",
       "      <td>295</td>\n",
       "    </tr>\n",
       "    <tr>\n",
       "      <td>75%</td>\n",
       "      <td>0</td>\n",
       "      <td>0</td>\n",
       "      <td>0</td>\n",
       "      <td>10</td>\n",
       "      <td>27</td>\n",
       "      <td>40</td>\n",
       "      <td>58</td>\n",
       "      <td>70</td>\n",
       "      <td>81</td>\n",
       "      <td>94</td>\n",
       "      <td>89</td>\n",
       "      <td>97</td>\n",
       "      <td>521</td>\n",
       "    </tr>\n",
       "    <tr>\n",
       "      <td>max</td>\n",
       "      <td>75</td>\n",
       "      <td>90</td>\n",
       "      <td>155</td>\n",
       "      <td>143</td>\n",
       "      <td>148</td>\n",
       "      <td>201</td>\n",
       "      <td>211</td>\n",
       "      <td>180</td>\n",
       "      <td>188</td>\n",
       "      <td>223</td>\n",
       "      <td>197</td>\n",
       "      <td>224</td>\n",
       "      <td>1463</td>\n",
       "    </tr>\n",
       "  </tbody>\n",
       "</table>\n",
       "</div>"
      ],
      "text/plain": [
       "       jan  feb  mar  apr  may  jun  jul  aug  sep  okt  nov  dec   sum\n",
       "count  124  124  124  124  124  124  124  124  124  124  124  124   124\n",
       "mean     2    4    9   14   20   28   36   41   48   57   60   67   392\n",
       "std     11   14   26   29   35   41   47   46   46   51   49   50   333\n",
       "min      0    0    0    0    0    0    0    0    0    0    0    0     8\n",
       "25%      0    0    0    0    0    0    0    0    3    9   17   29   149\n",
       "50%      0    0    0    0    0    6   19   26   36   47   49   55   295\n",
       "75%      0    0    0   10   27   40   58   70   81   94   89   97   521\n",
       "max     75   90  155  143  148  201  211  180  188  223  197  224  1463"
      ]
     },
     "execution_count": 64,
     "metadata": {},
     "output_type": "execute_result"
    }
   ],
   "source": [
    "mess_ultra_desc = messages_per_month.query('user_id in @ultra_users').describe().astype('int')\n",
    "\n",
    "mess_ultra_desc"
   ]
  },
  {
   "cell_type": "markdown",
   "metadata": {},
   "source": [
    "Абоненты, использующие тариф Ультра, в среденем отправляют 60 сообщений, если в принципе их используют. Я взял именно это значение, потому что только к концу года пользователей стало достаточно. А в декабре среднее значение могло сильно измениться из-за тех, кто отправил много смс на Новый год. Тариф включает в себя 1000 смс. Даже самые активные абоненты не выходят за лимит.\n",
    "\n",
    "Посторим гистрограмму и  определим основные характеристики по месяцам(среднее количество, дисперсию и стандартное отклонение):"
   ]
  },
  {
   "cell_type": "code",
   "execution_count": 65,
   "metadata": {},
   "outputs": [
    {
     "data": {
      "text/plain": [
       "array([[<matplotlib.axes._subplots.AxesSubplot object at 0x7fdf8b0ac050>,\n",
       "        <matplotlib.axes._subplots.AxesSubplot object at 0x7fdf8ae2ab90>],\n",
       "       [<matplotlib.axes._subplots.AxesSubplot object at 0x7fdf8ae48c10>,\n",
       "        <matplotlib.axes._subplots.AxesSubplot object at 0x7fdf8ae00890>]],\n",
       "      dtype=object)"
      ]
     },
     "execution_count": 65,
     "metadata": {},
     "output_type": "execute_result"
    },
    {
     "data": {
      "image/png": "[encoded data removed]",
      "text/plain": [
       "<Figure size 576x576 with 4 Axes>"
      ]
     },
     "metadata": {
      "needs_background": "light"
     },
     "output_type": "display_data"
    }
   ],
   "source": [
    "messages_per_month.query('user_id in @ultra_users')[['sep','okt','nov','dec']].hist(bins=50,figsize=(8,8))"
   ]
  },
  {
   "cell_type": "code",
   "execution_count": 66,
   "metadata": {},
   "outputs": [
    {
     "data": {
      "text/html": [
       "<div>\n",
       "<style scoped>\n",
       "    .dataframe tbody tr th:only-of-type {\n",
       "        vertical-align: middle;\n",
       "    }\n",
       "\n",
       "    .dataframe tbody tr th {\n",
       "        vertical-align: top;\n",
       "    }\n",
       "\n",
       "    .dataframe thead th {\n",
       "        text-align: right;\n",
       "    }\n",
       "</style>\n",
       "<table border=\"1\" class=\"dataframe\">\n",
       "  <thead>\n",
       "    <tr style=\"text-align: right;\">\n",
       "      <th></th>\n",
       "      <th>jan</th>\n",
       "      <th>feb</th>\n",
       "      <th>mar</th>\n",
       "      <th>apr</th>\n",
       "      <th>may</th>\n",
       "      <th>jun</th>\n",
       "      <th>jul</th>\n",
       "      <th>aug</th>\n",
       "      <th>sep</th>\n",
       "      <th>okt</th>\n",
       "      <th>nov</th>\n",
       "      <th>dec</th>\n",
       "      <th>sum</th>\n",
       "    </tr>\n",
       "  </thead>\n",
       "  <tbody>\n",
       "    <tr>\n",
       "      <td>mean</td>\n",
       "      <td>2</td>\n",
       "      <td>4</td>\n",
       "      <td>9</td>\n",
       "      <td>14</td>\n",
       "      <td>20</td>\n",
       "      <td>28</td>\n",
       "      <td>36</td>\n",
       "      <td>41</td>\n",
       "      <td>48</td>\n",
       "      <td>57</td>\n",
       "      <td>60</td>\n",
       "      <td>67</td>\n",
       "      <td>392</td>\n",
       "    </tr>\n",
       "    <tr>\n",
       "      <td>var</td>\n",
       "      <td>121</td>\n",
       "      <td>196</td>\n",
       "      <td>676</td>\n",
       "      <td>841</td>\n",
       "      <td>1225</td>\n",
       "      <td>1681</td>\n",
       "      <td>2209</td>\n",
       "      <td>2116</td>\n",
       "      <td>2116</td>\n",
       "      <td>2601</td>\n",
       "      <td>2401</td>\n",
       "      <td>2500</td>\n",
       "      <td>110889</td>\n",
       "    </tr>\n",
       "    <tr>\n",
       "      <td>std</td>\n",
       "      <td>11</td>\n",
       "      <td>14</td>\n",
       "      <td>26</td>\n",
       "      <td>29</td>\n",
       "      <td>35</td>\n",
       "      <td>41</td>\n",
       "      <td>47</td>\n",
       "      <td>46</td>\n",
       "      <td>46</td>\n",
       "      <td>51</td>\n",
       "      <td>49</td>\n",
       "      <td>50</td>\n",
       "      <td>333</td>\n",
       "    </tr>\n",
       "  </tbody>\n",
       "</table>\n",
       "</div>"
      ],
      "text/plain": [
       "      jan  feb  mar  apr   may   jun   jul   aug   sep   okt   nov   dec  \\\n",
       "mean    2    4    9   14    20    28    36    41    48    57    60    67   \n",
       "var   121  196  676  841  1225  1681  2209  2116  2116  2601  2401  2500   \n",
       "std    11   14   26   29    35    41    47    46    46    51    49    50   \n",
       "\n",
       "         sum  \n",
       "mean     392  \n",
       "var   110889  \n",
       "std      333  "
      ]
     },
     "execution_count": 66,
     "metadata": {},
     "output_type": "execute_result"
    }
   ],
   "source": [
    "mess_ultra_desc.loc['var'] = mess_ultra_desc.loc['std'] **2\n",
    "\n",
    "mess_ultra_desc.loc[['mean','var','std']]"
   ]
  },
  {
   "cell_type": "code",
   "execution_count": 67,
   "metadata": {},
   "outputs": [],
   "source": [
    "mess_u_distr = st.norm(60,49)"
   ]
  },
  {
   "cell_type": "code",
   "execution_count": 68,
   "metadata": {},
   "outputs": [
    {
     "data": {
      "text/plain": [
       "0.002137366980086264"
      ]
     },
     "execution_count": 68,
     "metadata": {},
     "output_type": "execute_result"
    }
   ],
   "source": [
    "1 - mess_u_distr.cdf(200)"
   ]
  },
  {
   "cell_type": "markdown",
   "metadata": {},
   "source": [
    "Даже если уменьшить количество смс до 200, то всем абонентам должно хватать. "
   ]
  },
  {
   "cell_type": "markdown",
   "metadata": {},
   "source": [
    "### Интеренет  \n",
    "Изучим использование интернета абонентами с разными тарифами.  \n",
    "\n",
    "#### Тарифа Смарт."
   ]
  },
  {
   "cell_type": "code",
   "execution_count": 69,
   "metadata": {
    "scrolled": true
   },
   "outputs": [
    {
     "data": {
      "text/html": [
       "<div>\n",
       "<style scoped>\n",
       "    .dataframe tbody tr th:only-of-type {\n",
       "        vertical-align: middle;\n",
       "    }\n",
       "\n",
       "    .dataframe tbody tr th {\n",
       "        vertical-align: top;\n",
       "    }\n",
       "\n",
       "    .dataframe thead th {\n",
       "        text-align: right;\n",
       "    }\n",
       "</style>\n",
       "<table border=\"1\" class=\"dataframe\">\n",
       "  <thead>\n",
       "    <tr style=\"text-align: right;\">\n",
       "      <th></th>\n",
       "      <th>jan</th>\n",
       "      <th>feb</th>\n",
       "      <th>mar</th>\n",
       "      <th>apr</th>\n",
       "      <th>may</th>\n",
       "      <th>jun</th>\n",
       "      <th>jul</th>\n",
       "      <th>aug</th>\n",
       "      <th>sep</th>\n",
       "      <th>okt</th>\n",
       "      <th>nov</th>\n",
       "      <th>dec</th>\n",
       "      <th>sum</th>\n",
       "    </tr>\n",
       "  </thead>\n",
       "  <tbody>\n",
       "    <tr>\n",
       "      <td>count</td>\n",
       "      <td>350</td>\n",
       "      <td>350</td>\n",
       "      <td>350</td>\n",
       "      <td>350</td>\n",
       "      <td>350</td>\n",
       "      <td>350</td>\n",
       "      <td>350</td>\n",
       "      <td>350</td>\n",
       "      <td>350</td>\n",
       "      <td>350</td>\n",
       "      <td>350</td>\n",
       "      <td>350</td>\n",
       "      <td>350</td>\n",
       "    </tr>\n",
       "    <tr>\n",
       "      <td>mean</td>\n",
       "      <td>868</td>\n",
       "      <td>2004</td>\n",
       "      <td>3428</td>\n",
       "      <td>4458</td>\n",
       "      <td>6541</td>\n",
       "      <td>7647</td>\n",
       "      <td>9330</td>\n",
       "      <td>11480</td>\n",
       "      <td>12457</td>\n",
       "      <td>14479</td>\n",
       "      <td>15690</td>\n",
       "      <td>17931</td>\n",
       "      <td>106320</td>\n",
       "    </tr>\n",
       "    <tr>\n",
       "      <td>std</td>\n",
       "      <td>3308</td>\n",
       "      <td>5157</td>\n",
       "      <td>7016</td>\n",
       "      <td>7267</td>\n",
       "      <td>8833</td>\n",
       "      <td>9065</td>\n",
       "      <td>9205</td>\n",
       "      <td>9248</td>\n",
       "      <td>8605</td>\n",
       "      <td>8301</td>\n",
       "      <td>7217</td>\n",
       "      <td>6515</td>\n",
       "      <td>61640</td>\n",
       "    </tr>\n",
       "    <tr>\n",
       "      <td>min</td>\n",
       "      <td>0</td>\n",
       "      <td>0</td>\n",
       "      <td>0</td>\n",
       "      <td>0</td>\n",
       "      <td>0</td>\n",
       "      <td>0</td>\n",
       "      <td>0</td>\n",
       "      <td>0</td>\n",
       "      <td>0</td>\n",
       "      <td>0</td>\n",
       "      <td>0</td>\n",
       "      <td>0</td>\n",
       "      <td>12288</td>\n",
       "    </tr>\n",
       "    <tr>\n",
       "      <td>25%</td>\n",
       "      <td>0</td>\n",
       "      <td>0</td>\n",
       "      <td>0</td>\n",
       "      <td>0</td>\n",
       "      <td>0</td>\n",
       "      <td>0</td>\n",
       "      <td>0</td>\n",
       "      <td>0</td>\n",
       "      <td>0</td>\n",
       "      <td>10240</td>\n",
       "      <td>12288</td>\n",
       "      <td>14336</td>\n",
       "      <td>53504</td>\n",
       "    </tr>\n",
       "    <tr>\n",
       "      <td>50%</td>\n",
       "      <td>0</td>\n",
       "      <td>0</td>\n",
       "      <td>0</td>\n",
       "      <td>0</td>\n",
       "      <td>0</td>\n",
       "      <td>0</td>\n",
       "      <td>9216</td>\n",
       "      <td>14336</td>\n",
       "      <td>14336</td>\n",
       "      <td>16384</td>\n",
       "      <td>16384</td>\n",
       "      <td>17408</td>\n",
       "      <td>101376</td>\n",
       "    </tr>\n",
       "    <tr>\n",
       "      <td>75%</td>\n",
       "      <td>0</td>\n",
       "      <td>0</td>\n",
       "      <td>0</td>\n",
       "      <td>9216</td>\n",
       "      <td>15360</td>\n",
       "      <td>16384</td>\n",
       "      <td>17408</td>\n",
       "      <td>18432</td>\n",
       "      <td>19456</td>\n",
       "      <td>20480</td>\n",
       "      <td>20480</td>\n",
       "      <td>21504</td>\n",
       "      <td>147456</td>\n",
       "    </tr>\n",
       "    <tr>\n",
       "      <td>max</td>\n",
       "      <td>24576</td>\n",
       "      <td>28672</td>\n",
       "      <td>25600</td>\n",
       "      <td>27648</td>\n",
       "      <td>30720</td>\n",
       "      <td>34816</td>\n",
       "      <td>29696</td>\n",
       "      <td>31744</td>\n",
       "      <td>31744</td>\n",
       "      <td>32768</td>\n",
       "      <td>36864</td>\n",
       "      <td>38912</td>\n",
       "      <td>276480</td>\n",
       "    </tr>\n",
       "  </tbody>\n",
       "</table>\n",
       "</div>"
      ],
      "text/plain": [
       "         jan    feb    mar    apr    may    jun    jul    aug    sep    okt  \\\n",
       "count    350    350    350    350    350    350    350    350    350    350   \n",
       "mean     868   2004   3428   4458   6541   7647   9330  11480  12457  14479   \n",
       "std     3308   5157   7016   7267   8833   9065   9205   9248   8605   8301   \n",
       "min        0      0      0      0      0      0      0      0      0      0   \n",
       "25%        0      0      0      0      0      0      0      0      0  10240   \n",
       "50%        0      0      0      0      0      0   9216  14336  14336  16384   \n",
       "75%        0      0      0   9216  15360  16384  17408  18432  19456  20480   \n",
       "max    24576  28672  25600  27648  30720  34816  29696  31744  31744  32768   \n",
       "\n",
       "         nov    dec     sum  \n",
       "count    350    350     350  \n",
       "mean   15690  17931  106320  \n",
       "std     7217   6515   61640  \n",
       "min        0      0   12288  \n",
       "25%    12288  14336   53504  \n",
       "50%    16384  17408  101376  \n",
       "75%    20480  21504  147456  \n",
       "max    36864  38912  276480  "
      ]
     },
     "execution_count": 69,
     "metadata": {},
     "output_type": "execute_result"
    }
   ],
   "source": [
    "mb_smart_desc = mb_per_month.query('user_id in @smart_users').describe().astype('int')\n",
    "\n",
    "mb_smart_desc"
   ]
  },
  {
   "cell_type": "markdown",
   "metadata": {},
   "source": [
    "Судя по медиане, многим не достаточно 15360 мб, входящих в тариф.\n",
    "\n",
    "Построим гисторграмму и определим основные характеристики по месяцам(среднее количество, дисперсию и стандартное отклонение):"
   ]
  },
  {
   "cell_type": "code",
   "execution_count": 70,
   "metadata": {
    "scrolled": true
   },
   "outputs": [
    {
     "data": {
      "text/plain": [
       "array([[<matplotlib.axes._subplots.AxesSubplot object at 0x7fdf8b01d7d0>,\n",
       "        <matplotlib.axes._subplots.AxesSubplot object at 0x7fdf8ab00d10>],\n",
       "       [<matplotlib.axes._subplots.AxesSubplot object at 0x7fdf8aa98f90>,\n",
       "        <matplotlib.axes._subplots.AxesSubplot object at 0x7fdf8aa45dd0>]],\n",
       "      dtype=object)"
      ]
     },
     "execution_count": 70,
     "metadata": {},
     "output_type": "execute_result"
    },
    {
     "data": {
      "image/png": "[encoded data removed]",
      "text/plain": [
       "<Figure size 576x576 with 4 Axes>"
      ]
     },
     "metadata": {
      "needs_background": "light"
     },
     "output_type": "display_data"
    }
   ],
   "source": [
    "mb_per_month.query('user_id in @smart_users')[['sep','okt','nov','dec']].hist(bins=50,figsize=(8,8))"
   ]
  },
  {
   "cell_type": "code",
   "execution_count": 71,
   "metadata": {},
   "outputs": [
    {
     "data": {
      "text/html": [
       "<div>\n",
       "<style scoped>\n",
       "    .dataframe tbody tr th:only-of-type {\n",
       "        vertical-align: middle;\n",
       "    }\n",
       "\n",
       "    .dataframe tbody tr th {\n",
       "        vertical-align: top;\n",
       "    }\n",
       "\n",
       "    .dataframe thead th {\n",
       "        text-align: right;\n",
       "    }\n",
       "</style>\n",
       "<table border=\"1\" class=\"dataframe\">\n",
       "  <thead>\n",
       "    <tr style=\"text-align: right;\">\n",
       "      <th></th>\n",
       "      <th>jan</th>\n",
       "      <th>feb</th>\n",
       "      <th>mar</th>\n",
       "      <th>apr</th>\n",
       "      <th>may</th>\n",
       "      <th>jun</th>\n",
       "      <th>jul</th>\n",
       "      <th>aug</th>\n",
       "      <th>sep</th>\n",
       "      <th>okt</th>\n",
       "      <th>nov</th>\n",
       "      <th>dec</th>\n",
       "      <th>sum</th>\n",
       "    </tr>\n",
       "  </thead>\n",
       "  <tbody>\n",
       "    <tr>\n",
       "      <td>mean</td>\n",
       "      <td>868</td>\n",
       "      <td>2004</td>\n",
       "      <td>3428</td>\n",
       "      <td>4458</td>\n",
       "      <td>6541</td>\n",
       "      <td>7647</td>\n",
       "      <td>9330</td>\n",
       "      <td>11480</td>\n",
       "      <td>12457</td>\n",
       "      <td>14479</td>\n",
       "      <td>15690</td>\n",
       "      <td>17931</td>\n",
       "      <td>106320</td>\n",
       "    </tr>\n",
       "    <tr>\n",
       "      <td>var</td>\n",
       "      <td>10942864</td>\n",
       "      <td>26594649</td>\n",
       "      <td>49224256</td>\n",
       "      <td>52809289</td>\n",
       "      <td>78021889</td>\n",
       "      <td>82174225</td>\n",
       "      <td>84732025</td>\n",
       "      <td>85525504</td>\n",
       "      <td>74046025</td>\n",
       "      <td>68906601</td>\n",
       "      <td>52085089</td>\n",
       "      <td>42445225</td>\n",
       "      <td>3799489600</td>\n",
       "    </tr>\n",
       "    <tr>\n",
       "      <td>std</td>\n",
       "      <td>3308</td>\n",
       "      <td>5157</td>\n",
       "      <td>7016</td>\n",
       "      <td>7267</td>\n",
       "      <td>8833</td>\n",
       "      <td>9065</td>\n",
       "      <td>9205</td>\n",
       "      <td>9248</td>\n",
       "      <td>8605</td>\n",
       "      <td>8301</td>\n",
       "      <td>7217</td>\n",
       "      <td>6515</td>\n",
       "      <td>61640</td>\n",
       "    </tr>\n",
       "  </tbody>\n",
       "</table>\n",
       "</div>"
      ],
      "text/plain": [
       "           jan       feb       mar       apr       may       jun       jul  \\\n",
       "mean       868      2004      3428      4458      6541      7647      9330   \n",
       "var   10942864  26594649  49224256  52809289  78021889  82174225  84732025   \n",
       "std       3308      5157      7016      7267      8833      9065      9205   \n",
       "\n",
       "           aug       sep       okt       nov       dec         sum  \n",
       "mean     11480     12457     14479     15690     17931      106320  \n",
       "var   85525504  74046025  68906601  52085089  42445225  3799489600  \n",
       "std       9248      8605      8301      7217      6515       61640  "
      ]
     },
     "execution_count": 71,
     "metadata": {},
     "output_type": "execute_result"
    }
   ],
   "source": [
    "mb_smart_desc.loc['var'] = mb_smart_desc.loc['std'] **2\n",
    "\n",
    "mb_smart_desc.loc[['mean','var','std']]"
   ]
  },
  {
   "cell_type": "markdown",
   "metadata": {},
   "source": [
    "По мере увеличения количества абонентов, нулевое использование мб уменьшается. Отбросим эти значения и построим нормальное распределение."
   ]
  },
  {
   "cell_type": "code",
   "execution_count": 72,
   "metadata": {},
   "outputs": [
    {
     "data": {
      "text/plain": [
       "count      337\n",
       "mean     18623\n",
       "std       5583\n",
       "min       5120\n",
       "25%      15360\n",
       "50%      18432\n",
       "75%      22528\n",
       "max      38912\n",
       "Name: dec, dtype: int64"
      ]
     },
     "execution_count": 72,
     "metadata": {},
     "output_type": "execute_result"
    }
   ],
   "source": [
    "mb_smart_more_0 = mb_per_month.query('user_id in @smart_users and dec > 0')['dec'].describe().astype('int')\n",
    "\n",
    "mb_smart_more_0"
   ]
  },
  {
   "cell_type": "code",
   "execution_count": 73,
   "metadata": {},
   "outputs": [],
   "source": [
    "mb_s_distr = st.norm(mb_smart_more_0['mean'],mb_smart_more_0['std'])#нормальное распределение"
   ]
  },
  {
   "cell_type": "code",
   "execution_count": 74,
   "metadata": {},
   "outputs": [
    {
     "data": {
      "text/plain": [
       "0.27945785503761167"
      ]
     },
     "execution_count": 74,
     "metadata": {},
     "output_type": "execute_result"
    }
   ],
   "source": [
    "mb_s_distr.cdf(15360) "
   ]
  },
  {
   "cell_type": "code",
   "execution_count": 75,
   "metadata": {},
   "outputs": [
    {
     "data": {
      "text/plain": [
       "0.13440282319571512"
      ]
     },
     "execution_count": 75,
     "metadata": {},
     "output_type": "execute_result"
    }
   ],
   "source": [
    "mb_s_distr.cdf(15360 + 2 * 1024) -  mb_s_distr.cdf(15360) "
   ]
  },
  {
   "cell_type": "code",
   "execution_count": 76,
   "metadata": {},
   "outputs": [
    {
     "data": {
      "text/plain": [
       "0.5861393217666733"
      ]
     },
     "execution_count": 76,
     "metadata": {},
     "output_type": "execute_result"
    }
   ],
   "source": [
    "1 - mb_s_distr.cdf(15360 + 2 * 1024)"
   ]
  },
  {
   "cell_type": "markdown",
   "metadata": {},
   "source": [
    "Только 30% абонентов хватает предоставленных мб. Почти 14% вынуждены дополнительно покупать 1 или 2 гб, что составляет 36% и 72% от цены самого тарифа соответсвенно. Больше половины абонентов вынуждены переплачивать за интенет цену, больше стоимости тарифа, от 600 рублей, что может спровоцировать людей перейти на другой тариф. "
   ]
  },
  {
   "cell_type": "markdown",
   "metadata": {},
   "source": [
    "#### Тариф Ультра."
   ]
  },
  {
   "cell_type": "code",
   "execution_count": 77,
   "metadata": {},
   "outputs": [
    {
     "data": {
      "text/html": [
       "<div>\n",
       "<style scoped>\n",
       "    .dataframe tbody tr th:only-of-type {\n",
       "        vertical-align: middle;\n",
       "    }\n",
       "\n",
       "    .dataframe tbody tr th {\n",
       "        vertical-align: top;\n",
       "    }\n",
       "\n",
       "    .dataframe thead th {\n",
       "        text-align: right;\n",
       "    }\n",
       "</style>\n",
       "<table border=\"1\" class=\"dataframe\">\n",
       "  <thead>\n",
       "    <tr style=\"text-align: right;\">\n",
       "      <th></th>\n",
       "      <th>jan</th>\n",
       "      <th>feb</th>\n",
       "      <th>mar</th>\n",
       "      <th>apr</th>\n",
       "      <th>may</th>\n",
       "      <th>jun</th>\n",
       "      <th>jul</th>\n",
       "      <th>aug</th>\n",
       "      <th>sep</th>\n",
       "      <th>okt</th>\n",
       "      <th>nov</th>\n",
       "      <th>dec</th>\n",
       "      <th>sum</th>\n",
       "    </tr>\n",
       "  </thead>\n",
       "  <tbody>\n",
       "    <tr>\n",
       "      <td>count</td>\n",
       "      <td>147</td>\n",
       "      <td>147</td>\n",
       "      <td>147</td>\n",
       "      <td>147</td>\n",
       "      <td>147</td>\n",
       "      <td>147</td>\n",
       "      <td>147</td>\n",
       "      <td>147</td>\n",
       "      <td>147</td>\n",
       "      <td>147</td>\n",
       "      <td>147</td>\n",
       "      <td>147</td>\n",
       "      <td>147</td>\n",
       "    </tr>\n",
       "    <tr>\n",
       "      <td>mean</td>\n",
       "      <td>815</td>\n",
       "      <td>1985</td>\n",
       "      <td>4451</td>\n",
       "      <td>6359</td>\n",
       "      <td>8986</td>\n",
       "      <td>10964</td>\n",
       "      <td>12838</td>\n",
       "      <td>14503</td>\n",
       "      <td>15241</td>\n",
       "      <td>16927</td>\n",
       "      <td>18327</td>\n",
       "      <td>20842</td>\n",
       "      <td>132242</td>\n",
       "    </tr>\n",
       "    <tr>\n",
       "      <td>std</td>\n",
       "      <td>3555</td>\n",
       "      <td>6164</td>\n",
       "      <td>9385</td>\n",
       "      <td>10058</td>\n",
       "      <td>11901</td>\n",
       "      <td>11770</td>\n",
       "      <td>12759</td>\n",
       "      <td>12584</td>\n",
       "      <td>11553</td>\n",
       "      <td>11566</td>\n",
       "      <td>11011</td>\n",
       "      <td>11176</td>\n",
       "      <td>87559</td>\n",
       "    </tr>\n",
       "    <tr>\n",
       "      <td>min</td>\n",
       "      <td>0</td>\n",
       "      <td>0</td>\n",
       "      <td>0</td>\n",
       "      <td>0</td>\n",
       "      <td>0</td>\n",
       "      <td>0</td>\n",
       "      <td>0</td>\n",
       "      <td>0</td>\n",
       "      <td>0</td>\n",
       "      <td>0</td>\n",
       "      <td>0</td>\n",
       "      <td>0</td>\n",
       "      <td>5120</td>\n",
       "    </tr>\n",
       "    <tr>\n",
       "      <td>25%</td>\n",
       "      <td>0</td>\n",
       "      <td>0</td>\n",
       "      <td>0</td>\n",
       "      <td>0</td>\n",
       "      <td>0</td>\n",
       "      <td>0</td>\n",
       "      <td>0</td>\n",
       "      <td>0</td>\n",
       "      <td>3072</td>\n",
       "      <td>6656</td>\n",
       "      <td>10240</td>\n",
       "      <td>13312</td>\n",
       "      <td>64512</td>\n",
       "    </tr>\n",
       "    <tr>\n",
       "      <td>50%</td>\n",
       "      <td>0</td>\n",
       "      <td>0</td>\n",
       "      <td>0</td>\n",
       "      <td>0</td>\n",
       "      <td>0</td>\n",
       "      <td>9216</td>\n",
       "      <td>12288</td>\n",
       "      <td>14336</td>\n",
       "      <td>15360</td>\n",
       "      <td>17408</td>\n",
       "      <td>17408</td>\n",
       "      <td>21504</td>\n",
       "      <td>112640</td>\n",
       "    </tr>\n",
       "    <tr>\n",
       "      <td>75%</td>\n",
       "      <td>0</td>\n",
       "      <td>0</td>\n",
       "      <td>1536</td>\n",
       "      <td>11264</td>\n",
       "      <td>17408</td>\n",
       "      <td>20480</td>\n",
       "      <td>21504</td>\n",
       "      <td>24064</td>\n",
       "      <td>23552</td>\n",
       "      <td>24576</td>\n",
       "      <td>25600</td>\n",
       "      <td>27648</td>\n",
       "      <td>178688</td>\n",
       "    </tr>\n",
       "    <tr>\n",
       "      <td>max</td>\n",
       "      <td>19456</td>\n",
       "      <td>32768</td>\n",
       "      <td>35840</td>\n",
       "      <td>35840</td>\n",
       "      <td>44032</td>\n",
       "      <td>40960</td>\n",
       "      <td>44032</td>\n",
       "      <td>49152</td>\n",
       "      <td>43008</td>\n",
       "      <td>47104</td>\n",
       "      <td>45056</td>\n",
       "      <td>44032</td>\n",
       "      <td>376832</td>\n",
       "    </tr>\n",
       "  </tbody>\n",
       "</table>\n",
       "</div>"
      ],
      "text/plain": [
       "         jan    feb    mar    apr    may    jun    jul    aug    sep    okt  \\\n",
       "count    147    147    147    147    147    147    147    147    147    147   \n",
       "mean     815   1985   4451   6359   8986  10964  12838  14503  15241  16927   \n",
       "std     3555   6164   9385  10058  11901  11770  12759  12584  11553  11566   \n",
       "min        0      0      0      0      0      0      0      0      0      0   \n",
       "25%        0      0      0      0      0      0      0      0   3072   6656   \n",
       "50%        0      0      0      0      0   9216  12288  14336  15360  17408   \n",
       "75%        0      0   1536  11264  17408  20480  21504  24064  23552  24576   \n",
       "max    19456  32768  35840  35840  44032  40960  44032  49152  43008  47104   \n",
       "\n",
       "         nov    dec     sum  \n",
       "count    147    147     147  \n",
       "mean   18327  20842  132242  \n",
       "std    11011  11176   87559  \n",
       "min        0      0    5120  \n",
       "25%    10240  13312   64512  \n",
       "50%    17408  21504  112640  \n",
       "75%    25600  27648  178688  \n",
       "max    45056  44032  376832  "
      ]
     },
     "execution_count": 77,
     "metadata": {},
     "output_type": "execute_result"
    }
   ],
   "source": [
    "mb_ultra_desc = mb_per_month.query('user_id in @ultra_users').describe().astype('int')\n",
    "\n",
    "mb_ultra_desc"
   ]
  },
  {
   "cell_type": "markdown",
   "metadata": {},
   "source": [
    "Судя по третьему квартелю, большинству пользователей хватает заложенных в тариф мегабайт, 30720.\n",
    "\n",
    "Построим гисторграмму и определим основные характеристики по месяцам(среднее количество, дисперсию и стандартное отклонение):"
   ]
  },
  {
   "cell_type": "code",
   "execution_count": 78,
   "metadata": {},
   "outputs": [
    {
     "data": {
      "text/plain": [
       "array([[<matplotlib.axes._subplots.AxesSubplot object at 0x7fe019bb13d0>,\n",
       "        <matplotlib.axes._subplots.AxesSubplot object at 0x7fdf8a6abd10>],\n",
       "       [<matplotlib.axes._subplots.AxesSubplot object at 0x7fdf8a6ba350>,\n",
       "        <matplotlib.axes._subplots.AxesSubplot object at 0x7fdf8a67f890>]],\n",
       "      dtype=object)"
      ]
     },
     "execution_count": 78,
     "metadata": {},
     "output_type": "execute_result"
    },
    {
     "data": {
      "image/png": "[encoded data removed]",
      "text/plain": [
       "<Figure size 576x576 with 4 Axes>"
      ]
     },
     "metadata": {
      "needs_background": "light"
     },
     "output_type": "display_data"
    }
   ],
   "source": [
    "mb_per_month.query('user_id in @ultra_users')[['sep','okt','nov','dec']].hist(bins=50,figsize=(8,8))"
   ]
  },
  {
   "cell_type": "code",
   "execution_count": 79,
   "metadata": {},
   "outputs": [
    {
     "data": {
      "text/html": [
       "<div>\n",
       "<style scoped>\n",
       "    .dataframe tbody tr th:only-of-type {\n",
       "        vertical-align: middle;\n",
       "    }\n",
       "\n",
       "    .dataframe tbody tr th {\n",
       "        vertical-align: top;\n",
       "    }\n",
       "\n",
       "    .dataframe thead th {\n",
       "        text-align: right;\n",
       "    }\n",
       "</style>\n",
       "<table border=\"1\" class=\"dataframe\">\n",
       "  <thead>\n",
       "    <tr style=\"text-align: right;\">\n",
       "      <th></th>\n",
       "      <th>jan</th>\n",
       "      <th>feb</th>\n",
       "      <th>mar</th>\n",
       "      <th>apr</th>\n",
       "      <th>may</th>\n",
       "      <th>jun</th>\n",
       "      <th>jul</th>\n",
       "      <th>aug</th>\n",
       "      <th>sep</th>\n",
       "      <th>okt</th>\n",
       "      <th>nov</th>\n",
       "      <th>dec</th>\n",
       "      <th>sum</th>\n",
       "    </tr>\n",
       "  </thead>\n",
       "  <tbody>\n",
       "    <tr>\n",
       "      <td>mean</td>\n",
       "      <td>815</td>\n",
       "      <td>1985</td>\n",
       "      <td>4451</td>\n",
       "      <td>6359</td>\n",
       "      <td>8986</td>\n",
       "      <td>10964</td>\n",
       "      <td>12838</td>\n",
       "      <td>14503</td>\n",
       "      <td>15241</td>\n",
       "      <td>16927</td>\n",
       "      <td>18327</td>\n",
       "      <td>20842</td>\n",
       "      <td>132242</td>\n",
       "    </tr>\n",
       "    <tr>\n",
       "      <td>var</td>\n",
       "      <td>12638025</td>\n",
       "      <td>37994896</td>\n",
       "      <td>88078225</td>\n",
       "      <td>101163364</td>\n",
       "      <td>141633801</td>\n",
       "      <td>138532900</td>\n",
       "      <td>162792081</td>\n",
       "      <td>158357056</td>\n",
       "      <td>133471809</td>\n",
       "      <td>133772356</td>\n",
       "      <td>121242121</td>\n",
       "      <td>124902976</td>\n",
       "      <td>7666578481</td>\n",
       "    </tr>\n",
       "    <tr>\n",
       "      <td>std</td>\n",
       "      <td>3555</td>\n",
       "      <td>6164</td>\n",
       "      <td>9385</td>\n",
       "      <td>10058</td>\n",
       "      <td>11901</td>\n",
       "      <td>11770</td>\n",
       "      <td>12759</td>\n",
       "      <td>12584</td>\n",
       "      <td>11553</td>\n",
       "      <td>11566</td>\n",
       "      <td>11011</td>\n",
       "      <td>11176</td>\n",
       "      <td>87559</td>\n",
       "    </tr>\n",
       "  </tbody>\n",
       "</table>\n",
       "</div>"
      ],
      "text/plain": [
       "           jan       feb       mar        apr        may        jun  \\\n",
       "mean       815      1985      4451       6359       8986      10964   \n",
       "var   12638025  37994896  88078225  101163364  141633801  138532900   \n",
       "std       3555      6164      9385      10058      11901      11770   \n",
       "\n",
       "            jul        aug        sep        okt        nov        dec  \\\n",
       "mean      12838      14503      15241      16927      18327      20842   \n",
       "var   162792081  158357056  133471809  133772356  121242121  124902976   \n",
       "std       12759      12584      11553      11566      11011      11176   \n",
       "\n",
       "             sum  \n",
       "mean      132242  \n",
       "var   7666578481  \n",
       "std        87559  "
      ]
     },
     "execution_count": 79,
     "metadata": {},
     "output_type": "execute_result"
    }
   ],
   "source": [
    "mb_ultra_desc.loc['var'] = mb_ultra_desc.loc['std'] **2\n",
    "\n",
    "mb_ultra_desc.loc[['mean','var','std']]"
   ]
  },
  {
   "cell_type": "markdown",
   "metadata": {},
   "source": [
    "Строим нормальное распределение, аналогично с тарифом Смарт."
   ]
  },
  {
   "cell_type": "code",
   "execution_count": 80,
   "metadata": {},
   "outputs": [
    {
     "data": {
      "text/plain": [
       "count      138\n",
       "mean     22201\n",
       "std      10135\n",
       "min       1024\n",
       "25%      15360\n",
       "50%      22528\n",
       "75%      28416\n",
       "max      44032\n",
       "Name: dec, dtype: int64"
      ]
     },
     "execution_count": 80,
     "metadata": {},
     "output_type": "execute_result"
    }
   ],
   "source": [
    "mb_ultra_more_0 = mb_per_month.query('user_id in @ultra_users and dec > 0')['dec'].describe().astype('int')\n",
    "\n",
    "mb_ultra_more_0"
   ]
  },
  {
   "cell_type": "code",
   "execution_count": 81,
   "metadata": {},
   "outputs": [],
   "source": [
    "mb_u_distr = st.norm(mb_ultra_more_0['mean'],mb_ultra_more_0['std'])#нормальное распределение"
   ]
  },
  {
   "cell_type": "code",
   "execution_count": 82,
   "metadata": {},
   "outputs": [
    {
     "data": {
      "text/plain": [
       "0.7997006721553563"
      ]
     },
     "execution_count": 82,
     "metadata": {},
     "output_type": "execute_result"
    }
   ],
   "source": [
    "mb_u_distr.cdf(30720) "
   ]
  },
  {
   "cell_type": "code",
   "execution_count": 83,
   "metadata": {},
   "outputs": [
    {
     "data": {
      "text/plain": [
       "0.17320166591310082"
      ]
     },
     "execution_count": 83,
     "metadata": {},
     "output_type": "execute_result"
    }
   ],
   "source": [
    "1 - mb_u_distr.cdf(30720 + 1024) "
   ]
  },
  {
   "cell_type": "markdown",
   "metadata": {},
   "source": [
    "80% клиентов должно хватать 30 Гб, 16% докупают больше 1 Гб."
   ]
  },
  {
   "cell_type": "markdown",
   "metadata": {},
   "source": [
    "### Звонки  \n",
    "Изучим звонки абонентами с разными тарифами.\n",
    "\n",
    "#### Тариф Смарт."
   ]
  },
  {
   "cell_type": "code",
   "execution_count": 84,
   "metadata": {},
   "outputs": [
    {
     "data": {
      "text/html": [
       "<div>\n",
       "<style scoped>\n",
       "    .dataframe tbody tr th:only-of-type {\n",
       "        vertical-align: middle;\n",
       "    }\n",
       "\n",
       "    .dataframe tbody tr th {\n",
       "        vertical-align: top;\n",
       "    }\n",
       "\n",
       "    .dataframe thead th {\n",
       "        text-align: right;\n",
       "    }\n",
       "</style>\n",
       "<table border=\"1\" class=\"dataframe\">\n",
       "  <thead>\n",
       "    <tr style=\"text-align: right;\">\n",
       "      <th></th>\n",
       "      <th>jan</th>\n",
       "      <th>feb</th>\n",
       "      <th>mar</th>\n",
       "      <th>apr</th>\n",
       "      <th>may</th>\n",
       "      <th>jun</th>\n",
       "      <th>jul</th>\n",
       "      <th>aug</th>\n",
       "      <th>sep</th>\n",
       "      <th>okt</th>\n",
       "      <th>nov</th>\n",
       "      <th>dec</th>\n",
       "      <th>sum</th>\n",
       "    </tr>\n",
       "  </thead>\n",
       "  <tbody>\n",
       "    <tr>\n",
       "      <td>count</td>\n",
       "      <td>349</td>\n",
       "      <td>349</td>\n",
       "      <td>349</td>\n",
       "      <td>349</td>\n",
       "      <td>349</td>\n",
       "      <td>349</td>\n",
       "      <td>349</td>\n",
       "      <td>349</td>\n",
       "      <td>349</td>\n",
       "      <td>349</td>\n",
       "      <td>349</td>\n",
       "      <td>349</td>\n",
       "      <td>349</td>\n",
       "    </tr>\n",
       "    <tr>\n",
       "      <td>mean</td>\n",
       "      <td>18</td>\n",
       "      <td>46</td>\n",
       "      <td>80</td>\n",
       "      <td>109</td>\n",
       "      <td>146</td>\n",
       "      <td>173</td>\n",
       "      <td>219</td>\n",
       "      <td>265</td>\n",
       "      <td>297</td>\n",
       "      <td>334</td>\n",
       "      <td>365</td>\n",
       "      <td>430</td>\n",
       "      <td>2488</td>\n",
       "    </tr>\n",
       "    <tr>\n",
       "      <td>std</td>\n",
       "      <td>72</td>\n",
       "      <td>127</td>\n",
       "      <td>173</td>\n",
       "      <td>187</td>\n",
       "      <td>209</td>\n",
       "      <td>215</td>\n",
       "      <td>227</td>\n",
       "      <td>233</td>\n",
       "      <td>228</td>\n",
       "      <td>216</td>\n",
       "      <td>196</td>\n",
       "      <td>199</td>\n",
       "      <td>1626</td>\n",
       "    </tr>\n",
       "    <tr>\n",
       "      <td>min</td>\n",
       "      <td>0</td>\n",
       "      <td>0</td>\n",
       "      <td>0</td>\n",
       "      <td>0</td>\n",
       "      <td>0</td>\n",
       "      <td>0</td>\n",
       "      <td>0</td>\n",
       "      <td>0</td>\n",
       "      <td>0</td>\n",
       "      <td>0</td>\n",
       "      <td>0</td>\n",
       "      <td>0</td>\n",
       "      <td>133</td>\n",
       "    </tr>\n",
       "    <tr>\n",
       "      <td>25%</td>\n",
       "      <td>0</td>\n",
       "      <td>0</td>\n",
       "      <td>0</td>\n",
       "      <td>0</td>\n",
       "      <td>0</td>\n",
       "      <td>0</td>\n",
       "      <td>0</td>\n",
       "      <td>0</td>\n",
       "      <td>0</td>\n",
       "      <td>187</td>\n",
       "      <td>243</td>\n",
       "      <td>301</td>\n",
       "      <td>1220</td>\n",
       "    </tr>\n",
       "    <tr>\n",
       "      <td>50%</td>\n",
       "      <td>0</td>\n",
       "      <td>0</td>\n",
       "      <td>0</td>\n",
       "      <td>0</td>\n",
       "      <td>0</td>\n",
       "      <td>0</td>\n",
       "      <td>172</td>\n",
       "      <td>282</td>\n",
       "      <td>322</td>\n",
       "      <td>340</td>\n",
       "      <td>380</td>\n",
       "      <td>425</td>\n",
       "      <td>2169</td>\n",
       "    </tr>\n",
       "    <tr>\n",
       "      <td>75%</td>\n",
       "      <td>0</td>\n",
       "      <td>0</td>\n",
       "      <td>0</td>\n",
       "      <td>195</td>\n",
       "      <td>328</td>\n",
       "      <td>369</td>\n",
       "      <td>429</td>\n",
       "      <td>459</td>\n",
       "      <td>479</td>\n",
       "      <td>486</td>\n",
       "      <td>500</td>\n",
       "      <td>553</td>\n",
       "      <td>3583</td>\n",
       "    </tr>\n",
       "    <tr>\n",
       "      <td>max</td>\n",
       "      <td>503</td>\n",
       "      <td>711</td>\n",
       "      <td>783</td>\n",
       "      <td>744</td>\n",
       "      <td>784</td>\n",
       "      <td>795</td>\n",
       "      <td>778</td>\n",
       "      <td>917</td>\n",
       "      <td>797</td>\n",
       "      <td>956</td>\n",
       "      <td>877</td>\n",
       "      <td>1355</td>\n",
       "      <td>7950</td>\n",
       "    </tr>\n",
       "  </tbody>\n",
       "</table>\n",
       "</div>"
      ],
      "text/plain": [
       "       jan  feb  mar  apr  may  jun  jul  aug  sep  okt  nov   dec   sum\n",
       "count  349  349  349  349  349  349  349  349  349  349  349   349   349\n",
       "mean    18   46   80  109  146  173  219  265  297  334  365   430  2488\n",
       "std     72  127  173  187  209  215  227  233  228  216  196   199  1626\n",
       "min      0    0    0    0    0    0    0    0    0    0    0     0   133\n",
       "25%      0    0    0    0    0    0    0    0    0  187  243   301  1220\n",
       "50%      0    0    0    0    0    0  172  282  322  340  380   425  2169\n",
       "75%      0    0    0  195  328  369  429  459  479  486  500   553  3583\n",
       "max    503  711  783  744  784  795  778  917  797  956  877  1355  7950"
      ]
     },
     "execution_count": 84,
     "metadata": {},
     "output_type": "execute_result"
    }
   ],
   "source": [
    "minut_smart_desc = minute_per_month.query('user_id in @smart_users').describe().astype('int')\n",
    "\n",
    "minut_smart_desc"
   ]
  },
  {
   "cell_type": "markdown",
   "metadata": {},
   "source": [
    "Судя по среднему и медиане, большинству хватает 500 минут, но те, которым не хватает, очень много докупают.\n",
    "\n",
    "Построим гисторграмму и определим основные характеристики по месяцам(среднее количество, дисперсию и стандартное отклонение):"
   ]
  },
  {
   "cell_type": "code",
   "execution_count": 85,
   "metadata": {
    "scrolled": true
   },
   "outputs": [
    {
     "data": {
      "text/plain": [
       "array([[<matplotlib.axes._subplots.AxesSubplot object at 0x7fdf8a39d9d0>,\n",
       "        <matplotlib.axes._subplots.AxesSubplot object at 0x7fdf8a308f90>],\n",
       "       [<matplotlib.axes._subplots.AxesSubplot object at 0x7fdf8a29fb10>,\n",
       "        <matplotlib.axes._subplots.AxesSubplot object at 0x7fdf8a2dce50>]],\n",
       "      dtype=object)"
      ]
     },
     "execution_count": 85,
     "metadata": {},
     "output_type": "execute_result"
    },
    {
     "data": {
      "image/png": "[encoded data removed]",
      "text/plain": [
       "<Figure size 576x576 with 4 Axes>"
      ]
     },
     "metadata": {
      "needs_background": "light"
     },
     "output_type": "display_data"
    }
   ],
   "source": [
    "minute_per_month.query('user_id in @smart_users')[['sep','okt','nov','dec']].hist(bins=50,figsize=(8,8))"
   ]
  },
  {
   "cell_type": "code",
   "execution_count": 86,
   "metadata": {},
   "outputs": [
    {
     "data": {
      "text/html": [
       "<div>\n",
       "<style scoped>\n",
       "    .dataframe tbody tr th:only-of-type {\n",
       "        vertical-align: middle;\n",
       "    }\n",
       "\n",
       "    .dataframe tbody tr th {\n",
       "        vertical-align: top;\n",
       "    }\n",
       "\n",
       "    .dataframe thead th {\n",
       "        text-align: right;\n",
       "    }\n",
       "</style>\n",
       "<table border=\"1\" class=\"dataframe\">\n",
       "  <thead>\n",
       "    <tr style=\"text-align: right;\">\n",
       "      <th></th>\n",
       "      <th>jan</th>\n",
       "      <th>feb</th>\n",
       "      <th>mar</th>\n",
       "      <th>apr</th>\n",
       "      <th>may</th>\n",
       "      <th>jun</th>\n",
       "      <th>jul</th>\n",
       "      <th>aug</th>\n",
       "      <th>sep</th>\n",
       "      <th>okt</th>\n",
       "      <th>nov</th>\n",
       "      <th>dec</th>\n",
       "      <th>sum</th>\n",
       "    </tr>\n",
       "  </thead>\n",
       "  <tbody>\n",
       "    <tr>\n",
       "      <td>mean</td>\n",
       "      <td>18</td>\n",
       "      <td>46</td>\n",
       "      <td>80</td>\n",
       "      <td>109</td>\n",
       "      <td>146</td>\n",
       "      <td>173</td>\n",
       "      <td>219</td>\n",
       "      <td>265</td>\n",
       "      <td>297</td>\n",
       "      <td>334</td>\n",
       "      <td>365</td>\n",
       "      <td>430</td>\n",
       "      <td>2488</td>\n",
       "    </tr>\n",
       "    <tr>\n",
       "      <td>var</td>\n",
       "      <td>5184</td>\n",
       "      <td>16129</td>\n",
       "      <td>29929</td>\n",
       "      <td>34969</td>\n",
       "      <td>43681</td>\n",
       "      <td>46225</td>\n",
       "      <td>51529</td>\n",
       "      <td>54289</td>\n",
       "      <td>51984</td>\n",
       "      <td>46656</td>\n",
       "      <td>38416</td>\n",
       "      <td>39601</td>\n",
       "      <td>2643876</td>\n",
       "    </tr>\n",
       "    <tr>\n",
       "      <td>std</td>\n",
       "      <td>72</td>\n",
       "      <td>127</td>\n",
       "      <td>173</td>\n",
       "      <td>187</td>\n",
       "      <td>209</td>\n",
       "      <td>215</td>\n",
       "      <td>227</td>\n",
       "      <td>233</td>\n",
       "      <td>228</td>\n",
       "      <td>216</td>\n",
       "      <td>196</td>\n",
       "      <td>199</td>\n",
       "      <td>1626</td>\n",
       "    </tr>\n",
       "  </tbody>\n",
       "</table>\n",
       "</div>"
      ],
      "text/plain": [
       "       jan    feb    mar    apr    may    jun    jul    aug    sep    okt  \\\n",
       "mean    18     46     80    109    146    173    219    265    297    334   \n",
       "var   5184  16129  29929  34969  43681  46225  51529  54289  51984  46656   \n",
       "std     72    127    173    187    209    215    227    233    228    216   \n",
       "\n",
       "        nov    dec      sum  \n",
       "mean    365    430     2488  \n",
       "var   38416  39601  2643876  \n",
       "std     196    199     1626  "
      ]
     },
     "execution_count": 86,
     "metadata": {},
     "output_type": "execute_result"
    }
   ],
   "source": [
    "minut_smart_desc.loc['var'] = minut_smart_desc.loc['std'] **2\n",
    "\n",
    "minut_smart_desc.loc[['mean','var','std']]"
   ]
  },
  {
   "cell_type": "markdown",
   "metadata": {},
   "source": [
    "В декабре данные сильно отличаются от остальных месяцев, возможно это связано с Новым годом."
   ]
  },
  {
   "cell_type": "code",
   "execution_count": 87,
   "metadata": {},
   "outputs": [
    {
     "data": {
      "text/plain": [
       "array([[<matplotlib.axes._subplots.AxesSubplot object at 0x7fdf89fc8190>,\n",
       "        <matplotlib.axes._subplots.AxesSubplot object at 0x7fdf89eefcd0>],\n",
       "       [<matplotlib.axes._subplots.AxesSubplot object at 0x7fdf89f05690>,\n",
       "        <matplotlib.axes._subplots.AxesSubplot object at 0x7fdf89eb7e90>]],\n",
       "      dtype=object)"
      ]
     },
     "execution_count": 87,
     "metadata": {},
     "output_type": "execute_result"
    },
    {
     "data": {
      "image/png": "[encoded data removed]",
      "text/plain": [
       "<Figure size 576x576 with 4 Axes>"
      ]
     },
     "metadata": {
      "needs_background": "light"
     },
     "output_type": "display_data"
    }
   ],
   "source": [
    "calls_count_per_month.query('user_id in @smart_users')[['sep','okt','nov','dec']].hist(bins=80,figsize=(8,8))"
   ]
  },
  {
   "cell_type": "markdown",
   "metadata": {},
   "source": [
    "Действительно, в декабре больше звонили, построим рапределение для ноября, чтобы иметь более точную картину. "
   ]
  },
  {
   "cell_type": "code",
   "execution_count": 88,
   "metadata": {},
   "outputs": [
    {
     "data": {
      "text/plain": [
       "count    315\n",
       "mean     405\n",
       "std      163\n",
       "min       11\n",
       "25%      289\n",
       "50%      397\n",
       "75%      510\n",
       "max      877\n",
       "Name: nov, dtype: int64"
      ]
     },
     "execution_count": 88,
     "metadata": {},
     "output_type": "execute_result"
    }
   ],
   "source": [
    "min_smart_more_0 = minute_per_month.query('user_id in @smart_users and nov > 0')['nov'].describe().astype('int')\n",
    "\n",
    "min_smart_more_0"
   ]
  },
  {
   "cell_type": "code",
   "execution_count": 89,
   "metadata": {},
   "outputs": [],
   "source": [
    "min_s_distr = st.norm(min_smart_more_0['mean'],min_smart_more_0['std'])#нормальное распределение"
   ]
  },
  {
   "cell_type": "code",
   "execution_count": 90,
   "metadata": {},
   "outputs": [
    {
     "data": {
      "text/plain": [
       "0.7199934622725455"
      ]
     },
     "execution_count": 90,
     "metadata": {},
     "output_type": "execute_result"
    }
   ],
   "source": [
    "min_s_distr.cdf(500)"
   ]
  },
  {
   "cell_type": "code",
   "execution_count": 91,
   "metadata": {
    "scrolled": true
   },
   "outputs": [
    {
     "data": {
      "text/plain": [
       "0.24407585636342133"
      ]
     },
     "execution_count": 91,
     "metadata": {},
     "output_type": "execute_result"
    }
   ],
   "source": [
    "1 - min_s_distr.cdf(500+18)"
   ]
  },
  {
   "cell_type": "code",
   "execution_count": 92,
   "metadata": {},
   "outputs": [
    {
     "data": {
      "text/plain": [
       "0.8131517378860882"
      ]
     },
     "execution_count": 92,
     "metadata": {},
     "output_type": "execute_result"
    }
   ],
   "source": [
    "min_s_distr.cdf(500+50)"
   ]
  },
  {
   "cell_type": "markdown",
   "metadata": {},
   "source": [
    "72% клиентов хватает 500 минут для разговоров, но более 24% вынуждены переплачивать за дополнительные минуты больше 10% от стоимости тарифа. Если увеличить количество минут на 50, то, вероятно, до 80% клиентов будут удовлетворены."
   ]
  },
  {
   "cell_type": "markdown",
   "metadata": {},
   "source": [
    "#### Тариф Ультра."
   ]
  },
  {
   "cell_type": "code",
   "execution_count": 93,
   "metadata": {},
   "outputs": [
    {
     "data": {
      "text/html": [
       "<div>\n",
       "<style scoped>\n",
       "    .dataframe tbody tr th:only-of-type {\n",
       "        vertical-align: middle;\n",
       "    }\n",
       "\n",
       "    .dataframe tbody tr th {\n",
       "        vertical-align: top;\n",
       "    }\n",
       "\n",
       "    .dataframe thead th {\n",
       "        text-align: right;\n",
       "    }\n",
       "</style>\n",
       "<table border=\"1\" class=\"dataframe\">\n",
       "  <thead>\n",
       "    <tr style=\"text-align: right;\">\n",
       "      <th></th>\n",
       "      <th>jan</th>\n",
       "      <th>feb</th>\n",
       "      <th>mar</th>\n",
       "      <th>apr</th>\n",
       "      <th>may</th>\n",
       "      <th>jun</th>\n",
       "      <th>jul</th>\n",
       "      <th>aug</th>\n",
       "      <th>sep</th>\n",
       "      <th>okt</th>\n",
       "      <th>nov</th>\n",
       "      <th>dec</th>\n",
       "      <th>sum</th>\n",
       "    </tr>\n",
       "  </thead>\n",
       "  <tbody>\n",
       "    <tr>\n",
       "      <td>count</td>\n",
       "      <td>143</td>\n",
       "      <td>143</td>\n",
       "      <td>143</td>\n",
       "      <td>143</td>\n",
       "      <td>143</td>\n",
       "      <td>143</td>\n",
       "      <td>143</td>\n",
       "      <td>143</td>\n",
       "      <td>143</td>\n",
       "      <td>143</td>\n",
       "      <td>143</td>\n",
       "      <td>143</td>\n",
       "      <td>143</td>\n",
       "    </tr>\n",
       "    <tr>\n",
       "      <td>mean</td>\n",
       "      <td>25</td>\n",
       "      <td>47</td>\n",
       "      <td>117</td>\n",
       "      <td>162</td>\n",
       "      <td>222</td>\n",
       "      <td>262</td>\n",
       "      <td>324</td>\n",
       "      <td>357</td>\n",
       "      <td>403</td>\n",
       "      <td>447</td>\n",
       "      <td>471</td>\n",
       "      <td>538</td>\n",
       "      <td>3379</td>\n",
       "    </tr>\n",
       "    <tr>\n",
       "      <td>std</td>\n",
       "      <td>115</td>\n",
       "      <td>154</td>\n",
       "      <td>254</td>\n",
       "      <td>255</td>\n",
       "      <td>300</td>\n",
       "      <td>307</td>\n",
       "      <td>334</td>\n",
       "      <td>327</td>\n",
       "      <td>336</td>\n",
       "      <td>335</td>\n",
       "      <td>305</td>\n",
       "      <td>326</td>\n",
       "      <td>2463</td>\n",
       "    </tr>\n",
       "    <tr>\n",
       "      <td>min</td>\n",
       "      <td>0</td>\n",
       "      <td>0</td>\n",
       "      <td>0</td>\n",
       "      <td>0</td>\n",
       "      <td>0</td>\n",
       "      <td>0</td>\n",
       "      <td>0</td>\n",
       "      <td>0</td>\n",
       "      <td>0</td>\n",
       "      <td>0</td>\n",
       "      <td>0</td>\n",
       "      <td>0</td>\n",
       "      <td>65</td>\n",
       "    </tr>\n",
       "    <tr>\n",
       "      <td>25%</td>\n",
       "      <td>0</td>\n",
       "      <td>0</td>\n",
       "      <td>0</td>\n",
       "      <td>0</td>\n",
       "      <td>0</td>\n",
       "      <td>0</td>\n",
       "      <td>0</td>\n",
       "      <td>0</td>\n",
       "      <td>36</td>\n",
       "      <td>156</td>\n",
       "      <td>233</td>\n",
       "      <td>279</td>\n",
       "      <td>1158</td>\n",
       "    </tr>\n",
       "    <tr>\n",
       "      <td>50%</td>\n",
       "      <td>0</td>\n",
       "      <td>0</td>\n",
       "      <td>0</td>\n",
       "      <td>0</td>\n",
       "      <td>0</td>\n",
       "      <td>127</td>\n",
       "      <td>251</td>\n",
       "      <td>346</td>\n",
       "      <td>393</td>\n",
       "      <td>427</td>\n",
       "      <td>488</td>\n",
       "      <td>548</td>\n",
       "      <td>3025</td>\n",
       "    </tr>\n",
       "    <tr>\n",
       "      <td>75%</td>\n",
       "      <td>0</td>\n",
       "      <td>0</td>\n",
       "      <td>81</td>\n",
       "      <td>294</td>\n",
       "      <td>451</td>\n",
       "      <td>480</td>\n",
       "      <td>617</td>\n",
       "      <td>594</td>\n",
       "      <td>686</td>\n",
       "      <td>696</td>\n",
       "      <td>650</td>\n",
       "      <td>758</td>\n",
       "      <td>4774</td>\n",
       "    </tr>\n",
       "    <tr>\n",
       "      <td>max</td>\n",
       "      <td>817</td>\n",
       "      <td>872</td>\n",
       "      <td>1504</td>\n",
       "      <td>1037</td>\n",
       "      <td>1130</td>\n",
       "      <td>1338</td>\n",
       "      <td>1206</td>\n",
       "      <td>1249</td>\n",
       "      <td>1171</td>\n",
       "      <td>1300</td>\n",
       "      <td>1161</td>\n",
       "      <td>1476</td>\n",
       "      <td>11994</td>\n",
       "    </tr>\n",
       "  </tbody>\n",
       "</table>\n",
       "</div>"
      ],
      "text/plain": [
       "       jan  feb   mar   apr   may   jun   jul   aug   sep   okt   nov   dec  \\\n",
       "count  143  143   143   143   143   143   143   143   143   143   143   143   \n",
       "mean    25   47   117   162   222   262   324   357   403   447   471   538   \n",
       "std    115  154   254   255   300   307   334   327   336   335   305   326   \n",
       "min      0    0     0     0     0     0     0     0     0     0     0     0   \n",
       "25%      0    0     0     0     0     0     0     0    36   156   233   279   \n",
       "50%      0    0     0     0     0   127   251   346   393   427   488   548   \n",
       "75%      0    0    81   294   451   480   617   594   686   696   650   758   \n",
       "max    817  872  1504  1037  1130  1338  1206  1249  1171  1300  1161  1476   \n",
       "\n",
       "         sum  \n",
       "count    143  \n",
       "mean    3379  \n",
       "std     2463  \n",
       "min       65  \n",
       "25%     1158  \n",
       "50%     3025  \n",
       "75%     4774  \n",
       "max    11994  "
      ]
     },
     "execution_count": 93,
     "metadata": {},
     "output_type": "execute_result"
    }
   ],
   "source": [
    "minut_ultra_desc = minute_per_month.query('user_id in @ultra_users').describe().astype('int')\n",
    "\n",
    "minut_ultra_desc"
   ]
  },
  {
   "cell_type": "markdown",
   "metadata": {},
   "source": [
    "Абсолютно всем абонентам этого тарифа хватает минут. Причем количество использованных минут не сильно отличается от тарифа Смарт. \n",
    "\n",
    "Построим гисторграмму и определим основные характеристики по месяцам(среднее количество, дисперсию и стандартное отклонение):"
   ]
  },
  {
   "cell_type": "code",
   "execution_count": 94,
   "metadata": {},
   "outputs": [
    {
     "data": {
      "text/html": [
       "<div>\n",
       "<style scoped>\n",
       "    .dataframe tbody tr th:only-of-type {\n",
       "        vertical-align: middle;\n",
       "    }\n",
       "\n",
       "    .dataframe tbody tr th {\n",
       "        vertical-align: top;\n",
       "    }\n",
       "\n",
       "    .dataframe thead th {\n",
       "        text-align: right;\n",
       "    }\n",
       "</style>\n",
       "<table border=\"1\" class=\"dataframe\">\n",
       "  <thead>\n",
       "    <tr style=\"text-align: right;\">\n",
       "      <th></th>\n",
       "      <th>jan</th>\n",
       "      <th>feb</th>\n",
       "      <th>mar</th>\n",
       "      <th>apr</th>\n",
       "      <th>may</th>\n",
       "      <th>jun</th>\n",
       "      <th>jul</th>\n",
       "      <th>aug</th>\n",
       "      <th>sep</th>\n",
       "      <th>okt</th>\n",
       "      <th>nov</th>\n",
       "      <th>dec</th>\n",
       "      <th>sum</th>\n",
       "    </tr>\n",
       "  </thead>\n",
       "  <tbody>\n",
       "    <tr>\n",
       "      <td>mean</td>\n",
       "      <td>25</td>\n",
       "      <td>47</td>\n",
       "      <td>117</td>\n",
       "      <td>162</td>\n",
       "      <td>222</td>\n",
       "      <td>262</td>\n",
       "      <td>324</td>\n",
       "      <td>357</td>\n",
       "      <td>403</td>\n",
       "      <td>447</td>\n",
       "      <td>471</td>\n",
       "      <td>538</td>\n",
       "      <td>3379</td>\n",
       "    </tr>\n",
       "    <tr>\n",
       "      <td>var</td>\n",
       "      <td>13225</td>\n",
       "      <td>23716</td>\n",
       "      <td>64516</td>\n",
       "      <td>65025</td>\n",
       "      <td>90000</td>\n",
       "      <td>94249</td>\n",
       "      <td>111556</td>\n",
       "      <td>106929</td>\n",
       "      <td>112896</td>\n",
       "      <td>112225</td>\n",
       "      <td>93025</td>\n",
       "      <td>106276</td>\n",
       "      <td>6066369</td>\n",
       "    </tr>\n",
       "    <tr>\n",
       "      <td>std</td>\n",
       "      <td>115</td>\n",
       "      <td>154</td>\n",
       "      <td>254</td>\n",
       "      <td>255</td>\n",
       "      <td>300</td>\n",
       "      <td>307</td>\n",
       "      <td>334</td>\n",
       "      <td>327</td>\n",
       "      <td>336</td>\n",
       "      <td>335</td>\n",
       "      <td>305</td>\n",
       "      <td>326</td>\n",
       "      <td>2463</td>\n",
       "    </tr>\n",
       "  </tbody>\n",
       "</table>\n",
       "</div>"
      ],
      "text/plain": [
       "        jan    feb    mar    apr    may    jun     jul     aug     sep  \\\n",
       "mean     25     47    117    162    222    262     324     357     403   \n",
       "var   13225  23716  64516  65025  90000  94249  111556  106929  112896   \n",
       "std     115    154    254    255    300    307     334     327     336   \n",
       "\n",
       "         okt    nov     dec      sum  \n",
       "mean     447    471     538     3379  \n",
       "var   112225  93025  106276  6066369  \n",
       "std      335    305     326     2463  "
      ]
     },
     "execution_count": 94,
     "metadata": {},
     "output_type": "execute_result"
    }
   ],
   "source": [
    "minut_ultra_desc.loc['var'] = minut_ultra_desc.loc['std'] **2\n",
    "\n",
    "minut_ultra_desc.loc[['mean','var','std']]"
   ]
  },
  {
   "cell_type": "code",
   "execution_count": 95,
   "metadata": {},
   "outputs": [
    {
     "data": {
      "text/plain": [
       "array([[<matplotlib.axes._subplots.AxesSubplot object at 0x7fdf899a0850>,\n",
       "        <matplotlib.axes._subplots.AxesSubplot object at 0x7fdf89a38a50>],\n",
       "       [<matplotlib.axes._subplots.AxesSubplot object at 0x7fdf899c9f10>,\n",
       "        <matplotlib.axes._subplots.AxesSubplot object at 0x7fdf8996cbd0>]],\n",
       "      dtype=object)"
      ]
     },
     "execution_count": 95,
     "metadata": {},
     "output_type": "execute_result"
    },
    {
     "data": {
      "image/png": "[encoded data removed]",
      "text/plain": [
       "<Figure size 576x576 with 4 Axes>"
      ]
     },
     "metadata": {
      "needs_background": "light"
     },
     "output_type": "display_data"
    }
   ],
   "source": [
    "minute_per_month.query('user_id in @ultra_users')[['sep','okt','nov','dec']].hist(bins=50,figsize=(8,8))"
   ]
  },
  {
   "cell_type": "markdown",
   "metadata": {},
   "source": [
    "Для разных месяцев данные рапределены примерно одинаково, но в декабре люди чаще звонили, что увеличило выборку звонящих, но доббавило длинный хвост больших значений. Построим нормальное распределение по ноябрю и для значений больше 0, так как по месяцам заметна тенденция уменьшения нулевых значений."
   ]
  },
  {
   "cell_type": "code",
   "execution_count": 96,
   "metadata": {},
   "outputs": [
    {
     "data": {
      "text/plain": [
       "count     129\n",
       "mean      522\n",
       "std       277\n",
       "min         6\n",
       "25%       310\n",
       "50%       506\n",
       "75%       683\n",
       "max      1161\n",
       "Name: nov, dtype: int64"
      ]
     },
     "execution_count": 96,
     "metadata": {},
     "output_type": "execute_result"
    }
   ],
   "source": [
    "min_ultra_more_0 = minute_per_month.query('user_id in @ultra_users and nov > 0')['nov'].describe().astype('int')\n",
    "\n",
    "min_ultra_more_0"
   ]
  },
  {
   "cell_type": "code",
   "execution_count": 97,
   "metadata": {},
   "outputs": [],
   "source": [
    "min_u_distr = st.norm(min_ultra_more_0['mean'],min_ultra_more_0['std'])#нормальное распределение"
   ]
  },
  {
   "cell_type": "code",
   "execution_count": 98,
   "metadata": {},
   "outputs": [
    {
     "data": {
      "text/plain": [
       "0.9577931598988465"
      ]
     },
     "execution_count": 98,
     "metadata": {},
     "output_type": "execute_result"
    }
   ],
   "source": [
    "min_u_distr.cdf(1000)"
   ]
  },
  {
   "cell_type": "markdown",
   "metadata": {},
   "source": [
    "Даже если уменьшить количество минут до 1000, то 95% абонентов будет этого хватать, если распределение не сдвинется. "
   ]
  },
  {
   "cell_type": "markdown",
   "metadata": {},
   "source": [
    "### Общие расходы пользователей\n",
    "\n",
    "Рассмотрим, как распределятся расходы пользователей по тарифам. \n",
    "\n",
    "#### Тариф Смарт.\n",
    "\n",
    "Построим гистограмму для расходов пользователей по месяцам и сумарным расходам за год."
   ]
  },
  {
   "cell_type": "code",
   "execution_count": 99,
   "metadata": {
    "scrolled": true
   },
   "outputs": [
    {
     "data": {
      "text/html": [
       "<div>\n",
       "<style scoped>\n",
       "    .dataframe tbody tr th:only-of-type {\n",
       "        vertical-align: middle;\n",
       "    }\n",
       "\n",
       "    .dataframe tbody tr th {\n",
       "        vertical-align: top;\n",
       "    }\n",
       "\n",
       "    .dataframe thead th {\n",
       "        text-align: right;\n",
       "    }\n",
       "</style>\n",
       "<table border=\"1\" class=\"dataframe\">\n",
       "  <thead>\n",
       "    <tr style=\"text-align: right;\">\n",
       "      <th></th>\n",
       "      <th>user_id</th>\n",
       "      <th>tariff</th>\n",
       "      <th>jan</th>\n",
       "      <th>feb</th>\n",
       "      <th>mar</th>\n",
       "      <th>apr</th>\n",
       "      <th>may</th>\n",
       "      <th>jun</th>\n",
       "      <th>jul</th>\n",
       "      <th>aug</th>\n",
       "      <th>sep</th>\n",
       "      <th>okt</th>\n",
       "      <th>nov</th>\n",
       "      <th>dec</th>\n",
       "      <th>sum</th>\n",
       "    </tr>\n",
       "  </thead>\n",
       "  <tbody>\n",
       "    <tr>\n",
       "      <td>0</td>\n",
       "      <td>1000</td>\n",
       "      <td>ultra</td>\n",
       "      <td>0.0</td>\n",
       "      <td>0.0</td>\n",
       "      <td>0.0</td>\n",
       "      <td>0.0</td>\n",
       "      <td>1950.0</td>\n",
       "      <td>1950.0</td>\n",
       "      <td>1950.0</td>\n",
       "      <td>1950.0</td>\n",
       "      <td>1950.0</td>\n",
       "      <td>1950.0</td>\n",
       "      <td>1950.0</td>\n",
       "      <td>1950.0</td>\n",
       "      <td>15600.0</td>\n",
       "    </tr>\n",
       "    <tr>\n",
       "      <td>1</td>\n",
       "      <td>1001</td>\n",
       "      <td>smart</td>\n",
       "      <td>0.0</td>\n",
       "      <td>0.0</td>\n",
       "      <td>0.0</td>\n",
       "      <td>0.0</td>\n",
       "      <td>0.0</td>\n",
       "      <td>0.0</td>\n",
       "      <td>0.0</td>\n",
       "      <td>0.0</td>\n",
       "      <td>0.0</td>\n",
       "      <td>0.0</td>\n",
       "      <td>1150.0</td>\n",
       "      <td>550.0</td>\n",
       "      <td>1700.0</td>\n",
       "    </tr>\n",
       "    <tr>\n",
       "      <td>2</td>\n",
       "      <td>1002</td>\n",
       "      <td>smart</td>\n",
       "      <td>0.0</td>\n",
       "      <td>0.0</td>\n",
       "      <td>0.0</td>\n",
       "      <td>0.0</td>\n",
       "      <td>0.0</td>\n",
       "      <td>550.0</td>\n",
       "      <td>1150.0</td>\n",
       "      <td>1550.0</td>\n",
       "      <td>950.0</td>\n",
       "      <td>550.0</td>\n",
       "      <td>1350.0</td>\n",
       "      <td>1150.0</td>\n",
       "      <td>7250.0</td>\n",
       "    </tr>\n",
       "    <tr>\n",
       "      <td>3</td>\n",
       "      <td>1003</td>\n",
       "      <td>ultra</td>\n",
       "      <td>0.0</td>\n",
       "      <td>0.0</td>\n",
       "      <td>0.0</td>\n",
       "      <td>0.0</td>\n",
       "      <td>0.0</td>\n",
       "      <td>0.0</td>\n",
       "      <td>0.0</td>\n",
       "      <td>1950.0</td>\n",
       "      <td>1950.0</td>\n",
       "      <td>1950.0</td>\n",
       "      <td>1950.0</td>\n",
       "      <td>1950.0</td>\n",
       "      <td>9750.0</td>\n",
       "    </tr>\n",
       "    <tr>\n",
       "      <td>4</td>\n",
       "      <td>1004</td>\n",
       "      <td>ultra</td>\n",
       "      <td>0.0</td>\n",
       "      <td>0.0</td>\n",
       "      <td>0.0</td>\n",
       "      <td>0.0</td>\n",
       "      <td>1950.0</td>\n",
       "      <td>1950.0</td>\n",
       "      <td>1950.0</td>\n",
       "      <td>1950.0</td>\n",
       "      <td>1950.0</td>\n",
       "      <td>1950.0</td>\n",
       "      <td>1950.0</td>\n",
       "      <td>1950.0</td>\n",
       "      <td>15600.0</td>\n",
       "    </tr>\n",
       "    <tr>\n",
       "      <td>...</td>\n",
       "      <td>...</td>\n",
       "      <td>...</td>\n",
       "      <td>...</td>\n",
       "      <td>...</td>\n",
       "      <td>...</td>\n",
       "      <td>...</td>\n",
       "      <td>...</td>\n",
       "      <td>...</td>\n",
       "      <td>...</td>\n",
       "      <td>...</td>\n",
       "      <td>...</td>\n",
       "      <td>...</td>\n",
       "      <td>...</td>\n",
       "      <td>...</td>\n",
       "      <td>...</td>\n",
       "    </tr>\n",
       "    <tr>\n",
       "      <td>495</td>\n",
       "      <td>1495</td>\n",
       "      <td>ultra</td>\n",
       "      <td>0.0</td>\n",
       "      <td>0.0</td>\n",
       "      <td>0.0</td>\n",
       "      <td>0.0</td>\n",
       "      <td>0.0</td>\n",
       "      <td>0.0</td>\n",
       "      <td>0.0</td>\n",
       "      <td>1950.0</td>\n",
       "      <td>2400.0</td>\n",
       "      <td>1950.0</td>\n",
       "      <td>3300.0</td>\n",
       "      <td>1950.0</td>\n",
       "      <td>11550.0</td>\n",
       "    </tr>\n",
       "    <tr>\n",
       "      <td>496</td>\n",
       "      <td>1496</td>\n",
       "      <td>smart</td>\n",
       "      <td>550.0</td>\n",
       "      <td>3336.0</td>\n",
       "      <td>2616.0</td>\n",
       "      <td>1750.0</td>\n",
       "      <td>2350.0</td>\n",
       "      <td>1640.0</td>\n",
       "      <td>2503.0</td>\n",
       "      <td>2150.0</td>\n",
       "      <td>2950.0</td>\n",
       "      <td>3150.0</td>\n",
       "      <td>2952.0</td>\n",
       "      <td>1753.0</td>\n",
       "      <td>27700.0</td>\n",
       "    </tr>\n",
       "    <tr>\n",
       "      <td>497</td>\n",
       "      <td>1497</td>\n",
       "      <td>smart</td>\n",
       "      <td>0.0</td>\n",
       "      <td>0.0</td>\n",
       "      <td>0.0</td>\n",
       "      <td>0.0</td>\n",
       "      <td>0.0</td>\n",
       "      <td>0.0</td>\n",
       "      <td>0.0</td>\n",
       "      <td>0.0</td>\n",
       "      <td>0.0</td>\n",
       "      <td>550.0</td>\n",
       "      <td>550.0</td>\n",
       "      <td>1598.0</td>\n",
       "      <td>2698.0</td>\n",
       "    </tr>\n",
       "    <tr>\n",
       "      <td>498</td>\n",
       "      <td>1498</td>\n",
       "      <td>smart</td>\n",
       "      <td>0.0</td>\n",
       "      <td>0.0</td>\n",
       "      <td>0.0</td>\n",
       "      <td>0.0</td>\n",
       "      <td>0.0</td>\n",
       "      <td>0.0</td>\n",
       "      <td>550.0</td>\n",
       "      <td>2386.0</td>\n",
       "      <td>1950.0</td>\n",
       "      <td>1750.0</td>\n",
       "      <td>0.0</td>\n",
       "      <td>0.0</td>\n",
       "      <td>6636.0</td>\n",
       "    </tr>\n",
       "    <tr>\n",
       "      <td>499</td>\n",
       "      <td>1499</td>\n",
       "      <td>smart</td>\n",
       "      <td>0.0</td>\n",
       "      <td>0.0</td>\n",
       "      <td>0.0</td>\n",
       "      <td>0.0</td>\n",
       "      <td>0.0</td>\n",
       "      <td>0.0</td>\n",
       "      <td>0.0</td>\n",
       "      <td>0.0</td>\n",
       "      <td>550.0</td>\n",
       "      <td>1150.0</td>\n",
       "      <td>1408.0</td>\n",
       "      <td>598.0</td>\n",
       "      <td>3706.0</td>\n",
       "    </tr>\n",
       "  </tbody>\n",
       "</table>\n",
       "<p>500 rows × 15 columns</p>\n",
       "</div>"
      ],
      "text/plain": [
       "     user_id tariff    jan     feb     mar     apr     may     jun     jul  \\\n",
       "0       1000  ultra    0.0     0.0     0.0     0.0  1950.0  1950.0  1950.0   \n",
       "1       1001  smart    0.0     0.0     0.0     0.0     0.0     0.0     0.0   \n",
       "2       1002  smart    0.0     0.0     0.0     0.0     0.0   550.0  1150.0   \n",
       "3       1003  ultra    0.0     0.0     0.0     0.0     0.0     0.0     0.0   \n",
       "4       1004  ultra    0.0     0.0     0.0     0.0  1950.0  1950.0  1950.0   \n",
       "..       ...    ...    ...     ...     ...     ...     ...     ...     ...   \n",
       "495     1495  ultra    0.0     0.0     0.0     0.0     0.0     0.0     0.0   \n",
       "496     1496  smart  550.0  3336.0  2616.0  1750.0  2350.0  1640.0  2503.0   \n",
       "497     1497  smart    0.0     0.0     0.0     0.0     0.0     0.0     0.0   \n",
       "498     1498  smart    0.0     0.0     0.0     0.0     0.0     0.0   550.0   \n",
       "499     1499  smart    0.0     0.0     0.0     0.0     0.0     0.0     0.0   \n",
       "\n",
       "        aug     sep     okt     nov     dec      sum  \n",
       "0    1950.0  1950.0  1950.0  1950.0  1950.0  15600.0  \n",
       "1       0.0     0.0     0.0  1150.0   550.0   1700.0  \n",
       "2    1550.0   950.0   550.0  1350.0  1150.0   7250.0  \n",
       "3    1950.0  1950.0  1950.0  1950.0  1950.0   9750.0  \n",
       "4    1950.0  1950.0  1950.0  1950.0  1950.0  15600.0  \n",
       "..      ...     ...     ...     ...     ...      ...  \n",
       "495  1950.0  2400.0  1950.0  3300.0  1950.0  11550.0  \n",
       "496  2150.0  2950.0  3150.0  2952.0  1753.0  27700.0  \n",
       "497     0.0     0.0   550.0   550.0  1598.0   2698.0  \n",
       "498  2386.0  1950.0  1750.0     0.0     0.0   6636.0  \n",
       "499     0.0   550.0  1150.0  1408.0   598.0   3706.0  \n",
       "\n",
       "[500 rows x 15 columns]"
      ]
     },
     "execution_count": 99,
     "metadata": {},
     "output_type": "execute_result"
    }
   ],
   "source": [
    "gain_per_month"
   ]
  },
  {
   "cell_type": "code",
   "execution_count": 123,
   "metadata": {},
   "outputs": [],
   "source": [
    "gain_smart = gain_per_month.query('tariff == \"smart\"')['jan']\n",
    "for i in ['feb','mar','apr','may','jun','jul','aug','sep','okt','nov','dec']:\n",
    "    gain_smart = gain_smart.append(gain_per_month.query('tariff == \"smart\"')[i])"
   ]
  },
  {
   "cell_type": "code",
   "execution_count": 101,
   "metadata": {},
   "outputs": [
    {
     "data": {
      "text/plain": [
       "<matplotlib.axes._subplots.AxesSubplot at 0x7fdf89828dd0>"
      ]
     },
     "execution_count": 101,
     "metadata": {},
     "output_type": "execute_result"
    },
    {
     "data": {
      "image/png": "[encoded data removed]",
      "text/plain": [
       "<Figure size 576x576 with 1 Axes>"
      ]
     },
     "metadata": {
      "needs_background": "light"
     },
     "output_type": "display_data"
    }
   ],
   "source": [
    "gain_smart.hist(bins=100,figsize=(8,8),range=(540,5000))"
   ]
  },
  {
   "cell_type": "markdown",
   "metadata": {},
   "source": [
    "По гистограмме видно, что пользователи достаточно часто укладываются в тариф. Малые пики появились от того, что люди часто допокупают Гб. \n",
    "\n",
    "Гистограмма суммарных расходов:"
   ]
  },
  {
   "cell_type": "code",
   "execution_count": 102,
   "metadata": {},
   "outputs": [
    {
     "data": {
      "text/plain": [
       "<matplotlib.axes._subplots.AxesSubplot at 0x7fdf894bddd0>"
      ]
     },
     "execution_count": 102,
     "metadata": {},
     "output_type": "execute_result"
    },
    {
     "data": {
      "image/png": "[encoded data removed]",
      "text/plain": [
       "<Figure size 576x576 with 1 Axes>"
      ]
     },
     "metadata": {
      "needs_background": "light"
     },
     "output_type": "display_data"
    }
   ],
   "source": [
    "gain_per_month.query('tariff == \"smart\"')['sum'].hist(bins=100,figsize=(8,8))"
   ]
  },
  {
   "cell_type": "markdown",
   "metadata": {},
   "source": [
    "Гистограмма суммарных расходов имеет такой вид, потому что клиенты подключались к тарифу постепенно в течение года. Постепенно она будет стремиться к нормальной.\n",
    "\n",
    "Основные сведения для разных месяцев."
   ]
  },
  {
   "cell_type": "code",
   "execution_count": 103,
   "metadata": {},
   "outputs": [
    {
     "data": {
      "text/html": [
       "<div>\n",
       "<style scoped>\n",
       "    .dataframe tbody tr th:only-of-type {\n",
       "        vertical-align: middle;\n",
       "    }\n",
       "\n",
       "    .dataframe tbody tr th {\n",
       "        vertical-align: top;\n",
       "    }\n",
       "\n",
       "    .dataframe thead th {\n",
       "        text-align: right;\n",
       "    }\n",
       "</style>\n",
       "<table border=\"1\" class=\"dataframe\">\n",
       "  <thead>\n",
       "    <tr style=\"text-align: right;\">\n",
       "      <th></th>\n",
       "      <th>user_id</th>\n",
       "      <th>jan</th>\n",
       "      <th>feb</th>\n",
       "      <th>mar</th>\n",
       "      <th>apr</th>\n",
       "      <th>may</th>\n",
       "      <th>jun</th>\n",
       "      <th>jul</th>\n",
       "      <th>aug</th>\n",
       "      <th>sep</th>\n",
       "      <th>okt</th>\n",
       "      <th>nov</th>\n",
       "      <th>dec</th>\n",
       "      <th>sum</th>\n",
       "    </tr>\n",
       "  </thead>\n",
       "  <tbody>\n",
       "    <tr>\n",
       "      <td>count</td>\n",
       "      <td>351</td>\n",
       "      <td>351</td>\n",
       "      <td>351</td>\n",
       "      <td>351</td>\n",
       "      <td>351</td>\n",
       "      <td>351</td>\n",
       "      <td>351</td>\n",
       "      <td>351</td>\n",
       "      <td>351</td>\n",
       "      <td>351</td>\n",
       "      <td>351</td>\n",
       "      <td>351</td>\n",
       "      <td>351</td>\n",
       "      <td>351</td>\n",
       "    </tr>\n",
       "    <tr>\n",
       "      <td>mean</td>\n",
       "      <td>1244</td>\n",
       "      <td>69</td>\n",
       "      <td>133</td>\n",
       "      <td>247</td>\n",
       "      <td>298</td>\n",
       "      <td>466</td>\n",
       "      <td>546</td>\n",
       "      <td>678</td>\n",
       "      <td>853</td>\n",
       "      <td>895</td>\n",
       "      <td>1104</td>\n",
       "      <td>1164</td>\n",
       "      <td>1461</td>\n",
       "      <td>7920</td>\n",
       "    </tr>\n",
       "    <tr>\n",
       "      <td>std</td>\n",
       "      <td>144</td>\n",
       "      <td>251</td>\n",
       "      <td>367</td>\n",
       "      <td>563</td>\n",
       "      <td>533</td>\n",
       "      <td>725</td>\n",
       "      <td>768</td>\n",
       "      <td>803</td>\n",
       "      <td>868</td>\n",
       "      <td>811</td>\n",
       "      <td>893</td>\n",
       "      <td>828</td>\n",
       "      <td>1024</td>\n",
       "      <td>5250</td>\n",
       "    </tr>\n",
       "    <tr>\n",
       "      <td>min</td>\n",
       "      <td>1001</td>\n",
       "      <td>0</td>\n",
       "      <td>0</td>\n",
       "      <td>0</td>\n",
       "      <td>0</td>\n",
       "      <td>0</td>\n",
       "      <td>0</td>\n",
       "      <td>0</td>\n",
       "      <td>0</td>\n",
       "      <td>0</td>\n",
       "      <td>0</td>\n",
       "      <td>0</td>\n",
       "      <td>0</td>\n",
       "      <td>550</td>\n",
       "    </tr>\n",
       "    <tr>\n",
       "      <td>25%</td>\n",
       "      <td>1120</td>\n",
       "      <td>0</td>\n",
       "      <td>0</td>\n",
       "      <td>0</td>\n",
       "      <td>0</td>\n",
       "      <td>0</td>\n",
       "      <td>0</td>\n",
       "      <td>0</td>\n",
       "      <td>0</td>\n",
       "      <td>0</td>\n",
       "      <td>550</td>\n",
       "      <td>550</td>\n",
       "      <td>728</td>\n",
       "      <td>4073</td>\n",
       "    </tr>\n",
       "    <tr>\n",
       "      <td>50%</td>\n",
       "      <td>1236</td>\n",
       "      <td>0</td>\n",
       "      <td>0</td>\n",
       "      <td>0</td>\n",
       "      <td>0</td>\n",
       "      <td>0</td>\n",
       "      <td>0</td>\n",
       "      <td>550</td>\n",
       "      <td>562</td>\n",
       "      <td>640</td>\n",
       "      <td>898</td>\n",
       "      <td>975</td>\n",
       "      <td>1150</td>\n",
       "      <td>6950</td>\n",
       "    </tr>\n",
       "    <tr>\n",
       "      <td>75%</td>\n",
       "      <td>1371</td>\n",
       "      <td>0</td>\n",
       "      <td>0</td>\n",
       "      <td>0</td>\n",
       "      <td>550</td>\n",
       "      <td>617</td>\n",
       "      <td>837</td>\n",
       "      <td>1033</td>\n",
       "      <td>1350</td>\n",
       "      <td>1374</td>\n",
       "      <td>1555</td>\n",
       "      <td>1578</td>\n",
       "      <td>1950</td>\n",
       "      <td>10819</td>\n",
       "    </tr>\n",
       "    <tr>\n",
       "      <td>max</td>\n",
       "      <td>1499</td>\n",
       "      <td>2350</td>\n",
       "      <td>3336</td>\n",
       "      <td>2616</td>\n",
       "      <td>2950</td>\n",
       "      <td>3550</td>\n",
       "      <td>4389</td>\n",
       "      <td>3350</td>\n",
       "      <td>4295</td>\n",
       "      <td>3759</td>\n",
       "      <td>4090</td>\n",
       "      <td>5560</td>\n",
       "      <td>6536</td>\n",
       "      <td>27700</td>\n",
       "    </tr>\n",
       "  </tbody>\n",
       "</table>\n",
       "</div>"
      ],
      "text/plain": [
       "       user_id   jan   feb   mar   apr   may   jun   jul   aug   sep   okt  \\\n",
       "count      351   351   351   351   351   351   351   351   351   351   351   \n",
       "mean      1244    69   133   247   298   466   546   678   853   895  1104   \n",
       "std        144   251   367   563   533   725   768   803   868   811   893   \n",
       "min       1001     0     0     0     0     0     0     0     0     0     0   \n",
       "25%       1120     0     0     0     0     0     0     0     0     0   550   \n",
       "50%       1236     0     0     0     0     0     0   550   562   640   898   \n",
       "75%       1371     0     0     0   550   617   837  1033  1350  1374  1555   \n",
       "max       1499  2350  3336  2616  2950  3550  4389  3350  4295  3759  4090   \n",
       "\n",
       "        nov   dec    sum  \n",
       "count   351   351    351  \n",
       "mean   1164  1461   7920  \n",
       "std     828  1024   5250  \n",
       "min       0     0    550  \n",
       "25%     550   728   4073  \n",
       "50%     975  1150   6950  \n",
       "75%    1578  1950  10819  \n",
       "max    5560  6536  27700  "
      ]
     },
     "execution_count": 103,
     "metadata": {},
     "output_type": "execute_result"
    }
   ],
   "source": [
    "gain_per_month.query('tariff == \"smart\"').describe().astype('int')"
   ]
  },
  {
   "cell_type": "markdown",
   "metadata": {},
   "source": [
    "#### Тариф Ультра.\n",
    "\n",
    "Построим гистограмму для расходов пользователей по месяцам и сумарным расходам за год."
   ]
  },
  {
   "cell_type": "code",
   "execution_count": 104,
   "metadata": {},
   "outputs": [],
   "source": [
    "gain_ultra = gain_per_month.query('tariff == \"ultra\"')['jan']\n",
    "for i in ['feb','mar','apr','may','jun','jul','aug','sep','okt','nov','dec']:\n",
    "    gain_ultra = gain_ultra.append(gain_per_month.query('tariff == \"ultra\"')[i])"
   ]
  },
  {
   "cell_type": "code",
   "execution_count": 105,
   "metadata": {},
   "outputs": [
    {
     "data": {
      "text/plain": [
       "<matplotlib.axes._subplots.AxesSubplot at 0x7fdf892e3e50>"
      ]
     },
     "execution_count": 105,
     "metadata": {},
     "output_type": "execute_result"
    },
    {
     "data": {
      "image/png": "[encoded data removed]",
      "text/plain": [
       "<Figure size 576x576 with 1 Axes>"
      ]
     },
     "metadata": {
      "needs_background": "light"
     },
     "output_type": "display_data"
    }
   ],
   "source": [
    "gain_ultra.hist(bins=100,figsize=(8,8),range=(1500,5000))"
   ]
  },
  {
   "cell_type": "markdown",
   "metadata": {},
   "source": [
    "По единичным пикам гистограмма распределения абонентской платы по месяцам можно сделать вывод, что практически всем хватает пакета минут, смс и мб. Чаще всего докупают Гб."
   ]
  },
  {
   "cell_type": "code",
   "execution_count": 106,
   "metadata": {},
   "outputs": [
    {
     "data": {
      "text/plain": [
       "<matplotlib.axes._subplots.AxesSubplot at 0x7fdf891d2890>"
      ]
     },
     "execution_count": 106,
     "metadata": {},
     "output_type": "execute_result"
    },
    {
     "data": {
      "image/png": "[encoded data removed]",
      "text/plain": [
       "<Figure size 576x576 with 1 Axes>"
      ]
     },
     "metadata": {
      "needs_background": "light"
     },
     "output_type": "display_data"
    }
   ],
   "source": [
    "gain_per_month.query('tariff == \"smart\"')['sum'].hist(bins=100,figsize=(8,8))"
   ]
  },
  {
   "cell_type": "markdown",
   "metadata": {},
   "source": [
    "По мере увеличения абонентов гистограмма примет вид нормальной с очень малым стандартным отклонением."
   ]
  },
  {
   "cell_type": "markdown",
   "metadata": {},
   "source": [
    "Даже если бы количество минут уменьшили до 1000, то 95% пользователей скорее всего хватало бы их.\n",
    "\n",
    "## Проверка гипотез  \n",
    "\n",
    "Нам необходимо проверить 2 гипотезы:\n",
    "- средняя выручка пользователей тарифов «Ультра» и «Смарт» различается;\n",
    "- средняя выручка пользователей из Москвы отличается от выручки пользователей из других регионов\n",
    "\n",
    "### Средняя выручка от тарифов «Ультра» и «Смарт» различается  \n",
    "\n",
    "Сформулируем гипротезы:  \n",
    "Нулевая - выручка тарифов Ультра и Смарт в среднем для абонентов совпадает.   \n",
    "Альтернативная - выручка тарифов Ультра и Смарт в среднем для абонентов различаются.\n",
    "\n",
    "Ранее мы посчитали выручку для каждого пользователя по месяцам. Посмотрим суммарный вклад для каждого тарифа и проверим существенность разницы значений.\n",
    "\n",
    "Выделим ненулевые значения, так как именно они показывают активность клиентов."
   ]
  },
  {
   "cell_type": "code",
   "execution_count": 115,
   "metadata": {},
   "outputs": [
    {
     "data": {
      "text/plain": [
       "count    2230\n",
       "mean     1246\n",
       "std       794\n",
       "min       550\n",
       "25%       550\n",
       "50%       950\n",
       "75%      1690\n",
       "max      6536\n",
       "dtype: int64"
      ]
     },
     "execution_count": 115,
     "metadata": {},
     "output_type": "execute_result"
    }
   ],
   "source": [
    "gain_smart[gain_smart > 0].describe().astype('int')"
   ]
  },
  {
   "cell_type": "code",
   "execution_count": 114,
   "metadata": {},
   "outputs": [
    {
     "data": {
      "text/plain": [
       "count     986\n",
       "mean     2061\n",
       "std       356\n",
       "min      1950\n",
       "25%      1950\n",
       "50%      1950\n",
       "75%      1950\n",
       "max      4650\n",
       "dtype: int64"
      ]
     },
     "execution_count": 114,
     "metadata": {},
     "output_type": "execute_result"
    }
   ],
   "source": [
    "gain_ultra[gain_ultra > 0 ].describe().astype('int')"
   ]
  },
  {
   "cell_type": "markdown",
   "metadata": {},
   "source": [
    "Стандартное отклонение тарифов различаются в два раза, значит при проведении проверки гипотезы на равенство среднего укажем, что дисперсия генеральных совокупностей отличается. Установим уровень значимости в 5%."
   ]
  },
  {
   "cell_type": "code",
   "execution_count": 116,
   "metadata": {},
   "outputs": [
    {
     "data": {
      "text/plain": [
       "6.949427818333632e-286"
      ]
     },
     "execution_count": 116,
     "metadata": {},
     "output_type": "execute_result"
    }
   ],
   "source": [
    "st.ttest_ind(\n",
    "    gain_smart[gain_smart > 0],gain_ultra[gain_ultra > 0 ],equal_var=False\n",
    ").pvalue"
   ]
  },
  {
   "cell_type": "markdown",
   "metadata": {},
   "source": [
    "Судя по тесту на равенство среднего двух совокупностей, средняя выручка пользователей тарифов «Ультра» и «Смарт» вероятнее всего различается. Значит мы должны склониться к альтернативной гипотезе."
   ]
  },
  {
   "cell_type": "markdown",
   "metadata": {},
   "source": [
    "Средняя выручка за 2018 год от тарифа Смарт составила 7537 с пользователя, средняя выручка от тарифа Ультра 13575. Разница почти в два раза. Хотя суммарная выручка от тарифов Смарт и Ультра составила 2млн 645тыс и 2млн 22тыс соответсвенно. \n",
    "\n",
    "### Выручка пользователей из Москвы отличается  \n",
    "\n",
    "Сформулируем гипротезы:  \n",
    "Нулевая - средняя от выручка пользователей из Москвы и средняя выручка от пользователей из регионов совпадают.   \n",
    "Альтернативная -  средняя от выручка пользователей из Москвы и средняя выручка от пользователей из регионов различаются.  \n",
    "\n",
    "Составим списки абонентов из Москвы и из других регионов. Проверим нулевую гипотезу."
   ]
  },
  {
   "cell_type": "code",
   "execution_count": 124,
   "metadata": {},
   "outputs": [],
   "source": [
    "Moscow_users = users_df.query('city\t == \"Москва\"')['user_id']"
   ]
  },
  {
   "cell_type": "code",
   "execution_count": 125,
   "metadata": {},
   "outputs": [],
   "source": [
    "Moscow_gain = gain_per_month.query('user_id in @Moscow_users')['jan']\n",
    "for i in ['feb','mar','apr','may','jun','jul','aug','sep','okt','nov','dec']:\n",
    "    Moscow_gain = Moscow_gain.append(gain_per_month.query('user_id in @Moscow_users')[i])\n",
    "\n",
    "other_gain = gain_per_month.query('user_id not in @Moscow_users')['jan']\n",
    "for i in ['feb','mar','apr','may','jun','jul','aug','sep','okt','nov','dec']:\n",
    "    other_gain = other_gain.append(gain_per_month.query('user_id not in @Moscow_users')[i])"
   ]
  },
  {
   "cell_type": "code",
   "execution_count": 132,
   "metadata": {},
   "outputs": [
    {
     "data": {
      "text/plain": [
       "count     611\n",
       "mean     1515\n",
       "std       744\n",
       "min       550\n",
       "25%       750\n",
       "50%      1750\n",
       "75%      1950\n",
       "max      5111\n",
       "dtype: int64"
      ]
     },
     "execution_count": 132,
     "metadata": {},
     "output_type": "execute_result"
    }
   ],
   "source": [
    "Moscow_gain[Moscow_gain > 0].describe().astype('int')"
   ]
  },
  {
   "cell_type": "code",
   "execution_count": 135,
   "metadata": {
    "scrolled": true
   },
   "outputs": [
    {
     "data": {
      "text/plain": [
       "count    2605\n",
       "mean     1491\n",
       "std       795\n",
       "min       550\n",
       "25%       706\n",
       "50%      1550\n",
       "75%      1950\n",
       "max      6536\n",
       "dtype: int64"
      ]
     },
     "execution_count": 135,
     "metadata": {},
     "output_type": "execute_result"
    }
   ],
   "source": [
    "other_gain[other_gain > 0].describe().astype('int')"
   ]
  },
  {
   "cell_type": "markdown",
   "metadata": {},
   "source": [
    "В среднем за месяц пользователи из регионов приносят по 1491, а пользователи из Москвы по 1515. Скорее всего среднее этих совокупностей совпадает. Проведем проверку гипотезы математическими методами.  \n",
    "Стандартное отклонение тарифов слабо различаются, значит при проведении проверки гипотезы на равенство среднего укажем, что дисперсии генеральных совокупностей одинаковые. Установим уровень значимости в 5%."
   ]
  },
  {
   "cell_type": "code",
   "execution_count": 138,
   "metadata": {},
   "outputs": [
    {
     "data": {
      "text/plain": [
       "0.5046617559882919"
      ]
     },
     "execution_count": 138,
     "metadata": {},
     "output_type": "execute_result"
    }
   ],
   "source": [
    "st.ttest_ind(Moscow_gain[Moscow_gain > 0],other_gain[other_gain > 0]).pvalue"
   ]
  },
  {
   "cell_type": "markdown",
   "metadata": {},
   "source": [
    "Очень вероятно, что клиенты из Москвы в среднем приносят примерно столько же денег, как и клиенты из других регионов. Так как  вероятность совпадения средних близка к 50%. Мы принимаем нулевую гипотезу.\n",
    "\n",
    "\n",
    "## Общий вывод  \n",
    "\n",
    "После анализа данных о тарифах Смарт и Ультра можно сделать вывод, что они приносят существенно разную прибыль.\n",
    "Если случайная выборка репрезентативна, то клиентов, использующих тариф Смарт на данный момент в несколько раз больше, чем использующих тариф Ультра."
   ]
  },
  {
   "cell_type": "code",
   "execution_count": null,
   "metadata": {},
   "outputs": [],
   "source": [
    "pd.DataFrame(\n",
    "    data=[users_df.query('tariff == \"ultra\"')['tariff'].count(),users_df.query('tariff == \"smart\"')['tariff'].count()],\n",
    "    index=['Ультра','Смарт']\n",
    ").plot.pie(subplots=True)"
   ]
  },
  {
   "cell_type": "markdown",
   "metadata": {},
   "source": [
    "При этом, средняя выручка за 2018 год от тарифа Смарт составила 7537 с клиента, средняя выручка от тарифа Ультра 13575. Разница почти в два раза. Хотя суммарная выручка от тарифа Смарт больше на 600 тысячь за счет количества абонентов. \n",
    "Также многие абоненты тарифа Смарт могут быть неудовлетворены тарифом, потому что:\n",
    "\n",
    "- Только 55% абонентов из выборки хватает смс, если они их используют. Это значит, очень большой части пользователей не хватает смс. Дополнительные смс стоят по 3 рубля, около 25% пользоватлей переплачивают только за смс больше 55 рублей, 10% от стоимости тарифа, что является существенной тратой.\n",
    "- Только 30% абонентов хватает предоставленных мб. Почти 14% вынуждены дополнительно покупать 1 или 2 гб, что составляет 36% и 72% от цены самого тарифа соответсвенно. Больше половины абонентов вынуждены переплачивать за интенет цену, больше стоимости тарифа, от 600 рублей, что может спровоцировать людей перейти на другой тариф.\n",
    "- 72% клиентов хватает 500 минут для разговоров, но более 24% вынуждены переплачивать за дополнительные минуты больше 10% от стоимости тарифа. Если увеличить количество минут на 50, то, вероятно, до 80% клиентов будут удовлетворены. \n",
    "\n",
    "Эти выводы сделаны по выборкам последних месяцев 2018 года, так как в начале 2018 абонентов было недостаточно. Их возможно нужно проверить для более свежих данных. Если они подтвердятся, то тариф Смарт требует существенной доработки. \n",
    "\n",
    "В тарифе Ультра наоборот все потребности абонетов удовлетворены:\n",
    "\n",
    "- Даже если уменьшить количество смс до 200, то почти 90% абонентов должно хватать, если полагаться на нормальное распределение. Хотя, если судить по нашей выборке, лишь единицам не хватает 200 смс.\n",
    "- 80% клиентов должно хватать 30 Гб, 16% докупают больше 1 Гб.\n",
    "- Даже если бы количество минут уменьшили до 1000, то 95% пользователей скорее всего хватало бы их."
   ]
  },
  {
   "cell_type": "code",
   "execution_count": null,
   "metadata": {},
   "outputs": [],
   "source": []
  }
 ],
 "metadata": {
  "kernelspec": {
   "display_name": "Python 3",
   "language": "python",
   "name": "python3"
  },
  "language_info": {
   "codemirror_mode": {
    "name": "ipython",
    "version": 3
   },
   "file_extension": ".py",
   "mimetype": "text/x-python",
   "name": "python",
   "nbconvert_exporter": "python",
   "pygments_lexer": "ipython3",
   "version": "3.7.6"
  },
  "toc": {
   "base_numbering": 1,
   "nav_menu": {},
   "number_sections": true,
   "sideBar": true,
   "skip_h1_title": true,
   "title_cell": "Table of Contents",
   "title_sidebar": "Contents",
   "toc_cell": false,
   "toc_position": {
    "height": "calc(100% - 180px)",
    "left": "10px",
    "top": "150px",
    "width": "281.583px"
   },
   "toc_section_display": true,
   "toc_window_display": true
  }
 },
 "nbformat": 4,
 "nbformat_minor": 2
}
