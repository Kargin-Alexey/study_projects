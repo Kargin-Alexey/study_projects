{
 "cells": [
  {
   "cell_type": "markdown",
   "metadata": {
    "toc": true
   },
   "source": [
    "<h1>Содержание<span class=\"tocSkip\"></span></h1>\n",
    "<div class=\"toc\"><ul class=\"toc-item\"><li><span><a href=\"#Изучение-данных-из-файла\" data-toc-modified-id=\"Изучение-данных-из-файла-1\"><span class=\"toc-item-num\">1&nbsp;&nbsp;</span>Изучение данных из файла</a></span><ul class=\"toc-item\"><li><span><a href=\"#Вывод\" data-toc-modified-id=\"Вывод-1.1\"><span class=\"toc-item-num\">1.1&nbsp;&nbsp;</span>Вывод</a></span></li></ul></li><li><span><a href=\"#Предобработка-данных\" data-toc-modified-id=\"Предобработка-данных-2\"><span class=\"toc-item-num\">2&nbsp;&nbsp;</span>Предобработка данных</a></span></li><li><span><a href=\"#-Комментарий-ревьюера\" data-toc-modified-id=\"-Комментарий-ревьюера-3\"><span class=\"toc-item-num\">3&nbsp;&nbsp;</span> Комментарий ревьюера</a></span></li><li><span><a href=\"#Рассчёты-и-добавление-результатов-в-таблицу\" data-toc-modified-id=\"Рассчёты-и-добавление-результатов-в-таблицу-4\"><span class=\"toc-item-num\">4&nbsp;&nbsp;</span>Рассчёты и добавление результатов в таблицу</a></span></li><li><span><a href=\"#Исследовательский-анализ-данных\" data-toc-modified-id=\"Исследовательский-анализ-данных-5\"><span class=\"toc-item-num\">5&nbsp;&nbsp;</span>Исследовательский анализ данных</a></span><ul class=\"toc-item\"><li><span><a href=\"#Изучим-распределение-цен\" data-toc-modified-id=\"Изучим-распределение-цен-5.1\"><span class=\"toc-item-num\">5.1&nbsp;&nbsp;</span>Изучим распределение цен</a></span></li><li><span><a href=\"#Изучим-число-комнат\" data-toc-modified-id=\"Изучим-число-комнат-5.2\"><span class=\"toc-item-num\">5.2&nbsp;&nbsp;</span>Изучим число комнат</a></span></li><li><span><a href=\"#Изучим-высоту-потолков.\" data-toc-modified-id=\"Изучим-высоту-потолков.-5.3\"><span class=\"toc-item-num\">5.3&nbsp;&nbsp;</span>Изучим высоту потолков.</a></span></li><li><span><a href=\"#Изучим-время-продажи-квартиры.\" data-toc-modified-id=\"Изучим-время-продажи-квартиры.-5.4\"><span class=\"toc-item-num\">5.4&nbsp;&nbsp;</span>Изучим время продажи квартиры.</a></span></li><li><span><a href=\"#Изучим-какие-факторы-сильнее-всего-влияют-на-цену-квартиры\" data-toc-modified-id=\"Изучим-какие-факторы-сильнее-всего-влияют-на-цену-квартиры-5.5\"><span class=\"toc-item-num\">5.5&nbsp;&nbsp;</span>Изучим какие факторы сильнее всего влияют на цену квартиры</a></span></li><li><span><a href=\"#Определим-квартиры-в-центре.\" data-toc-modified-id=\"Определим-квартиры-в-центре.-5.6\"><span class=\"toc-item-num\">5.6&nbsp;&nbsp;</span>Определим квартиры в центре.</a></span></li></ul></li><li><span><a href=\"#Общий-вывод\" data-toc-modified-id=\"Общий-вывод-6\"><span class=\"toc-item-num\">6&nbsp;&nbsp;</span>Общий вывод</a></span></li><li><span><a href=\"#-Комментарий-ревьюера\" data-toc-modified-id=\"-Комментарий-ревьюера-7\"><span class=\"toc-item-num\">7&nbsp;&nbsp;</span> Комментарий ревьюера</a></span><ul class=\"toc-item\"><li><span><a href=\"#-Комментарий-студента\" data-toc-modified-id=\"-Комментарий-студента-7.1\"><span class=\"toc-item-num\">7.1&nbsp;&nbsp;</span> Комментарий студента</a></span></li></ul></li><li><span><a href=\"#Чек-лист-готовности-проекта\" data-toc-modified-id=\"Чек-лист-готовности-проекта-8\"><span class=\"toc-item-num\">8&nbsp;&nbsp;</span>Чек-лист готовности проекта</a></span></li></ul></div>"
   ]
  },
  {
   "cell_type": "markdown",
   "metadata": {},
   "source": [
    "# Исследование объявлений о продаже квартир\n",
    "\n",
    "В вашем распоряжении данные сервиса Яндекс.Недвижимость — архив объявлений о продаже квартир в Санкт-Петербурге и соседних населённых пунктах за несколько лет. Нужно научиться определять рыночную стоимость объектов недвижимости. Ваша задача — установить параметры. Это позволит построить автоматизированную систему: она отследит аномалии и мошенническую деятельность. \n",
    "\n",
    "По каждой квартире на продажу доступны два вида данных. Первые вписаны пользователем, вторые получены автоматически на основе картографических данных. Например, расстояние до центра, аэропорта, ближайшего парка и водоёма. "
   ]
  },
  {
   "cell_type": "markdown",
   "metadata": {},
   "source": [
    "## Изучение данных из файла"
   ]
  },
  {
   "cell_type": "code",
   "execution_count": 1,
   "metadata": {},
   "outputs": [],
   "source": [
    "import pandas as pd"
   ]
  },
  {
   "cell_type": "code",
   "execution_count": 2,
   "metadata": {},
   "outputs": [],
   "source": [
    "estate_data = pd.read_csv('/datasets/real_estate_data.csv')"
   ]
  },
  {
   "cell_type": "code",
   "execution_count": 3,
   "metadata": {
    "scrolled": false
   },
   "outputs": [
    {
     "data": {
      "text/html": [
       "<div>\n",
       "<style scoped>\n",
       "    .dataframe tbody tr th:only-of-type {\n",
       "        vertical-align: middle;\n",
       "    }\n",
       "\n",
       "    .dataframe tbody tr th {\n",
       "        vertical-align: top;\n",
       "    }\n",
       "\n",
       "    .dataframe thead th {\n",
       "        text-align: right;\n",
       "    }\n",
       "</style>\n",
       "<table border=\"1\" class=\"dataframe\">\n",
       "  <thead>\n",
       "    <tr style=\"text-align: right;\">\n",
       "      <th></th>\n",
       "      <th>total_images\\tlast_price\\ttotal_area\\tfirst_day_exposition\\trooms\\tceiling_height\\tfloors_total\\tliving_area\\tfloor\\tis_apartment\\tstudio\\topen_plan\\tkitchen_area\\tbalcony\\tlocality_name\\tairports_nearest\\tcityCenters_nearest\\tparks_around3000\\tparks_nearest\\tponds_around3000\\tponds_nearest\\tdays_exposition</th>\n",
       "    </tr>\n",
       "  </thead>\n",
       "  <tbody>\n",
       "    <tr>\n",
       "      <td>0</td>\n",
       "      <td>20\\t13000000.0\\t108.0\\t2019-03-07T00:00:00\\t3\\...</td>\n",
       "    </tr>\n",
       "    <tr>\n",
       "      <td>1</td>\n",
       "      <td>7\\t3350000.0\\t40.4\\t2018-12-04T00:00:00\\t1\\t\\t...</td>\n",
       "    </tr>\n",
       "    <tr>\n",
       "      <td>2</td>\n",
       "      <td>10\\t5196000.0\\t56.0\\t2015-08-20T00:00:00\\t2\\t\\...</td>\n",
       "    </tr>\n",
       "    <tr>\n",
       "      <td>3</td>\n",
       "      <td>0\\t64900000.0\\t159.0\\t2015-07-24T00:00:00\\t3\\t...</td>\n",
       "    </tr>\n",
       "    <tr>\n",
       "      <td>4</td>\n",
       "      <td>2\\t10000000.0\\t100.0\\t2018-06-19T00:00:00\\t2\\t...</td>\n",
       "    </tr>\n",
       "  </tbody>\n",
       "</table>\n",
       "</div>"
      ],
      "text/plain": [
       "  total_images\\tlast_price\\ttotal_area\\tfirst_day_exposition\\trooms\\tceiling_height\\tfloors_total\\tliving_area\\tfloor\\tis_apartment\\tstudio\\topen_plan\\tkitchen_area\\tbalcony\\tlocality_name\\tairports_nearest\\tcityCenters_nearest\\tparks_around3000\\tparks_nearest\\tponds_around3000\\tponds_nearest\\tdays_exposition\n",
       "0  20\\t13000000.0\\t108.0\\t2019-03-07T00:00:00\\t3\\...                                                                                                                                                                                                                                                                  \n",
       "1  7\\t3350000.0\\t40.4\\t2018-12-04T00:00:00\\t1\\t\\t...                                                                                                                                                                                                                                                                  \n",
       "2  10\\t5196000.0\\t56.0\\t2015-08-20T00:00:00\\t2\\t\\...                                                                                                                                                                                                                                                                  \n",
       "3  0\\t64900000.0\\t159.0\\t2015-07-24T00:00:00\\t3\\t...                                                                                                                                                                                                                                                                  \n",
       "4  2\\t10000000.0\\t100.0\\t2018-06-19T00:00:00\\t2\\t...                                                                                                                                                                                                                                                                  "
      ]
     },
     "execution_count": 3,
     "metadata": {},
     "output_type": "execute_result"
    }
   ],
   "source": [
    "estate_data.head()"
   ]
  },
  {
   "cell_type": "markdown",
   "metadata": {},
   "source": [
    "Разделим склеенные данные для узучения."
   ]
  },
  {
   "cell_type": "code",
   "execution_count": 4,
   "metadata": {},
   "outputs": [],
   "source": [
    "estate_data = pd.read_csv(\n",
    "    '/datasets/real_estate_data.csv',sep='\\t',decimal='.'\n",
    ")"
   ]
  },
  {
   "cell_type": "code",
   "execution_count": 5,
   "metadata": {},
   "outputs": [
    {
     "data": {
      "text/html": [
       "<div>\n",
       "<style scoped>\n",
       "    .dataframe tbody tr th:only-of-type {\n",
       "        vertical-align: middle;\n",
       "    }\n",
       "\n",
       "    .dataframe tbody tr th {\n",
       "        vertical-align: top;\n",
       "    }\n",
       "\n",
       "    .dataframe thead th {\n",
       "        text-align: right;\n",
       "    }\n",
       "</style>\n",
       "<table border=\"1\" class=\"dataframe\">\n",
       "  <thead>\n",
       "    <tr style=\"text-align: right;\">\n",
       "      <th></th>\n",
       "      <th>total_images</th>\n",
       "      <th>last_price</th>\n",
       "      <th>total_area</th>\n",
       "      <th>first_day_exposition</th>\n",
       "      <th>rooms</th>\n",
       "      <th>ceiling_height</th>\n",
       "      <th>floors_total</th>\n",
       "      <th>living_area</th>\n",
       "      <th>floor</th>\n",
       "      <th>is_apartment</th>\n",
       "      <th>...</th>\n",
       "      <th>kitchen_area</th>\n",
       "      <th>balcony</th>\n",
       "      <th>locality_name</th>\n",
       "      <th>airports_nearest</th>\n",
       "      <th>cityCenters_nearest</th>\n",
       "      <th>parks_around3000</th>\n",
       "      <th>parks_nearest</th>\n",
       "      <th>ponds_around3000</th>\n",
       "      <th>ponds_nearest</th>\n",
       "      <th>days_exposition</th>\n",
       "    </tr>\n",
       "  </thead>\n",
       "  <tbody>\n",
       "    <tr>\n",
       "      <td>0</td>\n",
       "      <td>20</td>\n",
       "      <td>13000000.0</td>\n",
       "      <td>108.0</td>\n",
       "      <td>2019-03-07T00:00:00</td>\n",
       "      <td>3</td>\n",
       "      <td>2.70</td>\n",
       "      <td>16.0</td>\n",
       "      <td>51.0</td>\n",
       "      <td>8</td>\n",
       "      <td>NaN</td>\n",
       "      <td>...</td>\n",
       "      <td>25.0</td>\n",
       "      <td>NaN</td>\n",
       "      <td>Санкт-Петербург</td>\n",
       "      <td>18863.0</td>\n",
       "      <td>16028.0</td>\n",
       "      <td>1.0</td>\n",
       "      <td>482.0</td>\n",
       "      <td>2.0</td>\n",
       "      <td>755.0</td>\n",
       "      <td>NaN</td>\n",
       "    </tr>\n",
       "    <tr>\n",
       "      <td>1</td>\n",
       "      <td>7</td>\n",
       "      <td>3350000.0</td>\n",
       "      <td>40.4</td>\n",
       "      <td>2018-12-04T00:00:00</td>\n",
       "      <td>1</td>\n",
       "      <td>NaN</td>\n",
       "      <td>11.0</td>\n",
       "      <td>18.6</td>\n",
       "      <td>1</td>\n",
       "      <td>NaN</td>\n",
       "      <td>...</td>\n",
       "      <td>11.0</td>\n",
       "      <td>2.0</td>\n",
       "      <td>посёлок Шушары</td>\n",
       "      <td>12817.0</td>\n",
       "      <td>18603.0</td>\n",
       "      <td>0.0</td>\n",
       "      <td>NaN</td>\n",
       "      <td>0.0</td>\n",
       "      <td>NaN</td>\n",
       "      <td>81.0</td>\n",
       "    </tr>\n",
       "    <tr>\n",
       "      <td>2</td>\n",
       "      <td>10</td>\n",
       "      <td>5196000.0</td>\n",
       "      <td>56.0</td>\n",
       "      <td>2015-08-20T00:00:00</td>\n",
       "      <td>2</td>\n",
       "      <td>NaN</td>\n",
       "      <td>5.0</td>\n",
       "      <td>34.3</td>\n",
       "      <td>4</td>\n",
       "      <td>NaN</td>\n",
       "      <td>...</td>\n",
       "      <td>8.3</td>\n",
       "      <td>0.0</td>\n",
       "      <td>Санкт-Петербург</td>\n",
       "      <td>21741.0</td>\n",
       "      <td>13933.0</td>\n",
       "      <td>1.0</td>\n",
       "      <td>90.0</td>\n",
       "      <td>2.0</td>\n",
       "      <td>574.0</td>\n",
       "      <td>558.0</td>\n",
       "    </tr>\n",
       "    <tr>\n",
       "      <td>3</td>\n",
       "      <td>0</td>\n",
       "      <td>64900000.0</td>\n",
       "      <td>159.0</td>\n",
       "      <td>2015-07-24T00:00:00</td>\n",
       "      <td>3</td>\n",
       "      <td>NaN</td>\n",
       "      <td>14.0</td>\n",
       "      <td>NaN</td>\n",
       "      <td>9</td>\n",
       "      <td>NaN</td>\n",
       "      <td>...</td>\n",
       "      <td>NaN</td>\n",
       "      <td>0.0</td>\n",
       "      <td>Санкт-Петербург</td>\n",
       "      <td>28098.0</td>\n",
       "      <td>6800.0</td>\n",
       "      <td>2.0</td>\n",
       "      <td>84.0</td>\n",
       "      <td>3.0</td>\n",
       "      <td>234.0</td>\n",
       "      <td>424.0</td>\n",
       "    </tr>\n",
       "    <tr>\n",
       "      <td>4</td>\n",
       "      <td>2</td>\n",
       "      <td>10000000.0</td>\n",
       "      <td>100.0</td>\n",
       "      <td>2018-06-19T00:00:00</td>\n",
       "      <td>2</td>\n",
       "      <td>3.03</td>\n",
       "      <td>14.0</td>\n",
       "      <td>32.0</td>\n",
       "      <td>13</td>\n",
       "      <td>NaN</td>\n",
       "      <td>...</td>\n",
       "      <td>41.0</td>\n",
       "      <td>NaN</td>\n",
       "      <td>Санкт-Петербург</td>\n",
       "      <td>31856.0</td>\n",
       "      <td>8098.0</td>\n",
       "      <td>2.0</td>\n",
       "      <td>112.0</td>\n",
       "      <td>1.0</td>\n",
       "      <td>48.0</td>\n",
       "      <td>121.0</td>\n",
       "    </tr>\n",
       "  </tbody>\n",
       "</table>\n",
       "<p>5 rows × 22 columns</p>\n",
       "</div>"
      ],
      "text/plain": [
       "   total_images  last_price  total_area first_day_exposition  rooms  \\\n",
       "0            20  13000000.0       108.0  2019-03-07T00:00:00      3   \n",
       "1             7   3350000.0        40.4  2018-12-04T00:00:00      1   \n",
       "2            10   5196000.0        56.0  2015-08-20T00:00:00      2   \n",
       "3             0  64900000.0       159.0  2015-07-24T00:00:00      3   \n",
       "4             2  10000000.0       100.0  2018-06-19T00:00:00      2   \n",
       "\n",
       "   ceiling_height  floors_total  living_area  floor is_apartment  ...  \\\n",
       "0            2.70          16.0         51.0      8          NaN  ...   \n",
       "1             NaN          11.0         18.6      1          NaN  ...   \n",
       "2             NaN           5.0         34.3      4          NaN  ...   \n",
       "3             NaN          14.0          NaN      9          NaN  ...   \n",
       "4            3.03          14.0         32.0     13          NaN  ...   \n",
       "\n",
       "   kitchen_area  balcony    locality_name  airports_nearest  \\\n",
       "0          25.0      NaN  Санкт-Петербург           18863.0   \n",
       "1          11.0      2.0   посёлок Шушары           12817.0   \n",
       "2           8.3      0.0  Санкт-Петербург           21741.0   \n",
       "3           NaN      0.0  Санкт-Петербург           28098.0   \n",
       "4          41.0      NaN  Санкт-Петербург           31856.0   \n",
       "\n",
       "  cityCenters_nearest  parks_around3000  parks_nearest  ponds_around3000  \\\n",
       "0             16028.0               1.0          482.0               2.0   \n",
       "1             18603.0               0.0            NaN               0.0   \n",
       "2             13933.0               1.0           90.0               2.0   \n",
       "3              6800.0               2.0           84.0               3.0   \n",
       "4              8098.0               2.0          112.0               1.0   \n",
       "\n",
       "   ponds_nearest  days_exposition  \n",
       "0          755.0              NaN  \n",
       "1            NaN             81.0  \n",
       "2          574.0            558.0  \n",
       "3          234.0            424.0  \n",
       "4           48.0            121.0  \n",
       "\n",
       "[5 rows x 22 columns]"
      ]
     },
     "execution_count": 5,
     "metadata": {},
     "output_type": "execute_result"
    }
   ],
   "source": [
    "estate_data.head()"
   ]
  },
  {
   "cell_type": "code",
   "execution_count": 6,
   "metadata": {},
   "outputs": [
    {
     "name": "stdout",
     "output_type": "stream",
     "text": [
      "<class 'pandas.core.frame.DataFrame'>\n",
      "RangeIndex: 23699 entries, 0 to 23698\n",
      "Data columns (total 22 columns):\n",
      "total_images            23699 non-null int64\n",
      "last_price              23699 non-null float64\n",
      "total_area              23699 non-null float64\n",
      "first_day_exposition    23699 non-null object\n",
      "rooms                   23699 non-null int64\n",
      "ceiling_height          14504 non-null float64\n",
      "floors_total            23613 non-null float64\n",
      "living_area             21796 non-null float64\n",
      "floor                   23699 non-null int64\n",
      "is_apartment            2775 non-null object\n",
      "studio                  23699 non-null bool\n",
      "open_plan               23699 non-null bool\n",
      "kitchen_area            21421 non-null float64\n",
      "balcony                 12180 non-null float64\n",
      "locality_name           23650 non-null object\n",
      "airports_nearest        18157 non-null float64\n",
      "cityCenters_nearest     18180 non-null float64\n",
      "parks_around3000        18181 non-null float64\n",
      "parks_nearest           8079 non-null float64\n",
      "ponds_around3000        18181 non-null float64\n",
      "ponds_nearest           9110 non-null float64\n",
      "days_exposition         20518 non-null float64\n",
      "dtypes: bool(2), float64(14), int64(3), object(3)\n",
      "memory usage: 3.7+ MB\n"
     ]
    }
   ],
   "source": [
    "estate_data.info()"
   ]
  },
  {
   "cell_type": "markdown",
   "metadata": {},
   "source": [
    "### Вывод"
   ]
  },
  {
   "cell_type": "markdown",
   "metadata": {},
   "source": [
    "Очень много пропусков в данных, особенно в столбце is_apartment. Такие существенные пропуски требуют разбирательства."
   ]
  },
  {
   "cell_type": "markdown",
   "metadata": {},
   "source": [
    "## Предобработка данных"
   ]
  },
  {
   "cell_type": "markdown",
   "metadata": {},
   "source": [
    "Определим и изучим пропущенные значения.В явном виде они присутствуют в столбцах:"
   ]
  },
  {
   "cell_type": "code",
   "execution_count": 81,
   "metadata": {},
   "outputs": [
    {
     "data": {
      "text/plain": [
       "total_images                0\n",
       "last_price                  0\n",
       "total_area                  0\n",
       "first_day_exposition        0\n",
       "rooms                       0\n",
       "ceiling_height              0\n",
       "floors_total                0\n",
       "living_area              1874\n",
       "floor                       0\n",
       "is_apartment                0\n",
       "studio                      0\n",
       "open_plan                   0\n",
       "kitchen_area             2087\n",
       "balcony                     0\n",
       "locality_name               0\n",
       "airports_nearest         5405\n",
       "cityCenters_nearest      5382\n",
       "parks_around3000         5381\n",
       "parks_nearest           15444\n",
       "ponds_around3000         5381\n",
       "ponds_nearest           14425\n",
       "days_exposition          3147\n",
       "dtype: int64"
      ]
     },
     "execution_count": 81,
     "metadata": {},
     "output_type": "execute_result"
    }
   ],
   "source": [
    "estate_data.isnull().sum()"
   ]
  },
  {
   "cell_type": "markdown",
   "metadata": {},
   "source": [
    "Скорее всего остуствие данных об апартаментах свидетельствует о том, что это обычная квартира. Остуствие данных об балконах свидетельствует о том, что это их нет в тех квартирах"
   ]
  },
  {
   "cell_type": "code",
   "execution_count": 8,
   "metadata": {},
   "outputs": [],
   "source": [
    "estate_data['is_apartment'].fillna(False,inplace=True)"
   ]
  },
  {
   "cell_type": "code",
   "execution_count": 9,
   "metadata": {},
   "outputs": [],
   "source": [
    "estate_data['balcony'].fillna(0,inplace=True)"
   ]
  },
  {
   "cell_type": "code",
   "execution_count": 10,
   "metadata": {},
   "outputs": [],
   "source": [
    "estate_data.dropna(subset=['locality_name'],inplace=True)"
   ]
  },
  {
   "cell_type": "markdown",
   "metadata": {},
   "source": [
    "Таблица средних значений высоты потолков и этажности строений в зависимости от населенного пункта"
   ]
  },
  {
   "cell_type": "code",
   "execution_count": 82,
   "metadata": {},
   "outputs": [],
   "source": [
    "floors_total_ceiling_height_data = estate_data.pivot_table(\n",
    "     index='locality_name',values=['floors_total','ceiling_height'], aggfunc=['median','count']\n",
    ")"
   ]
  },
  {
   "cell_type": "code",
   "execution_count": 12,
   "metadata": {},
   "outputs": [],
   "source": [
    "floors_total_median = floors_total_ceiling_height_data['median']['floors_total']\n",
    "ceiling_height_median = floors_total_ceiling_height_data['median']['ceiling_height']"
   ]
  },
  {
   "cell_type": "code",
   "execution_count": 13,
   "metadata": {},
   "outputs": [
    {
     "data": {
      "text/html": [
       "<div>\n",
       "<style scoped>\n",
       "    .dataframe tbody tr th:only-of-type {\n",
       "        vertical-align: middle;\n",
       "    }\n",
       "\n",
       "    .dataframe tbody tr th {\n",
       "        vertical-align: top;\n",
       "    }\n",
       "\n",
       "    .dataframe thead th {\n",
       "        text-align: right;\n",
       "    }\n",
       "</style>\n",
       "<table border=\"1\" class=\"dataframe\">\n",
       "  <thead>\n",
       "    <tr style=\"text-align: right;\">\n",
       "      <th></th>\n",
       "      <th>ceiling_height</th>\n",
       "      <th>floors_total</th>\n",
       "    </tr>\n",
       "    <tr>\n",
       "      <th>locality_name</th>\n",
       "      <th></th>\n",
       "      <th></th>\n",
       "    </tr>\n",
       "  </thead>\n",
       "  <tbody>\n",
       "    <tr>\n",
       "      <td>посёлок Парголово</td>\n",
       "      <td>2.640</td>\n",
       "      <td>25.0</td>\n",
       "    </tr>\n",
       "    <tr>\n",
       "      <td>поселок Мурино</td>\n",
       "      <td>2.675</td>\n",
       "      <td>20.0</td>\n",
       "    </tr>\n",
       "    <tr>\n",
       "      <td>посёлок Мурино</td>\n",
       "      <td>2.700</td>\n",
       "      <td>19.0</td>\n",
       "    </tr>\n",
       "    <tr>\n",
       "      <td>Мурино</td>\n",
       "      <td>2.700</td>\n",
       "      <td>19.0</td>\n",
       "    </tr>\n",
       "    <tr>\n",
       "      <td>посёлок Петро-Славянка</td>\n",
       "      <td>NaN</td>\n",
       "      <td>18.0</td>\n",
       "    </tr>\n",
       "    <tr>\n",
       "      <td>...</td>\n",
       "      <td>...</td>\n",
       "      <td>...</td>\n",
       "    </tr>\n",
       "    <tr>\n",
       "      <td>деревня Пчева</td>\n",
       "      <td>NaN</td>\n",
       "      <td>2.0</td>\n",
       "    </tr>\n",
       "    <tr>\n",
       "      <td>городской посёлок Свирьстрой</td>\n",
       "      <td>2.450</td>\n",
       "      <td>1.0</td>\n",
       "    </tr>\n",
       "    <tr>\n",
       "      <td>деревня Сижно</td>\n",
       "      <td>NaN</td>\n",
       "      <td>1.0</td>\n",
       "    </tr>\n",
       "    <tr>\n",
       "      <td>деревня Каськово</td>\n",
       "      <td>3.000</td>\n",
       "      <td>1.0</td>\n",
       "    </tr>\n",
       "    <tr>\n",
       "      <td>поселок Пчевжа</td>\n",
       "      <td>NaN</td>\n",
       "      <td>1.0</td>\n",
       "    </tr>\n",
       "  </tbody>\n",
       "</table>\n",
       "<p>364 rows × 2 columns</p>\n",
       "</div>"
      ],
      "text/plain": [
       "                              ceiling_height  floors_total\n",
       "locality_name                                             \n",
       "посёлок Парголово                      2.640          25.0\n",
       "поселок Мурино                         2.675          20.0\n",
       "посёлок Мурино                         2.700          19.0\n",
       "Мурино                                 2.700          19.0\n",
       "посёлок Петро-Славянка                   NaN          18.0\n",
       "...                                      ...           ...\n",
       "деревня Пчева                            NaN           2.0\n",
       "городской посёлок Свирьстрой           2.450           1.0\n",
       "деревня Сижно                            NaN           1.0\n",
       "деревня Каськово                       3.000           1.0\n",
       "поселок Пчевжа                           NaN           1.0\n",
       "\n",
       "[364 rows x 2 columns]"
      ]
     },
     "execution_count": 13,
     "metadata": {},
     "output_type": "execute_result"
    }
   ],
   "source": [
    "floors_total_ceiling_height_data['median'].sort_values(by='floors_total',ascending=False)"
   ]
  },
  {
   "cell_type": "code",
   "execution_count": 14,
   "metadata": {},
   "outputs": [],
   "source": [
    "def floors_total(row): #функция для замены пропущенного значения\n",
    "    row_null = row.isnull()\n",
    "    if row_null['floors_total'] == True:\n",
    "        return  floors_total_median[row['locality_name']]\n",
    "    return row['floors_total']"
   ]
  },
  {
   "cell_type": "code",
   "execution_count": 15,
   "metadata": {},
   "outputs": [],
   "source": [
    "def ceiling_height(row): #функция для замены пропущенного значения\n",
    "    row_null = row.isnull()\n",
    "    if row_null['ceiling_height'] == True:\n",
    "            return  ceiling_height_median[row['locality_name']]\n",
    "    return row['ceiling_height']"
   ]
  },
  {
   "cell_type": "markdown",
   "metadata": {},
   "source": [
    "<div class=\"alert alert-success\" style=\"border-radius: 15px\">\n",
    "<h2> Комментарий ревьюера</h2>\n",
    "    \n",
    "В принципе, эти две функции можно объединить в одну.\n",
    "</div>"
   ]
  },
  {
   "cell_type": "code",
   "execution_count": 16,
   "metadata": {},
   "outputs": [],
   "source": [
    "estate_data['floors_total'] = estate_data.apply(floors_total,axis=1)"
   ]
  },
  {
   "cell_type": "code",
   "execution_count": 17,
   "metadata": {},
   "outputs": [],
   "source": [
    "estate_data['ceiling_height'] = estate_data.apply(ceiling_height,axis=1)"
   ]
  },
  {
   "cell_type": "markdown",
   "metadata": {},
   "source": [
    "Попробуем определить можно ли все NaN заменить на False"
   ]
  },
  {
   "cell_type": "code",
   "execution_count": 19,
   "metadata": {},
   "outputs": [
    {
     "data": {
      "text/plain": [
       "<matplotlib.axes._subplots.AxesSubplot at 0x7fbf27985c50>"
      ]
     },
     "execution_count": 19,
     "metadata": {},
     "output_type": "execute_result"
    },
    {
     "data": {
      "image/png": "[encoded data removed]",
      "text/plain": [
       "<Figure size 432x288 with 1 Axes>"
      ]
     },
     "metadata": {
      "needs_background": "light"
     },
     "output_type": "display_data"
    }
   ],
   "source": [
    "estate_data.plot(\n",
    "    y='ceiling_height', xlim=(4.5,30),ylim=(0,20), kind='hist',bins=100\n",
    ")"
   ]
  },
  {
   "cell_type": "markdown",
   "metadata": {},
   "source": [
    "Удаляем аномально большие значения, их мало"
   ]
  },
  {
   "cell_type": "code",
   "execution_count": 83,
   "metadata": {},
   "outputs": [],
   "source": [
    "estate_data = estate_data.query('ceiling_height < 10')"
   ]
  },
  {
   "cell_type": "code",
   "execution_count": 21,
   "metadata": {},
   "outputs": [
    {
     "data": {
      "text/plain": [
       "<matplotlib.axes._subplots.AxesSubplot at 0x7fbf27f24d10>"
      ]
     },
     "execution_count": 21,
     "metadata": {},
     "output_type": "execute_result"
    },
    {
     "data": {
      "image/png": "[encoded data removed]",
      "text/plain": [
       "<Figure size 432x288 with 1 Axes>"
      ]
     },
     "metadata": {
      "needs_background": "light"
     },
     "output_type": "display_data"
    }
   ],
   "source": [
    "estate_data.plot(\n",
    "    y='ceiling_height', kind='hist',bins=100\n",
    ")"
   ]
  },
  {
   "cell_type": "code",
   "execution_count": 22,
   "metadata": {},
   "outputs": [
    {
     "data": {
      "text/plain": [
       "<matplotlib.axes._subplots.AxesSubplot at 0x7fbf26871890>"
      ]
     },
     "execution_count": 22,
     "metadata": {},
     "output_type": "execute_result"
    },
    {
     "data": {
      "image/png": "[encoded data removed]",
      "text/plain": [
       "<Figure size 432x288 with 1 Axes>"
      ]
     },
     "metadata": {
      "needs_background": "light"
     },
     "output_type": "display_data"
    }
   ],
   "source": [
    "floors_total_ceiling_height_data['median']['floors_total'].hist(bins=40)"
   ]
  },
  {
   "cell_type": "markdown",
   "metadata": {},
   "source": [
    "Для студий ставим площажь кухни 2 (подразумевая пространство для готовки)"
   ]
  },
  {
   "cell_type": "code",
   "execution_count": 84,
   "metadata": {},
   "outputs": [],
   "source": [
    "estate_data['kitchen_area'] = estate_data['kitchen_area'].where(estate_data['studio'] == False, 2)"
   ]
  },
  {
   "cell_type": "markdown",
   "metadata": {},
   "source": [
    "Опеределяем маленькие населенные пункты"
   ]
  },
  {
   "cell_type": "code",
   "execution_count": 85,
   "metadata": {},
   "outputs": [],
   "source": [
    "small_locality = estate_data.pivot_table(\n",
    "    index='locality_name',values='cityCenters_nearest', aggfunc=['median','count'], dropna=False\n",
    ") "
   ]
  },
  {
   "cell_type": "code",
   "execution_count": 25,
   "metadata": {},
   "outputs": [],
   "source": [
    "small_locality.columns = ['median','count']"
   ]
  },
  {
   "cell_type": "code",
   "execution_count": 26,
   "metadata": {},
   "outputs": [
    {
     "data": {
      "text/html": [
       "<div>\n",
       "<style scoped>\n",
       "    .dataframe tbody tr th:only-of-type {\n",
       "        vertical-align: middle;\n",
       "    }\n",
       "\n",
       "    .dataframe tbody tr th {\n",
       "        vertical-align: top;\n",
       "    }\n",
       "\n",
       "    .dataframe thead th {\n",
       "        text-align: right;\n",
       "    }\n",
       "</style>\n",
       "<table border=\"1\" class=\"dataframe\">\n",
       "  <thead>\n",
       "    <tr style=\"text-align: right;\">\n",
       "      <th></th>\n",
       "      <th>median</th>\n",
       "      <th>count</th>\n",
       "    </tr>\n",
       "    <tr>\n",
       "      <th>locality_name</th>\n",
       "      <th></th>\n",
       "      <th></th>\n",
       "    </tr>\n",
       "  </thead>\n",
       "  <tbody>\n",
       "    <tr>\n",
       "      <td>Санкт-Петербург</td>\n",
       "      <td>12245.0</td>\n",
       "      <td>15645</td>\n",
       "    </tr>\n",
       "    <tr>\n",
       "      <td>посёлок Шушары</td>\n",
       "      <td>24212.0</td>\n",
       "      <td>436</td>\n",
       "    </tr>\n",
       "    <tr>\n",
       "      <td>Пушкин</td>\n",
       "      <td>27930.5</td>\n",
       "      <td>368</td>\n",
       "    </tr>\n",
       "    <tr>\n",
       "      <td>Колпино</td>\n",
       "      <td>32018.0</td>\n",
       "      <td>337</td>\n",
       "    </tr>\n",
       "    <tr>\n",
       "      <td>посёлок Парголово</td>\n",
       "      <td>19311.0</td>\n",
       "      <td>327</td>\n",
       "    </tr>\n",
       "    <tr>\n",
       "      <td>...</td>\n",
       "      <td>...</td>\n",
       "      <td>...</td>\n",
       "    </tr>\n",
       "    <tr>\n",
       "      <td>деревня Пеники</td>\n",
       "      <td>NaN</td>\n",
       "      <td>0</td>\n",
       "    </tr>\n",
       "    <tr>\n",
       "      <td>деревня Пудомяги</td>\n",
       "      <td>NaN</td>\n",
       "      <td>0</td>\n",
       "    </tr>\n",
       "    <tr>\n",
       "      <td>деревня Рабитицы</td>\n",
       "      <td>NaN</td>\n",
       "      <td>0</td>\n",
       "    </tr>\n",
       "    <tr>\n",
       "      <td>деревня Разбегаево</td>\n",
       "      <td>NaN</td>\n",
       "      <td>0</td>\n",
       "    </tr>\n",
       "    <tr>\n",
       "      <td>село Русско-Высоцкое</td>\n",
       "      <td>NaN</td>\n",
       "      <td>0</td>\n",
       "    </tr>\n",
       "  </tbody>\n",
       "</table>\n",
       "<p>281 rows × 2 columns</p>\n",
       "</div>"
      ],
      "text/plain": [
       "                       median  count\n",
       "locality_name                       \n",
       "Санкт-Петербург       12245.0  15645\n",
       "посёлок Шушары        24212.0    436\n",
       "Пушкин                27930.5    368\n",
       "Колпино               32018.0    337\n",
       "посёлок Парголово     19311.0    327\n",
       "...                       ...    ...\n",
       "деревня Пеники            NaN      0\n",
       "деревня Пудомяги          NaN      0\n",
       "деревня Рабитицы          NaN      0\n",
       "деревня Разбегаево        NaN      0\n",
       "село Русско-Высоцкое      NaN      0\n",
       "\n",
       "[281 rows x 2 columns]"
      ]
     },
     "execution_count": 26,
     "metadata": {},
     "output_type": "execute_result"
    }
   ],
   "source": [
    "small_locality.sort_values(by='count', ascending=False)"
   ]
  },
  {
   "cell_type": "markdown",
   "metadata": {},
   "source": [
    "В деревнях расстояние до центра не определено, так как у них нет центра. Можно поставить занчение до центра ближайшего города, но мы сейчас такими данными не обладаем. Оставим на их месте пропуск."
   ]
  },
  {
   "cell_type": "code",
   "execution_count": 27,
   "metadata": {},
   "outputs": [],
   "source": [
    "small_locality = small_locality.query('count < 1')"
   ]
  },
  {
   "cell_type": "code",
   "execution_count": 28,
   "metadata": {},
   "outputs": [],
   "source": [
    "small_locality = estate_data.query('locality_name in @small_locality.index')"
   ]
  },
  {
   "cell_type": "code",
   "execution_count": 29,
   "metadata": {},
   "outputs": [
    {
     "name": "stdout",
     "output_type": "stream",
     "text": [
      "<class 'pandas.core.frame.DataFrame'>\n",
      "Int64Index: 5257 entries, 5 to 23698\n",
      "Data columns (total 22 columns):\n",
      "total_images            5257 non-null int64\n",
      "last_price              5257 non-null float64\n",
      "total_area              5257 non-null float64\n",
      "first_day_exposition    5257 non-null object\n",
      "rooms                   5257 non-null int64\n",
      "ceiling_height          5257 non-null float64\n",
      "floors_total            5257 non-null float64\n",
      "living_area             4677 non-null float64\n",
      "floor                   5257 non-null int64\n",
      "is_apartment            5257 non-null bool\n",
      "studio                  5257 non-null bool\n",
      "open_plan               5257 non-null bool\n",
      "kitchen_area            4653 non-null float64\n",
      "balcony                 5257 non-null float64\n",
      "locality_name           5257 non-null object\n",
      "airports_nearest        0 non-null float64\n",
      "cityCenters_nearest     0 non-null float64\n",
      "parks_around3000        0 non-null float64\n",
      "parks_nearest           0 non-null float64\n",
      "ponds_around3000        0 non-null float64\n",
      "ponds_nearest           0 non-null float64\n",
      "days_exposition         4461 non-null float64\n",
      "dtypes: bool(3), float64(14), int64(3), object(2)\n",
      "memory usage: 836.8+ KB\n"
     ]
    }
   ],
   "source": [
    "small_locality.info()"
   ]
  },
  {
   "cell_type": "markdown",
   "metadata": {},
   "source": [
    "Из этого видно, что картографические данные отсутвуют для малых населенных пунктов. Проверим, как их наличие корреллируют между собой в главной таблице."
   ]
  },
  {
   "cell_type": "code",
   "execution_count": 30,
   "metadata": {},
   "outputs": [],
   "source": [
    "geographical_data = estate_data.pivot_table(\n",
    "    index='locality_name',values=[\n",
    "        'airports_nearest','cityCenters_nearest','parks_around3000','parks_nearest','ponds_around3000','ponds_nearest'],\n",
    "    aggfunc='count').sort_values(by='cityCenters_nearest',ascending=False)"
   ]
  },
  {
   "cell_type": "code",
   "execution_count": 31,
   "metadata": {},
   "outputs": [
    {
     "data": {
      "text/html": [
       "<div>\n",
       "<style scoped>\n",
       "    .dataframe tbody tr th:only-of-type {\n",
       "        vertical-align: middle;\n",
       "    }\n",
       "\n",
       "    .dataframe tbody tr th {\n",
       "        vertical-align: top;\n",
       "    }\n",
       "\n",
       "    .dataframe thead th {\n",
       "        text-align: right;\n",
       "    }\n",
       "</style>\n",
       "<table border=\"1\" class=\"dataframe\">\n",
       "  <thead>\n",
       "    <tr style=\"text-align: right;\">\n",
       "      <th></th>\n",
       "      <th>airports_nearest</th>\n",
       "      <th>cityCenters_nearest</th>\n",
       "      <th>parks_around3000</th>\n",
       "      <th>parks_nearest</th>\n",
       "      <th>ponds_around3000</th>\n",
       "      <th>ponds_nearest</th>\n",
       "    </tr>\n",
       "  </thead>\n",
       "  <tbody>\n",
       "    <tr>\n",
       "      <td>airports_nearest</td>\n",
       "      <td>1.000000</td>\n",
       "      <td>1.000000</td>\n",
       "      <td>1.000000</td>\n",
       "      <td>0.999318</td>\n",
       "      <td>1.000000</td>\n",
       "      <td>0.999771</td>\n",
       "    </tr>\n",
       "    <tr>\n",
       "      <td>cityCenters_nearest</td>\n",
       "      <td>1.000000</td>\n",
       "      <td>1.000000</td>\n",
       "      <td>1.000000</td>\n",
       "      <td>0.999319</td>\n",
       "      <td>1.000000</td>\n",
       "      <td>0.999772</td>\n",
       "    </tr>\n",
       "    <tr>\n",
       "      <td>parks_around3000</td>\n",
       "      <td>1.000000</td>\n",
       "      <td>1.000000</td>\n",
       "      <td>1.000000</td>\n",
       "      <td>0.999319</td>\n",
       "      <td>1.000000</td>\n",
       "      <td>0.999772</td>\n",
       "    </tr>\n",
       "    <tr>\n",
       "      <td>parks_nearest</td>\n",
       "      <td>0.999318</td>\n",
       "      <td>0.999319</td>\n",
       "      <td>0.999319</td>\n",
       "      <td>1.000000</td>\n",
       "      <td>0.999319</td>\n",
       "      <td>0.999679</td>\n",
       "    </tr>\n",
       "    <tr>\n",
       "      <td>ponds_around3000</td>\n",
       "      <td>1.000000</td>\n",
       "      <td>1.000000</td>\n",
       "      <td>1.000000</td>\n",
       "      <td>0.999319</td>\n",
       "      <td>1.000000</td>\n",
       "      <td>0.999772</td>\n",
       "    </tr>\n",
       "    <tr>\n",
       "      <td>ponds_nearest</td>\n",
       "      <td>0.999771</td>\n",
       "      <td>0.999772</td>\n",
       "      <td>0.999772</td>\n",
       "      <td>0.999679</td>\n",
       "      <td>0.999772</td>\n",
       "      <td>1.000000</td>\n",
       "    </tr>\n",
       "  </tbody>\n",
       "</table>\n",
       "</div>"
      ],
      "text/plain": [
       "                     airports_nearest  cityCenters_nearest  parks_around3000  \\\n",
       "airports_nearest             1.000000             1.000000          1.000000   \n",
       "cityCenters_nearest          1.000000             1.000000          1.000000   \n",
       "parks_around3000             1.000000             1.000000          1.000000   \n",
       "parks_nearest                0.999318             0.999319          0.999319   \n",
       "ponds_around3000             1.000000             1.000000          1.000000   \n",
       "ponds_nearest                0.999771             0.999772          0.999772   \n",
       "\n",
       "                     parks_nearest  ponds_around3000  ponds_nearest  \n",
       "airports_nearest          0.999318          1.000000       0.999771  \n",
       "cityCenters_nearest       0.999319          1.000000       0.999772  \n",
       "parks_around3000          0.999319          1.000000       0.999772  \n",
       "parks_nearest             1.000000          0.999319       0.999679  \n",
       "ponds_around3000          0.999319          1.000000       0.999772  \n",
       "ponds_nearest             0.999679          0.999772       1.000000  "
      ]
     },
     "execution_count": 31,
     "metadata": {},
     "output_type": "execute_result"
    }
   ],
   "source": [
    "geographical_data.corr()"
   ]
  },
  {
   "cell_type": "markdown",
   "metadata": {},
   "source": [
    "Среди данных немного выделяются parks_nearest и ponds_nearest. Эти данные должны были указать люди. Посмотрим распределение этих данных."
   ]
  },
  {
   "cell_type": "code",
   "execution_count": 32,
   "metadata": {},
   "outputs": [
    {
     "data": {
      "text/plain": [
       "<matplotlib.axes._subplots.AxesSubplot at 0x7fbf2821bdd0>"
      ]
     },
     "execution_count": 32,
     "metadata": {},
     "output_type": "execute_result"
    },
    {
     "data": {
      "image/png": "[encoded data removed]",
      "text/plain": [
       "<Figure size 432x288 with 1 Axes>"
      ]
     },
     "metadata": {
      "needs_background": "light"
     },
     "output_type": "display_data"
    }
   ],
   "source": [
    "estate_data.plot(y='parks_nearest', kind='hist',bins=50)"
   ]
  },
  {
   "cell_type": "code",
   "execution_count": 33,
   "metadata": {},
   "outputs": [
    {
     "data": {
      "text/plain": [
       "<matplotlib.axes._subplots.AxesSubplot at 0x7fbf1e399050>"
      ]
     },
     "execution_count": 33,
     "metadata": {},
     "output_type": "execute_result"
    },
    {
     "data": {
      "image/png": "[encoded data removed]",
      "text/plain": [
       "<Figure size 432x288 with 1 Axes>"
      ]
     },
     "metadata": {
      "needs_background": "light"
     },
     "output_type": "display_data"
    }
   ],
   "source": [
    "estate_data.plot(y='parks_around3000', kind='hist',bins=50)"
   ]
  },
  {
   "cell_type": "code",
   "execution_count": 34,
   "metadata": {},
   "outputs": [
    {
     "data": {
      "text/plain": [
       "<matplotlib.axes._subplots.AxesSubplot at 0x7fbf1e2dd350>"
      ]
     },
     "execution_count": 34,
     "metadata": {},
     "output_type": "execute_result"
    },
    {
     "data": {
      "image/png": "[encoded data removed]",
      "text/plain": [
       "<Figure size 432x288 with 1 Axes>"
      ]
     },
     "metadata": {
      "needs_background": "light"
     },
     "output_type": "display_data"
    }
   ],
   "source": [
    "estate_data.plot(y='ponds_around3000', kind='hist',bins=50)"
   ]
  },
  {
   "cell_type": "code",
   "execution_count": 35,
   "metadata": {},
   "outputs": [
    {
     "data": {
      "text/plain": [
       "10067"
      ]
     },
     "execution_count": 35,
     "metadata": {},
     "output_type": "execute_result"
    }
   ],
   "source": [
    "estate_data[estate_data['parks_around3000'] == 0]['parks_around3000'].count()"
   ]
  },
  {
   "cell_type": "code",
   "execution_count": 36,
   "metadata": {},
   "outputs": [
    {
     "data": {
      "text/plain": [
       "9044"
      ]
     },
     "execution_count": 36,
     "metadata": {},
     "output_type": "execute_result"
    }
   ],
   "source": [
    "estate_data[estate_data['ponds_around3000'] == 0]['parks_around3000'].count()"
   ]
  },
  {
   "cell_type": "markdown",
   "metadata": {},
   "source": [
    "У малых населённых пунктов географические данные отсутсвует, это 5262 значения. У 10067 квартир в радиусе 3км нет парков, а у 9044 водоёмов. Заменим таблицу на ту, в которой будет указано только наличие парка или водоёма."
   ]
  },
  {
   "cell_type": "code",
   "execution_count": 38,
   "metadata": {},
   "outputs": [],
   "source": [
    "def exist_around(number): #функция, которая будет проверять наличие парков или водоёмов\n",
    "    if number > 0:\n",
    "        return True\n",
    "    if number == 0:\n",
    "        return False\n",
    "    return "
   ]
  },
  {
   "cell_type": "code",
   "execution_count": 39,
   "metadata": {},
   "outputs": [],
   "source": [
    "estate_work_data = estate_data.loc[:,'total_images':'cityCenters_nearest']\n",
    "estate_work_data['parks_around3000'] = estate_data['parks_around3000'].apply(exist_around)\n",
    "estate_work_data['ponds_around3000'] = estate_data['ponds_around3000'].apply(exist_around)\n",
    "estate_work_data['days_exposition'] = estate_data['days_exposition']"
   ]
  },
  {
   "cell_type": "code",
   "execution_count": 40,
   "metadata": {},
   "outputs": [
    {
     "data": {
      "text/plain": [
       "total_images               0\n",
       "last_price                 0\n",
       "total_area                 0\n",
       "first_day_exposition       0\n",
       "rooms                      0\n",
       "ceiling_height             0\n",
       "floors_total               0\n",
       "living_area             1874\n",
       "floor                      0\n",
       "is_apartment               0\n",
       "studio                     0\n",
       "open_plan                  0\n",
       "kitchen_area            2087\n",
       "balcony                    0\n",
       "locality_name              0\n",
       "airports_nearest        5405\n",
       "cityCenters_nearest     5382\n",
       "parks_around3000        5381\n",
       "ponds_around3000        5381\n",
       "days_exposition         3147\n",
       "dtype: int64"
      ]
     },
     "execution_count": 40,
     "metadata": {},
     "output_type": "execute_result"
    }
   ],
   "source": [
    "estate_work_data.isnull().sum()"
   ]
  },
  {
   "cell_type": "code",
   "execution_count": 41,
   "metadata": {},
   "outputs": [
    {
     "data": {
      "text/html": [
       "<div>\n",
       "<style scoped>\n",
       "    .dataframe tbody tr th:only-of-type {\n",
       "        vertical-align: middle;\n",
       "    }\n",
       "\n",
       "    .dataframe tbody tr th {\n",
       "        vertical-align: top;\n",
       "    }\n",
       "\n",
       "    .dataframe thead th {\n",
       "        text-align: right;\n",
       "    }\n",
       "</style>\n",
       "<table border=\"1\" class=\"dataframe\">\n",
       "  <thead>\n",
       "    <tr style=\"text-align: right;\">\n",
       "      <th></th>\n",
       "      <th>total_images</th>\n",
       "      <th>last_price</th>\n",
       "      <th>total_area</th>\n",
       "      <th>first_day_exposition</th>\n",
       "      <th>rooms</th>\n",
       "      <th>ceiling_height</th>\n",
       "      <th>floors_total</th>\n",
       "      <th>living_area</th>\n",
       "      <th>floor</th>\n",
       "      <th>is_apartment</th>\n",
       "      <th>studio</th>\n",
       "      <th>open_plan</th>\n",
       "      <th>kitchen_area</th>\n",
       "      <th>balcony</th>\n",
       "      <th>locality_name</th>\n",
       "      <th>airports_nearest</th>\n",
       "      <th>cityCenters_nearest</th>\n",
       "      <th>parks_around3000</th>\n",
       "      <th>ponds_around3000</th>\n",
       "      <th>days_exposition</th>\n",
       "    </tr>\n",
       "  </thead>\n",
       "  <tbody>\n",
       "    <tr>\n",
       "      <td>0</td>\n",
       "      <td>20</td>\n",
       "      <td>13000000.0</td>\n",
       "      <td>108.0</td>\n",
       "      <td>2019-03-07T00:00:00</td>\n",
       "      <td>3</td>\n",
       "      <td>2.70</td>\n",
       "      <td>16.0</td>\n",
       "      <td>51.0</td>\n",
       "      <td>8</td>\n",
       "      <td>False</td>\n",
       "      <td>False</td>\n",
       "      <td>False</td>\n",
       "      <td>25.0</td>\n",
       "      <td>0.0</td>\n",
       "      <td>Санкт-Петербург</td>\n",
       "      <td>18863.0</td>\n",
       "      <td>16028.0</td>\n",
       "      <td>True</td>\n",
       "      <td>True</td>\n",
       "      <td>NaN</td>\n",
       "    </tr>\n",
       "    <tr>\n",
       "      <td>1</td>\n",
       "      <td>7</td>\n",
       "      <td>3350000.0</td>\n",
       "      <td>40.4</td>\n",
       "      <td>2018-12-04T00:00:00</td>\n",
       "      <td>1</td>\n",
       "      <td>2.63</td>\n",
       "      <td>11.0</td>\n",
       "      <td>18.6</td>\n",
       "      <td>1</td>\n",
       "      <td>False</td>\n",
       "      <td>False</td>\n",
       "      <td>False</td>\n",
       "      <td>11.0</td>\n",
       "      <td>2.0</td>\n",
       "      <td>посёлок Шушары</td>\n",
       "      <td>12817.0</td>\n",
       "      <td>18603.0</td>\n",
       "      <td>False</td>\n",
       "      <td>False</td>\n",
       "      <td>81.0</td>\n",
       "    </tr>\n",
       "    <tr>\n",
       "      <td>2</td>\n",
       "      <td>10</td>\n",
       "      <td>5196000.0</td>\n",
       "      <td>56.0</td>\n",
       "      <td>2015-08-20T00:00:00</td>\n",
       "      <td>2</td>\n",
       "      <td>2.70</td>\n",
       "      <td>5.0</td>\n",
       "      <td>34.3</td>\n",
       "      <td>4</td>\n",
       "      <td>False</td>\n",
       "      <td>False</td>\n",
       "      <td>False</td>\n",
       "      <td>8.3</td>\n",
       "      <td>0.0</td>\n",
       "      <td>Санкт-Петербург</td>\n",
       "      <td>21741.0</td>\n",
       "      <td>13933.0</td>\n",
       "      <td>True</td>\n",
       "      <td>True</td>\n",
       "      <td>558.0</td>\n",
       "    </tr>\n",
       "    <tr>\n",
       "      <td>3</td>\n",
       "      <td>0</td>\n",
       "      <td>64900000.0</td>\n",
       "      <td>159.0</td>\n",
       "      <td>2015-07-24T00:00:00</td>\n",
       "      <td>3</td>\n",
       "      <td>2.70</td>\n",
       "      <td>14.0</td>\n",
       "      <td>NaN</td>\n",
       "      <td>9</td>\n",
       "      <td>False</td>\n",
       "      <td>False</td>\n",
       "      <td>False</td>\n",
       "      <td>NaN</td>\n",
       "      <td>0.0</td>\n",
       "      <td>Санкт-Петербург</td>\n",
       "      <td>28098.0</td>\n",
       "      <td>6800.0</td>\n",
       "      <td>True</td>\n",
       "      <td>True</td>\n",
       "      <td>424.0</td>\n",
       "    </tr>\n",
       "    <tr>\n",
       "      <td>4</td>\n",
       "      <td>2</td>\n",
       "      <td>10000000.0</td>\n",
       "      <td>100.0</td>\n",
       "      <td>2018-06-19T00:00:00</td>\n",
       "      <td>2</td>\n",
       "      <td>3.03</td>\n",
       "      <td>14.0</td>\n",
       "      <td>32.0</td>\n",
       "      <td>13</td>\n",
       "      <td>False</td>\n",
       "      <td>False</td>\n",
       "      <td>False</td>\n",
       "      <td>41.0</td>\n",
       "      <td>0.0</td>\n",
       "      <td>Санкт-Петербург</td>\n",
       "      <td>31856.0</td>\n",
       "      <td>8098.0</td>\n",
       "      <td>True</td>\n",
       "      <td>True</td>\n",
       "      <td>121.0</td>\n",
       "    </tr>\n",
       "  </tbody>\n",
       "</table>\n",
       "</div>"
      ],
      "text/plain": [
       "   total_images  last_price  total_area first_day_exposition  rooms  \\\n",
       "0            20  13000000.0       108.0  2019-03-07T00:00:00      3   \n",
       "1             7   3350000.0        40.4  2018-12-04T00:00:00      1   \n",
       "2            10   5196000.0        56.0  2015-08-20T00:00:00      2   \n",
       "3             0  64900000.0       159.0  2015-07-24T00:00:00      3   \n",
       "4             2  10000000.0       100.0  2018-06-19T00:00:00      2   \n",
       "\n",
       "   ceiling_height  floors_total  living_area  floor  is_apartment  studio  \\\n",
       "0            2.70          16.0         51.0      8         False   False   \n",
       "1            2.63          11.0         18.6      1         False   False   \n",
       "2            2.70           5.0         34.3      4         False   False   \n",
       "3            2.70          14.0          NaN      9         False   False   \n",
       "4            3.03          14.0         32.0     13         False   False   \n",
       "\n",
       "   open_plan  kitchen_area  balcony    locality_name  airports_nearest  \\\n",
       "0      False          25.0      0.0  Санкт-Петербург           18863.0   \n",
       "1      False          11.0      2.0   посёлок Шушары           12817.0   \n",
       "2      False           8.3      0.0  Санкт-Петербург           21741.0   \n",
       "3      False           NaN      0.0  Санкт-Петербург           28098.0   \n",
       "4      False          41.0      0.0  Санкт-Петербург           31856.0   \n",
       "\n",
       "   cityCenters_nearest parks_around3000 ponds_around3000  days_exposition  \n",
       "0              16028.0             True             True              NaN  \n",
       "1              18603.0            False            False             81.0  \n",
       "2              13933.0             True             True            558.0  \n",
       "3               6800.0             True             True            424.0  \n",
       "4               8098.0             True             True            121.0  "
      ]
     },
     "execution_count": 41,
     "metadata": {},
     "output_type": "execute_result"
    }
   ],
   "source": [
    "estate_work_data.head()"
   ]
  },
  {
   "cell_type": "code",
   "execution_count": 42,
   "metadata": {},
   "outputs": [
    {
     "data": {
      "text/html": [
       "<div>\n",
       "<style scoped>\n",
       "    .dataframe tbody tr th:only-of-type {\n",
       "        vertical-align: middle;\n",
       "    }\n",
       "\n",
       "    .dataframe tbody tr th {\n",
       "        vertical-align: top;\n",
       "    }\n",
       "\n",
       "    .dataframe thead th {\n",
       "        text-align: right;\n",
       "    }\n",
       "</style>\n",
       "<table border=\"1\" class=\"dataframe\">\n",
       "  <thead>\n",
       "    <tr style=\"text-align: right;\">\n",
       "      <th></th>\n",
       "      <th>total_images</th>\n",
       "      <th>last_price</th>\n",
       "      <th>total_area</th>\n",
       "      <th>rooms</th>\n",
       "      <th>ceiling_height</th>\n",
       "      <th>floors_total</th>\n",
       "      <th>living_area</th>\n",
       "      <th>floor</th>\n",
       "      <th>is_apartment</th>\n",
       "      <th>studio</th>\n",
       "      <th>open_plan</th>\n",
       "      <th>kitchen_area</th>\n",
       "      <th>balcony</th>\n",
       "      <th>airports_nearest</th>\n",
       "      <th>cityCenters_nearest</th>\n",
       "      <th>days_exposition</th>\n",
       "    </tr>\n",
       "  </thead>\n",
       "  <tbody>\n",
       "    <tr>\n",
       "      <td>total_images</td>\n",
       "      <td>1.000000</td>\n",
       "      <td>0.104284</td>\n",
       "      <td>0.115511</td>\n",
       "      <td>0.099544</td>\n",
       "      <td>0.051237</td>\n",
       "      <td>0.008541</td>\n",
       "      <td>0.104523</td>\n",
       "      <td>0.029696</td>\n",
       "      <td>0.013422</td>\n",
       "      <td>-0.029131</td>\n",
       "      <td>-0.024173</td>\n",
       "      <td>0.108371</td>\n",
       "      <td>0.048683</td>\n",
       "      <td>-0.002001</td>\n",
       "      <td>-0.047576</td>\n",
       "      <td>-0.027892</td>\n",
       "    </tr>\n",
       "    <tr>\n",
       "      <td>last_price</td>\n",
       "      <td>0.104284</td>\n",
       "      <td>1.000000</td>\n",
       "      <td>0.653781</td>\n",
       "      <td>0.363838</td>\n",
       "      <td>0.286444</td>\n",
       "      <td>-0.009320</td>\n",
       "      <td>0.566756</td>\n",
       "      <td>0.025225</td>\n",
       "      <td>0.027433</td>\n",
       "      <td>-0.025437</td>\n",
       "      <td>-0.008471</td>\n",
       "      <td>0.519462</td>\n",
       "      <td>0.008048</td>\n",
       "      <td>-0.026294</td>\n",
       "      <td>-0.206869</td>\n",
       "      <td>0.080643</td>\n",
       "    </tr>\n",
       "    <tr>\n",
       "      <td>total_area</td>\n",
       "      <td>0.115511</td>\n",
       "      <td>0.653781</td>\n",
       "      <td>1.000000</td>\n",
       "      <td>0.758881</td>\n",
       "      <td>0.374819</td>\n",
       "      <td>-0.077632</td>\n",
       "      <td>0.939597</td>\n",
       "      <td>-0.025500</td>\n",
       "      <td>0.031284</td>\n",
       "      <td>-0.072633</td>\n",
       "      <td>-0.033925</td>\n",
       "      <td>0.611750</td>\n",
       "      <td>0.009679</td>\n",
       "      <td>-0.030822</td>\n",
       "      <td>-0.231961</td>\n",
       "      <td>0.149507</td>\n",
       "    </tr>\n",
       "    <tr>\n",
       "      <td>rooms</td>\n",
       "      <td>0.099544</td>\n",
       "      <td>0.363838</td>\n",
       "      <td>0.758881</td>\n",
       "      <td>1.000000</td>\n",
       "      <td>0.225248</td>\n",
       "      <td>-0.229406</td>\n",
       "      <td>0.846135</td>\n",
       "      <td>-0.151421</td>\n",
       "      <td>0.000577</td>\n",
       "      <td>-0.147191</td>\n",
       "      <td>-0.085993</td>\n",
       "      <td>0.284253</td>\n",
       "      <td>-0.015298</td>\n",
       "      <td>-0.060735</td>\n",
       "      <td>-0.184508</td>\n",
       "      <td>0.126521</td>\n",
       "    </tr>\n",
       "    <tr>\n",
       "      <td>ceiling_height</td>\n",
       "      <td>0.051237</td>\n",
       "      <td>0.286444</td>\n",
       "      <td>0.374819</td>\n",
       "      <td>0.225248</td>\n",
       "      <td>1.000000</td>\n",
       "      <td>-0.041339</td>\n",
       "      <td>0.361200</td>\n",
       "      <td>-0.016274</td>\n",
       "      <td>0.063780</td>\n",
       "      <td>0.015203</td>\n",
       "      <td>0.004842</td>\n",
       "      <td>0.328523</td>\n",
       "      <td>-0.043398</td>\n",
       "      <td>-0.084182</td>\n",
       "      <td>-0.325357</td>\n",
       "      <td>0.104698</td>\n",
       "    </tr>\n",
       "    <tr>\n",
       "      <td>floors_total</td>\n",
       "      <td>0.008541</td>\n",
       "      <td>-0.009320</td>\n",
       "      <td>-0.077632</td>\n",
       "      <td>-0.229406</td>\n",
       "      <td>-0.041339</td>\n",
       "      <td>1.000000</td>\n",
       "      <td>-0.170773</td>\n",
       "      <td>0.673415</td>\n",
       "      <td>-0.024638</td>\n",
       "      <td>0.069855</td>\n",
       "      <td>0.050594</td>\n",
       "      <td>0.151750</td>\n",
       "      <td>0.173060</td>\n",
       "      <td>0.108902</td>\n",
       "      <td>0.018702</td>\n",
       "      <td>-0.053435</td>\n",
       "    </tr>\n",
       "    <tr>\n",
       "      <td>living_area</td>\n",
       "      <td>0.104523</td>\n",
       "      <td>0.566756</td>\n",
       "      <td>0.939597</td>\n",
       "      <td>0.846135</td>\n",
       "      <td>0.361200</td>\n",
       "      <td>-0.170773</td>\n",
       "      <td>1.000000</td>\n",
       "      <td>-0.097941</td>\n",
       "      <td>0.027842</td>\n",
       "      <td>-0.056392</td>\n",
       "      <td>-0.032718</td>\n",
       "      <td>0.431843</td>\n",
       "      <td>-0.015110</td>\n",
       "      <td>-0.057553</td>\n",
       "      <td>-0.231342</td>\n",
       "      <td>0.142344</td>\n",
       "    </tr>\n",
       "    <tr>\n",
       "      <td>floor</td>\n",
       "      <td>0.029696</td>\n",
       "      <td>0.025225</td>\n",
       "      <td>-0.025500</td>\n",
       "      <td>-0.151421</td>\n",
       "      <td>-0.016274</td>\n",
       "      <td>0.673415</td>\n",
       "      <td>-0.097941</td>\n",
       "      <td>1.000000</td>\n",
       "      <td>-0.012038</td>\n",
       "      <td>0.037117</td>\n",
       "      <td>0.034948</td>\n",
       "      <td>0.128920</td>\n",
       "      <td>0.168809</td>\n",
       "      <td>0.071841</td>\n",
       "      <td>0.008686</td>\n",
       "      <td>-0.039999</td>\n",
       "    </tr>\n",
       "    <tr>\n",
       "      <td>is_apartment</td>\n",
       "      <td>0.013422</td>\n",
       "      <td>0.027433</td>\n",
       "      <td>0.031284</td>\n",
       "      <td>0.000577</td>\n",
       "      <td>0.063780</td>\n",
       "      <td>-0.024638</td>\n",
       "      <td>0.027842</td>\n",
       "      <td>-0.012038</td>\n",
       "      <td>1.000000</td>\n",
       "      <td>-0.003564</td>\n",
       "      <td>-0.002358</td>\n",
       "      <td>0.052627</td>\n",
       "      <td>0.029985</td>\n",
       "      <td>0.016215</td>\n",
       "      <td>0.005397</td>\n",
       "      <td>0.018552</td>\n",
       "    </tr>\n",
       "    <tr>\n",
       "      <td>studio</td>\n",
       "      <td>-0.029131</td>\n",
       "      <td>-0.025437</td>\n",
       "      <td>-0.072633</td>\n",
       "      <td>-0.147191</td>\n",
       "      <td>0.015203</td>\n",
       "      <td>0.069855</td>\n",
       "      <td>-0.056392</td>\n",
       "      <td>0.037117</td>\n",
       "      <td>-0.003564</td>\n",
       "      <td>1.000000</td>\n",
       "      <td>-0.004193</td>\n",
       "      <td>-0.119767</td>\n",
       "      <td>0.029417</td>\n",
       "      <td>-0.021566</td>\n",
       "      <td>-0.008285</td>\n",
       "      <td>-0.022369</td>\n",
       "    </tr>\n",
       "    <tr>\n",
       "      <td>open_plan</td>\n",
       "      <td>-0.024173</td>\n",
       "      <td>-0.008471</td>\n",
       "      <td>-0.033925</td>\n",
       "      <td>-0.085993</td>\n",
       "      <td>0.004842</td>\n",
       "      <td>0.050594</td>\n",
       "      <td>-0.032718</td>\n",
       "      <td>0.034948</td>\n",
       "      <td>-0.002358</td>\n",
       "      <td>-0.004193</td>\n",
       "      <td>1.000000</td>\n",
       "      <td>NaN</td>\n",
       "      <td>0.031718</td>\n",
       "      <td>-0.013632</td>\n",
       "      <td>-0.004229</td>\n",
       "      <td>-0.023725</td>\n",
       "    </tr>\n",
       "    <tr>\n",
       "      <td>kitchen_area</td>\n",
       "      <td>0.108371</td>\n",
       "      <td>0.519462</td>\n",
       "      <td>0.611750</td>\n",
       "      <td>0.284253</td>\n",
       "      <td>0.328523</td>\n",
       "      <td>0.151750</td>\n",
       "      <td>0.431843</td>\n",
       "      <td>0.128920</td>\n",
       "      <td>0.052627</td>\n",
       "      <td>-0.119767</td>\n",
       "      <td>NaN</td>\n",
       "      <td>1.000000</td>\n",
       "      <td>0.041601</td>\n",
       "      <td>0.010006</td>\n",
       "      <td>-0.189091</td>\n",
       "      <td>0.102952</td>\n",
       "    </tr>\n",
       "    <tr>\n",
       "      <td>balcony</td>\n",
       "      <td>0.048683</td>\n",
       "      <td>0.008048</td>\n",
       "      <td>0.009679</td>\n",
       "      <td>-0.015298</td>\n",
       "      <td>-0.043398</td>\n",
       "      <td>0.173060</td>\n",
       "      <td>-0.015110</td>\n",
       "      <td>0.168809</td>\n",
       "      <td>0.029985</td>\n",
       "      <td>0.029417</td>\n",
       "      <td>0.031718</td>\n",
       "      <td>0.041601</td>\n",
       "      <td>1.000000</td>\n",
       "      <td>0.049621</td>\n",
       "      <td>0.065462</td>\n",
       "      <td>-0.027297</td>\n",
       "    </tr>\n",
       "    <tr>\n",
       "      <td>airports_nearest</td>\n",
       "      <td>-0.002001</td>\n",
       "      <td>-0.026294</td>\n",
       "      <td>-0.030822</td>\n",
       "      <td>-0.060735</td>\n",
       "      <td>-0.084182</td>\n",
       "      <td>0.108902</td>\n",
       "      <td>-0.057553</td>\n",
       "      <td>0.071841</td>\n",
       "      <td>0.016215</td>\n",
       "      <td>-0.021566</td>\n",
       "      <td>-0.013632</td>\n",
       "      <td>0.010006</td>\n",
       "      <td>0.049621</td>\n",
       "      <td>1.000000</td>\n",
       "      <td>0.271363</td>\n",
       "      <td>-0.017721</td>\n",
       "    </tr>\n",
       "    <tr>\n",
       "      <td>cityCenters_nearest</td>\n",
       "      <td>-0.047576</td>\n",
       "      <td>-0.206869</td>\n",
       "      <td>-0.231961</td>\n",
       "      <td>-0.184508</td>\n",
       "      <td>-0.325357</td>\n",
       "      <td>0.018702</td>\n",
       "      <td>-0.231342</td>\n",
       "      <td>0.008686</td>\n",
       "      <td>0.005397</td>\n",
       "      <td>-0.008285</td>\n",
       "      <td>-0.004229</td>\n",
       "      <td>-0.189091</td>\n",
       "      <td>0.065462</td>\n",
       "      <td>0.271363</td>\n",
       "      <td>1.000000</td>\n",
       "      <td>-0.059384</td>\n",
       "    </tr>\n",
       "    <tr>\n",
       "      <td>days_exposition</td>\n",
       "      <td>-0.027892</td>\n",
       "      <td>0.080643</td>\n",
       "      <td>0.149507</td>\n",
       "      <td>0.126521</td>\n",
       "      <td>0.104698</td>\n",
       "      <td>-0.053435</td>\n",
       "      <td>0.142344</td>\n",
       "      <td>-0.039999</td>\n",
       "      <td>0.018552</td>\n",
       "      <td>-0.022369</td>\n",
       "      <td>-0.023725</td>\n",
       "      <td>0.102952</td>\n",
       "      <td>-0.027297</td>\n",
       "      <td>-0.017721</td>\n",
       "      <td>-0.059384</td>\n",
       "      <td>1.000000</td>\n",
       "    </tr>\n",
       "  </tbody>\n",
       "</table>\n",
       "</div>"
      ],
      "text/plain": [
       "                     total_images  last_price  total_area     rooms  \\\n",
       "total_images             1.000000    0.104284    0.115511  0.099544   \n",
       "last_price               0.104284    1.000000    0.653781  0.363838   \n",
       "total_area               0.115511    0.653781    1.000000  0.758881   \n",
       "rooms                    0.099544    0.363838    0.758881  1.000000   \n",
       "ceiling_height           0.051237    0.286444    0.374819  0.225248   \n",
       "floors_total             0.008541   -0.009320   -0.077632 -0.229406   \n",
       "living_area              0.104523    0.566756    0.939597  0.846135   \n",
       "floor                    0.029696    0.025225   -0.025500 -0.151421   \n",
       "is_apartment             0.013422    0.027433    0.031284  0.000577   \n",
       "studio                  -0.029131   -0.025437   -0.072633 -0.147191   \n",
       "open_plan               -0.024173   -0.008471   -0.033925 -0.085993   \n",
       "kitchen_area             0.108371    0.519462    0.611750  0.284253   \n",
       "balcony                  0.048683    0.008048    0.009679 -0.015298   \n",
       "airports_nearest        -0.002001   -0.026294   -0.030822 -0.060735   \n",
       "cityCenters_nearest     -0.047576   -0.206869   -0.231961 -0.184508   \n",
       "days_exposition         -0.027892    0.080643    0.149507  0.126521   \n",
       "\n",
       "                     ceiling_height  floors_total  living_area     floor  \\\n",
       "total_images               0.051237      0.008541     0.104523  0.029696   \n",
       "last_price                 0.286444     -0.009320     0.566756  0.025225   \n",
       "total_area                 0.374819     -0.077632     0.939597 -0.025500   \n",
       "rooms                      0.225248     -0.229406     0.846135 -0.151421   \n",
       "ceiling_height             1.000000     -0.041339     0.361200 -0.016274   \n",
       "floors_total              -0.041339      1.000000    -0.170773  0.673415   \n",
       "living_area                0.361200     -0.170773     1.000000 -0.097941   \n",
       "floor                     -0.016274      0.673415    -0.097941  1.000000   \n",
       "is_apartment               0.063780     -0.024638     0.027842 -0.012038   \n",
       "studio                     0.015203      0.069855    -0.056392  0.037117   \n",
       "open_plan                  0.004842      0.050594    -0.032718  0.034948   \n",
       "kitchen_area               0.328523      0.151750     0.431843  0.128920   \n",
       "balcony                   -0.043398      0.173060    -0.015110  0.168809   \n",
       "airports_nearest          -0.084182      0.108902    -0.057553  0.071841   \n",
       "cityCenters_nearest       -0.325357      0.018702    -0.231342  0.008686   \n",
       "days_exposition            0.104698     -0.053435     0.142344 -0.039999   \n",
       "\n",
       "                     is_apartment    studio  open_plan  kitchen_area  \\\n",
       "total_images             0.013422 -0.029131  -0.024173      0.108371   \n",
       "last_price               0.027433 -0.025437  -0.008471      0.519462   \n",
       "total_area               0.031284 -0.072633  -0.033925      0.611750   \n",
       "rooms                    0.000577 -0.147191  -0.085993      0.284253   \n",
       "ceiling_height           0.063780  0.015203   0.004842      0.328523   \n",
       "floors_total            -0.024638  0.069855   0.050594      0.151750   \n",
       "living_area              0.027842 -0.056392  -0.032718      0.431843   \n",
       "floor                   -0.012038  0.037117   0.034948      0.128920   \n",
       "is_apartment             1.000000 -0.003564  -0.002358      0.052627   \n",
       "studio                  -0.003564  1.000000  -0.004193     -0.119767   \n",
       "open_plan               -0.002358 -0.004193   1.000000           NaN   \n",
       "kitchen_area             0.052627 -0.119767        NaN      1.000000   \n",
       "balcony                  0.029985  0.029417   0.031718      0.041601   \n",
       "airports_nearest         0.016215 -0.021566  -0.013632      0.010006   \n",
       "cityCenters_nearest      0.005397 -0.008285  -0.004229     -0.189091   \n",
       "days_exposition          0.018552 -0.022369  -0.023725      0.102952   \n",
       "\n",
       "                      balcony  airports_nearest  cityCenters_nearest  \\\n",
       "total_images         0.048683         -0.002001            -0.047576   \n",
       "last_price           0.008048         -0.026294            -0.206869   \n",
       "total_area           0.009679         -0.030822            -0.231961   \n",
       "rooms               -0.015298         -0.060735            -0.184508   \n",
       "ceiling_height      -0.043398         -0.084182            -0.325357   \n",
       "floors_total         0.173060          0.108902             0.018702   \n",
       "living_area         -0.015110         -0.057553            -0.231342   \n",
       "floor                0.168809          0.071841             0.008686   \n",
       "is_apartment         0.029985          0.016215             0.005397   \n",
       "studio               0.029417         -0.021566            -0.008285   \n",
       "open_plan            0.031718         -0.013632            -0.004229   \n",
       "kitchen_area         0.041601          0.010006            -0.189091   \n",
       "balcony              1.000000          0.049621             0.065462   \n",
       "airports_nearest     0.049621          1.000000             0.271363   \n",
       "cityCenters_nearest  0.065462          0.271363             1.000000   \n",
       "days_exposition     -0.027297         -0.017721            -0.059384   \n",
       "\n",
       "                     days_exposition  \n",
       "total_images               -0.027892  \n",
       "last_price                  0.080643  \n",
       "total_area                  0.149507  \n",
       "rooms                       0.126521  \n",
       "ceiling_height              0.104698  \n",
       "floors_total               -0.053435  \n",
       "living_area                 0.142344  \n",
       "floor                      -0.039999  \n",
       "is_apartment                0.018552  \n",
       "studio                     -0.022369  \n",
       "open_plan                  -0.023725  \n",
       "kitchen_area                0.102952  \n",
       "balcony                    -0.027297  \n",
       "airports_nearest           -0.017721  \n",
       "cityCenters_nearest        -0.059384  \n",
       "days_exposition             1.000000  "
      ]
     },
     "execution_count": 42,
     "metadata": {},
     "output_type": "execute_result"
    }
   ],
   "source": [
    "estate_work_data.corr() #"
   ]
  },
  {
   "cell_type": "markdown",
   "metadata": {},
   "source": [
    "Жилая площадь сильно коррелирует с общей площадью, площадь кухни тоже. Подставим на их пропуски медианное значение для каждой площади "
   ]
  },
  {
   "cell_type": "code",
   "execution_count": 43,
   "metadata": {},
   "outputs": [
    {
     "data": {
      "text/html": [
       "<div>\n",
       "<style scoped>\n",
       "    .dataframe tbody tr th:only-of-type {\n",
       "        vertical-align: middle;\n",
       "    }\n",
       "\n",
       "    .dataframe tbody tr th {\n",
       "        vertical-align: top;\n",
       "    }\n",
       "\n",
       "    .dataframe thead tr th {\n",
       "        text-align: left;\n",
       "    }\n",
       "\n",
       "    .dataframe thead tr:last-of-type th {\n",
       "        text-align: right;\n",
       "    }\n",
       "</style>\n",
       "<table border=\"1\" class=\"dataframe\">\n",
       "  <thead>\n",
       "    <tr>\n",
       "      <th></th>\n",
       "      <th colspan=\"2\" halign=\"left\">median</th>\n",
       "      <th colspan=\"2\" halign=\"left\">count</th>\n",
       "    </tr>\n",
       "    <tr>\n",
       "      <th></th>\n",
       "      <th>kitchen_area</th>\n",
       "      <th>living_area</th>\n",
       "      <th>kitchen_area</th>\n",
       "      <th>living_area</th>\n",
       "    </tr>\n",
       "    <tr>\n",
       "      <th>total_area</th>\n",
       "      <th></th>\n",
       "      <th></th>\n",
       "      <th></th>\n",
       "      <th></th>\n",
       "    </tr>\n",
       "  </thead>\n",
       "  <tbody>\n",
       "    <tr>\n",
       "      <td>12.0</td>\n",
       "      <td>NaN</td>\n",
       "      <td>10.0</td>\n",
       "      <td>0</td>\n",
       "      <td>1</td>\n",
       "    </tr>\n",
       "    <tr>\n",
       "      <td>13.0</td>\n",
       "      <td>NaN</td>\n",
       "      <td>10.0</td>\n",
       "      <td>0</td>\n",
       "      <td>1</td>\n",
       "    </tr>\n",
       "    <tr>\n",
       "      <td>13.2</td>\n",
       "      <td>NaN</td>\n",
       "      <td>NaN</td>\n",
       "      <td>0</td>\n",
       "      <td>0</td>\n",
       "    </tr>\n",
       "    <tr>\n",
       "      <td>14.0</td>\n",
       "      <td>2.0</td>\n",
       "      <td>11.0</td>\n",
       "      <td>1</td>\n",
       "      <td>1</td>\n",
       "    </tr>\n",
       "    <tr>\n",
       "      <td>15.0</td>\n",
       "      <td>NaN</td>\n",
       "      <td>NaN</td>\n",
       "      <td>0</td>\n",
       "      <td>0</td>\n",
       "    </tr>\n",
       "    <tr>\n",
       "      <td>...</td>\n",
       "      <td>...</td>\n",
       "      <td>...</td>\n",
       "      <td>...</td>\n",
       "      <td>...</td>\n",
       "    </tr>\n",
       "    <tr>\n",
       "      <td>590.0</td>\n",
       "      <td>100.0</td>\n",
       "      <td>409.0</td>\n",
       "      <td>1</td>\n",
       "      <td>1</td>\n",
       "    </tr>\n",
       "    <tr>\n",
       "      <td>618.0</td>\n",
       "      <td>70.0</td>\n",
       "      <td>258.0</td>\n",
       "      <td>1</td>\n",
       "      <td>1</td>\n",
       "    </tr>\n",
       "    <tr>\n",
       "      <td>631.0</td>\n",
       "      <td>60.0</td>\n",
       "      <td>NaN</td>\n",
       "      <td>1</td>\n",
       "      <td>0</td>\n",
       "    </tr>\n",
       "    <tr>\n",
       "      <td>631.2</td>\n",
       "      <td>19.5</td>\n",
       "      <td>322.3</td>\n",
       "      <td>1</td>\n",
       "      <td>1</td>\n",
       "    </tr>\n",
       "    <tr>\n",
       "      <td>900.0</td>\n",
       "      <td>112.0</td>\n",
       "      <td>409.7</td>\n",
       "      <td>1</td>\n",
       "      <td>1</td>\n",
       "    </tr>\n",
       "  </tbody>\n",
       "</table>\n",
       "<p>2179 rows × 4 columns</p>\n",
       "</div>"
      ],
      "text/plain": [
       "                 median                    count            \n",
       "           kitchen_area living_area kitchen_area living_area\n",
       "total_area                                                  \n",
       "12.0                NaN        10.0            0           1\n",
       "13.0                NaN        10.0            0           1\n",
       "13.2                NaN         NaN            0           0\n",
       "14.0                2.0        11.0            1           1\n",
       "15.0                NaN         NaN            0           0\n",
       "...                 ...         ...          ...         ...\n",
       "590.0             100.0       409.0            1           1\n",
       "618.0              70.0       258.0            1           1\n",
       "631.0              60.0         NaN            1           0\n",
       "631.2              19.5       322.3            1           1\n",
       "900.0             112.0       409.7            1           1\n",
       "\n",
       "[2179 rows x 4 columns]"
      ]
     },
     "execution_count": 43,
     "metadata": {},
     "output_type": "execute_result"
    }
   ],
   "source": [
    "kitchen_living_area = estate_work_data.pivot_table(\n",
    "    index='total_area',values=['kitchen_area','living_area'],aggfunc=['median','count']\n",
    ")\n",
    "kitchen_living_area"
   ]
  },
  {
   "cell_type": "code",
   "execution_count": 44,
   "metadata": {},
   "outputs": [],
   "source": [
    "kitchen_area = kitchen_living_area['median']['kitchen_area']"
   ]
  },
  {
   "cell_type": "code",
   "execution_count": 45,
   "metadata": {},
   "outputs": [],
   "source": [
    "living_area = kitchen_living_area['median']['living_area']"
   ]
  },
  {
   "cell_type": "code",
   "execution_count": 46,
   "metadata": {},
   "outputs": [],
   "source": [
    "def kitchen_area_median(row):\n",
    "    row_null = row.isnull()\n",
    "    if row_null['kitchen_area'] == True:\n",
    "        return kitchen_area[row['total_area']]\n",
    "    return row['kitchen_area']"
   ]
  },
  {
   "cell_type": "code",
   "execution_count": 47,
   "metadata": {},
   "outputs": [],
   "source": [
    "def living_area_median(row):\n",
    "    row_null = row.isnull()\n",
    "    if row_null['living_area'] == True:\n",
    "        return living_area[row['total_area']]\n",
    "    return row['living_area']"
   ]
  },
  {
   "cell_type": "code",
   "execution_count": 48,
   "metadata": {},
   "outputs": [],
   "source": [
    "estate_work_data['living_area'] = estate_work_data.apply(living_area_median, axis=1)"
   ]
  },
  {
   "cell_type": "code",
   "execution_count": 49,
   "metadata": {},
   "outputs": [],
   "source": [
    "estate_work_data['kitchen_area'] = estate_work_data.apply(kitchen_area_median, axis=1)"
   ]
  },
  {
   "cell_type": "code",
   "execution_count": 50,
   "metadata": {},
   "outputs": [
    {
     "data": {
      "text/plain": [
       "<matplotlib.axes._subplots.AxesSubplot at 0x7fbf2796bfd0>"
      ]
     },
     "execution_count": 50,
     "metadata": {},
     "output_type": "execute_result"
    },
    {
     "data": {
      "image/png": "[encoded data removed]",
      "text/plain": [
       "<Figure size 432x288 with 1 Axes>"
      ]
     },
     "metadata": {
      "needs_background": "light"
     },
     "output_type": "display_data"
    }
   ],
   "source": [
    "estate_work_data['living_area'].hist(bins=100)"
   ]
  },
  {
   "cell_type": "code",
   "execution_count": 51,
   "metadata": {},
   "outputs": [
    {
     "data": {
      "text/plain": [
       "<matplotlib.axes._subplots.AxesSubplot at 0x7fbf1e0b2290>"
      ]
     },
     "execution_count": 51,
     "metadata": {},
     "output_type": "execute_result"
    },
    {
     "data": {
      "image/png": "[encoded data removed]",
      "text/plain": [
       "<Figure size 432x288 with 1 Axes>"
      ]
     },
     "metadata": {
      "needs_background": "light"
     },
     "output_type": "display_data"
    }
   ],
   "source": [
    "estate_work_data['kitchen_area'].hist(bins=100)"
   ]
  },
  {
   "cell_type": "code",
   "execution_count": 52,
   "metadata": {},
   "outputs": [
    {
     "data": {
      "text/plain": [
       "total_images               0\n",
       "last_price                 0\n",
       "total_area                 0\n",
       "first_day_exposition       0\n",
       "rooms                      0\n",
       "ceiling_height             0\n",
       "floors_total               0\n",
       "living_area              144\n",
       "floor                      0\n",
       "is_apartment               0\n",
       "studio                     0\n",
       "open_plan                  0\n",
       "kitchen_area             141\n",
       "balcony                    0\n",
       "locality_name              0\n",
       "airports_nearest        5405\n",
       "cityCenters_nearest     5382\n",
       "parks_around3000        5381\n",
       "ponds_around3000        5381\n",
       "days_exposition         3147\n",
       "dtype: int64"
      ]
     },
     "execution_count": 52,
     "metadata": {},
     "output_type": "execute_result"
    }
   ],
   "source": [
    "estate_work_data.isnull().sum()"
   ]
  },
  {
   "cell_type": "code",
   "execution_count": 86,
   "metadata": {},
   "outputs": [],
   "source": [
    "estate_work_data.dropna(subset=['living_area','kitchen_area'],inplace=True)"
   ]
  },
  {
   "cell_type": "code",
   "execution_count": 87,
   "metadata": {},
   "outputs": [
    {
     "data": {
      "text/html": [
       "<div>\n",
       "<style scoped>\n",
       "    .dataframe tbody tr th:only-of-type {\n",
       "        vertical-align: middle;\n",
       "    }\n",
       "\n",
       "    .dataframe tbody tr th {\n",
       "        vertical-align: top;\n",
       "    }\n",
       "\n",
       "    .dataframe thead th {\n",
       "        text-align: right;\n",
       "    }\n",
       "</style>\n",
       "<table border=\"1\" class=\"dataframe\">\n",
       "  <thead>\n",
       "    <tr style=\"text-align: right;\">\n",
       "      <th></th>\n",
       "      <th>total_images</th>\n",
       "      <th>last_price</th>\n",
       "      <th>total_area</th>\n",
       "      <th>first_day_exposition</th>\n",
       "      <th>rooms</th>\n",
       "      <th>ceiling_height</th>\n",
       "      <th>floors_total</th>\n",
       "      <th>living_area</th>\n",
       "      <th>floor</th>\n",
       "      <th>is_apartment</th>\n",
       "      <th>...</th>\n",
       "      <th>parks_around3000</th>\n",
       "      <th>ponds_around3000</th>\n",
       "      <th>days_exposition</th>\n",
       "      <th>price_per_square</th>\n",
       "      <th>publication_week_day</th>\n",
       "      <th>publication_month</th>\n",
       "      <th>publication_year</th>\n",
       "      <th>floor_type</th>\n",
       "      <th>kitchen_ratio</th>\n",
       "      <th>living_ratio</th>\n",
       "    </tr>\n",
       "  </thead>\n",
       "  <tbody>\n",
       "    <tr>\n",
       "      <td>0</td>\n",
       "      <td>20</td>\n",
       "      <td>13000000</td>\n",
       "      <td>108.00</td>\n",
       "      <td>2019-03-07</td>\n",
       "      <td>3</td>\n",
       "      <td>2.70</td>\n",
       "      <td>16</td>\n",
       "      <td>51.0</td>\n",
       "      <td>8</td>\n",
       "      <td>False</td>\n",
       "      <td>...</td>\n",
       "      <td>True</td>\n",
       "      <td>True</td>\n",
       "      <td>827</td>\n",
       "      <td>120370</td>\n",
       "      <td>3</td>\n",
       "      <td>3</td>\n",
       "      <td>2019</td>\n",
       "      <td>другой</td>\n",
       "      <td>0.2315</td>\n",
       "      <td>0.4722</td>\n",
       "    </tr>\n",
       "    <tr>\n",
       "      <td>1</td>\n",
       "      <td>7</td>\n",
       "      <td>3350000</td>\n",
       "      <td>40.40</td>\n",
       "      <td>2018-12-04</td>\n",
       "      <td>1</td>\n",
       "      <td>2.63</td>\n",
       "      <td>11</td>\n",
       "      <td>18.6</td>\n",
       "      <td>1</td>\n",
       "      <td>False</td>\n",
       "      <td>...</td>\n",
       "      <td>False</td>\n",
       "      <td>False</td>\n",
       "      <td>81</td>\n",
       "      <td>82920</td>\n",
       "      <td>1</td>\n",
       "      <td>12</td>\n",
       "      <td>2018</td>\n",
       "      <td>первый</td>\n",
       "      <td>0.2723</td>\n",
       "      <td>0.4604</td>\n",
       "    </tr>\n",
       "    <tr>\n",
       "      <td>2</td>\n",
       "      <td>10</td>\n",
       "      <td>5196000</td>\n",
       "      <td>56.00</td>\n",
       "      <td>2015-08-20</td>\n",
       "      <td>2</td>\n",
       "      <td>2.70</td>\n",
       "      <td>5</td>\n",
       "      <td>34.3</td>\n",
       "      <td>4</td>\n",
       "      <td>False</td>\n",
       "      <td>...</td>\n",
       "      <td>True</td>\n",
       "      <td>True</td>\n",
       "      <td>558</td>\n",
       "      <td>92785</td>\n",
       "      <td>3</td>\n",
       "      <td>8</td>\n",
       "      <td>2015</td>\n",
       "      <td>другой</td>\n",
       "      <td>0.1482</td>\n",
       "      <td>0.6125</td>\n",
       "    </tr>\n",
       "    <tr>\n",
       "      <td>3</td>\n",
       "      <td>0</td>\n",
       "      <td>64900000</td>\n",
       "      <td>159.00</td>\n",
       "      <td>2015-07-24</td>\n",
       "      <td>3</td>\n",
       "      <td>2.70</td>\n",
       "      <td>14</td>\n",
       "      <td>95.0</td>\n",
       "      <td>9</td>\n",
       "      <td>False</td>\n",
       "      <td>...</td>\n",
       "      <td>True</td>\n",
       "      <td>True</td>\n",
       "      <td>424</td>\n",
       "      <td>408176</td>\n",
       "      <td>4</td>\n",
       "      <td>7</td>\n",
       "      <td>2015</td>\n",
       "      <td>другой</td>\n",
       "      <td>0.0943</td>\n",
       "      <td>0.5975</td>\n",
       "    </tr>\n",
       "    <tr>\n",
       "      <td>4</td>\n",
       "      <td>2</td>\n",
       "      <td>10000000</td>\n",
       "      <td>100.00</td>\n",
       "      <td>2018-06-19</td>\n",
       "      <td>2</td>\n",
       "      <td>3.03</td>\n",
       "      <td>14</td>\n",
       "      <td>32.0</td>\n",
       "      <td>13</td>\n",
       "      <td>False</td>\n",
       "      <td>...</td>\n",
       "      <td>True</td>\n",
       "      <td>True</td>\n",
       "      <td>121</td>\n",
       "      <td>100000</td>\n",
       "      <td>1</td>\n",
       "      <td>6</td>\n",
       "      <td>2018</td>\n",
       "      <td>другой</td>\n",
       "      <td>0.4100</td>\n",
       "      <td>0.3200</td>\n",
       "    </tr>\n",
       "    <tr>\n",
       "      <td>...</td>\n",
       "      <td>...</td>\n",
       "      <td>...</td>\n",
       "      <td>...</td>\n",
       "      <td>...</td>\n",
       "      <td>...</td>\n",
       "      <td>...</td>\n",
       "      <td>...</td>\n",
       "      <td>...</td>\n",
       "      <td>...</td>\n",
       "      <td>...</td>\n",
       "      <td>...</td>\n",
       "      <td>...</td>\n",
       "      <td>...</td>\n",
       "      <td>...</td>\n",
       "      <td>...</td>\n",
       "      <td>...</td>\n",
       "      <td>...</td>\n",
       "      <td>...</td>\n",
       "      <td>...</td>\n",
       "      <td>...</td>\n",
       "      <td>...</td>\n",
       "    </tr>\n",
       "    <tr>\n",
       "      <td>23692</td>\n",
       "      <td>2</td>\n",
       "      <td>1350000</td>\n",
       "      <td>30.00</td>\n",
       "      <td>2017-07-07</td>\n",
       "      <td>1</td>\n",
       "      <td>2.60</td>\n",
       "      <td>5</td>\n",
       "      <td>17.5</td>\n",
       "      <td>4</td>\n",
       "      <td>False</td>\n",
       "      <td>...</td>\n",
       "      <td>None</td>\n",
       "      <td>None</td>\n",
       "      <td>413</td>\n",
       "      <td>45000</td>\n",
       "      <td>4</td>\n",
       "      <td>7</td>\n",
       "      <td>2017</td>\n",
       "      <td>другой</td>\n",
       "      <td>0.2000</td>\n",
       "      <td>0.5833</td>\n",
       "    </tr>\n",
       "    <tr>\n",
       "      <td>23693</td>\n",
       "      <td>9</td>\n",
       "      <td>4600000</td>\n",
       "      <td>62.40</td>\n",
       "      <td>2016-08-05</td>\n",
       "      <td>3</td>\n",
       "      <td>2.60</td>\n",
       "      <td>9</td>\n",
       "      <td>40.0</td>\n",
       "      <td>8</td>\n",
       "      <td>False</td>\n",
       "      <td>...</td>\n",
       "      <td>True</td>\n",
       "      <td>True</td>\n",
       "      <td>239</td>\n",
       "      <td>73717</td>\n",
       "      <td>4</td>\n",
       "      <td>8</td>\n",
       "      <td>2016</td>\n",
       "      <td>другой</td>\n",
       "      <td>0.1282</td>\n",
       "      <td>0.6410</td>\n",
       "    </tr>\n",
       "    <tr>\n",
       "      <td>23694</td>\n",
       "      <td>9</td>\n",
       "      <td>9700000</td>\n",
       "      <td>133.81</td>\n",
       "      <td>2017-03-21</td>\n",
       "      <td>3</td>\n",
       "      <td>3.70</td>\n",
       "      <td>5</td>\n",
       "      <td>73.3</td>\n",
       "      <td>3</td>\n",
       "      <td>False</td>\n",
       "      <td>...</td>\n",
       "      <td>True</td>\n",
       "      <td>True</td>\n",
       "      <td>1543</td>\n",
       "      <td>72490</td>\n",
       "      <td>1</td>\n",
       "      <td>3</td>\n",
       "      <td>2017</td>\n",
       "      <td>другой</td>\n",
       "      <td>0.1034</td>\n",
       "      <td>0.5478</td>\n",
       "    </tr>\n",
       "    <tr>\n",
       "      <td>23695</td>\n",
       "      <td>14</td>\n",
       "      <td>3100000</td>\n",
       "      <td>59.00</td>\n",
       "      <td>2018-01-15</td>\n",
       "      <td>3</td>\n",
       "      <td>2.50</td>\n",
       "      <td>5</td>\n",
       "      <td>38.0</td>\n",
       "      <td>4</td>\n",
       "      <td>False</td>\n",
       "      <td>...</td>\n",
       "      <td>None</td>\n",
       "      <td>None</td>\n",
       "      <td>45</td>\n",
       "      <td>52542</td>\n",
       "      <td>0</td>\n",
       "      <td>1</td>\n",
       "      <td>2018</td>\n",
       "      <td>другой</td>\n",
       "      <td>0.1441</td>\n",
       "      <td>0.6441</td>\n",
       "    </tr>\n",
       "    <tr>\n",
       "      <td>23698</td>\n",
       "      <td>4</td>\n",
       "      <td>1350000</td>\n",
       "      <td>32.30</td>\n",
       "      <td>2017-07-21</td>\n",
       "      <td>1</td>\n",
       "      <td>2.50</td>\n",
       "      <td>5</td>\n",
       "      <td>12.3</td>\n",
       "      <td>1</td>\n",
       "      <td>False</td>\n",
       "      <td>...</td>\n",
       "      <td>None</td>\n",
       "      <td>None</td>\n",
       "      <td>1421</td>\n",
       "      <td>41795</td>\n",
       "      <td>4</td>\n",
       "      <td>7</td>\n",
       "      <td>2017</td>\n",
       "      <td>первый</td>\n",
       "      <td>0.2786</td>\n",
       "      <td>0.3808</td>\n",
       "    </tr>\n",
       "  </tbody>\n",
       "</table>\n",
       "<p>23268 rows × 27 columns</p>\n",
       "</div>"
      ],
      "text/plain": [
       "       total_images  last_price  total_area first_day_exposition  rooms  \\\n",
       "0                20    13000000      108.00           2019-03-07      3   \n",
       "1                 7     3350000       40.40           2018-12-04      1   \n",
       "2                10     5196000       56.00           2015-08-20      2   \n",
       "3                 0    64900000      159.00           2015-07-24      3   \n",
       "4                 2    10000000      100.00           2018-06-19      2   \n",
       "...             ...         ...         ...                  ...    ...   \n",
       "23692             2     1350000       30.00           2017-07-07      1   \n",
       "23693             9     4600000       62.40           2016-08-05      3   \n",
       "23694             9     9700000      133.81           2017-03-21      3   \n",
       "23695            14     3100000       59.00           2018-01-15      3   \n",
       "23698             4     1350000       32.30           2017-07-21      1   \n",
       "\n",
       "       ceiling_height  floors_total  living_area  floor  is_apartment  ...  \\\n",
       "0                2.70            16         51.0      8         False  ...   \n",
       "1                2.63            11         18.6      1         False  ...   \n",
       "2                2.70             5         34.3      4         False  ...   \n",
       "3                2.70            14         95.0      9         False  ...   \n",
       "4                3.03            14         32.0     13         False  ...   \n",
       "...               ...           ...          ...    ...           ...  ...   \n",
       "23692            2.60             5         17.5      4         False  ...   \n",
       "23693            2.60             9         40.0      8         False  ...   \n",
       "23694            3.70             5         73.3      3         False  ...   \n",
       "23695            2.50             5         38.0      4         False  ...   \n",
       "23698            2.50             5         12.3      1         False  ...   \n",
       "\n",
       "       parks_around3000  ponds_around3000  days_exposition  price_per_square  \\\n",
       "0                  True              True              827            120370   \n",
       "1                 False             False               81             82920   \n",
       "2                  True              True              558             92785   \n",
       "3                  True              True              424            408176   \n",
       "4                  True              True              121            100000   \n",
       "...                 ...               ...              ...               ...   \n",
       "23692              None              None              413             45000   \n",
       "23693              True              True              239             73717   \n",
       "23694              True              True             1543             72490   \n",
       "23695              None              None               45             52542   \n",
       "23698              None              None             1421             41795   \n",
       "\n",
       "      publication_week_day  publication_month  publication_year floor_type  \\\n",
       "0                        3                  3              2019     другой   \n",
       "1                        1                 12              2018     первый   \n",
       "2                        3                  8              2015     другой   \n",
       "3                        4                  7              2015     другой   \n",
       "4                        1                  6              2018     другой   \n",
       "...                    ...                ...               ...        ...   \n",
       "23692                    4                  7              2017     другой   \n",
       "23693                    4                  8              2016     другой   \n",
       "23694                    1                  3              2017     другой   \n",
       "23695                    0                  1              2018     другой   \n",
       "23698                    4                  7              2017     первый   \n",
       "\n",
       "      kitchen_ratio  living_ratio  \n",
       "0            0.2315        0.4722  \n",
       "1            0.2723        0.4604  \n",
       "2            0.1482        0.6125  \n",
       "3            0.0943        0.5975  \n",
       "4            0.4100        0.3200  \n",
       "...             ...           ...  \n",
       "23692        0.2000        0.5833  \n",
       "23693        0.1282        0.6410  \n",
       "23694        0.1034        0.5478  \n",
       "23695        0.1441        0.6441  \n",
       "23698        0.2786        0.3808  \n",
       "\n",
       "[23268 rows x 27 columns]"
      ]
     },
     "execution_count": 87,
     "metadata": {},
     "output_type": "execute_result"
    }
   ],
   "source": [
    "estate_work_data"
   ]
  },
  {
   "cell_type": "markdown",
   "metadata": {},
   "source": [
    "Cкорее всего пропуски в days_exposition говорят о том, что публикация всё ещё не снята."
   ]
  },
  {
   "cell_type": "code",
   "execution_count": 55,
   "metadata": {},
   "outputs": [],
   "source": [
    "estate_work_data['first_day_exposition'] = pd.to_datetime(\n",
    "    estate_work_data['first_day_exposition'], format='%Y-%m-%dT%H:%M:%S'\n",
    ")"
   ]
  },
  {
   "cell_type": "code",
   "execution_count": 56,
   "metadata": {},
   "outputs": [],
   "source": [
    "now = pd.Timestamp.now().date() #сегодняшняя дата"
   ]
  },
  {
   "cell_type": "code",
   "execution_count": 57,
   "metadata": {},
   "outputs": [],
   "source": [
    "def days_exposition_today(row): #Функция, подставляющая на место пропуска разницу дат\n",
    "    row_null = row.isnull()\n",
    "    if row_null['days_exposition'] == True:\n",
    "        return (now - row['first_day_exposition'].date()).days #разница дат\n",
    "    return row['days_exposition']"
   ]
  },
  {
   "cell_type": "code",
   "execution_count": 58,
   "metadata": {},
   "outputs": [],
   "source": [
    "estate_work_data['days_exposition'] = estate_work_data.apply(days_exposition_today, axis=1)"
   ]
  },
  {
   "cell_type": "code",
   "execution_count": 59,
   "metadata": {},
   "outputs": [
    {
     "data": {
      "text/plain": [
       "total_images               0\n",
       "last_price                 0\n",
       "total_area                 0\n",
       "first_day_exposition       0\n",
       "rooms                      0\n",
       "ceiling_height             0\n",
       "floors_total               0\n",
       "living_area                0\n",
       "floor                      0\n",
       "is_apartment               0\n",
       "studio                     0\n",
       "open_plan                  0\n",
       "kitchen_area               0\n",
       "balcony                    0\n",
       "locality_name              0\n",
       "airports_nearest        5337\n",
       "cityCenters_nearest     5314\n",
       "parks_around3000        5313\n",
       "ponds_around3000        5313\n",
       "days_exposition            0\n",
       "dtype: int64"
      ]
     },
     "execution_count": 59,
     "metadata": {},
     "output_type": "execute_result"
    }
   ],
   "source": [
    "estate_work_data.isnull().sum()"
   ]
  },
  {
   "cell_type": "markdown",
   "metadata": {},
   "source": [
    "Приведем данные к нужынм типам"
   ]
  },
  {
   "cell_type": "code",
   "execution_count": 60,
   "metadata": {},
   "outputs": [
    {
     "name": "stdout",
     "output_type": "stream",
     "text": [
      "<class 'pandas.core.frame.DataFrame'>\n",
      "Int64Index: 23268 entries, 0 to 23698\n",
      "Data columns (total 20 columns):\n",
      "total_images            23268 non-null int64\n",
      "last_price              23268 non-null float64\n",
      "total_area              23268 non-null float64\n",
      "first_day_exposition    23268 non-null datetime64[ns]\n",
      "rooms                   23268 non-null int64\n",
      "ceiling_height          23268 non-null float64\n",
      "floors_total            23268 non-null float64\n",
      "living_area             23268 non-null float64\n",
      "floor                   23268 non-null int64\n",
      "is_apartment            23268 non-null bool\n",
      "studio                  23268 non-null bool\n",
      "open_plan               23268 non-null bool\n",
      "kitchen_area            23268 non-null float64\n",
      "balcony                 23268 non-null float64\n",
      "locality_name           23268 non-null object\n",
      "airports_nearest        17931 non-null float64\n",
      "cityCenters_nearest     17954 non-null float64\n",
      "parks_around3000        17955 non-null object\n",
      "ponds_around3000        17955 non-null object\n",
      "days_exposition         23268 non-null float64\n",
      "dtypes: bool(3), datetime64[ns](1), float64(10), int64(3), object(3)\n",
      "memory usage: 3.3+ MB\n"
     ]
    }
   ],
   "source": [
    "estate_work_data.info()"
   ]
  },
  {
   "cell_type": "code",
   "execution_count": 61,
   "metadata": {},
   "outputs": [],
   "source": [
    "estate_work_data['last_price'] = estate_work_data['last_price'].astype('int')\n",
    "#Цена исцесляется большими сумма, копейки можно округлить\n",
    "estate_work_data['floors_total'] = estate_work_data['floors_total'].astype('int')\n",
    "#количество этажей не может быть дробным\n",
    "estate_work_data['balcony'] = estate_work_data['balcony'].astype('int')\n",
    "#количество балконов не может быть дробным\n",
    "estate_work_data['days_exposition'] = estate_work_data['days_exposition'].astype('int')\n",
    "#количество дней размещения публикации можно округлить"
   ]
  },
  {
   "cell_type": "code",
   "execution_count": 62,
   "metadata": {},
   "outputs": [],
   "source": [
    "estate_work_data['locality_name'] = estate_work_data['locality_name'].str.lower()\n",
    "#чтобы избижать дубликаты в названиях, приведём всё к общему виду"
   ]
  },
  {
   "cell_type": "code",
   "execution_count": 63,
   "metadata": {},
   "outputs": [
    {
     "data": {
      "text/plain": [
       "0"
      ]
     },
     "execution_count": 63,
     "metadata": {},
     "output_type": "execute_result"
    }
   ],
   "source": [
    "estate_work_data.duplicated().sum()"
   ]
  },
  {
   "cell_type": "markdown",
   "metadata": {},
   "source": [
    "## Рассчёты и добавление результатов в таблицу\n",
    "Рассчитаем некоторые характеристики:    \n",
    "- цену квадратного метра;\n",
    "- день недели, месяц и год публикации объявления;\n",
    "- этаж квартиры; варианты — первый, последний, другой;\n",
    "- соотношение жилой и общей площади, а также отношение площади кухни к общей."
   ]
  },
  {
   "cell_type": "code",
   "execution_count": 64,
   "metadata": {},
   "outputs": [],
   "source": [
    "estate_work_data['price_per_square'] = (estate_work_data['last_price'] / estate_work_data['total_area']).astype('int')\n",
    "#цена за кквадратный метр"
   ]
  },
  {
   "cell_type": "code",
   "execution_count": 65,
   "metadata": {},
   "outputs": [],
   "source": [
    "estate_work_data['publication_week_day'] = estate_work_data['first_day_exposition'].dt.weekday\n",
    "estate_work_data['publication_month'] = estate_work_data['first_day_exposition'].dt.month\n",
    "estate_work_data['publication_year'] = estate_work_data['first_day_exposition'].dt.year\n",
    "#Добавили день, месяц и год публикации"
   ]
  },
  {
   "cell_type": "code",
   "execution_count": 66,
   "metadata": {},
   "outputs": [],
   "source": [
    "def floor_type(row): # Функция, для определения типа этажа\n",
    "    if (row['floor'] == 1) or (row['floor'] == 0):\n",
    "        return 'первый'\n",
    "    if row['floor'] == row['floors_total']:\n",
    "        return 'последний'\n",
    "    return 'другой'"
   ]
  },
  {
   "cell_type": "code",
   "execution_count": 67,
   "metadata": {},
   "outputs": [],
   "source": [
    "estate_work_data['floor_type'] = estate_work_data.apply(floor_type,axis=1)\n",
    "#Добавили тип этажа в таблицу"
   ]
  },
  {
   "cell_type": "code",
   "execution_count": 68,
   "metadata": {},
   "outputs": [],
   "source": [
    "estate_work_data['kitchen_ratio'] = round(estate_work_data['kitchen_area'] / estate_work_data['total_area'], 4)\n",
    "estate_work_data['living_ratio'] = round(estate_work_data['living_area'] / estate_work_data['total_area'],4)\n",
    "#Добавили отношение кухнии и жилой площади к общей площади"
   ]
  },
  {
   "cell_type": "code",
   "execution_count": 69,
   "metadata": {},
   "outputs": [
    {
     "data": {
      "text/html": [
       "<div>\n",
       "<style scoped>\n",
       "    .dataframe tbody tr th:only-of-type {\n",
       "        vertical-align: middle;\n",
       "    }\n",
       "\n",
       "    .dataframe tbody tr th {\n",
       "        vertical-align: top;\n",
       "    }\n",
       "\n",
       "    .dataframe thead th {\n",
       "        text-align: right;\n",
       "    }\n",
       "</style>\n",
       "<table border=\"1\" class=\"dataframe\">\n",
       "  <thead>\n",
       "    <tr style=\"text-align: right;\">\n",
       "      <th></th>\n",
       "      <th>total_images</th>\n",
       "      <th>last_price</th>\n",
       "      <th>total_area</th>\n",
       "      <th>first_day_exposition</th>\n",
       "      <th>rooms</th>\n",
       "      <th>ceiling_height</th>\n",
       "      <th>floors_total</th>\n",
       "      <th>living_area</th>\n",
       "      <th>floor</th>\n",
       "      <th>is_apartment</th>\n",
       "      <th>...</th>\n",
       "      <th>parks_around3000</th>\n",
       "      <th>ponds_around3000</th>\n",
       "      <th>days_exposition</th>\n",
       "      <th>price_per_square</th>\n",
       "      <th>publication_week_day</th>\n",
       "      <th>publication_month</th>\n",
       "      <th>publication_year</th>\n",
       "      <th>floor_type</th>\n",
       "      <th>kitchen_ratio</th>\n",
       "      <th>living_ratio</th>\n",
       "    </tr>\n",
       "  </thead>\n",
       "  <tbody>\n",
       "    <tr>\n",
       "      <td>0</td>\n",
       "      <td>20</td>\n",
       "      <td>13000000</td>\n",
       "      <td>108.0</td>\n",
       "      <td>2019-03-07</td>\n",
       "      <td>3</td>\n",
       "      <td>2.70</td>\n",
       "      <td>16</td>\n",
       "      <td>51.0</td>\n",
       "      <td>8</td>\n",
       "      <td>False</td>\n",
       "      <td>...</td>\n",
       "      <td>True</td>\n",
       "      <td>True</td>\n",
       "      <td>827</td>\n",
       "      <td>120370</td>\n",
       "      <td>3</td>\n",
       "      <td>3</td>\n",
       "      <td>2019</td>\n",
       "      <td>другой</td>\n",
       "      <td>0.2315</td>\n",
       "      <td>0.4722</td>\n",
       "    </tr>\n",
       "    <tr>\n",
       "      <td>1</td>\n",
       "      <td>7</td>\n",
       "      <td>3350000</td>\n",
       "      <td>40.4</td>\n",
       "      <td>2018-12-04</td>\n",
       "      <td>1</td>\n",
       "      <td>2.63</td>\n",
       "      <td>11</td>\n",
       "      <td>18.6</td>\n",
       "      <td>1</td>\n",
       "      <td>False</td>\n",
       "      <td>...</td>\n",
       "      <td>False</td>\n",
       "      <td>False</td>\n",
       "      <td>81</td>\n",
       "      <td>82920</td>\n",
       "      <td>1</td>\n",
       "      <td>12</td>\n",
       "      <td>2018</td>\n",
       "      <td>первый</td>\n",
       "      <td>0.2723</td>\n",
       "      <td>0.4604</td>\n",
       "    </tr>\n",
       "    <tr>\n",
       "      <td>2</td>\n",
       "      <td>10</td>\n",
       "      <td>5196000</td>\n",
       "      <td>56.0</td>\n",
       "      <td>2015-08-20</td>\n",
       "      <td>2</td>\n",
       "      <td>2.70</td>\n",
       "      <td>5</td>\n",
       "      <td>34.3</td>\n",
       "      <td>4</td>\n",
       "      <td>False</td>\n",
       "      <td>...</td>\n",
       "      <td>True</td>\n",
       "      <td>True</td>\n",
       "      <td>558</td>\n",
       "      <td>92785</td>\n",
       "      <td>3</td>\n",
       "      <td>8</td>\n",
       "      <td>2015</td>\n",
       "      <td>другой</td>\n",
       "      <td>0.1482</td>\n",
       "      <td>0.6125</td>\n",
       "    </tr>\n",
       "    <tr>\n",
       "      <td>3</td>\n",
       "      <td>0</td>\n",
       "      <td>64900000</td>\n",
       "      <td>159.0</td>\n",
       "      <td>2015-07-24</td>\n",
       "      <td>3</td>\n",
       "      <td>2.70</td>\n",
       "      <td>14</td>\n",
       "      <td>95.0</td>\n",
       "      <td>9</td>\n",
       "      <td>False</td>\n",
       "      <td>...</td>\n",
       "      <td>True</td>\n",
       "      <td>True</td>\n",
       "      <td>424</td>\n",
       "      <td>408176</td>\n",
       "      <td>4</td>\n",
       "      <td>7</td>\n",
       "      <td>2015</td>\n",
       "      <td>другой</td>\n",
       "      <td>0.0943</td>\n",
       "      <td>0.5975</td>\n",
       "    </tr>\n",
       "    <tr>\n",
       "      <td>4</td>\n",
       "      <td>2</td>\n",
       "      <td>10000000</td>\n",
       "      <td>100.0</td>\n",
       "      <td>2018-06-19</td>\n",
       "      <td>2</td>\n",
       "      <td>3.03</td>\n",
       "      <td>14</td>\n",
       "      <td>32.0</td>\n",
       "      <td>13</td>\n",
       "      <td>False</td>\n",
       "      <td>...</td>\n",
       "      <td>True</td>\n",
       "      <td>True</td>\n",
       "      <td>121</td>\n",
       "      <td>100000</td>\n",
       "      <td>1</td>\n",
       "      <td>6</td>\n",
       "      <td>2018</td>\n",
       "      <td>другой</td>\n",
       "      <td>0.4100</td>\n",
       "      <td>0.3200</td>\n",
       "    </tr>\n",
       "  </tbody>\n",
       "</table>\n",
       "<p>5 rows × 27 columns</p>\n",
       "</div>"
      ],
      "text/plain": [
       "   total_images  last_price  total_area first_day_exposition  rooms  \\\n",
       "0            20    13000000       108.0           2019-03-07      3   \n",
       "1             7     3350000        40.4           2018-12-04      1   \n",
       "2            10     5196000        56.0           2015-08-20      2   \n",
       "3             0    64900000       159.0           2015-07-24      3   \n",
       "4             2    10000000       100.0           2018-06-19      2   \n",
       "\n",
       "   ceiling_height  floors_total  living_area  floor  is_apartment  ...  \\\n",
       "0            2.70            16         51.0      8         False  ...   \n",
       "1            2.63            11         18.6      1         False  ...   \n",
       "2            2.70             5         34.3      4         False  ...   \n",
       "3            2.70            14         95.0      9         False  ...   \n",
       "4            3.03            14         32.0     13         False  ...   \n",
       "\n",
       "   parks_around3000  ponds_around3000  days_exposition  price_per_square  \\\n",
       "0              True              True              827            120370   \n",
       "1             False             False               81             82920   \n",
       "2              True              True              558             92785   \n",
       "3              True              True              424            408176   \n",
       "4              True              True              121            100000   \n",
       "\n",
       "  publication_week_day  publication_month  publication_year floor_type  \\\n",
       "0                    3                  3              2019     другой   \n",
       "1                    1                 12              2018     первый   \n",
       "2                    3                  8              2015     другой   \n",
       "3                    4                  7              2015     другой   \n",
       "4                    1                  6              2018     другой   \n",
       "\n",
       "  kitchen_ratio  living_ratio  \n",
       "0        0.2315        0.4722  \n",
       "1        0.2723        0.4604  \n",
       "2        0.1482        0.6125  \n",
       "3        0.0943        0.5975  \n",
       "4        0.4100        0.3200  \n",
       "\n",
       "[5 rows x 27 columns]"
      ]
     },
     "execution_count": 69,
     "metadata": {},
     "output_type": "execute_result"
    }
   ],
   "source": [
    "estate_work_data.head()"
   ]
  },
  {
   "cell_type": "markdown",
   "metadata": {},
   "source": [
    "## Исследовательский анализ данных"
   ]
  },
  {
   "cell_type": "markdown",
   "metadata": {},
   "source": [
    "Изучим следующие параметры: площадь, цена, число комнат, высота потолков. Построим гистограммы для каждого параметра.\n",
    "Начнем с площади."
   ]
  },
  {
   "cell_type": "code",
   "execution_count": 70,
   "metadata": {},
   "outputs": [
    {
     "data": {
      "text/plain": [
       "count    23268.000000\n",
       "mean        60.153257\n",
       "std         34.436850\n",
       "min         14.000000\n",
       "25%         40.000000\n",
       "50%         52.000000\n",
       "75%         69.825000\n",
       "max        900.000000\n",
       "Name: total_area, dtype: float64"
      ]
     },
     "execution_count": 70,
     "metadata": {},
     "output_type": "execute_result"
    }
   ],
   "source": [
    "estate_work_data['total_area'].describe() "
   ]
  },
  {
   "cell_type": "markdown",
   "metadata": {},
   "source": [
    "Рассмотрим значения из области (100,900)"
   ]
  },
  {
   "cell_type": "code",
   "execution_count": 71,
   "metadata": {},
   "outputs": [
    {
     "data": {
      "text/plain": [
       "<matplotlib.axes._subplots.AxesSubplot at 0x7fbf1df53650>"
      ]
     },
     "execution_count": 71,
     "metadata": {},
     "output_type": "execute_result"
    },
    {
     "data": {
      "image/png": "[encoded data removed]",
      "text/plain": [
       "<Figure size 432x288 with 1 Axes>"
      ]
     },
     "metadata": {
      "needs_background": "light"
     },
     "output_type": "display_data"
    }
   ],
   "source": [
    "estate_work_data['total_area'].hist(bins=100, range=(100,900))"
   ]
  },
  {
   "cell_type": "code",
   "execution_count": 72,
   "metadata": {},
   "outputs": [],
   "source": [
    "erea_data = estate_work_data[\n",
    "    estate_work_data['total_area'] > 250\n",
    "].loc[\n",
    "    :,['total_area','living_area','kitchen_area','rooms']\n",
    "]"
   ]
  },
  {
   "cell_type": "code",
   "execution_count": 73,
   "metadata": {},
   "outputs": [
    {
     "data": {
      "text/html": [
       "<div>\n",
       "<style scoped>\n",
       "    .dataframe tbody tr th:only-of-type {\n",
       "        vertical-align: middle;\n",
       "    }\n",
       "\n",
       "    .dataframe tbody tr th {\n",
       "        vertical-align: top;\n",
       "    }\n",
       "\n",
       "    .dataframe thead th {\n",
       "        text-align: right;\n",
       "    }\n",
       "</style>\n",
       "<table border=\"1\" class=\"dataframe\">\n",
       "  <thead>\n",
       "    <tr style=\"text-align: right;\">\n",
       "      <th></th>\n",
       "      <th>total_area</th>\n",
       "      <th>living_area</th>\n",
       "      <th>kitchen_area</th>\n",
       "      <th>rooms</th>\n",
       "    </tr>\n",
       "  </thead>\n",
       "  <tbody>\n",
       "    <tr>\n",
       "      <td>total_area</td>\n",
       "      <td>1.000000</td>\n",
       "      <td>0.733731</td>\n",
       "      <td>0.471481</td>\n",
       "      <td>0.337456</td>\n",
       "    </tr>\n",
       "    <tr>\n",
       "      <td>living_area</td>\n",
       "      <td>0.733731</td>\n",
       "      <td>1.000000</td>\n",
       "      <td>0.381735</td>\n",
       "      <td>0.422340</td>\n",
       "    </tr>\n",
       "    <tr>\n",
       "      <td>kitchen_area</td>\n",
       "      <td>0.471481</td>\n",
       "      <td>0.381735</td>\n",
       "      <td>1.000000</td>\n",
       "      <td>0.043045</td>\n",
       "    </tr>\n",
       "    <tr>\n",
       "      <td>rooms</td>\n",
       "      <td>0.337456</td>\n",
       "      <td>0.422340</td>\n",
       "      <td>0.043045</td>\n",
       "      <td>1.000000</td>\n",
       "    </tr>\n",
       "  </tbody>\n",
       "</table>\n",
       "</div>"
      ],
      "text/plain": [
       "              total_area  living_area  kitchen_area     rooms\n",
       "total_area      1.000000     0.733731      0.471481  0.337456\n",
       "living_area     0.733731     1.000000      0.381735  0.422340\n",
       "kitchen_area    0.471481     0.381735      1.000000  0.043045\n",
       "rooms           0.337456     0.422340      0.043045  1.000000"
      ]
     },
     "execution_count": 73,
     "metadata": {},
     "output_type": "execute_result"
    }
   ],
   "source": [
    "erea_data.corr()"
   ]
  },
  {
   "cell_type": "code",
   "execution_count": 74,
   "metadata": {},
   "outputs": [
    {
     "data": {
      "text/html": [
       "<div>\n",
       "<style scoped>\n",
       "    .dataframe tbody tr th:only-of-type {\n",
       "        vertical-align: middle;\n",
       "    }\n",
       "\n",
       "    .dataframe tbody tr th {\n",
       "        vertical-align: top;\n",
       "    }\n",
       "\n",
       "    .dataframe thead th {\n",
       "        text-align: right;\n",
       "    }\n",
       "</style>\n",
       "<table border=\"1\" class=\"dataframe\">\n",
       "  <thead>\n",
       "    <tr style=\"text-align: right;\">\n",
       "      <th></th>\n",
       "      <th>total_area</th>\n",
       "      <th>living_area</th>\n",
       "      <th>kitchen_area</th>\n",
       "      <th>rooms</th>\n",
       "    </tr>\n",
       "  </thead>\n",
       "  <tbody>\n",
       "    <tr>\n",
       "      <td>count</td>\n",
       "      <td>96.000000</td>\n",
       "      <td>96.000000</td>\n",
       "      <td>96.000000</td>\n",
       "      <td>96.000000</td>\n",
       "    </tr>\n",
       "    <tr>\n",
       "      <td>mean</td>\n",
       "      <td>339.731771</td>\n",
       "      <td>193.437812</td>\n",
       "      <td>34.129792</td>\n",
       "      <td>6.364583</td>\n",
       "    </tr>\n",
       "    <tr>\n",
       "      <td>std</td>\n",
       "      <td>102.557141</td>\n",
       "      <td>65.313945</td>\n",
       "      <td>18.776289</td>\n",
       "      <td>2.632269</td>\n",
       "    </tr>\n",
       "    <tr>\n",
       "      <td>min</td>\n",
       "      <td>250.200000</td>\n",
       "      <td>74.000000</td>\n",
       "      <td>10.000000</td>\n",
       "      <td>3.000000</td>\n",
       "    </tr>\n",
       "    <tr>\n",
       "      <td>25%</td>\n",
       "      <td>276.950000</td>\n",
       "      <td>154.800000</td>\n",
       "      <td>21.000000</td>\n",
       "      <td>5.000000</td>\n",
       "    </tr>\n",
       "    <tr>\n",
       "      <td>50%</td>\n",
       "      <td>300.950000</td>\n",
       "      <td>181.900000</td>\n",
       "      <td>29.100000</td>\n",
       "      <td>6.000000</td>\n",
       "    </tr>\n",
       "    <tr>\n",
       "      <td>75%</td>\n",
       "      <td>374.150000</td>\n",
       "      <td>226.925000</td>\n",
       "      <td>42.000000</td>\n",
       "      <td>7.000000</td>\n",
       "    </tr>\n",
       "    <tr>\n",
       "      <td>max</td>\n",
       "      <td>900.000000</td>\n",
       "      <td>409.700000</td>\n",
       "      <td>112.000000</td>\n",
       "      <td>19.000000</td>\n",
       "    </tr>\n",
       "  </tbody>\n",
       "</table>\n",
       "</div>"
      ],
      "text/plain": [
       "       total_area  living_area  kitchen_area      rooms\n",
       "count   96.000000    96.000000     96.000000  96.000000\n",
       "mean   339.731771   193.437812     34.129792   6.364583\n",
       "std    102.557141    65.313945     18.776289   2.632269\n",
       "min    250.200000    74.000000     10.000000   3.000000\n",
       "25%    276.950000   154.800000     21.000000   5.000000\n",
       "50%    300.950000   181.900000     29.100000   6.000000\n",
       "75%    374.150000   226.925000     42.000000   7.000000\n",
       "max    900.000000   409.700000    112.000000  19.000000"
      ]
     },
     "execution_count": 74,
     "metadata": {},
     "output_type": "execute_result"
    }
   ],
   "source": [
    "erea_data.describe()"
   ]
  },
  {
   "cell_type": "markdown",
   "metadata": {},
   "source": [
    "Значения неожиданно слабо коррелируют, предположим, что значения больше 500 - выбросы"
   ]
  },
  {
   "cell_type": "markdown",
   "metadata": {},
   "source": [
    "Проверим мелнеькие значения на выбросы."
   ]
  },
  {
   "cell_type": "code",
   "execution_count": 75,
   "metadata": {},
   "outputs": [
    {
     "data": {
      "text/plain": [
       "<matplotlib.axes._subplots.AxesSubplot at 0x7fbf1daf1390>"
      ]
     },
     "execution_count": 75,
     "metadata": {},
     "output_type": "execute_result"
    },
    {
     "data": {
      "image/png": "[encoded data removed]",
      "text/plain": [
       "<Figure size 432x288 with 1 Axes>"
      ]
     },
     "metadata": {
      "needs_background": "light"
     },
     "output_type": "display_data"
    }
   ],
   "source": [
    "estate_work_data['total_area'].hist(bins=100,range=(0,45))"
   ]
  },
  {
   "cell_type": "code",
   "execution_count": 76,
   "metadata": {
    "scrolled": true
   },
   "outputs": [
    {
     "data": {
      "text/html": [
       "<div>\n",
       "<style scoped>\n",
       "    .dataframe tbody tr th:only-of-type {\n",
       "        vertical-align: middle;\n",
       "    }\n",
       "\n",
       "    .dataframe tbody tr th {\n",
       "        vertical-align: top;\n",
       "    }\n",
       "\n",
       "    .dataframe thead th {\n",
       "        text-align: right;\n",
       "    }\n",
       "</style>\n",
       "<table border=\"1\" class=\"dataframe\">\n",
       "  <thead>\n",
       "    <tr style=\"text-align: right;\">\n",
       "      <th></th>\n",
       "      <th>total_images</th>\n",
       "      <th>last_price</th>\n",
       "      <th>total_area</th>\n",
       "      <th>first_day_exposition</th>\n",
       "      <th>rooms</th>\n",
       "      <th>ceiling_height</th>\n",
       "      <th>floors_total</th>\n",
       "      <th>living_area</th>\n",
       "      <th>floor</th>\n",
       "      <th>is_apartment</th>\n",
       "      <th>...</th>\n",
       "      <th>parks_around3000</th>\n",
       "      <th>ponds_around3000</th>\n",
       "      <th>days_exposition</th>\n",
       "      <th>price_per_square</th>\n",
       "      <th>publication_week_day</th>\n",
       "      <th>publication_month</th>\n",
       "      <th>publication_year</th>\n",
       "      <th>floor_type</th>\n",
       "      <th>kitchen_ratio</th>\n",
       "      <th>living_ratio</th>\n",
       "    </tr>\n",
       "  </thead>\n",
       "  <tbody>\n",
       "    <tr>\n",
       "      <td>716</td>\n",
       "      <td>5</td>\n",
       "      <td>1500000</td>\n",
       "      <td>17.0</td>\n",
       "      <td>2017-06-07</td>\n",
       "      <td>0</td>\n",
       "      <td>2.70</td>\n",
       "      <td>9</td>\n",
       "      <td>12.0</td>\n",
       "      <td>1</td>\n",
       "      <td>False</td>\n",
       "      <td>...</td>\n",
       "      <td>False</td>\n",
       "      <td>False</td>\n",
       "      <td>40</td>\n",
       "      <td>88235</td>\n",
       "      <td>2</td>\n",
       "      <td>6</td>\n",
       "      <td>2017</td>\n",
       "      <td>первый</td>\n",
       "      <td>0.1176</td>\n",
       "      <td>0.7059</td>\n",
       "    </tr>\n",
       "    <tr>\n",
       "      <td>4542</td>\n",
       "      <td>12</td>\n",
       "      <td>3300000</td>\n",
       "      <td>18.0</td>\n",
       "      <td>2018-11-07</td>\n",
       "      <td>1</td>\n",
       "      <td>3.50</td>\n",
       "      <td>5</td>\n",
       "      <td>9.0</td>\n",
       "      <td>2</td>\n",
       "      <td>False</td>\n",
       "      <td>...</td>\n",
       "      <td>True</td>\n",
       "      <td>True</td>\n",
       "      <td>9</td>\n",
       "      <td>183333</td>\n",
       "      <td>2</td>\n",
       "      <td>11</td>\n",
       "      <td>2018</td>\n",
       "      <td>другой</td>\n",
       "      <td>0.1389</td>\n",
       "      <td>0.5000</td>\n",
       "    </tr>\n",
       "    <tr>\n",
       "      <td>5855</td>\n",
       "      <td>3</td>\n",
       "      <td>945750</td>\n",
       "      <td>19.5</td>\n",
       "      <td>2017-09-18</td>\n",
       "      <td>0</td>\n",
       "      <td>2.76</td>\n",
       "      <td>3</td>\n",
       "      <td>12.7</td>\n",
       "      <td>2</td>\n",
       "      <td>False</td>\n",
       "      <td>...</td>\n",
       "      <td>None</td>\n",
       "      <td>None</td>\n",
       "      <td>3</td>\n",
       "      <td>48500</td>\n",
       "      <td>0</td>\n",
       "      <td>9</td>\n",
       "      <td>2017</td>\n",
       "      <td>другой</td>\n",
       "      <td>0.1026</td>\n",
       "      <td>0.6513</td>\n",
       "    </tr>\n",
       "    <tr>\n",
       "      <td>6084</td>\n",
       "      <td>6</td>\n",
       "      <td>770000</td>\n",
       "      <td>18.0</td>\n",
       "      <td>2017-10-16</td>\n",
       "      <td>1</td>\n",
       "      <td>2.60</td>\n",
       "      <td>5</td>\n",
       "      <td>13.0</td>\n",
       "      <td>4</td>\n",
       "      <td>False</td>\n",
       "      <td>...</td>\n",
       "      <td>None</td>\n",
       "      <td>None</td>\n",
       "      <td>90</td>\n",
       "      <td>42777</td>\n",
       "      <td>0</td>\n",
       "      <td>10</td>\n",
       "      <td>2017</td>\n",
       "      <td>другой</td>\n",
       "      <td>0.1667</td>\n",
       "      <td>0.7222</td>\n",
       "    </tr>\n",
       "    <tr>\n",
       "      <td>8454</td>\n",
       "      <td>7</td>\n",
       "      <td>2250000</td>\n",
       "      <td>19.0</td>\n",
       "      <td>2019-03-12</td>\n",
       "      <td>0</td>\n",
       "      <td>3.00</td>\n",
       "      <td>6</td>\n",
       "      <td>15.0</td>\n",
       "      <td>2</td>\n",
       "      <td>False</td>\n",
       "      <td>...</td>\n",
       "      <td>True</td>\n",
       "      <td>True</td>\n",
       "      <td>44</td>\n",
       "      <td>118421</td>\n",
       "      <td>1</td>\n",
       "      <td>3</td>\n",
       "      <td>2019</td>\n",
       "      <td>другой</td>\n",
       "      <td>0.1053</td>\n",
       "      <td>0.7895</td>\n",
       "    </tr>\n",
       "    <tr>\n",
       "      <td>8729</td>\n",
       "      <td>9</td>\n",
       "      <td>2200000</td>\n",
       "      <td>18.4</td>\n",
       "      <td>2018-08-20</td>\n",
       "      <td>1</td>\n",
       "      <td>2.52</td>\n",
       "      <td>3</td>\n",
       "      <td>14.0</td>\n",
       "      <td>3</td>\n",
       "      <td>False</td>\n",
       "      <td>...</td>\n",
       "      <td>False</td>\n",
       "      <td>True</td>\n",
       "      <td>59</td>\n",
       "      <td>119565</td>\n",
       "      <td>0</td>\n",
       "      <td>8</td>\n",
       "      <td>2018</td>\n",
       "      <td>последний</td>\n",
       "      <td>0.1304</td>\n",
       "      <td>0.7609</td>\n",
       "    </tr>\n",
       "    <tr>\n",
       "      <td>8755</td>\n",
       "      <td>1</td>\n",
       "      <td>1350000</td>\n",
       "      <td>18.8</td>\n",
       "      <td>2017-11-22</td>\n",
       "      <td>0</td>\n",
       "      <td>2.75</td>\n",
       "      <td>19</td>\n",
       "      <td>15.8</td>\n",
       "      <td>1</td>\n",
       "      <td>False</td>\n",
       "      <td>...</td>\n",
       "      <td>False</td>\n",
       "      <td>True</td>\n",
       "      <td>128</td>\n",
       "      <td>71808</td>\n",
       "      <td>2</td>\n",
       "      <td>11</td>\n",
       "      <td>2017</td>\n",
       "      <td>первый</td>\n",
       "      <td>0.1064</td>\n",
       "      <td>0.8404</td>\n",
       "    </tr>\n",
       "    <tr>\n",
       "      <td>8886</td>\n",
       "      <td>10</td>\n",
       "      <td>2450000</td>\n",
       "      <td>15.5</td>\n",
       "      <td>2018-08-22</td>\n",
       "      <td>0</td>\n",
       "      <td>2.70</td>\n",
       "      <td>5</td>\n",
       "      <td>10.0</td>\n",
       "      <td>2</td>\n",
       "      <td>False</td>\n",
       "      <td>...</td>\n",
       "      <td>False</td>\n",
       "      <td>True</td>\n",
       "      <td>27</td>\n",
       "      <td>158064</td>\n",
       "      <td>2</td>\n",
       "      <td>8</td>\n",
       "      <td>2018</td>\n",
       "      <td>другой</td>\n",
       "      <td>0.1290</td>\n",
       "      <td>0.6452</td>\n",
       "    </tr>\n",
       "    <tr>\n",
       "      <td>9817</td>\n",
       "      <td>8</td>\n",
       "      <td>2190000</td>\n",
       "      <td>19.0</td>\n",
       "      <td>2018-10-12</td>\n",
       "      <td>0</td>\n",
       "      <td>3.50</td>\n",
       "      <td>5</td>\n",
       "      <td>15.0</td>\n",
       "      <td>1</td>\n",
       "      <td>False</td>\n",
       "      <td>...</td>\n",
       "      <td>True</td>\n",
       "      <td>True</td>\n",
       "      <td>89</td>\n",
       "      <td>115263</td>\n",
       "      <td>4</td>\n",
       "      <td>10</td>\n",
       "      <td>2018</td>\n",
       "      <td>первый</td>\n",
       "      <td>0.1053</td>\n",
       "      <td>0.7895</td>\n",
       "    </tr>\n",
       "    <tr>\n",
       "      <td>10208</td>\n",
       "      <td>3</td>\n",
       "      <td>1900000</td>\n",
       "      <td>17.0</td>\n",
       "      <td>2018-08-14</td>\n",
       "      <td>1</td>\n",
       "      <td>2.75</td>\n",
       "      <td>4</td>\n",
       "      <td>13.0</td>\n",
       "      <td>2</td>\n",
       "      <td>False</td>\n",
       "      <td>...</td>\n",
       "      <td>False</td>\n",
       "      <td>False</td>\n",
       "      <td>7</td>\n",
       "      <td>111764</td>\n",
       "      <td>1</td>\n",
       "      <td>8</td>\n",
       "      <td>2018</td>\n",
       "      <td>другой</td>\n",
       "      <td>0.1765</td>\n",
       "      <td>0.7647</td>\n",
       "    </tr>\n",
       "    <tr>\n",
       "      <td>12996</td>\n",
       "      <td>8</td>\n",
       "      <td>1900000</td>\n",
       "      <td>18.0</td>\n",
       "      <td>2019-01-25</td>\n",
       "      <td>0</td>\n",
       "      <td>2.60</td>\n",
       "      <td>5</td>\n",
       "      <td>16.0</td>\n",
       "      <td>3</td>\n",
       "      <td>False</td>\n",
       "      <td>...</td>\n",
       "      <td>True</td>\n",
       "      <td>True</td>\n",
       "      <td>10</td>\n",
       "      <td>105555</td>\n",
       "      <td>4</td>\n",
       "      <td>1</td>\n",
       "      <td>2019</td>\n",
       "      <td>другой</td>\n",
       "      <td>0.1111</td>\n",
       "      <td>0.8889</td>\n",
       "    </tr>\n",
       "    <tr>\n",
       "      <td>19311</td>\n",
       "      <td>12</td>\n",
       "      <td>2190000</td>\n",
       "      <td>18.0</td>\n",
       "      <td>2015-03-29</td>\n",
       "      <td>1</td>\n",
       "      <td>2.70</td>\n",
       "      <td>2</td>\n",
       "      <td>10.0</td>\n",
       "      <td>1</td>\n",
       "      <td>False</td>\n",
       "      <td>...</td>\n",
       "      <td>False</td>\n",
       "      <td>True</td>\n",
       "      <td>702</td>\n",
       "      <td>121666</td>\n",
       "      <td>6</td>\n",
       "      <td>3</td>\n",
       "      <td>2015</td>\n",
       "      <td>первый</td>\n",
       "      <td>0.1389</td>\n",
       "      <td>0.5556</td>\n",
       "    </tr>\n",
       "    <tr>\n",
       "      <td>19642</td>\n",
       "      <td>5</td>\n",
       "      <td>1190000</td>\n",
       "      <td>14.0</td>\n",
       "      <td>2018-07-29</td>\n",
       "      <td>1</td>\n",
       "      <td>2.70</td>\n",
       "      <td>5</td>\n",
       "      <td>11.0</td>\n",
       "      <td>1</td>\n",
       "      <td>False</td>\n",
       "      <td>...</td>\n",
       "      <td>False</td>\n",
       "      <td>False</td>\n",
       "      <td>4</td>\n",
       "      <td>85000</td>\n",
       "      <td>6</td>\n",
       "      <td>7</td>\n",
       "      <td>2018</td>\n",
       "      <td>первый</td>\n",
       "      <td>0.1429</td>\n",
       "      <td>0.7857</td>\n",
       "    </tr>\n",
       "    <tr>\n",
       "      <td>20714</td>\n",
       "      <td>7</td>\n",
       "      <td>1200000</td>\n",
       "      <td>18.0</td>\n",
       "      <td>2018-01-04</td>\n",
       "      <td>1</td>\n",
       "      <td>2.50</td>\n",
       "      <td>4</td>\n",
       "      <td>11.5</td>\n",
       "      <td>4</td>\n",
       "      <td>False</td>\n",
       "      <td>...</td>\n",
       "      <td>None</td>\n",
       "      <td>None</td>\n",
       "      <td>45</td>\n",
       "      <td>66666</td>\n",
       "      <td>3</td>\n",
       "      <td>1</td>\n",
       "      <td>2018</td>\n",
       "      <td>последний</td>\n",
       "      <td>0.1389</td>\n",
       "      <td>0.6389</td>\n",
       "    </tr>\n",
       "  </tbody>\n",
       "</table>\n",
       "<p>14 rows × 27 columns</p>\n",
       "</div>"
      ],
      "text/plain": [
       "       total_images  last_price  total_area first_day_exposition  rooms  \\\n",
       "716               5     1500000        17.0           2017-06-07      0   \n",
       "4542             12     3300000        18.0           2018-11-07      1   \n",
       "5855              3      945750        19.5           2017-09-18      0   \n",
       "6084              6      770000        18.0           2017-10-16      1   \n",
       "8454              7     2250000        19.0           2019-03-12      0   \n",
       "8729              9     2200000        18.4           2018-08-20      1   \n",
       "8755              1     1350000        18.8           2017-11-22      0   \n",
       "8886             10     2450000        15.5           2018-08-22      0   \n",
       "9817              8     2190000        19.0           2018-10-12      0   \n",
       "10208             3     1900000        17.0           2018-08-14      1   \n",
       "12996             8     1900000        18.0           2019-01-25      0   \n",
       "19311            12     2190000        18.0           2015-03-29      1   \n",
       "19642             5     1190000        14.0           2018-07-29      1   \n",
       "20714             7     1200000        18.0           2018-01-04      1   \n",
       "\n",
       "       ceiling_height  floors_total  living_area  floor  is_apartment  ...  \\\n",
       "716              2.70             9         12.0      1         False  ...   \n",
       "4542             3.50             5          9.0      2         False  ...   \n",
       "5855             2.76             3         12.7      2         False  ...   \n",
       "6084             2.60             5         13.0      4         False  ...   \n",
       "8454             3.00             6         15.0      2         False  ...   \n",
       "8729             2.52             3         14.0      3         False  ...   \n",
       "8755             2.75            19         15.8      1         False  ...   \n",
       "8886             2.70             5         10.0      2         False  ...   \n",
       "9817             3.50             5         15.0      1         False  ...   \n",
       "10208            2.75             4         13.0      2         False  ...   \n",
       "12996            2.60             5         16.0      3         False  ...   \n",
       "19311            2.70             2         10.0      1         False  ...   \n",
       "19642            2.70             5         11.0      1         False  ...   \n",
       "20714            2.50             4         11.5      4         False  ...   \n",
       "\n",
       "       parks_around3000  ponds_around3000  days_exposition  price_per_square  \\\n",
       "716               False             False               40             88235   \n",
       "4542               True              True                9            183333   \n",
       "5855               None              None                3             48500   \n",
       "6084               None              None               90             42777   \n",
       "8454               True              True               44            118421   \n",
       "8729              False              True               59            119565   \n",
       "8755              False              True              128             71808   \n",
       "8886              False              True               27            158064   \n",
       "9817               True              True               89            115263   \n",
       "10208             False             False                7            111764   \n",
       "12996              True              True               10            105555   \n",
       "19311             False              True              702            121666   \n",
       "19642             False             False                4             85000   \n",
       "20714              None              None               45             66666   \n",
       "\n",
       "      publication_week_day  publication_month  publication_year floor_type  \\\n",
       "716                      2                  6              2017     первый   \n",
       "4542                     2                 11              2018     другой   \n",
       "5855                     0                  9              2017     другой   \n",
       "6084                     0                 10              2017     другой   \n",
       "8454                     1                  3              2019     другой   \n",
       "8729                     0                  8              2018  последний   \n",
       "8755                     2                 11              2017     первый   \n",
       "8886                     2                  8              2018     другой   \n",
       "9817                     4                 10              2018     первый   \n",
       "10208                    1                  8              2018     другой   \n",
       "12996                    4                  1              2019     другой   \n",
       "19311                    6                  3              2015     первый   \n",
       "19642                    6                  7              2018     первый   \n",
       "20714                    3                  1              2018  последний   \n",
       "\n",
       "      kitchen_ratio  living_ratio  \n",
       "716          0.1176        0.7059  \n",
       "4542         0.1389        0.5000  \n",
       "5855         0.1026        0.6513  \n",
       "6084         0.1667        0.7222  \n",
       "8454         0.1053        0.7895  \n",
       "8729         0.1304        0.7609  \n",
       "8755         0.1064        0.8404  \n",
       "8886         0.1290        0.6452  \n",
       "9817         0.1053        0.7895  \n",
       "10208        0.1765        0.7647  \n",
       "12996        0.1111        0.8889  \n",
       "19311        0.1389        0.5556  \n",
       "19642        0.1429        0.7857  \n",
       "20714        0.1389        0.6389  \n",
       "\n",
       "[14 rows x 27 columns]"
      ]
     },
     "execution_count": 76,
     "metadata": {},
     "output_type": "execute_result"
    }
   ],
   "source": [
    "estate_work_data.query('total_area < 20')"
   ]
  },
  {
   "cell_type": "code",
   "execution_count": null,
   "metadata": {},
   "outputs": [],
   "source": [
    "estate_work_data = estate_work_data.query('total_area < 250')#.reset_index(drop=True)"
   ]
  },
  {
   "cell_type": "code",
   "execution_count": null,
   "metadata": {},
   "outputs": [],
   "source": [
    "estate_work_data['total_area'].hist(bins=100)"
   ]
  },
  {
   "cell_type": "markdown",
   "metadata": {},
   "source": [
    "### Изучим распределение цен"
   ]
  },
  {
   "cell_type": "code",
   "execution_count": 90,
   "metadata": {},
   "outputs": [
    {
     "data": {
      "text/plain": [
       "count    2.326800e+04\n",
       "mean     9.954981e+04\n",
       "std      4.988437e+04\n",
       "min      1.110000e+02\n",
       "25%      7.692300e+04\n",
       "50%      9.508650e+04\n",
       "75%      1.142790e+05\n",
       "max      1.907500e+06\n",
       "Name: price_per_square, dtype: float64"
      ]
     },
     "execution_count": 90,
     "metadata": {},
     "output_type": "execute_result"
    }
   ],
   "source": [
    "estate_work_data['price_per_square'].describe()"
   ]
  },
  {
   "cell_type": "code",
   "execution_count": 91,
   "metadata": {},
   "outputs": [
    {
     "data": {
      "text/plain": [
       "<matplotlib.axes._subplots.AxesSubplot at 0x7fbf1db4db50>"
      ]
     },
     "execution_count": 91,
     "metadata": {},
     "output_type": "execute_result"
    },
    {
     "data": {
      "image/png": "[encoded data removed]",
      "text/plain": [
       "<Figure size 432x288 with 1 Axes>"
      ]
     },
     "metadata": {
      "needs_background": "light"
     },
     "output_type": "display_data"
    }
   ],
   "source": [
    "estate_work_data['price_per_square'].hist(bins=100)"
   ]
  },
  {
   "cell_type": "code",
   "execution_count": 92,
   "metadata": {},
   "outputs": [
    {
     "data": {
      "text/plain": [
       "<matplotlib.axes._subplots.AxesSubplot at 0x7fbf1d778410>"
      ]
     },
     "execution_count": 92,
     "metadata": {},
     "output_type": "execute_result"
    },
    {
     "data": {
      "image/png": "[encoded data removed]",
      "text/plain": [
       "<Figure size 432x288 with 1 Axes>"
      ]
     },
     "metadata": {
      "needs_background": "light"
     },
     "output_type": "display_data"
    }
   ],
   "source": [
    "estate_work_data['price_per_square'].hist(bins=100,range=(250000,2000000))\n",
    "#ищем выбросы"
   ]
  },
  {
   "cell_type": "code",
   "execution_count": 93,
   "metadata": {},
   "outputs": [
    {
     "data": {
      "text/plain": [
       "<matplotlib.axes._subplots.AxesSubplot at 0x7fbf1d643f90>"
      ]
     },
     "execution_count": 93,
     "metadata": {},
     "output_type": "execute_result"
    },
    {
     "data": {
      "image/png": "[encoded data removed]",
      "text/plain": [
       "<Figure size 432x288 with 1 Axes>"
      ]
     },
     "metadata": {
      "needs_background": "light"
     },
     "output_type": "display_data"
    }
   ],
   "source": [
    "estate_work_data['last_price'].hist(bins=100)\n",
    "#ищем выбросы"
   ]
  },
  {
   "cell_type": "code",
   "execution_count": 94,
   "metadata": {},
   "outputs": [
    {
     "data": {
      "text/plain": [
       "<matplotlib.axes._subplots.AxesSubplot at 0x7fbf1d4bec10>"
      ]
     },
     "execution_count": 94,
     "metadata": {},
     "output_type": "execute_result"
    },
    {
     "data": {
      "image/png": "[encoded data removed]",
      "text/plain": [
       "<Figure size 432x288 with 1 Axes>"
      ]
     },
     "metadata": {
      "needs_background": "light"
     },
     "output_type": "display_data"
    }
   ],
   "source": [
    "estate_work_data['last_price'].hist(bins=100,range=(0,1000000))"
   ]
  },
  {
   "cell_type": "markdown",
   "metadata": {},
   "source": [
    "На гистограмме видно, что есть очень дешевые квартиры, до 600тыс., и аномально дешевые, почти ничего не стоят. \n",
    "Отбросим эти значения."
   ]
  },
  {
   "cell_type": "code",
   "execution_count": 95,
   "metadata": {},
   "outputs": [],
   "source": [
    "estate_work_data = estate_work_data.query('last_price > 600000')#.reset_index(drop=True)"
   ]
  },
  {
   "cell_type": "code",
   "execution_count": 96,
   "metadata": {},
   "outputs": [
    {
     "data": {
      "text/plain": [
       "<matplotlib.axes._subplots.AxesSubplot at 0x7fbf1d423490>"
      ]
     },
     "execution_count": 96,
     "metadata": {},
     "output_type": "execute_result"
    },
    {
     "data": {
      "image/png": "[encoded data removed]",
      "text/plain": [
       "<Figure size 432x288 with 1 Axes>"
      ]
     },
     "metadata": {
      "needs_background": "light"
     },
     "output_type": "display_data"
    }
   ],
   "source": [
    "estate_work_data['last_price'].hist(bins=100)"
   ]
  },
  {
   "cell_type": "markdown",
   "metadata": {},
   "source": [
    "Квартиры стоимостью до 5 млн."
   ]
  },
  {
   "cell_type": "code",
   "execution_count": 97,
   "metadata": {},
   "outputs": [
    {
     "data": {
      "text/plain": [
       "<matplotlib.axes._subplots.AxesSubplot at 0x7fbf1d128250>"
      ]
     },
     "execution_count": 97,
     "metadata": {},
     "output_type": "execute_result"
    },
    {
     "data": {
      "image/png": "[encoded data removed]",
      "text/plain": [
       "<Figure size 432x288 with 1 Axes>"
      ]
     },
     "metadata": {
      "needs_background": "light"
     },
     "output_type": "display_data"
    }
   ],
   "source": [
    "estate_work_data['last_price'].hist(bins=100,range=(0,2.5 * 10**7))"
   ]
  },
  {
   "cell_type": "markdown",
   "metadata": {},
   "source": [
    "Квартиры стоимостью от 25 млн."
   ]
  },
  {
   "cell_type": "code",
   "execution_count": 98,
   "metadata": {},
   "outputs": [
    {
     "data": {
      "text/plain": [
       "<matplotlib.axes._subplots.AxesSubplot at 0x7fbf1cea4850>"
      ]
     },
     "execution_count": 98,
     "metadata": {},
     "output_type": "execute_result"
    },
    {
     "data": {
      "image/png": "[encoded data removed]",
      "text/plain": [
       "<Figure size 432x288 with 1 Axes>"
      ]
     },
     "metadata": {
      "needs_background": "light"
     },
     "output_type": "display_data"
    }
   ],
   "source": [
    "estate_work_data['last_price'].hist(bins=100,range=(2.5 * 10**7 , 4 * 10**8))"
   ]
  },
  {
   "cell_type": "markdown",
   "metadata": {},
   "source": [
    "Квартиры не в Саенкт-Петербурге"
   ]
  },
  {
   "cell_type": "code",
   "execution_count": 99,
   "metadata": {},
   "outputs": [
    {
     "data": {
      "text/plain": [
       "<matplotlib.axes._subplots.AxesSubplot at 0x7fbf1cd22090>"
      ]
     },
     "execution_count": 99,
     "metadata": {},
     "output_type": "execute_result"
    },
    {
     "data": {
      "image/png": "[encoded data removed]",
      "text/plain": [
       "<Figure size 432x288 with 1 Axes>"
      ]
     },
     "metadata": {
      "needs_background": "light"
     },
     "output_type": "display_data"
    }
   ],
   "source": [
    "estate_work_data.query('locality_name != \"санкт-петербург\"')['last_price'].hist(bins=100)"
   ]
  },
  {
   "cell_type": "markdown",
   "metadata": {},
   "source": [
    "Из-за Санкт-Петербурга пояляется длинный хвост, но даже с ним можно спокойно отбрасывать все, что дороже 30 млн."
   ]
  },
  {
   "cell_type": "code",
   "execution_count": 100,
   "metadata": {},
   "outputs": [],
   "source": [
    "estate_work_data = estate_work_data.query('last_price < 3 * 10**7')"
   ]
  },
  {
   "cell_type": "code",
   "execution_count": 101,
   "metadata": {},
   "outputs": [
    {
     "data": {
      "text/plain": [
       "count        23.000000\n",
       "mean     392351.608696\n",
       "std      159930.138697\n",
       "min      303460.000000\n",
       "25%      311202.000000\n",
       "50%      331962.000000\n",
       "75%      371325.500000\n",
       "max      848484.000000\n",
       "Name: price_per_square, dtype: float64"
      ]
     },
     "execution_count": 101,
     "metadata": {},
     "output_type": "execute_result"
    }
   ],
   "source": [
    "estate_work_data[estate_work_data['price_per_square'] > 300000]['price_per_square'].describe()\n",
    "#изучаем выбросы"
   ]
  },
  {
   "cell_type": "code",
   "execution_count": 102,
   "metadata": {},
   "outputs": [],
   "source": [
    "estate_work_data = estate_work_data.query('price_per_square < 300000')#.reset_index(drop=True)"
   ]
  },
  {
   "cell_type": "code",
   "execution_count": null,
   "metadata": {},
   "outputs": [],
   "source": [
    "estate_work_data['price_per_square'].hist(bins=100)"
   ]
  },
  {
   "cell_type": "markdown",
   "metadata": {},
   "source": [
    "Распределение выглядит достоверно. В основном, цены за метр квартиры колеблются в райно 85-120 тыс за квадратный метр."
   ]
  },
  {
   "cell_type": "markdown",
   "metadata": {},
   "source": [
    "### Изучим число комнат"
   ]
  },
  {
   "cell_type": "code",
   "execution_count": 103,
   "metadata": {},
   "outputs": [
    {
     "data": {
      "text/plain": [
       "count    22898.000000\n",
       "mean         2.042798\n",
       "std          1.025807\n",
       "min          0.000000\n",
       "25%          1.000000\n",
       "50%          2.000000\n",
       "75%          3.000000\n",
       "max         16.000000\n",
       "Name: rooms, dtype: float64"
      ]
     },
     "execution_count": 103,
     "metadata": {},
     "output_type": "execute_result"
    }
   ],
   "source": [
    "estate_work_data['rooms'].describe()"
   ]
  },
  {
   "cell_type": "code",
   "execution_count": 104,
   "metadata": {},
   "outputs": [
    {
     "data": {
      "text/plain": [
       "<matplotlib.axes._subplots.AxesSubplot at 0x7fbf1cbb30d0>"
      ]
     },
     "execution_count": 104,
     "metadata": {},
     "output_type": "execute_result"
    },
    {
     "data": {
      "image/png": "[encoded data removed]",
      "text/plain": [
       "<Figure size 432x288 with 1 Axes>"
      ]
     },
     "metadata": {
      "needs_background": "light"
     },
     "output_type": "display_data"
    }
   ],
   "source": [
    "estate_work_data['rooms'].hist(bins=100)"
   ]
  },
  {
   "cell_type": "code",
   "execution_count": 105,
   "metadata": {},
   "outputs": [
    {
     "data": {
      "text/plain": [
       "True     136\n",
       "False     44\n",
       "Name: studio, dtype: int64"
      ]
     },
     "execution_count": 105,
     "metadata": {},
     "output_type": "execute_result"
    }
   ],
   "source": [
    "estate_work_data[estate_work_data['rooms'] == 0]['studio'].value_counts()"
   ]
  },
  {
   "cell_type": "markdown",
   "metadata": {},
   "source": [
    "Скорее всего, в этих помещениях только одна комната с общим пространством "
   ]
  },
  {
   "cell_type": "code",
   "execution_count": 106,
   "metadata": {},
   "outputs": [],
   "source": [
    "estate_work_data['rooms'].replace(0,1,inplace=True)#заменяем значение количества комнат с 0 на 1"
   ]
  },
  {
   "cell_type": "code",
   "execution_count": 107,
   "metadata": {},
   "outputs": [
    {
     "data": {
      "text/plain": [
       "<matplotlib.axes._subplots.AxesSubplot at 0x7fbf1c9d9090>"
      ]
     },
     "execution_count": 107,
     "metadata": {},
     "output_type": "execute_result"
    },
    {
     "data": {
      "image/png": "[encoded data removed]",
      "text/plain": [
       "<Figure size 432x288 with 1 Axes>"
      ]
     },
     "metadata": {
      "needs_background": "light"
     },
     "output_type": "display_data"
    }
   ],
   "source": [
    "estate_work_data['rooms'].hist(bins=40)"
   ]
  },
  {
   "cell_type": "markdown",
   "metadata": {},
   "source": [
    "Не будем отсекать хвост больших значений, они не сильно влияют на показатели, они небольшие, и их мало. \n",
    "\n",
    "По гистограмме видно, что почти все живут в квартирах с 1,2 или 3 комнатами."
   ]
  },
  {
   "cell_type": "code",
   "execution_count": 108,
   "metadata": {},
   "outputs": [
    {
     "data": {
      "text/html": [
       "<div>\n",
       "<style scoped>\n",
       "    .dataframe tbody tr th:only-of-type {\n",
       "        vertical-align: middle;\n",
       "    }\n",
       "\n",
       "    .dataframe tbody tr th {\n",
       "        vertical-align: top;\n",
       "    }\n",
       "\n",
       "    .dataframe thead th {\n",
       "        text-align: right;\n",
       "    }\n",
       "</style>\n",
       "<table border=\"1\" class=\"dataframe\">\n",
       "  <thead>\n",
       "    <tr style=\"text-align: right;\">\n",
       "      <th></th>\n",
       "      <th>total_images</th>\n",
       "      <th>last_price</th>\n",
       "      <th>total_area</th>\n",
       "      <th>first_day_exposition</th>\n",
       "      <th>rooms</th>\n",
       "      <th>ceiling_height</th>\n",
       "      <th>floors_total</th>\n",
       "      <th>living_area</th>\n",
       "      <th>floor</th>\n",
       "      <th>is_apartment</th>\n",
       "      <th>...</th>\n",
       "      <th>parks_around3000</th>\n",
       "      <th>ponds_around3000</th>\n",
       "      <th>days_exposition</th>\n",
       "      <th>price_per_square</th>\n",
       "      <th>publication_week_day</th>\n",
       "      <th>publication_month</th>\n",
       "      <th>publication_year</th>\n",
       "      <th>floor_type</th>\n",
       "      <th>kitchen_ratio</th>\n",
       "      <th>living_ratio</th>\n",
       "    </tr>\n",
       "  </thead>\n",
       "  <tbody>\n",
       "    <tr>\n",
       "      <td>648</td>\n",
       "      <td>3</td>\n",
       "      <td>17500000</td>\n",
       "      <td>183.7</td>\n",
       "      <td>2018-07-01</td>\n",
       "      <td>11</td>\n",
       "      <td>3.40</td>\n",
       "      <td>7</td>\n",
       "      <td>138.8</td>\n",
       "      <td>7</td>\n",
       "      <td>False</td>\n",
       "      <td>...</td>\n",
       "      <td>False</td>\n",
       "      <td>False</td>\n",
       "      <td>1076</td>\n",
       "      <td>95264</td>\n",
       "      <td>6</td>\n",
       "      <td>7</td>\n",
       "      <td>2018</td>\n",
       "      <td>последний</td>\n",
       "      <td>0.0724</td>\n",
       "      <td>0.7556</td>\n",
       "    </tr>\n",
       "    <tr>\n",
       "      <td>866</td>\n",
       "      <td>5</td>\n",
       "      <td>25000000</td>\n",
       "      <td>363.0</td>\n",
       "      <td>2017-12-23</td>\n",
       "      <td>14</td>\n",
       "      <td>3.16</td>\n",
       "      <td>5</td>\n",
       "      <td>222.0</td>\n",
       "      <td>4</td>\n",
       "      <td>False</td>\n",
       "      <td>...</td>\n",
       "      <td>False</td>\n",
       "      <td>True</td>\n",
       "      <td>418</td>\n",
       "      <td>68870</td>\n",
       "      <td>5</td>\n",
       "      <td>12</td>\n",
       "      <td>2017</td>\n",
       "      <td>другой</td>\n",
       "      <td>0.0457</td>\n",
       "      <td>0.6116</td>\n",
       "    </tr>\n",
       "    <tr>\n",
       "      <td>4149</td>\n",
       "      <td>6</td>\n",
       "      <td>23000000</td>\n",
       "      <td>272.6</td>\n",
       "      <td>2018-01-11</td>\n",
       "      <td>10</td>\n",
       "      <td>3.14</td>\n",
       "      <td>7</td>\n",
       "      <td>145.9</td>\n",
       "      <td>7</td>\n",
       "      <td>False</td>\n",
       "      <td>...</td>\n",
       "      <td>True</td>\n",
       "      <td>True</td>\n",
       "      <td>1247</td>\n",
       "      <td>84372</td>\n",
       "      <td>3</td>\n",
       "      <td>1</td>\n",
       "      <td>2018</td>\n",
       "      <td>последний</td>\n",
       "      <td>0.0690</td>\n",
       "      <td>0.5352</td>\n",
       "    </tr>\n",
       "    <tr>\n",
       "      <td>8860</td>\n",
       "      <td>12</td>\n",
       "      <td>17000000</td>\n",
       "      <td>235.0</td>\n",
       "      <td>2018-07-14</td>\n",
       "      <td>9</td>\n",
       "      <td>3.00</td>\n",
       "      <td>6</td>\n",
       "      <td>153.6</td>\n",
       "      <td>3</td>\n",
       "      <td>False</td>\n",
       "      <td>...</td>\n",
       "      <td>True</td>\n",
       "      <td>False</td>\n",
       "      <td>90</td>\n",
       "      <td>72340</td>\n",
       "      <td>5</td>\n",
       "      <td>7</td>\n",
       "      <td>2018</td>\n",
       "      <td>другой</td>\n",
       "      <td>0.1157</td>\n",
       "      <td>0.6536</td>\n",
       "    </tr>\n",
       "    <tr>\n",
       "      <td>9550</td>\n",
       "      <td>10</td>\n",
       "      <td>23500000</td>\n",
       "      <td>313.0</td>\n",
       "      <td>2017-02-13</td>\n",
       "      <td>9</td>\n",
       "      <td>3.20</td>\n",
       "      <td>6</td>\n",
       "      <td>179.2</td>\n",
       "      <td>5</td>\n",
       "      <td>False</td>\n",
       "      <td>...</td>\n",
       "      <td>True</td>\n",
       "      <td>False</td>\n",
       "      <td>1579</td>\n",
       "      <td>75079</td>\n",
       "      <td>0</td>\n",
       "      <td>2</td>\n",
       "      <td>2017</td>\n",
       "      <td>другой</td>\n",
       "      <td>0.0422</td>\n",
       "      <td>0.5725</td>\n",
       "    </tr>\n",
       "    <tr>\n",
       "      <td>13019</td>\n",
       "      <td>0</td>\n",
       "      <td>22250000</td>\n",
       "      <td>249.9</td>\n",
       "      <td>2019-04-23</td>\n",
       "      <td>9</td>\n",
       "      <td>3.20</td>\n",
       "      <td>5</td>\n",
       "      <td>157.0</td>\n",
       "      <td>5</td>\n",
       "      <td>False</td>\n",
       "      <td>...</td>\n",
       "      <td>True</td>\n",
       "      <td>False</td>\n",
       "      <td>780</td>\n",
       "      <td>89035</td>\n",
       "      <td>1</td>\n",
       "      <td>4</td>\n",
       "      <td>2019</td>\n",
       "      <td>последний</td>\n",
       "      <td>0.0496</td>\n",
       "      <td>0.6283</td>\n",
       "    </tr>\n",
       "    <tr>\n",
       "      <td>13397</td>\n",
       "      <td>14</td>\n",
       "      <td>19500000</td>\n",
       "      <td>309.7</td>\n",
       "      <td>2016-02-03</td>\n",
       "      <td>9</td>\n",
       "      <td>2.70</td>\n",
       "      <td>5</td>\n",
       "      <td>199.0</td>\n",
       "      <td>5</td>\n",
       "      <td>False</td>\n",
       "      <td>...</td>\n",
       "      <td>True</td>\n",
       "      <td>False</td>\n",
       "      <td>468</td>\n",
       "      <td>62964</td>\n",
       "      <td>2</td>\n",
       "      <td>2</td>\n",
       "      <td>2016</td>\n",
       "      <td>последний</td>\n",
       "      <td>0.0462</td>\n",
       "      <td>0.6426</td>\n",
       "    </tr>\n",
       "    <tr>\n",
       "      <td>16915</td>\n",
       "      <td>14</td>\n",
       "      <td>29000000</td>\n",
       "      <td>292.2</td>\n",
       "      <td>2017-01-12</td>\n",
       "      <td>9</td>\n",
       "      <td>3.35</td>\n",
       "      <td>5</td>\n",
       "      <td>225.9</td>\n",
       "      <td>4</td>\n",
       "      <td>False</td>\n",
       "      <td>...</td>\n",
       "      <td>True</td>\n",
       "      <td>False</td>\n",
       "      <td>825</td>\n",
       "      <td>99247</td>\n",
       "      <td>3</td>\n",
       "      <td>1</td>\n",
       "      <td>2017</td>\n",
       "      <td>другой</td>\n",
       "      <td>0.1126</td>\n",
       "      <td>0.7731</td>\n",
       "    </tr>\n",
       "    <tr>\n",
       "      <td>18119</td>\n",
       "      <td>4</td>\n",
       "      <td>15500000</td>\n",
       "      <td>216.1</td>\n",
       "      <td>2016-07-04</td>\n",
       "      <td>10</td>\n",
       "      <td>3.15</td>\n",
       "      <td>5</td>\n",
       "      <td>161.4</td>\n",
       "      <td>2</td>\n",
       "      <td>False</td>\n",
       "      <td>...</td>\n",
       "      <td>True</td>\n",
       "      <td>False</td>\n",
       "      <td>11</td>\n",
       "      <td>71726</td>\n",
       "      <td>0</td>\n",
       "      <td>7</td>\n",
       "      <td>2016</td>\n",
       "      <td>другой</td>\n",
       "      <td>0.0916</td>\n",
       "      <td>0.7469</td>\n",
       "    </tr>\n",
       "    <tr>\n",
       "      <td>18848</td>\n",
       "      <td>6</td>\n",
       "      <td>28500000</td>\n",
       "      <td>270.0</td>\n",
       "      <td>2015-03-02</td>\n",
       "      <td>16</td>\n",
       "      <td>3.00</td>\n",
       "      <td>4</td>\n",
       "      <td>180.0</td>\n",
       "      <td>4</td>\n",
       "      <td>False</td>\n",
       "      <td>...</td>\n",
       "      <td>True</td>\n",
       "      <td>False</td>\n",
       "      <td>1365</td>\n",
       "      <td>105555</td>\n",
       "      <td>0</td>\n",
       "      <td>3</td>\n",
       "      <td>2015</td>\n",
       "      <td>последний</td>\n",
       "      <td>0.0481</td>\n",
       "      <td>0.6667</td>\n",
       "    </tr>\n",
       "    <tr>\n",
       "      <td>20791</td>\n",
       "      <td>0</td>\n",
       "      <td>24000000</td>\n",
       "      <td>250.0</td>\n",
       "      <td>2019-04-23</td>\n",
       "      <td>9</td>\n",
       "      <td>3.20</td>\n",
       "      <td>5</td>\n",
       "      <td>160.6</td>\n",
       "      <td>3</td>\n",
       "      <td>False</td>\n",
       "      <td>...</td>\n",
       "      <td>True</td>\n",
       "      <td>False</td>\n",
       "      <td>780</td>\n",
       "      <td>96000</td>\n",
       "      <td>1</td>\n",
       "      <td>4</td>\n",
       "      <td>2019</td>\n",
       "      <td>другой</td>\n",
       "      <td>0.0468</td>\n",
       "      <td>0.6424</td>\n",
       "    </tr>\n",
       "    <tr>\n",
       "      <td>20829</td>\n",
       "      <td>6</td>\n",
       "      <td>28659000</td>\n",
       "      <td>245.4</td>\n",
       "      <td>2016-03-31</td>\n",
       "      <td>14</td>\n",
       "      <td>2.70</td>\n",
       "      <td>4</td>\n",
       "      <td>168.3</td>\n",
       "      <td>2</td>\n",
       "      <td>False</td>\n",
       "      <td>...</td>\n",
       "      <td>True</td>\n",
       "      <td>True</td>\n",
       "      <td>95</td>\n",
       "      <td>116784</td>\n",
       "      <td>3</td>\n",
       "      <td>3</td>\n",
       "      <td>2016</td>\n",
       "      <td>другой</td>\n",
       "      <td>0.1055</td>\n",
       "      <td>0.6858</td>\n",
       "    </tr>\n",
       "  </tbody>\n",
       "</table>\n",
       "<p>12 rows × 27 columns</p>\n",
       "</div>"
      ],
      "text/plain": [
       "       total_images  last_price  total_area first_day_exposition  rooms  \\\n",
       "648               3    17500000       183.7           2018-07-01     11   \n",
       "866               5    25000000       363.0           2017-12-23     14   \n",
       "4149              6    23000000       272.6           2018-01-11     10   \n",
       "8860             12    17000000       235.0           2018-07-14      9   \n",
       "9550             10    23500000       313.0           2017-02-13      9   \n",
       "13019             0    22250000       249.9           2019-04-23      9   \n",
       "13397            14    19500000       309.7           2016-02-03      9   \n",
       "16915            14    29000000       292.2           2017-01-12      9   \n",
       "18119             4    15500000       216.1           2016-07-04     10   \n",
       "18848             6    28500000       270.0           2015-03-02     16   \n",
       "20791             0    24000000       250.0           2019-04-23      9   \n",
       "20829             6    28659000       245.4           2016-03-31     14   \n",
       "\n",
       "       ceiling_height  floors_total  living_area  floor  is_apartment  ...  \\\n",
       "648              3.40             7        138.8      7         False  ...   \n",
       "866              3.16             5        222.0      4         False  ...   \n",
       "4149             3.14             7        145.9      7         False  ...   \n",
       "8860             3.00             6        153.6      3         False  ...   \n",
       "9550             3.20             6        179.2      5         False  ...   \n",
       "13019            3.20             5        157.0      5         False  ...   \n",
       "13397            2.70             5        199.0      5         False  ...   \n",
       "16915            3.35             5        225.9      4         False  ...   \n",
       "18119            3.15             5        161.4      2         False  ...   \n",
       "18848            3.00             4        180.0      4         False  ...   \n",
       "20791            3.20             5        160.6      3         False  ...   \n",
       "20829            2.70             4        168.3      2         False  ...   \n",
       "\n",
       "       parks_around3000  ponds_around3000  days_exposition  price_per_square  \\\n",
       "648               False             False             1076             95264   \n",
       "866               False              True              418             68870   \n",
       "4149               True              True             1247             84372   \n",
       "8860               True             False               90             72340   \n",
       "9550               True             False             1579             75079   \n",
       "13019              True             False              780             89035   \n",
       "13397              True             False              468             62964   \n",
       "16915              True             False              825             99247   \n",
       "18119              True             False               11             71726   \n",
       "18848              True             False             1365            105555   \n",
       "20791              True             False              780             96000   \n",
       "20829              True              True               95            116784   \n",
       "\n",
       "      publication_week_day  publication_month  publication_year floor_type  \\\n",
       "648                      6                  7              2018  последний   \n",
       "866                      5                 12              2017     другой   \n",
       "4149                     3                  1              2018  последний   \n",
       "8860                     5                  7              2018     другой   \n",
       "9550                     0                  2              2017     другой   \n",
       "13019                    1                  4              2019  последний   \n",
       "13397                    2                  2              2016  последний   \n",
       "16915                    3                  1              2017     другой   \n",
       "18119                    0                  7              2016     другой   \n",
       "18848                    0                  3              2015  последний   \n",
       "20791                    1                  4              2019     другой   \n",
       "20829                    3                  3              2016     другой   \n",
       "\n",
       "      kitchen_ratio  living_ratio  \n",
       "648          0.0724        0.7556  \n",
       "866          0.0457        0.6116  \n",
       "4149         0.0690        0.5352  \n",
       "8860         0.1157        0.6536  \n",
       "9550         0.0422        0.5725  \n",
       "13019        0.0496        0.6283  \n",
       "13397        0.0462        0.6426  \n",
       "16915        0.1126        0.7731  \n",
       "18119        0.0916        0.7469  \n",
       "18848        0.0481        0.6667  \n",
       "20791        0.0468        0.6424  \n",
       "20829        0.1055        0.6858  \n",
       "\n",
       "[12 rows x 27 columns]"
      ]
     },
     "execution_count": 108,
     "metadata": {},
     "output_type": "execute_result"
    }
   ],
   "source": [
    "estate_work_data.query('rooms > 8')"
   ]
  },
  {
   "cell_type": "code",
   "execution_count": 109,
   "metadata": {},
   "outputs": [],
   "source": [
    "estate_work_data = estate_work_data.query('rooms < 8')"
   ]
  },
  {
   "cell_type": "markdown",
   "metadata": {},
   "source": [
    "### Изучим высоту потолков."
   ]
  },
  {
   "cell_type": "code",
   "execution_count": 110,
   "metadata": {},
   "outputs": [
    {
     "data": {
      "text/plain": [
       "count    22880.000000\n",
       "mean         2.697765\n",
       "std          0.224436\n",
       "min          1.000000\n",
       "25%          2.550000\n",
       "50%          2.700000\n",
       "75%          2.700000\n",
       "max          8.300000\n",
       "Name: ceiling_height, dtype: float64"
      ]
     },
     "execution_count": 110,
     "metadata": {},
     "output_type": "execute_result"
    }
   ],
   "source": [
    "estate_work_data['ceiling_height'].describe()"
   ]
  },
  {
   "cell_type": "code",
   "execution_count": 111,
   "metadata": {},
   "outputs": [
    {
     "data": {
      "text/plain": [
       "<matplotlib.axes._subplots.AxesSubplot at 0x7fbf1c98f710>"
      ]
     },
     "execution_count": 111,
     "metadata": {},
     "output_type": "execute_result"
    },
    {
     "data": {
      "image/png": "[encoded data removed]",
      "text/plain": [
       "<Figure size 432x288 with 1 Axes>"
      ]
     },
     "metadata": {
      "needs_background": "light"
     },
     "output_type": "display_data"
    }
   ],
   "source": [
    "estate_work_data['ceiling_height'].hist(bins=100)"
   ]
  },
  {
   "cell_type": "code",
   "execution_count": 112,
   "metadata": {},
   "outputs": [
    {
     "data": {
      "text/plain": [
       "<matplotlib.axes._subplots.AxesSubplot at 0x7fbf1c8f4990>"
      ]
     },
     "execution_count": 112,
     "metadata": {},
     "output_type": "execute_result"
    },
    {
     "data": {
      "image/png": "[encoded data removed]",
      "text/plain": [
       "<Figure size 432x288 with 1 Axes>"
      ]
     },
     "metadata": {
      "needs_background": "light"
     },
     "output_type": "display_data"
    }
   ],
   "source": [
    "estate_work_data[estate_work_data['ceiling_height']<2]['ceiling_height'].hist()"
   ]
  },
  {
   "cell_type": "code",
   "execution_count": 113,
   "metadata": {},
   "outputs": [],
   "source": [
    "estate_work_data = estate_work_data.query('ceiling_height > 2')#.reset_index(drop=True)"
   ]
  },
  {
   "cell_type": "code",
   "execution_count": 114,
   "metadata": {},
   "outputs": [],
   "source": [
    "estate_work_data = estate_work_data.query('ceiling_height > 2.4')"
   ]
  },
  {
   "cell_type": "code",
   "execution_count": 115,
   "metadata": {},
   "outputs": [
    {
     "data": {
      "text/plain": [
       "<matplotlib.axes._subplots.AxesSubplot at 0x7fbf1c6d7950>"
      ]
     },
     "execution_count": 115,
     "metadata": {},
     "output_type": "execute_result"
    },
    {
     "data": {
      "image/png": "[encoded data removed]",
      "text/plain": [
       "<Figure size 432x288 with 1 Axes>"
      ]
     },
     "metadata": {
      "needs_background": "light"
     },
     "output_type": "display_data"
    }
   ],
   "source": [
    "estate_work_data['ceiling_height'].hist(bins=100)"
   ]
  },
  {
   "cell_type": "markdown",
   "metadata": {},
   "source": [
    "Есть два наиболее часто встречающихся стандарта потолков."
   ]
  },
  {
   "cell_type": "markdown",
   "metadata": {},
   "source": [
    "### Изучим время продажи квартиры."
   ]
  },
  {
   "cell_type": "code",
   "execution_count": 116,
   "metadata": {},
   "outputs": [
    {
     "data": {
      "text/plain": [
       "count    22836.000000\n",
       "mean       286.341084\n",
       "std        357.161247\n",
       "min          1.000000\n",
       "25%         45.000000\n",
       "50%        123.000000\n",
       "75%        385.000000\n",
       "max       2388.000000\n",
       "Name: days_exposition, dtype: float64"
      ]
     },
     "execution_count": 116,
     "metadata": {},
     "output_type": "execute_result"
    }
   ],
   "source": [
    "estate_work_data['days_exposition'].describe()"
   ]
  },
  {
   "cell_type": "code",
   "execution_count": 117,
   "metadata": {},
   "outputs": [
    {
     "data": {
      "text/plain": [
       "<matplotlib.axes._subplots.AxesSubplot at 0x7fbf1c6e08d0>"
      ]
     },
     "execution_count": 117,
     "metadata": {},
     "output_type": "execute_result"
    },
    {
     "data": {
      "image/png": "[encoded data removed]",
      "text/plain": [
       "<Figure size 432x288 with 1 Axes>"
      ]
     },
     "metadata": {
      "needs_background": "light"
     },
     "output_type": "display_data"
    }
   ],
   "source": [
    "estate_work_data['days_exposition'].hist(bins=100)"
   ]
  },
  {
   "cell_type": "markdown",
   "metadata": {},
   "source": [
    "Подозрительный пик в диапазоне (500,1000)"
   ]
  },
  {
   "cell_type": "code",
   "execution_count": 118,
   "metadata": {},
   "outputs": [
    {
     "data": {
      "text/plain": [
       "<matplotlib.axes._subplots.AxesSubplot at 0x7fbf1c3d2950>"
      ]
     },
     "execution_count": 118,
     "metadata": {},
     "output_type": "execute_result"
    },
    {
     "data": {
      "image/png": "[encoded data removed]",
      "text/plain": [
       "<Figure size 432x288 with 1 Axes>"
      ]
     },
     "metadata": {
      "needs_background": "light"
     },
     "output_type": "display_data"
    }
   ],
   "source": [
    "estate_work_data['days_exposition'].hist(bins=100,range=(500,1000))"
   ]
  },
  {
   "cell_type": "markdown",
   "metadata": {},
   "source": [
    "Изучим интервал (650,800)."
   ]
  },
  {
   "cell_type": "code",
   "execution_count": 119,
   "metadata": {},
   "outputs": [
    {
     "data": {
      "text/html": [
       "<div>\n",
       "<style scoped>\n",
       "    .dataframe tbody tr th:only-of-type {\n",
       "        vertical-align: middle;\n",
       "    }\n",
       "\n",
       "    .dataframe tbody tr th {\n",
       "        vertical-align: top;\n",
       "    }\n",
       "\n",
       "    .dataframe thead th {\n",
       "        text-align: right;\n",
       "    }\n",
       "</style>\n",
       "<table border=\"1\" class=\"dataframe\">\n",
       "  <thead>\n",
       "    <tr style=\"text-align: right;\">\n",
       "      <th></th>\n",
       "      <th>total_images</th>\n",
       "      <th>last_price</th>\n",
       "      <th>total_area</th>\n",
       "      <th>first_day_exposition</th>\n",
       "      <th>rooms</th>\n",
       "      <th>ceiling_height</th>\n",
       "      <th>floors_total</th>\n",
       "      <th>living_area</th>\n",
       "      <th>floor</th>\n",
       "      <th>is_apartment</th>\n",
       "      <th>...</th>\n",
       "      <th>parks_around3000</th>\n",
       "      <th>ponds_around3000</th>\n",
       "      <th>days_exposition</th>\n",
       "      <th>price_per_square</th>\n",
       "      <th>publication_week_day</th>\n",
       "      <th>publication_month</th>\n",
       "      <th>publication_year</th>\n",
       "      <th>floor_type</th>\n",
       "      <th>kitchen_ratio</th>\n",
       "      <th>living_ratio</th>\n",
       "    </tr>\n",
       "  </thead>\n",
       "  <tbody>\n",
       "    <tr>\n",
       "      <td>7</td>\n",
       "      <td>5</td>\n",
       "      <td>7915000</td>\n",
       "      <td>71.6</td>\n",
       "      <td>2019-04-18</td>\n",
       "      <td>2</td>\n",
       "      <td>2.70</td>\n",
       "      <td>24</td>\n",
       "      <td>44.3</td>\n",
       "      <td>22</td>\n",
       "      <td>False</td>\n",
       "      <td>...</td>\n",
       "      <td>False</td>\n",
       "      <td>False</td>\n",
       "      <td>785</td>\n",
       "      <td>110544</td>\n",
       "      <td>3</td>\n",
       "      <td>4</td>\n",
       "      <td>2019</td>\n",
       "      <td>другой</td>\n",
       "      <td>0.2640</td>\n",
       "      <td>0.6187</td>\n",
       "    </tr>\n",
       "    <tr>\n",
       "      <td>43</td>\n",
       "      <td>13</td>\n",
       "      <td>9330000</td>\n",
       "      <td>48.0</td>\n",
       "      <td>2017-01-10</td>\n",
       "      <td>2</td>\n",
       "      <td>3.00</td>\n",
       "      <td>4</td>\n",
       "      <td>28.0</td>\n",
       "      <td>4</td>\n",
       "      <td>False</td>\n",
       "      <td>...</td>\n",
       "      <td>False</td>\n",
       "      <td>True</td>\n",
       "      <td>763</td>\n",
       "      <td>194375</td>\n",
       "      <td>1</td>\n",
       "      <td>1</td>\n",
       "      <td>2017</td>\n",
       "      <td>последний</td>\n",
       "      <td>0.1562</td>\n",
       "      <td>0.5833</td>\n",
       "    </tr>\n",
       "    <tr>\n",
       "      <td>87</td>\n",
       "      <td>19</td>\n",
       "      <td>4999000</td>\n",
       "      <td>52.0</td>\n",
       "      <td>2019-04-23</td>\n",
       "      <td>2</td>\n",
       "      <td>2.61</td>\n",
       "      <td>9</td>\n",
       "      <td>30.0</td>\n",
       "      <td>6</td>\n",
       "      <td>False</td>\n",
       "      <td>...</td>\n",
       "      <td>False</td>\n",
       "      <td>True</td>\n",
       "      <td>780</td>\n",
       "      <td>96134</td>\n",
       "      <td>1</td>\n",
       "      <td>4</td>\n",
       "      <td>2019</td>\n",
       "      <td>другой</td>\n",
       "      <td>0.1731</td>\n",
       "      <td>0.5769</td>\n",
       "    </tr>\n",
       "    <tr>\n",
       "      <td>88</td>\n",
       "      <td>0</td>\n",
       "      <td>1700000</td>\n",
       "      <td>33.1</td>\n",
       "      <td>2019-04-09</td>\n",
       "      <td>1</td>\n",
       "      <td>2.50</td>\n",
       "      <td>5</td>\n",
       "      <td>18.4</td>\n",
       "      <td>1</td>\n",
       "      <td>False</td>\n",
       "      <td>...</td>\n",
       "      <td>None</td>\n",
       "      <td>None</td>\n",
       "      <td>794</td>\n",
       "      <td>51359</td>\n",
       "      <td>1</td>\n",
       "      <td>4</td>\n",
       "      <td>2019</td>\n",
       "      <td>первый</td>\n",
       "      <td>0.1934</td>\n",
       "      <td>0.5559</td>\n",
       "    </tr>\n",
       "    <tr>\n",
       "      <td>122</td>\n",
       "      <td>20</td>\n",
       "      <td>2100000</td>\n",
       "      <td>60.0</td>\n",
       "      <td>2019-04-06</td>\n",
       "      <td>2</td>\n",
       "      <td>2.50</td>\n",
       "      <td>5</td>\n",
       "      <td>31.5</td>\n",
       "      <td>2</td>\n",
       "      <td>False</td>\n",
       "      <td>...</td>\n",
       "      <td>None</td>\n",
       "      <td>None</td>\n",
       "      <td>797</td>\n",
       "      <td>35000</td>\n",
       "      <td>5</td>\n",
       "      <td>4</td>\n",
       "      <td>2019</td>\n",
       "      <td>другой</td>\n",
       "      <td>0.1500</td>\n",
       "      <td>0.5250</td>\n",
       "    </tr>\n",
       "    <tr>\n",
       "      <td>...</td>\n",
       "      <td>...</td>\n",
       "      <td>...</td>\n",
       "      <td>...</td>\n",
       "      <td>...</td>\n",
       "      <td>...</td>\n",
       "      <td>...</td>\n",
       "      <td>...</td>\n",
       "      <td>...</td>\n",
       "      <td>...</td>\n",
       "      <td>...</td>\n",
       "      <td>...</td>\n",
       "      <td>...</td>\n",
       "      <td>...</td>\n",
       "      <td>...</td>\n",
       "      <td>...</td>\n",
       "      <td>...</td>\n",
       "      <td>...</td>\n",
       "      <td>...</td>\n",
       "      <td>...</td>\n",
       "      <td>...</td>\n",
       "      <td>...</td>\n",
       "    </tr>\n",
       "    <tr>\n",
       "      <td>23571</td>\n",
       "      <td>14</td>\n",
       "      <td>4950000</td>\n",
       "      <td>45.1</td>\n",
       "      <td>2019-04-19</td>\n",
       "      <td>2</td>\n",
       "      <td>2.50</td>\n",
       "      <td>5</td>\n",
       "      <td>29.0</td>\n",
       "      <td>3</td>\n",
       "      <td>False</td>\n",
       "      <td>...</td>\n",
       "      <td>False</td>\n",
       "      <td>False</td>\n",
       "      <td>784</td>\n",
       "      <td>109756</td>\n",
       "      <td>4</td>\n",
       "      <td>4</td>\n",
       "      <td>2019</td>\n",
       "      <td>другой</td>\n",
       "      <td>0.1330</td>\n",
       "      <td>0.6430</td>\n",
       "    </tr>\n",
       "    <tr>\n",
       "      <td>23604</td>\n",
       "      <td>7</td>\n",
       "      <td>4300000</td>\n",
       "      <td>44.3</td>\n",
       "      <td>2019-04-13</td>\n",
       "      <td>2</td>\n",
       "      <td>2.50</td>\n",
       "      <td>9</td>\n",
       "      <td>27.0</td>\n",
       "      <td>1</td>\n",
       "      <td>False</td>\n",
       "      <td>...</td>\n",
       "      <td>False</td>\n",
       "      <td>False</td>\n",
       "      <td>790</td>\n",
       "      <td>97065</td>\n",
       "      <td>5</td>\n",
       "      <td>4</td>\n",
       "      <td>2019</td>\n",
       "      <td>первый</td>\n",
       "      <td>0.1580</td>\n",
       "      <td>0.6095</td>\n",
       "    </tr>\n",
       "    <tr>\n",
       "      <td>23645</td>\n",
       "      <td>5</td>\n",
       "      <td>1350000</td>\n",
       "      <td>40.7</td>\n",
       "      <td>2019-04-04</td>\n",
       "      <td>1</td>\n",
       "      <td>2.50</td>\n",
       "      <td>3</td>\n",
       "      <td>18.5</td>\n",
       "      <td>1</td>\n",
       "      <td>False</td>\n",
       "      <td>...</td>\n",
       "      <td>None</td>\n",
       "      <td>None</td>\n",
       "      <td>799</td>\n",
       "      <td>33169</td>\n",
       "      <td>3</td>\n",
       "      <td>4</td>\n",
       "      <td>2019</td>\n",
       "      <td>первый</td>\n",
       "      <td>0.2211</td>\n",
       "      <td>0.4545</td>\n",
       "    </tr>\n",
       "    <tr>\n",
       "      <td>23675</td>\n",
       "      <td>8</td>\n",
       "      <td>3550000</td>\n",
       "      <td>39.5</td>\n",
       "      <td>2016-10-03</td>\n",
       "      <td>1</td>\n",
       "      <td>2.70</td>\n",
       "      <td>16</td>\n",
       "      <td>19.0</td>\n",
       "      <td>13</td>\n",
       "      <td>False</td>\n",
       "      <td>...</td>\n",
       "      <td>False</td>\n",
       "      <td>False</td>\n",
       "      <td>721</td>\n",
       "      <td>89873</td>\n",
       "      <td>0</td>\n",
       "      <td>10</td>\n",
       "      <td>2016</td>\n",
       "      <td>другой</td>\n",
       "      <td>0.2152</td>\n",
       "      <td>0.4810</td>\n",
       "    </tr>\n",
       "    <tr>\n",
       "      <td>23680</td>\n",
       "      <td>14</td>\n",
       "      <td>5000000</td>\n",
       "      <td>59.0</td>\n",
       "      <td>2019-04-04</td>\n",
       "      <td>3</td>\n",
       "      <td>2.50</td>\n",
       "      <td>5</td>\n",
       "      <td>52.0</td>\n",
       "      <td>1</td>\n",
       "      <td>False</td>\n",
       "      <td>...</td>\n",
       "      <td>False</td>\n",
       "      <td>False</td>\n",
       "      <td>799</td>\n",
       "      <td>84745</td>\n",
       "      <td>3</td>\n",
       "      <td>4</td>\n",
       "      <td>2019</td>\n",
       "      <td>первый</td>\n",
       "      <td>0.1186</td>\n",
       "      <td>0.8814</td>\n",
       "    </tr>\n",
       "  </tbody>\n",
       "</table>\n",
       "<p>1141 rows × 27 columns</p>\n",
       "</div>"
      ],
      "text/plain": [
       "       total_images  last_price  total_area first_day_exposition  rooms  \\\n",
       "7                 5     7915000        71.6           2019-04-18      2   \n",
       "43               13     9330000        48.0           2017-01-10      2   \n",
       "87               19     4999000        52.0           2019-04-23      2   \n",
       "88                0     1700000        33.1           2019-04-09      1   \n",
       "122              20     2100000        60.0           2019-04-06      2   \n",
       "...             ...         ...         ...                  ...    ...   \n",
       "23571            14     4950000        45.1           2019-04-19      2   \n",
       "23604             7     4300000        44.3           2019-04-13      2   \n",
       "23645             5     1350000        40.7           2019-04-04      1   \n",
       "23675             8     3550000        39.5           2016-10-03      1   \n",
       "23680            14     5000000        59.0           2019-04-04      3   \n",
       "\n",
       "       ceiling_height  floors_total  living_area  floor  is_apartment  ...  \\\n",
       "7                2.70            24         44.3     22         False  ...   \n",
       "43               3.00             4         28.0      4         False  ...   \n",
       "87               2.61             9         30.0      6         False  ...   \n",
       "88               2.50             5         18.4      1         False  ...   \n",
       "122              2.50             5         31.5      2         False  ...   \n",
       "...               ...           ...          ...    ...           ...  ...   \n",
       "23571            2.50             5         29.0      3         False  ...   \n",
       "23604            2.50             9         27.0      1         False  ...   \n",
       "23645            2.50             3         18.5      1         False  ...   \n",
       "23675            2.70            16         19.0     13         False  ...   \n",
       "23680            2.50             5         52.0      1         False  ...   \n",
       "\n",
       "       parks_around3000  ponds_around3000  days_exposition  price_per_square  \\\n",
       "7                 False             False              785            110544   \n",
       "43                False              True              763            194375   \n",
       "87                False              True              780             96134   \n",
       "88                 None              None              794             51359   \n",
       "122                None              None              797             35000   \n",
       "...                 ...               ...              ...               ...   \n",
       "23571             False             False              784            109756   \n",
       "23604             False             False              790             97065   \n",
       "23645              None              None              799             33169   \n",
       "23675             False             False              721             89873   \n",
       "23680             False             False              799             84745   \n",
       "\n",
       "      publication_week_day  publication_month  publication_year floor_type  \\\n",
       "7                        3                  4              2019     другой   \n",
       "43                       1                  1              2017  последний   \n",
       "87                       1                  4              2019     другой   \n",
       "88                       1                  4              2019     первый   \n",
       "122                      5                  4              2019     другой   \n",
       "...                    ...                ...               ...        ...   \n",
       "23571                    4                  4              2019     другой   \n",
       "23604                    5                  4              2019     первый   \n",
       "23645                    3                  4              2019     первый   \n",
       "23675                    0                 10              2016     другой   \n",
       "23680                    3                  4              2019     первый   \n",
       "\n",
       "      kitchen_ratio  living_ratio  \n",
       "7            0.2640        0.6187  \n",
       "43           0.1562        0.5833  \n",
       "87           0.1731        0.5769  \n",
       "88           0.1934        0.5559  \n",
       "122          0.1500        0.5250  \n",
       "...             ...           ...  \n",
       "23571        0.1330        0.6430  \n",
       "23604        0.1580        0.6095  \n",
       "23645        0.2211        0.4545  \n",
       "23675        0.2152        0.4810  \n",
       "23680        0.1186        0.8814  \n",
       "\n",
       "[1141 rows x 27 columns]"
      ]
     },
     "execution_count": 119,
     "metadata": {},
     "output_type": "execute_result"
    }
   ],
   "source": [
    "strange_days = estate_work_data[\n",
    "    (estate_work_data['days_exposition'] > 650) & (estate_work_data['days_exposition'] < 800)\n",
    "]\n",
    "\n",
    "strange_days"
   ]
  },
  {
   "cell_type": "code",
   "execution_count": 120,
   "metadata": {},
   "outputs": [],
   "source": [
    "estate_data['first_day_exposition'] = pd.to_datetime(\n",
    "    estate_data['first_day_exposition'], format='%Y-%m-%dT%H:%M:%S'\n",
    ")"
   ]
  },
  {
   "cell_type": "markdown",
   "metadata": {},
   "source": [
    "построим распределения пропущенных значений и их замен на одном графике по дате"
   ]
  },
  {
   "cell_type": "code",
   "execution_count": 121,
   "metadata": {},
   "outputs": [
    {
     "data": {
      "text/plain": [
       "<matplotlib.axes._subplots.AxesSubplot at 0x7fbf1c271bd0>"
      ]
     },
     "execution_count": 121,
     "metadata": {},
     "output_type": "execute_result"
    },
    {
     "data": {
      "image/png": "[encoded data removed]",
      "text/plain": [
       "<Figure size 576x576 with 1 Axes>"
      ]
     },
     "metadata": {
      "needs_background": "light"
     },
     "output_type": "display_data"
    }
   ],
   "source": [
    "estate_data[\n",
    "    estate_data['days_exposition'].isnull() == True\n",
    "]['first_day_exposition'].hist(\n",
    "    bins=100,color='blue',figsize=(8,8)\n",
    ")\n",
    "strange_days['first_day_exposition'].hist(bins=100,color='red') \n"
   ]
  },
  {
   "cell_type": "markdown",
   "metadata": {},
   "source": [
    "Похоже, предположение о пропусках в столбце days_exposition (вызваны тем, что квартиры еще не продали), оказалось ошибочным. Возможно их сняли с публикации. Нужно сделать запрос о формировании этих данных, потому что они составляют большую часть от общего. Пока можем их отбросить."
   ]
  },
  {
   "cell_type": "code",
   "execution_count": 122,
   "metadata": {},
   "outputs": [],
   "source": [
    "estate_work_data2 = estate_work_data.query('days_exposition < 650')"
   ]
  },
  {
   "cell_type": "code",
   "execution_count": 123,
   "metadata": {},
   "outputs": [
    {
     "data": {
      "text/plain": [
       "<matplotlib.axes._subplots.AxesSubplot at 0x7fbf1bf54f10>"
      ]
     },
     "execution_count": 123,
     "metadata": {},
     "output_type": "execute_result"
    },
    {
     "data": {
      "image/png": "[encoded data removed]",
      "text/plain": [
       "<Figure size 432x288 with 1 Axes>"
      ]
     },
     "metadata": {
      "needs_background": "light"
     },
     "output_type": "display_data"
    }
   ],
   "source": [
    "estate_work_data2['days_exposition'].hist(bins=100)"
   ]
  },
  {
   "cell_type": "code",
   "execution_count": 124,
   "metadata": {
    "scrolled": true
   },
   "outputs": [
    {
     "data": {
      "text/plain": [
       "count    18846.000000\n",
       "mean       143.377693\n",
       "std        143.988926\n",
       "min          1.000000\n",
       "25%         43.000000\n",
       "50%         89.000000\n",
       "75%        199.000000\n",
       "max        649.000000\n",
       "Name: days_exposition, dtype: float64"
      ]
     },
     "execution_count": 124,
     "metadata": {},
     "output_type": "execute_result"
    }
   ],
   "source": [
    "estate_work_data2['days_exposition'].describe()"
   ]
  },
  {
   "cell_type": "markdown",
   "metadata": {},
   "source": [
    "Видно,что среднее и медиана сильно отличаются, из-за сильного разброса. Очень много маленьких значений при длинном хвосте в сторону больших. \n",
    "\n",
    "Исходя из этих данных, можно ожидать, что квартира продастся в районе 3 месяцев. Если к этому моменту её никто не купил, то стоит запаститсь терпением, чем дальше, тем меньше вероятсноть продажи. Некоторые квартиры продаются по несколько лет."
   ]
  },
  {
   "cell_type": "markdown",
   "metadata": {},
   "source": [
    "### Изучим какие факторы сильнее всего влияют на цену квартиры"
   ]
  },
  {
   "cell_type": "code",
   "execution_count": 128,
   "metadata": {},
   "outputs": [
    {
     "data": {
      "text/plain": [
       "last_price          1.000000\n",
       "total_area          0.790034\n",
       "living_area         0.688327\n",
       "price_per_square    0.639639\n",
       "kitchen_area        0.598126\n",
       "rooms               0.516615\n",
       "ceiling_height      0.390445\n",
       "total_images        0.148366\n",
       "days_exposition     0.107033\n",
       "floor               0.080475\n",
       "Name: last_price, dtype: float64"
      ]
     },
     "execution_count": 128,
     "metadata": {},
     "output_type": "execute_result"
    }
   ],
   "source": [
    "estate_work_data2.corr()['last_price'].sort_values(ascending=False).head(10)"
   ]
  },
  {
   "cell_type": "code",
   "execution_count": 129,
   "metadata": {},
   "outputs": [
    {
     "data": {
      "text/plain": [
       "cityCenters_nearest   -0.344132\n",
       "kitchen_ratio         -0.123414\n",
       "studio                -0.055648\n",
       "publication_year      -0.039559\n",
       "airports_nearest      -0.036695\n",
       "Name: last_price, dtype: float64"
      ]
     },
     "execution_count": 129,
     "metadata": {},
     "output_type": "execute_result"
    }
   ],
   "source": [
    "estate_work_data2.corr()['last_price'].sort_values(ascending=True).head(5)"
   ]
  },
  {
   "cell_type": "code",
   "execution_count": 130,
   "metadata": {},
   "outputs": [
    {
     "data": {
      "text/plain": [
       "cityCenters_nearest    -0.405504\n",
       "kitchen_ratio          -0.144263\n",
       "studio                 -0.057987\n",
       "publication_year       -0.038699\n",
       "open_plan              -0.030273\n",
       "airports_nearest       -0.010918\n",
       "floors_total           -0.009261\n",
       "publication_month      -0.005049\n",
       "publication_week_day   -0.004682\n",
       "is_apartment            0.001925\n",
       "floor                   0.031466\n",
       "living_ratio            0.033110\n",
       "balcony                 0.042469\n",
       "total_images            0.132766\n",
       "days_exposition         0.146593\n",
       "ceiling_height          0.371261\n",
       "rooms                   0.552302\n",
       "price_per_square        0.560841\n",
       "kitchen_area            0.624176\n",
       "living_area             0.724125\n",
       "total_area              0.826384\n",
       "last_price              1.000000\n",
       "Name: last_price, dtype: float64"
      ]
     },
     "execution_count": 130,
     "metadata": {},
     "output_type": "execute_result"
    }
   ],
   "source": [
    "estate_work_data2[\n",
    "    estate_work_data2['locality_name'] == 'санкт-петербург'\n",
    "].corr()['last_price'].sort_values()"
   ]
  },
  {
   "cell_type": "markdown",
   "metadata": {},
   "source": [
    "Из данных видим, что стоимость квартиры больше всего зависит от площади квартиры, количества комнат и высоты потолков. Чуть меньше влияет близость к центру города. Хотя для больших городов этот фактор, возможно будет существеннее."
   ]
  },
  {
   "cell_type": "code",
   "execution_count": 131,
   "metadata": {},
   "outputs": [
    {
     "data": {
      "text/html": [
       "<div>\n",
       "<style scoped>\n",
       "    .dataframe tbody tr th:only-of-type {\n",
       "        vertical-align: middle;\n",
       "    }\n",
       "\n",
       "    .dataframe tbody tr th {\n",
       "        vertical-align: top;\n",
       "    }\n",
       "\n",
       "    .dataframe thead th {\n",
       "        text-align: right;\n",
       "    }\n",
       "</style>\n",
       "<table border=\"1\" class=\"dataframe\">\n",
       "  <thead>\n",
       "    <tr style=\"text-align: right;\">\n",
       "      <th></th>\n",
       "      <th>count</th>\n",
       "      <th>mean</th>\n",
       "      <th>std</th>\n",
       "      <th>min</th>\n",
       "      <th>25%</th>\n",
       "      <th>50%</th>\n",
       "      <th>75%</th>\n",
       "      <th>max</th>\n",
       "    </tr>\n",
       "    <tr>\n",
       "      <th>floor_type</th>\n",
       "      <th></th>\n",
       "      <th></th>\n",
       "      <th></th>\n",
       "      <th></th>\n",
       "      <th></th>\n",
       "      <th></th>\n",
       "      <th></th>\n",
       "      <th></th>\n",
       "    </tr>\n",
       "  </thead>\n",
       "  <tbody>\n",
       "    <tr>\n",
       "      <td>другой</td>\n",
       "      <td>14057.0</td>\n",
       "      <td>5.650001e+06</td>\n",
       "      <td>3.576511e+06</td>\n",
       "      <td>630000.0</td>\n",
       "      <td>3550000.0</td>\n",
       "      <td>4650000.0</td>\n",
       "      <td>6500000.0</td>\n",
       "      <td>29900000.0</td>\n",
       "    </tr>\n",
       "    <tr>\n",
       "      <td>первый</td>\n",
       "      <td>2247.0</td>\n",
       "      <td>4.351244e+06</td>\n",
       "      <td>2.724523e+06</td>\n",
       "      <td>630000.0</td>\n",
       "      <td>2805000.0</td>\n",
       "      <td>3814524.0</td>\n",
       "      <td>5100000.0</td>\n",
       "      <td>29500000.0</td>\n",
       "    </tr>\n",
       "    <tr>\n",
       "      <td>последний</td>\n",
       "      <td>2542.0</td>\n",
       "      <td>5.358770e+06</td>\n",
       "      <td>4.090114e+06</td>\n",
       "      <td>620000.0</td>\n",
       "      <td>3064597.0</td>\n",
       "      <td>4200000.0</td>\n",
       "      <td>6200000.0</td>\n",
       "      <td>29990000.0</td>\n",
       "    </tr>\n",
       "  </tbody>\n",
       "</table>\n",
       "</div>"
      ],
      "text/plain": [
       "              count          mean           std       min        25%  \\\n",
       "floor_type                                                             \n",
       "другой      14057.0  5.650001e+06  3.576511e+06  630000.0  3550000.0   \n",
       "первый       2247.0  4.351244e+06  2.724523e+06  630000.0  2805000.0   \n",
       "последний    2542.0  5.358770e+06  4.090114e+06  620000.0  3064597.0   \n",
       "\n",
       "                  50%        75%         max  \n",
       "floor_type                                    \n",
       "другой      4650000.0  6500000.0  29900000.0  \n",
       "первый      3814524.0  5100000.0  29500000.0  \n",
       "последний   4200000.0  6200000.0  29990000.0  "
      ]
     },
     "execution_count": 131,
     "metadata": {},
     "output_type": "execute_result"
    }
   ],
   "source": [
    "estate_work_data2.groupby('floor_type')['last_price'].describe()\n",
    "#Изучим, как этаж влияет на цену"
   ]
  },
  {
   "cell_type": "markdown",
   "metadata": {},
   "source": [
    "Квартиры на первом этаже заметно дешевле остальных. Посмотрим, как этажи коррелирует с ценой. "
   ]
  },
  {
   "cell_type": "code",
   "execution_count": 132,
   "metadata": {},
   "outputs": [
    {
     "data": {
      "text/plain": [
       "0.04295057725274028"
      ]
     },
     "execution_count": 132,
     "metadata": {},
     "output_type": "execute_result"
    }
   ],
   "source": [
    "estate_work_data2[\n",
    "    estate_work_data2['floor_type'] != 'первый'\n",
    "].corr().loc['floor','last_price']"
   ]
  },
  {
   "cell_type": "markdown",
   "metadata": {},
   "source": [
    "Этажи, кроме первого, почти не влияют на цену квартиры.    \n",
    "\n",
    "Проверим, влияет ли день недели на цену"
   ]
  },
  {
   "cell_type": "code",
   "execution_count": 133,
   "metadata": {},
   "outputs": [
    {
     "data": {
      "text/plain": [
       "publication_week_day\n",
       "0    AxesSubplot(0.125,0.125;0.775x0.755)\n",
       "1    AxesSubplot(0.125,0.125;0.775x0.755)\n",
       "2    AxesSubplot(0.125,0.125;0.775x0.755)\n",
       "3    AxesSubplot(0.125,0.125;0.775x0.755)\n",
       "4    AxesSubplot(0.125,0.125;0.775x0.755)\n",
       "5    AxesSubplot(0.125,0.125;0.775x0.755)\n",
       "6    AxesSubplot(0.125,0.125;0.775x0.755)\n",
       "Name: last_price, dtype: object"
      ]
     },
     "execution_count": 133,
     "metadata": {},
     "output_type": "execute_result"
    },
    {
     "data": {
      "image/png": "[encoded data removed]",
      "text/plain": [
       "<Figure size 576x576 with 1 Axes>"
      ]
     },
     "metadata": {
      "needs_background": "light"
     },
     "output_type": "display_data"
    }
   ],
   "source": [
    "estate_work_data2.groupby('publication_week_day')['last_price'].hist(bins=100,figsize=(8,8))"
   ]
  },
  {
   "cell_type": "code",
   "execution_count": 134,
   "metadata": {},
   "outputs": [
    {
     "data": {
      "text/html": [
       "<div>\n",
       "<style scoped>\n",
       "    .dataframe tbody tr th:only-of-type {\n",
       "        vertical-align: middle;\n",
       "    }\n",
       "\n",
       "    .dataframe tbody tr th {\n",
       "        vertical-align: top;\n",
       "    }\n",
       "\n",
       "    .dataframe thead th {\n",
       "        text-align: right;\n",
       "    }\n",
       "</style>\n",
       "<table border=\"1\" class=\"dataframe\">\n",
       "  <thead>\n",
       "    <tr style=\"text-align: right;\">\n",
       "      <th></th>\n",
       "      <th>count</th>\n",
       "      <th>mean</th>\n",
       "      <th>std</th>\n",
       "      <th>min</th>\n",
       "      <th>25%</th>\n",
       "      <th>50%</th>\n",
       "      <th>75%</th>\n",
       "      <th>max</th>\n",
       "    </tr>\n",
       "    <tr>\n",
       "      <th>publication_week_day</th>\n",
       "      <th></th>\n",
       "      <th></th>\n",
       "      <th></th>\n",
       "      <th></th>\n",
       "      <th></th>\n",
       "      <th></th>\n",
       "      <th></th>\n",
       "      <th></th>\n",
       "    </tr>\n",
       "  </thead>\n",
       "  <tbody>\n",
       "    <tr>\n",
       "      <td>0</td>\n",
       "      <td>2799.0</td>\n",
       "      <td>5.418838e+06</td>\n",
       "      <td>3.531970e+06</td>\n",
       "      <td>620000.0</td>\n",
       "      <td>3400000.0</td>\n",
       "      <td>4500000.0</td>\n",
       "      <td>6200000.0</td>\n",
       "      <td>29500000.0</td>\n",
       "    </tr>\n",
       "    <tr>\n",
       "      <td>1</td>\n",
       "      <td>3322.0</td>\n",
       "      <td>5.474715e+06</td>\n",
       "      <td>3.518337e+06</td>\n",
       "      <td>660000.0</td>\n",
       "      <td>3400000.0</td>\n",
       "      <td>4500000.0</td>\n",
       "      <td>6300000.0</td>\n",
       "      <td>29500000.0</td>\n",
       "    </tr>\n",
       "    <tr>\n",
       "      <td>2</td>\n",
       "      <td>3109.0</td>\n",
       "      <td>5.490304e+06</td>\n",
       "      <td>3.674974e+06</td>\n",
       "      <td>630000.0</td>\n",
       "      <td>3400000.0</td>\n",
       "      <td>4500000.0</td>\n",
       "      <td>6300000.0</td>\n",
       "      <td>29900000.0</td>\n",
       "    </tr>\n",
       "    <tr>\n",
       "      <td>3</td>\n",
       "      <td>3452.0</td>\n",
       "      <td>5.599485e+06</td>\n",
       "      <td>3.780972e+06</td>\n",
       "      <td>650000.0</td>\n",
       "      <td>3450000.0</td>\n",
       "      <td>4500000.0</td>\n",
       "      <td>6500000.0</td>\n",
       "      <td>29800000.0</td>\n",
       "    </tr>\n",
       "    <tr>\n",
       "      <td>4</td>\n",
       "      <td>3285.0</td>\n",
       "      <td>5.418380e+06</td>\n",
       "      <td>3.528490e+06</td>\n",
       "      <td>650000.0</td>\n",
       "      <td>3400000.0</td>\n",
       "      <td>4450000.0</td>\n",
       "      <td>6400000.0</td>\n",
       "      <td>29990000.0</td>\n",
       "    </tr>\n",
       "    <tr>\n",
       "      <td>5</td>\n",
       "      <td>1539.0</td>\n",
       "      <td>5.315002e+06</td>\n",
       "      <td>3.454499e+06</td>\n",
       "      <td>630000.0</td>\n",
       "      <td>3400000.0</td>\n",
       "      <td>4500000.0</td>\n",
       "      <td>6300000.0</td>\n",
       "      <td>29500000.0</td>\n",
       "    </tr>\n",
       "    <tr>\n",
       "      <td>6</td>\n",
       "      <td>1340.0</td>\n",
       "      <td>5.290324e+06</td>\n",
       "      <td>3.408524e+06</td>\n",
       "      <td>650000.0</td>\n",
       "      <td>3300000.0</td>\n",
       "      <td>4400000.0</td>\n",
       "      <td>6000000.0</td>\n",
       "      <td>28800000.0</td>\n",
       "    </tr>\n",
       "  </tbody>\n",
       "</table>\n",
       "</div>"
      ],
      "text/plain": [
       "                       count          mean           std       min        25%  \\\n",
       "publication_week_day                                                            \n",
       "0                     2799.0  5.418838e+06  3.531970e+06  620000.0  3400000.0   \n",
       "1                     3322.0  5.474715e+06  3.518337e+06  660000.0  3400000.0   \n",
       "2                     3109.0  5.490304e+06  3.674974e+06  630000.0  3400000.0   \n",
       "3                     3452.0  5.599485e+06  3.780972e+06  650000.0  3450000.0   \n",
       "4                     3285.0  5.418380e+06  3.528490e+06  650000.0  3400000.0   \n",
       "5                     1539.0  5.315002e+06  3.454499e+06  630000.0  3400000.0   \n",
       "6                     1340.0  5.290324e+06  3.408524e+06  650000.0  3300000.0   \n",
       "\n",
       "                            50%        75%         max  \n",
       "publication_week_day                                    \n",
       "0                     4500000.0  6200000.0  29500000.0  \n",
       "1                     4500000.0  6300000.0  29500000.0  \n",
       "2                     4500000.0  6300000.0  29900000.0  \n",
       "3                     4500000.0  6500000.0  29800000.0  \n",
       "4                     4450000.0  6400000.0  29990000.0  \n",
       "5                     4500000.0  6300000.0  29500000.0  \n",
       "6                     4400000.0  6000000.0  28800000.0  "
      ]
     },
     "execution_count": 134,
     "metadata": {},
     "output_type": "execute_result"
    }
   ],
   "source": [
    "estate_work_data2.groupby('publication_week_day')['last_price'].describe()"
   ]
  },
  {
   "cell_type": "code",
   "execution_count": 135,
   "metadata": {},
   "outputs": [
    {
     "data": {
      "text/plain": [
       "-0.00949361536477637"
      ]
     },
     "execution_count": 135,
     "metadata": {},
     "output_type": "execute_result"
    }
   ],
   "source": [
    "estate_work_data2['publication_week_day'].corr(estate_work_data2['last_price'])"
   ]
  },
  {
   "cell_type": "markdown",
   "metadata": {},
   "source": [
    "Разными способами мы получили одинаковый результат. Зависимость цены от дня недели не наблюдается.\n",
    "\n",
    "Изучим аналогичные параметры для месяцев и лет."
   ]
  },
  {
   "cell_type": "code",
   "execution_count": 136,
   "metadata": {},
   "outputs": [
    {
     "data": {
      "text/html": [
       "<div>\n",
       "<style scoped>\n",
       "    .dataframe tbody tr th:only-of-type {\n",
       "        vertical-align: middle;\n",
       "    }\n",
       "\n",
       "    .dataframe tbody tr th {\n",
       "        vertical-align: top;\n",
       "    }\n",
       "\n",
       "    .dataframe thead th {\n",
       "        text-align: right;\n",
       "    }\n",
       "</style>\n",
       "<table border=\"1\" class=\"dataframe\">\n",
       "  <thead>\n",
       "    <tr style=\"text-align: right;\">\n",
       "      <th></th>\n",
       "      <th>count</th>\n",
       "      <th>mean</th>\n",
       "      <th>std</th>\n",
       "      <th>min</th>\n",
       "      <th>25%</th>\n",
       "      <th>50%</th>\n",
       "      <th>75%</th>\n",
       "      <th>max</th>\n",
       "    </tr>\n",
       "    <tr>\n",
       "      <th>publication_month</th>\n",
       "      <th></th>\n",
       "      <th></th>\n",
       "      <th></th>\n",
       "      <th></th>\n",
       "      <th></th>\n",
       "      <th></th>\n",
       "      <th></th>\n",
       "      <th></th>\n",
       "    </tr>\n",
       "  </thead>\n",
       "  <tbody>\n",
       "    <tr>\n",
       "      <td>1</td>\n",
       "      <td>1177.0</td>\n",
       "      <td>5.403575e+06</td>\n",
       "      <td>3.560815e+06</td>\n",
       "      <td>620000.0</td>\n",
       "      <td>3390000.0</td>\n",
       "      <td>4500000.0</td>\n",
       "      <td>6287251.0</td>\n",
       "      <td>27840000.0</td>\n",
       "    </tr>\n",
       "    <tr>\n",
       "      <td>2</td>\n",
       "      <td>2113.0</td>\n",
       "      <td>5.477979e+06</td>\n",
       "      <td>3.629146e+06</td>\n",
       "      <td>750000.0</td>\n",
       "      <td>3360000.0</td>\n",
       "      <td>4500000.0</td>\n",
       "      <td>6350000.0</td>\n",
       "      <td>29375000.0</td>\n",
       "    </tr>\n",
       "    <tr>\n",
       "      <td>3</td>\n",
       "      <td>1774.0</td>\n",
       "      <td>5.375051e+06</td>\n",
       "      <td>3.506912e+06</td>\n",
       "      <td>650000.0</td>\n",
       "      <td>3350000.0</td>\n",
       "      <td>4436742.0</td>\n",
       "      <td>6200000.0</td>\n",
       "      <td>29500000.0</td>\n",
       "    </tr>\n",
       "    <tr>\n",
       "      <td>4</td>\n",
       "      <td>1404.0</td>\n",
       "      <td>5.500121e+06</td>\n",
       "      <td>3.586979e+06</td>\n",
       "      <td>700000.0</td>\n",
       "      <td>3400000.0</td>\n",
       "      <td>4500000.0</td>\n",
       "      <td>6496000.0</td>\n",
       "      <td>29500000.0</td>\n",
       "    </tr>\n",
       "    <tr>\n",
       "      <td>5</td>\n",
       "      <td>1050.0</td>\n",
       "      <td>5.535232e+06</td>\n",
       "      <td>3.634561e+06</td>\n",
       "      <td>730000.0</td>\n",
       "      <td>3450000.0</td>\n",
       "      <td>4500000.0</td>\n",
       "      <td>6500000.0</td>\n",
       "      <td>28050000.0</td>\n",
       "    </tr>\n",
       "    <tr>\n",
       "      <td>6</td>\n",
       "      <td>1539.0</td>\n",
       "      <td>5.377575e+06</td>\n",
       "      <td>3.702382e+06</td>\n",
       "      <td>650000.0</td>\n",
       "      <td>3300000.0</td>\n",
       "      <td>4350000.0</td>\n",
       "      <td>6300000.0</td>\n",
       "      <td>29900000.0</td>\n",
       "    </tr>\n",
       "    <tr>\n",
       "      <td>7</td>\n",
       "      <td>1450.0</td>\n",
       "      <td>5.450966e+06</td>\n",
       "      <td>3.619840e+06</td>\n",
       "      <td>650000.0</td>\n",
       "      <td>3400000.0</td>\n",
       "      <td>4500000.0</td>\n",
       "      <td>6287500.0</td>\n",
       "      <td>29500000.0</td>\n",
       "    </tr>\n",
       "    <tr>\n",
       "      <td>8</td>\n",
       "      <td>1518.0</td>\n",
       "      <td>5.427338e+06</td>\n",
       "      <td>3.450136e+06</td>\n",
       "      <td>630000.0</td>\n",
       "      <td>3400000.0</td>\n",
       "      <td>4500000.0</td>\n",
       "      <td>6300000.0</td>\n",
       "      <td>29000000.0</td>\n",
       "    </tr>\n",
       "    <tr>\n",
       "      <td>9</td>\n",
       "      <td>1714.0</td>\n",
       "      <td>5.643412e+06</td>\n",
       "      <td>3.727886e+06</td>\n",
       "      <td>650000.0</td>\n",
       "      <td>3450000.0</td>\n",
       "      <td>4600000.0</td>\n",
       "      <td>6499750.0</td>\n",
       "      <td>29000000.0</td>\n",
       "    </tr>\n",
       "    <tr>\n",
       "      <td>10</td>\n",
       "      <td>1808.0</td>\n",
       "      <td>5.320562e+06</td>\n",
       "      <td>3.357422e+06</td>\n",
       "      <td>650000.0</td>\n",
       "      <td>3488750.0</td>\n",
       "      <td>4460000.0</td>\n",
       "      <td>6091000.0</td>\n",
       "      <td>29000000.0</td>\n",
       "    </tr>\n",
       "    <tr>\n",
       "      <td>11</td>\n",
       "      <td>2008.0</td>\n",
       "      <td>5.575366e+06</td>\n",
       "      <td>3.708796e+06</td>\n",
       "      <td>700000.0</td>\n",
       "      <td>3499500.0</td>\n",
       "      <td>4550000.0</td>\n",
       "      <td>6391250.0</td>\n",
       "      <td>29990000.0</td>\n",
       "    </tr>\n",
       "    <tr>\n",
       "      <td>12</td>\n",
       "      <td>1291.0</td>\n",
       "      <td>5.352764e+06</td>\n",
       "      <td>3.494327e+06</td>\n",
       "      <td>630000.0</td>\n",
       "      <td>3350000.0</td>\n",
       "      <td>4500000.0</td>\n",
       "      <td>6300000.0</td>\n",
       "      <td>29000000.0</td>\n",
       "    </tr>\n",
       "  </tbody>\n",
       "</table>\n",
       "</div>"
      ],
      "text/plain": [
       "                    count          mean           std       min        25%  \\\n",
       "publication_month                                                            \n",
       "1                  1177.0  5.403575e+06  3.560815e+06  620000.0  3390000.0   \n",
       "2                  2113.0  5.477979e+06  3.629146e+06  750000.0  3360000.0   \n",
       "3                  1774.0  5.375051e+06  3.506912e+06  650000.0  3350000.0   \n",
       "4                  1404.0  5.500121e+06  3.586979e+06  700000.0  3400000.0   \n",
       "5                  1050.0  5.535232e+06  3.634561e+06  730000.0  3450000.0   \n",
       "6                  1539.0  5.377575e+06  3.702382e+06  650000.0  3300000.0   \n",
       "7                  1450.0  5.450966e+06  3.619840e+06  650000.0  3400000.0   \n",
       "8                  1518.0  5.427338e+06  3.450136e+06  630000.0  3400000.0   \n",
       "9                  1714.0  5.643412e+06  3.727886e+06  650000.0  3450000.0   \n",
       "10                 1808.0  5.320562e+06  3.357422e+06  650000.0  3488750.0   \n",
       "11                 2008.0  5.575366e+06  3.708796e+06  700000.0  3499500.0   \n",
       "12                 1291.0  5.352764e+06  3.494327e+06  630000.0  3350000.0   \n",
       "\n",
       "                         50%        75%         max  \n",
       "publication_month                                    \n",
       "1                  4500000.0  6287251.0  27840000.0  \n",
       "2                  4500000.0  6350000.0  29375000.0  \n",
       "3                  4436742.0  6200000.0  29500000.0  \n",
       "4                  4500000.0  6496000.0  29500000.0  \n",
       "5                  4500000.0  6500000.0  28050000.0  \n",
       "6                  4350000.0  6300000.0  29900000.0  \n",
       "7                  4500000.0  6287500.0  29500000.0  \n",
       "8                  4500000.0  6300000.0  29000000.0  \n",
       "9                  4600000.0  6499750.0  29000000.0  \n",
       "10                 4460000.0  6091000.0  29000000.0  \n",
       "11                 4550000.0  6391250.0  29990000.0  \n",
       "12                 4500000.0  6300000.0  29000000.0  "
      ]
     },
     "execution_count": 136,
     "metadata": {},
     "output_type": "execute_result"
    }
   ],
   "source": [
    "estate_work_data2.groupby('publication_month')['last_price'].describe()"
   ]
  },
  {
   "cell_type": "markdown",
   "metadata": {},
   "source": [
    "В начале года и под конец чаще выкладывают новые объявления, но цены примерно одинаковые."
   ]
  },
  {
   "cell_type": "code",
   "execution_count": 137,
   "metadata": {},
   "outputs": [
    {
     "data": {
      "text/html": [
       "<div>\n",
       "<style scoped>\n",
       "    .dataframe tbody tr th:only-of-type {\n",
       "        vertical-align: middle;\n",
       "    }\n",
       "\n",
       "    .dataframe tbody tr th {\n",
       "        vertical-align: top;\n",
       "    }\n",
       "\n",
       "    .dataframe thead th {\n",
       "        text-align: right;\n",
       "    }\n",
       "</style>\n",
       "<table border=\"1\" class=\"dataframe\">\n",
       "  <thead>\n",
       "    <tr style=\"text-align: right;\">\n",
       "      <th></th>\n",
       "      <th>count</th>\n",
       "      <th>mean</th>\n",
       "      <th>std</th>\n",
       "      <th>min</th>\n",
       "      <th>25%</th>\n",
       "      <th>50%</th>\n",
       "      <th>75%</th>\n",
       "      <th>max</th>\n",
       "    </tr>\n",
       "    <tr>\n",
       "      <th>publication_year</th>\n",
       "      <th></th>\n",
       "      <th></th>\n",
       "      <th></th>\n",
       "      <th></th>\n",
       "      <th></th>\n",
       "      <th></th>\n",
       "      <th></th>\n",
       "      <th></th>\n",
       "    </tr>\n",
       "  </thead>\n",
       "  <tbody>\n",
       "    <tr>\n",
       "      <td>2014</td>\n",
       "      <td>33.0</td>\n",
       "      <td>9.281779e+06</td>\n",
       "      <td>6.473669e+06</td>\n",
       "      <td>1300000.0</td>\n",
       "      <td>4600000.0</td>\n",
       "      <td>7476560.0</td>\n",
       "      <td>12300000.0</td>\n",
       "      <td>27933600.0</td>\n",
       "    </tr>\n",
       "    <tr>\n",
       "      <td>2015</td>\n",
       "      <td>588.0</td>\n",
       "      <td>5.930756e+06</td>\n",
       "      <td>3.937643e+06</td>\n",
       "      <td>700000.0</td>\n",
       "      <td>3637500.0</td>\n",
       "      <td>4980000.0</td>\n",
       "      <td>6700000.0</td>\n",
       "      <td>27000000.0</td>\n",
       "    </tr>\n",
       "    <tr>\n",
       "      <td>2016</td>\n",
       "      <td>2252.0</td>\n",
       "      <td>5.574363e+06</td>\n",
       "      <td>3.774131e+06</td>\n",
       "      <td>650000.0</td>\n",
       "      <td>3400000.0</td>\n",
       "      <td>4450000.0</td>\n",
       "      <td>6450000.0</td>\n",
       "      <td>29900000.0</td>\n",
       "    </tr>\n",
       "    <tr>\n",
       "      <td>2017</td>\n",
       "      <td>7617.0</td>\n",
       "      <td>5.518616e+06</td>\n",
       "      <td>3.756667e+06</td>\n",
       "      <td>650000.0</td>\n",
       "      <td>3350000.0</td>\n",
       "      <td>4450000.0</td>\n",
       "      <td>6400000.0</td>\n",
       "      <td>29990000.0</td>\n",
       "    </tr>\n",
       "    <tr>\n",
       "      <td>2018</td>\n",
       "      <td>7315.0</td>\n",
       "      <td>5.297865e+06</td>\n",
       "      <td>3.350099e+06</td>\n",
       "      <td>620000.0</td>\n",
       "      <td>3370000.0</td>\n",
       "      <td>4500000.0</td>\n",
       "      <td>6177219.0</td>\n",
       "      <td>29000000.0</td>\n",
       "    </tr>\n",
       "    <tr>\n",
       "      <td>2019</td>\n",
       "      <td>1041.0</td>\n",
       "      <td>5.461170e+06</td>\n",
       "      <td>2.996675e+06</td>\n",
       "      <td>630000.0</td>\n",
       "      <td>3700000.0</td>\n",
       "      <td>4790000.0</td>\n",
       "      <td>6417500.0</td>\n",
       "      <td>29000000.0</td>\n",
       "    </tr>\n",
       "  </tbody>\n",
       "</table>\n",
       "</div>"
      ],
      "text/plain": [
       "                   count          mean           std        min        25%  \\\n",
       "publication_year                                                             \n",
       "2014                33.0  9.281779e+06  6.473669e+06  1300000.0  4600000.0   \n",
       "2015               588.0  5.930756e+06  3.937643e+06   700000.0  3637500.0   \n",
       "2016              2252.0  5.574363e+06  3.774131e+06   650000.0  3400000.0   \n",
       "2017              7617.0  5.518616e+06  3.756667e+06   650000.0  3350000.0   \n",
       "2018              7315.0  5.297865e+06  3.350099e+06   620000.0  3370000.0   \n",
       "2019              1041.0  5.461170e+06  2.996675e+06   630000.0  3700000.0   \n",
       "\n",
       "                        50%         75%         max  \n",
       "publication_year                                     \n",
       "2014              7476560.0  12300000.0  27933600.0  \n",
       "2015              4980000.0   6700000.0  27000000.0  \n",
       "2016              4450000.0   6450000.0  29900000.0  \n",
       "2017              4450000.0   6400000.0  29990000.0  \n",
       "2018              4500000.0   6177219.0  29000000.0  \n",
       "2019              4790000.0   6417500.0  29000000.0  "
      ]
     },
     "execution_count": 137,
     "metadata": {},
     "output_type": "execute_result"
    }
   ],
   "source": [
    "estate_work_data2.groupby('publication_year')['last_price'].describe()"
   ]
  },
  {
   "cell_type": "markdown",
   "metadata": {},
   "source": [
    "Результаты не совсем совпадают. Сильные отличия появляются, для выборки меньше 2000 тысяч объявлений. Это значит, что в среднем цена на квартиры практически не менялась за рассматриваемый период."
   ]
  },
  {
   "cell_type": "markdown",
   "metadata": {},
   "source": [
    "Выберим 10 населённых пунктов с наибольшим числом объявлений. Посчитаем среднюю цену квадратного метра в этих населённых пунктах. Выделим среди них населённые пункты с самой высокой и низкой стоимостью жилья. "
   ]
  },
  {
   "cell_type": "code",
   "execution_count": 138,
   "metadata": {},
   "outputs": [],
   "source": [
    "popular_locality = estate_work_data2.pivot_table(\n",
    "    index = 'locality_name', values='price_per_square', aggfunc=['count','mean']\n",
    ")"
   ]
  },
  {
   "cell_type": "code",
   "execution_count": 139,
   "metadata": {},
   "outputs": [],
   "source": [
    "popular_locality.columns = ['count','mean']\n",
    "\n",
    "popular_locality = popular_locality.sort_values(by='count',ascending=False).head(10)"
   ]
  },
  {
   "cell_type": "code",
   "execution_count": 140,
   "metadata": {
    "scrolled": true
   },
   "outputs": [
    {
     "data": {
      "text/html": [
       "<div>\n",
       "<style scoped>\n",
       "    .dataframe tbody tr th:only-of-type {\n",
       "        vertical-align: middle;\n",
       "    }\n",
       "\n",
       "    .dataframe tbody tr th {\n",
       "        vertical-align: top;\n",
       "    }\n",
       "\n",
       "    .dataframe thead th {\n",
       "        text-align: right;\n",
       "    }\n",
       "</style>\n",
       "<table border=\"1\" class=\"dataframe\">\n",
       "  <thead>\n",
       "    <tr style=\"text-align: right;\">\n",
       "      <th></th>\n",
       "      <th>count</th>\n",
       "      <th>mean</th>\n",
       "    </tr>\n",
       "    <tr>\n",
       "      <th>locality_name</th>\n",
       "      <th></th>\n",
       "      <th></th>\n",
       "    </tr>\n",
       "  </thead>\n",
       "  <tbody>\n",
       "    <tr>\n",
       "      <td>санкт-петербург</td>\n",
       "      <td>12546</td>\n",
       "      <td>107933.772198</td>\n",
       "    </tr>\n",
       "    <tr>\n",
       "      <td>посёлок мурино</td>\n",
       "      <td>473</td>\n",
       "      <td>85803.408034</td>\n",
       "    </tr>\n",
       "    <tr>\n",
       "      <td>посёлок шушары</td>\n",
       "      <td>394</td>\n",
       "      <td>77968.563452</td>\n",
       "    </tr>\n",
       "    <tr>\n",
       "      <td>всеволожск</td>\n",
       "      <td>322</td>\n",
       "      <td>66959.133540</td>\n",
       "    </tr>\n",
       "    <tr>\n",
       "      <td>колпино</td>\n",
       "      <td>297</td>\n",
       "      <td>74593.292929</td>\n",
       "    </tr>\n",
       "    <tr>\n",
       "      <td>посёлок парголово</td>\n",
       "      <td>293</td>\n",
       "      <td>89484.982935</td>\n",
       "    </tr>\n",
       "    <tr>\n",
       "      <td>пушкин</td>\n",
       "      <td>284</td>\n",
       "      <td>101776.320423</td>\n",
       "    </tr>\n",
       "    <tr>\n",
       "      <td>деревня кудрово</td>\n",
       "      <td>270</td>\n",
       "      <td>92673.974074</td>\n",
       "    </tr>\n",
       "    <tr>\n",
       "      <td>гатчина</td>\n",
       "      <td>251</td>\n",
       "      <td>68108.980080</td>\n",
       "    </tr>\n",
       "    <tr>\n",
       "      <td>выборг</td>\n",
       "      <td>193</td>\n",
       "      <td>57380.886010</td>\n",
       "    </tr>\n",
       "  </tbody>\n",
       "</table>\n",
       "</div>"
      ],
      "text/plain": [
       "                   count           mean\n",
       "locality_name                          \n",
       "санкт-петербург    12546  107933.772198\n",
       "посёлок мурино       473   85803.408034\n",
       "посёлок шушары       394   77968.563452\n",
       "всеволожск           322   66959.133540\n",
       "колпино              297   74593.292929\n",
       "посёлок парголово    293   89484.982935\n",
       "пушкин               284  101776.320423\n",
       "деревня кудрово      270   92673.974074\n",
       "гатчина              251   68108.980080\n",
       "выборг               193   57380.886010"
      ]
     },
     "execution_count": 140,
     "metadata": {},
     "output_type": "execute_result"
    }
   ],
   "source": [
    "popular_locality"
   ]
  },
  {
   "cell_type": "markdown",
   "metadata": {},
   "source": [
    "Населённый пункт с наибольшей стоимость жилья"
   ]
  },
  {
   "cell_type": "code",
   "execution_count": 151,
   "metadata": {},
   "outputs": [
    {
     "name": "stdout",
     "output_type": "stream",
     "text": [
      "санкт-петербург\n"
     ]
    }
   ],
   "source": [
    "print(popular_locality[\n",
    "    popular_locality['mean'] == popular_locality['mean'].max()\n",
    "].index[0])"
   ]
  },
  {
   "cell_type": "markdown",
   "metadata": {},
   "source": [
    "Населённый пункт с наименьшей стоимость жилья"
   ]
  },
  {
   "cell_type": "code",
   "execution_count": 153,
   "metadata": {},
   "outputs": [
    {
     "name": "stdout",
     "output_type": "stream",
     "text": [
      "выборг\n"
     ]
    }
   ],
   "source": [
    "print(popular_locality[\n",
    "    popular_locality['mean'] == popular_locality['mean'].min()\n",
    "].index[0]) "
   ]
  },
  {
   "cell_type": "markdown",
   "metadata": {},
   "source": [
    "### Определим квартиры в центре.\n",
    "Для каждой квартиры есть информация о расстоянии до центра. Выясним, какая область входит в центр."
   ]
  },
  {
   "cell_type": "code",
   "execution_count": 155,
   "metadata": {},
   "outputs": [],
   "source": [
    "flat_in_spb  = estate_work_data2[\n",
    "    estate_work_data2['locality_name']=='санкт-петербург'\n",
    "].loc[:,'last_price':'cityCenters_nearest'].dropna()"
   ]
  },
  {
   "cell_type": "code",
   "execution_count": 156,
   "metadata": {},
   "outputs": [],
   "source": [
    "flat_in_spb['distance_to_center_in_km'] = flat_in_spb['cityCenters_nearest'] / 1000"
   ]
  },
  {
   "cell_type": "code",
   "execution_count": 157,
   "metadata": {},
   "outputs": [],
   "source": [
    "flat_in_spb['distance_to_center_in_km'] = flat_in_spb['distance_to_center_in_km'].astype('int')"
   ]
  },
  {
   "cell_type": "code",
   "execution_count": 158,
   "metadata": {},
   "outputs": [
    {
     "data": {
      "text/plain": [
       "<matplotlib.axes._subplots.AxesSubplot at 0x7fbf1b67ccd0>"
      ]
     },
     "execution_count": 158,
     "metadata": {},
     "output_type": "execute_result"
    },
    {
     "data": {
      "image/png": "[encoded data removed]",
      "text/plain": [
       "<Figure size 432x288 with 1 Axes>"
      ]
     },
     "metadata": {
      "needs_background": "light"
     },
     "output_type": "display_data"
    }
   ],
   "source": [
    "price_in_center = flat_in_spb.pivot_table(\n",
    "    index='distance_to_center_in_km',values='last_price'\n",
    ")\n",
    "\n",
    "price_in_center.plot(y='last_price',grid=True,marker='o')"
   ]
  },
  {
   "cell_type": "code",
   "execution_count": 159,
   "metadata": {},
   "outputs": [
    {
     "data": {
      "text/plain": [
       "count    5.960000e+02\n",
       "mean     1.412891e+07\n",
       "std      3.949114e+06\n",
       "min      1.000565e+07\n",
       "25%      1.140000e+07\n",
       "50%      1.290000e+07\n",
       "75%      1.530000e+07\n",
       "max      2.999000e+07\n",
       "Name: last_price, dtype: float64"
      ]
     },
     "execution_count": 159,
     "metadata": {},
     "output_type": "execute_result"
    }
   ],
   "source": [
    "flat_in_spb.query(\n",
    "    'total_area > 70 and last_price > 10**7 and distance_to_center_in_km > 7'\n",
    ")['last_price'].describe()"
   ]
  },
  {
   "cell_type": "markdown",
   "metadata": {},
   "source": [
    " После 7 км цена за квартиру резко падает. Это и будет граница условного центра города. Иногда встречаются относительно дорогие квартиры не в центре.\n",
    " Обозначим границы цен для центра города."
   ]
  },
  {
   "cell_type": "code",
   "execution_count": 162,
   "metadata": {},
   "outputs": [
    {
     "data": {
      "text/plain": [
       "count    2.565000e+03\n",
       "mean     9.607887e+06\n",
       "std      5.168029e+06\n",
       "min      1.600000e+06\n",
       "25%      6.090000e+06\n",
       "50%      8.100000e+06\n",
       "75%      1.173000e+07\n",
       "max      2.990000e+07\n",
       "Name: last_price, dtype: float64"
      ]
     },
     "execution_count": 162,
     "metadata": {},
     "output_type": "execute_result"
    }
   ],
   "source": [
    "flat_in_center = flat_in_spb.query('distance_to_center_in_km < 8')\n",
    "\n",
    "flat_in_center['last_price'].describe()"
   ]
  },
  {
   "cell_type": "markdown",
   "metadata": {},
   "source": [
    "Половину квартир в центре можно купить по цене ниже 8.5 млн, но явно больше 1.5 млн."
   ]
  },
  {
   "cell_type": "markdown",
   "metadata": {},
   "source": [
    "Проанализируем центр Санкт-Петербурга. Изучим следующие параметры: площадь, цена, число комнат, высота потолков. Также выделим факторы, которые влияют на стоимость квартиры (число комнат, этаж, удалённость от центра, дата размещения объявления). Сделайте выводы. Отличаются ли они от общих выводов по всему городу?"
   ]
  },
  {
   "cell_type": "code",
   "execution_count": 163,
   "metadata": {},
   "outputs": [
    {
     "data": {
      "text/plain": [
       "count    2565.000000\n",
       "mean       78.521653\n",
       "std        36.943753\n",
       "min        15.500000\n",
       "25%        51.500000\n",
       "50%        72.000000\n",
       "75%        96.000000\n",
       "max       290.000000\n",
       "Name: total_area, dtype: float64"
      ]
     },
     "execution_count": 163,
     "metadata": {},
     "output_type": "execute_result"
    }
   ],
   "source": [
    "flat_in_center['total_area'].describe()"
   ]
  },
  {
   "cell_type": "code",
   "execution_count": 164,
   "metadata": {},
   "outputs": [
    {
     "data": {
      "text/plain": [
       "<matplotlib.axes._subplots.AxesSubplot at 0x7fbf1b44c490>"
      ]
     },
     "execution_count": 164,
     "metadata": {},
     "output_type": "execute_result"
    },
    {
     "data": {
      "image/png": "[encoded data removed]",
      "text/plain": [
       "<Figure size 432x288 with 1 Axes>"
      ]
     },
     "metadata": {
      "needs_background": "light"
     },
     "output_type": "display_data"
    }
   ],
   "source": [
    "flat_in_center['total_area'].hist(bins=100)"
   ]
  },
  {
   "cell_type": "code",
   "execution_count": 165,
   "metadata": {},
   "outputs": [
    {
     "data": {
      "text/plain": [
       "count    2.565000e+03\n",
       "mean     9.607887e+06\n",
       "std      5.168029e+06\n",
       "min      1.600000e+06\n",
       "25%      6.090000e+06\n",
       "50%      8.100000e+06\n",
       "75%      1.173000e+07\n",
       "max      2.990000e+07\n",
       "Name: last_price, dtype: float64"
      ]
     },
     "execution_count": 165,
     "metadata": {},
     "output_type": "execute_result"
    }
   ],
   "source": [
    "flat_in_center['last_price'].describe()"
   ]
  },
  {
   "cell_type": "code",
   "execution_count": 166,
   "metadata": {},
   "outputs": [
    {
     "data": {
      "text/plain": [
       "<matplotlib.axes._subplots.AxesSubplot at 0x7fbf1b3a3410>"
      ]
     },
     "execution_count": 166,
     "metadata": {},
     "output_type": "execute_result"
    },
    {
     "data": {
      "image/png": "[encoded data removed]",
      "text/plain": [
       "<Figure size 432x288 with 1 Axes>"
      ]
     },
     "metadata": {
      "needs_background": "light"
     },
     "output_type": "display_data"
    }
   ],
   "source": [
    "flat_in_center.plot(y='last_price',kind= 'hist',bins=100)"
   ]
  },
  {
   "cell_type": "code",
   "execution_count": 167,
   "metadata": {},
   "outputs": [
    {
     "data": {
      "text/plain": [
       "count    2565.000000\n",
       "mean        2.590643\n",
       "std         1.191195\n",
       "min         1.000000\n",
       "25%         2.000000\n",
       "50%         2.000000\n",
       "75%         3.000000\n",
       "max         7.000000\n",
       "Name: rooms, dtype: float64"
      ]
     },
     "execution_count": 167,
     "metadata": {},
     "output_type": "execute_result"
    }
   ],
   "source": [
    "flat_in_center['rooms'].describe()"
   ]
  },
  {
   "cell_type": "code",
   "execution_count": 168,
   "metadata": {},
   "outputs": [
    {
     "data": {
      "text/plain": [
       "<matplotlib.axes._subplots.AxesSubplot at 0x7fbf1b11bb10>"
      ]
     },
     "execution_count": 168,
     "metadata": {},
     "output_type": "execute_result"
    },
    {
     "data": {
      "image/png": "[encoded data removed]",
      "text/plain": [
       "<Figure size 432x288 with 1 Axes>"
      ]
     },
     "metadata": {
      "needs_background": "light"
     },
     "output_type": "display_data"
    }
   ],
   "source": [
    "flat_in_center['rooms'].hist(bins=100)"
   ]
  },
  {
   "cell_type": "code",
   "execution_count": 169,
   "metadata": {},
   "outputs": [
    {
     "data": {
      "text/plain": [
       "count    2565.000000\n",
       "mean        2.909267\n",
       "std         0.324152\n",
       "min         2.460000\n",
       "25%         2.700000\n",
       "50%         2.710000\n",
       "75%         3.070000\n",
       "max         5.800000\n",
       "Name: ceiling_height, dtype: float64"
      ]
     },
     "execution_count": 169,
     "metadata": {},
     "output_type": "execute_result"
    }
   ],
   "source": [
    "flat_in_center['ceiling_height'].describe()"
   ]
  },
  {
   "cell_type": "code",
   "execution_count": 170,
   "metadata": {},
   "outputs": [
    {
     "data": {
      "text/plain": [
       "<matplotlib.axes._subplots.AxesSubplot at 0x7fbf1afe8ad0>"
      ]
     },
     "execution_count": 170,
     "metadata": {},
     "output_type": "execute_result"
    },
    {
     "data": {
      "image/png": "[encoded data removed]",
      "text/plain": [
       "<Figure size 432x288 with 1 Axes>"
      ]
     },
     "metadata": {
      "needs_background": "light"
     },
     "output_type": "display_data"
    }
   ],
   "source": [
    "flat_in_center['ceiling_height'].hist(bins=100)"
   ]
  },
  {
   "cell_type": "code",
   "execution_count": 171,
   "metadata": {},
   "outputs": [
    {
     "data": {
      "text/plain": [
       "distance_to_center_in_km   -0.120299\n",
       "cityCenters_nearest        -0.120215\n",
       "studio                     -0.057193\n",
       "open_plan                  -0.032894\n",
       "is_apartment               -0.016371\n",
       "airports_nearest            0.055296\n",
       "floors_total                0.106576\n",
       "balcony                     0.115167\n",
       "floor                       0.171459\n",
       "ceiling_height              0.173171\n",
       "rooms                       0.495620\n",
       "kitchen_area                0.566006\n",
       "living_area                 0.637153\n",
       "total_area                  0.750558\n",
       "last_price                  1.000000\n",
       "Name: last_price, dtype: float64"
      ]
     },
     "execution_count": 171,
     "metadata": {},
     "output_type": "execute_result"
    }
   ],
   "source": [
    "flat_in_center.corr()['last_price'].sort_values().dropna()"
   ]
  },
  {
   "cell_type": "markdown",
   "metadata": {},
   "source": [
    "Из результатов корреляции можно сделать только один вывод. На цену квартиры в центре сильнее всего влияет именно её площадь. Также сильно влияет количество комнат и высота потолков."
   ]
  },
  {
   "cell_type": "markdown",
   "metadata": {},
   "source": [
    "## Общий вывод"
   ]
  },
  {
   "cell_type": "markdown",
   "metadata": {},
   "source": [
    "Незвисимо от населенного пункта на цену квартиры сильнее всего влияет её общая площадь, площадь кухни количество комнат и высота потолков. \n",
    "Квартиры в центре по цене сильно отличаются от других, но влияние факторов остаётся неизменным."
   ]
  },
  {
   "cell_type": "code",
   "execution_count": 172,
   "metadata": {},
   "outputs": [
    {
     "data": {
      "text/plain": [
       "<matplotlib.axes._subplots.AxesSubplot at 0x7fbf1ae15fd0>"
      ]
     },
     "execution_count": 172,
     "metadata": {},
     "output_type": "execute_result"
    },
    {
     "data": {
      "image/png": "[encoded data removed]",
      "text/plain": [
       "<Figure size 432x288 with 1 Axes>"
      ]
     },
     "metadata": {
      "needs_background": "light"
     },
     "output_type": "display_data"
    }
   ],
   "source": [
    "price_in_center.plot(y='last_price',grid=True,marker='o')"
   ]
  },
  {
   "cell_type": "markdown",
   "metadata": {},
   "source": [
    "Больше всего объявлений в Санкт-Петербурге. В топ десять по числу объявлений попали:"
   ]
  },
  {
   "cell_type": "code",
   "execution_count": 173,
   "metadata": {},
   "outputs": [
    {
     "data": {
      "text/html": [
       "<div>\n",
       "<style scoped>\n",
       "    .dataframe tbody tr th:only-of-type {\n",
       "        vertical-align: middle;\n",
       "    }\n",
       "\n",
       "    .dataframe tbody tr th {\n",
       "        vertical-align: top;\n",
       "    }\n",
       "\n",
       "    .dataframe thead th {\n",
       "        text-align: right;\n",
       "    }\n",
       "</style>\n",
       "<table border=\"1\" class=\"dataframe\">\n",
       "  <thead>\n",
       "    <tr style=\"text-align: right;\">\n",
       "      <th></th>\n",
       "      <th>count</th>\n",
       "      <th>mean</th>\n",
       "    </tr>\n",
       "    <tr>\n",
       "      <th>locality_name</th>\n",
       "      <th></th>\n",
       "      <th></th>\n",
       "    </tr>\n",
       "  </thead>\n",
       "  <tbody>\n",
       "    <tr>\n",
       "      <td>санкт-петербург</td>\n",
       "      <td>12546</td>\n",
       "      <td>107933.772198</td>\n",
       "    </tr>\n",
       "    <tr>\n",
       "      <td>посёлок мурино</td>\n",
       "      <td>473</td>\n",
       "      <td>85803.408034</td>\n",
       "    </tr>\n",
       "    <tr>\n",
       "      <td>посёлок шушары</td>\n",
       "      <td>394</td>\n",
       "      <td>77968.563452</td>\n",
       "    </tr>\n",
       "    <tr>\n",
       "      <td>всеволожск</td>\n",
       "      <td>322</td>\n",
       "      <td>66959.133540</td>\n",
       "    </tr>\n",
       "    <tr>\n",
       "      <td>колпино</td>\n",
       "      <td>297</td>\n",
       "      <td>74593.292929</td>\n",
       "    </tr>\n",
       "    <tr>\n",
       "      <td>посёлок парголово</td>\n",
       "      <td>293</td>\n",
       "      <td>89484.982935</td>\n",
       "    </tr>\n",
       "    <tr>\n",
       "      <td>пушкин</td>\n",
       "      <td>284</td>\n",
       "      <td>101776.320423</td>\n",
       "    </tr>\n",
       "    <tr>\n",
       "      <td>деревня кудрово</td>\n",
       "      <td>270</td>\n",
       "      <td>92673.974074</td>\n",
       "    </tr>\n",
       "    <tr>\n",
       "      <td>гатчина</td>\n",
       "      <td>251</td>\n",
       "      <td>68108.980080</td>\n",
       "    </tr>\n",
       "    <tr>\n",
       "      <td>выборг</td>\n",
       "      <td>193</td>\n",
       "      <td>57380.886010</td>\n",
       "    </tr>\n",
       "  </tbody>\n",
       "</table>\n",
       "</div>"
      ],
      "text/plain": [
       "                   count           mean\n",
       "locality_name                          \n",
       "санкт-петербург    12546  107933.772198\n",
       "посёлок мурино       473   85803.408034\n",
       "посёлок шушары       394   77968.563452\n",
       "всеволожск           322   66959.133540\n",
       "колпино              297   74593.292929\n",
       "посёлок парголово    293   89484.982935\n",
       "пушкин               284  101776.320423\n",
       "деревня кудрово      270   92673.974074\n",
       "гатчина              251   68108.980080\n",
       "выборг               193   57380.886010"
      ]
     },
     "execution_count": 173,
     "metadata": {},
     "output_type": "execute_result"
    }
   ],
   "source": [
    "popular_locality"
   ]
  },
  {
   "cell_type": "markdown",
   "metadata": {},
   "source": [
    "В среднем, самое дорогое жилье в Санкт-Петербурге, а самое дешевое в Выборге.\n",
    "Обозначим границы параметров квартир из рассматриваемых объявлений в Санкт-Петербурге."
   ]
  },
  {
   "cell_type": "code",
   "execution_count": 174,
   "metadata": {},
   "outputs": [
    {
     "data": {
      "text/html": [
       "<div>\n",
       "<style scoped>\n",
       "    .dataframe tbody tr th:only-of-type {\n",
       "        vertical-align: middle;\n",
       "    }\n",
       "\n",
       "    .dataframe tbody tr th {\n",
       "        vertical-align: top;\n",
       "    }\n",
       "\n",
       "    .dataframe thead th {\n",
       "        text-align: right;\n",
       "    }\n",
       "</style>\n",
       "<table border=\"1\" class=\"dataframe\">\n",
       "  <thead>\n",
       "    <tr style=\"text-align: right;\">\n",
       "      <th></th>\n",
       "      <th>last_price</th>\n",
       "      <th>total_area</th>\n",
       "      <th>rooms</th>\n",
       "      <th>ceiling_height</th>\n",
       "      <th>floors_total</th>\n",
       "      <th>living_area</th>\n",
       "      <th>floor</th>\n",
       "      <th>kitchen_area</th>\n",
       "      <th>balcony</th>\n",
       "      <th>airports_nearest</th>\n",
       "      <th>cityCenters_nearest</th>\n",
       "      <th>distance_to_center_in_km</th>\n",
       "    </tr>\n",
       "  </thead>\n",
       "  <tbody>\n",
       "    <tr>\n",
       "      <td>count</td>\n",
       "      <td>1.250700e+04</td>\n",
       "      <td>12507.000000</td>\n",
       "      <td>12507.000000</td>\n",
       "      <td>12507.000000</td>\n",
       "      <td>12507.000000</td>\n",
       "      <td>12507.000000</td>\n",
       "      <td>12507.000000</td>\n",
       "      <td>12507.000000</td>\n",
       "      <td>12507.000000</td>\n",
       "      <td>12507.000000</td>\n",
       "      <td>12507.000000</td>\n",
       "      <td>12507.000000</td>\n",
       "    </tr>\n",
       "    <tr>\n",
       "      <td>mean</td>\n",
       "      <td>6.430273e+06</td>\n",
       "      <td>59.210517</td>\n",
       "      <td>2.064844</td>\n",
       "      <td>2.723286</td>\n",
       "      <td>11.582634</td>\n",
       "      <td>33.955360</td>\n",
       "      <td>6.330695</td>\n",
       "      <td>10.366838</td>\n",
       "      <td>0.592868</td>\n",
       "      <td>28152.312945</td>\n",
       "      <td>11906.002479</td>\n",
       "      <td>11.407452</td>\n",
       "    </tr>\n",
       "    <tr>\n",
       "      <td>std</td>\n",
       "      <td>3.819501e+06</td>\n",
       "      <td>27.968405</td>\n",
       "      <td>1.000576</td>\n",
       "      <td>0.224110</td>\n",
       "      <td>6.390758</td>\n",
       "      <td>18.390348</td>\n",
       "      <td>4.935975</td>\n",
       "      <td>5.162327</td>\n",
       "      <td>0.957304</td>\n",
       "      <td>11792.123960</td>\n",
       "      <td>4670.798880</td>\n",
       "      <td>4.670972</td>\n",
       "    </tr>\n",
       "    <tr>\n",
       "      <td>min</td>\n",
       "      <td>1.190000e+06</td>\n",
       "      <td>14.000000</td>\n",
       "      <td>1.000000</td>\n",
       "      <td>2.450000</td>\n",
       "      <td>1.000000</td>\n",
       "      <td>2.000000</td>\n",
       "      <td>1.000000</td>\n",
       "      <td>2.000000</td>\n",
       "      <td>0.000000</td>\n",
       "      <td>0.000000</td>\n",
       "      <td>208.000000</td>\n",
       "      <td>0.000000</td>\n",
       "    </tr>\n",
       "    <tr>\n",
       "      <td>25%</td>\n",
       "      <td>4.090000e+06</td>\n",
       "      <td>40.900000</td>\n",
       "      <td>1.000000</td>\n",
       "      <td>2.600000</td>\n",
       "      <td>6.000000</td>\n",
       "      <td>19.000000</td>\n",
       "      <td>3.000000</td>\n",
       "      <td>7.000000</td>\n",
       "      <td>0.000000</td>\n",
       "      <td>18090.000000</td>\n",
       "      <td>9072.000000</td>\n",
       "      <td>9.000000</td>\n",
       "    </tr>\n",
       "    <tr>\n",
       "      <td>50%</td>\n",
       "      <td>5.200000e+06</td>\n",
       "      <td>52.000000</td>\n",
       "      <td>2.000000</td>\n",
       "      <td>2.700000</td>\n",
       "      <td>9.000000</td>\n",
       "      <td>30.300000</td>\n",
       "      <td>5.000000</td>\n",
       "      <td>9.200000</td>\n",
       "      <td>0.000000</td>\n",
       "      <td>27089.000000</td>\n",
       "      <td>12483.000000</td>\n",
       "      <td>12.000000</td>\n",
       "    </tr>\n",
       "    <tr>\n",
       "      <td>75%</td>\n",
       "      <td>7.355000e+06</td>\n",
       "      <td>70.000000</td>\n",
       "      <td>3.000000</td>\n",
       "      <td>2.700000</td>\n",
       "      <td>16.000000</td>\n",
       "      <td>42.400000</td>\n",
       "      <td>9.000000</td>\n",
       "      <td>12.000000</td>\n",
       "      <td>1.000000</td>\n",
       "      <td>36813.000000</td>\n",
       "      <td>15030.000000</td>\n",
       "      <td>15.000000</td>\n",
       "    </tr>\n",
       "    <tr>\n",
       "      <td>max</td>\n",
       "      <td>2.999000e+07</td>\n",
       "      <td>460.800000</td>\n",
       "      <td>7.000000</td>\n",
       "      <td>8.300000</td>\n",
       "      <td>52.000000</td>\n",
       "      <td>279.600000</td>\n",
       "      <td>33.000000</td>\n",
       "      <td>100.700000</td>\n",
       "      <td>5.000000</td>\n",
       "      <td>54784.000000</td>\n",
       "      <td>29493.000000</td>\n",
       "      <td>29.000000</td>\n",
       "    </tr>\n",
       "  </tbody>\n",
       "</table>\n",
       "</div>"
      ],
      "text/plain": [
       "         last_price    total_area         rooms  ceiling_height  floors_total  \\\n",
       "count  1.250700e+04  12507.000000  12507.000000    12507.000000  12507.000000   \n",
       "mean   6.430273e+06     59.210517      2.064844        2.723286     11.582634   \n",
       "std    3.819501e+06     27.968405      1.000576        0.224110      6.390758   \n",
       "min    1.190000e+06     14.000000      1.000000        2.450000      1.000000   \n",
       "25%    4.090000e+06     40.900000      1.000000        2.600000      6.000000   \n",
       "50%    5.200000e+06     52.000000      2.000000        2.700000      9.000000   \n",
       "75%    7.355000e+06     70.000000      3.000000        2.700000     16.000000   \n",
       "max    2.999000e+07    460.800000      7.000000        8.300000     52.000000   \n",
       "\n",
       "        living_area         floor  kitchen_area       balcony  \\\n",
       "count  12507.000000  12507.000000  12507.000000  12507.000000   \n",
       "mean      33.955360      6.330695     10.366838      0.592868   \n",
       "std       18.390348      4.935975      5.162327      0.957304   \n",
       "min        2.000000      1.000000      2.000000      0.000000   \n",
       "25%       19.000000      3.000000      7.000000      0.000000   \n",
       "50%       30.300000      5.000000      9.200000      0.000000   \n",
       "75%       42.400000      9.000000     12.000000      1.000000   \n",
       "max      279.600000     33.000000    100.700000      5.000000   \n",
       "\n",
       "       airports_nearest  cityCenters_nearest  distance_to_center_in_km  \n",
       "count      12507.000000         12507.000000              12507.000000  \n",
       "mean       28152.312945         11906.002479                 11.407452  \n",
       "std        11792.123960          4670.798880                  4.670972  \n",
       "min            0.000000           208.000000                  0.000000  \n",
       "25%        18090.000000          9072.000000                  9.000000  \n",
       "50%        27089.000000         12483.000000                 12.000000  \n",
       "75%        36813.000000         15030.000000                 15.000000  \n",
       "max        54784.000000         29493.000000                 29.000000  "
      ]
     },
     "execution_count": 174,
     "metadata": {},
     "output_type": "execute_result"
    }
   ],
   "source": [
    "flat_in_spb.describe()"
   ]
  },
  {
   "cell_type": "markdown",
   "metadata": {},
   "source": [
    "В Санкт-Петербурге большинство квартир можно купить по цене до 7.5 млн., но не дешевле 1.2 млн, с площадью 40-70 кв.м.\n",
    "Проще всего будет найти квартиру с 1,2 или 3 комнатами, со стандартной высотой потолков. \n",
    "Жилье в центре будет найти не сложно, примерно 20% от всех объявлений в Санкт-Петербурге.\n",
    "А вот квартир с балконами на удивление мало, лишь 25%.\n",
    "\n",
    "Также рекомендация для тех, кто хочет сэкономить. Можно искать те объявления, которые висят больше года и пугать владельцев таких квартир тем, что их шансы на продажу практически равны 0."
   ]
  }
 ],
 "metadata": {
  "ExecuteTimeLog": [
   {
    "duration": 411,
    "start_time": "2021-06-11T10:58:53.058Z"
   },
   {
    "duration": 837,
    "start_time": "2021-06-11T10:59:02.488Z"
   },
   {
    "duration": 91,
    "start_time": "2021-06-11T10:59:03.328Z"
   },
   {
    "duration": 19,
    "start_time": "2021-06-11T10:59:03.422Z"
   },
   {
    "duration": 105,
    "start_time": "2021-06-11T10:59:03.443Z"
   },
   {
    "duration": 41,
    "start_time": "2021-06-11T10:59:03.550Z"
   },
   {
    "duration": 26,
    "start_time": "2021-06-11T10:59:03.593Z"
   },
   {
    "duration": 13,
    "start_time": "2021-06-11T10:59:03.622Z"
   },
   {
    "duration": 7,
    "start_time": "2021-06-11T10:59:03.639Z"
   },
   {
    "duration": 37,
    "start_time": "2021-06-11T10:59:03.649Z"
   },
   {
    "duration": 27,
    "start_time": "2021-06-11T10:59:03.689Z"
   },
   {
    "duration": 36,
    "start_time": "2021-06-11T10:59:03.718Z"
   },
   {
    "duration": 9,
    "start_time": "2021-06-11T10:59:03.756Z"
   },
   {
    "duration": 27,
    "start_time": "2021-06-11T10:59:03.768Z"
   },
   {
    "duration": 7,
    "start_time": "2021-06-11T10:59:03.798Z"
   },
   {
    "duration": 14,
    "start_time": "2021-06-11T10:59:03.807Z"
   },
   {
    "duration": 4198,
    "start_time": "2021-06-11T10:59:03.823Z"
   },
   {
    "duration": 4273,
    "start_time": "2021-06-11T10:59:08.023Z"
   },
   {
    "duration": 12,
    "start_time": "2021-06-11T10:59:12.299Z"
   },
   {
    "duration": 726,
    "start_time": "2021-06-11T10:59:12.313Z"
   },
   {
    "duration": 16,
    "start_time": "2021-06-11T10:59:13.042Z"
   },
   {
    "duration": 692,
    "start_time": "2021-06-11T10:59:13.060Z"
   },
   {
    "duration": 403,
    "start_time": "2021-06-11T10:59:13.755Z"
   },
   {
    "duration": 7,
    "start_time": "2021-06-11T10:59:14.164Z"
   },
   {
    "duration": 21,
    "start_time": "2021-06-11T10:59:14.187Z"
   },
   {
    "duration": 4,
    "start_time": "2021-06-11T10:59:14.211Z"
   },
   {
    "duration": 17,
    "start_time": "2021-06-11T10:59:14.218Z"
   },
   {
    "duration": 49,
    "start_time": "2021-06-11T10:59:14.238Z"
   },
   {
    "duration": 14,
    "start_time": "2021-06-11T10:59:14.290Z"
   },
   {
    "duration": 11,
    "start_time": "2021-06-11T10:59:14.307Z"
   },
   {
    "duration": 16,
    "start_time": "2021-06-11T10:59:14.321Z"
   },
   {
    "duration": 14,
    "start_time": "2021-06-11T10:59:14.339Z"
   },
   {
    "duration": 488,
    "start_time": "2021-06-11T10:59:14.387Z"
   },
   {
    "duration": 448,
    "start_time": "2021-06-11T10:59:14.878Z"
   },
   {
    "duration": 442,
    "start_time": "2021-06-11T10:59:15.328Z"
   },
   {
    "duration": 14,
    "start_time": "2021-06-11T10:59:15.772Z"
   },
   {
    "duration": 8,
    "start_time": "2021-06-11T10:59:15.789Z"
   },
   {
    "duration": 5,
    "start_time": "2021-06-11T10:59:15.799Z"
   },
   {
    "duration": 6,
    "start_time": "2021-06-11T10:59:15.806Z"
   },
   {
    "duration": 34,
    "start_time": "2021-06-11T10:59:15.814Z"
   },
   {
    "duration": 45,
    "start_time": "2021-06-11T10:59:15.850Z"
   },
   {
    "duration": 26,
    "start_time": "2021-06-11T10:59:15.898Z"
   },
   {
    "duration": 103,
    "start_time": "2021-06-11T10:59:15.926Z"
   },
   {
    "duration": 54,
    "start_time": "2021-06-11T10:59:16.031Z"
   },
   {
    "duration": 7,
    "start_time": "2021-06-11T10:59:16.087Z"
   },
   {
    "duration": 9,
    "start_time": "2021-06-11T10:59:16.096Z"
   },
   {
    "duration": 6,
    "start_time": "2021-06-11T10:59:16.108Z"
   },
   {
    "duration": 8,
    "start_time": "2021-06-11T10:59:16.116Z"
   },
   {
    "duration": 4334,
    "start_time": "2021-06-11T10:59:16.126Z"
   },
   {
    "duration": 4054,
    "start_time": "2021-06-11T10:59:20.463Z"
   },
   {
    "duration": 565,
    "start_time": "2021-06-11T10:59:24.520Z"
   },
   {
    "duration": 549,
    "start_time": "2021-06-11T10:59:25.088Z"
   },
   {
    "duration": 15,
    "start_time": "2021-06-11T10:59:25.639Z"
   },
   {
    "duration": 33,
    "start_time": "2021-06-11T10:59:25.656Z"
   },
   {
    "duration": 52,
    "start_time": "2021-06-11T10:59:25.692Z"
   },
   {
    "duration": 14,
    "start_time": "2021-06-11T10:59:25.746Z"
   },
   {
    "duration": 23,
    "start_time": "2021-06-11T10:59:25.763Z"
   },
   {
    "duration": 11,
    "start_time": "2021-06-11T10:59:25.789Z"
   },
   {
    "duration": 4078,
    "start_time": "2021-06-11T10:59:25.803Z"
   },
   {
    "duration": 12,
    "start_time": "2021-06-11T10:59:29.884Z"
   },
   {
    "duration": 21,
    "start_time": "2021-06-11T10:59:29.898Z"
   },
   {
    "duration": 12,
    "start_time": "2021-06-11T10:59:29.922Z"
   },
   {
    "duration": 60,
    "start_time": "2021-06-11T10:59:29.937Z"
   },
   {
    "duration": 48,
    "start_time": "2021-06-11T10:59:30.000Z"
   },
   {
    "duration": 6,
    "start_time": "2021-06-11T10:59:30.050Z"
   },
   {
    "duration": 40,
    "start_time": "2021-06-11T10:59:30.058Z"
   },
   {
    "duration": 5,
    "start_time": "2021-06-11T10:59:30.101Z"
   },
   {
    "duration": 1137,
    "start_time": "2021-06-11T10:59:30.108Z"
   },
   {
    "duration": 9,
    "start_time": "2021-06-11T10:59:31.255Z"
   },
   {
    "duration": 51,
    "start_time": "2021-06-11T10:59:31.268Z"
   },
   {
    "duration": 11,
    "start_time": "2021-06-11T10:59:31.322Z"
   },
   {
    "duration": 658,
    "start_time": "2021-06-11T10:59:31.336Z"
   },
   {
    "duration": 11,
    "start_time": "2021-06-11T10:59:31.997Z"
   },
   {
    "duration": 32,
    "start_time": "2021-06-11T10:59:32.010Z"
   },
   {
    "duration": 51,
    "start_time": "2021-06-11T10:59:32.045Z"
   },
   {
    "duration": 660,
    "start_time": "2021-06-11T10:59:32.099Z"
   },
   {
    "duration": 55,
    "start_time": "2021-06-11T10:59:32.762Z"
   },
   {
    "duration": 3,
    "start_time": "2021-06-11T10:59:32.820Z"
   },
   {
    "duration": 122,
    "start_time": "2021-06-11T10:59:32.826Z"
   },
   {
    "duration": -383,
    "start_time": "2021-06-11T10:59:33.334Z"
   },
   {
    "duration": -397,
    "start_time": "2021-06-11T10:59:33.350Z"
   },
   {
    "duration": -410,
    "start_time": "2021-06-11T10:59:33.365Z"
   },
   {
    "duration": -417,
    "start_time": "2021-06-11T10:59:33.374Z"
   },
   {
    "duration": -424,
    "start_time": "2021-06-11T10:59:33.382Z"
   },
   {
    "duration": -428,
    "start_time": "2021-06-11T10:59:33.388Z"
   },
   {
    "duration": -433,
    "start_time": "2021-06-11T10:59:33.395Z"
   },
   {
    "duration": -442,
    "start_time": "2021-06-11T10:59:33.405Z"
   },
   {
    "duration": -449,
    "start_time": "2021-06-11T10:59:33.414Z"
   },
   {
    "duration": -455,
    "start_time": "2021-06-11T10:59:33.421Z"
   },
   {
    "duration": -512,
    "start_time": "2021-06-11T10:59:33.479Z"
   },
   {
    "duration": -526,
    "start_time": "2021-06-11T10:59:33.495Z"
   },
   {
    "duration": -538,
    "start_time": "2021-06-11T10:59:33.508Z"
   },
   {
    "duration": -552,
    "start_time": "2021-06-11T10:59:33.523Z"
   },
   {
    "duration": -566,
    "start_time": "2021-06-11T10:59:33.539Z"
   },
   {
    "duration": -580,
    "start_time": "2021-06-11T10:59:33.554Z"
   },
   {
    "duration": -591,
    "start_time": "2021-06-11T10:59:33.567Z"
   },
   {
    "duration": -662,
    "start_time": "2021-06-11T10:59:33.647Z"
   },
   {
    "duration": -675,
    "start_time": "2021-06-11T10:59:33.661Z"
   },
   {
    "duration": -691,
    "start_time": "2021-06-11T10:59:33.679Z"
   },
   {
    "duration": -705,
    "start_time": "2021-06-11T10:59:33.694Z"
   },
   {
    "duration": -717,
    "start_time": "2021-06-11T10:59:33.708Z"
   },
   {
    "duration": -731,
    "start_time": "2021-06-11T10:59:33.723Z"
   },
   {
    "duration": -740,
    "start_time": "2021-06-11T10:59:33.734Z"
   },
   {
    "duration": -811,
    "start_time": "2021-06-11T10:59:33.806Z"
   },
   {
    "duration": -942,
    "start_time": "2021-06-11T10:59:33.939Z"
   },
   {
    "duration": -951,
    "start_time": "2021-06-11T10:59:33.949Z"
   },
   {
    "duration": -958,
    "start_time": "2021-06-11T10:59:33.957Z"
   },
   {
    "duration": -962,
    "start_time": "2021-06-11T10:59:33.963Z"
   },
   {
    "duration": -967,
    "start_time": "2021-06-11T10:59:33.969Z"
   },
   {
    "duration": -976,
    "start_time": "2021-06-11T10:59:33.979Z"
   },
   {
    "duration": -985,
    "start_time": "2021-06-11T10:59:33.990Z"
   },
   {
    "duration": -991,
    "start_time": "2021-06-11T10:59:33.997Z"
   },
   {
    "duration": -1103,
    "start_time": "2021-06-11T10:59:34.111Z"
   },
   {
    "duration": -1706,
    "start_time": "2021-06-11T10:59:34.715Z"
   },
   {
    "duration": -1720,
    "start_time": "2021-06-11T10:59:34.730Z"
   },
   {
    "duration": -1723,
    "start_time": "2021-06-11T10:59:34.737Z"
   },
   {
    "duration": -1729,
    "start_time": "2021-06-11T10:59:34.744Z"
   },
   {
    "duration": -1733,
    "start_time": "2021-06-11T10:59:34.750Z"
   },
   {
    "duration": -1739,
    "start_time": "2021-06-11T10:59:34.757Z"
   },
   {
    "duration": -1744,
    "start_time": "2021-06-11T10:59:34.763Z"
   },
   {
    "duration": -1750,
    "start_time": "2021-06-11T10:59:34.771Z"
   },
   {
    "duration": -1755,
    "start_time": "2021-06-11T10:59:34.777Z"
   },
   {
    "duration": -1760,
    "start_time": "2021-06-11T10:59:34.784Z"
   },
   {
    "duration": -1704,
    "start_time": "2021-06-11T10:59:34.790Z"
   },
   {
    "duration": -1710,
    "start_time": "2021-06-11T10:59:34.797Z"
   },
   {
    "duration": -1719,
    "start_time": "2021-06-11T10:59:34.808Z"
   },
   {
    "duration": -1744,
    "start_time": "2021-06-11T10:59:34.834Z"
   },
   {
    "duration": -1749,
    "start_time": "2021-06-11T10:59:34.841Z"
   },
   {
    "duration": -1757,
    "start_time": "2021-06-11T10:59:34.850Z"
   },
   {
    "duration": -1764,
    "start_time": "2021-06-11T10:59:34.858Z"
   },
   {
    "duration": -1770,
    "start_time": "2021-06-11T10:59:34.866Z"
   },
   {
    "duration": -1776,
    "start_time": "2021-06-11T10:59:34.873Z"
   },
   {
    "duration": -1781,
    "start_time": "2021-06-11T10:59:34.880Z"
   },
   {
    "duration": -1789,
    "start_time": "2021-06-11T10:59:34.889Z"
   },
   {
    "duration": -1796,
    "start_time": "2021-06-11T10:59:34.897Z"
   },
   {
    "duration": -1803,
    "start_time": "2021-06-11T10:59:34.906Z"
   },
   {
    "duration": -1809,
    "start_time": "2021-06-11T10:59:34.913Z"
   },
   {
    "duration": -1813,
    "start_time": "2021-06-11T10:59:34.919Z"
   },
   {
    "duration": -1818,
    "start_time": "2021-06-11T10:59:34.926Z"
   },
   {
    "duration": -1833,
    "start_time": "2021-06-11T10:59:34.942Z"
   },
   {
    "duration": -1840,
    "start_time": "2021-06-11T10:59:34.951Z"
   },
   {
    "duration": -1848,
    "start_time": "2021-06-11T10:59:34.960Z"
   },
   {
    "duration": -1860,
    "start_time": "2021-06-11T10:59:34.974Z"
   },
   {
    "duration": -1872,
    "start_time": "2021-06-11T10:59:34.987Z"
   },
   {
    "duration": -1883,
    "start_time": "2021-06-11T10:59:35.000Z"
   },
   {
    "duration": -1895,
    "start_time": "2021-06-11T10:59:35.013Z"
   },
   {
    "duration": -1911,
    "start_time": "2021-06-11T10:59:35.030Z"
   },
   {
    "duration": -1921,
    "start_time": "2021-06-11T10:59:35.042Z"
   },
   {
    "duration": -1947,
    "start_time": "2021-06-11T10:59:35.069Z"
   },
   {
    "duration": -1892,
    "start_time": "2021-06-11T10:59:35.079Z"
   },
   {
    "duration": 11,
    "start_time": "2021-06-11T11:09:44.678Z"
   },
   {
    "duration": 13,
    "start_time": "2021-06-11T11:10:05.824Z"
   },
   {
    "duration": 13,
    "start_time": "2021-06-11T11:10:16.839Z"
   },
   {
    "duration": 28,
    "start_time": "2021-06-11T11:11:48.545Z"
   },
   {
    "duration": 10,
    "start_time": "2021-06-11T11:13:19.569Z"
   },
   {
    "duration": 7,
    "start_time": "2021-06-11T11:13:42.009Z"
   },
   {
    "duration": 19,
    "start_time": "2021-06-11T11:14:13.662Z"
   },
   {
    "duration": 15,
    "start_time": "2021-06-11T11:15:25.893Z"
   },
   {
    "duration": 61,
    "start_time": "2021-06-11T11:15:27.412Z"
   },
   {
    "duration": 100,
    "start_time": "2021-06-11T11:17:33.336Z"
   },
   {
    "duration": 11,
    "start_time": "2021-06-11T11:17:41.879Z"
   },
   {
    "duration": 12,
    "start_time": "2021-06-11T11:18:20.407Z"
   },
   {
    "duration": 544,
    "start_time": "2021-06-11T11:18:29.042Z"
   },
   {
    "duration": 639,
    "start_time": "2021-06-11T11:18:30.360Z"
   },
   {
    "duration": 547,
    "start_time": "2021-06-11T11:18:32.259Z"
   },
   {
    "duration": 523,
    "start_time": "2021-06-11T11:18:34.455Z"
   },
   {
    "duration": 13,
    "start_time": "2021-06-11T11:18:40.753Z"
   },
   {
    "duration": 579,
    "start_time": "2021-06-11T11:18:41.097Z"
   },
   {
    "duration": 549,
    "start_time": "2021-06-11T11:18:42.193Z"
   },
   {
    "duration": 664,
    "start_time": "2021-06-11T11:18:45.910Z"
   },
   {
    "duration": 537,
    "start_time": "2021-06-11T11:18:47.196Z"
   },
   {
    "duration": 14,
    "start_time": "2021-06-11T11:18:50.234Z"
   },
   {
    "duration": 13,
    "start_time": "2021-06-11T11:18:53.417Z"
   },
   {
    "duration": 14,
    "start_time": "2021-06-11T11:18:54.082Z"
   },
   {
    "duration": 13,
    "start_time": "2021-06-11T11:19:14.549Z"
   },
   {
    "duration": 560,
    "start_time": "2021-06-11T11:19:15.011Z"
   },
   {
    "duration": 21,
    "start_time": "2021-06-11T11:19:15.574Z"
   },
   {
    "duration": 6,
    "start_time": "2021-06-11T11:19:17.083Z"
   },
   {
    "duration": 386,
    "start_time": "2021-06-11T11:19:17.502Z"
   },
   {
    "duration": 43,
    "start_time": "2021-06-11T11:19:19.141Z"
   },
   {
    "duration": 17,
    "start_time": "2021-06-11T11:19:19.853Z"
   },
   {
    "duration": 12,
    "start_time": "2021-06-11T11:19:39.079Z"
   },
   {
    "duration": 528,
    "start_time": "2021-06-11T11:19:39.322Z"
   },
   {
    "duration": 327,
    "start_time": "2021-06-11T11:19:39.852Z"
   },
   {
    "duration": 12,
    "start_time": "2021-06-11T11:19:40.185Z"
   },
   {
    "duration": 13,
    "start_time": "2021-06-11T11:19:40.660Z"
   },
   {
    "duration": 553,
    "start_time": "2021-06-11T11:19:47.894Z"
   },
   {
    "duration": 11,
    "start_time": "2021-06-11T11:20:07.365Z"
   },
   {
    "duration": 687,
    "start_time": "2021-06-11T11:20:07.937Z"
   },
   {
    "duration": 528,
    "start_time": "2021-06-11T11:20:09.406Z"
   },
   {
    "duration": 55,
    "start_time": "2021-06-11T11:20:12.739Z"
   },
   {
    "duration": 12,
    "start_time": "2021-06-11T11:20:13.530Z"
   },
   {
    "duration": 967,
    "start_time": "2021-06-11T11:20:40.354Z"
   },
   {
    "duration": 13,
    "start_time": "2021-06-11T11:20:50.603Z"
   },
   {
    "duration": 573,
    "start_time": "2021-06-11T11:20:51.004Z"
   },
   {
    "duration": 13,
    "start_time": "2021-06-11T11:20:51.585Z"
   },
   {
    "duration": 65,
    "start_time": "2021-06-11T11:21:28.971Z"
   },
   {
    "duration": 61,
    "start_time": "2021-06-11T11:21:29.338Z"
   },
   {
    "duration": 48,
    "start_time": "2021-06-11T11:21:30.312Z"
   },
   {
    "duration": 62,
    "start_time": "2021-06-11T11:21:45.929Z"
   },
   {
    "duration": 63,
    "start_time": "2021-06-11T11:21:46.561Z"
   },
   {
    "duration": 46,
    "start_time": "2021-06-11T11:21:47.114Z"
   },
   {
    "duration": 33,
    "start_time": "2021-06-11T11:21:53.612Z"
   },
   {
    "duration": 60,
    "start_time": "2021-06-11T11:21:54.806Z"
   },
   {
    "duration": 2495,
    "start_time": "2021-06-11T11:22:16.863Z"
   },
   {
    "duration": 41,
    "start_time": "2021-06-11T11:23:06.181Z"
   },
   {
    "duration": 6,
    "start_time": "2021-06-11T11:23:06.652Z"
   },
   {
    "duration": 58,
    "start_time": "2021-06-11T11:23:08.433Z"
   },
   {
    "duration": 39,
    "start_time": "2021-06-11T11:23:09.152Z"
   },
   {
    "duration": 27,
    "start_time": "2021-06-11T11:23:10.999Z"
   },
   {
    "duration": 6,
    "start_time": "2021-06-11T11:23:12.730Z"
   },
   {
    "duration": 10,
    "start_time": "2021-06-11T11:23:13.235Z"
   },
   {
    "duration": 7,
    "start_time": "2021-06-11T11:23:32.013Z"
   },
   {
    "duration": 7,
    "start_time": "2021-06-11T11:23:32.229Z"
   },
   {
    "duration": 7,
    "start_time": "2021-06-11T11:23:38.606Z"
   },
   {
    "duration": 6,
    "start_time": "2021-06-11T11:23:53.928Z"
   },
   {
    "duration": 6,
    "start_time": "2021-06-11T11:24:12.156Z"
   },
   {
    "duration": 7,
    "start_time": "2021-06-11T11:24:15.562Z"
   },
   {
    "duration": 6,
    "start_time": "2021-06-11T11:24:21.519Z"
   },
   {
    "duration": 7,
    "start_time": "2021-06-11T11:24:25.152Z"
   },
   {
    "duration": 8,
    "start_time": "2021-06-11T11:24:27.849Z"
   },
   {
    "duration": 7,
    "start_time": "2021-06-11T11:24:42.463Z"
   },
   {
    "duration": 6,
    "start_time": "2021-06-11T11:25:09.153Z"
   },
   {
    "duration": 8,
    "start_time": "2021-06-11T11:25:14.871Z"
   },
   {
    "duration": 7,
    "start_time": "2021-06-11T11:25:32.391Z"
   },
   {
    "duration": 18,
    "start_time": "2021-06-11T11:26:20.518Z"
   },
   {
    "duration": 18,
    "start_time": "2021-06-11T11:26:45.387Z"
   },
   {
    "duration": 6,
    "start_time": "2021-06-11T11:26:45.644Z"
   },
   {
    "duration": 5,
    "start_time": "2021-06-11T11:26:45.945Z"
   },
   {
    "duration": 318,
    "start_time": "2021-06-11T11:26:46.351Z"
   },
   {
    "duration": 18,
    "start_time": "2021-06-11T11:26:46.780Z"
   },
   {
    "duration": 396,
    "start_time": "2021-06-11T11:26:53.523Z"
   },
   {
    "duration": -181,
    "start_time": "2021-06-11T11:26:54.104Z"
   },
   {
    "duration": 340,
    "start_time": "2021-06-11T11:26:54.171Z"
   },
   {
    "duration": -194,
    "start_time": "2021-06-11T11:26:54.708Z"
   },
   {
    "duration": 16,
    "start_time": "2021-06-11T11:27:01.260Z"
   },
   {
    "duration": 12,
    "start_time": "2021-06-11T11:27:02.271Z"
   },
   {
    "duration": 566,
    "start_time": "2021-06-11T11:27:02.798Z"
   },
   {
    "duration": 20,
    "start_time": "2021-06-11T11:27:03.367Z"
   },
   {
    "duration": 628,
    "start_time": "2021-06-11T11:27:03.553Z"
   },
   {
    "duration": 10,
    "start_time": "2021-06-11T11:27:04.195Z"
   },
   {
    "duration": 572,
    "start_time": "2021-06-11T11:27:04.661Z"
   },
   {
    "duration": 12,
    "start_time": "2021-06-11T11:27:05.236Z"
   },
   {
    "duration": 772,
    "start_time": "2021-06-11T11:27:05.717Z"
   },
   {
    "duration": 14,
    "start_time": "2021-06-11T11:27:06.491Z"
   },
   {
    "duration": 318,
    "start_time": "2021-06-11T11:27:26.187Z"
   },
   {
    "duration": 10,
    "start_time": "2021-06-11T11:27:26.937Z"
   },
   {
    "duration": 71,
    "start_time": "2021-06-11T11:27:30.151Z"
   }
  ],
  "kernelspec": {
   "display_name": "Python 3",
   "language": "python",
   "name": "python3"
  },
  "language_info": {
   "codemirror_mode": {
    "name": "ipython",
    "version": 3
   },
   "file_extension": ".py",
   "mimetype": "text/x-python",
   "name": "python",
   "nbconvert_exporter": "python",
   "pygments_lexer": "ipython3",
   "version": "3.7.8"
  },
  "toc": {
   "base_numbering": 1,
   "nav_menu": {},
   "number_sections": true,
   "sideBar": true,
   "skip_h1_title": true,
   "title_cell": "Содержание",
   "title_sidebar": "Contents",
   "toc_cell": true,
   "toc_position": {},
   "toc_section_display": true,
   "toc_window_display": false
  }
 },
 "nbformat": 4,
 "nbformat_minor": 2
}
