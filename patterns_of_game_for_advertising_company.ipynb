{
 "cells": [
  {
   "cell_type": "markdown",
   "metadata": {},
   "source": [
    "# Определение параметров потенциально успешной игры"
   ]
  },
  {
   "cell_type": "markdown",
   "metadata": {
    "toc": true
   },
   "source": [
    "<h1>Table of Contents<span class=\"tocSkip\"></span></h1>\n",
    "<div class=\"toc\"><ul class=\"toc-item\"><li><span><a href=\"#Постановка-задачи\" data-toc-modified-id=\"Постановка-задачи-1\"><span class=\"toc-item-num\">1&nbsp;&nbsp;</span>Постановка задачи</a></span></li><li><span><a href=\"#Просмотр-первичных-данных\" data-toc-modified-id=\"Просмотр-первичных-данных-2\"><span class=\"toc-item-num\">2&nbsp;&nbsp;</span>Просмотр первичных данных</a></span></li><li><span><a href=\"#Подготовка-данных\" data-toc-modified-id=\"Подготовка-данных-3\"><span class=\"toc-item-num\">3&nbsp;&nbsp;</span>Подготовка данных</a></span><ul class=\"toc-item\"><li><span><a href=\"#Аббревиатура-tbd\" data-toc-modified-id=\"Аббревиатура-tbd-3.1\"><span class=\"toc-item-num\">3.1&nbsp;&nbsp;</span>Аббревиатура tbd</a></span></li><li><span><a href=\"#Суммарные-продажи\" data-toc-modified-id=\"Суммарные-продажи-3.2\"><span class=\"toc-item-num\">3.2&nbsp;&nbsp;</span>Суммарные продажи</a></span></li></ul></li><li><span><a href=\"#Исследовательский-анализ-данных\" data-toc-modified-id=\"Исследовательский-анализ-данных-4\"><span class=\"toc-item-num\">4&nbsp;&nbsp;</span>Исследовательский анализ данных</a></span><ul class=\"toc-item\"><li><span><a href=\"#Сколько-игр-выпускалось-в-разные-годы?\" data-toc-modified-id=\"Сколько-игр-выпускалось-в-разные-годы?-4.1\"><span class=\"toc-item-num\">4.1&nbsp;&nbsp;</span>Сколько игр выпускалось в разные годы?</a></span></li><li><span><a href=\"#Актуальные-платформы\" data-toc-modified-id=\"Актуальные-платформы-4.2\"><span class=\"toc-item-num\">4.2&nbsp;&nbsp;</span>Актуальные платформы</a></span></li><li><span><a href=\"#Распределение-игр-по-жанрам\" data-toc-modified-id=\"Распределение-игр-по-жанрам-4.3\"><span class=\"toc-item-num\">4.3&nbsp;&nbsp;</span>Распределение игр по жанрам</a></span></li></ul></li><li><span><a href=\"#Портрет-пользователя-каждого-региона\" data-toc-modified-id=\"Портрет-пользователя-каждого-региона-5\"><span class=\"toc-item-num\">5&nbsp;&nbsp;</span>Портрет пользователя каждого региона</a></span><ul class=\"toc-item\"><li><span><a href=\"#Северная-Америка\" data-toc-modified-id=\"Северная-Америка-5.1\"><span class=\"toc-item-num\">5.1&nbsp;&nbsp;</span>Северная Америка</a></span></li><li><span><a href=\"#Северная-Европа\" data-toc-modified-id=\"Северная-Европа-5.2\"><span class=\"toc-item-num\">5.2&nbsp;&nbsp;</span>Северная Европа</a></span></li><li><span><a href=\"#Япония\" data-toc-modified-id=\"Япония-5.3\"><span class=\"toc-item-num\">5.3&nbsp;&nbsp;</span>Япония</a></span></li></ul></li><li><span><a href=\"#Проверка-гипотез\" data-toc-modified-id=\"Проверка-гипотез-6\"><span class=\"toc-item-num\">6&nbsp;&nbsp;</span>Проверка гипотез</a></span><ul class=\"toc-item\"><li><span><a href=\"#Средние-пользовательские-рейтинги-платформ-Xbox-One-и-PC\" data-toc-modified-id=\"Средние-пользовательские-рейтинги-платформ-Xbox-One-и-PC-6.1\"><span class=\"toc-item-num\">6.1&nbsp;&nbsp;</span>Средние пользовательские рейтинги платформ Xbox One и PC</a></span></li><li><span><a href=\"#Средние-пользовательские-рейтинги-жанров-Action-и-Sports\" data-toc-modified-id=\"Средние-пользовательские-рейтинги-жанров-Action-и-Sports-6.2\"><span class=\"toc-item-num\">6.2&nbsp;&nbsp;</span>Средние пользовательские рейтинги жанров Action и Sports</a></span></li></ul></li><li><span><a href=\"#Вывод\" data-toc-modified-id=\"Вывод-7\"><span class=\"toc-item-num\">7&nbsp;&nbsp;</span>Вывод</a></span><ul class=\"toc-item\"><li><span><a href=\"#На-какие-моменты-образать-внимание,-при-подборе-проектов-для-рекламной-кампании\" data-toc-modified-id=\"На-какие-моменты-образать-внимание,-при-подборе-проектов-для-рекламной-кампании-7.1\"><span class=\"toc-item-num\">7.1&nbsp;&nbsp;</span><b>На какие моменты образать внимание, при подборе проектов для рекламной кампании</b></a></span><ul class=\"toc-item\"><li><span><a href=\"#Платформа\" data-toc-modified-id=\"Платформа-7.1.1\"><span class=\"toc-item-num\">7.1.1&nbsp;&nbsp;</span><b>Платформа</b></a></span></li><li><span><a href=\"#Жанр\" data-toc-modified-id=\"Жанр-7.1.2\"><span class=\"toc-item-num\">7.1.2&nbsp;&nbsp;</span><b>Жанр</b></a></span></li><li><span><a href=\"#Оценка-критиков\" data-toc-modified-id=\"Оценка-критиков-7.1.3\"><span class=\"toc-item-num\">7.1.3&nbsp;&nbsp;</span><b>Оценка критиков</b></a></span></li><li><span><a href=\"#Специфика-рынка\" data-toc-modified-id=\"Специфика-рынка-7.1.4\"><span class=\"toc-item-num\">7.1.4&nbsp;&nbsp;</span><b>Специфика рынка</b></a></span></li></ul></li></ul></li></ul></div>"
   ]
  },
  {
   "cell_type": "markdown",
   "metadata": {},
   "source": [
    "## Постановка задачи  \n",
    "Нам нужно выявить определяющие успешность игры закономерности, чтобы спланировать рекламные кампании. Для этого, проведем анализ данных о проданых играх до 2016 год. Выявим самые популярные и спрогнозируем возможный набор критериев для финансово-успешной игры.  \n",
    "\n",
    "## Просмотр первичных данных \n",
    "\n",
    "- Name — название игры\n",
    "- Platform — платформа\n",
    "- Year_of_Release — год выпуска\n",
    "- Genre — жанр игры\n",
    "- NA_sales — продажи в Северной Америке (миллионы проданных копий)\n",
    "- EU_sales — продажи в Европе (миллионы проданных копий)\n",
    "- JP_sales — продажи в Японии (миллионы проданных копий)\n",
    "- Other_sales — продажи в других странах (миллионы проданных копий)\n",
    "- Critic_Score — оценка критиков (максимум 100)\n",
    "- User_Score — оценка пользователей (максимум 10)\n",
    "- Rating — рейтинг от организации ESRB (англ. Entertainment Software Rating Board). Эта ассоциация определяет рейтинг компьютерных игр и присваивает им подходящую возрастную категорию.  \n",
    "\n",
    "Данные за 2016 год могут быть неполными."
   ]
  },
  {
   "cell_type": "code",
   "execution_count": 1,
   "metadata": {},
   "outputs": [],
   "source": [
    "import pandas as pd\n",
    "from scipy import stats as st\n",
    "import numpy as np\n",
    "import matplotlib.pyplot as plt"
   ]
  },
  {
   "cell_type": "code",
   "execution_count": 2,
   "metadata": {},
   "outputs": [],
   "source": [
    "game_df = pd.read_csv('/datasets/games.csv')"
   ]
  },
  {
   "cell_type": "code",
   "execution_count": 3,
   "metadata": {},
   "outputs": [
    {
     "data": {
      "text/html": [
       "<div>\n",
       "<style scoped>\n",
       "    .dataframe tbody tr th:only-of-type {\n",
       "        vertical-align: middle;\n",
       "    }\n",
       "\n",
       "    .dataframe tbody tr th {\n",
       "        vertical-align: top;\n",
       "    }\n",
       "\n",
       "    .dataframe thead th {\n",
       "        text-align: right;\n",
       "    }\n",
       "</style>\n",
       "<table border=\"1\" class=\"dataframe\">\n",
       "  <thead>\n",
       "    <tr style=\"text-align: right;\">\n",
       "      <th></th>\n",
       "      <th>Name</th>\n",
       "      <th>Platform</th>\n",
       "      <th>Year_of_Release</th>\n",
       "      <th>Genre</th>\n",
       "      <th>NA_sales</th>\n",
       "      <th>EU_sales</th>\n",
       "      <th>JP_sales</th>\n",
       "      <th>Other_sales</th>\n",
       "      <th>Critic_Score</th>\n",
       "      <th>User_Score</th>\n",
       "      <th>Rating</th>\n",
       "    </tr>\n",
       "  </thead>\n",
       "  <tbody>\n",
       "    <tr>\n",
       "      <td>0</td>\n",
       "      <td>Wii Sports</td>\n",
       "      <td>Wii</td>\n",
       "      <td>2006.0</td>\n",
       "      <td>Sports</td>\n",
       "      <td>41.36</td>\n",
       "      <td>28.96</td>\n",
       "      <td>3.77</td>\n",
       "      <td>8.45</td>\n",
       "      <td>76.0</td>\n",
       "      <td>8</td>\n",
       "      <td>E</td>\n",
       "    </tr>\n",
       "    <tr>\n",
       "      <td>1</td>\n",
       "      <td>Super Mario Bros.</td>\n",
       "      <td>NES</td>\n",
       "      <td>1985.0</td>\n",
       "      <td>Platform</td>\n",
       "      <td>29.08</td>\n",
       "      <td>3.58</td>\n",
       "      <td>6.81</td>\n",
       "      <td>0.77</td>\n",
       "      <td>NaN</td>\n",
       "      <td>NaN</td>\n",
       "      <td>NaN</td>\n",
       "    </tr>\n",
       "    <tr>\n",
       "      <td>2</td>\n",
       "      <td>Mario Kart Wii</td>\n",
       "      <td>Wii</td>\n",
       "      <td>2008.0</td>\n",
       "      <td>Racing</td>\n",
       "      <td>15.68</td>\n",
       "      <td>12.76</td>\n",
       "      <td>3.79</td>\n",
       "      <td>3.29</td>\n",
       "      <td>82.0</td>\n",
       "      <td>8.3</td>\n",
       "      <td>E</td>\n",
       "    </tr>\n",
       "    <tr>\n",
       "      <td>3</td>\n",
       "      <td>Wii Sports Resort</td>\n",
       "      <td>Wii</td>\n",
       "      <td>2009.0</td>\n",
       "      <td>Sports</td>\n",
       "      <td>15.61</td>\n",
       "      <td>10.93</td>\n",
       "      <td>3.28</td>\n",
       "      <td>2.95</td>\n",
       "      <td>80.0</td>\n",
       "      <td>8</td>\n",
       "      <td>E</td>\n",
       "    </tr>\n",
       "    <tr>\n",
       "      <td>4</td>\n",
       "      <td>Pokemon Red/Pokemon Blue</td>\n",
       "      <td>GB</td>\n",
       "      <td>1996.0</td>\n",
       "      <td>Role-Playing</td>\n",
       "      <td>11.27</td>\n",
       "      <td>8.89</td>\n",
       "      <td>10.22</td>\n",
       "      <td>1.00</td>\n",
       "      <td>NaN</td>\n",
       "      <td>NaN</td>\n",
       "      <td>NaN</td>\n",
       "    </tr>\n",
       "    <tr>\n",
       "      <td>...</td>\n",
       "      <td>...</td>\n",
       "      <td>...</td>\n",
       "      <td>...</td>\n",
       "      <td>...</td>\n",
       "      <td>...</td>\n",
       "      <td>...</td>\n",
       "      <td>...</td>\n",
       "      <td>...</td>\n",
       "      <td>...</td>\n",
       "      <td>...</td>\n",
       "      <td>...</td>\n",
       "    </tr>\n",
       "    <tr>\n",
       "      <td>16710</td>\n",
       "      <td>Samurai Warriors: Sanada Maru</td>\n",
       "      <td>PS3</td>\n",
       "      <td>2016.0</td>\n",
       "      <td>Action</td>\n",
       "      <td>0.00</td>\n",
       "      <td>0.00</td>\n",
       "      <td>0.01</td>\n",
       "      <td>0.00</td>\n",
       "      <td>NaN</td>\n",
       "      <td>NaN</td>\n",
       "      <td>NaN</td>\n",
       "    </tr>\n",
       "    <tr>\n",
       "      <td>16711</td>\n",
       "      <td>LMA Manager 2007</td>\n",
       "      <td>X360</td>\n",
       "      <td>2006.0</td>\n",
       "      <td>Sports</td>\n",
       "      <td>0.00</td>\n",
       "      <td>0.01</td>\n",
       "      <td>0.00</td>\n",
       "      <td>0.00</td>\n",
       "      <td>NaN</td>\n",
       "      <td>NaN</td>\n",
       "      <td>NaN</td>\n",
       "    </tr>\n",
       "    <tr>\n",
       "      <td>16712</td>\n",
       "      <td>Haitaka no Psychedelica</td>\n",
       "      <td>PSV</td>\n",
       "      <td>2016.0</td>\n",
       "      <td>Adventure</td>\n",
       "      <td>0.00</td>\n",
       "      <td>0.00</td>\n",
       "      <td>0.01</td>\n",
       "      <td>0.00</td>\n",
       "      <td>NaN</td>\n",
       "      <td>NaN</td>\n",
       "      <td>NaN</td>\n",
       "    </tr>\n",
       "    <tr>\n",
       "      <td>16713</td>\n",
       "      <td>Spirits &amp; Spells</td>\n",
       "      <td>GBA</td>\n",
       "      <td>2003.0</td>\n",
       "      <td>Platform</td>\n",
       "      <td>0.01</td>\n",
       "      <td>0.00</td>\n",
       "      <td>0.00</td>\n",
       "      <td>0.00</td>\n",
       "      <td>NaN</td>\n",
       "      <td>NaN</td>\n",
       "      <td>NaN</td>\n",
       "    </tr>\n",
       "    <tr>\n",
       "      <td>16714</td>\n",
       "      <td>Winning Post 8 2016</td>\n",
       "      <td>PSV</td>\n",
       "      <td>2016.0</td>\n",
       "      <td>Simulation</td>\n",
       "      <td>0.00</td>\n",
       "      <td>0.00</td>\n",
       "      <td>0.01</td>\n",
       "      <td>0.00</td>\n",
       "      <td>NaN</td>\n",
       "      <td>NaN</td>\n",
       "      <td>NaN</td>\n",
       "    </tr>\n",
       "  </tbody>\n",
       "</table>\n",
       "<p>16715 rows × 11 columns</p>\n",
       "</div>"
      ],
      "text/plain": [
       "                                Name Platform  Year_of_Release         Genre  \\\n",
       "0                         Wii Sports      Wii           2006.0        Sports   \n",
       "1                  Super Mario Bros.      NES           1985.0      Platform   \n",
       "2                     Mario Kart Wii      Wii           2008.0        Racing   \n",
       "3                  Wii Sports Resort      Wii           2009.0        Sports   \n",
       "4           Pokemon Red/Pokemon Blue       GB           1996.0  Role-Playing   \n",
       "...                              ...      ...              ...           ...   \n",
       "16710  Samurai Warriors: Sanada Maru      PS3           2016.0        Action   \n",
       "16711               LMA Manager 2007     X360           2006.0        Sports   \n",
       "16712        Haitaka no Psychedelica      PSV           2016.0     Adventure   \n",
       "16713               Spirits & Spells      GBA           2003.0      Platform   \n",
       "16714            Winning Post 8 2016      PSV           2016.0    Simulation   \n",
       "\n",
       "       NA_sales  EU_sales  JP_sales  Other_sales  Critic_Score User_Score  \\\n",
       "0         41.36     28.96      3.77         8.45          76.0          8   \n",
       "1         29.08      3.58      6.81         0.77           NaN        NaN   \n",
       "2         15.68     12.76      3.79         3.29          82.0        8.3   \n",
       "3         15.61     10.93      3.28         2.95          80.0          8   \n",
       "4         11.27      8.89     10.22         1.00           NaN        NaN   \n",
       "...         ...       ...       ...          ...           ...        ...   \n",
       "16710      0.00      0.00      0.01         0.00           NaN        NaN   \n",
       "16711      0.00      0.01      0.00         0.00           NaN        NaN   \n",
       "16712      0.00      0.00      0.01         0.00           NaN        NaN   \n",
       "16713      0.01      0.00      0.00         0.00           NaN        NaN   \n",
       "16714      0.00      0.00      0.01         0.00           NaN        NaN   \n",
       "\n",
       "      Rating  \n",
       "0          E  \n",
       "1        NaN  \n",
       "2          E  \n",
       "3          E  \n",
       "4        NaN  \n",
       "...      ...  \n",
       "16710    NaN  \n",
       "16711    NaN  \n",
       "16712    NaN  \n",
       "16713    NaN  \n",
       "16714    NaN  \n",
       "\n",
       "[16715 rows x 11 columns]"
      ]
     },
     "execution_count": 3,
     "metadata": {},
     "output_type": "execute_result"
    }
   ],
   "source": [
    "game_df"
   ]
  },
  {
   "cell_type": "code",
   "execution_count": 4,
   "metadata": {},
   "outputs": [
    {
     "name": "stdout",
     "output_type": "stream",
     "text": [
      "<class 'pandas.core.frame.DataFrame'>\n",
      "RangeIndex: 16715 entries, 0 to 16714\n",
      "Data columns (total 11 columns):\n",
      "Name               16713 non-null object\n",
      "Platform           16715 non-null object\n",
      "Year_of_Release    16446 non-null float64\n",
      "Genre              16713 non-null object\n",
      "NA_sales           16715 non-null float64\n",
      "EU_sales           16715 non-null float64\n",
      "JP_sales           16715 non-null float64\n",
      "Other_sales        16715 non-null float64\n",
      "Critic_Score       8137 non-null float64\n",
      "User_Score         10014 non-null object\n",
      "Rating             9949 non-null object\n",
      "dtypes: float64(6), object(5)\n",
      "memory usage: 1.4+ MB\n"
     ]
    }
   ],
   "source": [
    "game_df.info()"
   ]
  },
  {
   "cell_type": "markdown",
   "metadata": {},
   "source": [
    "У нас имеются данные на 16715 игр. Пропуски в данных встречаются в основном в столбцах с оценками критиков, пользователей и рейтинге от ESRB. Скорее всего большая часть пропусков связана с одной из двух причин:  \n",
    "\n",
    "- маенький проект, который прошёл незамеченным\n",
    "- свежий проект\n",
    "\n",
    "## Подготовка данных  \n",
    "Приведем данные к виду, пригодному и удобному для анализа.  \n",
    "Приведем название столбцов к нижнему регистру. Обработаем пропуски и преобразуем данные в нужные типы."
   ]
  },
  {
   "cell_type": "code",
   "execution_count": 5,
   "metadata": {},
   "outputs": [],
   "source": [
    "game_df.columns = pd.Series(game_df.columns.values).str.lower()"
   ]
  },
  {
   "cell_type": "code",
   "execution_count": 6,
   "metadata": {},
   "outputs": [
    {
     "data": {
      "text/plain": [
       "Index(['name', 'platform', 'year_of_release', 'genre', 'na_sales', 'eu_sales',\n",
       "       'jp_sales', 'other_sales', 'critic_score', 'user_score', 'rating'],\n",
       "      dtype='object')"
      ]
     },
     "execution_count": 6,
     "metadata": {},
     "output_type": "execute_result"
    }
   ],
   "source": [
    "game_df.columns"
   ]
  },
  {
   "cell_type": "markdown",
   "metadata": {},
   "source": [
    "По двум играм совсем отсутсвует информация, удалим их."
   ]
  },
  {
   "cell_type": "code",
   "execution_count": 7,
   "metadata": {},
   "outputs": [],
   "source": [
    "game_df.dropna(subset=['name'], inplace=True)"
   ]
  },
  {
   "cell_type": "markdown",
   "metadata": {},
   "source": [
    "Просмотрим пропущенные значения в столбце year_of_release."
   ]
  },
  {
   "cell_type": "code",
   "execution_count": 8,
   "metadata": {},
   "outputs": [
    {
     "data": {
      "text/html": [
       "<div>\n",
       "<style scoped>\n",
       "    .dataframe tbody tr th:only-of-type {\n",
       "        vertical-align: middle;\n",
       "    }\n",
       "\n",
       "    .dataframe tbody tr th {\n",
       "        vertical-align: top;\n",
       "    }\n",
       "\n",
       "    .dataframe thead th {\n",
       "        text-align: right;\n",
       "    }\n",
       "</style>\n",
       "<table border=\"1\" class=\"dataframe\">\n",
       "  <thead>\n",
       "    <tr style=\"text-align: right;\">\n",
       "      <th></th>\n",
       "      <th>name</th>\n",
       "      <th>platform</th>\n",
       "      <th>year_of_release</th>\n",
       "      <th>genre</th>\n",
       "      <th>na_sales</th>\n",
       "      <th>eu_sales</th>\n",
       "      <th>jp_sales</th>\n",
       "      <th>other_sales</th>\n",
       "      <th>critic_score</th>\n",
       "      <th>user_score</th>\n",
       "      <th>rating</th>\n",
       "    </tr>\n",
       "  </thead>\n",
       "  <tbody>\n",
       "    <tr>\n",
       "      <td>183</td>\n",
       "      <td>Madden NFL 2004</td>\n",
       "      <td>PS2</td>\n",
       "      <td>NaN</td>\n",
       "      <td>Sports</td>\n",
       "      <td>4.26</td>\n",
       "      <td>0.26</td>\n",
       "      <td>0.01</td>\n",
       "      <td>0.71</td>\n",
       "      <td>94.0</td>\n",
       "      <td>8.5</td>\n",
       "      <td>E</td>\n",
       "    </tr>\n",
       "    <tr>\n",
       "      <td>377</td>\n",
       "      <td>FIFA Soccer 2004</td>\n",
       "      <td>PS2</td>\n",
       "      <td>NaN</td>\n",
       "      <td>Sports</td>\n",
       "      <td>0.59</td>\n",
       "      <td>2.36</td>\n",
       "      <td>0.04</td>\n",
       "      <td>0.51</td>\n",
       "      <td>84.0</td>\n",
       "      <td>6.4</td>\n",
       "      <td>E</td>\n",
       "    </tr>\n",
       "    <tr>\n",
       "      <td>456</td>\n",
       "      <td>LEGO Batman: The Videogame</td>\n",
       "      <td>Wii</td>\n",
       "      <td>NaN</td>\n",
       "      <td>Action</td>\n",
       "      <td>1.80</td>\n",
       "      <td>0.97</td>\n",
       "      <td>0.00</td>\n",
       "      <td>0.29</td>\n",
       "      <td>74.0</td>\n",
       "      <td>7.9</td>\n",
       "      <td>E10+</td>\n",
       "    </tr>\n",
       "    <tr>\n",
       "      <td>475</td>\n",
       "      <td>wwe Smackdown vs. Raw 2006</td>\n",
       "      <td>PS2</td>\n",
       "      <td>NaN</td>\n",
       "      <td>Fighting</td>\n",
       "      <td>1.57</td>\n",
       "      <td>1.02</td>\n",
       "      <td>0.00</td>\n",
       "      <td>0.41</td>\n",
       "      <td>NaN</td>\n",
       "      <td>NaN</td>\n",
       "      <td>NaN</td>\n",
       "    </tr>\n",
       "    <tr>\n",
       "      <td>609</td>\n",
       "      <td>Space Invaders</td>\n",
       "      <td>2600</td>\n",
       "      <td>NaN</td>\n",
       "      <td>Shooter</td>\n",
       "      <td>2.36</td>\n",
       "      <td>0.14</td>\n",
       "      <td>0.00</td>\n",
       "      <td>0.03</td>\n",
       "      <td>NaN</td>\n",
       "      <td>NaN</td>\n",
       "      <td>NaN</td>\n",
       "    </tr>\n",
       "    <tr>\n",
       "      <td>627</td>\n",
       "      <td>Rock Band</td>\n",
       "      <td>X360</td>\n",
       "      <td>NaN</td>\n",
       "      <td>Misc</td>\n",
       "      <td>1.93</td>\n",
       "      <td>0.33</td>\n",
       "      <td>0.00</td>\n",
       "      <td>0.21</td>\n",
       "      <td>92.0</td>\n",
       "      <td>8.2</td>\n",
       "      <td>T</td>\n",
       "    </tr>\n",
       "    <tr>\n",
       "      <td>657</td>\n",
       "      <td>Frogger's Adventures: Temple of the Frog</td>\n",
       "      <td>GBA</td>\n",
       "      <td>NaN</td>\n",
       "      <td>Adventure</td>\n",
       "      <td>2.15</td>\n",
       "      <td>0.18</td>\n",
       "      <td>0.00</td>\n",
       "      <td>0.07</td>\n",
       "      <td>73.0</td>\n",
       "      <td>tbd</td>\n",
       "      <td>E</td>\n",
       "    </tr>\n",
       "    <tr>\n",
       "      <td>678</td>\n",
       "      <td>LEGO Indiana Jones: The Original Adventures</td>\n",
       "      <td>Wii</td>\n",
       "      <td>NaN</td>\n",
       "      <td>Action</td>\n",
       "      <td>1.51</td>\n",
       "      <td>0.61</td>\n",
       "      <td>0.00</td>\n",
       "      <td>0.21</td>\n",
       "      <td>78.0</td>\n",
       "      <td>6.6</td>\n",
       "      <td>E10+</td>\n",
       "    </tr>\n",
       "    <tr>\n",
       "      <td>719</td>\n",
       "      <td>Call of Duty 3</td>\n",
       "      <td>Wii</td>\n",
       "      <td>NaN</td>\n",
       "      <td>Shooter</td>\n",
       "      <td>1.17</td>\n",
       "      <td>0.84</td>\n",
       "      <td>0.00</td>\n",
       "      <td>0.23</td>\n",
       "      <td>69.0</td>\n",
       "      <td>6.7</td>\n",
       "      <td>T</td>\n",
       "    </tr>\n",
       "    <tr>\n",
       "      <td>805</td>\n",
       "      <td>Rock Band</td>\n",
       "      <td>Wii</td>\n",
       "      <td>NaN</td>\n",
       "      <td>Misc</td>\n",
       "      <td>1.33</td>\n",
       "      <td>0.56</td>\n",
       "      <td>0.00</td>\n",
       "      <td>0.20</td>\n",
       "      <td>80.0</td>\n",
       "      <td>6.3</td>\n",
       "      <td>T</td>\n",
       "    </tr>\n",
       "  </tbody>\n",
       "</table>\n",
       "</div>"
      ],
      "text/plain": [
       "                                            name platform  year_of_release  \\\n",
       "183                              Madden NFL 2004      PS2              NaN   \n",
       "377                             FIFA Soccer 2004      PS2              NaN   \n",
       "456                   LEGO Batman: The Videogame      Wii              NaN   \n",
       "475                   wwe Smackdown vs. Raw 2006      PS2              NaN   \n",
       "609                               Space Invaders     2600              NaN   \n",
       "627                                    Rock Band     X360              NaN   \n",
       "657     Frogger's Adventures: Temple of the Frog      GBA              NaN   \n",
       "678  LEGO Indiana Jones: The Original Adventures      Wii              NaN   \n",
       "719                               Call of Duty 3      Wii              NaN   \n",
       "805                                    Rock Band      Wii              NaN   \n",
       "\n",
       "         genre  na_sales  eu_sales  jp_sales  other_sales  critic_score  \\\n",
       "183     Sports      4.26      0.26      0.01         0.71          94.0   \n",
       "377     Sports      0.59      2.36      0.04         0.51          84.0   \n",
       "456     Action      1.80      0.97      0.00         0.29          74.0   \n",
       "475   Fighting      1.57      1.02      0.00         0.41           NaN   \n",
       "609    Shooter      2.36      0.14      0.00         0.03           NaN   \n",
       "627       Misc      1.93      0.33      0.00         0.21          92.0   \n",
       "657  Adventure      2.15      0.18      0.00         0.07          73.0   \n",
       "678     Action      1.51      0.61      0.00         0.21          78.0   \n",
       "719    Shooter      1.17      0.84      0.00         0.23          69.0   \n",
       "805       Misc      1.33      0.56      0.00         0.20          80.0   \n",
       "\n",
       "    user_score rating  \n",
       "183        8.5      E  \n",
       "377        6.4      E  \n",
       "456        7.9   E10+  \n",
       "475        NaN    NaN  \n",
       "609        NaN    NaN  \n",
       "627        8.2      T  \n",
       "657        tbd      E  \n",
       "678        6.6   E10+  \n",
       "719        6.7      T  \n",
       "805        6.3      T  "
      ]
     },
     "execution_count": 8,
     "metadata": {},
     "output_type": "execute_result"
    }
   ],
   "source": [
    "game_df[game_df['year_of_release'].isna() == True].head(10)"
   ]
  },
  {
   "cell_type": "markdown",
   "metadata": {},
   "source": [
    "У некоторых игр в названии указан год выпуска, его можно выделить и подставить в пропущенные значения."
   ]
  },
  {
   "cell_type": "code",
   "execution_count": 9,
   "metadata": {},
   "outputs": [],
   "source": [
    "def year_in_name(row):#функция вычисляющая год релиза из названия\n",
    "    if row.isna()['year_of_release'] == False:\n",
    "        return row['year_of_release']\n",
    "    for i in range(len(row['name'])):\n",
    "        number = row['name'][i-4:i-1] + row['name'][i-1]\n",
    "        try:\n",
    "            number = int(number)\n",
    "            if number > 1900:\n",
    "                return number\n",
    "        except:\n",
    "            continue\n",
    "        return"
   ]
  },
  {
   "cell_type": "code",
   "execution_count": 10,
   "metadata": {},
   "outputs": [],
   "source": [
    "game_df['year_of_release'] = game_df.apply(year_in_name,axis=1)"
   ]
  },
  {
   "cell_type": "code",
   "execution_count": 11,
   "metadata": {},
   "outputs": [
    {
     "data": {
      "text/plain": [
       "array([2006., 1985., 2008., 2009., 1996., 1989., 1984., 2005., 1999.,\n",
       "       2007., 2010., 2013., 2004., 1990., 1988., 2002., 2001., 2011.,\n",
       "       1998., 2015., 2012., 2014., 1992., 1997., 1993., 1994., 1982.,\n",
       "       2016., 2003., 1986., 2000., 1995., 1991., 1981., 1987., 1980.,\n",
       "       1983.,   nan])"
      ]
     },
     "execution_count": 11,
     "metadata": {},
     "output_type": "execute_result"
    }
   ],
   "source": [
    "game_df['year_of_release'].unique()"
   ]
  },
  {
   "cell_type": "markdown",
   "metadata": {},
   "source": [
    "Для остальных определить год не представляется возможным. Создадим новую базу данных, для игр с известным годом выпуска."
   ]
  },
  {
   "cell_type": "code",
   "execution_count": 12,
   "metadata": {},
   "outputs": [],
   "source": [
    "game_df1 = game_df[game_df['year_of_release'].isna() == False].copy()"
   ]
  },
  {
   "cell_type": "code",
   "execution_count": 13,
   "metadata": {},
   "outputs": [],
   "source": [
    "game_df1['year_of_release'] = game_df1['year_of_release'].astype('int')"
   ]
  },
  {
   "cell_type": "code",
   "execution_count": 14,
   "metadata": {
    "scrolled": true
   },
   "outputs": [
    {
     "name": "stdout",
     "output_type": "stream",
     "text": [
      "<class 'pandas.core.frame.DataFrame'>\n",
      "Int64Index: 16460 entries, 0 to 16714\n",
      "Data columns (total 11 columns):\n",
      "name               16460 non-null object\n",
      "platform           16460 non-null object\n",
      "year_of_release    16460 non-null int64\n",
      "genre              16460 non-null object\n",
      "na_sales           16460 non-null float64\n",
      "eu_sales           16460 non-null float64\n",
      "jp_sales           16460 non-null float64\n",
      "other_sales        16460 non-null float64\n",
      "critic_score       7995 non-null float64\n",
      "user_score         9851 non-null object\n",
      "rating             9779 non-null object\n",
      "dtypes: float64(5), int64(1), object(5)\n",
      "memory usage: 1.5+ MB\n"
     ]
    }
   ],
   "source": [
    "game_df1.info()"
   ]
  },
  {
   "cell_type": "markdown",
   "metadata": {},
   "source": [
    "Заменим пропущенные значения в столбце Рейтинг. Выделим, какой рейтинг чаще всего ставят играм разных жанров и самое частое значение подставим на место пропущенных рейтингов."
   ]
  },
  {
   "cell_type": "code",
   "execution_count": 15,
   "metadata": {},
   "outputs": [],
   "source": [
    "game_genre = game_df1.pivot_table(\n",
    "    index = 'rating',\n",
    "    columns = game_df1['genre'],\n",
    "    values = 'genre',\n",
    "    aggfunc = 'count')"
   ]
  },
  {
   "cell_type": "code",
   "execution_count": 16,
   "metadata": {},
   "outputs": [],
   "source": [
    "rating_of_genre = {}\n",
    "for i in game_df1['genre'].unique():\n",
    "    rating_of_genre[i] = game_genre[game_genre[i] == game_genre[i].max()].index[0]"
   ]
  },
  {
   "cell_type": "code",
   "execution_count": 17,
   "metadata": {
    "scrolled": true
   },
   "outputs": [
    {
     "data": {
      "text/plain": [
       "{'Sports': 'E',\n",
       " 'Platform': 'E',\n",
       " 'Racing': 'E',\n",
       " 'Role-Playing': 'T',\n",
       " 'Puzzle': 'E',\n",
       " 'Misc': 'E',\n",
       " 'Shooter': 'M',\n",
       " 'Simulation': 'E',\n",
       " 'Action': 'T',\n",
       " 'Fighting': 'T',\n",
       " 'Adventure': 'E',\n",
       " 'Strategy': 'T'}"
      ]
     },
     "execution_count": 17,
     "metadata": {},
     "output_type": "execute_result"
    }
   ],
   "source": [
    "rating_of_genre"
   ]
  },
  {
   "cell_type": "code",
   "execution_count": 18,
   "metadata": {},
   "outputs": [],
   "source": [
    "def rating_of_game(row):#функция задающая жанр игры\n",
    "    if row.isna()['rating'] == False:\n",
    "        return row['rating']\n",
    "    return rating_of_genre[row['genre']]"
   ]
  },
  {
   "cell_type": "code",
   "execution_count": 19,
   "metadata": {},
   "outputs": [],
   "source": [
    "game_df1['rating'].fillna(\"NO\",inplace=True)"
   ]
  },
  {
   "cell_type": "markdown",
   "metadata": {},
   "source": [
    "\n",
    "### Аббревиатура tbd  \n",
    "TBD - аббревиатура от английского To Be Determined (будет определено) или To Be Decided (будет решено). Используется, если какая-то информация еще не определена или решение по вопросу не принято."
   ]
  },
  {
   "cell_type": "code",
   "execution_count": 20,
   "metadata": {},
   "outputs": [],
   "source": [
    "tbd_game = game_df1.query('user_score == \"tbd\"')"
   ]
  },
  {
   "cell_type": "code",
   "execution_count": 21,
   "metadata": {},
   "outputs": [
    {
     "data": {
      "text/plain": [
       "DS      744\n",
       "Wii     428\n",
       "GBA     258\n",
       "PS2     237\n",
       "XB      146\n",
       "PSP     119\n",
       "GC      100\n",
       "PS3      87\n",
       "X360     83\n",
       "3DS      54\n",
       "PC       49\n",
       "PS       44\n",
       "XOne     11\n",
       "PSV       7\n",
       "PS4       6\n",
       "WiiU      5\n",
       "Name: platform, dtype: int64"
      ]
     },
     "execution_count": 21,
     "metadata": {},
     "output_type": "execute_result"
    }
   ],
   "source": [
    "tbd_game['platform'].value_counts()"
   ]
  },
  {
   "cell_type": "code",
   "execution_count": 22,
   "metadata": {},
   "outputs": [
    {
     "data": {
      "text/plain": [
       "Misc            440\n",
       "Sports          408\n",
       "Action          368\n",
       "Simulation      233\n",
       "Racing          229\n",
       "Puzzle          208\n",
       "Adventure       156\n",
       "Platform        135\n",
       "Shooter          95\n",
       "Strategy         39\n",
       "Fighting         37\n",
       "Role-Playing     30\n",
       "Name: genre, dtype: int64"
      ]
     },
     "execution_count": 22,
     "metadata": {},
     "output_type": "execute_result"
    }
   ],
   "source": [
    "tbd_game['genre'].value_counts()"
   ]
  },
  {
   "cell_type": "markdown",
   "metadata": {},
   "source": [
    "Игры, у которых рейтинг игроков стоит tbd, видиом не оценивались ими вообще. Среди платформ преобладают портативные, а жанры в основном связаны с небольшими играми без сюжета. Заменим значение на Nan."
   ]
  },
  {
   "cell_type": "code",
   "execution_count": 23,
   "metadata": {},
   "outputs": [],
   "source": [
    "game_df1['user_score'].replace('tbd',np.nan,inplace=True)"
   ]
  },
  {
   "cell_type": "code",
   "execution_count": 24,
   "metadata": {},
   "outputs": [],
   "source": [
    "game_df1['user_score'] = game_df1['user_score'].astype('float64').round(1)"
   ]
  },
  {
   "cell_type": "code",
   "execution_count": 25,
   "metadata": {
    "scrolled": true
   },
   "outputs": [
    {
     "name": "stdout",
     "output_type": "stream",
     "text": [
      "<class 'pandas.core.frame.DataFrame'>\n",
      "Int64Index: 16460 entries, 0 to 16714\n",
      "Data columns (total 11 columns):\n",
      "name               16460 non-null object\n",
      "platform           16460 non-null object\n",
      "year_of_release    16460 non-null int64\n",
      "genre              16460 non-null object\n",
      "na_sales           16460 non-null float64\n",
      "eu_sales           16460 non-null float64\n",
      "jp_sales           16460 non-null float64\n",
      "other_sales        16460 non-null float64\n",
      "critic_score       7995 non-null float64\n",
      "user_score         7473 non-null float64\n",
      "rating             16460 non-null object\n",
      "dtypes: float64(6), int64(1), object(4)\n",
      "memory usage: 1.5+ MB\n"
     ]
    }
   ],
   "source": [
    "game_df1.info()"
   ]
  },
  {
   "cell_type": "markdown",
   "metadata": {},
   "source": [
    "### Суммарные продажи"
   ]
  },
  {
   "cell_type": "code",
   "execution_count": 26,
   "metadata": {},
   "outputs": [],
   "source": [
    "def sum_sales(row):\n",
    "    return row['na_sales'] + row['eu_sales'] + row['jp_sales'] + row['other_sales']"
   ]
  },
  {
   "cell_type": "code",
   "execution_count": 27,
   "metadata": {},
   "outputs": [],
   "source": [
    "game_df1['sum_sales'] = game_df1['na_sales'] + game_df1['eu_sales'] + game_df1['jp_sales'] + game_df1['other_sales']"
   ]
  },
  {
   "cell_type": "code",
   "execution_count": 28,
   "metadata": {},
   "outputs": [
    {
     "data": {
      "text/plain": [
       "<matplotlib.axes._subplots.AxesSubplot at 0x7ff2bf0d5490>"
      ]
     },
     "execution_count": 28,
     "metadata": {},
     "output_type": "execute_result"
    },
    {
     "data": {
      "image/png": "[encoded data removed]",
      "text/plain": [
       "<Figure size 432x288 with 1 Axes>"
      ]
     },
     "metadata": {
      "needs_background": "light"
     },
     "output_type": "display_data"
    }
   ],
   "source": [
    "game_df1['sum_sales'].hist(bins=100)\n"
   ]
  },
  {
   "cell_type": "code",
   "execution_count": 29,
   "metadata": {
    "scrolled": true
   },
   "outputs": [
    {
     "data": {
      "text/html": [
       "<div>\n",
       "<style scoped>\n",
       "    .dataframe tbody tr th:only-of-type {\n",
       "        vertical-align: middle;\n",
       "    }\n",
       "\n",
       "    .dataframe tbody tr th {\n",
       "        vertical-align: top;\n",
       "    }\n",
       "\n",
       "    .dataframe thead th {\n",
       "        text-align: right;\n",
       "    }\n",
       "</style>\n",
       "<table border=\"1\" class=\"dataframe\">\n",
       "  <thead>\n",
       "    <tr style=\"text-align: right;\">\n",
       "      <th></th>\n",
       "      <th>name</th>\n",
       "      <th>platform</th>\n",
       "      <th>year_of_release</th>\n",
       "      <th>genre</th>\n",
       "      <th>na_sales</th>\n",
       "      <th>eu_sales</th>\n",
       "      <th>jp_sales</th>\n",
       "      <th>other_sales</th>\n",
       "      <th>critic_score</th>\n",
       "      <th>user_score</th>\n",
       "      <th>rating</th>\n",
       "      <th>sum_sales</th>\n",
       "    </tr>\n",
       "  </thead>\n",
       "  <tbody>\n",
       "    <tr>\n",
       "      <td>0</td>\n",
       "      <td>Wii Sports</td>\n",
       "      <td>Wii</td>\n",
       "      <td>2006</td>\n",
       "      <td>Sports</td>\n",
       "      <td>41.36</td>\n",
       "      <td>28.96</td>\n",
       "      <td>3.77</td>\n",
       "      <td>8.45</td>\n",
       "      <td>76.0</td>\n",
       "      <td>8.0</td>\n",
       "      <td>E</td>\n",
       "      <td>82.54</td>\n",
       "    </tr>\n",
       "    <tr>\n",
       "      <td>1</td>\n",
       "      <td>Super Mario Bros.</td>\n",
       "      <td>NES</td>\n",
       "      <td>1985</td>\n",
       "      <td>Platform</td>\n",
       "      <td>29.08</td>\n",
       "      <td>3.58</td>\n",
       "      <td>6.81</td>\n",
       "      <td>0.77</td>\n",
       "      <td>NaN</td>\n",
       "      <td>NaN</td>\n",
       "      <td>NO</td>\n",
       "      <td>40.24</td>\n",
       "    </tr>\n",
       "    <tr>\n",
       "      <td>2</td>\n",
       "      <td>Mario Kart Wii</td>\n",
       "      <td>Wii</td>\n",
       "      <td>2008</td>\n",
       "      <td>Racing</td>\n",
       "      <td>15.68</td>\n",
       "      <td>12.76</td>\n",
       "      <td>3.79</td>\n",
       "      <td>3.29</td>\n",
       "      <td>82.0</td>\n",
       "      <td>8.3</td>\n",
       "      <td>E</td>\n",
       "      <td>35.52</td>\n",
       "    </tr>\n",
       "    <tr>\n",
       "      <td>3</td>\n",
       "      <td>Wii Sports Resort</td>\n",
       "      <td>Wii</td>\n",
       "      <td>2009</td>\n",
       "      <td>Sports</td>\n",
       "      <td>15.61</td>\n",
       "      <td>10.93</td>\n",
       "      <td>3.28</td>\n",
       "      <td>2.95</td>\n",
       "      <td>80.0</td>\n",
       "      <td>8.0</td>\n",
       "      <td>E</td>\n",
       "      <td>32.77</td>\n",
       "    </tr>\n",
       "    <tr>\n",
       "      <td>4</td>\n",
       "      <td>Pokemon Red/Pokemon Blue</td>\n",
       "      <td>GB</td>\n",
       "      <td>1996</td>\n",
       "      <td>Role-Playing</td>\n",
       "      <td>11.27</td>\n",
       "      <td>8.89</td>\n",
       "      <td>10.22</td>\n",
       "      <td>1.00</td>\n",
       "      <td>NaN</td>\n",
       "      <td>NaN</td>\n",
       "      <td>NO</td>\n",
       "      <td>31.38</td>\n",
       "    </tr>\n",
       "    <tr>\n",
       "      <td>5</td>\n",
       "      <td>Tetris</td>\n",
       "      <td>GB</td>\n",
       "      <td>1989</td>\n",
       "      <td>Puzzle</td>\n",
       "      <td>23.20</td>\n",
       "      <td>2.26</td>\n",
       "      <td>4.22</td>\n",
       "      <td>0.58</td>\n",
       "      <td>NaN</td>\n",
       "      <td>NaN</td>\n",
       "      <td>NO</td>\n",
       "      <td>30.26</td>\n",
       "    </tr>\n",
       "    <tr>\n",
       "      <td>6</td>\n",
       "      <td>New Super Mario Bros.</td>\n",
       "      <td>DS</td>\n",
       "      <td>2006</td>\n",
       "      <td>Platform</td>\n",
       "      <td>11.28</td>\n",
       "      <td>9.14</td>\n",
       "      <td>6.50</td>\n",
       "      <td>2.88</td>\n",
       "      <td>89.0</td>\n",
       "      <td>8.5</td>\n",
       "      <td>E</td>\n",
       "      <td>29.80</td>\n",
       "    </tr>\n",
       "    <tr>\n",
       "      <td>7</td>\n",
       "      <td>Wii Play</td>\n",
       "      <td>Wii</td>\n",
       "      <td>2006</td>\n",
       "      <td>Misc</td>\n",
       "      <td>13.96</td>\n",
       "      <td>9.18</td>\n",
       "      <td>2.93</td>\n",
       "      <td>2.84</td>\n",
       "      <td>58.0</td>\n",
       "      <td>6.6</td>\n",
       "      <td>E</td>\n",
       "      <td>28.91</td>\n",
       "    </tr>\n",
       "    <tr>\n",
       "      <td>8</td>\n",
       "      <td>New Super Mario Bros. Wii</td>\n",
       "      <td>Wii</td>\n",
       "      <td>2009</td>\n",
       "      <td>Platform</td>\n",
       "      <td>14.44</td>\n",
       "      <td>6.94</td>\n",
       "      <td>4.70</td>\n",
       "      <td>2.24</td>\n",
       "      <td>87.0</td>\n",
       "      <td>8.4</td>\n",
       "      <td>E</td>\n",
       "      <td>28.32</td>\n",
       "    </tr>\n",
       "    <tr>\n",
       "      <td>9</td>\n",
       "      <td>Duck Hunt</td>\n",
       "      <td>NES</td>\n",
       "      <td>1984</td>\n",
       "      <td>Shooter</td>\n",
       "      <td>26.93</td>\n",
       "      <td>0.63</td>\n",
       "      <td>0.28</td>\n",
       "      <td>0.47</td>\n",
       "      <td>NaN</td>\n",
       "      <td>NaN</td>\n",
       "      <td>NO</td>\n",
       "      <td>28.31</td>\n",
       "    </tr>\n",
       "    <tr>\n",
       "      <td>10</td>\n",
       "      <td>Nintendogs</td>\n",
       "      <td>DS</td>\n",
       "      <td>2005</td>\n",
       "      <td>Simulation</td>\n",
       "      <td>9.05</td>\n",
       "      <td>10.95</td>\n",
       "      <td>1.93</td>\n",
       "      <td>2.74</td>\n",
       "      <td>NaN</td>\n",
       "      <td>NaN</td>\n",
       "      <td>NO</td>\n",
       "      <td>24.67</td>\n",
       "    </tr>\n",
       "    <tr>\n",
       "      <td>11</td>\n",
       "      <td>Mario Kart DS</td>\n",
       "      <td>DS</td>\n",
       "      <td>2005</td>\n",
       "      <td>Racing</td>\n",
       "      <td>9.71</td>\n",
       "      <td>7.47</td>\n",
       "      <td>4.13</td>\n",
       "      <td>1.90</td>\n",
       "      <td>91.0</td>\n",
       "      <td>8.6</td>\n",
       "      <td>E</td>\n",
       "      <td>23.21</td>\n",
       "    </tr>\n",
       "    <tr>\n",
       "      <td>12</td>\n",
       "      <td>Pokemon Gold/Pokemon Silver</td>\n",
       "      <td>GB</td>\n",
       "      <td>1999</td>\n",
       "      <td>Role-Playing</td>\n",
       "      <td>9.00</td>\n",
       "      <td>6.18</td>\n",
       "      <td>7.20</td>\n",
       "      <td>0.71</td>\n",
       "      <td>NaN</td>\n",
       "      <td>NaN</td>\n",
       "      <td>NO</td>\n",
       "      <td>23.09</td>\n",
       "    </tr>\n",
       "    <tr>\n",
       "      <td>13</td>\n",
       "      <td>Wii Fit</td>\n",
       "      <td>Wii</td>\n",
       "      <td>2007</td>\n",
       "      <td>Sports</td>\n",
       "      <td>8.92</td>\n",
       "      <td>8.03</td>\n",
       "      <td>3.60</td>\n",
       "      <td>2.15</td>\n",
       "      <td>80.0</td>\n",
       "      <td>7.7</td>\n",
       "      <td>E</td>\n",
       "      <td>22.70</td>\n",
       "    </tr>\n",
       "    <tr>\n",
       "      <td>14</td>\n",
       "      <td>Kinect Adventures!</td>\n",
       "      <td>X360</td>\n",
       "      <td>2010</td>\n",
       "      <td>Misc</td>\n",
       "      <td>15.00</td>\n",
       "      <td>4.89</td>\n",
       "      <td>0.24</td>\n",
       "      <td>1.69</td>\n",
       "      <td>61.0</td>\n",
       "      <td>6.3</td>\n",
       "      <td>E</td>\n",
       "      <td>21.82</td>\n",
       "    </tr>\n",
       "    <tr>\n",
       "      <td>15</td>\n",
       "      <td>Wii Fit Plus</td>\n",
       "      <td>Wii</td>\n",
       "      <td>2009</td>\n",
       "      <td>Sports</td>\n",
       "      <td>9.01</td>\n",
       "      <td>8.49</td>\n",
       "      <td>2.53</td>\n",
       "      <td>1.77</td>\n",
       "      <td>80.0</td>\n",
       "      <td>7.4</td>\n",
       "      <td>E</td>\n",
       "      <td>21.80</td>\n",
       "    </tr>\n",
       "    <tr>\n",
       "      <td>16</td>\n",
       "      <td>Grand Theft Auto V</td>\n",
       "      <td>PS3</td>\n",
       "      <td>2013</td>\n",
       "      <td>Action</td>\n",
       "      <td>7.02</td>\n",
       "      <td>9.09</td>\n",
       "      <td>0.98</td>\n",
       "      <td>3.96</td>\n",
       "      <td>97.0</td>\n",
       "      <td>8.2</td>\n",
       "      <td>M</td>\n",
       "      <td>21.05</td>\n",
       "    </tr>\n",
       "    <tr>\n",
       "      <td>17</td>\n",
       "      <td>Grand Theft Auto: San Andreas</td>\n",
       "      <td>PS2</td>\n",
       "      <td>2004</td>\n",
       "      <td>Action</td>\n",
       "      <td>9.43</td>\n",
       "      <td>0.40</td>\n",
       "      <td>0.41</td>\n",
       "      <td>10.57</td>\n",
       "      <td>95.0</td>\n",
       "      <td>9.0</td>\n",
       "      <td>M</td>\n",
       "      <td>20.81</td>\n",
       "    </tr>\n",
       "    <tr>\n",
       "      <td>18</td>\n",
       "      <td>Super Mario World</td>\n",
       "      <td>SNES</td>\n",
       "      <td>1990</td>\n",
       "      <td>Platform</td>\n",
       "      <td>12.78</td>\n",
       "      <td>3.75</td>\n",
       "      <td>3.54</td>\n",
       "      <td>0.55</td>\n",
       "      <td>NaN</td>\n",
       "      <td>NaN</td>\n",
       "      <td>NO</td>\n",
       "      <td>20.62</td>\n",
       "    </tr>\n",
       "    <tr>\n",
       "      <td>19</td>\n",
       "      <td>Brain Age: Train Your Brain in Minutes a Day</td>\n",
       "      <td>DS</td>\n",
       "      <td>2005</td>\n",
       "      <td>Misc</td>\n",
       "      <td>4.74</td>\n",
       "      <td>9.20</td>\n",
       "      <td>4.16</td>\n",
       "      <td>2.04</td>\n",
       "      <td>77.0</td>\n",
       "      <td>7.9</td>\n",
       "      <td>E</td>\n",
       "      <td>20.14</td>\n",
       "    </tr>\n",
       "  </tbody>\n",
       "</table>\n",
       "</div>"
      ],
      "text/plain": [
       "                                            name platform  year_of_release  \\\n",
       "0                                     Wii Sports      Wii             2006   \n",
       "1                              Super Mario Bros.      NES             1985   \n",
       "2                                 Mario Kart Wii      Wii             2008   \n",
       "3                              Wii Sports Resort      Wii             2009   \n",
       "4                       Pokemon Red/Pokemon Blue       GB             1996   \n",
       "5                                         Tetris       GB             1989   \n",
       "6                          New Super Mario Bros.       DS             2006   \n",
       "7                                       Wii Play      Wii             2006   \n",
       "8                      New Super Mario Bros. Wii      Wii             2009   \n",
       "9                                      Duck Hunt      NES             1984   \n",
       "10                                    Nintendogs       DS             2005   \n",
       "11                                 Mario Kart DS       DS             2005   \n",
       "12                   Pokemon Gold/Pokemon Silver       GB             1999   \n",
       "13                                       Wii Fit      Wii             2007   \n",
       "14                            Kinect Adventures!     X360             2010   \n",
       "15                                  Wii Fit Plus      Wii             2009   \n",
       "16                            Grand Theft Auto V      PS3             2013   \n",
       "17                 Grand Theft Auto: San Andreas      PS2             2004   \n",
       "18                             Super Mario World     SNES             1990   \n",
       "19  Brain Age: Train Your Brain in Minutes a Day       DS             2005   \n",
       "\n",
       "           genre  na_sales  eu_sales  jp_sales  other_sales  critic_score  \\\n",
       "0         Sports     41.36     28.96      3.77         8.45          76.0   \n",
       "1       Platform     29.08      3.58      6.81         0.77           NaN   \n",
       "2         Racing     15.68     12.76      3.79         3.29          82.0   \n",
       "3         Sports     15.61     10.93      3.28         2.95          80.0   \n",
       "4   Role-Playing     11.27      8.89     10.22         1.00           NaN   \n",
       "5         Puzzle     23.20      2.26      4.22         0.58           NaN   \n",
       "6       Platform     11.28      9.14      6.50         2.88          89.0   \n",
       "7           Misc     13.96      9.18      2.93         2.84          58.0   \n",
       "8       Platform     14.44      6.94      4.70         2.24          87.0   \n",
       "9        Shooter     26.93      0.63      0.28         0.47           NaN   \n",
       "10    Simulation      9.05     10.95      1.93         2.74           NaN   \n",
       "11        Racing      9.71      7.47      4.13         1.90          91.0   \n",
       "12  Role-Playing      9.00      6.18      7.20         0.71           NaN   \n",
       "13        Sports      8.92      8.03      3.60         2.15          80.0   \n",
       "14          Misc     15.00      4.89      0.24         1.69          61.0   \n",
       "15        Sports      9.01      8.49      2.53         1.77          80.0   \n",
       "16        Action      7.02      9.09      0.98         3.96          97.0   \n",
       "17        Action      9.43      0.40      0.41        10.57          95.0   \n",
       "18      Platform     12.78      3.75      3.54         0.55           NaN   \n",
       "19          Misc      4.74      9.20      4.16         2.04          77.0   \n",
       "\n",
       "    user_score rating  sum_sales  \n",
       "0          8.0      E      82.54  \n",
       "1          NaN     NO      40.24  \n",
       "2          8.3      E      35.52  \n",
       "3          8.0      E      32.77  \n",
       "4          NaN     NO      31.38  \n",
       "5          NaN     NO      30.26  \n",
       "6          8.5      E      29.80  \n",
       "7          6.6      E      28.91  \n",
       "8          8.4      E      28.32  \n",
       "9          NaN     NO      28.31  \n",
       "10         NaN     NO      24.67  \n",
       "11         8.6      E      23.21  \n",
       "12         NaN     NO      23.09  \n",
       "13         7.7      E      22.70  \n",
       "14         6.3      E      21.82  \n",
       "15         7.4      E      21.80  \n",
       "16         8.2      M      21.05  \n",
       "17         9.0      M      20.81  \n",
       "18         NaN     NO      20.62  \n",
       "19         7.9      E      20.14  "
      ]
     },
     "execution_count": 29,
     "metadata": {},
     "output_type": "execute_result"
    }
   ],
   "source": [
    "game_df1.query('sum_sales > 20')"
   ]
  },
  {
   "cell_type": "markdown",
   "metadata": {},
   "source": [
    "Эти игры продались очень хорошо."
   ]
  },
  {
   "cell_type": "code",
   "execution_count": 30,
   "metadata": {},
   "outputs": [
    {
     "data": {
      "text/html": [
       "<div>\n",
       "<style scoped>\n",
       "    .dataframe tbody tr th:only-of-type {\n",
       "        vertical-align: middle;\n",
       "    }\n",
       "\n",
       "    .dataframe tbody tr th {\n",
       "        vertical-align: top;\n",
       "    }\n",
       "\n",
       "    .dataframe thead th {\n",
       "        text-align: right;\n",
       "    }\n",
       "</style>\n",
       "<table border=\"1\" class=\"dataframe\">\n",
       "  <thead>\n",
       "    <tr style=\"text-align: right;\">\n",
       "      <th></th>\n",
       "      <th>year_of_release</th>\n",
       "      <th>na_sales</th>\n",
       "      <th>eu_sales</th>\n",
       "      <th>jp_sales</th>\n",
       "      <th>other_sales</th>\n",
       "      <th>critic_score</th>\n",
       "      <th>user_score</th>\n",
       "      <th>sum_sales</th>\n",
       "    </tr>\n",
       "  </thead>\n",
       "  <tbody>\n",
       "    <tr>\n",
       "      <td>count</td>\n",
       "      <td>783.000000</td>\n",
       "      <td>783.000000</td>\n",
       "      <td>783.000000</td>\n",
       "      <td>783.000000</td>\n",
       "      <td>783.0</td>\n",
       "      <td>232.000000</td>\n",
       "      <td>203.000000</td>\n",
       "      <td>783.000000</td>\n",
       "    </tr>\n",
       "    <tr>\n",
       "      <td>mean</td>\n",
       "      <td>2009.074074</td>\n",
       "      <td>0.003091</td>\n",
       "      <td>0.002874</td>\n",
       "      <td>0.004010</td>\n",
       "      <td>0.0</td>\n",
       "      <td>65.306034</td>\n",
       "      <td>6.847291</td>\n",
       "      <td>0.009974</td>\n",
       "    </tr>\n",
       "    <tr>\n",
       "      <td>std</td>\n",
       "      <td>4.387512</td>\n",
       "      <td>0.004624</td>\n",
       "      <td>0.004528</td>\n",
       "      <td>0.004904</td>\n",
       "      <td>0.0</td>\n",
       "      <td>14.483798</td>\n",
       "      <td>1.706867</td>\n",
       "      <td>0.000505</td>\n",
       "    </tr>\n",
       "    <tr>\n",
       "      <td>min</td>\n",
       "      <td>1993.000000</td>\n",
       "      <td>0.000000</td>\n",
       "      <td>0.000000</td>\n",
       "      <td>0.000000</td>\n",
       "      <td>0.0</td>\n",
       "      <td>23.000000</td>\n",
       "      <td>1.400000</td>\n",
       "      <td>0.000000</td>\n",
       "    </tr>\n",
       "    <tr>\n",
       "      <td>25%</td>\n",
       "      <td>2006.000000</td>\n",
       "      <td>0.000000</td>\n",
       "      <td>0.000000</td>\n",
       "      <td>0.000000</td>\n",
       "      <td>0.0</td>\n",
       "      <td>57.000000</td>\n",
       "      <td>6.000000</td>\n",
       "      <td>0.010000</td>\n",
       "    </tr>\n",
       "    <tr>\n",
       "      <td>50%</td>\n",
       "      <td>2009.000000</td>\n",
       "      <td>0.000000</td>\n",
       "      <td>0.000000</td>\n",
       "      <td>0.000000</td>\n",
       "      <td>0.0</td>\n",
       "      <td>67.000000</td>\n",
       "      <td>7.300000</td>\n",
       "      <td>0.010000</td>\n",
       "    </tr>\n",
       "    <tr>\n",
       "      <td>75%</td>\n",
       "      <td>2013.000000</td>\n",
       "      <td>0.010000</td>\n",
       "      <td>0.010000</td>\n",
       "      <td>0.010000</td>\n",
       "      <td>0.0</td>\n",
       "      <td>76.000000</td>\n",
       "      <td>8.000000</td>\n",
       "      <td>0.010000</td>\n",
       "    </tr>\n",
       "    <tr>\n",
       "      <td>max</td>\n",
       "      <td>2016.000000</td>\n",
       "      <td>0.010000</td>\n",
       "      <td>0.010000</td>\n",
       "      <td>0.010000</td>\n",
       "      <td>0.0</td>\n",
       "      <td>93.000000</td>\n",
       "      <td>9.500000</td>\n",
       "      <td>0.010000</td>\n",
       "    </tr>\n",
       "  </tbody>\n",
       "</table>\n",
       "</div>"
      ],
      "text/plain": [
       "       year_of_release    na_sales    eu_sales    jp_sales  other_sales  \\\n",
       "count       783.000000  783.000000  783.000000  783.000000        783.0   \n",
       "mean       2009.074074    0.003091    0.002874    0.004010          0.0   \n",
       "std           4.387512    0.004624    0.004528    0.004904          0.0   \n",
       "min        1993.000000    0.000000    0.000000    0.000000          0.0   \n",
       "25%        2006.000000    0.000000    0.000000    0.000000          0.0   \n",
       "50%        2009.000000    0.000000    0.000000    0.000000          0.0   \n",
       "75%        2013.000000    0.010000    0.010000    0.010000          0.0   \n",
       "max        2016.000000    0.010000    0.010000    0.010000          0.0   \n",
       "\n",
       "       critic_score  user_score   sum_sales  \n",
       "count    232.000000  203.000000  783.000000  \n",
       "mean      65.306034    6.847291    0.009974  \n",
       "std       14.483798    1.706867    0.000505  \n",
       "min       23.000000    1.400000    0.000000  \n",
       "25%       57.000000    6.000000    0.010000  \n",
       "50%       67.000000    7.300000    0.010000  \n",
       "75%       76.000000    8.000000    0.010000  \n",
       "max       93.000000    9.500000    0.010000  "
      ]
     },
     "execution_count": 30,
     "metadata": {},
     "output_type": "execute_result"
    }
   ],
   "source": [
    "game_df1.query('sum_sales <= 0.01').describe()"
   ]
  },
  {
   "cell_type": "markdown",
   "metadata": {},
   "source": [
    "Уберем игры, проданные совсем маленьким тиражом."
   ]
  },
  {
   "cell_type": "code",
   "execution_count": 31,
   "metadata": {},
   "outputs": [],
   "source": [
    "game_df1 = game_df1.query('sum_sales > 0.01')"
   ]
  },
  {
   "cell_type": "markdown",
   "metadata": {},
   "source": [
    "Составим базу данных игр, с известными оценками критиков и пользователей."
   ]
  },
  {
   "cell_type": "code",
   "execution_count": 32,
   "metadata": {},
   "outputs": [],
   "source": [
    "top_game = game_df1.query('(critic_score.isna() or user_score.isna()) == False').copy()"
   ]
  },
  {
   "cell_type": "code",
   "execution_count": 33,
   "metadata": {},
   "outputs": [
    {
     "name": "stdout",
     "output_type": "stream",
     "text": [
      "<class 'pandas.core.frame.DataFrame'>\n",
      "Int64Index: 6734 entries, 0 to 16199\n",
      "Data columns (total 12 columns):\n",
      "name               6734 non-null object\n",
      "platform           6734 non-null object\n",
      "year_of_release    6734 non-null int64\n",
      "genre              6734 non-null object\n",
      "na_sales           6734 non-null float64\n",
      "eu_sales           6734 non-null float64\n",
      "jp_sales           6734 non-null float64\n",
      "other_sales        6734 non-null float64\n",
      "critic_score       6734 non-null float64\n",
      "user_score         6734 non-null float64\n",
      "rating             6734 non-null object\n",
      "sum_sales          6734 non-null float64\n",
      "dtypes: float64(7), int64(1), object(4)\n",
      "memory usage: 683.9+ KB\n"
     ]
    }
   ],
   "source": [
    "top_game.info()"
   ]
  },
  {
   "cell_type": "code",
   "execution_count": 34,
   "metadata": {},
   "outputs": [],
   "source": [
    "top_game = top_game[top_game['user_score'].isna() == False]"
   ]
  },
  {
   "cell_type": "code",
   "execution_count": 35,
   "metadata": {},
   "outputs": [
    {
     "data": {
      "text/plain": [
       "<matplotlib.axes._subplots.AxesSubplot at 0x7ff2bec9add0>"
      ]
     },
     "execution_count": 35,
     "metadata": {},
     "output_type": "execute_result"
    },
    {
     "data": {
      "image/png": "[encoded data removed]",
      "text/plain": [
       "<Figure size 432x288 with 1 Axes>"
      ]
     },
     "metadata": {
      "needs_background": "light"
     },
     "output_type": "display_data"
    }
   ],
   "source": [
    "top_game['critic_score'].hist(bins=50)"
   ]
  },
  {
   "cell_type": "code",
   "execution_count": 36,
   "metadata": {},
   "outputs": [],
   "source": [
    "new_game = game_df1.query('year_of_release == 2016 and critic_score.isna() == True').copy()"
   ]
  },
  {
   "cell_type": "code",
   "execution_count": 37,
   "metadata": {},
   "outputs": [
    {
     "data": {
      "text/html": [
       "<div>\n",
       "<style scoped>\n",
       "    .dataframe tbody tr th:only-of-type {\n",
       "        vertical-align: middle;\n",
       "    }\n",
       "\n",
       "    .dataframe tbody tr th {\n",
       "        vertical-align: top;\n",
       "    }\n",
       "\n",
       "    .dataframe thead th {\n",
       "        text-align: right;\n",
       "    }\n",
       "</style>\n",
       "<table border=\"1\" class=\"dataframe\">\n",
       "  <thead>\n",
       "    <tr style=\"text-align: right;\">\n",
       "      <th></th>\n",
       "      <th>name</th>\n",
       "      <th>platform</th>\n",
       "      <th>year_of_release</th>\n",
       "      <th>genre</th>\n",
       "      <th>na_sales</th>\n",
       "      <th>eu_sales</th>\n",
       "      <th>jp_sales</th>\n",
       "      <th>other_sales</th>\n",
       "      <th>critic_score</th>\n",
       "      <th>user_score</th>\n",
       "      <th>rating</th>\n",
       "      <th>sum_sales</th>\n",
       "    </tr>\n",
       "  </thead>\n",
       "  <tbody>\n",
       "    <tr>\n",
       "      <td>108</td>\n",
       "      <td>Pokemon Sun/Moon</td>\n",
       "      <td>3DS</td>\n",
       "      <td>2016</td>\n",
       "      <td>Role-Playing</td>\n",
       "      <td>2.98</td>\n",
       "      <td>1.45</td>\n",
       "      <td>2.26</td>\n",
       "      <td>0.45</td>\n",
       "      <td>NaN</td>\n",
       "      <td>NaN</td>\n",
       "      <td>NO</td>\n",
       "      <td>7.14</td>\n",
       "    </tr>\n",
       "    <tr>\n",
       "      <td>1216</td>\n",
       "      <td>Ratchet &amp; Clank (2016)</td>\n",
       "      <td>PS4</td>\n",
       "      <td>2016</td>\n",
       "      <td>Platform</td>\n",
       "      <td>0.50</td>\n",
       "      <td>0.76</td>\n",
       "      <td>0.04</td>\n",
       "      <td>0.24</td>\n",
       "      <td>NaN</td>\n",
       "      <td>NaN</td>\n",
       "      <td>NO</td>\n",
       "      <td>1.54</td>\n",
       "    </tr>\n",
       "    <tr>\n",
       "      <td>1275</td>\n",
       "      <td>Doom (2016)</td>\n",
       "      <td>PS4</td>\n",
       "      <td>2016</td>\n",
       "      <td>Shooter</td>\n",
       "      <td>0.54</td>\n",
       "      <td>0.69</td>\n",
       "      <td>0.02</td>\n",
       "      <td>0.24</td>\n",
       "      <td>NaN</td>\n",
       "      <td>NaN</td>\n",
       "      <td>NO</td>\n",
       "      <td>1.49</td>\n",
       "    </tr>\n",
       "    <tr>\n",
       "      <td>1466</td>\n",
       "      <td>Yokai Watch 3</td>\n",
       "      <td>3DS</td>\n",
       "      <td>2016</td>\n",
       "      <td>Action</td>\n",
       "      <td>0.00</td>\n",
       "      <td>0.00</td>\n",
       "      <td>1.33</td>\n",
       "      <td>0.00</td>\n",
       "      <td>NaN</td>\n",
       "      <td>NaN</td>\n",
       "      <td>NO</td>\n",
       "      <td>1.33</td>\n",
       "    </tr>\n",
       "    <tr>\n",
       "      <td>1475</td>\n",
       "      <td>The Elder Scrolls V: Skyrim</td>\n",
       "      <td>PS4</td>\n",
       "      <td>2016</td>\n",
       "      <td>Role-Playing</td>\n",
       "      <td>0.48</td>\n",
       "      <td>0.59</td>\n",
       "      <td>0.04</td>\n",
       "      <td>0.21</td>\n",
       "      <td>NaN</td>\n",
       "      <td>NaN</td>\n",
       "      <td>NO</td>\n",
       "      <td>1.32</td>\n",
       "    </tr>\n",
       "    <tr>\n",
       "      <td>...</td>\n",
       "      <td>...</td>\n",
       "      <td>...</td>\n",
       "      <td>...</td>\n",
       "      <td>...</td>\n",
       "      <td>...</td>\n",
       "      <td>...</td>\n",
       "      <td>...</td>\n",
       "      <td>...</td>\n",
       "      <td>...</td>\n",
       "      <td>...</td>\n",
       "      <td>...</td>\n",
       "      <td>...</td>\n",
       "    </tr>\n",
       "    <tr>\n",
       "      <td>15948</td>\n",
       "      <td>Dragon's Dogma Online: Season 2</td>\n",
       "      <td>PS4</td>\n",
       "      <td>2016</td>\n",
       "      <td>Action</td>\n",
       "      <td>0.00</td>\n",
       "      <td>0.00</td>\n",
       "      <td>0.02</td>\n",
       "      <td>0.00</td>\n",
       "      <td>NaN</td>\n",
       "      <td>NaN</td>\n",
       "      <td>NO</td>\n",
       "      <td>0.02</td>\n",
       "    </tr>\n",
       "    <tr>\n",
       "      <td>15990</td>\n",
       "      <td>Wand of Fortune R</td>\n",
       "      <td>PSV</td>\n",
       "      <td>2016</td>\n",
       "      <td>Adventure</td>\n",
       "      <td>0.00</td>\n",
       "      <td>0.00</td>\n",
       "      <td>0.02</td>\n",
       "      <td>0.00</td>\n",
       "      <td>NaN</td>\n",
       "      <td>NaN</td>\n",
       "      <td>NO</td>\n",
       "      <td>0.02</td>\n",
       "    </tr>\n",
       "    <tr>\n",
       "      <td>15993</td>\n",
       "      <td>God Eater Off Shot: Soma Shikkuzaru-hen Twin P...</td>\n",
       "      <td>PS4</td>\n",
       "      <td>2016</td>\n",
       "      <td>Action</td>\n",
       "      <td>0.00</td>\n",
       "      <td>0.00</td>\n",
       "      <td>0.02</td>\n",
       "      <td>0.00</td>\n",
       "      <td>NaN</td>\n",
       "      <td>NaN</td>\n",
       "      <td>NO</td>\n",
       "      <td>0.02</td>\n",
       "    </tr>\n",
       "    <tr>\n",
       "      <td>15994</td>\n",
       "      <td>God Eater Off Shot:Shiou-hen Twin Pack &amp; Anima...</td>\n",
       "      <td>PS4</td>\n",
       "      <td>2016</td>\n",
       "      <td>Misc</td>\n",
       "      <td>0.00</td>\n",
       "      <td>0.00</td>\n",
       "      <td>0.02</td>\n",
       "      <td>0.00</td>\n",
       "      <td>NaN</td>\n",
       "      <td>NaN</td>\n",
       "      <td>NO</td>\n",
       "      <td>0.02</td>\n",
       "    </tr>\n",
       "    <tr>\n",
       "      <td>16002</td>\n",
       "      <td>Berserk and the Band of the Hawk</td>\n",
       "      <td>PSV</td>\n",
       "      <td>2016</td>\n",
       "      <td>Action</td>\n",
       "      <td>0.00</td>\n",
       "      <td>0.00</td>\n",
       "      <td>0.02</td>\n",
       "      <td>0.00</td>\n",
       "      <td>NaN</td>\n",
       "      <td>NaN</td>\n",
       "      <td>NO</td>\n",
       "      <td>0.02</td>\n",
       "    </tr>\n",
       "  </tbody>\n",
       "</table>\n",
       "<p>219 rows × 12 columns</p>\n",
       "</div>"
      ],
      "text/plain": [
       "                                                    name platform  \\\n",
       "108                                     Pokemon Sun/Moon      3DS   \n",
       "1216                              Ratchet & Clank (2016)      PS4   \n",
       "1275                                         Doom (2016)      PS4   \n",
       "1466                                       Yokai Watch 3      3DS   \n",
       "1475                         The Elder Scrolls V: Skyrim      PS4   \n",
       "...                                                  ...      ...   \n",
       "15948                    Dragon's Dogma Online: Season 2      PS4   \n",
       "15990                                  Wand of Fortune R      PSV   \n",
       "15993  God Eater Off Shot: Soma Shikkuzaru-hen Twin P...      PS4   \n",
       "15994  God Eater Off Shot:Shiou-hen Twin Pack & Anima...      PS4   \n",
       "16002                   Berserk and the Band of the Hawk      PSV   \n",
       "\n",
       "       year_of_release         genre  na_sales  eu_sales  jp_sales  \\\n",
       "108               2016  Role-Playing      2.98      1.45      2.26   \n",
       "1216              2016      Platform      0.50      0.76      0.04   \n",
       "1275              2016       Shooter      0.54      0.69      0.02   \n",
       "1466              2016        Action      0.00      0.00      1.33   \n",
       "1475              2016  Role-Playing      0.48      0.59      0.04   \n",
       "...                ...           ...       ...       ...       ...   \n",
       "15948             2016        Action      0.00      0.00      0.02   \n",
       "15990             2016     Adventure      0.00      0.00      0.02   \n",
       "15993             2016        Action      0.00      0.00      0.02   \n",
       "15994             2016          Misc      0.00      0.00      0.02   \n",
       "16002             2016        Action      0.00      0.00      0.02   \n",
       "\n",
       "       other_sales  critic_score  user_score rating  sum_sales  \n",
       "108           0.45           NaN         NaN     NO       7.14  \n",
       "1216          0.24           NaN         NaN     NO       1.54  \n",
       "1275          0.24           NaN         NaN     NO       1.49  \n",
       "1466          0.00           NaN         NaN     NO       1.33  \n",
       "1475          0.21           NaN         NaN     NO       1.32  \n",
       "...            ...           ...         ...    ...        ...  \n",
       "15948         0.00           NaN         NaN     NO       0.02  \n",
       "15990         0.00           NaN         NaN     NO       0.02  \n",
       "15993         0.00           NaN         NaN     NO       0.02  \n",
       "15994         0.00           NaN         NaN     NO       0.02  \n",
       "16002         0.00           NaN         NaN     NO       0.02  \n",
       "\n",
       "[219 rows x 12 columns]"
      ]
     },
     "execution_count": 37,
     "metadata": {},
     "output_type": "execute_result"
    }
   ],
   "source": [
    "new_game"
   ]
  },
  {
   "cell_type": "code",
   "execution_count": 38,
   "metadata": {},
   "outputs": [],
   "source": [
    "game_sales = game_df1.pivot_table(\n",
    "    index = 'name',\n",
    "    values = 'sum_sales',\n",
    "    aggfunc = 'sum'\n",
    ")"
   ]
  },
  {
   "cell_type": "code",
   "execution_count": 39,
   "metadata": {},
   "outputs": [
    {
     "data": {
      "text/html": [
       "<div>\n",
       "<style scoped>\n",
       "    .dataframe tbody tr th:only-of-type {\n",
       "        vertical-align: middle;\n",
       "    }\n",
       "\n",
       "    .dataframe tbody tr th {\n",
       "        vertical-align: top;\n",
       "    }\n",
       "\n",
       "    .dataframe thead th {\n",
       "        text-align: right;\n",
       "    }\n",
       "</style>\n",
       "<table border=\"1\" class=\"dataframe\">\n",
       "  <thead>\n",
       "    <tr style=\"text-align: right;\">\n",
       "      <th></th>\n",
       "      <th>sum_sales</th>\n",
       "    </tr>\n",
       "    <tr>\n",
       "      <th>name</th>\n",
       "      <th></th>\n",
       "    </tr>\n",
       "  </thead>\n",
       "  <tbody>\n",
       "    <tr>\n",
       "      <td>Rock 'N' Roll Adventures</td>\n",
       "      <td>0.02</td>\n",
       "    </tr>\n",
       "    <tr>\n",
       "      <td>Elvandia Story</td>\n",
       "      <td>0.02</td>\n",
       "    </tr>\n",
       "    <tr>\n",
       "      <td>Elminage Original: Majo to Megami to Kamigami no Yubiwa</td>\n",
       "      <td>0.02</td>\n",
       "    </tr>\n",
       "    <tr>\n",
       "      <td>Elminage III: Ankoku no Shito to Yaiyou no Kyuuden</td>\n",
       "      <td>0.02</td>\n",
       "    </tr>\n",
       "    <tr>\n",
       "      <td>Trapped Dead</td>\n",
       "      <td>0.02</td>\n",
       "    </tr>\n",
       "    <tr>\n",
       "      <td>...</td>\n",
       "      <td>...</td>\n",
       "    </tr>\n",
       "    <tr>\n",
       "      <td>Mario Kart Wii</td>\n",
       "      <td>35.52</td>\n",
       "    </tr>\n",
       "    <tr>\n",
       "      <td>Tetris</td>\n",
       "      <td>35.84</td>\n",
       "    </tr>\n",
       "    <tr>\n",
       "      <td>Super Mario Bros.</td>\n",
       "      <td>45.31</td>\n",
       "    </tr>\n",
       "    <tr>\n",
       "      <td>Grand Theft Auto V</td>\n",
       "      <td>56.58</td>\n",
       "    </tr>\n",
       "    <tr>\n",
       "      <td>Wii Sports</td>\n",
       "      <td>82.54</td>\n",
       "    </tr>\n",
       "  </tbody>\n",
       "</table>\n",
       "<p>10896 rows × 1 columns</p>\n",
       "</div>"
      ],
      "text/plain": [
       "                                                    sum_sales\n",
       "name                                                         \n",
       "Rock 'N' Roll Adventures                                 0.02\n",
       "Elvandia Story                                           0.02\n",
       "Elminage Original: Majo to Megami to Kamigami n...       0.02\n",
       "Elminage III: Ankoku no Shito to Yaiyou no Kyuuden       0.02\n",
       "Trapped Dead                                             0.02\n",
       "...                                                       ...\n",
       "Mario Kart Wii                                          35.52\n",
       "Tetris                                                  35.84\n",
       "Super Mario Bros.                                       45.31\n",
       "Grand Theft Auto V                                      56.58\n",
       "Wii Sports                                              82.54\n",
       "\n",
       "[10896 rows x 1 columns]"
      ]
     },
     "execution_count": 39,
     "metadata": {},
     "output_type": "execute_result"
    }
   ],
   "source": [
    "game_sales.sort_values(by = 'sum_sales')"
   ]
  },
  {
   "cell_type": "markdown",
   "metadata": {},
   "source": [
    "В данном этапе мы заменили некоторые пропущенные значения. Привеле базу к удобному виду и подвели некоторые итоги, которые возможно пригодятся в дальнейшей работе: база с суммарным сбором для иггр на всех платформах, свежие игры. "
   ]
  },
  {
   "cell_type": "markdown",
   "metadata": {},
   "source": [
    "## Исследовательский анализ данных\n",
    "\n",
    "\n",
    "### Сколько игр выпускалось в разные годы?  \n",
    "Рассмотрим сколько игр выпускалось в разные годы. Определим с какого года данные можно считать актуальными для предсказания на текущий периуд."
   ]
  },
  {
   "cell_type": "code",
   "execution_count": 40,
   "metadata": {},
   "outputs": [
    {
     "data": {
      "text/plain": [
       "Text(0, 0.5, 'Количество игр')"
      ]
     },
     "execution_count": 40,
     "metadata": {},
     "output_type": "execute_result"
    },
    {
     "data": {
      "image/png": "[encoded data removed]",
      "text/plain": [
       "<Figure size 576x576 with 1 Axes>"
      ]
     },
     "metadata": {
      "needs_background": "light"
     },
     "output_type": "display_data"
    }
   ],
   "source": [
    "years = game_df1.pivot_table(\n",
    "    index = 'year_of_release',\n",
    "    values = 'name',\n",
    "    aggfunc = 'count'\n",
    ").plot.bar(figsize=(8,8))\n",
    "plt.title(\"Количество игр в разные годы\")\n",
    "plt.xlabel(\"Годы\")\n",
    "plt.ylabel(\"Количество игр\")"
   ]
  },
  {
   "cell_type": "markdown",
   "metadata": {},
   "source": [
    "Только начиная с 1995 на рынке стало появиляться достаточо игр ежегодно. За релевантный период можем взять игры с 2001 года, так как к нему на рынке могло накопиться достаточно конкурентов. Построим распеределине для платформ по годам.\n",
    "### Актуальные платформы\n",
    "Определим время жизни платформы. Исходя из этого определим актуальные на данный момент."
   ]
  },
  {
   "cell_type": "code",
   "execution_count": 41,
   "metadata": {},
   "outputs": [],
   "source": [
    "platforms = game_df1.pivot_table(\n",
    "    index = 'platform',\n",
    "    values = 'sum_sales',\n",
    "    aggfunc = 'sum'\n",
    ")"
   ]
  },
  {
   "cell_type": "code",
   "execution_count": 42,
   "metadata": {},
   "outputs": [],
   "source": [
    "platforms['year_of_live'] = game_df1.groupby('platform')['year_of_release'].nunique()"
   ]
  },
  {
   "cell_type": "code",
   "execution_count": 43,
   "metadata": {},
   "outputs": [
    {
     "data": {
      "text/plain": [
       "Text(0, 0.5, 'Годы жизни')"
      ]
     },
     "execution_count": 43,
     "metadata": {},
     "output_type": "execute_result"
    },
    {
     "data": {
      "image/png": "[encoded data removed]",
      "text/plain": [
       "<Figure size 576x576 with 1 Axes>"
      ]
     },
     "metadata": {
      "needs_background": "light"
     },
     "output_type": "display_data"
    }
   ],
   "source": [
    "platforms.sort_values(by='year_of_live')['year_of_live'].plot.bar(figsize=(8,8))\n",
    "plt.title(\"Время жизни платформы на рынке\")\n",
    "plt.xlabel(\"Платформы\")\n",
    "plt.ylabel(\"Годы жизни\")"
   ]
  },
  {
   "cell_type": "code",
   "execution_count": 44,
   "metadata": {},
   "outputs": [
    {
     "data": {
      "text/html": [
       "<div>\n",
       "<style scoped>\n",
       "    .dataframe tbody tr th:only-of-type {\n",
       "        vertical-align: middle;\n",
       "    }\n",
       "\n",
       "    .dataframe tbody tr th {\n",
       "        vertical-align: top;\n",
       "    }\n",
       "\n",
       "    .dataframe thead th {\n",
       "        text-align: right;\n",
       "    }\n",
       "</style>\n",
       "<table border=\"1\" class=\"dataframe\">\n",
       "  <thead>\n",
       "    <tr style=\"text-align: right;\">\n",
       "      <th></th>\n",
       "      <th>sum_sales</th>\n",
       "      <th>year_of_live</th>\n",
       "    </tr>\n",
       "  </thead>\n",
       "  <tbody>\n",
       "    <tr>\n",
       "      <td>count</td>\n",
       "      <td>30.000000</td>\n",
       "      <td>30.000000</td>\n",
       "    </tr>\n",
       "    <tr>\n",
       "      <td>mean</td>\n",
       "      <td>285.583667</td>\n",
       "      <td>7.066667</td>\n",
       "    </tr>\n",
       "    <tr>\n",
       "      <td>std</td>\n",
       "      <td>350.918734</td>\n",
       "      <td>3.841097</td>\n",
       "    </tr>\n",
       "    <tr>\n",
       "      <td>min</td>\n",
       "      <td>0.030000</td>\n",
       "      <td>1.000000</td>\n",
       "    </tr>\n",
       "    <tr>\n",
       "      <td>25%</td>\n",
       "      <td>19.050000</td>\n",
       "      <td>4.000000</td>\n",
       "    </tr>\n",
       "    <tr>\n",
       "      <td>50%</td>\n",
       "      <td>198.410000</td>\n",
       "      <td>7.000000</td>\n",
       "    </tr>\n",
       "    <tr>\n",
       "      <td>75%</td>\n",
       "      <td>306.415000</td>\n",
       "      <td>10.750000</td>\n",
       "    </tr>\n",
       "    <tr>\n",
       "      <td>max</td>\n",
       "      <td>1246.660000</td>\n",
       "      <td>13.000000</td>\n",
       "    </tr>\n",
       "  </tbody>\n",
       "</table>\n",
       "</div>"
      ],
      "text/plain": [
       "         sum_sales  year_of_live\n",
       "count    30.000000     30.000000\n",
       "mean    285.583667      7.066667\n",
       "std     350.918734      3.841097\n",
       "min       0.030000      1.000000\n",
       "25%      19.050000      4.000000\n",
       "50%     198.410000      7.000000\n",
       "75%     306.415000     10.750000\n",
       "max    1246.660000     13.000000"
      ]
     },
     "execution_count": 44,
     "metadata": {},
     "output_type": "execute_result"
    }
   ],
   "source": [
    "platforms.query('year_of_live < 15').describe()"
   ]
  },
  {
   "cell_type": "code",
   "execution_count": 45,
   "metadata": {},
   "outputs": [
    {
     "data": {
      "text/html": [
       "<style  type=\"text/css\" >\n",
       "    #T_1ffa59c0_9d41_11eb_844d_02420a3910efrow0_col0 {\n",
       "            background-color:  white;\n",
       "        }    #T_1ffa59c0_9d41_11eb_844d_02420a3910efrow0_col1 {\n",
       "            background-color:  white;\n",
       "        }    #T_1ffa59c0_9d41_11eb_844d_02420a3910efrow0_col2 {\n",
       "            background-color:  white;\n",
       "        }    #T_1ffa59c0_9d41_11eb_844d_02420a3910efrow0_col3 {\n",
       "            background-color:  white;\n",
       "        }    #T_1ffa59c0_9d41_11eb_844d_02420a3910efrow0_col4 {\n",
       "            background-color:  red;\n",
       "        }    #T_1ffa59c0_9d41_11eb_844d_02420a3910efrow0_col5 {\n",
       "            background-color:  red;\n",
       "        }    #T_1ffa59c0_9d41_11eb_844d_02420a3910efrow0_col6 {\n",
       "            background-color:  red;\n",
       "        }    #T_1ffa59c0_9d41_11eb_844d_02420a3910efrow0_col7 {\n",
       "            background-color:  red;\n",
       "        }    #T_1ffa59c0_9d41_11eb_844d_02420a3910efrow0_col8 {\n",
       "            background-color:  red;\n",
       "        }    #T_1ffa59c0_9d41_11eb_844d_02420a3910efrow0_col9 {\n",
       "            background-color:  red;\n",
       "        }    #T_1ffa59c0_9d41_11eb_844d_02420a3910efrow1_col0 {\n",
       "            background-color:  red;\n",
       "        }    #T_1ffa59c0_9d41_11eb_844d_02420a3910efrow1_col1 {\n",
       "            background-color:  red;\n",
       "        }    #T_1ffa59c0_9d41_11eb_844d_02420a3910efrow1_col2 {\n",
       "            background-color:  white;\n",
       "        }    #T_1ffa59c0_9d41_11eb_844d_02420a3910efrow1_col3 {\n",
       "            background-color:  white;\n",
       "        }    #T_1ffa59c0_9d41_11eb_844d_02420a3910efrow1_col4 {\n",
       "            background-color:  white;\n",
       "        }    #T_1ffa59c0_9d41_11eb_844d_02420a3910efrow1_col5 {\n",
       "            background-color:  white;\n",
       "        }    #T_1ffa59c0_9d41_11eb_844d_02420a3910efrow1_col6 {\n",
       "            background-color:  white;\n",
       "        }    #T_1ffa59c0_9d41_11eb_844d_02420a3910efrow1_col7 {\n",
       "            background-color:  white;\n",
       "        }    #T_1ffa59c0_9d41_11eb_844d_02420a3910efrow1_col8 {\n",
       "            background-color:  white;\n",
       "        }    #T_1ffa59c0_9d41_11eb_844d_02420a3910efrow1_col9 {\n",
       "            background-color:  white;\n",
       "        }    #T_1ffa59c0_9d41_11eb_844d_02420a3910efrow2_col0 {\n",
       "            background-color:  red;\n",
       "        }    #T_1ffa59c0_9d41_11eb_844d_02420a3910efrow2_col1 {\n",
       "            background-color:  red;\n",
       "        }    #T_1ffa59c0_9d41_11eb_844d_02420a3910efrow2_col2 {\n",
       "            background-color:  red;\n",
       "        }    #T_1ffa59c0_9d41_11eb_844d_02420a3910efrow2_col3 {\n",
       "            background-color:  red;\n",
       "        }    #T_1ffa59c0_9d41_11eb_844d_02420a3910efrow2_col4 {\n",
       "            background-color:  red;\n",
       "        }    #T_1ffa59c0_9d41_11eb_844d_02420a3910efrow2_col5 {\n",
       "            background-color:  red;\n",
       "        }    #T_1ffa59c0_9d41_11eb_844d_02420a3910efrow2_col6 {\n",
       "            background-color:  red;\n",
       "        }    #T_1ffa59c0_9d41_11eb_844d_02420a3910efrow2_col7 {\n",
       "            background-color:  white;\n",
       "        }    #T_1ffa59c0_9d41_11eb_844d_02420a3910efrow2_col8 {\n",
       "            background-color:  white;\n",
       "        }    #T_1ffa59c0_9d41_11eb_844d_02420a3910efrow2_col9 {\n",
       "            background-color:  white;\n",
       "        }    #T_1ffa59c0_9d41_11eb_844d_02420a3910efrow3_col0 {\n",
       "            background-color:  red;\n",
       "        }    #T_1ffa59c0_9d41_11eb_844d_02420a3910efrow3_col1 {\n",
       "            background-color:  white;\n",
       "        }    #T_1ffa59c0_9d41_11eb_844d_02420a3910efrow3_col2 {\n",
       "            background-color:  white;\n",
       "        }    #T_1ffa59c0_9d41_11eb_844d_02420a3910efrow3_col3 {\n",
       "            background-color:  white;\n",
       "        }    #T_1ffa59c0_9d41_11eb_844d_02420a3910efrow3_col4 {\n",
       "            background-color:  white;\n",
       "        }    #T_1ffa59c0_9d41_11eb_844d_02420a3910efrow3_col5 {\n",
       "            background-color:  white;\n",
       "        }    #T_1ffa59c0_9d41_11eb_844d_02420a3910efrow3_col6 {\n",
       "            background-color:  white;\n",
       "        }    #T_1ffa59c0_9d41_11eb_844d_02420a3910efrow3_col7 {\n",
       "            background-color:  white;\n",
       "        }    #T_1ffa59c0_9d41_11eb_844d_02420a3910efrow3_col8 {\n",
       "            background-color:  white;\n",
       "        }    #T_1ffa59c0_9d41_11eb_844d_02420a3910efrow3_col9 {\n",
       "            background-color:  white;\n",
       "        }    #T_1ffa59c0_9d41_11eb_844d_02420a3910efrow4_col0 {\n",
       "            background-color:  red;\n",
       "        }    #T_1ffa59c0_9d41_11eb_844d_02420a3910efrow4_col1 {\n",
       "            background-color:  white;\n",
       "        }    #T_1ffa59c0_9d41_11eb_844d_02420a3910efrow4_col2 {\n",
       "            background-color:  white;\n",
       "        }    #T_1ffa59c0_9d41_11eb_844d_02420a3910efrow4_col3 {\n",
       "            background-color:  white;\n",
       "        }    #T_1ffa59c0_9d41_11eb_844d_02420a3910efrow4_col4 {\n",
       "            background-color:  white;\n",
       "        }    #T_1ffa59c0_9d41_11eb_844d_02420a3910efrow4_col5 {\n",
       "            background-color:  white;\n",
       "        }    #T_1ffa59c0_9d41_11eb_844d_02420a3910efrow4_col6 {\n",
       "            background-color:  white;\n",
       "        }    #T_1ffa59c0_9d41_11eb_844d_02420a3910efrow4_col7 {\n",
       "            background-color:  white;\n",
       "        }    #T_1ffa59c0_9d41_11eb_844d_02420a3910efrow4_col8 {\n",
       "            background-color:  white;\n",
       "        }    #T_1ffa59c0_9d41_11eb_844d_02420a3910efrow4_col9 {\n",
       "            background-color:  white;\n",
       "        }    #T_1ffa59c0_9d41_11eb_844d_02420a3910efrow5_col0 {\n",
       "            background-color:  red;\n",
       "        }    #T_1ffa59c0_9d41_11eb_844d_02420a3910efrow5_col1 {\n",
       "            background-color:  red;\n",
       "        }    #T_1ffa59c0_9d41_11eb_844d_02420a3910efrow5_col2 {\n",
       "            background-color:  red;\n",
       "        }    #T_1ffa59c0_9d41_11eb_844d_02420a3910efrow5_col3 {\n",
       "            background-color:  red;\n",
       "        }    #T_1ffa59c0_9d41_11eb_844d_02420a3910efrow5_col4 {\n",
       "            background-color:  red;\n",
       "        }    #T_1ffa59c0_9d41_11eb_844d_02420a3910efrow5_col5 {\n",
       "            background-color:  red;\n",
       "        }    #T_1ffa59c0_9d41_11eb_844d_02420a3910efrow5_col6 {\n",
       "            background-color:  red;\n",
       "        }    #T_1ffa59c0_9d41_11eb_844d_02420a3910efrow5_col7 {\n",
       "            background-color:  red;\n",
       "        }    #T_1ffa59c0_9d41_11eb_844d_02420a3910efrow5_col8 {\n",
       "            background-color:  red;\n",
       "        }    #T_1ffa59c0_9d41_11eb_844d_02420a3910efrow5_col9 {\n",
       "            background-color:  red;\n",
       "        }    #T_1ffa59c0_9d41_11eb_844d_02420a3910efrow6_col0 {\n",
       "            background-color:  red;\n",
       "        }    #T_1ffa59c0_9d41_11eb_844d_02420a3910efrow6_col1 {\n",
       "            background-color:  red;\n",
       "        }    #T_1ffa59c0_9d41_11eb_844d_02420a3910efrow6_col2 {\n",
       "            background-color:  red;\n",
       "        }    #T_1ffa59c0_9d41_11eb_844d_02420a3910efrow6_col3 {\n",
       "            background-color:  red;\n",
       "        }    #T_1ffa59c0_9d41_11eb_844d_02420a3910efrow6_col4 {\n",
       "            background-color:  red;\n",
       "        }    #T_1ffa59c0_9d41_11eb_844d_02420a3910efrow6_col5 {\n",
       "            background-color:  white;\n",
       "        }    #T_1ffa59c0_9d41_11eb_844d_02420a3910efrow6_col6 {\n",
       "            background-color:  white;\n",
       "        }    #T_1ffa59c0_9d41_11eb_844d_02420a3910efrow6_col7 {\n",
       "            background-color:  white;\n",
       "        }    #T_1ffa59c0_9d41_11eb_844d_02420a3910efrow6_col8 {\n",
       "            background-color:  white;\n",
       "        }    #T_1ffa59c0_9d41_11eb_844d_02420a3910efrow6_col9 {\n",
       "            background-color:  white;\n",
       "        }    #T_1ffa59c0_9d41_11eb_844d_02420a3910efrow7_col0 {\n",
       "            background-color:  red;\n",
       "        }    #T_1ffa59c0_9d41_11eb_844d_02420a3910efrow7_col1 {\n",
       "            background-color:  red;\n",
       "        }    #T_1ffa59c0_9d41_11eb_844d_02420a3910efrow7_col2 {\n",
       "            background-color:  red;\n",
       "        }    #T_1ffa59c0_9d41_11eb_844d_02420a3910efrow7_col3 {\n",
       "            background-color:  red;\n",
       "        }    #T_1ffa59c0_9d41_11eb_844d_02420a3910efrow7_col4 {\n",
       "            background-color:  red;\n",
       "        }    #T_1ffa59c0_9d41_11eb_844d_02420a3910efrow7_col5 {\n",
       "            background-color:  red;\n",
       "        }    #T_1ffa59c0_9d41_11eb_844d_02420a3910efrow7_col6 {\n",
       "            background-color:  red;\n",
       "        }    #T_1ffa59c0_9d41_11eb_844d_02420a3910efrow7_col7 {\n",
       "            background-color:  red;\n",
       "        }    #T_1ffa59c0_9d41_11eb_844d_02420a3910efrow7_col8 {\n",
       "            background-color:  red;\n",
       "        }    #T_1ffa59c0_9d41_11eb_844d_02420a3910efrow7_col9 {\n",
       "            background-color:  red;\n",
       "        }    #T_1ffa59c0_9d41_11eb_844d_02420a3910efrow8_col0 {\n",
       "            background-color:  white;\n",
       "        }    #T_1ffa59c0_9d41_11eb_844d_02420a3910efrow8_col1 {\n",
       "            background-color:  white;\n",
       "        }    #T_1ffa59c0_9d41_11eb_844d_02420a3910efrow8_col2 {\n",
       "            background-color:  white;\n",
       "        }    #T_1ffa59c0_9d41_11eb_844d_02420a3910efrow8_col3 {\n",
       "            background-color:  white;\n",
       "        }    #T_1ffa59c0_9d41_11eb_844d_02420a3910efrow8_col4 {\n",
       "            background-color:  white;\n",
       "        }    #T_1ffa59c0_9d41_11eb_844d_02420a3910efrow8_col5 {\n",
       "            background-color:  white;\n",
       "        }    #T_1ffa59c0_9d41_11eb_844d_02420a3910efrow8_col6 {\n",
       "            background-color:  red;\n",
       "        }    #T_1ffa59c0_9d41_11eb_844d_02420a3910efrow8_col7 {\n",
       "            background-color:  red;\n",
       "        }    #T_1ffa59c0_9d41_11eb_844d_02420a3910efrow8_col8 {\n",
       "            background-color:  red;\n",
       "        }    #T_1ffa59c0_9d41_11eb_844d_02420a3910efrow8_col9 {\n",
       "            background-color:  red;\n",
       "        }    #T_1ffa59c0_9d41_11eb_844d_02420a3910efrow9_col0 {\n",
       "            background-color:  red;\n",
       "        }    #T_1ffa59c0_9d41_11eb_844d_02420a3910efrow9_col1 {\n",
       "            background-color:  red;\n",
       "        }    #T_1ffa59c0_9d41_11eb_844d_02420a3910efrow9_col2 {\n",
       "            background-color:  red;\n",
       "        }    #T_1ffa59c0_9d41_11eb_844d_02420a3910efrow9_col3 {\n",
       "            background-color:  red;\n",
       "        }    #T_1ffa59c0_9d41_11eb_844d_02420a3910efrow9_col4 {\n",
       "            background-color:  red;\n",
       "        }    #T_1ffa59c0_9d41_11eb_844d_02420a3910efrow9_col5 {\n",
       "            background-color:  red;\n",
       "        }    #T_1ffa59c0_9d41_11eb_844d_02420a3910efrow9_col6 {\n",
       "            background-color:  red;\n",
       "        }    #T_1ffa59c0_9d41_11eb_844d_02420a3910efrow9_col7 {\n",
       "            background-color:  red;\n",
       "        }    #T_1ffa59c0_9d41_11eb_844d_02420a3910efrow9_col8 {\n",
       "            background-color:  red;\n",
       "        }    #T_1ffa59c0_9d41_11eb_844d_02420a3910efrow9_col9 {\n",
       "            background-color:  white;\n",
       "        }    #T_1ffa59c0_9d41_11eb_844d_02420a3910efrow10_col0 {\n",
       "            background-color:  white;\n",
       "        }    #T_1ffa59c0_9d41_11eb_844d_02420a3910efrow10_col1 {\n",
       "            background-color:  white;\n",
       "        }    #T_1ffa59c0_9d41_11eb_844d_02420a3910efrow10_col2 {\n",
       "            background-color:  white;\n",
       "        }    #T_1ffa59c0_9d41_11eb_844d_02420a3910efrow10_col3 {\n",
       "            background-color:  white;\n",
       "        }    #T_1ffa59c0_9d41_11eb_844d_02420a3910efrow10_col4 {\n",
       "            background-color:  red;\n",
       "        }    #T_1ffa59c0_9d41_11eb_844d_02420a3910efrow10_col5 {\n",
       "            background-color:  red;\n",
       "        }    #T_1ffa59c0_9d41_11eb_844d_02420a3910efrow10_col6 {\n",
       "            background-color:  red;\n",
       "        }    #T_1ffa59c0_9d41_11eb_844d_02420a3910efrow10_col7 {\n",
       "            background-color:  red;\n",
       "        }    #T_1ffa59c0_9d41_11eb_844d_02420a3910efrow10_col8 {\n",
       "            background-color:  red;\n",
       "        }    #T_1ffa59c0_9d41_11eb_844d_02420a3910efrow10_col9 {\n",
       "            background-color:  red;\n",
       "        }    #T_1ffa59c0_9d41_11eb_844d_02420a3910efrow11_col0 {\n",
       "            background-color:  red;\n",
       "        }    #T_1ffa59c0_9d41_11eb_844d_02420a3910efrow11_col1 {\n",
       "            background-color:  red;\n",
       "        }    #T_1ffa59c0_9d41_11eb_844d_02420a3910efrow11_col2 {\n",
       "            background-color:  red;\n",
       "        }    #T_1ffa59c0_9d41_11eb_844d_02420a3910efrow11_col3 {\n",
       "            background-color:  red;\n",
       "        }    #T_1ffa59c0_9d41_11eb_844d_02420a3910efrow11_col4 {\n",
       "            background-color:  red;\n",
       "        }    #T_1ffa59c0_9d41_11eb_844d_02420a3910efrow11_col5 {\n",
       "            background-color:  red;\n",
       "        }    #T_1ffa59c0_9d41_11eb_844d_02420a3910efrow11_col6 {\n",
       "            background-color:  red;\n",
       "        }    #T_1ffa59c0_9d41_11eb_844d_02420a3910efrow11_col7 {\n",
       "            background-color:  red;\n",
       "        }    #T_1ffa59c0_9d41_11eb_844d_02420a3910efrow11_col8 {\n",
       "            background-color:  red;\n",
       "        }    #T_1ffa59c0_9d41_11eb_844d_02420a3910efrow11_col9 {\n",
       "            background-color:  red;\n",
       "        }    #T_1ffa59c0_9d41_11eb_844d_02420a3910efrow12_col0 {\n",
       "            background-color:  white;\n",
       "        }    #T_1ffa59c0_9d41_11eb_844d_02420a3910efrow12_col1 {\n",
       "            background-color:  white;\n",
       "        }    #T_1ffa59c0_9d41_11eb_844d_02420a3910efrow12_col2 {\n",
       "            background-color:  white;\n",
       "        }    #T_1ffa59c0_9d41_11eb_844d_02420a3910efrow12_col3 {\n",
       "            background-color:  white;\n",
       "        }    #T_1ffa59c0_9d41_11eb_844d_02420a3910efrow12_col4 {\n",
       "            background-color:  white;\n",
       "        }    #T_1ffa59c0_9d41_11eb_844d_02420a3910efrow12_col5 {\n",
       "            background-color:  red;\n",
       "        }    #T_1ffa59c0_9d41_11eb_844d_02420a3910efrow12_col6 {\n",
       "            background-color:  red;\n",
       "        }    #T_1ffa59c0_9d41_11eb_844d_02420a3910efrow12_col7 {\n",
       "            background-color:  red;\n",
       "        }    #T_1ffa59c0_9d41_11eb_844d_02420a3910efrow12_col8 {\n",
       "            background-color:  red;\n",
       "        }    #T_1ffa59c0_9d41_11eb_844d_02420a3910efrow12_col9 {\n",
       "            background-color:  red;\n",
       "        }    #T_1ffa59c0_9d41_11eb_844d_02420a3910efrow13_col0 {\n",
       "            background-color:  red;\n",
       "        }    #T_1ffa59c0_9d41_11eb_844d_02420a3910efrow13_col1 {\n",
       "            background-color:  red;\n",
       "        }    #T_1ffa59c0_9d41_11eb_844d_02420a3910efrow13_col2 {\n",
       "            background-color:  red;\n",
       "        }    #T_1ffa59c0_9d41_11eb_844d_02420a3910efrow13_col3 {\n",
       "            background-color:  red;\n",
       "        }    #T_1ffa59c0_9d41_11eb_844d_02420a3910efrow13_col4 {\n",
       "            background-color:  red;\n",
       "        }    #T_1ffa59c0_9d41_11eb_844d_02420a3910efrow13_col5 {\n",
       "            background-color:  red;\n",
       "        }    #T_1ffa59c0_9d41_11eb_844d_02420a3910efrow13_col6 {\n",
       "            background-color:  red;\n",
       "        }    #T_1ffa59c0_9d41_11eb_844d_02420a3910efrow13_col7 {\n",
       "            background-color:  red;\n",
       "        }    #T_1ffa59c0_9d41_11eb_844d_02420a3910efrow13_col8 {\n",
       "            background-color:  red;\n",
       "        }    #T_1ffa59c0_9d41_11eb_844d_02420a3910efrow13_col9 {\n",
       "            background-color:  red;\n",
       "        }    #T_1ffa59c0_9d41_11eb_844d_02420a3910efrow14_col0 {\n",
       "            background-color:  red;\n",
       "        }    #T_1ffa59c0_9d41_11eb_844d_02420a3910efrow14_col1 {\n",
       "            background-color:  red;\n",
       "        }    #T_1ffa59c0_9d41_11eb_844d_02420a3910efrow14_col2 {\n",
       "            background-color:  white;\n",
       "        }    #T_1ffa59c0_9d41_11eb_844d_02420a3910efrow14_col3 {\n",
       "            background-color:  white;\n",
       "        }    #T_1ffa59c0_9d41_11eb_844d_02420a3910efrow14_col4 {\n",
       "            background-color:  white;\n",
       "        }    #T_1ffa59c0_9d41_11eb_844d_02420a3910efrow14_col5 {\n",
       "            background-color:  white;\n",
       "        }    #T_1ffa59c0_9d41_11eb_844d_02420a3910efrow14_col6 {\n",
       "            background-color:  white;\n",
       "        }    #T_1ffa59c0_9d41_11eb_844d_02420a3910efrow14_col7 {\n",
       "            background-color:  white;\n",
       "        }    #T_1ffa59c0_9d41_11eb_844d_02420a3910efrow14_col8 {\n",
       "            background-color:  white;\n",
       "        }    #T_1ffa59c0_9d41_11eb_844d_02420a3910efrow14_col9 {\n",
       "            background-color:  white;\n",
       "        }    #T_1ffa59c0_9d41_11eb_844d_02420a3910efrow15_col0 {\n",
       "            background-color:  white;\n",
       "        }    #T_1ffa59c0_9d41_11eb_844d_02420a3910efrow15_col1 {\n",
       "            background-color:  white;\n",
       "        }    #T_1ffa59c0_9d41_11eb_844d_02420a3910efrow15_col2 {\n",
       "            background-color:  white;\n",
       "        }    #T_1ffa59c0_9d41_11eb_844d_02420a3910efrow15_col3 {\n",
       "            background-color:  white;\n",
       "        }    #T_1ffa59c0_9d41_11eb_844d_02420a3910efrow15_col4 {\n",
       "            background-color:  white;\n",
       "        }    #T_1ffa59c0_9d41_11eb_844d_02420a3910efrow15_col5 {\n",
       "            background-color:  white;\n",
       "        }    #T_1ffa59c0_9d41_11eb_844d_02420a3910efrow15_col6 {\n",
       "            background-color:  red;\n",
       "        }    #T_1ffa59c0_9d41_11eb_844d_02420a3910efrow15_col7 {\n",
       "            background-color:  red;\n",
       "        }    #T_1ffa59c0_9d41_11eb_844d_02420a3910efrow15_col8 {\n",
       "            background-color:  red;\n",
       "        }    #T_1ffa59c0_9d41_11eb_844d_02420a3910efrow15_col9 {\n",
       "            background-color:  red;\n",
       "        }</style><table id=\"T_1ffa59c0_9d41_11eb_844d_02420a3910ef\" ><thead>    <tr>        <th class=\"index_name level0\" >year_of_release</th>        <th class=\"col_heading level0 col0\" >2007</th>        <th class=\"col_heading level0 col1\" >2008</th>        <th class=\"col_heading level0 col2\" >2009</th>        <th class=\"col_heading level0 col3\" >2010</th>        <th class=\"col_heading level0 col4\" >2011</th>        <th class=\"col_heading level0 col5\" >2012</th>        <th class=\"col_heading level0 col6\" >2013</th>        <th class=\"col_heading level0 col7\" >2014</th>        <th class=\"col_heading level0 col8\" >2015</th>        <th class=\"col_heading level0 col9\" >2016</th>    </tr>    <tr>        <th class=\"index_name level0\" >platform</th>        <th class=\"blank\" ></th>        <th class=\"blank\" ></th>        <th class=\"blank\" ></th>        <th class=\"blank\" ></th>        <th class=\"blank\" ></th>        <th class=\"blank\" ></th>        <th class=\"blank\" ></th>        <th class=\"blank\" ></th>        <th class=\"blank\" ></th>        <th class=\"blank\" ></th>    </tr></thead><tbody>\n",
       "                <tr>\n",
       "                        <th id=\"T_1ffa59c0_9d41_11eb_844d_02420a3910eflevel0_row0\" class=\"row_heading level0 row0\" >3DS</th>\n",
       "                        <td id=\"T_1ffa59c0_9d41_11eb_844d_02420a3910efrow0_col0\" class=\"data row0 col0\" >nan</td>\n",
       "                        <td id=\"T_1ffa59c0_9d41_11eb_844d_02420a3910efrow0_col1\" class=\"data row0 col1\" >nan</td>\n",
       "                        <td id=\"T_1ffa59c0_9d41_11eb_844d_02420a3910efrow0_col2\" class=\"data row0 col2\" >nan</td>\n",
       "                        <td id=\"T_1ffa59c0_9d41_11eb_844d_02420a3910efrow0_col3\" class=\"data row0 col3\" >nan</td>\n",
       "                        <td id=\"T_1ffa59c0_9d41_11eb_844d_02420a3910efrow0_col4\" class=\"data row0 col4\" >63.16</td>\n",
       "                        <td id=\"T_1ffa59c0_9d41_11eb_844d_02420a3910efrow0_col5\" class=\"data row0 col5\" >51.34</td>\n",
       "                        <td id=\"T_1ffa59c0_9d41_11eb_844d_02420a3910efrow0_col6\" class=\"data row0 col6\" >56.52</td>\n",
       "                        <td id=\"T_1ffa59c0_9d41_11eb_844d_02420a3910efrow0_col7\" class=\"data row0 col7\" >43.68</td>\n",
       "                        <td id=\"T_1ffa59c0_9d41_11eb_844d_02420a3910efrow0_col8\" class=\"data row0 col8\" >27.73</td>\n",
       "                        <td id=\"T_1ffa59c0_9d41_11eb_844d_02420a3910efrow0_col9\" class=\"data row0 col9\" >15.09</td>\n",
       "            </tr>\n",
       "            <tr>\n",
       "                        <th id=\"T_1ffa59c0_9d41_11eb_844d_02420a3910eflevel0_row1\" class=\"row_heading level0 row1\" >DC</th>\n",
       "                        <td id=\"T_1ffa59c0_9d41_11eb_844d_02420a3910efrow1_col0\" class=\"data row1 col0\" >0.02</td>\n",
       "                        <td id=\"T_1ffa59c0_9d41_11eb_844d_02420a3910efrow1_col1\" class=\"data row1 col1\" >0.04</td>\n",
       "                        <td id=\"T_1ffa59c0_9d41_11eb_844d_02420a3910efrow1_col2\" class=\"data row1 col2\" >nan</td>\n",
       "                        <td id=\"T_1ffa59c0_9d41_11eb_844d_02420a3910efrow1_col3\" class=\"data row1 col3\" >nan</td>\n",
       "                        <td id=\"T_1ffa59c0_9d41_11eb_844d_02420a3910efrow1_col4\" class=\"data row1 col4\" >nan</td>\n",
       "                        <td id=\"T_1ffa59c0_9d41_11eb_844d_02420a3910efrow1_col5\" class=\"data row1 col5\" >nan</td>\n",
       "                        <td id=\"T_1ffa59c0_9d41_11eb_844d_02420a3910efrow1_col6\" class=\"data row1 col6\" >nan</td>\n",
       "                        <td id=\"T_1ffa59c0_9d41_11eb_844d_02420a3910efrow1_col7\" class=\"data row1 col7\" >nan</td>\n",
       "                        <td id=\"T_1ffa59c0_9d41_11eb_844d_02420a3910efrow1_col8\" class=\"data row1 col8\" >nan</td>\n",
       "                        <td id=\"T_1ffa59c0_9d41_11eb_844d_02420a3910efrow1_col9\" class=\"data row1 col9\" >nan</td>\n",
       "            </tr>\n",
       "            <tr>\n",
       "                        <th id=\"T_1ffa59c0_9d41_11eb_844d_02420a3910eflevel0_row2\" class=\"row_heading level0 row2\" >DS</th>\n",
       "                        <td id=\"T_1ffa59c0_9d41_11eb_844d_02420a3910efrow2_col0\" class=\"data row2 col0\" >146.71</td>\n",
       "                        <td id=\"T_1ffa59c0_9d41_11eb_844d_02420a3910efrow2_col1\" class=\"data row2 col1\" >145.02</td>\n",
       "                        <td id=\"T_1ffa59c0_9d41_11eb_844d_02420a3910efrow2_col2\" class=\"data row2 col2\" >119.31</td>\n",
       "                        <td id=\"T_1ffa59c0_9d41_11eb_844d_02420a3910efrow2_col3\" class=\"data row2 col3\" >84.92</td>\n",
       "                        <td id=\"T_1ffa59c0_9d41_11eb_844d_02420a3910efrow2_col4\" class=\"data row2 col4\" >26.12</td>\n",
       "                        <td id=\"T_1ffa59c0_9d41_11eb_844d_02420a3910efrow2_col5\" class=\"data row2 col5\" >10.96</td>\n",
       "                        <td id=\"T_1ffa59c0_9d41_11eb_844d_02420a3910efrow2_col6\" class=\"data row2 col6\" >1.54</td>\n",
       "                        <td id=\"T_1ffa59c0_9d41_11eb_844d_02420a3910efrow2_col7\" class=\"data row2 col7\" >nan</td>\n",
       "                        <td id=\"T_1ffa59c0_9d41_11eb_844d_02420a3910efrow2_col8\" class=\"data row2 col8\" >nan</td>\n",
       "                        <td id=\"T_1ffa59c0_9d41_11eb_844d_02420a3910efrow2_col9\" class=\"data row2 col9\" >nan</td>\n",
       "            </tr>\n",
       "            <tr>\n",
       "                        <th id=\"T_1ffa59c0_9d41_11eb_844d_02420a3910eflevel0_row3\" class=\"row_heading level0 row3\" >GBA</th>\n",
       "                        <td id=\"T_1ffa59c0_9d41_11eb_844d_02420a3910efrow3_col0\" class=\"data row3 col0\" >3.38</td>\n",
       "                        <td id=\"T_1ffa59c0_9d41_11eb_844d_02420a3910efrow3_col1\" class=\"data row3 col1\" >nan</td>\n",
       "                        <td id=\"T_1ffa59c0_9d41_11eb_844d_02420a3910efrow3_col2\" class=\"data row3 col2\" >nan</td>\n",
       "                        <td id=\"T_1ffa59c0_9d41_11eb_844d_02420a3910efrow3_col3\" class=\"data row3 col3\" >nan</td>\n",
       "                        <td id=\"T_1ffa59c0_9d41_11eb_844d_02420a3910efrow3_col4\" class=\"data row3 col4\" >nan</td>\n",
       "                        <td id=\"T_1ffa59c0_9d41_11eb_844d_02420a3910efrow3_col5\" class=\"data row3 col5\" >nan</td>\n",
       "                        <td id=\"T_1ffa59c0_9d41_11eb_844d_02420a3910efrow3_col6\" class=\"data row3 col6\" >nan</td>\n",
       "                        <td id=\"T_1ffa59c0_9d41_11eb_844d_02420a3910efrow3_col7\" class=\"data row3 col7\" >nan</td>\n",
       "                        <td id=\"T_1ffa59c0_9d41_11eb_844d_02420a3910efrow3_col8\" class=\"data row3 col8\" >nan</td>\n",
       "                        <td id=\"T_1ffa59c0_9d41_11eb_844d_02420a3910efrow3_col9\" class=\"data row3 col9\" >nan</td>\n",
       "            </tr>\n",
       "            <tr>\n",
       "                        <th id=\"T_1ffa59c0_9d41_11eb_844d_02420a3910eflevel0_row4\" class=\"row_heading level0 row4\" >GC</th>\n",
       "                        <td id=\"T_1ffa59c0_9d41_11eb_844d_02420a3910efrow4_col0\" class=\"data row4 col0\" >0.26</td>\n",
       "                        <td id=\"T_1ffa59c0_9d41_11eb_844d_02420a3910efrow4_col1\" class=\"data row4 col1\" >nan</td>\n",
       "                        <td id=\"T_1ffa59c0_9d41_11eb_844d_02420a3910efrow4_col2\" class=\"data row4 col2\" >nan</td>\n",
       "                        <td id=\"T_1ffa59c0_9d41_11eb_844d_02420a3910efrow4_col3\" class=\"data row4 col3\" >nan</td>\n",
       "                        <td id=\"T_1ffa59c0_9d41_11eb_844d_02420a3910efrow4_col4\" class=\"data row4 col4\" >nan</td>\n",
       "                        <td id=\"T_1ffa59c0_9d41_11eb_844d_02420a3910efrow4_col5\" class=\"data row4 col5\" >nan</td>\n",
       "                        <td id=\"T_1ffa59c0_9d41_11eb_844d_02420a3910efrow4_col6\" class=\"data row4 col6\" >nan</td>\n",
       "                        <td id=\"T_1ffa59c0_9d41_11eb_844d_02420a3910efrow4_col7\" class=\"data row4 col7\" >nan</td>\n",
       "                        <td id=\"T_1ffa59c0_9d41_11eb_844d_02420a3910efrow4_col8\" class=\"data row4 col8\" >nan</td>\n",
       "                        <td id=\"T_1ffa59c0_9d41_11eb_844d_02420a3910efrow4_col9\" class=\"data row4 col9\" >nan</td>\n",
       "            </tr>\n",
       "            <tr>\n",
       "                        <th id=\"T_1ffa59c0_9d41_11eb_844d_02420a3910eflevel0_row5\" class=\"row_heading level0 row5\" >PC</th>\n",
       "                        <td id=\"T_1ffa59c0_9d41_11eb_844d_02420a3910efrow5_col0\" class=\"data row5 col0\" >9.1</td>\n",
       "                        <td id=\"T_1ffa59c0_9d41_11eb_844d_02420a3910efrow5_col1\" class=\"data row5 col1\" >12.24</td>\n",
       "                        <td id=\"T_1ffa59c0_9d41_11eb_844d_02420a3910efrow5_col2\" class=\"data row5 col2\" >16.72</td>\n",
       "                        <td id=\"T_1ffa59c0_9d41_11eb_844d_02420a3910efrow5_col3\" class=\"data row5 col3\" >24.17</td>\n",
       "                        <td id=\"T_1ffa59c0_9d41_11eb_844d_02420a3910efrow5_col4\" class=\"data row5 col4\" >34.92</td>\n",
       "                        <td id=\"T_1ffa59c0_9d41_11eb_844d_02420a3910efrow5_col5\" class=\"data row5 col5\" >23.18</td>\n",
       "                        <td id=\"T_1ffa59c0_9d41_11eb_844d_02420a3910efrow5_col6\" class=\"data row5 col6\" >12.7</td>\n",
       "                        <td id=\"T_1ffa59c0_9d41_11eb_844d_02420a3910efrow5_col7\" class=\"data row5 col7\" >13.24</td>\n",
       "                        <td id=\"T_1ffa59c0_9d41_11eb_844d_02420a3910efrow5_col8\" class=\"data row5 col8\" >8.45</td>\n",
       "                        <td id=\"T_1ffa59c0_9d41_11eb_844d_02420a3910efrow5_col9\" class=\"data row5 col9\" >5.12</td>\n",
       "            </tr>\n",
       "            <tr>\n",
       "                        <th id=\"T_1ffa59c0_9d41_11eb_844d_02420a3910eflevel0_row6\" class=\"row_heading level0 row6\" >PS2</th>\n",
       "                        <td id=\"T_1ffa59c0_9d41_11eb_844d_02420a3910efrow6_col0\" class=\"data row6 col0\" >75.81</td>\n",
       "                        <td id=\"T_1ffa59c0_9d41_11eb_844d_02420a3910efrow6_col1\" class=\"data row6 col1\" >53.74</td>\n",
       "                        <td id=\"T_1ffa59c0_9d41_11eb_844d_02420a3910efrow6_col2\" class=\"data row6 col2\" >26.33</td>\n",
       "                        <td id=\"T_1ffa59c0_9d41_11eb_844d_02420a3910efrow6_col3\" class=\"data row6 col3\" >5.59</td>\n",
       "                        <td id=\"T_1ffa59c0_9d41_11eb_844d_02420a3910efrow6_col4\" class=\"data row6 col4\" >0.44</td>\n",
       "                        <td id=\"T_1ffa59c0_9d41_11eb_844d_02420a3910efrow6_col5\" class=\"data row6 col5\" >nan</td>\n",
       "                        <td id=\"T_1ffa59c0_9d41_11eb_844d_02420a3910efrow6_col6\" class=\"data row6 col6\" >nan</td>\n",
       "                        <td id=\"T_1ffa59c0_9d41_11eb_844d_02420a3910efrow6_col7\" class=\"data row6 col7\" >nan</td>\n",
       "                        <td id=\"T_1ffa59c0_9d41_11eb_844d_02420a3910efrow6_col8\" class=\"data row6 col8\" >nan</td>\n",
       "                        <td id=\"T_1ffa59c0_9d41_11eb_844d_02420a3910efrow6_col9\" class=\"data row6 col9\" >nan</td>\n",
       "            </tr>\n",
       "            <tr>\n",
       "                        <th id=\"T_1ffa59c0_9d41_11eb_844d_02420a3910eflevel0_row7\" class=\"row_heading level0 row7\" >PS3</th>\n",
       "                        <td id=\"T_1ffa59c0_9d41_11eb_844d_02420a3910efrow7_col0\" class=\"data row7 col0\" >73.19</td>\n",
       "                        <td id=\"T_1ffa59c0_9d41_11eb_844d_02420a3910efrow7_col1\" class=\"data row7 col1\" >118.51</td>\n",
       "                        <td id=\"T_1ffa59c0_9d41_11eb_844d_02420a3910efrow7_col2\" class=\"data row7 col2\" >130.89</td>\n",
       "                        <td id=\"T_1ffa59c0_9d41_11eb_844d_02420a3910efrow7_col3\" class=\"data row7 col3\" >142.16</td>\n",
       "                        <td id=\"T_1ffa59c0_9d41_11eb_844d_02420a3910efrow7_col4\" class=\"data row7 col4\" >156.77</td>\n",
       "                        <td id=\"T_1ffa59c0_9d41_11eb_844d_02420a3910efrow7_col5\" class=\"data row7 col5\" >107.31</td>\n",
       "                        <td id=\"T_1ffa59c0_9d41_11eb_844d_02420a3910efrow7_col6\" class=\"data row7 col6\" >113.23</td>\n",
       "                        <td id=\"T_1ffa59c0_9d41_11eb_844d_02420a3910efrow7_col7\" class=\"data row7 col7\" >47.7</td>\n",
       "                        <td id=\"T_1ffa59c0_9d41_11eb_844d_02420a3910efrow7_col8\" class=\"data row7 col8\" >16.77</td>\n",
       "                        <td id=\"T_1ffa59c0_9d41_11eb_844d_02420a3910efrow7_col9\" class=\"data row7 col9\" >3.57</td>\n",
       "            </tr>\n",
       "            <tr>\n",
       "                        <th id=\"T_1ffa59c0_9d41_11eb_844d_02420a3910eflevel0_row8\" class=\"row_heading level0 row8\" >PS4</th>\n",
       "                        <td id=\"T_1ffa59c0_9d41_11eb_844d_02420a3910efrow8_col0\" class=\"data row8 col0\" >nan</td>\n",
       "                        <td id=\"T_1ffa59c0_9d41_11eb_844d_02420a3910efrow8_col1\" class=\"data row8 col1\" >nan</td>\n",
       "                        <td id=\"T_1ffa59c0_9d41_11eb_844d_02420a3910efrow8_col2\" class=\"data row8 col2\" >nan</td>\n",
       "                        <td id=\"T_1ffa59c0_9d41_11eb_844d_02420a3910efrow8_col3\" class=\"data row8 col3\" >nan</td>\n",
       "                        <td id=\"T_1ffa59c0_9d41_11eb_844d_02420a3910efrow8_col4\" class=\"data row8 col4\" >nan</td>\n",
       "                        <td id=\"T_1ffa59c0_9d41_11eb_844d_02420a3910efrow8_col5\" class=\"data row8 col5\" >nan</td>\n",
       "                        <td id=\"T_1ffa59c0_9d41_11eb_844d_02420a3910efrow8_col6\" class=\"data row8 col6\" >25.99</td>\n",
       "                        <td id=\"T_1ffa59c0_9d41_11eb_844d_02420a3910efrow8_col7\" class=\"data row8 col7\" >99.99</td>\n",
       "                        <td id=\"T_1ffa59c0_9d41_11eb_844d_02420a3910efrow8_col8\" class=\"data row8 col8\" >118.87</td>\n",
       "                        <td id=\"T_1ffa59c0_9d41_11eb_844d_02420a3910efrow8_col9\" class=\"data row8 col9\" >69.09</td>\n",
       "            </tr>\n",
       "            <tr>\n",
       "                        <th id=\"T_1ffa59c0_9d41_11eb_844d_02420a3910eflevel0_row9\" class=\"row_heading level0 row9\" >PSP</th>\n",
       "                        <td id=\"T_1ffa59c0_9d41_11eb_844d_02420a3910efrow9_col0\" class=\"data row9 col0\" >46.87</td>\n",
       "                        <td id=\"T_1ffa59c0_9d41_11eb_844d_02420a3910efrow9_col1\" class=\"data row9 col1\" >34.51</td>\n",
       "                        <td id=\"T_1ffa59c0_9d41_11eb_844d_02420a3910efrow9_col2\" class=\"data row9 col2\" >37.64</td>\n",
       "                        <td id=\"T_1ffa59c0_9d41_11eb_844d_02420a3910efrow9_col3\" class=\"data row9 col3\" >34.84</td>\n",
       "                        <td id=\"T_1ffa59c0_9d41_11eb_844d_02420a3910efrow9_col4\" class=\"data row9 col4\" >17.74</td>\n",
       "                        <td id=\"T_1ffa59c0_9d41_11eb_844d_02420a3910efrow9_col5\" class=\"data row9 col5\" >7.56</td>\n",
       "                        <td id=\"T_1ffa59c0_9d41_11eb_844d_02420a3910efrow9_col6\" class=\"data row9 col6\" >3.03</td>\n",
       "                        <td id=\"T_1ffa59c0_9d41_11eb_844d_02420a3910efrow9_col7\" class=\"data row9 col7\" >0.18</td>\n",
       "                        <td id=\"T_1ffa59c0_9d41_11eb_844d_02420a3910efrow9_col8\" class=\"data row9 col8\" >0.12</td>\n",
       "                        <td id=\"T_1ffa59c0_9d41_11eb_844d_02420a3910efrow9_col9\" class=\"data row9 col9\" >nan</td>\n",
       "            </tr>\n",
       "            <tr>\n",
       "                        <th id=\"T_1ffa59c0_9d41_11eb_844d_02420a3910eflevel0_row10\" class=\"row_heading level0 row10\" >PSV</th>\n",
       "                        <td id=\"T_1ffa59c0_9d41_11eb_844d_02420a3910efrow10_col0\" class=\"data row10 col0\" >nan</td>\n",
       "                        <td id=\"T_1ffa59c0_9d41_11eb_844d_02420a3910efrow10_col1\" class=\"data row10 col1\" >nan</td>\n",
       "                        <td id=\"T_1ffa59c0_9d41_11eb_844d_02420a3910efrow10_col2\" class=\"data row10 col2\" >nan</td>\n",
       "                        <td id=\"T_1ffa59c0_9d41_11eb_844d_02420a3910efrow10_col3\" class=\"data row10 col3\" >nan</td>\n",
       "                        <td id=\"T_1ffa59c0_9d41_11eb_844d_02420a3910efrow10_col4\" class=\"data row10 col4\" >4.63</td>\n",
       "                        <td id=\"T_1ffa59c0_9d41_11eb_844d_02420a3910efrow10_col5\" class=\"data row10 col5\" >16.17</td>\n",
       "                        <td id=\"T_1ffa59c0_9d41_11eb_844d_02420a3910efrow10_col6\" class=\"data row10 col6\" >10.53</td>\n",
       "                        <td id=\"T_1ffa59c0_9d41_11eb_844d_02420a3910efrow10_col7\" class=\"data row10 col7\" >11.75</td>\n",
       "                        <td id=\"T_1ffa59c0_9d41_11eb_844d_02420a3910efrow10_col8\" class=\"data row10 col8\" >6.11</td>\n",
       "                        <td id=\"T_1ffa59c0_9d41_11eb_844d_02420a3910efrow10_col9\" class=\"data row10 col9\" >4.06</td>\n",
       "            </tr>\n",
       "            <tr>\n",
       "                        <th id=\"T_1ffa59c0_9d41_11eb_844d_02420a3910eflevel0_row11\" class=\"row_heading level0 row11\" >Wii</th>\n",
       "                        <td id=\"T_1ffa59c0_9d41_11eb_844d_02420a3910efrow11_col0\" class=\"data row11 col0\" >152.69</td>\n",
       "                        <td id=\"T_1ffa59c0_9d41_11eb_844d_02420a3910efrow11_col1\" class=\"data row11 col1\" >171.23</td>\n",
       "                        <td id=\"T_1ffa59c0_9d41_11eb_844d_02420a3910efrow11_col2\" class=\"data row11 col2\" >206.91</td>\n",
       "                        <td id=\"T_1ffa59c0_9d41_11eb_844d_02420a3910efrow11_col3\" class=\"data row11 col3\" >127.87</td>\n",
       "                        <td id=\"T_1ffa59c0_9d41_11eb_844d_02420a3910efrow11_col4\" class=\"data row11 col4\" >59.62</td>\n",
       "                        <td id=\"T_1ffa59c0_9d41_11eb_844d_02420a3910efrow11_col5\" class=\"data row11 col5\" >21.67</td>\n",
       "                        <td id=\"T_1ffa59c0_9d41_11eb_844d_02420a3910efrow11_col6\" class=\"data row11 col6\" >8.58</td>\n",
       "                        <td id=\"T_1ffa59c0_9d41_11eb_844d_02420a3910efrow11_col7\" class=\"data row11 col7\" >3.74</td>\n",
       "                        <td id=\"T_1ffa59c0_9d41_11eb_844d_02420a3910efrow11_col8\" class=\"data row11 col8\" >1.13</td>\n",
       "                        <td id=\"T_1ffa59c0_9d41_11eb_844d_02420a3910efrow11_col9\" class=\"data row11 col9\" >0.18</td>\n",
       "            </tr>\n",
       "            <tr>\n",
       "                        <th id=\"T_1ffa59c0_9d41_11eb_844d_02420a3910eflevel0_row12\" class=\"row_heading level0 row12\" >WiiU</th>\n",
       "                        <td id=\"T_1ffa59c0_9d41_11eb_844d_02420a3910efrow12_col0\" class=\"data row12 col0\" >nan</td>\n",
       "                        <td id=\"T_1ffa59c0_9d41_11eb_844d_02420a3910efrow12_col1\" class=\"data row12 col1\" >nan</td>\n",
       "                        <td id=\"T_1ffa59c0_9d41_11eb_844d_02420a3910efrow12_col2\" class=\"data row12 col2\" >nan</td>\n",
       "                        <td id=\"T_1ffa59c0_9d41_11eb_844d_02420a3910efrow12_col3\" class=\"data row12 col3\" >nan</td>\n",
       "                        <td id=\"T_1ffa59c0_9d41_11eb_844d_02420a3910efrow12_col4\" class=\"data row12 col4\" >nan</td>\n",
       "                        <td id=\"T_1ffa59c0_9d41_11eb_844d_02420a3910efrow12_col5\" class=\"data row12 col5\" >17.56</td>\n",
       "                        <td id=\"T_1ffa59c0_9d41_11eb_844d_02420a3910efrow12_col6\" class=\"data row12 col6\" >21.65</td>\n",
       "                        <td id=\"T_1ffa59c0_9d41_11eb_844d_02420a3910efrow12_col7\" class=\"data row12 col7\" >22.03</td>\n",
       "                        <td id=\"T_1ffa59c0_9d41_11eb_844d_02420a3910efrow12_col8\" class=\"data row12 col8\" >16.3</td>\n",
       "                        <td id=\"T_1ffa59c0_9d41_11eb_844d_02420a3910efrow12_col9\" class=\"data row12 col9\" >4.58</td>\n",
       "            </tr>\n",
       "            <tr>\n",
       "                        <th id=\"T_1ffa59c0_9d41_11eb_844d_02420a3910eflevel0_row13\" class=\"row_heading level0 row13\" >X360</th>\n",
       "                        <td id=\"T_1ffa59c0_9d41_11eb_844d_02420a3910efrow13_col0\" class=\"data row13 col0\" >95.4</td>\n",
       "                        <td id=\"T_1ffa59c0_9d41_11eb_844d_02420a3910efrow13_col1\" class=\"data row13 col1\" >135.25</td>\n",
       "                        <td id=\"T_1ffa59c0_9d41_11eb_844d_02420a3910efrow13_col2\" class=\"data row13 col2\" >120.24</td>\n",
       "                        <td id=\"T_1ffa59c0_9d41_11eb_844d_02420a3910efrow13_col3\" class=\"data row13 col3\" >170</td>\n",
       "                        <td id=\"T_1ffa59c0_9d41_11eb_844d_02420a3910efrow13_col4\" class=\"data row13 col4\" >143.84</td>\n",
       "                        <td id=\"T_1ffa59c0_9d41_11eb_844d_02420a3910efrow13_col5\" class=\"data row13 col5\" >99.72</td>\n",
       "                        <td id=\"T_1ffa59c0_9d41_11eb_844d_02420a3910efrow13_col6\" class=\"data row13 col6\" >88.52</td>\n",
       "                        <td id=\"T_1ffa59c0_9d41_11eb_844d_02420a3910efrow13_col7\" class=\"data row13 col7\" >34.73</td>\n",
       "                        <td id=\"T_1ffa59c0_9d41_11eb_844d_02420a3910efrow13_col8\" class=\"data row13 col8\" >11.95</td>\n",
       "                        <td id=\"T_1ffa59c0_9d41_11eb_844d_02420a3910efrow13_col9\" class=\"data row13 col9\" >1.52</td>\n",
       "            </tr>\n",
       "            <tr>\n",
       "                        <th id=\"T_1ffa59c0_9d41_11eb_844d_02420a3910eflevel0_row14\" class=\"row_heading level0 row14\" >XB</th>\n",
       "                        <td id=\"T_1ffa59c0_9d41_11eb_844d_02420a3910efrow14_col0\" class=\"data row14 col0\" >0.55</td>\n",
       "                        <td id=\"T_1ffa59c0_9d41_11eb_844d_02420a3910efrow14_col1\" class=\"data row14 col1\" >0.18</td>\n",
       "                        <td id=\"T_1ffa59c0_9d41_11eb_844d_02420a3910efrow14_col2\" class=\"data row14 col2\" >nan</td>\n",
       "                        <td id=\"T_1ffa59c0_9d41_11eb_844d_02420a3910efrow14_col3\" class=\"data row14 col3\" >nan</td>\n",
       "                        <td id=\"T_1ffa59c0_9d41_11eb_844d_02420a3910efrow14_col4\" class=\"data row14 col4\" >nan</td>\n",
       "                        <td id=\"T_1ffa59c0_9d41_11eb_844d_02420a3910efrow14_col5\" class=\"data row14 col5\" >nan</td>\n",
       "                        <td id=\"T_1ffa59c0_9d41_11eb_844d_02420a3910efrow14_col6\" class=\"data row14 col6\" >nan</td>\n",
       "                        <td id=\"T_1ffa59c0_9d41_11eb_844d_02420a3910efrow14_col7\" class=\"data row14 col7\" >nan</td>\n",
       "                        <td id=\"T_1ffa59c0_9d41_11eb_844d_02420a3910efrow14_col8\" class=\"data row14 col8\" >nan</td>\n",
       "                        <td id=\"T_1ffa59c0_9d41_11eb_844d_02420a3910efrow14_col9\" class=\"data row14 col9\" >nan</td>\n",
       "            </tr>\n",
       "            <tr>\n",
       "                        <th id=\"T_1ffa59c0_9d41_11eb_844d_02420a3910eflevel0_row15\" class=\"row_heading level0 row15\" >XOne</th>\n",
       "                        <td id=\"T_1ffa59c0_9d41_11eb_844d_02420a3910efrow15_col0\" class=\"data row15 col0\" >nan</td>\n",
       "                        <td id=\"T_1ffa59c0_9d41_11eb_844d_02420a3910efrow15_col1\" class=\"data row15 col1\" >nan</td>\n",
       "                        <td id=\"T_1ffa59c0_9d41_11eb_844d_02420a3910efrow15_col2\" class=\"data row15 col2\" >nan</td>\n",
       "                        <td id=\"T_1ffa59c0_9d41_11eb_844d_02420a3910efrow15_col3\" class=\"data row15 col3\" >nan</td>\n",
       "                        <td id=\"T_1ffa59c0_9d41_11eb_844d_02420a3910efrow15_col4\" class=\"data row15 col4\" >nan</td>\n",
       "                        <td id=\"T_1ffa59c0_9d41_11eb_844d_02420a3910efrow15_col5\" class=\"data row15 col5\" >nan</td>\n",
       "                        <td id=\"T_1ffa59c0_9d41_11eb_844d_02420a3910efrow15_col6\" class=\"data row15 col6\" >18.96</td>\n",
       "                        <td id=\"T_1ffa59c0_9d41_11eb_844d_02420a3910efrow15_col7\" class=\"data row15 col7\" >54.05</td>\n",
       "                        <td id=\"T_1ffa59c0_9d41_11eb_844d_02420a3910efrow15_col8\" class=\"data row15 col8\" >60.11</td>\n",
       "                        <td id=\"T_1ffa59c0_9d41_11eb_844d_02420a3910efrow15_col9\" class=\"data row15 col9\" >25.95</td>\n",
       "            </tr>\n",
       "    </tbody></table>"
      ],
      "text/plain": [
       "<pandas.io.formats.style.Styler at 0x7ff2b6496190>"
      ]
     },
     "execution_count": 45,
     "metadata": {},
     "output_type": "execute_result"
    }
   ],
   "source": [
    "game_df1.query('year_of_release >= 2007').pivot_table(\n",
    "    index='platform',\n",
    "    columns='year_of_release',\n",
    "    values='sum_sales',\n",
    "    aggfunc='sum').style.applymap(lambda x: \"background-color: red\" if x>0 else \"background-color: white\")"
   ]
  },
  {
   "cell_type": "markdown",
   "metadata": {},
   "source": [
    "В среднем, платформы живут около 7 лет и около 250 - 280 миллионов людей имеют на них игры. Подкорректируем актуальный период до 7 лет, так как с 2009 года нет устаревших платформ. Выделим данные за актуальный период."
   ]
  },
  {
   "cell_type": "code",
   "execution_count": 46,
   "metadata": {},
   "outputs": [],
   "source": [
    "game_df2 = game_df1.query('year_of_release >= 2013')"
   ]
  },
  {
   "cell_type": "code",
   "execution_count": 47,
   "metadata": {},
   "outputs": [
    {
     "data": {
      "text/html": [
       "<div>\n",
       "<style scoped>\n",
       "    .dataframe tbody tr th:only-of-type {\n",
       "        vertical-align: middle;\n",
       "    }\n",
       "\n",
       "    .dataframe tbody tr th {\n",
       "        vertical-align: top;\n",
       "    }\n",
       "\n",
       "    .dataframe thead th {\n",
       "        text-align: right;\n",
       "    }\n",
       "</style>\n",
       "<table border=\"1\" class=\"dataframe\">\n",
       "  <thead>\n",
       "    <tr style=\"text-align: right;\">\n",
       "      <th></th>\n",
       "      <th>name</th>\n",
       "      <th>platform</th>\n",
       "      <th>year_of_release</th>\n",
       "      <th>genre</th>\n",
       "      <th>na_sales</th>\n",
       "      <th>eu_sales</th>\n",
       "      <th>jp_sales</th>\n",
       "      <th>other_sales</th>\n",
       "      <th>critic_score</th>\n",
       "      <th>user_score</th>\n",
       "      <th>rating</th>\n",
       "      <th>sum_sales</th>\n",
       "    </tr>\n",
       "  </thead>\n",
       "  <tbody>\n",
       "    <tr>\n",
       "      <td>16</td>\n",
       "      <td>Grand Theft Auto V</td>\n",
       "      <td>PS3</td>\n",
       "      <td>2013</td>\n",
       "      <td>Action</td>\n",
       "      <td>7.02</td>\n",
       "      <td>9.09</td>\n",
       "      <td>0.98</td>\n",
       "      <td>3.96</td>\n",
       "      <td>97.0</td>\n",
       "      <td>8.2</td>\n",
       "      <td>M</td>\n",
       "      <td>21.05</td>\n",
       "    </tr>\n",
       "    <tr>\n",
       "      <td>23</td>\n",
       "      <td>Grand Theft Auto V</td>\n",
       "      <td>X360</td>\n",
       "      <td>2013</td>\n",
       "      <td>Action</td>\n",
       "      <td>9.66</td>\n",
       "      <td>5.14</td>\n",
       "      <td>0.06</td>\n",
       "      <td>1.41</td>\n",
       "      <td>97.0</td>\n",
       "      <td>8.1</td>\n",
       "      <td>M</td>\n",
       "      <td>16.27</td>\n",
       "    </tr>\n",
       "    <tr>\n",
       "      <td>31</td>\n",
       "      <td>Call of Duty: Black Ops 3</td>\n",
       "      <td>PS4</td>\n",
       "      <td>2015</td>\n",
       "      <td>Shooter</td>\n",
       "      <td>6.03</td>\n",
       "      <td>5.86</td>\n",
       "      <td>0.36</td>\n",
       "      <td>2.38</td>\n",
       "      <td>NaN</td>\n",
       "      <td>NaN</td>\n",
       "      <td>NO</td>\n",
       "      <td>14.63</td>\n",
       "    </tr>\n",
       "    <tr>\n",
       "      <td>33</td>\n",
       "      <td>Pokemon X/Pokemon Y</td>\n",
       "      <td>3DS</td>\n",
       "      <td>2013</td>\n",
       "      <td>Role-Playing</td>\n",
       "      <td>5.28</td>\n",
       "      <td>4.19</td>\n",
       "      <td>4.35</td>\n",
       "      <td>0.78</td>\n",
       "      <td>NaN</td>\n",
       "      <td>NaN</td>\n",
       "      <td>NO</td>\n",
       "      <td>14.60</td>\n",
       "    </tr>\n",
       "    <tr>\n",
       "      <td>42</td>\n",
       "      <td>Grand Theft Auto V</td>\n",
       "      <td>PS4</td>\n",
       "      <td>2014</td>\n",
       "      <td>Action</td>\n",
       "      <td>3.96</td>\n",
       "      <td>6.31</td>\n",
       "      <td>0.38</td>\n",
       "      <td>1.97</td>\n",
       "      <td>97.0</td>\n",
       "      <td>8.3</td>\n",
       "      <td>M</td>\n",
       "      <td>12.62</td>\n",
       "    </tr>\n",
       "    <tr>\n",
       "      <td>...</td>\n",
       "      <td>...</td>\n",
       "      <td>...</td>\n",
       "      <td>...</td>\n",
       "      <td>...</td>\n",
       "      <td>...</td>\n",
       "      <td>...</td>\n",
       "      <td>...</td>\n",
       "      <td>...</td>\n",
       "      <td>...</td>\n",
       "      <td>...</td>\n",
       "      <td>...</td>\n",
       "      <td>...</td>\n",
       "    </tr>\n",
       "    <tr>\n",
       "      <td>16043</td>\n",
       "      <td>Tiger &amp; Bunny: Hero's Day</td>\n",
       "      <td>PSP</td>\n",
       "      <td>2013</td>\n",
       "      <td>Action</td>\n",
       "      <td>0.00</td>\n",
       "      <td>0.00</td>\n",
       "      <td>0.02</td>\n",
       "      <td>0.00</td>\n",
       "      <td>NaN</td>\n",
       "      <td>NaN</td>\n",
       "      <td>NO</td>\n",
       "      <td>0.02</td>\n",
       "    </tr>\n",
       "    <tr>\n",
       "      <td>16047</td>\n",
       "      <td>Accel World: Kasoku no Chouten</td>\n",
       "      <td>PS3</td>\n",
       "      <td>2013</td>\n",
       "      <td>Adventure</td>\n",
       "      <td>0.00</td>\n",
       "      <td>0.00</td>\n",
       "      <td>0.02</td>\n",
       "      <td>0.00</td>\n",
       "      <td>NaN</td>\n",
       "      <td>NaN</td>\n",
       "      <td>NO</td>\n",
       "      <td>0.02</td>\n",
       "    </tr>\n",
       "    <tr>\n",
       "      <td>16052</td>\n",
       "      <td>Girl Friend Beta: Kimi to Sugosu Natsuyasumi</td>\n",
       "      <td>PSV</td>\n",
       "      <td>2015</td>\n",
       "      <td>Action</td>\n",
       "      <td>0.00</td>\n",
       "      <td>0.00</td>\n",
       "      <td>0.02</td>\n",
       "      <td>0.00</td>\n",
       "      <td>NaN</td>\n",
       "      <td>NaN</td>\n",
       "      <td>NO</td>\n",
       "      <td>0.02</td>\n",
       "    </tr>\n",
       "    <tr>\n",
       "      <td>16069</td>\n",
       "      <td>Meiji Toukyou Renka: Twilight Kiss</td>\n",
       "      <td>PSP</td>\n",
       "      <td>2015</td>\n",
       "      <td>Action</td>\n",
       "      <td>0.00</td>\n",
       "      <td>0.00</td>\n",
       "      <td>0.02</td>\n",
       "      <td>0.00</td>\n",
       "      <td>NaN</td>\n",
       "      <td>NaN</td>\n",
       "      <td>NO</td>\n",
       "      <td>0.02</td>\n",
       "    </tr>\n",
       "    <tr>\n",
       "      <td>16113</td>\n",
       "      <td>Republique</td>\n",
       "      <td>PS4</td>\n",
       "      <td>2016</td>\n",
       "      <td>Action</td>\n",
       "      <td>0.00</td>\n",
       "      <td>0.01</td>\n",
       "      <td>0.01</td>\n",
       "      <td>0.00</td>\n",
       "      <td>72.0</td>\n",
       "      <td>5.8</td>\n",
       "      <td>M</td>\n",
       "      <td>0.02</td>\n",
       "    </tr>\n",
       "  </tbody>\n",
       "</table>\n",
       "<p>2034 rows × 12 columns</p>\n",
       "</div>"
      ],
      "text/plain": [
       "                                               name platform  year_of_release  \\\n",
       "16                               Grand Theft Auto V      PS3             2013   \n",
       "23                               Grand Theft Auto V     X360             2013   \n",
       "31                        Call of Duty: Black Ops 3      PS4             2015   \n",
       "33                              Pokemon X/Pokemon Y      3DS             2013   \n",
       "42                               Grand Theft Auto V      PS4             2014   \n",
       "...                                             ...      ...              ...   \n",
       "16043                     Tiger & Bunny: Hero's Day      PSP             2013   \n",
       "16047                Accel World: Kasoku no Chouten      PS3             2013   \n",
       "16052  Girl Friend Beta: Kimi to Sugosu Natsuyasumi      PSV             2015   \n",
       "16069            Meiji Toukyou Renka: Twilight Kiss      PSP             2015   \n",
       "16113                                    Republique      PS4             2016   \n",
       "\n",
       "              genre  na_sales  eu_sales  jp_sales  other_sales  critic_score  \\\n",
       "16           Action      7.02      9.09      0.98         3.96          97.0   \n",
       "23           Action      9.66      5.14      0.06         1.41          97.0   \n",
       "31          Shooter      6.03      5.86      0.36         2.38           NaN   \n",
       "33     Role-Playing      5.28      4.19      4.35         0.78           NaN   \n",
       "42           Action      3.96      6.31      0.38         1.97          97.0   \n",
       "...             ...       ...       ...       ...          ...           ...   \n",
       "16043        Action      0.00      0.00      0.02         0.00           NaN   \n",
       "16047     Adventure      0.00      0.00      0.02         0.00           NaN   \n",
       "16052        Action      0.00      0.00      0.02         0.00           NaN   \n",
       "16069        Action      0.00      0.00      0.02         0.00           NaN   \n",
       "16113        Action      0.00      0.01      0.01         0.00          72.0   \n",
       "\n",
       "       user_score rating  sum_sales  \n",
       "16            8.2      M      21.05  \n",
       "23            8.1      M      16.27  \n",
       "31            NaN     NO      14.63  \n",
       "33            NaN     NO      14.60  \n",
       "42            8.3      M      12.62  \n",
       "...           ...    ...        ...  \n",
       "16043         NaN     NO       0.02  \n",
       "16047         NaN     NO       0.02  \n",
       "16052         NaN     NO       0.02  \n",
       "16069         NaN     NO       0.02  \n",
       "16113         5.8      M       0.02  \n",
       "\n",
       "[2034 rows x 12 columns]"
      ]
     },
     "execution_count": 47,
     "metadata": {},
     "output_type": "execute_result"
    }
   ],
   "source": [
    "game_df2"
   ]
  },
  {
   "cell_type": "code",
   "execution_count": 48,
   "metadata": {},
   "outputs": [
    {
     "data": {
      "text/plain": [
       "platform\n",
       "DS        1.54\n",
       "PSP       3.33\n",
       "Wii      13.63\n",
       "PSV      32.45\n",
       "PC       39.51\n",
       "WiiU     64.56\n",
       "X360    136.72\n",
       "3DS     143.02\n",
       "XOne    159.07\n",
       "PS3     181.27\n",
       "PS4     313.94\n",
       "Name: sum_sales, dtype: float64"
      ]
     },
     "execution_count": 48,
     "metadata": {},
     "output_type": "execute_result"
    }
   ],
   "source": [
    "platform_sales = game_df2.groupby('platform')['sum_sales'].sum().sort_values()\n",
    "platform_sales"
   ]
  },
  {
   "cell_type": "markdown",
   "metadata": {},
   "source": [
    "Наиболее прибыльные платформы за указанный период: PS3, PS4 и XOne, но PS3 уже 11. Можно предположить, что следующие поколения будет также успешно. PS4 и XOne показывают неплохие продажи. А вот  WiiU показывает не очень хорошие результаты, количество копий на неё продано в 5 раза меньше, чем на PS4. Также хорошие продажи показывает 3DS."
   ]
  },
  {
   "cell_type": "code",
   "execution_count": 49,
   "metadata": {},
   "outputs": [
    {
     "name": "stderr",
     "output_type": "stream",
     "text": [
      "/opt/conda/lib/python3.7/site-packages/numpy/core/_asarray.py:83: VisibleDeprecationWarning: Creating an ndarray from ragged nested sequences (which is a list-or-tuple of lists-or-tuples-or ndarrays with different lengths or shapes) is deprecated. If you meant to do this, you must specify 'dtype=object' when creating the ndarray\n",
      "  return array(a, dtype, copy=False, order=order)\n"
     ]
    },
    {
     "data": {
      "text/plain": [
       "Text(0, 0.5, 'Количество проданных копий, млн')"
      ]
     },
     "execution_count": 49,
     "metadata": {},
     "output_type": "execute_result"
    },
    {
     "data": {
      "image/png": "[encoded data removed]",
      "text/plain": [
       "<Figure size 648x648 with 1 Axes>"
      ]
     },
     "metadata": {
      "needs_background": "light"
     },
     "output_type": "display_data"
    }
   ],
   "source": [
    "game_df2.boxplot(column='sum_sales',by='platform',figsize=(9,9))\n",
    "plt.title(\"Распределение проданных копий игр для разных платформ\")\n",
    "plt.xlabel(\"Платформы\")\n",
    "plt.ylabel(\"Количество проданных копий, млн\")"
   ]
  },
  {
   "cell_type": "markdown",
   "metadata": {},
   "source": [
    "На некоторых платформах заметны выбросы - игры, которые продали аномально большим тиражем. Эти игры выпускались на платформах  PS3, X360 и Wii - лидирующих на рынке. Проанализируем данные вне аномальных значений."
   ]
  },
  {
   "cell_type": "code",
   "execution_count": 50,
   "metadata": {},
   "outputs": [
    {
     "name": "stderr",
     "output_type": "stream",
     "text": [
      "/opt/conda/lib/python3.7/site-packages/numpy/core/_asarray.py:83: VisibleDeprecationWarning: Creating an ndarray from ragged nested sequences (which is a list-or-tuple of lists-or-tuples-or ndarrays with different lengths or shapes) is deprecated. If you meant to do this, you must specify 'dtype=object' when creating the ndarray\n",
      "  return array(a, dtype, copy=False, order=order)\n"
     ]
    },
    {
     "data": {
      "text/plain": [
       "Text(0, 0.5, 'Количество проданных копий, млн')"
      ]
     },
     "execution_count": 50,
     "metadata": {},
     "output_type": "execute_result"
    },
    {
     "data": {
      "image/png": "[encoded data removed]",
      "text/plain": [
       "<Figure size 648x648 with 1 Axes>"
      ]
     },
     "metadata": {
      "needs_background": "light"
     },
     "output_type": "display_data"
    }
   ],
   "source": [
    "game_df2.query('sum_sales <=10').boxplot(column='sum_sales',by='platform',figsize=(9,9))\n",
    "plt.title(\"Распределение проданных копий игр для разных платформ без учета аномальных значений\")\n",
    "plt.xlabel(\"Платформы\")\n",
    "plt.ylabel(\"Количество проданных копий, млн\")"
   ]
  },
  {
   "cell_type": "markdown",
   "metadata": {},
   "source": [
    "Из боксплоте для разных платформ видно, что наиболее выгодно вкладываться в игры на ps4, потому что именно на этой перспективной платформе чаще попадаются игры с продажами от 4 млн копий, все проекты продались более 1 млн копий. Также стоит взять на заметку платформу 3DS. Хотя её квартели намного уже, периодически встречаются очень популярные проекты.\n",
    "\n",
    "Рассмотрим как влияют отзывы на продажи для платформ PS3, X360 и Wii, так как они являются лидерами рынка на данный момент."
   ]
  },
  {
   "cell_type": "code",
   "execution_count": 51,
   "metadata": {},
   "outputs": [
    {
     "data": {
      "text/plain": [
       "Text(0, 0.5, 'Количество проданных копий, млн')"
      ]
     },
     "execution_count": 51,
     "metadata": {},
     "output_type": "execute_result"
    },
    {
     "data": {
      "image/png": "[encoded data removed]",
      "text/plain": [
       "<Figure size 432x288 with 1 Axes>"
      ]
     },
     "metadata": {
      "needs_background": "light"
     },
     "output_type": "display_data"
    },
    {
     "data": {
      "image/png": "[encoded data removed]",
      "text/plain": [
       "<Figure size 432x288 with 1 Axes>"
      ]
     },
     "metadata": {
      "needs_background": "light"
     },
     "output_type": "display_data"
    }
   ],
   "source": [
    "game_df2.query('platform == \"PS3\"').plot(x='user_score', y='sum_sales', kind='scatter')\n",
    "plt.title(\"Зависимость продаж от оценки игроков на PS3\")\n",
    "plt.xlabel(\"Оценка\")\n",
    "plt.ylabel(\"Количество проданных копий, млн\")\n",
    "game_df2.query('platform == \"PS3\"').plot(x='critic_score', y='sum_sales', kind='scatter')\n",
    "game_df2.query('platform == \"PS3\"')[['critic_score','user_score','sum_sales']].corr()\n",
    "plt.title(\"Зависимость продаж от оценки критиков на PS3\")\n",
    "plt.xlabel(\"Оценка\")\n",
    "plt.ylabel(\"Количество проданных копий, млн\")"
   ]
  },
  {
   "cell_type": "code",
   "execution_count": 85,
   "metadata": {},
   "outputs": [
    {
     "data": {
      "text/html": [
       "<div>\n",
       "<style scoped>\n",
       "    .dataframe tbody tr th:only-of-type {\n",
       "        vertical-align: middle;\n",
       "    }\n",
       "\n",
       "    .dataframe tbody tr th {\n",
       "        vertical-align: top;\n",
       "    }\n",
       "\n",
       "    .dataframe thead th {\n",
       "        text-align: right;\n",
       "    }\n",
       "</style>\n",
       "<table border=\"1\" class=\"dataframe\">\n",
       "  <thead>\n",
       "    <tr style=\"text-align: right;\">\n",
       "      <th></th>\n",
       "      <th>critic_score</th>\n",
       "      <th>user_score</th>\n",
       "      <th>sum_sales</th>\n",
       "    </tr>\n",
       "  </thead>\n",
       "  <tbody>\n",
       "    <tr>\n",
       "      <td>critic_score</td>\n",
       "      <td>1.000000</td>\n",
       "      <td>0.480331</td>\n",
       "      <td>0.408197</td>\n",
       "    </tr>\n",
       "    <tr>\n",
       "      <td>user_score</td>\n",
       "      <td>0.480331</td>\n",
       "      <td>1.000000</td>\n",
       "      <td>-0.051901</td>\n",
       "    </tr>\n",
       "    <tr>\n",
       "      <td>sum_sales</td>\n",
       "      <td>0.408197</td>\n",
       "      <td>-0.051901</td>\n",
       "      <td>1.000000</td>\n",
       "    </tr>\n",
       "  </tbody>\n",
       "</table>\n",
       "</div>"
      ],
      "text/plain": [
       "              critic_score  user_score  sum_sales\n",
       "critic_score      1.000000    0.480331   0.408197\n",
       "user_score        0.480331    1.000000  -0.051901\n",
       "sum_sales         0.408197   -0.051901   1.000000"
      ]
     },
     "execution_count": 85,
     "metadata": {},
     "output_type": "execute_result"
    },
    {
     "data": {
      "image/png": "[encoded data removed]",
      "text/plain": [
       "<Figure size 432x288 with 1 Axes>"
      ]
     },
     "metadata": {
      "needs_background": "light"
     },
     "output_type": "display_data"
    },
    {
     "data": {
      "image/png": "[encoded data removed]",
      "text/plain": [
       "<Figure size 432x288 with 1 Axes>"
      ]
     },
     "metadata": {
      "needs_background": "light"
     },
     "output_type": "display_data"
    }
   ],
   "source": [
    "game_df2.query('platform == \"XOne\"').plot(x='user_score', y='sum_sales', kind='scatter')\n",
    "plt.title(\"Зависимость продаж от оценки игроков на XOne\")\n",
    "plt.xlabel(\"Оценка\")\n",
    "plt.ylabel(\"Количество проданных копий, млн\")\n",
    "game_df2.query('platform == \"XOne\"').plot(x='critic_score', y='sum_sales', kind='scatter')\n",
    "plt.title(\"Зависимость продаж от оценки критиков на XOne\")\n",
    "plt.xlabel(\"Оценка\")\n",
    "plt.ylabel(\"Количество проданных копий, млн\")\n",
    "game_df2.query('platform == \"XOne\"')[['critic_score','user_score','sum_sales']].corr()"
   ]
  },
  {
   "cell_type": "code",
   "execution_count": 86,
   "metadata": {},
   "outputs": [
    {
     "data": {
      "text/html": [
       "<div>\n",
       "<style scoped>\n",
       "    .dataframe tbody tr th:only-of-type {\n",
       "        vertical-align: middle;\n",
       "    }\n",
       "\n",
       "    .dataframe tbody tr th {\n",
       "        vertical-align: top;\n",
       "    }\n",
       "\n",
       "    .dataframe thead th {\n",
       "        text-align: right;\n",
       "    }\n",
       "</style>\n",
       "<table border=\"1\" class=\"dataframe\">\n",
       "  <thead>\n",
       "    <tr style=\"text-align: right;\">\n",
       "      <th></th>\n",
       "      <th>critic_score</th>\n",
       "      <th>user_score</th>\n",
       "      <th>sum_sales</th>\n",
       "    </tr>\n",
       "  </thead>\n",
       "  <tbody>\n",
       "    <tr>\n",
       "      <td>critic_score</td>\n",
       "      <td>1.000000</td>\n",
       "      <td>0.537373</td>\n",
       "      <td>0.399462</td>\n",
       "    </tr>\n",
       "    <tr>\n",
       "      <td>user_score</td>\n",
       "      <td>0.537373</td>\n",
       "      <td>1.000000</td>\n",
       "      <td>-0.048459</td>\n",
       "    </tr>\n",
       "    <tr>\n",
       "      <td>sum_sales</td>\n",
       "      <td>0.399462</td>\n",
       "      <td>-0.048459</td>\n",
       "      <td>1.000000</td>\n",
       "    </tr>\n",
       "  </tbody>\n",
       "</table>\n",
       "</div>"
      ],
      "text/plain": [
       "              critic_score  user_score  sum_sales\n",
       "critic_score      1.000000    0.537373   0.399462\n",
       "user_score        0.537373    1.000000  -0.048459\n",
       "sum_sales         0.399462   -0.048459   1.000000"
      ]
     },
     "execution_count": 86,
     "metadata": {},
     "output_type": "execute_result"
    },
    {
     "data": {
      "image/png": "[encoded data removed]",
      "text/plain": [
       "<Figure size 432x288 with 1 Axes>"
      ]
     },
     "metadata": {
      "needs_background": "light"
     },
     "output_type": "display_data"
    },
    {
     "data": {
      "image/png": "[encoded data removed]",
      "text/plain": [
       "<Figure size 432x288 with 1 Axes>"
      ]
     },
     "metadata": {
      "needs_background": "light"
     },
     "output_type": "display_data"
    }
   ],
   "source": [
    "game_df2.query('platform == \"PS4\"').plot(x='user_score', y='sum_sales', kind='scatter',label='user_score')\n",
    "plt.title(\"Зависимость продаж от оценки игроков на  PS4\")\n",
    "plt.xlabel(\"Оценка\")\n",
    "plt.ylabel(\"Количество проданных копий, млн\")\n",
    "game_df2.query('platform == \"PS4\"').plot(x='critic_score', y='sum_sales', kind='scatter',label='critic_score')\n",
    "plt.title(\"Зависимость продаж от оценки критиков на PS4\")\n",
    "plt.xlabel(\"Оценка\")\n",
    "plt.ylabel(\"Количество проданных копий, млн\")\n",
    "game_df2.query('platform == \"PS4\"')[['critic_score','user_score','sum_sales']].corr()"
   ]
  },
  {
   "cell_type": "markdown",
   "metadata": {},
   "source": [
    "Для PS3 и X360, оценки критиков на 40% коррелируют с суммарными продажами.Для всех рассматриваемых платформ, оценкт критиков и пользователей совпадают на 60%. Видно, что в случае, когда оценки критиков поднимаются больше 80, то шанс обнаружить игру с большими продажами сильно возрастает. Для пользователей это правило не всегда работает, пока только для Wii. \n",
    "Проверим работает ли это для других платформ."
   ]
  },
  {
   "cell_type": "code",
   "execution_count": 54,
   "metadata": {},
   "outputs": [
    {
     "data": {
      "image/png": "[encoded data removed]",
      "text/plain": [
       "<Figure size 864x864 with 11 Axes>"
      ]
     },
     "metadata": {
      "needs_background": "light"
     },
     "output_type": "display_data"
    }
   ],
   "source": [
    "i = 0\n",
    "for pl in platform_sales.index:\n",
    "    i += 1\n",
    "    ax = plt.subplot(4,4,i)\n",
    "    try:\n",
    "        game_df2.query('platform == @pl').plot(\n",
    "            x='critic_score', y='sum_sales', kind='scatter',ax = ax, figsize=(12,12),label=pl\n",
    "        )\n",
    "    except:\n",
    "        continue"
   ]
  },
  {
   "cell_type": "markdown",
   "metadata": {},
   "source": [
    "Видно, что начиная с PSV, диаграмма рассеяния имеет смещение в сторону больших значениях, после оценки критиков 75 - 80."
   ]
  },
  {
   "cell_type": "code",
   "execution_count": 55,
   "metadata": {
    "scrolled": true
   },
   "outputs": [
    {
     "data": {
      "image/png": "[encoded data removed]",
      "text/plain": [
       "<Figure size 864x864 with 11 Axes>"
      ]
     },
     "metadata": {
      "needs_background": "light"
     },
     "output_type": "display_data"
    }
   ],
   "source": [
    "i = 0\n",
    "for pl in platform_sales.index:\n",
    "    i += 1\n",
    "    ax = plt.subplot(4,4,i)\n",
    "    game_df2.query('platform == @pl').plot(\n",
    "        x='user_score', y='sum_sales', kind='scatter',ax = ax, figsize=(12,12),label=pl\n",
    "    )"
   ]
  },
  {
   "cell_type": "code",
   "execution_count": 92,
   "metadata": {},
   "outputs": [
    {
     "data": {
      "text/plain": [
       "0.3325"
      ]
     },
     "execution_count": 92,
     "metadata": {},
     "output_type": "execute_result"
    }
   ],
   "source": [
    "critic_score_corr = np.array([])\n",
    "for pl in ['PSV', 'PC', 'WiiU', 'X360', '3DS', 'XOne', 'PS3','PS4']:\n",
    "    critic_score_corr = np.append(\n",
    "        critic_score_corr,\n",
    "        game_df2.query('platform == @pl')[['critic_score','sum_sales']].corr().loc['critic_score','sum_sales'].round(2)\n",
    "    )\n",
    "critic_score_corr.mean()"
   ]
  },
  {
   "cell_type": "code",
   "execution_count": 88,
   "metadata": {},
   "outputs": [
    {
     "data": {
      "text/plain": [
       "Index(['DS', 'PSP', 'Wii', 'PSV', 'PC', 'WiiU', 'X360', '3DS', 'XOne', 'PS3',\n",
       "       'PS4'],\n",
       "      dtype='object', name='platform')"
      ]
     },
     "execution_count": 88,
     "metadata": {},
     "output_type": "execute_result"
    }
   ],
   "source": [
    "platform_sales.index"
   ]
  },
  {
   "cell_type": "code",
   "execution_count": 89,
   "metadata": {},
   "outputs": [
    {
     "data": {
      "text/plain": [
       "0.0575"
      ]
     },
     "execution_count": 89,
     "metadata": {},
     "output_type": "execute_result"
    }
   ],
   "source": [
    "critic_score_corr = np.array([])\n",
    "for pl in  ['PSV', 'PC', 'WiiU', 'X360', '3DS', 'XOne', 'PS3','PS4']:\n",
    "    critic_score_corr = np.append(\n",
    "        critic_score_corr,\n",
    "        game_df2.query('platform == @pl')[['user_score','sum_sales']].corr().loc['user_score','sum_sales'].round(2)\n",
    "    )\n",
    "critic_score_corr.mean()"
   ]
  },
  {
   "cell_type": "code",
   "execution_count": 93,
   "metadata": {
    "scrolled": true
   },
   "outputs": [
    {
     "data": {
      "text/plain": [
       "0.59"
      ]
     },
     "execution_count": 93,
     "metadata": {},
     "output_type": "execute_result"
    }
   ],
   "source": [
    "critic_score_corr = np.array([])\n",
    "for pl in  ['PSV', 'PC', 'WiiU', 'X360', '3DS', 'XOne', 'PS3','PS4']:\n",
    "    critic_score_corr = np.append(\n",
    "        critic_score_corr,\n",
    "        game_df2.query('platform == @pl')[['user_score','critic_score']].corr().loc['user_score','critic_score'].round(2)\n",
    "    )\n",
    "critic_score_corr.mean().round(2)"
   ]
  },
  {
   "cell_type": "markdown",
   "metadata": {},
   "source": [
    "Для оценки зрителей, похожее наблюдается только у PSP и платформ от Nintendo:Wii,3DS,DS,WiiU.  \n",
    "\n",
    "В итоге, оценка критиков больше 80 может являться признаком потенциально прибыльной игры. Оценка критиков коррелирует с продажами в среднем на 33%, с оценкой пользоватлей на 60%. Оценка пользователей с продажами коррелирует на 6%, по ней нельзя судить о вероятной прибыльности игры."
   ]
  },
  {
   "cell_type": "markdown",
   "metadata": {},
   "source": [
    "### Распределение игр по жанрам\n",
    "Посмотрим распределение продаж для разных платформ в зависимости от цены. Определим жанры, в которых игры продаются очень хорошо, а в каких плохо."
   ]
  },
  {
   "cell_type": "code",
   "execution_count": 59,
   "metadata": {
    "scrolled": true
   },
   "outputs": [
    {
     "name": "stderr",
     "output_type": "stream",
     "text": [
      "/opt/conda/lib/python3.7/site-packages/numpy/core/_asarray.py:83: VisibleDeprecationWarning: Creating an ndarray from ragged nested sequences (which is a list-or-tuple of lists-or-tuples-or ndarrays with different lengths or shapes) is deprecated. If you meant to do this, you must specify 'dtype=object' when creating the ndarray\n",
      "  return array(a, dtype, copy=False, order=order)\n"
     ]
    },
    {
     "data": {
      "text/plain": [
       "Text(0, 0.5, 'Количество проданных копий, млн')"
      ]
     },
     "execution_count": 59,
     "metadata": {},
     "output_type": "execute_result"
    },
    {
     "data": {
      "image/png": "[encoded data removed]",
      "text/plain": [
       "<Figure size 792x792 with 1 Axes>"
      ]
     },
     "metadata": {
      "needs_background": "light"
     },
     "output_type": "display_data"
    }
   ],
   "source": [
    "game_df2.boxplot(column='sum_sales',by='genre',figsize=(11,11))\n",
    "plt.title(\"Распределение проданных копий игр для разных жанров\")\n",
    "plt.xlabel(\"Жанры\")\n",
    "plt.ylabel(\"Количество проданных копий, млн\")"
   ]
  },
  {
   "cell_type": "markdown",
   "metadata": {},
   "source": [
    "Некоторые игры жанра Misc, Sports,Platform и Action продались аномально большим тиражем. Рассмотрим распределение без этих значений."
   ]
  },
  {
   "cell_type": "code",
   "execution_count": 60,
   "metadata": {},
   "outputs": [
    {
     "name": "stderr",
     "output_type": "stream",
     "text": [
      "/opt/conda/lib/python3.7/site-packages/numpy/core/_asarray.py:83: VisibleDeprecationWarning: Creating an ndarray from ragged nested sequences (which is a list-or-tuple of lists-or-tuples-or ndarrays with different lengths or shapes) is deprecated. If you meant to do this, you must specify 'dtype=object' when creating the ndarray\n",
      "  return array(a, dtype, copy=False, order=order)\n"
     ]
    },
    {
     "data": {
      "text/plain": [
       "Text(0, 0.5, 'Количество проданных копий, млн')"
      ]
     },
     "execution_count": 60,
     "metadata": {},
     "output_type": "execute_result"
    },
    {
     "data": {
      "image/png": "[encoded data removed]",
      "text/plain": [
       "<Figure size 792x792 with 1 Axes>"
      ]
     },
     "metadata": {
      "needs_background": "light"
     },
     "output_type": "display_data"
    }
   ],
   "source": [
    "game_df2.query('sum_sales <=10').boxplot(column='sum_sales',by='genre',figsize=(11,11))\n",
    "plt.title(\"Распределение проданных копий игр для разных жанров без учета аномальных значений\")\n",
    "plt.xlabel(\"Жанры\")\n",
    "plt.ylabel(\"Количество проданных копий, млн\")"
   ]
  },
  {
   "cell_type": "code",
   "execution_count": 61,
   "metadata": {},
   "outputs": [
    {
     "data": {
      "text/html": [
       "<div>\n",
       "<style scoped>\n",
       "    .dataframe tbody tr th:only-of-type {\n",
       "        vertical-align: middle;\n",
       "    }\n",
       "\n",
       "    .dataframe tbody tr th {\n",
       "        vertical-align: top;\n",
       "    }\n",
       "\n",
       "    .dataframe thead th {\n",
       "        text-align: right;\n",
       "    }\n",
       "</style>\n",
       "<table border=\"1\" class=\"dataframe\">\n",
       "  <thead>\n",
       "    <tr style=\"text-align: right;\">\n",
       "      <th></th>\n",
       "      <th>count</th>\n",
       "      <th>sum_sales</th>\n",
       "    </tr>\n",
       "    <tr>\n",
       "      <th>genre</th>\n",
       "      <th></th>\n",
       "      <th></th>\n",
       "    </tr>\n",
       "  </thead>\n",
       "  <tbody>\n",
       "    <tr>\n",
       "      <td>Puzzle</td>\n",
       "      <td>14</td>\n",
       "      <td>3.14</td>\n",
       "    </tr>\n",
       "    <tr>\n",
       "      <td>Strategy</td>\n",
       "      <td>51</td>\n",
       "      <td>10.03</td>\n",
       "    </tr>\n",
       "    <tr>\n",
       "      <td>Simulation</td>\n",
       "      <td>54</td>\n",
       "      <td>21.68</td>\n",
       "    </tr>\n",
       "    <tr>\n",
       "      <td>Adventure</td>\n",
       "      <td>192</td>\n",
       "      <td>23.11</td>\n",
       "    </tr>\n",
       "    <tr>\n",
       "      <td>Fighting</td>\n",
       "      <td>78</td>\n",
       "      <td>35.29</td>\n",
       "    </tr>\n",
       "    <tr>\n",
       "      <td>Racing</td>\n",
       "      <td>76</td>\n",
       "      <td>39.80</td>\n",
       "    </tr>\n",
       "    <tr>\n",
       "      <td>Platform</td>\n",
       "      <td>70</td>\n",
       "      <td>42.59</td>\n",
       "    </tr>\n",
       "    <tr>\n",
       "      <td>Misc</td>\n",
       "      <td>143</td>\n",
       "      <td>62.70</td>\n",
       "    </tr>\n",
       "    <tr>\n",
       "      <td>Role-Playing</td>\n",
       "      <td>285</td>\n",
       "      <td>145.82</td>\n",
       "    </tr>\n",
       "    <tr>\n",
       "      <td>Sports</td>\n",
       "      <td>198</td>\n",
       "      <td>150.49</td>\n",
       "    </tr>\n",
       "    <tr>\n",
       "      <td>Shooter</td>\n",
       "      <td>183</td>\n",
       "      <td>232.94</td>\n",
       "    </tr>\n",
       "    <tr>\n",
       "      <td>Action</td>\n",
       "      <td>690</td>\n",
       "      <td>321.45</td>\n",
       "    </tr>\n",
       "  </tbody>\n",
       "</table>\n",
       "</div>"
      ],
      "text/plain": [
       "              count  sum_sales\n",
       "genre                         \n",
       "Puzzle           14       3.14\n",
       "Strategy         51      10.03\n",
       "Simulation       54      21.68\n",
       "Adventure       192      23.11\n",
       "Fighting         78      35.29\n",
       "Racing           76      39.80\n",
       "Platform         70      42.59\n",
       "Misc            143      62.70\n",
       "Role-Playing    285     145.82\n",
       "Sports          198     150.49\n",
       "Shooter         183     232.94\n",
       "Action          690     321.45"
      ]
     },
     "execution_count": 61,
     "metadata": {},
     "output_type": "execute_result"
    }
   ],
   "source": [
    "genre_sales = game_df2.pivot_table(\n",
    "    index='genre',\n",
    "    values='sum_sales',\n",
    "    aggfunc=['count','sum']\n",
    ")\n",
    "\n",
    "genre_sales.columns=['count','sum_sales']\n",
    "genre_sales.sort_values(by='sum_sales')"
   ]
  },
  {
   "cell_type": "markdown",
   "metadata": {},
   "source": [
    "Больше всего игр имеют жанры Action, Misc и Sports, но по суммарным продажам на втором месте идёт Shouter благодаря большому количеству игр с большими продажами.  \n",
    "Игры жанра Shooter чаще других продаются количеством более 5 млн копий и их минимальные продажи больше, чем у остальных. \n",
    "\n",
    "Также выделяются игры жанра Adventure. Все выпускаемые игры купили менее 5 миллионов раз, суммарные продажи всего 104 млн копий на 733 игры. В среднем, это по несколько сотен тысячь копий на одну игру. Подобные соотношения имеют Puzzle, Strategy, Fighting, Simulation."
   ]
  },
  {
   "cell_type": "markdown",
   "metadata": {},
   "source": [
    "## Портрет пользователя каждого региона  \n",
    "- Самые популярные платформы (топ-5) в долях продаж.\n",
    "- Самые популярные жанры (топ-5).\n",
    "- Влияет ли рейтинг ESRB на продажи в отдельном регионе?   \n",
    "### Северная Америка"
   ]
  },
  {
   "cell_type": "code",
   "execution_count": 62,
   "metadata": {},
   "outputs": [
    {
     "data": {
      "text/plain": [
       "platform\n",
       "PS4     0.248\n",
       "XOne    0.213\n",
       "X360    0.187\n",
       "PS3     0.145\n",
       "3DS     0.087\n",
       "Name: na_sales, dtype: float64"
      ]
     },
     "execution_count": 62,
     "metadata": {},
     "output_type": "execute_result"
    }
   ],
   "source": [
    "na_platforms = game_df2.groupby('platform')['na_sales'].sum()\n",
    "(na_platforms / na_platforms.sum()).round(3).sort_values(ascending=False).head()"
   ]
  },
  {
   "cell_type": "code",
   "execution_count": 63,
   "metadata": {},
   "outputs": [
    {
     "data": {
      "text/plain": [
       "genre\n",
       "Action          0.288\n",
       "Shooter         0.251\n",
       "Sports          0.149\n",
       "Role-Playing    0.106\n",
       "Misc            0.063\n",
       "Name: na_sales, dtype: float64"
      ]
     },
     "execution_count": 63,
     "metadata": {},
     "output_type": "execute_result"
    }
   ],
   "source": [
    "na_genre = game_df2.groupby('genre')['na_sales'].sum()\n",
    "(na_genre / na_genre.sum()).round(3).sort_values(ascending=False).head()"
   ]
  },
  {
   "cell_type": "code",
   "execution_count": 64,
   "metadata": {
    "scrolled": true
   },
   "outputs": [
    {
     "data": {
      "text/plain": [
       "rating\n",
       "M       0.378\n",
       "NO      0.204\n",
       "E       0.181\n",
       "E10+    0.124\n",
       "T       0.114\n",
       "Name: na_sales, dtype: float64"
      ]
     },
     "execution_count": 64,
     "metadata": {},
     "output_type": "execute_result"
    }
   ],
   "source": [
    "na_rating = game_df2.groupby('rating')['na_sales'].sum()\n",
    "(na_rating / na_rating.sum()).round(3).sort_values(ascending=False).head()"
   ]
  },
  {
   "cell_type": "markdown",
   "metadata": {},
   "source": [
    "### Северная Европа  "
   ]
  },
  {
   "cell_type": "code",
   "execution_count": 65,
   "metadata": {},
   "outputs": [
    {
     "data": {
      "text/plain": [
       "platform\n",
       "PS4     0.360\n",
       "PS3     0.173\n",
       "XOne    0.131\n",
       "X360    0.108\n",
       "3DS     0.079\n",
       "Name: eu_sales, dtype: float64"
      ]
     },
     "execution_count": 65,
     "metadata": {},
     "output_type": "execute_result"
    }
   ],
   "source": [
    "eu_platforms = game_df2.groupby('platform')['eu_sales'].sum()\n",
    "(eu_platforms / eu_platforms.sum()).round(3).sort_values(ascending=False).head()\n"
   ]
  },
  {
   "cell_type": "code",
   "execution_count": 66,
   "metadata": {
    "scrolled": true
   },
   "outputs": [
    {
     "data": {
      "text/plain": [
       "genre\n",
       "Action          0.301\n",
       "Shooter         0.224\n",
       "Sports          0.154\n",
       "Role-Playing    0.094\n",
       "Racing          0.051\n",
       "Name: eu_sales, dtype: float64"
      ]
     },
     "execution_count": 66,
     "metadata": {},
     "output_type": "execute_result"
    }
   ],
   "source": [
    "eu_genre = game_df2.groupby('genre')['eu_sales'].sum()\n",
    "(eu_genre / eu_genre.sum()).round(3).sort_values(ascending=False).head()"
   ]
  },
  {
   "cell_type": "code",
   "execution_count": 67,
   "metadata": {
    "scrolled": false
   },
   "outputs": [
    {
     "data": {
      "text/plain": [
       "rating\n",
       "M       0.371\n",
       "E       0.212\n",
       "NO      0.201\n",
       "E10+    0.109\n",
       "T       0.107\n",
       "Name: eu_sales, dtype: float64"
      ]
     },
     "execution_count": 67,
     "metadata": {},
     "output_type": "execute_result"
    }
   ],
   "source": [
    "eu_rating = game_df2.groupby('rating')['eu_sales'].sum()\n",
    "(eu_rating / eu_rating.sum()).round(3).sort_values(ascending=False).head()"
   ]
  },
  {
   "cell_type": "markdown",
   "metadata": {},
   "source": [
    "### Япония  "
   ]
  },
  {
   "cell_type": "code",
   "execution_count": 68,
   "metadata": {},
   "outputs": [
    {
     "data": {
      "text/plain": [
       "platform\n",
       "3DS     0.484\n",
       "PS3     0.166\n",
       "PSV     0.130\n",
       "PS4     0.114\n",
       "WiiU    0.078\n",
       "Name: jp_sales, dtype: float64"
      ]
     },
     "execution_count": 68,
     "metadata": {},
     "output_type": "execute_result"
    }
   ],
   "source": [
    "jp_platforms = game_df2.groupby('platform')['jp_sales'].sum()\n",
    "(jp_platforms / jp_platforms.sum()).round(3).sort_values(ascending=False).head()\n"
   ]
  },
  {
   "cell_type": "code",
   "execution_count": 69,
   "metadata": {
    "scrolled": false
   },
   "outputs": [
    {
     "data": {
      "text/plain": [
       "genre\n",
       "Role-Playing    0.365\n",
       "Action          0.287\n",
       "Misc            0.065\n",
       "Fighting        0.055\n",
       "Shooter         0.047\n",
       "Name: jp_sales, dtype: float64"
      ]
     },
     "execution_count": 69,
     "metadata": {},
     "output_type": "execute_result"
    }
   ],
   "source": [
    "jp_genre = game_df2.groupby('genre')['jp_sales'].sum()\n",
    "(jp_genre / jp_genre.sum()).round(3).sort_values(ascending=False).head()"
   ]
  },
  {
   "cell_type": "code",
   "execution_count": 70,
   "metadata": {
    "scrolled": false
   },
   "outputs": [
    {
     "data": {
      "text/plain": [
       "rating\n",
       "NO      0.602\n",
       "T       0.147\n",
       "E       0.108\n",
       "M       0.101\n",
       "E10+    0.042\n",
       "Name: jp_sales, dtype: float64"
      ]
     },
     "execution_count": 70,
     "metadata": {},
     "output_type": "execute_result"
    }
   ],
   "source": [
    "jp_rating = game_df2.groupby('rating')['jp_sales'].sum()\n",
    "(jp_rating / jp_rating.sum()).round(3).sort_values(ascending=False).head()"
   ]
  },
  {
   "cell_type": "markdown",
   "metadata": {},
   "source": [
    "Из топа 5 платформ, жанров и рейтинга популярных игр можно сделать вывод, что пользователи из Европы и Северной Америки очень похожи:  \n",
    "\n",
    "- Скорее всего играют на PS3, X360 или Wii в игры жанров Action, Shooter или Sports, с возрастным рейтингом M или E.\n",
    "\n",
    "В Японии игроки больше предпочитают местные платформы 3DS, DS, PS3, PSP и Wii. Самый популярный жанр - Role-Plaing. Чаще всего у игр нет оценки от ассоциации ESRB."
   ]
  },
  {
   "cell_type": "markdown",
   "metadata": {},
   "source": [
    "## Проверка гипотез\n",
    "Нам необходимо проверить гипотезы:  \n",
    "\n",
    "- Средние пользовательские рейтинги платформ Xbox One и PC одинаковые;\n",
    "- Средние пользовательские рейтинги жанров Action (англ. «действие», экшен-игры) и Sports (англ. «спортивные соревнования») разные.\n",
    "\n",
    "### Средние пользовательские рейтинги платформ Xbox One и PC\n",
    "Сформулируем гипотезы:  \n",
    "<b>Нулевая</b> - Средние пользовательские рейтинги платформ Xbox One и PC совпадают.  \n",
    "<b>Альтернативная</b> - Средние пользовательские рейтинги платформ Xbox One и PC различаются."
   ]
  },
  {
   "cell_type": "code",
   "execution_count": 71,
   "metadata": {},
   "outputs": [],
   "source": [
    "user_score_XOne = game_df2.query('platform == \"XOne\"')['user_score'].dropna()"
   ]
  },
  {
   "cell_type": "code",
   "execution_count": 72,
   "metadata": {},
   "outputs": [],
   "source": [
    "user_score_PC = game_df2.query('platform == \"PC\"')['user_score'].dropna()"
   ]
  },
  {
   "cell_type": "code",
   "execution_count": 73,
   "metadata": {},
   "outputs": [
    {
     "data": {
      "text/plain": [
       "count    166.000000\n",
       "mean       6.481928\n",
       "std        1.382501\n",
       "min        1.600000\n",
       "25%        5.700000\n",
       "50%        6.750000\n",
       "75%        7.475000\n",
       "max        9.200000\n",
       "Name: user_score, dtype: float64"
      ]
     },
     "execution_count": 73,
     "metadata": {},
     "output_type": "execute_result"
    }
   ],
   "source": [
    "user_score_XOne.describe()"
   ]
  },
  {
   "cell_type": "code",
   "execution_count": 74,
   "metadata": {},
   "outputs": [
    {
     "data": {
      "text/plain": [
       "count    139.000000\n",
       "mean       6.243165\n",
       "std        1.756481\n",
       "min        1.400000\n",
       "25%        4.950000\n",
       "50%        6.700000\n",
       "75%        7.600000\n",
       "max        9.300000\n",
       "Name: user_score, dtype: float64"
      ]
     },
     "execution_count": 74,
     "metadata": {},
     "output_type": "execute_result"
    }
   ],
   "source": [
    "user_score_PC.describe()"
   ]
  },
  {
   "cell_type": "markdown",
   "metadata": {},
   "source": [
    "Средняя оценка пользователей XOne и PC примерно совпадают. Проведем тест на проверку гипотезы о равенстве среднего двух совокупностей математическими методами.  \n",
    "Стандартное отклонение тарифов слабо различаются, значит при проведении проверки гипотезы на равенство среднего укажем, что дисперсии генеральных совокупностей одинаковые. Установим уровень значимости в 10%."
   ]
  },
  {
   "cell_type": "code",
   "execution_count": 75,
   "metadata": {},
   "outputs": [
    {
     "data": {
      "text/plain": [
       "0.185"
      ]
     },
     "execution_count": 75,
     "metadata": {},
     "output_type": "execute_result"
    }
   ],
   "source": [
    "st.ttest_ind(user_score_XOne,user_score_PC).pvalue.round(3)"
   ]
  },
  {
   "cell_type": "markdown",
   "metadata": {},
   "source": [
    "Вероятность совпадения средних пользовательских рейтингов платформ Xbox One и PC 18,5%. Принимаем нулевую гипотезу.  "
   ]
  },
  {
   "cell_type": "markdown",
   "metadata": {},
   "source": [
    "- \n",
    "\n",
    "### Средние пользовательские рейтинги жанров Action и Sports\n",
    "Сформулируем гипотезы:  \n",
    "<b>Нулевая</b> - Средние пользовательские рейтинги жанров Action и Sports совпадают.  \n",
    "<b>Альтернативная</b> - Средние пользовательские рейтинги жанров Action и Sports различаются."
   ]
  },
  {
   "cell_type": "code",
   "execution_count": 76,
   "metadata": {},
   "outputs": [],
   "source": [
    "user_score_Action = game_df2.query('genre == \"Action\"')['user_score'].dropna()"
   ]
  },
  {
   "cell_type": "code",
   "execution_count": 77,
   "metadata": {},
   "outputs": [],
   "source": [
    "user_score_Sports = game_df2.query('genre == \"Sports\"')['user_score'].dropna()"
   ]
  },
  {
   "cell_type": "code",
   "execution_count": 78,
   "metadata": {},
   "outputs": [
    {
     "data": {
      "text/plain": [
       "count    367.000000\n",
       "mean       6.881471\n",
       "std        1.264948\n",
       "min        2.400000\n",
       "25%        6.350000\n",
       "50%        7.200000\n",
       "75%        7.800000\n",
       "max        9.100000\n",
       "Name: user_score, dtype: float64"
      ]
     },
     "execution_count": 78,
     "metadata": {},
     "output_type": "execute_result"
    }
   ],
   "source": [
    "user_score_Action.describe()"
   ]
  },
  {
   "cell_type": "code",
   "execution_count": 79,
   "metadata": {},
   "outputs": [
    {
     "data": {
      "text/plain": [
       "count    151.000000\n",
       "mean       5.200662\n",
       "std        1.765880\n",
       "min        0.200000\n",
       "25%        4.050000\n",
       "50%        5.500000\n",
       "75%        6.350000\n",
       "max        8.700000\n",
       "Name: user_score, dtype: float64"
      ]
     },
     "execution_count": 79,
     "metadata": {},
     "output_type": "execute_result"
    }
   ],
   "source": [
    "user_score_Sports.describe()"
   ]
  },
  {
   "cell_type": "markdown",
   "metadata": {},
   "source": [
    "Средняя оценка игроков Sports и Action отличаются на 0.7, нельзя точно сказать совпадают ли они. Проведем тест на проверку гипотезы о равенстве среднего двух совокупностей математическими методами.  \n",
    "Стандартное отклонение тарифов слабо различаются, значит при проведении проверки гипотезы на равенство среднего укажем, что дисперсии генеральных совокупностей одинаковые. Установим уровень значимости в 10%."
   ]
  },
  {
   "cell_type": "code",
   "execution_count": 80,
   "metadata": {},
   "outputs": [
    {
     "data": {
      "text/plain": [
       "0.0"
      ]
     },
     "execution_count": 80,
     "metadata": {},
     "output_type": "execute_result"
    }
   ],
   "source": [
    "st.ttest_ind(user_score_Sports,user_score_Action).pvalue.round(5)"
   ]
  },
  {
   "cell_type": "markdown",
   "metadata": {},
   "source": [
    "Вероятность совпадения средних пользовательских рейтингов для данных жанров очень мала. Принимаем альтернативную гипотезу. "
   ]
  },
  {
   "cell_type": "markdown",
   "metadata": {},
   "source": [
    "## Вывод  \n",
    "Определив среднее время жизни платформы, я выделил актуальный для рассмотрения период - с 8 лет. В течение этого времени должны постепенно устареть одни платформы, на их замену должны появиться следующие поколения. Количество миллионов копий игр, проданных для разных платформ за актуальный периуд:"
   ]
  },
  {
   "cell_type": "code",
   "execution_count": 81,
   "metadata": {},
   "outputs": [
    {
     "data": {
      "text/plain": [
       "platform\n",
       "DS        1.54\n",
       "PSP       3.33\n",
       "Wii      13.63\n",
       "PSV      32.45\n",
       "PC       39.51\n",
       "WiiU     64.56\n",
       "X360    136.72\n",
       "3DS     143.02\n",
       "XOne    159.07\n",
       "PS3     181.27\n",
       "PS4     313.94\n",
       "Name: sum_sales, dtype: float64"
      ]
     },
     "execution_count": 81,
     "metadata": {},
     "output_type": "execute_result"
    }
   ],
   "source": [
    "platform_sales"
   ]
  },
  {
   "cell_type": "markdown",
   "metadata": {},
   "source": [
    "Наиболее прибыльные платформы за указанный период: PS3, X360 и WII, но они уже по 11 - 12 лет на рынке. Можно предположить, что следующие поколения тоже будут успешны.  \n",
    "PS4 и XOne показывают неплохие продажи - они всего 4 года на рынке, люди купили копий игр на эти платформы больше, чем на компьютер за 8 лет. А вот  WiiU показывает не очень хорошие результаты. Платформе 5 лет, а количество копий на неё продано в 3 раза меньше, чем на PS4. \n",
    "Также неплохие результаты показывает DS и 3DS, следующее поколение, но последней уже 6 лет, велика вероятность устаревания платформы.\n",
    "Можно сделать вывод:  \n",
    "- Наиболее перспективные платформы - PS4 и XOne.\n",
    "- Возможно интересны 3DS и WiiU.\n",
    "\n",
    "Посмотрим, как часто \"выстреливают\" игры на разных платформах. Как в целом они продаются:"
   ]
  },
  {
   "cell_type": "code",
   "execution_count": 82,
   "metadata": {},
   "outputs": [
    {
     "name": "stderr",
     "output_type": "stream",
     "text": [
      "/opt/conda/lib/python3.7/site-packages/numpy/core/_asarray.py:83: VisibleDeprecationWarning: Creating an ndarray from ragged nested sequences (which is a list-or-tuple of lists-or-tuples-or ndarrays with different lengths or shapes) is deprecated. If you meant to do this, you must specify 'dtype=object' when creating the ndarray\n",
      "  return array(a, dtype, copy=False, order=order)\n"
     ]
    },
    {
     "data": {
      "text/plain": [
       "Text(0, 0.5, 'Количество проданных копий, млн')"
      ]
     },
     "execution_count": 82,
     "metadata": {},
     "output_type": "execute_result"
    },
    {
     "data": {
      "image/png": "[encoded data removed]",
      "text/plain": [
       "<Figure size 720x720 with 1 Axes>"
      ]
     },
     "metadata": {
      "needs_background": "light"
     },
     "output_type": "display_data"
    }
   ],
   "source": [
    "game_df2.boxplot(column='sum_sales',by='platform',figsize=(10,10))\n",
    "plt.title(\"Распределение проданных копий игр для разных платформ\")\n",
    "plt.xlabel(\"Платформы\")\n",
    "plt.ylabel(\"Количество проданных копий, млн\")"
   ]
  },
  {
   "cell_type": "markdown",
   "metadata": {},
   "source": [
    "Из боксплота для разных платформ видно, что наиболее выгодно вкладываться в игры на PS4, потому что именно на этой перспективной платформе чаще попадаются игры с продажами от 5 млн копий. Также стоит взять на заметку платформу 3DS, на ней периодически встречаются очень популярные проекты.\n",
    "\n",
    "### <b>На какие моменты образать внимание, при подборе проектов для рекламной кампании</b>\n",
    "#### <b>Платформа</b>  \n",
    "- Наиболее перспективные платформы - PS4 и XOne.\n",
    "- Возможно интересны 3DS и WiiU.\n",
    "- Лидеры на рынке в последние несколько лет:  PS3, X360,Wii.\n",
    "\n",
    "#### <b>Жанр</b>  \n",
    "- Игры жанра Shouter чаще других продаются количеством более 5 млн копий и их минимальные продажи больше, чем у остальных.   \n",
    "- Наиболее популярный жанр у разработчиков Action, Misc и Sports.\n",
    "- Игры жанра Adventure плохо продаются. Все выпускаемые игры купили менее 4 миллионов раз, суммарные продажи всего 104 млн копий на 733 игры. Подобные соотношения имеют Puzzle, Strategy, Fighting, Simulation."
   ]
  },
  {
   "cell_type": "code",
   "execution_count": 83,
   "metadata": {},
   "outputs": [
    {
     "name": "stderr",
     "output_type": "stream",
     "text": [
      "/opt/conda/lib/python3.7/site-packages/numpy/core/_asarray.py:83: VisibleDeprecationWarning: Creating an ndarray from ragged nested sequences (which is a list-or-tuple of lists-or-tuples-or ndarrays with different lengths or shapes) is deprecated. If you meant to do this, you must specify 'dtype=object' when creating the ndarray\n",
      "  return array(a, dtype, copy=False, order=order)\n"
     ]
    },
    {
     "data": {
      "text/plain": [
       "Text(0, 0.5, 'Количество проданных копий, млн')"
      ]
     },
     "execution_count": 83,
     "metadata": {},
     "output_type": "execute_result"
    },
    {
     "data": {
      "image/png": "[encoded data removed]",
      "text/plain": [
       "<Figure size 576x576 with 1 Axes>"
      ]
     },
     "metadata": {
      "needs_background": "light"
     },
     "output_type": "display_data"
    }
   ],
   "source": [
    "game_df2.query('genre in [\"Shooter\",\"Adventure\"]').boxplot(column='sum_sales',by='genre',figsize=(8,8))\n",
    "plt.title(\"Распределение проданных копий игр для жанров Shooter и Adventure\")\n",
    "plt.xlabel(\"Жанры\")\n",
    "plt.ylabel(\"Количество проданных копий, млн\")"
   ]
  },
  {
   "cell_type": "markdown",
   "metadata": {},
   "source": [
    "#### <b>Оценка критиков</b>  \n",
    "Игры с оценкой критиков больше 80 чаще других хорошо продаются.  \n",
    "Диаграмма, показывающая распределение продаж в зависимости от оценки критиков для перспективных платформ:"
   ]
  },
  {
   "cell_type": "code",
   "execution_count": 84,
   "metadata": {},
   "outputs": [
    {
     "data": {
      "text/plain": [
       "Text(0, 0.5, 'Количество проданных копий, млн')"
      ]
     },
     "execution_count": 84,
     "metadata": {},
     "output_type": "execute_result"
    },
    {
     "data": {
      "image/png": "[encoded data removed]",
      "text/plain": [
       "<Figure size 432x288 with 1 Axes>"
      ]
     },
     "metadata": {
      "needs_background": "light"
     },
     "output_type": "display_data"
    }
   ],
   "source": [
    "game_df2.query('platform in [\"PS4\",\"XOne\"]').plot(x='critic_score', y='sum_sales', kind='scatter')\n",
    "plt.title(\"Зависимость проданных копий игры от оценки критиков на платформах PS4 и XOne\")\n",
    "plt.xlabel(\"Платформы\")\n",
    "plt.ylabel(\"Количество проданных копий, млн\")"
   ]
  },
  {
   "cell_type": "markdown",
   "metadata": {},
   "source": [
    "#### <b>Специфика рынка</b>  \n",
    "- Пользователи из Европы и Северной Америки скорее всего играют на PS3, X360 или Wii в игры жанров Action, Shooter или Sports.\n",
    "- В Японии игроки больше предпочитают местные платформы 3DS, DS, PS3, PSP и Wii. Самый популярный жанр - Role-Plaing."
   ]
  }
 ],
 "metadata": {
  "kernelspec": {
   "display_name": "Python 3",
   "language": "python",
   "name": "python3"
  },
  "language_info": {
   "codemirror_mode": {
    "name": "ipython",
    "version": 3
   },
   "file_extension": ".py",
   "mimetype": "text/x-python",
   "name": "python",
   "nbconvert_exporter": "python",
   "pygments_lexer": "ipython3",
   "version": "3.7.6"
  },
  "toc": {
   "base_numbering": 1,
   "nav_menu": {},
   "number_sections": true,
   "sideBar": true,
   "skip_h1_title": true,
   "title_cell": "Table of Contents",
   "title_sidebar": "Contents",
   "toc_cell": true,
   "toc_position": {},
   "toc_section_display": true,
   "toc_window_display": false
  }
 },
 "nbformat": 4,
 "nbformat_minor": 2
}
