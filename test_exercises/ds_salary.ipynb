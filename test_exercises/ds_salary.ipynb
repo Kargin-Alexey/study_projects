{
 "cells": [
  {
   "cell_type": "markdown",
   "metadata": {},
   "source": [
    "## Тестовое задание\n",
    "\n",
    "При подведении итогов опроса по работе аналитиков данных, который ранее запускали на телеграм-канале было решено использовать в качестве индикатора зарплат в каждой группе использовать некоторый вариант усечённого среднего: сначала все анкетируемые в каждой группе обрезаются по 0.2 и 0.8 квантилям, а затем находится среднее арифметическое."
   ]
  },
  {
   "cell_type": "code",
   "execution_count": 1,
   "metadata": {},
   "outputs": [],
   "source": [
    "import pandas as pd\n",
    "import matplotlib.pyplot as plt\n",
    "import seaborn as sns"
   ]
  },
  {
   "cell_type": "markdown",
   "metadata": {},
   "source": [
    "Импортируем данные. Проверим их качество."
   ]
  },
  {
   "cell_type": "code",
   "execution_count": 2,
   "metadata": {},
   "outputs": [],
   "source": [
    "ds_data = pd.read_excel('C:/Users/Alex/Downloads/test.xlsx')"
   ]
  },
  {
   "cell_type": "code",
   "execution_count": 3,
   "metadata": {},
   "outputs": [
    {
     "data": {
      "text/html": [
       "<div>\n",
       "<style scoped>\n",
       "    .dataframe tbody tr th:only-of-type {\n",
       "        vertical-align: middle;\n",
       "    }\n",
       "\n",
       "    .dataframe tbody tr th {\n",
       "        vertical-align: top;\n",
       "    }\n",
       "\n",
       "    .dataframe thead th {\n",
       "        text-align: right;\n",
       "    }\n",
       "</style>\n",
       "<table border=\"1\" class=\"dataframe\">\n",
       "  <thead>\n",
       "    <tr style=\"text-align: right;\">\n",
       "      <th></th>\n",
       "      <th>id_ds</th>\n",
       "      <th>city</th>\n",
       "      <th>salary</th>\n",
       "    </tr>\n",
       "  </thead>\n",
       "  <tbody>\n",
       "    <tr>\n",
       "      <th>0</th>\n",
       "      <td>1</td>\n",
       "      <td>St.Petersburg</td>\n",
       "      <td>93</td>\n",
       "    </tr>\n",
       "    <tr>\n",
       "      <th>1</th>\n",
       "      <td>2</td>\n",
       "      <td>RU</td>\n",
       "      <td>55</td>\n",
       "    </tr>\n",
       "    <tr>\n",
       "      <th>2</th>\n",
       "      <td>3</td>\n",
       "      <td>Moscow</td>\n",
       "      <td>361</td>\n",
       "    </tr>\n",
       "    <tr>\n",
       "      <th>3</th>\n",
       "      <td>4</td>\n",
       "      <td>Moscow</td>\n",
       "      <td>161</td>\n",
       "    </tr>\n",
       "    <tr>\n",
       "      <th>4</th>\n",
       "      <td>5</td>\n",
       "      <td>St.Petersburg</td>\n",
       "      <td>217</td>\n",
       "    </tr>\n",
       "  </tbody>\n",
       "</table>\n",
       "</div>"
      ],
      "text/plain": [
       "   id_ds           city  salary\n",
       "0      1  St.Petersburg      93\n",
       "1      2             RU      55\n",
       "2      3         Moscow     361\n",
       "3      4         Moscow     161\n",
       "4      5  St.Petersburg     217"
      ]
     },
     "execution_count": 3,
     "metadata": {},
     "output_type": "execute_result"
    }
   ],
   "source": [
    "ds_data.head()"
   ]
  },
  {
   "cell_type": "code",
   "execution_count": 4,
   "metadata": {},
   "outputs": [
    {
     "name": "stdout",
     "output_type": "stream",
     "text": [
      "<class 'pandas.core.frame.DataFrame'>\n",
      "RangeIndex: 1197 entries, 0 to 1196\n",
      "Data columns (total 3 columns):\n",
      " #   Column  Non-Null Count  Dtype \n",
      "---  ------  --------------  ----- \n",
      " 0   id_ds   1197 non-null   int64 \n",
      " 1   city    1197 non-null   object\n",
      " 2   salary  1197 non-null   int64 \n",
      "dtypes: int64(2), object(1)\n",
      "memory usage: 28.2+ KB\n"
     ]
    }
   ],
   "source": [
    "ds_data.info()"
   ]
  },
  {
   "cell_type": "code",
   "execution_count": 5,
   "metadata": {},
   "outputs": [
    {
     "data": {
      "text/plain": [
       "0"
      ]
     },
     "execution_count": 5,
     "metadata": {},
     "output_type": "execute_result"
    }
   ],
   "source": [
    "ds_data.duplicated().sum()"
   ]
  },
  {
   "cell_type": "markdown",
   "metadata": {},
   "source": [
    "В данных нет пропусков и явных дубликтов."
   ]
  },
  {
   "cell_type": "code",
   "execution_count": 6,
   "metadata": {},
   "outputs": [
    {
     "data": {
      "text/plain": [
       "array(['St.Petersburg', 'RU', 'Moscow', 'West', 'exCCCP'], dtype=object)"
      ]
     },
     "execution_count": 6,
     "metadata": {},
     "output_type": "execute_result"
    }
   ],
   "source": [
    "ds_data['city'].unique()"
   ]
  },
  {
   "cell_type": "markdown",
   "metadata": {},
   "source": [
    "Проанализируем зарплаты для разных регионов."
   ]
  },
  {
   "cell_type": "code",
   "execution_count": 7,
   "metadata": {},
   "outputs": [
    {
     "data": {
      "text/html": [
       "<div>\n",
       "<style scoped>\n",
       "    .dataframe tbody tr th:only-of-type {\n",
       "        vertical-align: middle;\n",
       "    }\n",
       "\n",
       "    .dataframe tbody tr th {\n",
       "        vertical-align: top;\n",
       "    }\n",
       "\n",
       "    .dataframe thead th {\n",
       "        text-align: right;\n",
       "    }\n",
       "</style>\n",
       "<table border=\"1\" class=\"dataframe\">\n",
       "  <thead>\n",
       "    <tr style=\"text-align: right;\">\n",
       "      <th></th>\n",
       "      <th>25%</th>\n",
       "      <th>50%</th>\n",
       "      <th>75%</th>\n",
       "      <th>count</th>\n",
       "      <th>max</th>\n",
       "      <th>mean</th>\n",
       "      <th>min</th>\n",
       "      <th>std</th>\n",
       "    </tr>\n",
       "    <tr>\n",
       "      <th>city</th>\n",
       "      <th></th>\n",
       "      <th></th>\n",
       "      <th></th>\n",
       "      <th></th>\n",
       "      <th></th>\n",
       "      <th></th>\n",
       "      <th></th>\n",
       "      <th></th>\n",
       "    </tr>\n",
       "  </thead>\n",
       "  <tbody>\n",
       "    <tr>\n",
       "      <th>Moscow</th>\n",
       "      <td>90.25</td>\n",
       "      <td>185.0</td>\n",
       "      <td>323.50</td>\n",
       "      <td>790.0</td>\n",
       "      <td>553.0</td>\n",
       "      <td>224.915190</td>\n",
       "      <td>30.0</td>\n",
       "      <td>155.770448</td>\n",
       "    </tr>\n",
       "    <tr>\n",
       "      <th>RU</th>\n",
       "      <td>34.00</td>\n",
       "      <td>98.0</td>\n",
       "      <td>267.00</td>\n",
       "      <td>117.0</td>\n",
       "      <td>399.0</td>\n",
       "      <td>145.863248</td>\n",
       "      <td>10.0</td>\n",
       "      <td>132.360395</td>\n",
       "    </tr>\n",
       "    <tr>\n",
       "      <th>St.Petersburg</th>\n",
       "      <td>36.00</td>\n",
       "      <td>99.0</td>\n",
       "      <td>195.50</td>\n",
       "      <td>155.0</td>\n",
       "      <td>326.0</td>\n",
       "      <td>122.922581</td>\n",
       "      <td>10.0</td>\n",
       "      <td>98.173352</td>\n",
       "    </tr>\n",
       "    <tr>\n",
       "      <th>West</th>\n",
       "      <td>32.00</td>\n",
       "      <td>366.0</td>\n",
       "      <td>783.25</td>\n",
       "      <td>60.0</td>\n",
       "      <td>991.0</td>\n",
       "      <td>401.283333</td>\n",
       "      <td>10.0</td>\n",
       "      <td>361.723140</td>\n",
       "    </tr>\n",
       "    <tr>\n",
       "      <th>exCCCP</th>\n",
       "      <td>37.00</td>\n",
       "      <td>69.0</td>\n",
       "      <td>225.50</td>\n",
       "      <td>75.0</td>\n",
       "      <td>388.0</td>\n",
       "      <td>135.666667</td>\n",
       "      <td>11.0</td>\n",
       "      <td>121.167556</td>\n",
       "    </tr>\n",
       "  </tbody>\n",
       "</table>\n",
       "</div>"
      ],
      "text/plain": [
       "                 25%    50%     75%  count    max        mean   min  \\\n",
       "city                                                                  \n",
       "Moscow         90.25  185.0  323.50  790.0  553.0  224.915190  30.0   \n",
       "RU             34.00   98.0  267.00  117.0  399.0  145.863248  10.0   \n",
       "St.Petersburg  36.00   99.0  195.50  155.0  326.0  122.922581  10.0   \n",
       "West           32.00  366.0  783.25   60.0  991.0  401.283333  10.0   \n",
       "exCCCP         37.00   69.0  225.50   75.0  388.0  135.666667  11.0   \n",
       "\n",
       "                      std  \n",
       "city                       \n",
       "Moscow         155.770448  \n",
       "RU             132.360395  \n",
       "St.Petersburg   98.173352  \n",
       "West           361.723140  \n",
       "exCCCP         121.167556  "
      ]
     },
     "execution_count": 7,
     "metadata": {},
     "output_type": "execute_result"
    }
   ],
   "source": [
    "ds_data.pivot_table(values='salary',\n",
    "                   index='city',\n",
    "                   aggfunc='describe')"
   ]
  },
  {
   "cell_type": "markdown",
   "metadata": {},
   "source": [
    "Из таблицы видно, что заплаты в Москве значительно больше, чем в других городах России и СНГ. Особенно в первом квантиле зарплаты самые высокие в выборке.    \n",
    "Расчитаем предложенный вариант усеченного среднего. Не применяя циклы!"
   ]
  },
  {
   "cell_type": "code",
   "execution_count": 8,
   "metadata": {},
   "outputs": [],
   "source": [
    "ds_data.set_index('id_ds',inplace=True,drop=False)"
   ]
  },
  {
   "cell_type": "code",
   "execution_count": 9,
   "metadata": {},
   "outputs": [],
   "source": [
    "def quantile(row):\n",
    "    bin_labels = ['1', '2', '3','4','5' ]\n",
    "    city = row.loc['city']\n",
    "    id_ds = row.loc['id_ds']\n",
    "    quantile_number = pd.qcut(ds_data.query('city == @city')['salary'], q=5, labels=bin_labels)\n",
    "    row['quantile_number'] = quantile_number.loc[id_ds]\n",
    "    \n",
    "    return row"
   ]
  },
  {
   "cell_type": "code",
   "execution_count": 10,
   "metadata": {},
   "outputs": [],
   "source": [
    "ds_data = ds_data.apply(quantile,axis=1)"
   ]
  },
  {
   "cell_type": "code",
   "execution_count": 11,
   "metadata": {},
   "outputs": [
    {
     "data": {
      "text/html": [
       "<div>\n",
       "<style scoped>\n",
       "    .dataframe tbody tr th:only-of-type {\n",
       "        vertical-align: middle;\n",
       "    }\n",
       "\n",
       "    .dataframe tbody tr th {\n",
       "        vertical-align: top;\n",
       "    }\n",
       "\n",
       "    .dataframe thead th {\n",
       "        text-align: right;\n",
       "    }\n",
       "</style>\n",
       "<table border=\"1\" class=\"dataframe\">\n",
       "  <thead>\n",
       "    <tr style=\"text-align: right;\">\n",
       "      <th></th>\n",
       "      <th>id_ds</th>\n",
       "      <th>city</th>\n",
       "      <th>salary</th>\n",
       "      <th>quantile_number</th>\n",
       "    </tr>\n",
       "    <tr>\n",
       "      <th>id_ds</th>\n",
       "      <th></th>\n",
       "      <th></th>\n",
       "      <th></th>\n",
       "      <th></th>\n",
       "    </tr>\n",
       "  </thead>\n",
       "  <tbody>\n",
       "    <tr>\n",
       "      <th>1</th>\n",
       "      <td>1</td>\n",
       "      <td>St.Petersburg</td>\n",
       "      <td>93</td>\n",
       "      <td>3</td>\n",
       "    </tr>\n",
       "    <tr>\n",
       "      <th>2</th>\n",
       "      <td>2</td>\n",
       "      <td>RU</td>\n",
       "      <td>55</td>\n",
       "      <td>3</td>\n",
       "    </tr>\n",
       "    <tr>\n",
       "      <th>3</th>\n",
       "      <td>3</td>\n",
       "      <td>Moscow</td>\n",
       "      <td>361</td>\n",
       "      <td>4</td>\n",
       "    </tr>\n",
       "    <tr>\n",
       "      <th>4</th>\n",
       "      <td>4</td>\n",
       "      <td>Moscow</td>\n",
       "      <td>161</td>\n",
       "      <td>3</td>\n",
       "    </tr>\n",
       "    <tr>\n",
       "      <th>5</th>\n",
       "      <td>5</td>\n",
       "      <td>St.Petersburg</td>\n",
       "      <td>217</td>\n",
       "      <td>4</td>\n",
       "    </tr>\n",
       "  </tbody>\n",
       "</table>\n",
       "</div>"
      ],
      "text/plain": [
       "       id_ds           city  salary quantile_number\n",
       "id_ds                                              \n",
       "1          1  St.Petersburg      93               3\n",
       "2          2             RU      55               3\n",
       "3          3         Moscow     361               4\n",
       "4          4         Moscow     161               3\n",
       "5          5  St.Petersburg     217               4"
      ]
     },
     "execution_count": 11,
     "metadata": {},
     "output_type": "execute_result"
    }
   ],
   "source": [
    "ds_data.head()"
   ]
  },
  {
   "cell_type": "code",
   "execution_count": 12,
   "metadata": {},
   "outputs": [],
   "source": [
    "cut_ds_data = ds_data.query('quantile_number not in [\"1\",\"5\"]').dropna()"
   ]
  },
  {
   "cell_type": "code",
   "execution_count": 13,
   "metadata": {},
   "outputs": [
    {
     "data": {
      "text/html": [
       "<div>\n",
       "<style scoped>\n",
       "    .dataframe tbody tr th:only-of-type {\n",
       "        vertical-align: middle;\n",
       "    }\n",
       "\n",
       "    .dataframe tbody tr th {\n",
       "        vertical-align: top;\n",
       "    }\n",
       "\n",
       "    .dataframe thead th {\n",
       "        text-align: right;\n",
       "    }\n",
       "</style>\n",
       "<table border=\"1\" class=\"dataframe\">\n",
       "  <thead>\n",
       "    <tr style=\"text-align: right;\">\n",
       "      <th></th>\n",
       "      <th>count</th>\n",
       "      <th>mean</th>\n",
       "      <th>std</th>\n",
       "      <th>min</th>\n",
       "      <th>25%</th>\n",
       "      <th>50%</th>\n",
       "      <th>75%</th>\n",
       "      <th>max</th>\n",
       "    </tr>\n",
       "    <tr>\n",
       "      <th>quantile_number</th>\n",
       "      <th></th>\n",
       "      <th></th>\n",
       "      <th></th>\n",
       "      <th></th>\n",
       "      <th></th>\n",
       "      <th></th>\n",
       "      <th></th>\n",
       "      <th></th>\n",
       "    </tr>\n",
       "  </thead>\n",
       "  <tbody>\n",
       "    <tr>\n",
       "      <th>2</th>\n",
       "      <td>237.0</td>\n",
       "      <td>89.345992</td>\n",
       "      <td>41.990497</td>\n",
       "      <td>27.0</td>\n",
       "      <td>45.0</td>\n",
       "      <td>91.0</td>\n",
       "      <td>123.0</td>\n",
       "      <td>158.0</td>\n",
       "    </tr>\n",
       "    <tr>\n",
       "      <th>3</th>\n",
       "      <td>239.0</td>\n",
       "      <td>166.251046</td>\n",
       "      <td>68.049875</td>\n",
       "      <td>49.0</td>\n",
       "      <td>122.5</td>\n",
       "      <td>177.0</td>\n",
       "      <td>195.0</td>\n",
       "      <td>513.0</td>\n",
       "    </tr>\n",
       "    <tr>\n",
       "      <th>4</th>\n",
       "      <td>238.0</td>\n",
       "      <td>286.138655</td>\n",
       "      <td>115.526650</td>\n",
       "      <td>133.0</td>\n",
       "      <td>222.0</td>\n",
       "      <td>268.5</td>\n",
       "      <td>317.0</td>\n",
       "      <td>804.0</td>\n",
       "    </tr>\n",
       "  </tbody>\n",
       "</table>\n",
       "</div>"
      ],
      "text/plain": [
       "                 count        mean         std    min    25%    50%    75%  \\\n",
       "quantile_number                                                              \n",
       "2                237.0   89.345992   41.990497   27.0   45.0   91.0  123.0   \n",
       "3                239.0  166.251046   68.049875   49.0  122.5  177.0  195.0   \n",
       "4                238.0  286.138655  115.526650  133.0  222.0  268.5  317.0   \n",
       "\n",
       "                   max  \n",
       "quantile_number         \n",
       "2                158.0  \n",
       "3                513.0  \n",
       "4                804.0  "
      ]
     },
     "execution_count": 13,
     "metadata": {},
     "output_type": "execute_result"
    }
   ],
   "source": [
    "cut_ds_data.groupby('quantile_number')['salary'].describe()"
   ]
  },
  {
   "cell_type": "markdown",
   "metadata": {},
   "source": [
    "Посчитаем среднее и другие характеристики для усеченных данных."
   ]
  },
  {
   "cell_type": "code",
   "execution_count": 14,
   "metadata": {
    "scrolled": true
   },
   "outputs": [
    {
     "data": {
      "text/html": [
       "<div>\n",
       "<style scoped>\n",
       "    .dataframe tbody tr th:only-of-type {\n",
       "        vertical-align: middle;\n",
       "    }\n",
       "\n",
       "    .dataframe tbody tr th {\n",
       "        vertical-align: top;\n",
       "    }\n",
       "\n",
       "    .dataframe thead th {\n",
       "        text-align: right;\n",
       "    }\n",
       "</style>\n",
       "<table border=\"1\" class=\"dataframe\">\n",
       "  <thead>\n",
       "    <tr style=\"text-align: right;\">\n",
       "      <th></th>\n",
       "      <th>count</th>\n",
       "      <th>mean</th>\n",
       "      <th>std</th>\n",
       "      <th>min</th>\n",
       "      <th>25%</th>\n",
       "      <th>50%</th>\n",
       "      <th>75%</th>\n",
       "      <th>max</th>\n",
       "    </tr>\n",
       "    <tr>\n",
       "      <th>city</th>\n",
       "      <th></th>\n",
       "      <th></th>\n",
       "      <th></th>\n",
       "      <th></th>\n",
       "      <th></th>\n",
       "      <th></th>\n",
       "      <th></th>\n",
       "      <th></th>\n",
       "    </tr>\n",
       "  </thead>\n",
       "  <tbody>\n",
       "    <tr>\n",
       "      <th>Moscow</th>\n",
       "      <td>472.0</td>\n",
       "      <td>197.790254</td>\n",
       "      <td>80.950697</td>\n",
       "      <td>71.0</td>\n",
       "      <td>143.75</td>\n",
       "      <td>185.0</td>\n",
       "      <td>250.25</td>\n",
       "      <td>400.0</td>\n",
       "    </tr>\n",
       "    <tr>\n",
       "      <th>RU</th>\n",
       "      <td>69.0</td>\n",
       "      <td>118.072464</td>\n",
       "      <td>88.087410</td>\n",
       "      <td>30.0</td>\n",
       "      <td>42.00</td>\n",
       "      <td>98.0</td>\n",
       "      <td>187.00</td>\n",
       "      <td>311.0</td>\n",
       "    </tr>\n",
       "    <tr>\n",
       "      <th>St.Petersburg</th>\n",
       "      <td>93.0</td>\n",
       "      <td>105.182796</td>\n",
       "      <td>60.608678</td>\n",
       "      <td>32.0</td>\n",
       "      <td>46.00</td>\n",
       "      <td>99.0</td>\n",
       "      <td>155.00</td>\n",
       "      <td>222.0</td>\n",
       "    </tr>\n",
       "    <tr>\n",
       "      <th>West</th>\n",
       "      <td>36.0</td>\n",
       "      <td>360.666667</td>\n",
       "      <td>284.832181</td>\n",
       "      <td>27.0</td>\n",
       "      <td>44.75</td>\n",
       "      <td>366.0</td>\n",
       "      <td>632.50</td>\n",
       "      <td>804.0</td>\n",
       "    </tr>\n",
       "    <tr>\n",
       "      <th>exCCCP</th>\n",
       "      <td>44.0</td>\n",
       "      <td>107.727273</td>\n",
       "      <td>72.229725</td>\n",
       "      <td>32.0</td>\n",
       "      <td>47.75</td>\n",
       "      <td>80.0</td>\n",
       "      <td>166.50</td>\n",
       "      <td>257.0</td>\n",
       "    </tr>\n",
       "  </tbody>\n",
       "</table>\n",
       "</div>"
      ],
      "text/plain": [
       "               count        mean         std   min     25%    50%     75%  \\\n",
       "city                                                                        \n",
       "Moscow         472.0  197.790254   80.950697  71.0  143.75  185.0  250.25   \n",
       "RU              69.0  118.072464   88.087410  30.0   42.00   98.0  187.00   \n",
       "St.Petersburg   93.0  105.182796   60.608678  32.0   46.00   99.0  155.00   \n",
       "West            36.0  360.666667  284.832181  27.0   44.75  366.0  632.50   \n",
       "exCCCP          44.0  107.727273   72.229725  32.0   47.75   80.0  166.50   \n",
       "\n",
       "                 max  \n",
       "city                  \n",
       "Moscow         400.0  \n",
       "RU             311.0  \n",
       "St.Petersburg  222.0  \n",
       "West           804.0  \n",
       "exCCCP         257.0  "
      ]
     },
     "execution_count": 14,
     "metadata": {},
     "output_type": "execute_result"
    }
   ],
   "source": [
    "pivot_1 = cut_ds_data.groupby('city')['salary'].describe()\n",
    "pivot_1"
   ]
  },
  {
   "cell_type": "code",
   "execution_count": 15,
   "metadata": {},
   "outputs": [
    {
     "data": {
      "text/html": [
       "<div>\n",
       "<style scoped>\n",
       "    .dataframe tbody tr th:only-of-type {\n",
       "        vertical-align: middle;\n",
       "    }\n",
       "\n",
       "    .dataframe tbody tr th {\n",
       "        vertical-align: top;\n",
       "    }\n",
       "\n",
       "    .dataframe thead th {\n",
       "        text-align: right;\n",
       "    }\n",
       "</style>\n",
       "<table border=\"1\" class=\"dataframe\">\n",
       "  <thead>\n",
       "    <tr style=\"text-align: right;\">\n",
       "      <th></th>\n",
       "      <th>count</th>\n",
       "      <th>mean</th>\n",
       "      <th>std</th>\n",
       "      <th>min</th>\n",
       "      <th>25%</th>\n",
       "      <th>50%</th>\n",
       "      <th>75%</th>\n",
       "      <th>max</th>\n",
       "    </tr>\n",
       "    <tr>\n",
       "      <th>city</th>\n",
       "      <th></th>\n",
       "      <th></th>\n",
       "      <th></th>\n",
       "      <th></th>\n",
       "      <th></th>\n",
       "      <th></th>\n",
       "      <th></th>\n",
       "      <th></th>\n",
       "    </tr>\n",
       "  </thead>\n",
       "  <tbody>\n",
       "    <tr>\n",
       "      <th>Moscow</th>\n",
       "      <td>790.0</td>\n",
       "      <td>224.915190</td>\n",
       "      <td>155.770448</td>\n",
       "      <td>30.0</td>\n",
       "      <td>90.25</td>\n",
       "      <td>185.0</td>\n",
       "      <td>323.50</td>\n",
       "      <td>553.0</td>\n",
       "    </tr>\n",
       "    <tr>\n",
       "      <th>RU</th>\n",
       "      <td>117.0</td>\n",
       "      <td>145.863248</td>\n",
       "      <td>132.360395</td>\n",
       "      <td>10.0</td>\n",
       "      <td>34.00</td>\n",
       "      <td>98.0</td>\n",
       "      <td>267.00</td>\n",
       "      <td>399.0</td>\n",
       "    </tr>\n",
       "    <tr>\n",
       "      <th>St.Petersburg</th>\n",
       "      <td>155.0</td>\n",
       "      <td>122.922581</td>\n",
       "      <td>98.173352</td>\n",
       "      <td>10.0</td>\n",
       "      <td>36.00</td>\n",
       "      <td>99.0</td>\n",
       "      <td>195.50</td>\n",
       "      <td>326.0</td>\n",
       "    </tr>\n",
       "    <tr>\n",
       "      <th>West</th>\n",
       "      <td>60.0</td>\n",
       "      <td>401.283333</td>\n",
       "      <td>361.723140</td>\n",
       "      <td>10.0</td>\n",
       "      <td>32.00</td>\n",
       "      <td>366.0</td>\n",
       "      <td>783.25</td>\n",
       "      <td>991.0</td>\n",
       "    </tr>\n",
       "    <tr>\n",
       "      <th>exCCCP</th>\n",
       "      <td>75.0</td>\n",
       "      <td>135.666667</td>\n",
       "      <td>121.167556</td>\n",
       "      <td>11.0</td>\n",
       "      <td>37.00</td>\n",
       "      <td>69.0</td>\n",
       "      <td>225.50</td>\n",
       "      <td>388.0</td>\n",
       "    </tr>\n",
       "  </tbody>\n",
       "</table>\n",
       "</div>"
      ],
      "text/plain": [
       "               count        mean         std   min    25%    50%     75%  \\\n",
       "city                                                                       \n",
       "Moscow         790.0  224.915190  155.770448  30.0  90.25  185.0  323.50   \n",
       "RU             117.0  145.863248  132.360395  10.0  34.00   98.0  267.00   \n",
       "St.Petersburg  155.0  122.922581   98.173352  10.0  36.00   99.0  195.50   \n",
       "West            60.0  401.283333  361.723140  10.0  32.00  366.0  783.25   \n",
       "exCCCP          75.0  135.666667  121.167556  11.0  37.00   69.0  225.50   \n",
       "\n",
       "                 max  \n",
       "city                  \n",
       "Moscow         553.0  \n",
       "RU             399.0  \n",
       "St.Petersburg  326.0  \n",
       "West           991.0  \n",
       "exCCCP         388.0  "
      ]
     },
     "execution_count": 15,
     "metadata": {},
     "output_type": "execute_result"
    }
   ],
   "source": [
    "pivot_2 = ds_data.groupby('city')['salary'].describe()\n",
    "pivot_2"
   ]
  },
  {
   "cell_type": "markdown",
   "metadata": {},
   "source": [
    "Изменение значения расчета среднего и усеченного среднего (в таблице - специальное):"
   ]
  },
  {
   "cell_type": "code",
   "execution_count": 16,
   "metadata": {},
   "outputs": [
    {
     "data": {
      "text/html": [
       "<div>\n",
       "<style scoped>\n",
       "    .dataframe tbody tr th:only-of-type {\n",
       "        vertical-align: middle;\n",
       "    }\n",
       "\n",
       "    .dataframe tbody tr th {\n",
       "        vertical-align: top;\n",
       "    }\n",
       "\n",
       "    .dataframe thead th {\n",
       "        text-align: right;\n",
       "    }\n",
       "</style>\n",
       "<table border=\"1\" class=\"dataframe\">\n",
       "  <thead>\n",
       "    <tr style=\"text-align: right;\">\n",
       "      <th></th>\n",
       "      <th>mean</th>\n",
       "      <th>mean_special</th>\n",
       "    </tr>\n",
       "    <tr>\n",
       "      <th>city</th>\n",
       "      <th></th>\n",
       "      <th></th>\n",
       "    </tr>\n",
       "  </thead>\n",
       "  <tbody>\n",
       "    <tr>\n",
       "      <th>Moscow</th>\n",
       "      <td>197.790254</td>\n",
       "      <td>224.915190</td>\n",
       "    </tr>\n",
       "    <tr>\n",
       "      <th>RU</th>\n",
       "      <td>118.072464</td>\n",
       "      <td>145.863248</td>\n",
       "    </tr>\n",
       "    <tr>\n",
       "      <th>St.Petersburg</th>\n",
       "      <td>105.182796</td>\n",
       "      <td>122.922581</td>\n",
       "    </tr>\n",
       "    <tr>\n",
       "      <th>West</th>\n",
       "      <td>360.666667</td>\n",
       "      <td>401.283333</td>\n",
       "    </tr>\n",
       "    <tr>\n",
       "      <th>exCCCP</th>\n",
       "      <td>107.727273</td>\n",
       "      <td>135.666667</td>\n",
       "    </tr>\n",
       "  </tbody>\n",
       "</table>\n",
       "</div>"
      ],
      "text/plain": [
       "                     mean  mean_special\n",
       "city                                   \n",
       "Moscow         197.790254    224.915190\n",
       "RU             118.072464    145.863248\n",
       "St.Petersburg  105.182796    122.922581\n",
       "West           360.666667    401.283333\n",
       "exCCCP         107.727273    135.666667"
      ]
     },
     "execution_count": 16,
     "metadata": {},
     "output_type": "execute_result"
    }
   ],
   "source": [
    "pivot_1.join(pivot_2,rsuffix='_special')[['mean','mean_special']]"
   ]
  },
  {
   "cell_type": "markdown",
   "metadata": {},
   "source": [
    "Среднее, ожидаемо, сильно сместилось. Так как мы убрали по 20% самых больших и самых маленьких значений. Самые высокие запрплаты в Москве и на Западе."
   ]
  }
 ],
 "metadata": {
  "kernelspec": {
   "display_name": "Python 3",
   "language": "python",
   "name": "python3"
  },
  "language_info": {
   "codemirror_mode": {
    "name": "ipython",
    "version": 3
   },
   "file_extension": ".py",
   "mimetype": "text/x-python",
   "name": "python",
   "nbconvert_exporter": "python",
   "pygments_lexer": "ipython3",
   "version": "3.7.6"
  }
 },
 "nbformat": 4,
 "nbformat_minor": 4
}
